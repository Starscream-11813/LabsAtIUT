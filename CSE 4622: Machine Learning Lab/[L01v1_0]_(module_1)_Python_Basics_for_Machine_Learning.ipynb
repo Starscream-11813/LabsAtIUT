{
  "nbformat": 4,
  "nbformat_minor": 0,
  "metadata": {
    "colab": {
      "name": "[L01v1_0]_(module_1)_Python_Basics_for_Machine_Learning.ipynb",
      "provenance": [],
      "collapsed_sections": []
    },
    "kernelspec": {
      "name": "python3",
      "display_name": "Python 3"
    },
    "language_info": {
      "name": "python"
    }
  },
  "cells": [
    {
      "cell_type": "markdown",
      "metadata": {
        "id": "pSQWRosFv43a"
      },
      "source": [
        "<font color = 'skyblue'>**Basic Python Syntax**</font>\n"
      ]
    },
    {
      "cell_type": "markdown",
      "metadata": {
        "id": "2Pny3qr5u_Ta"
      },
      "source": [
        "<font color = 'lightgreen'>*Commonly used data types*</font><br>\n",
        "\n",
        "*Text*:\tstr <br>\n",
        "*Numeric*:\tint, float, complex <br>\n",
        "*Sequential*:\tlist, tuple, range <br>\n",
        "*Map*:\tdict <br>\n",
        "*Set*:\tset, frozenSet <br>\n",
        "*Boolean*:\tbool <br>\n",
        "*Binary*:\tbytes, byteArray, memoryView"
      ]
    },
    {
      "cell_type": "code",
      "metadata": {
        "colab": {
          "base_uri": "https://localhost:8080/"
        },
        "id": "ynQdZ7yju-fy",
        "outputId": "c688858a-e414-42ec-c02f-87f5474ea645"
      },
      "source": [
        "x = 5 # variable declaration, A variable is created the moment you first assign a value to it.\n",
        "x = \"Tasnim\" \n",
        "print(x)\n",
        "y = 'Tasnim' # x and y is same\n",
        "\n"
      ],
      "execution_count": null,
      "outputs": [
        {
          "output_type": "stream",
          "name": "stdout",
          "text": [
            "Tasnim\n"
          ]
        }
      ]
    },
    {
      "cell_type": "code",
      "metadata": {
        "colab": {
          "base_uri": "https://localhost:8080/"
        },
        "id": "EHfB8zYKdDHi",
        "outputId": "5c26555a-c137-4717-93e6-d7f49c8931b3"
      },
      "source": [
        "#Python allows you to assign values to multiple variables in one line:\n",
        "a, b, c = \"vaiarble1\", \"variable2\", \"varaibel3\"\n",
        "print(a,b,c)\n",
        "\n",
        "#Concatenation:\n",
        "print(\"I am \" + y)\n",
        "print(x + y)"
      ],
      "execution_count": null,
      "outputs": [
        {
          "output_type": "stream",
          "name": "stdout",
          "text": [
            "vaiarble1 variable2 varaibel3\n",
            "I am Tasnim\n",
            "TasnimTasnim\n"
          ]
        }
      ]
    },
    {
      "cell_type": "markdown",
      "metadata": {
        "id": "8bqgWn0swOfY"
      },
      "source": [
        "<font color = 'lightpink'>*Data types and type casting*</font>"
      ]
    },
    {
      "cell_type": "code",
      "metadata": {
        "colab": {
          "base_uri": "https://localhost:8080/"
        },
        "id": "7UVJcuCLxGAa",
        "outputId": "bb9fcf02-d6f7-4951-f41c-72ce672adf6c"
      },
      "source": [
        "print(type(x))\n",
        "\n",
        "x = 1 # int\n",
        "y = 2.8 # float\n",
        "z = 1j # complex\n",
        "\n",
        "#convert from int to float:\n",
        "a = float(x)\n",
        "\n",
        "#convert from float to int:\n",
        "b = int(y)\n",
        "\n",
        "#convert from int to complex:\n",
        "c = complex(x)\n",
        "\n",
        "print(type(a))\n",
        "\n"
      ],
      "execution_count": null,
      "outputs": [
        {
          "output_type": "stream",
          "name": "stdout",
          "text": [
            "<class 'str'>\n",
            "<class 'float'>\n"
          ]
        }
      ]
    },
    {
      "cell_type": "code",
      "metadata": {
        "colab": {
          "base_uri": "https://localhost:8080/"
        },
        "id": "DSA4FWu7dGNo",
        "outputId": "d2dce803-9b48-496c-d578-4522f916ffb3"
      },
      "source": [
        "#casting in python\n",
        "\n",
        "x= int(\"5\")\n",
        "y = str(\"5.0\")\n",
        "print(x,y)"
      ],
      "execution_count": null,
      "outputs": [
        {
          "output_type": "stream",
          "name": "stdout",
          "text": [
            "5 5.0\n"
          ]
        }
      ]
    },
    {
      "cell_type": "markdown",
      "metadata": {
        "id": "-f8g_0E6xx7y"
      },
      "source": [
        "\n",
        "*   <font color = 'lightgreen'>*Random number generation*</font>\n",
        "*   <font color = 'lightgreen'>*Importing library*</font>\n",
        "\n"
      ]
    },
    {
      "cell_type": "code",
      "metadata": {
        "colab": {
          "base_uri": "https://localhost:8080/"
        },
        "id": "T9cxpOiSx7Bp",
        "outputId": "96c55e71-f81a-4e84-edbe-48ebc0cfaadb"
      },
      "source": [
        "import random\n",
        "\n",
        "num = random.random() # Generates a random floating-point number in the interval [0,1)\n",
        "print(num)\n",
        "\n",
        "num = random.randint(10, 20) # Generates a random integer from x to y, including the x and y\n",
        "print(num)"
      ],
      "execution_count": null,
      "outputs": [
        {
          "output_type": "stream",
          "name": "stdout",
          "text": [
            "0.3214650070483376\n",
            "16\n"
          ]
        }
      ]
    },
    {
      "cell_type": "markdown",
      "metadata": {
        "id": "_TX_CjIizZcb"
      },
      "source": [
        "<font color='lightpink'>*Basic string operations*</font>"
      ]
    },
    {
      "cell_type": "code",
      "metadata": {
        "colab": {
          "base_uri": "https://localhost:8080/"
        },
        "id": "kfcJI4U1z0ub",
        "outputId": "b194c904-3d86-4569-e148-778bf869b4fb"
      },
      "source": [
        "# Python strings are zero-indexed\n",
        "\n",
        "str1 = \" Single line string\" # single line\n",
        "str2 = \"\"\" multiline \n",
        " string \"\"\" # multi-line string\n",
        "print(str1)\n",
        "print(str1.strip()) # The strip() method removes any whitespace from the beginning or the end\n",
        "\n",
        "print(str1)\n",
        "print(str2)"
      ],
      "execution_count": null,
      "outputs": [
        {
          "output_type": "stream",
          "name": "stdout",
          "text": [
            " Single line string\n",
            "Single line string\n",
            " Single line string\n",
            " multiline \n",
            " string \n"
          ]
        }
      ]
    },
    {
      "cell_type": "code",
      "metadata": {
        "colab": {
          "base_uri": "https://localhost:8080/"
        },
        "id": "zwQ2ZRbZdNQx",
        "outputId": "40c8d33f-f4f1-4cfb-936c-c8867432f780"
      },
      "source": [
        "sayHi = 'Say HI to Ivan\\'s friend.' # 'Say HI to Ivan's friend' won't work. But, \"say HI to Ivan's friend\" is okay. \n",
        "                                    # '\\' in python is an escape character.\n",
        "print(sayHi)\n",
        "\n",
        "dummy = \"Nationality\"\n",
        "# Like many other popular programming languages, strings in Python are arrays of bytes representing unicode characters.\n",
        "print(dummy[1])\n",
        "\n",
        "# Slicing: You can return a range of characters by using the slice syntax.\n",
        "print(dummy[2:6]) # let 2 is the 1st argument and 6 is the 2nd argument. \n",
        "                 # It will print characters ranging from the 1st argument upto (2nd argument - 1).\n",
        "\n",
        "# Negative Indexing: Use negative indexes to start the slice from the end of the string:\n",
        "print(dummy[-3:-1])"
      ],
      "execution_count": null,
      "outputs": [
        {
          "output_type": "stream",
          "name": "stdout",
          "text": [
            "Say HI to Ivan's friend.\n",
            "a\n",
            "tion\n",
            "it\n"
          ]
        }
      ]
    },
    {
      "cell_type": "code",
      "metadata": {
        "colab": {
          "base_uri": "https://localhost:8080/"
        },
        "id": "7mbTYtjzdRa5",
        "outputId": "74cf62cb-73a4-4174-ed48-afd15035792e"
      },
      "source": [
        "print(len(str1))  #The len() function returns the length of a string:\n",
        " \n",
        "print(str1.lower())\n",
        "print(str1.upper())"
      ],
      "execution_count": null,
      "outputs": [
        {
          "output_type": "stream",
          "name": "stdout",
          "text": [
            "19\n",
            " single line string\n",
            " SINGLE LINE STRING\n"
          ]
        }
      ]
    },
    {
      "cell_type": "markdown",
      "metadata": {
        "id": "zGghrjt98Xwe"
      },
      "source": [
        "<font color = 'orange'>*Operators*</font>"
      ]
    },
    {
      "cell_type": "code",
      "metadata": {
        "colab": {
          "base_uri": "https://localhost:8080/"
        },
        "id": "3pa4Bbdv8sgT",
        "outputId": "75c8446e-cc9c-477d-835f-abec804be8d6"
      },
      "source": [
        "a = 5**3 # exponential\n",
        "print(a)\n",
        "a = 5/3\n",
        "print(a)\n",
        "a = 5//3\n",
        "print(a) # the floor division // rounds the result down to the nearest Integer"
      ],
      "execution_count": null,
      "outputs": [
        {
          "output_type": "stream",
          "name": "stdout",
          "text": [
            "125\n",
            "1.6666666666666667\n",
            "1\n"
          ]
        }
      ]
    },
    {
      "cell_type": "code",
      "metadata": {
        "colab": {
          "base_uri": "https://localhost:8080/"
        },
        "id": "ANCrpbXndVhx",
        "outputId": "6e5ec0ec-5c11-4c64-8539-2b1d706c563e"
      },
      "source": [
        "#identity operators\n",
        "\n",
        "x = [\"apple\", \"banana\"]\n",
        "y = [\"apple\", \"banana\"]\n",
        "z = x\n",
        "\n",
        "print(x is z) # returns True because z is the same object as x\n",
        "\n",
        "print(x is y) # returns False because x is not the same object as y, even if they have the same content\n",
        "\n",
        "print(x == y) # to demonstrate the difference betweeen \"is\" and \"==\": this comparison returns True because x is equal to y\n",
        "\n",
        "print(x is not z) # returns False because z is the same object as x\n",
        "\n",
        "print(x is not y) # returns True because x is not the same object as y, even if they have the same content\n",
        "\n",
        "print(x != y) \n",
        "# to demonstrate the difference betweeen \"is not\" and \"!=\": this comparison returns False because x is equal to y"
      ],
      "execution_count": null,
      "outputs": [
        {
          "output_type": "stream",
          "name": "stdout",
          "text": [
            "True\n",
            "False\n",
            "True\n",
            "False\n",
            "True\n",
            "False\n"
          ]
        }
      ]
    },
    {
      "cell_type": "code",
      "metadata": {
        "id": "Qmt-mqARdZ_A"
      },
      "source": [
        "## membership operator\n",
        "\n",
        "x = [\"apple\", \"banana\"]\n",
        "\n",
        "print(\"pineapple\" not in x)\n",
        "print(\"banana\" in y)\n",
        "\n",
        "# returns True because a sequence with the value \"pineapple\" is not in the list"
      ],
      "execution_count": null,
      "outputs": []
    },
    {
      "cell_type": "markdown",
      "metadata": {
        "id": "hIQ0Vf2E-GE9"
      },
      "source": [
        "<font color = orange>*Collections - Arrays*<br></font>\n",
        "There are four collection data types in the Python programming language. <br>\n",
        "\n",
        "\n",
        "1.   **List**: A collection which is ordered and changeable. Allows duplicate members. Python lists are written with square brackets.\n",
        "2.   **Tuple**: A collection which is ordered and unchangeable. Allows duplicate members. Tuples are written with round brackets.\n",
        "3.   **Set**: A collection which is unordered and unindexed. No duplicate members.\n",
        "4.   **Dictionary**: A collection which is unordered, changeable and indexed. No duplicate members.\n"
      ]
    },
    {
      "cell_type": "markdown",
      "metadata": {
        "id": "IAIwibZW_GGz"
      },
      "source": [
        "*List*"
      ]
    },
    {
      "cell_type": "code",
      "metadata": {
        "colab": {
          "base_uri": "https://localhost:8080/"
        },
        "id": "JmPQXGkv_CPu",
        "outputId": "9f3633dd-a41e-4e38-8a5c-f4fee692b317"
      },
      "source": [
        "thislist = [\"apple\", \"banana\", \"cherry\", \"orange\", \"kiwi\", \"melon\", \"mango\"] # Initializing a list\n",
        "thislist = list((\"apple\", \"banana\", \"cherry\", \"orange\", \"kiwi\", \"melon\", \"mango\")) # Creating list using list constructor\n",
        "print(thislist)\n",
        "print(thislist[2]) # Postive indexing\n",
        "print(thislist[-1]) # Negative indexing\n",
        "print(thislist[1:5]) # The search will start at index 1 (included) and end at index 5 (not included).\n",
        "print(thislist[:5])\n",
        "print(thislist[-4:-1])\n",
        "print(len(thislist)) #length of the list"
      ],
      "execution_count": null,
      "outputs": [
        {
          "output_type": "stream",
          "name": "stdout",
          "text": [
            "['apple', 'banana', 'cherry', 'orange', 'kiwi', 'melon', 'mango']\n",
            "cherry\n",
            "mango\n",
            "['banana', 'cherry', 'orange', 'kiwi']\n",
            "['apple', 'banana', 'cherry', 'orange', 'kiwi']\n",
            "['orange', 'kiwi', 'melon']\n",
            "7\n"
          ]
        }
      ]
    },
    {
      "cell_type": "code",
      "metadata": {
        "colab": {
          "base_uri": "https://localhost:8080/"
        },
        "id": "1JRuqiZ6dgEY",
        "outputId": "3d099315-9f4a-4ce0-ab55-ecd8396f1ae2"
      },
      "source": [
        "thislist.sort() # Sorting the list\n",
        "print(thislist)\n",
        "thislist.reverse() # Reversing the order of the list\n",
        "print(thislist)"
      ],
      "execution_count": null,
      "outputs": [
        {
          "output_type": "stream",
          "name": "stdout",
          "text": [
            "['apple', 'banana', 'cherry', 'kiwi', 'mango', 'melon', 'orange']\n",
            "['orange', 'melon', 'mango', 'kiwi', 'cherry', 'banana', 'apple']\n"
          ]
        }
      ]
    },
    {
      "cell_type": "code",
      "metadata": {
        "colab": {
          "base_uri": "https://localhost:8080/"
        },
        "id": "QClbXpz1dlQA",
        "outputId": "29e91df3-b294-4b68-c225-bf01475058e4"
      },
      "source": [
        "cherryIndex= thislist.index(\"cherry\") # The index() method returns the position at the first occurrence of the specified value.\n",
        "cherryCount = thislist.count(\"cherry\") # Returns the number of elements with the specified value.\n",
        "print(cherryIndex, cherryCount)"
      ],
      "execution_count": null,
      "outputs": [
        {
          "output_type": "stream",
          "name": "stdout",
          "text": [
            "4 1\n"
          ]
        }
      ]
    },
    {
      "cell_type": "code",
      "metadata": {
        "colab": {
          "base_uri": "https://localhost:8080/"
        },
        "id": "cRvmRxuvdqCI",
        "outputId": "9c7ec889-cf78-415a-dd26-9876f4f3f93d"
      },
      "source": [
        "thislist[1]= \"jackfruit\" # Replacing item\n",
        "print(thislist)\n",
        "\n",
        "thislist.insert(1, \"pomegranate\")  # Inserting at a specified position\n",
        "print(f'After inserting at 1 - {thislist}')\n",
        "\n",
        "thislist.append(\"jackfruit\") #insert at the end\n",
        "print(thislist)"
      ],
      "execution_count": null,
      "outputs": [
        {
          "output_type": "stream",
          "name": "stdout",
          "text": [
            "['orange', 'jackfruit', 'mango', 'kiwi', 'cherry', 'banana', 'apple']\n",
            "After inserting at 1 - ['orange', 'pomegranate', 'jackfruit', 'mango', 'kiwi', 'cherry', 'banana', 'apple']\n",
            "['orange', 'pomegranate', 'jackfruit', 'mango', 'kiwi', 'cherry', 'banana', 'apple', 'jackfruit']\n"
          ]
        }
      ]
    },
    {
      "cell_type": "code",
      "metadata": {
        "colab": {
          "base_uri": "https://localhost:8080/"
        },
        "id": "cWZMxlPEdt9a",
        "outputId": "b8f1aaf7-0c16-472c-ea89-fed1789c120b"
      },
      "source": [
        "thislist1 = list(thislist) # Making a copy of the list\n",
        "thislist2 = thislist.copy() #Making a copy of the list\n",
        "\n",
        "thislist.remove(\"jackfruit\") # The remove() method removes the first matching element from the list.\n",
        "print(thislist)\n",
        "thislist.pop(2) # Removing item from specified index\n",
        "print(thislist)\n",
        "thislist.clear() # Empties the item of the list\n",
        "print(thislist)\n",
        "\n",
        "del thislist # Deletes the list"
      ],
      "execution_count": null,
      "outputs": [
        {
          "output_type": "stream",
          "name": "stdout",
          "text": [
            "['orange', 'pomegranate', 'mango', 'kiwi', 'cherry', 'banana', 'apple', 'jackfruit']\n",
            "['orange', 'pomegranate', 'kiwi', 'cherry', 'banana', 'apple', 'jackfruit']\n",
            "[]\n"
          ]
        }
      ]
    },
    {
      "cell_type": "code",
      "metadata": {
        "colab": {
          "base_uri": "https://localhost:8080/"
        },
        "id": "rmT5T2Asdy5B",
        "outputId": "e4719de7-d3af-4d40-9126-fffde5015325"
      },
      "source": [
        "thislist3 = thislist1+ thislist2 # Joining two list\n",
        "print(thislist3)\n",
        "\n",
        "thislist1.extend(thislist2)\n",
        "print(thislist1)"
      ],
      "execution_count": null,
      "outputs": [
        {
          "output_type": "stream",
          "name": "stdout",
          "text": [
            "['orange', 'pomegranate', 'jackfruit', 'mango', 'kiwi', 'cherry', 'banana', 'apple', 'jackfruit', 'orange', 'pomegranate', 'jackfruit', 'mango', 'kiwi', 'cherry', 'banana', 'apple', 'jackfruit']\n",
            "['orange', 'pomegranate', 'jackfruit', 'mango', 'kiwi', 'cherry', 'banana', 'apple', 'jackfruit', 'orange', 'pomegranate', 'jackfruit', 'mango', 'kiwi', 'cherry', 'banana', 'apple', 'jackfruit']\n"
          ]
        }
      ]
    },
    {
      "cell_type": "code",
      "metadata": {
        "colab": {
          "base_uri": "https://localhost:8080/"
        },
        "id": "lIt-LVt-d1dw",
        "outputId": "e12a5e13-9acd-4543-ff8a-0f046c7a1cd9"
      },
      "source": [
        "#Looping Through a List\n",
        "\n",
        "for item in thislist1:\n",
        "  print(item)\n",
        "\n",
        "print('\\n')\n",
        "\n",
        "for i in range (0, len(thislist1)):\n",
        "  print(thislist1[i])\n",
        "\n",
        "# Determining if a specified item is present in a list use the in keyword:\n",
        "if \"apple\" in thislist1:\n",
        "  print(\"yes\")"
      ],
      "execution_count": null,
      "outputs": [
        {
          "output_type": "stream",
          "name": "stdout",
          "text": [
            "orange\n",
            "pomegranate\n",
            "jackfruit\n",
            "mango\n",
            "kiwi\n",
            "cherry\n",
            "banana\n",
            "apple\n",
            "jackfruit\n",
            "orange\n",
            "pomegranate\n",
            "jackfruit\n",
            "mango\n",
            "kiwi\n",
            "cherry\n",
            "banana\n",
            "apple\n",
            "jackfruit\n",
            "\n",
            "\n",
            "orange\n",
            "pomegranate\n",
            "jackfruit\n",
            "mango\n",
            "kiwi\n",
            "cherry\n",
            "banana\n",
            "apple\n",
            "jackfruit\n",
            "orange\n",
            "pomegranate\n",
            "jackfruit\n",
            "mango\n",
            "kiwi\n",
            "cherry\n",
            "banana\n",
            "apple\n",
            "jackfruit\n",
            "yes\n"
          ]
        }
      ]
    },
    {
      "cell_type": "markdown",
      "metadata": {
        "id": "yVTYWKsLBiJ0"
      },
      "source": [
        "*Tuple*"
      ]
    },
    {
      "cell_type": "code",
      "metadata": {
        "colab": {
          "base_uri": "https://localhost:8080/"
        },
        "id": "ax-jHo2uBkyr",
        "outputId": "7430495f-19b2-4569-b152-c9f3878a0654"
      },
      "source": [
        "# Init tuple\n",
        "thistuple = (\"apple\", \"banana\", \"cherry\") \n",
        "thistuple= tuple((\"apple\", \"banana\", \"cherry\"))\n",
        "\n",
        "# Once a tuple is created, you cannot change its values. Tuples are unchangeable, or immutable as it also is called.\n",
        "# But there is a workaround. You can convert the tuple into a list, change the list, and convert the list back into a tuple.\n",
        "\n",
        "y = list(thistuple)\n",
        "y[1]=\"mango\"\n",
        "thistuple = tuple(y)\n",
        "print(thistuple)"
      ],
      "execution_count": null,
      "outputs": [
        {
          "output_type": "stream",
          "name": "stdout",
          "text": [
            "('apple', 'mango', 'cherry')\n"
          ]
        }
      ]
    },
    {
      "cell_type": "code",
      "metadata": {
        "colab": {
          "base_uri": "https://localhost:8080/"
        },
        "id": "HRe5RxPLd92J",
        "outputId": "4de22015-788d-4db3-b31f-25449037bbb3"
      },
      "source": [
        "# Once a tuple is created, you cannot add or remove items.\n",
        "# To create a tuple with only one item, you have add a comma after the item, \n",
        "# unless Python will not recognize the variable as a tuple.\n",
        "\n",
        "one_item_tuple = (\"mango\",)\n",
        "print(one_item_tuple)\n",
        "\n",
        "thistuple1 = (\"apple\")\n",
        "print(type(thistuple1))"
      ],
      "execution_count": null,
      "outputs": [
        {
          "output_type": "stream",
          "name": "stdout",
          "text": [
            "('mango',)\n",
            "<class 'str'>\n"
          ]
        }
      ]
    },
    {
      "cell_type": "code",
      "metadata": {
        "colab": {
          "base_uri": "https://localhost:8080/"
        },
        "id": "_H2yfV9meAmJ",
        "outputId": "fd9eecee-bee3-4602-e232-82f30533b22c"
      },
      "source": [
        "# Concatenating tuple\n",
        "tuple1 = thistuple + one_item_tuple\n",
        "print(tuple1)"
      ],
      "execution_count": null,
      "outputs": [
        {
          "output_type": "stream",
          "name": "stdout",
          "text": [
            "('apple', 'mango', 'cherry', 'mango')\n"
          ]
        }
      ]
    },
    {
      "cell_type": "markdown",
      "metadata": {
        "id": "sZk0mYJsJ7ZW"
      },
      "source": [
        "*Set*"
      ]
    },
    {
      "cell_type": "code",
      "metadata": {
        "id": "57T70nZWKApt",
        "colab": {
          "base_uri": "https://localhost:8080/"
        },
        "outputId": "ca73819b-3ae2-4219-f62f-94d2d098c641"
      },
      "source": [
        "# A set is a collection which is unordered and unindexed. In Python sets are written with curly brackets.\n",
        "thisset = {\"apple\",\"orange\",\"melon\"}\n",
        "thiset = set((\"apple\",\"orange\",\"melon\"))\n",
        "print(thisset)"
      ],
      "execution_count": null,
      "outputs": [
        {
          "output_type": "stream",
          "name": "stdout",
          "text": [
            "{'melon', 'orange', 'apple'}\n"
          ]
        }
      ]
    },
    {
      "cell_type": "code",
      "metadata": {
        "colab": {
          "base_uri": "https://localhost:8080/"
        },
        "id": "mrVqwHDnfajS",
        "outputId": "34bf25a5-f6f6-4dda-fae8-f3dc87589d1a"
      },
      "source": [
        "\n",
        "# You cannot access items in a set by referring to an index, since sets are unordered the items has no index. \n",
        "# But you can loop through the set items using a for loop, or ask if a specified value is present in a set,\n",
        "# by using the in keyword.\n",
        "\n",
        "for x in  thisset:\n",
        "  print(x)\n",
        "\n",
        "# Once a set is created, you cannot change its items, but you can add new items.\n",
        "\n",
        "thisset.add(\"banana\") #insert single items\n",
        "print(thisset)\n",
        "thisset.update([\"jackfruit\",\"cherry\"])\n",
        "print(thisset)"
      ],
      "execution_count": null,
      "outputs": [
        {
          "output_type": "stream",
          "name": "stdout",
          "text": [
            "melon\n",
            "orange\n",
            "apple\n",
            "{'melon', 'orange', 'banana', 'apple'}\n",
            "{'jackfruit', 'melon', 'cherry', 'banana', 'orange', 'apple'}\n"
          ]
        }
      ]
    },
    {
      "cell_type": "code",
      "metadata": {
        "colab": {
          "base_uri": "https://localhost:8080/"
        },
        "id": "dZgJMVbnfeoS",
        "outputId": "52e4771d-ea6d-4f0e-ee9a-4ab390a5b09d"
      },
      "source": [
        "# To remove an item in a set, use the remove(), or the discard() method.\n",
        "thisset.remove(\"orange\")\n",
        "thisset.discard(\"cherry\")\n",
        "print(thisset)\n",
        "\n"
      ],
      "execution_count": null,
      "outputs": [
        {
          "output_type": "stream",
          "name": "stdout",
          "text": [
            "{'jackfruit', 'melon', 'banana', 'apple'}\n"
          ]
        }
      ]
    },
    {
      "cell_type": "code",
      "metadata": {
        "colab": {
          "base_uri": "https://localhost:8080/"
        },
        "id": "iygVTuaufhzB",
        "outputId": "2c383294-0c04-4079-f02a-4f946002412b"
      },
      "source": [
        "# Concatenating two set (union or update)\n",
        "\n",
        "set1 = {\"a\", \"b\" , \"2\"}\n",
        "set2 = {\"1\",\"2\", \"3\"}\n",
        "set3 = set1.union(set2)\n",
        "print(set3)"
      ],
      "execution_count": null,
      "outputs": [
        {
          "output_type": "stream",
          "name": "stdout",
          "text": [
            "{'1', '2', 'b', '3', 'a'}\n"
          ]
        }
      ]
    },
    {
      "cell_type": "code",
      "metadata": {
        "colab": {
          "base_uri": "https://localhost:8080/"
        },
        "id": "hx4dG9NzfkSp",
        "outputId": "3ba33b6f-85a5-4436-da7d-00df32697d41"
      },
      "source": [
        "set1.update(set2) # update() function in set adds elements from a set (passed as an argument) to the set\n",
        "# Update() method takes only a single argument. The single argument can be a set, list, tuples or a dictionary.\n",
        "# It automatically converts into a set and adds to the set. \n",
        "print(set1)\n",
        "\n",
        "# Set difference() Method Return a set that contains the items that only exist in set1, and not in set2\n",
        "z = set1.difference(set2)\n",
        "print(z)\n",
        "\n",
        "# Return a set that contains the items that exist in both set1, and set2:\n",
        "z1 = set1.intersection(set2)\n",
        "print(z1)"
      ],
      "execution_count": null,
      "outputs": [
        {
          "output_type": "stream",
          "name": "stdout",
          "text": [
            "{'1', '2', 'b', '3', 'a'}\n",
            "{'b', 'a'}\n",
            "{'1', '2', '3'}\n"
          ]
        }
      ]
    },
    {
      "cell_type": "markdown",
      "metadata": {
        "id": "jj3Df4ynQbJS"
      },
      "source": [
        "*Dictionary*"
      ]
    },
    {
      "cell_type": "code",
      "metadata": {
        "colab": {
          "base_uri": "https://localhost:8080/"
        },
        "id": "_yemTlIEQf3Z",
        "outputId": "ebbe2257-39df-4a98-a5ae-df76c40b81e6"
      },
      "source": [
        "# A dictionary is a collection which is unordered, changeable and indexed. \n",
        "# In Python, dictionaries are written with curly brackets, and they have keys and values.\n",
        "\n",
        "thisdict= {\n",
        "    \"brand\": \"Ford\",\n",
        "  \"model\": \"Mustang\",\n",
        "  \"year\": 1964\n",
        "}\n",
        "print(thisdict)"
      ],
      "execution_count": null,
      "outputs": [
        {
          "output_type": "stream",
          "name": "stdout",
          "text": [
            "{'brand': 'Ford', 'model': 'Mustang', 'year': 1964}\n"
          ]
        }
      ]
    },
    {
      "cell_type": "code",
      "metadata": {
        "colab": {
          "base_uri": "https://localhost:8080/"
        },
        "id": "x7MWQkY4fpDi",
        "outputId": "4d2834a8-c1a2-463e-f2e4-074c1e6c857b"
      },
      "source": [
        "# Accessing items of dictionary\n",
        "x = thisdict[\"brand\"]\n",
        "y = thisdict[\"model\"]\n",
        "print(x,y)\n",
        "\n",
        "# printing the keys\n",
        "for x in thisdict:\n",
        "  print(x)"
      ],
      "execution_count": null,
      "outputs": [
        {
          "output_type": "stream",
          "name": "stdout",
          "text": [
            "Ford Mustang\n",
            "brand\n",
            "model\n",
            "year\n"
          ]
        }
      ]
    },
    {
      "cell_type": "code",
      "metadata": {
        "colab": {
          "base_uri": "https://localhost:8080/"
        },
        "id": "YGU76XkZfrSJ",
        "outputId": "d61f138d-3663-43af-c452-0b496b01aad0"
      },
      "source": [
        "# printing the values\n",
        "for x in thisdict:\n",
        "  print(thisdict[x])\n",
        "\n",
        "# Change a value\n",
        "thisdict[\"year\"]= 1995\n",
        "\n",
        "print(thisdict)\n",
        "\n",
        "# How can you change the key in a dictionary?"
      ],
      "execution_count": null,
      "outputs": [
        {
          "output_type": "stream",
          "name": "stdout",
          "text": [
            "Ford\n",
            "Mustang\n",
            "1964\n",
            "{'brand': 'Ford', 'model': 'Mustang', 'year': 1995}\n"
          ]
        }
      ]
    },
    {
      "cell_type": "markdown",
      "metadata": {
        "id": "Kc-Bksh4ScNT"
      },
      "source": [
        "<font color = 'orange'>*Conditional statements*</font>"
      ]
    },
    {
      "cell_type": "code",
      "metadata": {
        "colab": {
          "base_uri": "https://localhost:8080/"
        },
        "id": "Q7b2xbGrSjIy",
        "outputId": "d4213ace-1aa9-4c06-a015-2aa09e6f4182"
      },
      "source": [
        "a=0\n",
        "if a<0:\n",
        "  print('a is negative')\n",
        "elif a>0:\n",
        "  print('a is positive')\n",
        "else:\n",
        "  print('a is zero')"
      ],
      "execution_count": null,
      "outputs": [
        {
          "output_type": "stream",
          "name": "stdout",
          "text": [
            "a is zero\n"
          ]
        }
      ]
    },
    {
      "cell_type": "markdown",
      "metadata": {
        "id": "GAyZFSe1RYyb"
      },
      "source": [
        "<font color = 'lightgreen'>*Functions and Scopes*</font>"
      ]
    },
    {
      "cell_type": "code",
      "metadata": {
        "colab": {
          "base_uri": "https://localhost:8080/"
        },
        "id": "_U3PkdBkRnk5",
        "outputId": "9e917207-8d8b-4fc4-a8a4-4b0c26307c9d"
      },
      "source": [
        "# defining a function and a global variable\n",
        "\n",
        "def add(a, b):\n",
        "  global sayHI\n",
        "  sayHI = 'Hello There!'\n",
        "  sayNO = 'NOOOOOOOOOO!'\n",
        "  return a+b\n",
        "\n",
        "print(add(5,2))\n",
        "print(sayHI)\n"
      ],
      "execution_count": null,
      "outputs": [
        {
          "output_type": "stream",
          "name": "stdout",
          "text": [
            "7\n",
            "Hello There!\n"
          ]
        }
      ]
    },
    {
      "cell_type": "markdown",
      "metadata": {
        "id": "F-AkIF0GSxmL"
      },
      "source": [
        "<font color = 'violet'>**Instaling third party libraries**</font>\n",
        "\n",
        "*   NumPy\n",
        "*   Pandas\n",
        "*   Matplotlib\n",
        "*   Seaborn\n",
        "\n"
      ]
    },
    {
      "cell_type": "markdown",
      "metadata": {
        "id": "KZKx9Fj7TNQU"
      },
      "source": [
        "*Installing directly from terminal*"
      ]
    },
    {
      "cell_type": "markdown",
      "metadata": {
        "id": "sDeEQFZbTfj5"
      },
      "source": [
        " **pip** is the standard package manager for Python. It allows you to install and manage additional packages that are not part of the Python standard library."
      ]
    },
    {
      "cell_type": "code",
      "metadata": {
        "colab": {
          "base_uri": "https://localhost:8080/"
        },
        "id": "MLFttT-9TVsa",
        "outputId": "99d6de9b-e8c9-416f-8b84-9429e352b429"
      },
      "source": [
        "!pip install numpy pandas matplotlib seaborn"
      ],
      "execution_count": null,
      "outputs": [
        {
          "output_type": "stream",
          "name": "stdout",
          "text": [
            "Requirement already satisfied: numpy in /usr/local/lib/python3.7/dist-packages (1.19.5)\n",
            "Requirement already satisfied: pandas in /usr/local/lib/python3.7/dist-packages (1.1.5)\n",
            "Requirement already satisfied: matplotlib in /usr/local/lib/python3.7/dist-packages (3.2.2)\n",
            "Requirement already satisfied: seaborn in /usr/local/lib/python3.7/dist-packages (0.11.2)\n",
            "Requirement already satisfied: pytz>=2017.2 in /usr/local/lib/python3.7/dist-packages (from pandas) (2018.9)\n",
            "Requirement already satisfied: python-dateutil>=2.7.3 in /usr/local/lib/python3.7/dist-packages (from pandas) (2.8.2)\n",
            "Requirement already satisfied: six>=1.5 in /usr/local/lib/python3.7/dist-packages (from python-dateutil>=2.7.3->pandas) (1.15.0)\n",
            "Requirement already satisfied: pyparsing!=2.0.4,!=2.1.2,!=2.1.6,>=2.0.1 in /usr/local/lib/python3.7/dist-packages (from matplotlib) (2.4.7)\n",
            "Requirement already satisfied: kiwisolver>=1.0.1 in /usr/local/lib/python3.7/dist-packages (from matplotlib) (1.3.2)\n",
            "Requirement already satisfied: cycler>=0.10 in /usr/local/lib/python3.7/dist-packages (from matplotlib) (0.11.0)\n",
            "Requirement already satisfied: scipy>=1.0 in /usr/local/lib/python3.7/dist-packages (from seaborn) (1.4.1)\n"
          ]
        }
      ]
    },
    {
      "cell_type": "markdown",
      "metadata": {
        "id": "Ut3UyxqxTtDJ"
      },
      "source": [
        "*Installing from text file*"
      ]
    },
    {
      "cell_type": "markdown",
      "metadata": {
        "id": "FP5VRjOmU2lL"
      },
      "source": [
        "Creating a text file in python"
      ]
    },
    {
      "cell_type": "code",
      "metadata": {
        "id": "JfrqTOmlUUrT"
      },
      "source": [
        "requirementsFile = open(\"requirements.txt\",\"w+\")"
      ],
      "execution_count": null,
      "outputs": []
    },
    {
      "cell_type": "code",
      "metadata": {
        "id": "sfJ1yZ8FU1zC"
      },
      "source": [
        "pip install -r /content/requirements.txt"
      ],
      "execution_count": null,
      "outputs": []
    },
    {
      "cell_type": "markdown",
      "metadata": {
        "id": "XOzffMAwVk5K"
      },
      "source": [
        "List of Installed packages"
      ]
    },
    {
      "cell_type": "code",
      "metadata": {
        "colab": {
          "base_uri": "https://localhost:8080/"
        },
        "id": "jaH5a3fhVgU6",
        "outputId": "55bed5a9-e1be-43e5-df42-3b9cb1af46df"
      },
      "source": [
        "!pip list"
      ],
      "execution_count": null,
      "outputs": [
        {
          "output_type": "stream",
          "name": "stdout",
          "text": [
            "Package                       Version\n",
            "----------------------------- --------------\n",
            "absl-py                       0.12.0\n",
            "alabaster                     0.7.12\n",
            "albumentations                0.1.12\n",
            "altair                        4.1.0\n",
            "appdirs                       1.4.4\n",
            "argcomplete                   1.12.3\n",
            "argon2-cffi                   21.1.0\n",
            "arviz                         0.11.4\n",
            "astor                         0.8.1\n",
            "astropy                       4.3.1\n",
            "astunparse                    1.6.3\n",
            "atari-py                      0.2.9\n",
            "atomicwrites                  1.4.0\n",
            "attrs                         21.2.0\n",
            "audioread                     2.1.9\n",
            "autograd                      1.3\n",
            "Babel                         2.9.1\n",
            "backcall                      0.2.0\n",
            "beautifulsoup4                4.6.3\n",
            "bleach                        4.1.0\n",
            "blis                          0.4.1\n",
            "bokeh                         2.3.3\n",
            "Bottleneck                    1.3.2\n",
            "branca                        0.4.2\n",
            "bs4                           0.0.1\n",
            "CacheControl                  0.12.10\n",
            "cached-property               1.5.2\n",
            "cachetools                    4.2.4\n",
            "catalogue                     1.0.0\n",
            "certifi                       2021.10.8\n",
            "cffi                          1.15.0\n",
            "cftime                        1.5.1.1\n",
            "chardet                       3.0.4\n",
            "charset-normalizer            2.0.7\n",
            "click                         7.1.2\n",
            "cloudpickle                   1.3.0\n",
            "cmake                         3.12.0\n",
            "cmdstanpy                     0.9.5\n",
            "colorcet                      2.0.6\n",
            "colorlover                    0.3.0\n",
            "community                     1.0.0b1\n",
            "contextlib2                   0.5.5\n",
            "convertdate                   2.3.2\n",
            "coverage                      3.7.1\n",
            "coveralls                     0.5\n",
            "crcmod                        1.7\n",
            "cufflinks                     0.17.3\n",
            "cvxopt                        1.2.7\n",
            "cvxpy                         1.0.31\n",
            "cycler                        0.11.0\n",
            "cymem                         2.0.6\n",
            "Cython                        0.29.24\n",
            "daft                          0.0.4\n",
            "dask                          2.12.0\n",
            "datascience                   0.10.6\n",
            "debugpy                       1.0.0\n",
            "decorator                     4.4.2\n",
            "defusedxml                    0.7.1\n",
            "descartes                     1.1.0\n",
            "dill                          0.3.4\n",
            "distributed                   1.25.3\n",
            "dlib                          19.18.0\n",
            "dm-tree                       0.1.6\n",
            "docopt                        0.6.2\n",
            "docutils                      0.18\n",
            "dopamine-rl                   1.0.5\n",
            "earthengine-api               0.1.288\n",
            "easydict                      1.9\n",
            "ecos                          2.0.7.post1\n",
            "editdistance                  0.5.3\n",
            "en-core-web-sm                2.2.5\n",
            "entrypoints                   0.3\n",
            "ephem                         4.1\n",
            "et-xmlfile                    1.1.0\n",
            "fa2                           0.3.5\n",
            "fastai                        1.0.61\n",
            "fastdtw                       0.3.4\n",
            "fastprogress                  1.0.0\n",
            "fastrlock                     0.8\n",
            "fbprophet                     0.7.1\n",
            "feather-format                0.4.1\n",
            "filelock                      3.3.2\n",
            "firebase-admin                4.4.0\n",
            "fix-yahoo-finance             0.0.22\n",
            "Flask                         1.1.4\n",
            "flatbuffers                   2.0\n",
            "folium                        0.8.3\n",
            "future                        0.16.0\n",
            "gast                          0.4.0\n",
            "GDAL                          2.2.2\n",
            "gdown                         3.6.4\n",
            "gensim                        3.6.0\n",
            "geographiclib                 1.52\n",
            "geopy                         1.17.0\n",
            "gin-config                    0.5.0\n",
            "glob2                         0.7\n",
            "google                        2.0.3\n",
            "google-api-core               1.26.3\n",
            "google-api-python-client      1.12.8\n",
            "google-auth                   1.35.0\n",
            "google-auth-httplib2          0.0.4\n",
            "google-auth-oauthlib          0.4.6\n",
            "google-cloud-bigquery         1.21.0\n",
            "google-cloud-bigquery-storage 1.1.0\n",
            "google-cloud-core             1.0.3\n",
            "google-cloud-datastore        1.8.0\n",
            "google-cloud-firestore        1.7.0\n",
            "google-cloud-language         1.2.0\n",
            "google-cloud-storage          1.18.1\n",
            "google-cloud-translate        1.5.0\n",
            "google-colab                  1.0.0\n",
            "google-pasta                  0.2.0\n",
            "google-resumable-media        0.4.1\n",
            "googleapis-common-protos      1.53.0\n",
            "googledrivedownloader         0.4\n",
            "graphviz                      0.10.1\n",
            "greenlet                      1.1.2\n",
            "grpcio                        1.41.1\n",
            "gspread                       3.0.1\n",
            "gspread-dataframe             3.0.8\n",
            "gym                           0.17.3\n",
            "h5py                          3.1.0\n",
            "HeapDict                      1.0.1\n",
            "hijri-converter               2.2.2\n",
            "holidays                      0.10.5.2\n",
            "holoviews                     1.14.6\n",
            "html5lib                      1.0.1\n",
            "httpimport                    0.5.18\n",
            "httplib2                      0.17.4\n",
            "httplib2shim                  0.0.3\n",
            "humanize                      0.5.1\n",
            "hyperopt                      0.1.2\n",
            "ideep4py                      2.0.0.post3\n",
            "idna                          2.10\n",
            "imageio                       2.4.1\n",
            "imagesize                     1.3.0\n",
            "imbalanced-learn              0.4.3\n",
            "imblearn                      0.0\n",
            "imgaug                        0.2.9\n",
            "importlib-metadata            4.8.2\n",
            "importlib-resources           5.4.0\n",
            "imutils                       0.5.4\n",
            "inflect                       2.1.0\n",
            "iniconfig                     1.1.1\n",
            "intel-openmp                  2021.4.0\n",
            "intervaltree                  2.1.0\n",
            "ipykernel                     4.10.1\n",
            "ipython                       5.5.0\n",
            "ipython-genutils              0.2.0\n",
            "ipython-sql                   0.3.9\n",
            "ipywidgets                    7.6.5\n",
            "itsdangerous                  1.1.0\n",
            "jax                           0.2.21\n",
            "jaxlib                        0.1.71+cuda111\n",
            "jdcal                         1.4.1\n",
            "jedi                          0.18.0\n",
            "jieba                         0.42.1\n",
            "Jinja2                        2.11.3\n",
            "joblib                        1.1.0\n",
            "jpeg4py                       0.1.4\n",
            "jsonschema                    2.6.0\n",
            "jupyter                       1.0.0\n",
            "jupyter-client                5.3.5\n",
            "jupyter-console               5.2.0\n",
            "jupyter-core                  4.9.1\n",
            "jupyterlab-pygments           0.1.2\n",
            "jupyterlab-widgets            1.0.2\n",
            "kaggle                        1.5.12\n",
            "kapre                         0.3.5\n",
            "keras                         2.7.0\n",
            "Keras-Preprocessing           1.1.2\n",
            "keras-vis                     0.4.1\n",
            "kiwisolver                    1.3.2\n",
            "korean-lunar-calendar         0.2.1\n",
            "libclang                      12.0.0\n",
            "librosa                       0.8.1\n",
            "lightgbm                      2.2.3\n",
            "llvmlite                      0.34.0\n",
            "lmdb                          0.99\n",
            "LunarCalendar                 0.0.9\n",
            "lxml                          4.2.6\n",
            "Markdown                      3.3.4\n",
            "MarkupSafe                    2.0.1\n",
            "matplotlib                    3.2.2\n",
            "matplotlib-inline             0.1.3\n",
            "matplotlib-venn               0.11.6\n",
            "missingno                     0.5.0\n",
            "mistune                       0.8.4\n",
            "mizani                        0.6.0\n",
            "mkl                           2019.0\n",
            "mlxtend                       0.14.0\n",
            "more-itertools                8.10.0\n",
            "moviepy                       0.2.3.5\n",
            "mpmath                        1.2.1\n",
            "msgpack                       1.0.2\n",
            "multiprocess                  0.70.12.2\n",
            "multitasking                  0.0.9\n",
            "murmurhash                    1.0.6\n",
            "music21                       5.5.0\n",
            "natsort                       5.5.0\n",
            "nbclient                      0.5.5\n",
            "nbconvert                     5.6.1\n",
            "nbformat                      5.1.3\n",
            "nest-asyncio                  1.5.1\n",
            "netCDF4                       1.5.8\n",
            "networkx                      2.6.3\n",
            "nibabel                       3.0.2\n",
            "nltk                          3.2.5\n",
            "notebook                      5.3.1\n",
            "numba                         0.51.2\n",
            "numexpr                       2.7.3\n",
            "numpy                         1.19.5\n",
            "nvidia-ml-py3                 7.352.0\n",
            "oauth2client                  4.1.3\n",
            "oauthlib                      3.1.1\n",
            "okgrade                       0.4.3\n",
            "opencv-contrib-python         4.1.2.30\n",
            "opencv-python                 4.1.2.30\n",
            "openpyxl                      2.5.9\n",
            "opt-einsum                    3.3.0\n",
            "osqp                          0.6.2.post0\n",
            "packaging                     21.2\n",
            "palettable                    3.3.0\n",
            "pandas                        1.1.5\n",
            "pandas-datareader             0.9.0\n",
            "pandas-gbq                    0.13.3\n",
            "pandas-profiling              1.4.1\n",
            "pandocfilters                 1.5.0\n",
            "panel                         0.12.1\n",
            "param                         1.12.0\n",
            "parso                         0.8.2\n",
            "pathlib                       1.0.1\n",
            "patsy                         0.5.2\n",
            "pep517                        0.12.0\n",
            "pexpect                       4.8.0\n",
            "pickleshare                   0.7.5\n",
            "Pillow                        7.1.2\n",
            "pip                           21.1.3\n",
            "pip-tools                     6.2.0\n",
            "plac                          1.1.3\n",
            "plotly                        4.4.1\n",
            "plotnine                      0.6.0\n",
            "pluggy                        0.7.1\n",
            "pooch                         1.5.2\n",
            "portpicker                    1.3.9\n",
            "prefetch-generator            1.0.1\n",
            "preshed                       3.0.6\n",
            "prettytable                   2.4.0\n",
            "progressbar2                  3.38.0\n",
            "prometheus-client             0.12.0\n",
            "promise                       2.3\n",
            "prompt-toolkit                1.0.18\n",
            "protobuf                      3.17.3\n",
            "psutil                        5.4.8\n",
            "psycopg2                      2.7.6.1\n",
            "ptyprocess                    0.7.0\n",
            "py                            1.11.0\n",
            "pyarrow                       3.0.0\n",
            "pyasn1                        0.4.8\n",
            "pyasn1-modules                0.2.8\n",
            "pycocotools                   2.0.2\n",
            "pycparser                     2.21\n",
            "pyct                          0.4.8\n",
            "pydata-google-auth            1.2.0\n",
            "pydot                         1.3.0\n",
            "pydot-ng                      2.0.0\n",
            "pydotplus                     2.0.2\n",
            "PyDrive                       1.3.1\n",
            "pyemd                         0.5.1\n",
            "pyerfa                        2.0.0.1\n",
            "pyglet                        1.5.0\n",
            "Pygments                      2.6.1\n",
            "pygobject                     3.26.1\n",
            "pymc3                         3.11.4\n",
            "PyMeeus                       0.5.11\n",
            "pymongo                       3.12.1\n",
            "pymystem3                     0.2.0\n",
            "PyOpenGL                      3.1.5\n",
            "pyparsing                     2.4.7\n",
            "pyrsistent                    0.18.0\n",
            "pysndfile                     1.3.8\n",
            "PySocks                       1.7.1\n",
            "pystan                        2.19.1.1\n",
            "pytest                        3.6.4\n",
            "python-apt                    0.0.0\n",
            "python-chess                  0.23.11\n",
            "python-dateutil               2.8.2\n",
            "python-louvain                0.15\n",
            "python-slugify                5.0.2\n",
            "python-utils                  2.5.6\n",
            "pytz                          2018.9\n",
            "pyviz-comms                   2.1.0\n",
            "PyWavelets                    1.2.0\n",
            "PyYAML                        3.13\n",
            "pyzmq                         22.3.0\n",
            "qdldl                         0.1.5.post0\n",
            "qtconsole                     5.2.0\n",
            "QtPy                          1.11.2\n",
            "regex                         2019.12.20\n",
            "requests                      2.23.0\n",
            "requests-oauthlib             1.3.0\n",
            "resampy                       0.2.2\n",
            "retrying                      1.3.3\n",
            "rpy2                          3.4.5\n",
            "rsa                           4.7.2\n",
            "scikit-image                  0.16.2\n",
            "scikit-learn                  0.22.2.post1\n",
            "scipy                         1.4.1\n",
            "screen-resolution-extra       0.0.0\n",
            "scs                           2.1.4\n",
            "seaborn                       0.11.2\n",
            "semver                        2.13.0\n",
            "Send2Trash                    1.8.0\n",
            "setuptools                    57.4.0\n",
            "setuptools-git                1.2\n",
            "Shapely                       1.8.0\n",
            "simplegeneric                 0.8.1\n",
            "six                           1.15.0\n",
            "sklearn                       0.0\n",
            "sklearn-pandas                1.8.0\n",
            "smart-open                    5.2.1\n",
            "snowballstemmer               2.1.0\n",
            "sortedcontainers              2.4.0\n",
            "SoundFile                     0.10.3.post1\n",
            "spacy                         2.2.4\n",
            "Sphinx                        1.8.5\n",
            "sphinxcontrib-serializinghtml 1.1.5\n",
            "sphinxcontrib-websupport      1.2.4\n",
            "SQLAlchemy                    1.4.26\n",
            "sqlparse                      0.4.2\n",
            "srsly                         1.0.5\n",
            "statsmodels                   0.10.2\n",
            "sympy                         1.7.1\n",
            "tables                        3.4.4\n",
            "tabulate                      0.8.9\n",
            "tblib                         1.7.0\n",
            "tensorboard                   2.7.0\n",
            "tensorboard-data-server       0.6.1\n",
            "tensorboard-plugin-wit        1.8.0\n",
            "tensorflow                    2.7.0\n",
            "tensorflow-datasets           4.0.1\n",
            "tensorflow-estimator          2.7.0\n",
            "tensorflow-gcs-config         2.7.0\n",
            "tensorflow-hub                0.12.0\n",
            "tensorflow-io-gcs-filesystem  0.21.0\n",
            "tensorflow-metadata           1.4.0\n",
            "tensorflow-probability        0.14.1\n",
            "termcolor                     1.1.0\n",
            "terminado                     0.12.1\n",
            "testpath                      0.5.0\n",
            "text-unidecode                1.3\n",
            "textblob                      0.15.3\n",
            "Theano-PyMC                   1.1.2\n",
            "thinc                         7.4.0\n",
            "tifffile                      2021.11.2\n",
            "toml                          0.10.2\n",
            "tomli                         1.2.2\n",
            "toolz                         0.11.2\n",
            "torch                         1.10.0+cu111\n",
            "torchsummary                  1.5.1\n",
            "torchtext                     0.11.0\n",
            "torchvision                   0.11.1+cu111\n",
            "tornado                       5.1.1\n",
            "tqdm                          4.62.3\n",
            "traitlets                     5.1.1\n",
            "tweepy                        3.10.0\n",
            "typeguard                     2.7.1\n",
            "typing-extensions             3.10.0.2\n",
            "tzlocal                       1.5.1\n",
            "uritemplate                   3.0.1\n",
            "urllib3                       1.24.3\n",
            "vega-datasets                 0.9.0\n",
            "wasabi                        0.8.2\n",
            "wcwidth                       0.2.5\n",
            "webencodings                  0.5.1\n",
            "Werkzeug                      1.0.1\n",
            "wheel                         0.37.0\n",
            "widgetsnbextension            3.5.2\n",
            "wordcloud                     1.5.0\n",
            "wrapt                         1.13.3\n",
            "xarray                        0.18.2\n",
            "xgboost                       0.90\n",
            "xkit                          0.0.0\n",
            "xlrd                          1.1.0\n",
            "xlwt                          1.3.0\n",
            "yellowbrick                   0.9.1\n",
            "zict                          2.0.0\n",
            "zipp                          3.6.0\n"
          ]
        }
      ]
    },
    {
      "cell_type": "markdown",
      "metadata": {
        "id": "4MOaeIpdVpZy"
      },
      "source": [
        "<font color = orange> NumPy </font> <br>\n",
        "\n",
        "---\n",
        "\n",
        "\n",
        "The best source to know about any third party library is it's dcumentation.\n",
        "\n",
        "[Numpy Documentation](https://numpy.org/doc/)"
      ]
    },
    {
      "cell_type": "markdown",
      "metadata": {
        "id": "cDLsTEgVWG26"
      },
      "source": [
        "NumPy is a Python library used for working with arrays. NumPy is short for \"Numerical Python\".\n",
        "NumPy aims to provide an array object that is up to 30x faster than traditional Python lists. It is mainly used for large multi-dimensional array and matrix processing."
      ]
    },
    {
      "cell_type": "code",
      "metadata": {
        "id": "8etVSZ3pX9N6",
        "colab": {
          "base_uri": "https://localhost:8080/"
        },
        "outputId": "c6bda12e-8f0d-4b6e-96ab-aaff83d561a3"
      },
      "source": [
        "import numpy as np # importing libraries\n",
        "\n",
        "arr0 = np.array(23)\n",
        "print(arr0)\n",
        "arr1 = np.array([1, 2, 3, 4, 5])\n",
        "print(arr1)\n",
        "arr2 = np.array([[1, 2, 3,5],[4, 5, 6, 8]])\n",
        "print(arr2)"
      ],
      "execution_count": null,
      "outputs": [
        {
          "output_type": "stream",
          "name": "stdout",
          "text": [
            "23\n",
            "[1 2 3 4 5]\n",
            "[[1 2 3 5]\n",
            " [4 5 6 8]]\n"
          ]
        }
      ]
    },
    {
      "cell_type": "code",
      "metadata": {
        "colab": {
          "base_uri": "https://localhost:8080/"
        },
        "id": "Wxj2xAAlfzti",
        "outputId": "6d4e7ab8-307a-499c-f060-deea138832ca"
      },
      "source": [
        "print(arr2.ndim) # no of dimensions\n",
        "print(arr2[1,0])\n",
        "print(arr2[1,-1])\n"
      ],
      "execution_count": null,
      "outputs": [
        {
          "output_type": "stream",
          "name": "stdout",
          "text": [
            "2\n",
            "4\n",
            "8\n"
          ]
        }
      ]
    },
    {
      "cell_type": "code",
      "metadata": {
        "id": "asOsMmNFf29d"
      },
      "source": [
        "#[start:end:step].\n",
        "print(arr2[1,0:2])\n",
        "print(arr2[1,::3])\n",
        "\n",
        "print(arr2.dtype) # data type"
      ],
      "execution_count": null,
      "outputs": []
    },
    {
      "cell_type": "markdown",
      "metadata": {
        "id": "oJTOaNC_94Ig"
      },
      "source": [
        "*Numpy array shapes*"
      ]
    },
    {
      "cell_type": "code",
      "metadata": {
        "colab": {
          "base_uri": "https://localhost:8080/"
        },
        "id": "RjjDFKqx5SIv",
        "outputId": "d00d1b57-ed5b-4293-ee9b-b0244a2d14e7"
      },
      "source": [
        "# NumPy arrays have an attribute called shape that returns a tuple with each index having the number of corresponding elements.\n",
        "\n",
        "print(arr2.shape)\n",
        "print(type(arr2.shape))"
      ],
      "execution_count": null,
      "outputs": [
        {
          "output_type": "stream",
          "name": "stdout",
          "text": [
            "(2, 4)\n",
            "<class 'tuple'>\n",
            "[[ 1  2  3]\n",
            " [ 4  5  6]\n",
            " [ 7  8  9]\n",
            " [10 11 12]]\n",
            "[[[ 1  2]\n",
            "  [ 3  4]\n",
            "  [ 5  6]]\n",
            "\n",
            " [[ 7  8]\n",
            "  [ 9 10]\n",
            "  [11 12]]]\n",
            "[ 1  2  3  4  5  6  7  8  9 10 11 12]\n"
          ]
        }
      ]
    },
    {
      "cell_type": "code",
      "metadata": {
        "id": "MkMVTd2Nf_7E"
      },
      "source": [
        "#Reshaping means changing the shape of an array.\n",
        "#The shape of an array is the number of elements in each dimension.\n",
        "#By reshaping we can add or remove dimensions or change number of elements in each dimension.\n",
        "\n",
        "arr = np.array([1, 2, 3, 4, 5, 6, 7, 8, 9, 10, 11, 12])\n",
        "\n",
        "newarr = arr.reshape(4, 3)\n",
        "print(newarr)\n",
        "newarr1 = arr.reshape(2, 3, 2)\n",
        "print(newarr1)"
      ],
      "execution_count": null,
      "outputs": []
    },
    {
      "cell_type": "code",
      "metadata": {
        "id": "d5JvFsJPgCzp"
      },
      "source": [
        "# Flattening the arrays\n",
        "# Flattening array means converting a multidimensional array into a 1D array.\n",
        "# We can use reshape(-1) to do this.\n",
        "newarr3 = newarr1.reshape(-1)\n",
        "print(newarr3)"
      ],
      "execution_count": null,
      "outputs": []
    },
    {
      "cell_type": "markdown",
      "metadata": {
        "id": "6_vbIrFm-VHw"
      },
      "source": [
        "*Numpy array of Ones and Zeros*"
      ]
    },
    {
      "cell_type": "code",
      "metadata": {
        "colab": {
          "base_uri": "https://localhost:8080/"
        },
        "id": "ctuRPlks-ZAH",
        "outputId": "7c594263-bc11-4b02-d64e-00356ae53794"
      },
      "source": [
        "# The numpy.zeros() function returns a new array of given shape and type, with zeros.\n",
        "rows, cols = 3,4\n",
        "arrayZero = np.zeros([3,3])\n",
        "print(arrayZero)\n",
        "arrayZero2 = np.zeros([rows,cols])\n",
        "print(arrayZero2)\n",
        "\n",
        "arrayOne = np.ones([rows,cols])\n",
        "print(arrayOne)"
      ],
      "execution_count": null,
      "outputs": [
        {
          "output_type": "stream",
          "name": "stdout",
          "text": [
            "[[0. 0. 0.]\n",
            " [0. 0. 0.]\n",
            " [0. 0. 0.]]\n",
            "[[0. 0. 0. 0.]\n",
            " [0. 0. 0. 0.]\n",
            " [0. 0. 0. 0.]]\n",
            "[[1. 1. 1. 1.]\n",
            " [1. 1. 1. 1.]\n",
            " [1. 1. 1. 1.]]\n"
          ]
        }
      ]
    },
    {
      "cell_type": "markdown",
      "metadata": {
        "id": "0TtmUAu2-wwK"
      },
      "source": [
        "*Random numbers with Numpy*"
      ]
    },
    {
      "cell_type": "code",
      "metadata": {
        "colab": {
          "base_uri": "https://localhost:8080/"
        },
        "id": "HIo15ytR-26g",
        "outputId": "0e7356c8-7f18-4028-80b1-7b44e442509b"
      },
      "source": [
        "x = np.random.rand(2,5) # Random numbers between 0 and 1 (Not-Included)\n",
        "print(x)\n",
        "\n",
        "y = np.random.randint(1,20, size = (3,3)) # Random integers within pecified range\n",
        "print(y)\n",
        "\n",
        "z = np.random.randn(2,5)\n",
        "print(z)"
      ],
      "execution_count": null,
      "outputs": [
        {
          "output_type": "stream",
          "name": "stdout",
          "text": [
            "[[0.00838862 0.72104351 0.97594094 0.29939913 0.82774893]\n",
            " [0.62681484 0.5519224  0.42805182 0.85080272 0.40477923]]\n",
            "[[18 16 12]\n",
            " [18  3  8]\n",
            " [ 9  3  7]]\n",
            "[[ 0.80978759 -0.03434314 -0.13366063  1.00697189  0.79808868]\n",
            " [ 0.32127976 -0.13834734  1.33754234  0.38082093 -0.97192715]]\n",
            "[[1. 0. 0. 0. 0.]\n",
            " [0. 1. 0. 0. 0.]\n",
            " [0. 0. 1. 0. 0.]\n",
            " [0. 0. 0. 1. 0.]\n",
            " [0. 0. 0. 0. 1.]]\n",
            "[[1. 0. 0.]\n",
            " [0. 1. 0.]]\n",
            "[[1. 0.]\n",
            " [0. 1.]\n",
            " [0. 0.]]\n",
            "[[1. 0. 0.]\n",
            " [0. 1. 0.]\n",
            " [0. 0. 0.]]\n"
          ]
        }
      ]
    },
    {
      "cell_type": "code",
      "metadata": {
        "id": "LmK1da5_gJXz"
      },
      "source": [
        "a = np.eye(5) # Identity\n",
        "print(a)\n",
        "a1 = np.eye(2, 3)\n",
        "print(a1)"
      ],
      "execution_count": null,
      "outputs": []
    },
    {
      "cell_type": "code",
      "metadata": {
        "id": "Y40p3Dq6gLbB"
      },
      "source": [
        "c = np.transpose(a1)\n",
        "print(c)\n",
        "\n",
        "print(np.matmul(c, np.transpose(c))) # Matrix Mutiplication"
      ],
      "execution_count": null,
      "outputs": []
    },
    {
      "cell_type": "markdown",
      "metadata": {
        "id": "a5TsLap3CFLh"
      },
      "source": [
        "<font color = 'orange'>**Pandas**</font><br>\n",
        "\n",
        "---\n",
        "\n",
        "\n",
        "*pandas* is a Python package providing fast, flexible, and expressive data structures designed to work with relational or labeled data both. It is a fundamental high-level building block for doing practical, real world data analysis in Python.<br>\n",
        "*pandas* is well suited for tabular data with heterogeneously-typed columns, as in an SQL table or Excel spreadsheet."
      ]
    },
    {
      "cell_type": "code",
      "metadata": {
        "id": "PlAX9jQ_IEOf"
      },
      "source": [
        "import pandas as pd # Importing library"
      ],
      "execution_count": null,
      "outputs": []
    },
    {
      "cell_type": "markdown",
      "metadata": {
        "id": "ykc25CmTISku"
      },
      "source": [
        "**DataFrame**<br>\n",
        "A DataFrame is a tabular data structure, encapsulating multiple series like columns in a spreadsheet. Data are stored internally as a 2-dimensional object, but the DataFrame allows us to represent and manipulate higher-dimensional data."
      ]
    },
    {
      "cell_type": "code",
      "metadata": {
        "colab": {
          "base_uri": "https://localhost:8080/",
          "height": 297
        },
        "id": "D8Wwi9aJIVJ9",
        "outputId": "7a1644df-234c-4c64-ea08-94205409e7ee"
      },
      "source": [
        "# Initializing a DataFrame\n",
        "\n",
        "data = pd.DataFrame({'value':[632, 1638, 569, 115, 433, 1130, 754, 555],\n",
        "                     'patient':[1, 1, 1, 1, 2, 2, 2, 2],\n",
        "                     'phylum':['Firmicutes', 'Proteobacteria', 'Actinobacteria', \n",
        "    'Bacteroidetes', 'Firmicutes', 'Proteobacteria', 'Actinobacteria', 'Bacteroidetes']})\n",
        "data\n"
      ],
      "execution_count": null,
      "outputs": [
        {
          "output_type": "execute_result",
          "data": {
            "text/html": [
              "<div>\n",
              "<style scoped>\n",
              "    .dataframe tbody tr th:only-of-type {\n",
              "        vertical-align: middle;\n",
              "    }\n",
              "\n",
              "    .dataframe tbody tr th {\n",
              "        vertical-align: top;\n",
              "    }\n",
              "\n",
              "    .dataframe thead th {\n",
              "        text-align: right;\n",
              "    }\n",
              "</style>\n",
              "<table border=\"1\" class=\"dataframe\">\n",
              "  <thead>\n",
              "    <tr style=\"text-align: right;\">\n",
              "      <th></th>\n",
              "      <th>value</th>\n",
              "      <th>patient</th>\n",
              "      <th>phylum</th>\n",
              "    </tr>\n",
              "  </thead>\n",
              "  <tbody>\n",
              "    <tr>\n",
              "      <th>0</th>\n",
              "      <td>632</td>\n",
              "      <td>1</td>\n",
              "      <td>Firmicutes</td>\n",
              "    </tr>\n",
              "    <tr>\n",
              "      <th>1</th>\n",
              "      <td>1638</td>\n",
              "      <td>1</td>\n",
              "      <td>Proteobacteria</td>\n",
              "    </tr>\n",
              "    <tr>\n",
              "      <th>2</th>\n",
              "      <td>569</td>\n",
              "      <td>1</td>\n",
              "      <td>Actinobacteria</td>\n",
              "    </tr>\n",
              "    <tr>\n",
              "      <th>3</th>\n",
              "      <td>115</td>\n",
              "      <td>1</td>\n",
              "      <td>Bacteroidetes</td>\n",
              "    </tr>\n",
              "    <tr>\n",
              "      <th>4</th>\n",
              "      <td>433</td>\n",
              "      <td>2</td>\n",
              "      <td>Firmicutes</td>\n",
              "    </tr>\n",
              "    <tr>\n",
              "      <th>5</th>\n",
              "      <td>1130</td>\n",
              "      <td>2</td>\n",
              "      <td>Proteobacteria</td>\n",
              "    </tr>\n",
              "    <tr>\n",
              "      <th>6</th>\n",
              "      <td>754</td>\n",
              "      <td>2</td>\n",
              "      <td>Actinobacteria</td>\n",
              "    </tr>\n",
              "    <tr>\n",
              "      <th>7</th>\n",
              "      <td>555</td>\n",
              "      <td>2</td>\n",
              "      <td>Bacteroidetes</td>\n",
              "    </tr>\n",
              "  </tbody>\n",
              "</table>\n",
              "</div>"
            ],
            "text/plain": [
              "   value  patient          phylum\n",
              "0    632        1      Firmicutes\n",
              "1   1638        1  Proteobacteria\n",
              "2    569        1  Actinobacteria\n",
              "3    115        1   Bacteroidetes\n",
              "4    433        2      Firmicutes\n",
              "5   1130        2  Proteobacteria\n",
              "6    754        2  Actinobacteria\n",
              "7    555        2   Bacteroidetes"
            ]
          },
          "metadata": {},
          "execution_count": 12
        }
      ]
    },
    {
      "cell_type": "code",
      "metadata": {
        "colab": {
          "base_uri": "https://localhost:8080/",
          "height": 297
        },
        "id": "iQD0blSTI9K-",
        "outputId": "3ec34a59-547f-4b8d-bbbd-28dbc0d776c4"
      },
      "source": [
        "# We can change the order by indexing them in the order we desire.\n",
        "data = data[['phylum','value','patient']]\n",
        "data"
      ],
      "execution_count": null,
      "outputs": [
        {
          "output_type": "execute_result",
          "data": {
            "text/html": [
              "<div>\n",
              "<style scoped>\n",
              "    .dataframe tbody tr th:only-of-type {\n",
              "        vertical-align: middle;\n",
              "    }\n",
              "\n",
              "    .dataframe tbody tr th {\n",
              "        vertical-align: top;\n",
              "    }\n",
              "\n",
              "    .dataframe thead th {\n",
              "        text-align: right;\n",
              "    }\n",
              "</style>\n",
              "<table border=\"1\" class=\"dataframe\">\n",
              "  <thead>\n",
              "    <tr style=\"text-align: right;\">\n",
              "      <th></th>\n",
              "      <th>phylum</th>\n",
              "      <th>value</th>\n",
              "      <th>patient</th>\n",
              "    </tr>\n",
              "  </thead>\n",
              "  <tbody>\n",
              "    <tr>\n",
              "      <th>0</th>\n",
              "      <td>Firmicutes</td>\n",
              "      <td>632</td>\n",
              "      <td>1</td>\n",
              "    </tr>\n",
              "    <tr>\n",
              "      <th>1</th>\n",
              "      <td>Proteobacteria</td>\n",
              "      <td>1638</td>\n",
              "      <td>1</td>\n",
              "    </tr>\n",
              "    <tr>\n",
              "      <th>2</th>\n",
              "      <td>Actinobacteria</td>\n",
              "      <td>569</td>\n",
              "      <td>1</td>\n",
              "    </tr>\n",
              "    <tr>\n",
              "      <th>3</th>\n",
              "      <td>Bacteroidetes</td>\n",
              "      <td>115</td>\n",
              "      <td>1</td>\n",
              "    </tr>\n",
              "    <tr>\n",
              "      <th>4</th>\n",
              "      <td>Firmicutes</td>\n",
              "      <td>433</td>\n",
              "      <td>2</td>\n",
              "    </tr>\n",
              "    <tr>\n",
              "      <th>5</th>\n",
              "      <td>Proteobacteria</td>\n",
              "      <td>1130</td>\n",
              "      <td>2</td>\n",
              "    </tr>\n",
              "    <tr>\n",
              "      <th>6</th>\n",
              "      <td>Actinobacteria</td>\n",
              "      <td>754</td>\n",
              "      <td>2</td>\n",
              "    </tr>\n",
              "    <tr>\n",
              "      <th>7</th>\n",
              "      <td>Bacteroidetes</td>\n",
              "      <td>555</td>\n",
              "      <td>2</td>\n",
              "    </tr>\n",
              "  </tbody>\n",
              "</table>\n",
              "</div>"
            ],
            "text/plain": [
              "           phylum  value  patient\n",
              "0      Firmicutes    632        1\n",
              "1  Proteobacteria   1638        1\n",
              "2  Actinobacteria    569        1\n",
              "3   Bacteroidetes    115        1\n",
              "4      Firmicutes    433        2\n",
              "5  Proteobacteria   1130        2\n",
              "6  Actinobacteria    754        2\n",
              "7   Bacteroidetes    555        2"
            ]
          },
          "metadata": {},
          "execution_count": 13
        }
      ]
    },
    {
      "cell_type": "code",
      "metadata": {
        "colab": {
          "base_uri": "https://localhost:8080/"
        },
        "id": "ZvPUpzNoIVQG",
        "outputId": "bb115134-705b-4024-97e0-fa92e5327fd3"
      },
      "source": [
        "print(data.columns) # Printing column names\n",
        "print(data.dtypes) # Printing column types\n",
        "print(data['patient']) # Printing single column"
      ],
      "execution_count": null,
      "outputs": [
        {
          "output_type": "stream",
          "name": "stdout",
          "text": [
            "Index(['phylum', 'value', 'patient'], dtype='object')\n",
            "phylum     object\n",
            "value       int64\n",
            "patient     int64\n",
            "dtype: object\n",
            "0    1\n",
            "1    1\n",
            "2    1\n",
            "3    1\n",
            "4    2\n",
            "5    2\n",
            "6    2\n",
            "7    2\n",
            "Name: patient, dtype: int64\n"
          ]
        }
      ]
    },
    {
      "cell_type": "code",
      "metadata": {
        "colab": {
          "base_uri": "https://localhost:8080/"
        },
        "id": "l4tGUUPIJPum",
        "outputId": "034f0708-0ab7-4b55-ac66-37eb3656794b"
      },
      "source": [
        "print(data.iloc[0]) # Printing single row\n",
        "print(len(data)) # Total number of rows"
      ],
      "execution_count": null,
      "outputs": [
        {
          "output_type": "stream",
          "name": "stdout",
          "text": [
            "phylum     Firmicutes\n",
            "value             632\n",
            "patient             1\n",
            "Name: 0, dtype: object\n",
            "8\n"
          ]
        }
      ]
    },
    {
      "cell_type": "code",
      "metadata": {
        "colab": {
          "base_uri": "https://localhost:8080/"
        },
        "id": "2y0XXk07KEf_",
        "outputId": "fc92c69b-5144-4168-e818-8b3542250373"
      },
      "source": [
        "# Iterating DataFrame\n",
        "for i in range(0, len(data)):\n",
        "  print(data.iloc[i])"
      ],
      "execution_count": null,
      "outputs": [
        {
          "output_type": "stream",
          "name": "stdout",
          "text": [
            "phylum     Firmicutes\n",
            "value             632\n",
            "patient             1\n",
            "Name: 0, dtype: object\n",
            "phylum     Proteobacteria\n",
            "value                1638\n",
            "patient                 1\n",
            "Name: 1, dtype: object\n",
            "phylum     Actinobacteria\n",
            "value                 569\n",
            "patient                 1\n",
            "Name: 2, dtype: object\n",
            "phylum     Bacteroidetes\n",
            "value                115\n",
            "patient                1\n",
            "Name: 3, dtype: object\n",
            "phylum     Firmicutes\n",
            "value             433\n",
            "patient             2\n",
            "Name: 4, dtype: object\n",
            "phylum     Proteobacteria\n",
            "value                1130\n",
            "patient                 2\n",
            "Name: 5, dtype: object\n",
            "phylum     Actinobacteria\n",
            "value                 754\n",
            "patient                 2\n",
            "Name: 6, dtype: object\n",
            "phylum     Bacteroidetes\n",
            "value                555\n",
            "patient                2\n",
            "Name: 7, dtype: object\n"
          ]
        }
      ]
    },
    {
      "cell_type": "code",
      "metadata": {
        "colab": {
          "base_uri": "https://localhost:8080/",
          "height": 297
        },
        "id": "BgL5Z3vsKU_P",
        "outputId": "955a3ea9-8e08-49ed-aafb-eb921b67e82c"
      },
      "source": [
        "# An alternative way of initializing a DataFrame is with a list of dictionaries.\n",
        "\n",
        "data = pd.DataFrame([{'patient': 1, 'phylum': 'Firmicutes', 'value': 632},\n",
        "                    {'patient': 1, 'phylum': 'Proteobacteria', 'value': 1638},\n",
        "                    {'patient': 1, 'phylum': 'Actinobacteria', 'value': 569},\n",
        "                    {'patient': 1, 'phylum': 'Bacteroidetes', 'value': 115},\n",
        "                    {'patient': 2, 'phylum': 'Firmicutes', 'value': 433},\n",
        "                    {'patient': 2, 'phylum': 'Proteobacteria', 'value': 1130},\n",
        "                    {'patient': 2, 'phylum': 'Actinobacteria', 'value': 754},\n",
        "                    {'patient': 2, 'phylum': 'Bacteroidetes', 'value': 555}])\n",
        "\n",
        "data"
      ],
      "execution_count": null,
      "outputs": [
        {
          "output_type": "execute_result",
          "data": {
            "text/html": [
              "<div>\n",
              "<style scoped>\n",
              "    .dataframe tbody tr th:only-of-type {\n",
              "        vertical-align: middle;\n",
              "    }\n",
              "\n",
              "    .dataframe tbody tr th {\n",
              "        vertical-align: top;\n",
              "    }\n",
              "\n",
              "    .dataframe thead th {\n",
              "        text-align: right;\n",
              "    }\n",
              "</style>\n",
              "<table border=\"1\" class=\"dataframe\">\n",
              "  <thead>\n",
              "    <tr style=\"text-align: right;\">\n",
              "      <th></th>\n",
              "      <th>patient</th>\n",
              "      <th>phylum</th>\n",
              "      <th>value</th>\n",
              "    </tr>\n",
              "  </thead>\n",
              "  <tbody>\n",
              "    <tr>\n",
              "      <th>0</th>\n",
              "      <td>1</td>\n",
              "      <td>Firmicutes</td>\n",
              "      <td>632</td>\n",
              "    </tr>\n",
              "    <tr>\n",
              "      <th>1</th>\n",
              "      <td>1</td>\n",
              "      <td>Proteobacteria</td>\n",
              "      <td>1638</td>\n",
              "    </tr>\n",
              "    <tr>\n",
              "      <th>2</th>\n",
              "      <td>1</td>\n",
              "      <td>Actinobacteria</td>\n",
              "      <td>569</td>\n",
              "    </tr>\n",
              "    <tr>\n",
              "      <th>3</th>\n",
              "      <td>1</td>\n",
              "      <td>Bacteroidetes</td>\n",
              "      <td>115</td>\n",
              "    </tr>\n",
              "    <tr>\n",
              "      <th>4</th>\n",
              "      <td>2</td>\n",
              "      <td>Firmicutes</td>\n",
              "      <td>433</td>\n",
              "    </tr>\n",
              "    <tr>\n",
              "      <th>5</th>\n",
              "      <td>2</td>\n",
              "      <td>Proteobacteria</td>\n",
              "      <td>1130</td>\n",
              "    </tr>\n",
              "    <tr>\n",
              "      <th>6</th>\n",
              "      <td>2</td>\n",
              "      <td>Actinobacteria</td>\n",
              "      <td>754</td>\n",
              "    </tr>\n",
              "    <tr>\n",
              "      <th>7</th>\n",
              "      <td>2</td>\n",
              "      <td>Bacteroidetes</td>\n",
              "      <td>555</td>\n",
              "    </tr>\n",
              "  </tbody>\n",
              "</table>\n",
              "</div>"
            ],
            "text/plain": [
              "   patient          phylum  value\n",
              "0        1      Firmicutes    632\n",
              "1        1  Proteobacteria   1638\n",
              "2        1  Actinobacteria    569\n",
              "3        1   Bacteroidetes    115\n",
              "4        2      Firmicutes    433\n",
              "5        2  Proteobacteria   1130\n",
              "6        2  Actinobacteria    754\n",
              "7        2   Bacteroidetes    555"
            ]
          },
          "metadata": {},
          "execution_count": 23
        }
      ]
    },
    {
      "cell_type": "code",
      "metadata": {
        "colab": {
          "base_uri": "https://localhost:8080/",
          "height": 402
        },
        "id": "tkmm1W_2Knwe",
        "outputId": "f0e5dc63-9436-4f4e-d354-aa7a6c4c8632"
      },
      "source": [
        "# Each row in a DataFrame is an object. We can change the row data as following.\n",
        "data.patient[0] = 500\n",
        "data"
      ],
      "execution_count": null,
      "outputs": [
        {
          "output_type": "stream",
          "name": "stderr",
          "text": [
            "/usr/local/lib/python3.7/dist-packages/ipykernel_launcher.py:2: SettingWithCopyWarning: \n",
            "A value is trying to be set on a copy of a slice from a DataFrame\n",
            "\n",
            "See the caveats in the documentation: https://pandas.pydata.org/pandas-docs/stable/user_guide/indexing.html#returning-a-view-versus-a-copy\n",
            "  \n"
          ]
        },
        {
          "output_type": "execute_result",
          "data": {
            "text/html": [
              "<div>\n",
              "<style scoped>\n",
              "    .dataframe tbody tr th:only-of-type {\n",
              "        vertical-align: middle;\n",
              "    }\n",
              "\n",
              "    .dataframe tbody tr th {\n",
              "        vertical-align: top;\n",
              "    }\n",
              "\n",
              "    .dataframe thead th {\n",
              "        text-align: right;\n",
              "    }\n",
              "</style>\n",
              "<table border=\"1\" class=\"dataframe\">\n",
              "  <thead>\n",
              "    <tr style=\"text-align: right;\">\n",
              "      <th></th>\n",
              "      <th>patient</th>\n",
              "      <th>phylum</th>\n",
              "      <th>value</th>\n",
              "    </tr>\n",
              "  </thead>\n",
              "  <tbody>\n",
              "    <tr>\n",
              "      <th>0</th>\n",
              "      <td>500</td>\n",
              "      <td>Firmicutes</td>\n",
              "      <td>632</td>\n",
              "    </tr>\n",
              "    <tr>\n",
              "      <th>1</th>\n",
              "      <td>1</td>\n",
              "      <td>Proteobacteria</td>\n",
              "      <td>1638</td>\n",
              "    </tr>\n",
              "    <tr>\n",
              "      <th>2</th>\n",
              "      <td>1</td>\n",
              "      <td>Actinobacteria</td>\n",
              "      <td>569</td>\n",
              "    </tr>\n",
              "    <tr>\n",
              "      <th>3</th>\n",
              "      <td>1</td>\n",
              "      <td>Bacteroidetes</td>\n",
              "      <td>115</td>\n",
              "    </tr>\n",
              "    <tr>\n",
              "      <th>4</th>\n",
              "      <td>2</td>\n",
              "      <td>Firmicutes</td>\n",
              "      <td>433</td>\n",
              "    </tr>\n",
              "    <tr>\n",
              "      <th>5</th>\n",
              "      <td>2</td>\n",
              "      <td>Proteobacteria</td>\n",
              "      <td>1130</td>\n",
              "    </tr>\n",
              "    <tr>\n",
              "      <th>6</th>\n",
              "      <td>2</td>\n",
              "      <td>Actinobacteria</td>\n",
              "      <td>754</td>\n",
              "    </tr>\n",
              "    <tr>\n",
              "      <th>7</th>\n",
              "      <td>2</td>\n",
              "      <td>Bacteroidetes</td>\n",
              "      <td>555</td>\n",
              "    </tr>\n",
              "  </tbody>\n",
              "</table>\n",
              "</div>"
            ],
            "text/plain": [
              "   patient          phylum  value\n",
              "0      500      Firmicutes    632\n",
              "1        1  Proteobacteria   1638\n",
              "2        1  Actinobacteria    569\n",
              "3        1   Bacteroidetes    115\n",
              "4        2      Firmicutes    433\n",
              "5        2  Proteobacteria   1130\n",
              "6        2  Actinobacteria    754\n",
              "7        2   Bacteroidetes    555"
            ]
          },
          "metadata": {},
          "execution_count": 25
        }
      ]
    },
    {
      "cell_type": "code",
      "metadata": {
        "colab": {
          "base_uri": "https://localhost:8080/"
        },
        "id": "6q0FR_n0LWXw",
        "outputId": "1feedb07-6657-4ecc-fc0f-8133c06ea72f"
      },
      "source": [
        "# Copy and Modify\n",
        "\n",
        "patients = data.patient.copy()\n",
        "patients[1] = 200\n",
        "print(data)\n",
        "print(\"---------\")\n",
        "print(patients)"
      ],
      "execution_count": null,
      "outputs": [
        {
          "output_type": "stream",
          "name": "stdout",
          "text": [
            "   patient          phylum  value\n",
            "0      500      Firmicutes    632\n",
            "1        1  Proteobacteria   1638\n",
            "2        1  Actinobacteria    569\n",
            "3        1   Bacteroidetes    115\n",
            "4        2      Firmicutes    433\n",
            "5        2  Proteobacteria   1130\n",
            "6        2  Actinobacteria    754\n",
            "7        2   Bacteroidetes    555\n",
            "---------\n",
            "0    500\n",
            "1    200\n",
            "2      1\n",
            "3      1\n",
            "4      2\n",
            "5      2\n",
            "6      2\n",
            "7      2\n",
            "Name: patient, dtype: int64\n"
          ]
        }
      ]
    },
    {
      "cell_type": "code",
      "metadata": {
        "colab": {
          "base_uri": "https://localhost:8080/",
          "height": 297
        },
        "id": "e1SAqR2_Lvz4",
        "outputId": "83ed989c-8e60-4858-9342-508d96252b27"
      },
      "source": [
        "# Adding a column\n",
        "data['year'] = 2021\n",
        "data"
      ],
      "execution_count": null,
      "outputs": [
        {
          "output_type": "execute_result",
          "data": {
            "text/html": [
              "<div>\n",
              "<style scoped>\n",
              "    .dataframe tbody tr th:only-of-type {\n",
              "        vertical-align: middle;\n",
              "    }\n",
              "\n",
              "    .dataframe tbody tr th {\n",
              "        vertical-align: top;\n",
              "    }\n",
              "\n",
              "    .dataframe thead th {\n",
              "        text-align: right;\n",
              "    }\n",
              "</style>\n",
              "<table border=\"1\" class=\"dataframe\">\n",
              "  <thead>\n",
              "    <tr style=\"text-align: right;\">\n",
              "      <th></th>\n",
              "      <th>patient</th>\n",
              "      <th>phylum</th>\n",
              "      <th>value</th>\n",
              "      <th>year</th>\n",
              "    </tr>\n",
              "  </thead>\n",
              "  <tbody>\n",
              "    <tr>\n",
              "      <th>0</th>\n",
              "      <td>500</td>\n",
              "      <td>Firmicutes</td>\n",
              "      <td>632</td>\n",
              "      <td>2021</td>\n",
              "    </tr>\n",
              "    <tr>\n",
              "      <th>1</th>\n",
              "      <td>1</td>\n",
              "      <td>Proteobacteria</td>\n",
              "      <td>1638</td>\n",
              "      <td>2021</td>\n",
              "    </tr>\n",
              "    <tr>\n",
              "      <th>2</th>\n",
              "      <td>1</td>\n",
              "      <td>Actinobacteria</td>\n",
              "      <td>569</td>\n",
              "      <td>2021</td>\n",
              "    </tr>\n",
              "    <tr>\n",
              "      <th>3</th>\n",
              "      <td>1</td>\n",
              "      <td>Bacteroidetes</td>\n",
              "      <td>115</td>\n",
              "      <td>2021</td>\n",
              "    </tr>\n",
              "    <tr>\n",
              "      <th>4</th>\n",
              "      <td>2</td>\n",
              "      <td>Firmicutes</td>\n",
              "      <td>433</td>\n",
              "      <td>2021</td>\n",
              "    </tr>\n",
              "    <tr>\n",
              "      <th>5</th>\n",
              "      <td>2</td>\n",
              "      <td>Proteobacteria</td>\n",
              "      <td>1130</td>\n",
              "      <td>2021</td>\n",
              "    </tr>\n",
              "    <tr>\n",
              "      <th>6</th>\n",
              "      <td>2</td>\n",
              "      <td>Actinobacteria</td>\n",
              "      <td>754</td>\n",
              "      <td>2021</td>\n",
              "    </tr>\n",
              "    <tr>\n",
              "      <th>7</th>\n",
              "      <td>2</td>\n",
              "      <td>Bacteroidetes</td>\n",
              "      <td>555</td>\n",
              "      <td>2021</td>\n",
              "    </tr>\n",
              "  </tbody>\n",
              "</table>\n",
              "</div>"
            ],
            "text/plain": [
              "   patient          phylum  value  year\n",
              "0      500      Firmicutes    632  2021\n",
              "1        1  Proteobacteria   1638  2021\n",
              "2        1  Actinobacteria    569  2021\n",
              "3        1   Bacteroidetes    115  2021\n",
              "4        2      Firmicutes    433  2021\n",
              "5        2  Proteobacteria   1130  2021\n",
              "6        2  Actinobacteria    754  2021\n",
              "7        2   Bacteroidetes    555  2021"
            ]
          },
          "metadata": {},
          "execution_count": 31
        }
      ]
    },
    {
      "cell_type": "markdown",
      "metadata": {
        "id": "hTn2eg_MN6mC"
      },
      "source": [
        "**Downloading Dataset**"
      ]
    },
    {
      "cell_type": "code",
      "metadata": {
        "id": "zUdaSg6cNpHD",
        "colab": {
          "base_uri": "https://localhost:8080/"
        },
        "outputId": "1b84f190-bc30-409e-87ba-7e82784529e2"
      },
      "source": [
        "!gdown --id 1yniDu31JGo7-Df7Zt9N_9n89i90Ot74W"
      ],
      "execution_count": null,
      "outputs": [
        {
          "output_type": "stream",
          "name": "stdout",
          "text": [
            "Downloading...\n",
            "From: https://drive.google.com/uc?id=1yniDu31JGo7-Df7Zt9N_9n89i90Ot74W\n",
            "To: /content/Titanic - ML from Disaster.zip\n",
            "\r  0% 0.00/33.8k [00:00<?, ?B/s]\r100% 33.8k/33.8k [00:00<00:00, 4.97MB/s]\n"
          ]
        }
      ]
    },
    {
      "cell_type": "markdown",
      "metadata": {
        "id": "74dPUTLJtbio"
      },
      "source": [
        "**Decompressing files**"
      ]
    },
    {
      "cell_type": "code",
      "metadata": {
        "id": "PB9p7rFwtayR",
        "colab": {
          "base_uri": "https://localhost:8080/"
        },
        "outputId": "8c606e36-6461-49d2-84e6-75d6c923cefa"
      },
      "source": [
        "!unzip /content/Titanic-ML_from_Disaster.zip"
      ],
      "execution_count": null,
      "outputs": [
        {
          "output_type": "stream",
          "name": "stdout",
          "text": [
            "Archive:  /content/Titanic-ML_from_Disaster.zip\n",
            "  inflating: test.csv                \n",
            "  inflating: train.csv               \n"
          ]
        }
      ]
    },
    {
      "cell_type": "markdown",
      "metadata": {
        "id": "7gT_nuv6pV9W"
      },
      "source": [
        "Reading from CSV using Pandas"
      ]
    },
    {
      "cell_type": "code",
      "metadata": {
        "id": "vP1v1Olypagu"
      },
      "source": [
        "train = pd.read_csv('/content/train.csv')"
      ],
      "execution_count": null,
      "outputs": []
    },
    {
      "cell_type": "code",
      "metadata": {
        "colab": {
          "base_uri": "https://localhost:8080/",
          "height": 272
        },
        "id": "xCQOgDLopjfc",
        "outputId": "c7429dfa-2a87-4f6e-8e7b-dba047e19c88"
      },
      "source": [
        "# Information about first six rows - Including header\n",
        "train.head()"
      ],
      "execution_count": null,
      "outputs": [
        {
          "output_type": "execute_result",
          "data": {
            "text/html": [
              "<div>\n",
              "<style scoped>\n",
              "    .dataframe tbody tr th:only-of-type {\n",
              "        vertical-align: middle;\n",
              "    }\n",
              "\n",
              "    .dataframe tbody tr th {\n",
              "        vertical-align: top;\n",
              "    }\n",
              "\n",
              "    .dataframe thead th {\n",
              "        text-align: right;\n",
              "    }\n",
              "</style>\n",
              "<table border=\"1\" class=\"dataframe\">\n",
              "  <thead>\n",
              "    <tr style=\"text-align: right;\">\n",
              "      <th></th>\n",
              "      <th>PassengerId</th>\n",
              "      <th>Survived</th>\n",
              "      <th>Pclass</th>\n",
              "      <th>Name</th>\n",
              "      <th>Sex</th>\n",
              "      <th>Age</th>\n",
              "      <th>SibSp</th>\n",
              "      <th>Parch</th>\n",
              "      <th>Ticket</th>\n",
              "      <th>Fare</th>\n",
              "      <th>Cabin</th>\n",
              "      <th>Embarked</th>\n",
              "    </tr>\n",
              "  </thead>\n",
              "  <tbody>\n",
              "    <tr>\n",
              "      <th>0</th>\n",
              "      <td>1</td>\n",
              "      <td>0</td>\n",
              "      <td>3</td>\n",
              "      <td>Braund, Mr. Owen Harris</td>\n",
              "      <td>male</td>\n",
              "      <td>22.0</td>\n",
              "      <td>1</td>\n",
              "      <td>0</td>\n",
              "      <td>A/5 21171</td>\n",
              "      <td>7.2500</td>\n",
              "      <td>NaN</td>\n",
              "      <td>S</td>\n",
              "    </tr>\n",
              "    <tr>\n",
              "      <th>1</th>\n",
              "      <td>2</td>\n",
              "      <td>1</td>\n",
              "      <td>1</td>\n",
              "      <td>Cumings, Mrs. John Bradley (Florence Briggs Th...</td>\n",
              "      <td>female</td>\n",
              "      <td>38.0</td>\n",
              "      <td>1</td>\n",
              "      <td>0</td>\n",
              "      <td>PC 17599</td>\n",
              "      <td>71.2833</td>\n",
              "      <td>C85</td>\n",
              "      <td>C</td>\n",
              "    </tr>\n",
              "    <tr>\n",
              "      <th>2</th>\n",
              "      <td>3</td>\n",
              "      <td>1</td>\n",
              "      <td>3</td>\n",
              "      <td>Heikkinen, Miss. Laina</td>\n",
              "      <td>female</td>\n",
              "      <td>26.0</td>\n",
              "      <td>0</td>\n",
              "      <td>0</td>\n",
              "      <td>STON/O2. 3101282</td>\n",
              "      <td>7.9250</td>\n",
              "      <td>NaN</td>\n",
              "      <td>S</td>\n",
              "    </tr>\n",
              "    <tr>\n",
              "      <th>3</th>\n",
              "      <td>4</td>\n",
              "      <td>1</td>\n",
              "      <td>1</td>\n",
              "      <td>Futrelle, Mrs. Jacques Heath (Lily May Peel)</td>\n",
              "      <td>female</td>\n",
              "      <td>35.0</td>\n",
              "      <td>1</td>\n",
              "      <td>0</td>\n",
              "      <td>113803</td>\n",
              "      <td>53.1000</td>\n",
              "      <td>C123</td>\n",
              "      <td>S</td>\n",
              "    </tr>\n",
              "    <tr>\n",
              "      <th>4</th>\n",
              "      <td>5</td>\n",
              "      <td>0</td>\n",
              "      <td>3</td>\n",
              "      <td>Allen, Mr. William Henry</td>\n",
              "      <td>male</td>\n",
              "      <td>35.0</td>\n",
              "      <td>0</td>\n",
              "      <td>0</td>\n",
              "      <td>373450</td>\n",
              "      <td>8.0500</td>\n",
              "      <td>NaN</td>\n",
              "      <td>S</td>\n",
              "    </tr>\n",
              "  </tbody>\n",
              "</table>\n",
              "</div>"
            ],
            "text/plain": [
              "   PassengerId  Survived  Pclass  ...     Fare Cabin  Embarked\n",
              "0            1         0       3  ...   7.2500   NaN         S\n",
              "1            2         1       1  ...  71.2833   C85         C\n",
              "2            3         1       3  ...   7.9250   NaN         S\n",
              "3            4         1       1  ...  53.1000  C123         S\n",
              "4            5         0       3  ...   8.0500   NaN         S\n",
              "\n",
              "[5 rows x 12 columns]"
            ]
          },
          "metadata": {},
          "execution_count": 45
        }
      ]
    },
    {
      "cell_type": "code",
      "metadata": {
        "colab": {
          "base_uri": "https://localhost:8080/",
          "height": 538
        },
        "id": "E9m1LpNQprH9",
        "outputId": "1264f80b-8187-4d35-c0e9-236232012198"
      },
      "source": [
        "# Condition on column values\n",
        "new_train = train[(train.Age>30) & (train.Survived==1)]\n",
        "new_train"
      ],
      "execution_count": null,
      "outputs": [
        {
          "output_type": "execute_result",
          "data": {
            "text/html": [
              "<div>\n",
              "<style scoped>\n",
              "    .dataframe tbody tr th:only-of-type {\n",
              "        vertical-align: middle;\n",
              "    }\n",
              "\n",
              "    .dataframe tbody tr th {\n",
              "        vertical-align: top;\n",
              "    }\n",
              "\n",
              "    .dataframe thead th {\n",
              "        text-align: right;\n",
              "    }\n",
              "</style>\n",
              "<table border=\"1\" class=\"dataframe\">\n",
              "  <thead>\n",
              "    <tr style=\"text-align: right;\">\n",
              "      <th></th>\n",
              "      <th>PassengerId</th>\n",
              "      <th>Survived</th>\n",
              "      <th>Pclass</th>\n",
              "      <th>Name</th>\n",
              "      <th>Sex</th>\n",
              "      <th>Age</th>\n",
              "      <th>SibSp</th>\n",
              "      <th>Parch</th>\n",
              "      <th>Ticket</th>\n",
              "      <th>Fare</th>\n",
              "      <th>Cabin</th>\n",
              "      <th>Embarked</th>\n",
              "    </tr>\n",
              "  </thead>\n",
              "  <tbody>\n",
              "    <tr>\n",
              "      <th>1</th>\n",
              "      <td>2</td>\n",
              "      <td>1</td>\n",
              "      <td>1</td>\n",
              "      <td>Cumings, Mrs. John Bradley (Florence Briggs Th...</td>\n",
              "      <td>female</td>\n",
              "      <td>38.0</td>\n",
              "      <td>1</td>\n",
              "      <td>0</td>\n",
              "      <td>PC 17599</td>\n",
              "      <td>71.2833</td>\n",
              "      <td>C85</td>\n",
              "      <td>C</td>\n",
              "    </tr>\n",
              "    <tr>\n",
              "      <th>3</th>\n",
              "      <td>4</td>\n",
              "      <td>1</td>\n",
              "      <td>1</td>\n",
              "      <td>Futrelle, Mrs. Jacques Heath (Lily May Peel)</td>\n",
              "      <td>female</td>\n",
              "      <td>35.0</td>\n",
              "      <td>1</td>\n",
              "      <td>0</td>\n",
              "      <td>113803</td>\n",
              "      <td>53.1000</td>\n",
              "      <td>C123</td>\n",
              "      <td>S</td>\n",
              "    </tr>\n",
              "    <tr>\n",
              "      <th>11</th>\n",
              "      <td>12</td>\n",
              "      <td>1</td>\n",
              "      <td>1</td>\n",
              "      <td>Bonnell, Miss. Elizabeth</td>\n",
              "      <td>female</td>\n",
              "      <td>58.0</td>\n",
              "      <td>0</td>\n",
              "      <td>0</td>\n",
              "      <td>113783</td>\n",
              "      <td>26.5500</td>\n",
              "      <td>C103</td>\n",
              "      <td>S</td>\n",
              "    </tr>\n",
              "    <tr>\n",
              "      <th>21</th>\n",
              "      <td>22</td>\n",
              "      <td>1</td>\n",
              "      <td>2</td>\n",
              "      <td>Beesley, Mr. Lawrence</td>\n",
              "      <td>male</td>\n",
              "      <td>34.0</td>\n",
              "      <td>0</td>\n",
              "      <td>0</td>\n",
              "      <td>248698</td>\n",
              "      <td>13.0000</td>\n",
              "      <td>D56</td>\n",
              "      <td>S</td>\n",
              "    </tr>\n",
              "    <tr>\n",
              "      <th>52</th>\n",
              "      <td>53</td>\n",
              "      <td>1</td>\n",
              "      <td>1</td>\n",
              "      <td>Harper, Mrs. Henry Sleeper (Myna Haxtun)</td>\n",
              "      <td>female</td>\n",
              "      <td>49.0</td>\n",
              "      <td>1</td>\n",
              "      <td>0</td>\n",
              "      <td>PC 17572</td>\n",
              "      <td>76.7292</td>\n",
              "      <td>D33</td>\n",
              "      <td>C</td>\n",
              "    </tr>\n",
              "    <tr>\n",
              "      <th>...</th>\n",
              "      <td>...</td>\n",
              "      <td>...</td>\n",
              "      <td>...</td>\n",
              "      <td>...</td>\n",
              "      <td>...</td>\n",
              "      <td>...</td>\n",
              "      <td>...</td>\n",
              "      <td>...</td>\n",
              "      <td>...</td>\n",
              "      <td>...</td>\n",
              "      <td>...</td>\n",
              "      <td>...</td>\n",
              "    </tr>\n",
              "    <tr>\n",
              "      <th>835</th>\n",
              "      <td>836</td>\n",
              "      <td>1</td>\n",
              "      <td>1</td>\n",
              "      <td>Compton, Miss. Sara Rebecca</td>\n",
              "      <td>female</td>\n",
              "      <td>39.0</td>\n",
              "      <td>1</td>\n",
              "      <td>1</td>\n",
              "      <td>PC 17756</td>\n",
              "      <td>83.1583</td>\n",
              "      <td>E49</td>\n",
              "      <td>C</td>\n",
              "    </tr>\n",
              "    <tr>\n",
              "      <th>857</th>\n",
              "      <td>858</td>\n",
              "      <td>1</td>\n",
              "      <td>1</td>\n",
              "      <td>Daly, Mr. Peter Denis</td>\n",
              "      <td>male</td>\n",
              "      <td>51.0</td>\n",
              "      <td>0</td>\n",
              "      <td>0</td>\n",
              "      <td>113055</td>\n",
              "      <td>26.5500</td>\n",
              "      <td>E17</td>\n",
              "      <td>S</td>\n",
              "    </tr>\n",
              "    <tr>\n",
              "      <th>862</th>\n",
              "      <td>863</td>\n",
              "      <td>1</td>\n",
              "      <td>1</td>\n",
              "      <td>Swift, Mrs. Frederick Joel (Margaret Welles Ba...</td>\n",
              "      <td>female</td>\n",
              "      <td>48.0</td>\n",
              "      <td>0</td>\n",
              "      <td>0</td>\n",
              "      <td>17466</td>\n",
              "      <td>25.9292</td>\n",
              "      <td>D17</td>\n",
              "      <td>S</td>\n",
              "    </tr>\n",
              "    <tr>\n",
              "      <th>871</th>\n",
              "      <td>872</td>\n",
              "      <td>1</td>\n",
              "      <td>1</td>\n",
              "      <td>Beckwith, Mrs. Richard Leonard (Sallie Monypeny)</td>\n",
              "      <td>female</td>\n",
              "      <td>47.0</td>\n",
              "      <td>1</td>\n",
              "      <td>1</td>\n",
              "      <td>11751</td>\n",
              "      <td>52.5542</td>\n",
              "      <td>D35</td>\n",
              "      <td>S</td>\n",
              "    </tr>\n",
              "    <tr>\n",
              "      <th>879</th>\n",
              "      <td>880</td>\n",
              "      <td>1</td>\n",
              "      <td>1</td>\n",
              "      <td>Potter, Mrs. Thomas Jr (Lily Alexenia Wilson)</td>\n",
              "      <td>female</td>\n",
              "      <td>56.0</td>\n",
              "      <td>0</td>\n",
              "      <td>1</td>\n",
              "      <td>11767</td>\n",
              "      <td>83.1583</td>\n",
              "      <td>C50</td>\n",
              "      <td>C</td>\n",
              "    </tr>\n",
              "  </tbody>\n",
              "</table>\n",
              "<p>70 rows × 12 columns</p>\n",
              "</div>"
            ],
            "text/plain": [
              "     PassengerId  Survived  Pclass  ...     Fare Cabin  Embarked\n",
              "1              2         1       1  ...  71.2833   C85         C\n",
              "3              4         1       1  ...  53.1000  C123         S\n",
              "11            12         1       1  ...  26.5500  C103         S\n",
              "21            22         1       2  ...  13.0000   D56         S\n",
              "52            53         1       1  ...  76.7292   D33         C\n",
              "..           ...       ...     ...  ...      ...   ...       ...\n",
              "835          836         1       1  ...  83.1583   E49         C\n",
              "857          858         1       1  ...  26.5500   E17         S\n",
              "862          863         1       1  ...  25.9292   D17         S\n",
              "871          872         1       1  ...  52.5542   D35         S\n",
              "879          880         1       1  ...  83.1583   C50         C\n",
              "\n",
              "[70 rows x 12 columns]"
            ]
          },
          "metadata": {},
          "execution_count": 32
        }
      ]
    },
    {
      "cell_type": "code",
      "metadata": {
        "colab": {
          "base_uri": "https://localhost:8080/",
          "height": 864
        },
        "id": "vCi6oh-GqCEr",
        "outputId": "64cd9168-09c9-46b3-a317-54500767e08c"
      },
      "source": [
        "# Adding a new Column\n",
        "randomCol = []\n",
        "for i in range(0, len(new_train)):\n",
        "  randomCol.append(random.randint(0,100))\n",
        "  \n",
        "new_train['Randomness'] = randomCol\n",
        "new_train"
      ],
      "execution_count": null,
      "outputs": [
        {
          "output_type": "stream",
          "name": "stderr",
          "text": [
            "/usr/local/lib/python3.7/dist-packages/ipykernel_launcher.py:6: SettingWithCopyWarning: \n",
            "A value is trying to be set on a copy of a slice from a DataFrame.\n",
            "Try using .loc[row_indexer,col_indexer] = value instead\n",
            "\n",
            "See the caveats in the documentation: https://pandas.pydata.org/pandas-docs/stable/user_guide/indexing.html#returning-a-view-versus-a-copy\n",
            "  \n"
          ]
        },
        {
          "output_type": "execute_result",
          "data": {
            "text/html": [
              "<div>\n",
              "<style scoped>\n",
              "    .dataframe tbody tr th:only-of-type {\n",
              "        vertical-align: middle;\n",
              "    }\n",
              "\n",
              "    .dataframe tbody tr th {\n",
              "        vertical-align: top;\n",
              "    }\n",
              "\n",
              "    .dataframe thead th {\n",
              "        text-align: right;\n",
              "    }\n",
              "</style>\n",
              "<table border=\"1\" class=\"dataframe\">\n",
              "  <thead>\n",
              "    <tr style=\"text-align: right;\">\n",
              "      <th></th>\n",
              "      <th>PassengerId</th>\n",
              "      <th>Survived</th>\n",
              "      <th>Pclass</th>\n",
              "      <th>Name</th>\n",
              "      <th>Sex</th>\n",
              "      <th>Age</th>\n",
              "      <th>SibSp</th>\n",
              "      <th>Parch</th>\n",
              "      <th>Ticket</th>\n",
              "      <th>Fare</th>\n",
              "      <th>Cabin</th>\n",
              "      <th>Embarked</th>\n",
              "      <th>Randomness</th>\n",
              "    </tr>\n",
              "  </thead>\n",
              "  <tbody>\n",
              "    <tr>\n",
              "      <th>1</th>\n",
              "      <td>2</td>\n",
              "      <td>1</td>\n",
              "      <td>1</td>\n",
              "      <td>Cumings, Mrs. John Bradley (Florence Briggs Th...</td>\n",
              "      <td>female</td>\n",
              "      <td>38.0</td>\n",
              "      <td>1</td>\n",
              "      <td>0</td>\n",
              "      <td>PC 17599</td>\n",
              "      <td>71.2833</td>\n",
              "      <td>C85</td>\n",
              "      <td>C</td>\n",
              "      <td>77</td>\n",
              "    </tr>\n",
              "    <tr>\n",
              "      <th>3</th>\n",
              "      <td>4</td>\n",
              "      <td>1</td>\n",
              "      <td>1</td>\n",
              "      <td>Futrelle, Mrs. Jacques Heath (Lily May Peel)</td>\n",
              "      <td>female</td>\n",
              "      <td>35.0</td>\n",
              "      <td>1</td>\n",
              "      <td>0</td>\n",
              "      <td>113803</td>\n",
              "      <td>53.1000</td>\n",
              "      <td>C123</td>\n",
              "      <td>S</td>\n",
              "      <td>42</td>\n",
              "    </tr>\n",
              "    <tr>\n",
              "      <th>11</th>\n",
              "      <td>12</td>\n",
              "      <td>1</td>\n",
              "      <td>1</td>\n",
              "      <td>Bonnell, Miss. Elizabeth</td>\n",
              "      <td>female</td>\n",
              "      <td>58.0</td>\n",
              "      <td>0</td>\n",
              "      <td>0</td>\n",
              "      <td>113783</td>\n",
              "      <td>26.5500</td>\n",
              "      <td>C103</td>\n",
              "      <td>S</td>\n",
              "      <td>82</td>\n",
              "    </tr>\n",
              "    <tr>\n",
              "      <th>21</th>\n",
              "      <td>22</td>\n",
              "      <td>1</td>\n",
              "      <td>2</td>\n",
              "      <td>Beesley, Mr. Lawrence</td>\n",
              "      <td>male</td>\n",
              "      <td>34.0</td>\n",
              "      <td>0</td>\n",
              "      <td>0</td>\n",
              "      <td>248698</td>\n",
              "      <td>13.0000</td>\n",
              "      <td>D56</td>\n",
              "      <td>S</td>\n",
              "      <td>49</td>\n",
              "    </tr>\n",
              "    <tr>\n",
              "      <th>52</th>\n",
              "      <td>53</td>\n",
              "      <td>1</td>\n",
              "      <td>1</td>\n",
              "      <td>Harper, Mrs. Henry Sleeper (Myna Haxtun)</td>\n",
              "      <td>female</td>\n",
              "      <td>49.0</td>\n",
              "      <td>1</td>\n",
              "      <td>0</td>\n",
              "      <td>PC 17572</td>\n",
              "      <td>76.7292</td>\n",
              "      <td>D33</td>\n",
              "      <td>C</td>\n",
              "      <td>65</td>\n",
              "    </tr>\n",
              "    <tr>\n",
              "      <th>...</th>\n",
              "      <td>...</td>\n",
              "      <td>...</td>\n",
              "      <td>...</td>\n",
              "      <td>...</td>\n",
              "      <td>...</td>\n",
              "      <td>...</td>\n",
              "      <td>...</td>\n",
              "      <td>...</td>\n",
              "      <td>...</td>\n",
              "      <td>...</td>\n",
              "      <td>...</td>\n",
              "      <td>...</td>\n",
              "      <td>...</td>\n",
              "    </tr>\n",
              "    <tr>\n",
              "      <th>835</th>\n",
              "      <td>836</td>\n",
              "      <td>1</td>\n",
              "      <td>1</td>\n",
              "      <td>Compton, Miss. Sara Rebecca</td>\n",
              "      <td>female</td>\n",
              "      <td>39.0</td>\n",
              "      <td>1</td>\n",
              "      <td>1</td>\n",
              "      <td>PC 17756</td>\n",
              "      <td>83.1583</td>\n",
              "      <td>E49</td>\n",
              "      <td>C</td>\n",
              "      <td>11</td>\n",
              "    </tr>\n",
              "    <tr>\n",
              "      <th>857</th>\n",
              "      <td>858</td>\n",
              "      <td>1</td>\n",
              "      <td>1</td>\n",
              "      <td>Daly, Mr. Peter Denis</td>\n",
              "      <td>male</td>\n",
              "      <td>51.0</td>\n",
              "      <td>0</td>\n",
              "      <td>0</td>\n",
              "      <td>113055</td>\n",
              "      <td>26.5500</td>\n",
              "      <td>E17</td>\n",
              "      <td>S</td>\n",
              "      <td>5</td>\n",
              "    </tr>\n",
              "    <tr>\n",
              "      <th>862</th>\n",
              "      <td>863</td>\n",
              "      <td>1</td>\n",
              "      <td>1</td>\n",
              "      <td>Swift, Mrs. Frederick Joel (Margaret Welles Ba...</td>\n",
              "      <td>female</td>\n",
              "      <td>48.0</td>\n",
              "      <td>0</td>\n",
              "      <td>0</td>\n",
              "      <td>17466</td>\n",
              "      <td>25.9292</td>\n",
              "      <td>D17</td>\n",
              "      <td>S</td>\n",
              "      <td>16</td>\n",
              "    </tr>\n",
              "    <tr>\n",
              "      <th>871</th>\n",
              "      <td>872</td>\n",
              "      <td>1</td>\n",
              "      <td>1</td>\n",
              "      <td>Beckwith, Mrs. Richard Leonard (Sallie Monypeny)</td>\n",
              "      <td>female</td>\n",
              "      <td>47.0</td>\n",
              "      <td>1</td>\n",
              "      <td>1</td>\n",
              "      <td>11751</td>\n",
              "      <td>52.5542</td>\n",
              "      <td>D35</td>\n",
              "      <td>S</td>\n",
              "      <td>84</td>\n",
              "    </tr>\n",
              "    <tr>\n",
              "      <th>879</th>\n",
              "      <td>880</td>\n",
              "      <td>1</td>\n",
              "      <td>1</td>\n",
              "      <td>Potter, Mrs. Thomas Jr (Lily Alexenia Wilson)</td>\n",
              "      <td>female</td>\n",
              "      <td>56.0</td>\n",
              "      <td>0</td>\n",
              "      <td>1</td>\n",
              "      <td>11767</td>\n",
              "      <td>83.1583</td>\n",
              "      <td>C50</td>\n",
              "      <td>C</td>\n",
              "      <td>30</td>\n",
              "    </tr>\n",
              "  </tbody>\n",
              "</table>\n",
              "<p>70 rows × 13 columns</p>\n",
              "</div>"
            ],
            "text/plain": [
              "     PassengerId  Survived  Pclass  ... Cabin Embarked  Randomness\n",
              "1              2         1       1  ...   C85        C          77\n",
              "3              4         1       1  ...  C123        S          42\n",
              "11            12         1       1  ...  C103        S          82\n",
              "21            22         1       2  ...   D56        S          49\n",
              "52            53         1       1  ...   D33        C          65\n",
              "..           ...       ...     ...  ...   ...      ...         ...\n",
              "835          836         1       1  ...   E49        C          11\n",
              "857          858         1       1  ...   E17        S           5\n",
              "862          863         1       1  ...   D17        S          16\n",
              "871          872         1       1  ...   D35        S          84\n",
              "879          880         1       1  ...   C50        C          30\n",
              "\n",
              "[70 rows x 13 columns]"
            ]
          },
          "metadata": {},
          "execution_count": 37
        }
      ]
    },
    {
      "cell_type": "code",
      "metadata": {
        "colab": {
          "base_uri": "https://localhost:8080/"
        },
        "id": "c6GwjBbWqk2d",
        "outputId": "ee8753e7-73b5-4119-ba70-81f54c42be6a"
      },
      "source": [
        "# Dropping a column\n",
        "new_train.drop(labels=['Randomness'], inplace=True, axis = 1)\n",
        "new_train"
      ],
      "execution_count": null,
      "outputs": [
        {
          "output_type": "stream",
          "name": "stderr",
          "text": [
            "/usr/local/lib/python3.7/dist-packages/pandas/core/frame.py:4174: SettingWithCopyWarning: \n",
            "A value is trying to be set on a copy of a slice from a DataFrame\n",
            "\n",
            "See the caveats in the documentation: https://pandas.pydata.org/pandas-docs/stable/user_guide/indexing.html#returning-a-view-versus-a-copy\n",
            "  errors=errors,\n"
          ]
        }
      ]
    },
    {
      "cell_type": "code",
      "metadata": {
        "colab": {
          "base_uri": "https://localhost:8080/",
          "height": 521
        },
        "id": "FyEE7rBHsbqf",
        "outputId": "6f3510dd-1461-4e7f-de75-b6222eafc046"
      },
      "source": [
        "# Dropping a row\n",
        "new_train.drop(labels=[1,3], inplace=True, axis=0)\n",
        "new_train"
      ],
      "execution_count": null,
      "outputs": [
        {
          "output_type": "execute_result",
          "data": {
            "text/html": [
              "<div>\n",
              "<style scoped>\n",
              "    .dataframe tbody tr th:only-of-type {\n",
              "        vertical-align: middle;\n",
              "    }\n",
              "\n",
              "    .dataframe tbody tr th {\n",
              "        vertical-align: top;\n",
              "    }\n",
              "\n",
              "    .dataframe thead th {\n",
              "        text-align: right;\n",
              "    }\n",
              "</style>\n",
              "<table border=\"1\" class=\"dataframe\">\n",
              "  <thead>\n",
              "    <tr style=\"text-align: right;\">\n",
              "      <th></th>\n",
              "      <th>PassengerId</th>\n",
              "      <th>Survived</th>\n",
              "      <th>Pclass</th>\n",
              "      <th>Name</th>\n",
              "      <th>Sex</th>\n",
              "      <th>Age</th>\n",
              "      <th>SibSp</th>\n",
              "      <th>Parch</th>\n",
              "      <th>Ticket</th>\n",
              "      <th>Fare</th>\n",
              "      <th>Cabin</th>\n",
              "      <th>Embarked</th>\n",
              "    </tr>\n",
              "  </thead>\n",
              "  <tbody>\n",
              "    <tr>\n",
              "      <th>11</th>\n",
              "      <td>12</td>\n",
              "      <td>1</td>\n",
              "      <td>1</td>\n",
              "      <td>Bonnell, Miss. Elizabeth</td>\n",
              "      <td>female</td>\n",
              "      <td>58.0</td>\n",
              "      <td>0</td>\n",
              "      <td>0</td>\n",
              "      <td>113783</td>\n",
              "      <td>26.5500</td>\n",
              "      <td>C103</td>\n",
              "      <td>S</td>\n",
              "    </tr>\n",
              "    <tr>\n",
              "      <th>21</th>\n",
              "      <td>22</td>\n",
              "      <td>1</td>\n",
              "      <td>2</td>\n",
              "      <td>Beesley, Mr. Lawrence</td>\n",
              "      <td>male</td>\n",
              "      <td>34.0</td>\n",
              "      <td>0</td>\n",
              "      <td>0</td>\n",
              "      <td>248698</td>\n",
              "      <td>13.0000</td>\n",
              "      <td>D56</td>\n",
              "      <td>S</td>\n",
              "    </tr>\n",
              "    <tr>\n",
              "      <th>52</th>\n",
              "      <td>53</td>\n",
              "      <td>1</td>\n",
              "      <td>1</td>\n",
              "      <td>Harper, Mrs. Henry Sleeper (Myna Haxtun)</td>\n",
              "      <td>female</td>\n",
              "      <td>49.0</td>\n",
              "      <td>1</td>\n",
              "      <td>0</td>\n",
              "      <td>PC 17572</td>\n",
              "      <td>76.7292</td>\n",
              "      <td>D33</td>\n",
              "      <td>C</td>\n",
              "    </tr>\n",
              "    <tr>\n",
              "      <th>123</th>\n",
              "      <td>124</td>\n",
              "      <td>1</td>\n",
              "      <td>2</td>\n",
              "      <td>Webber, Miss. Susan</td>\n",
              "      <td>female</td>\n",
              "      <td>32.5</td>\n",
              "      <td>0</td>\n",
              "      <td>0</td>\n",
              "      <td>27267</td>\n",
              "      <td>13.0000</td>\n",
              "      <td>E101</td>\n",
              "      <td>S</td>\n",
              "    </tr>\n",
              "    <tr>\n",
              "      <th>194</th>\n",
              "      <td>195</td>\n",
              "      <td>1</td>\n",
              "      <td>1</td>\n",
              "      <td>Brown, Mrs. James Joseph (Margaret Tobin)</td>\n",
              "      <td>female</td>\n",
              "      <td>44.0</td>\n",
              "      <td>0</td>\n",
              "      <td>0</td>\n",
              "      <td>PC 17610</td>\n",
              "      <td>27.7208</td>\n",
              "      <td>B4</td>\n",
              "      <td>C</td>\n",
              "    </tr>\n",
              "    <tr>\n",
              "      <th>...</th>\n",
              "      <td>...</td>\n",
              "      <td>...</td>\n",
              "      <td>...</td>\n",
              "      <td>...</td>\n",
              "      <td>...</td>\n",
              "      <td>...</td>\n",
              "      <td>...</td>\n",
              "      <td>...</td>\n",
              "      <td>...</td>\n",
              "      <td>...</td>\n",
              "      <td>...</td>\n",
              "      <td>...</td>\n",
              "    </tr>\n",
              "    <tr>\n",
              "      <th>835</th>\n",
              "      <td>836</td>\n",
              "      <td>1</td>\n",
              "      <td>1</td>\n",
              "      <td>Compton, Miss. Sara Rebecca</td>\n",
              "      <td>female</td>\n",
              "      <td>39.0</td>\n",
              "      <td>1</td>\n",
              "      <td>1</td>\n",
              "      <td>PC 17756</td>\n",
              "      <td>83.1583</td>\n",
              "      <td>E49</td>\n",
              "      <td>C</td>\n",
              "    </tr>\n",
              "    <tr>\n",
              "      <th>857</th>\n",
              "      <td>858</td>\n",
              "      <td>1</td>\n",
              "      <td>1</td>\n",
              "      <td>Daly, Mr. Peter Denis</td>\n",
              "      <td>male</td>\n",
              "      <td>51.0</td>\n",
              "      <td>0</td>\n",
              "      <td>0</td>\n",
              "      <td>113055</td>\n",
              "      <td>26.5500</td>\n",
              "      <td>E17</td>\n",
              "      <td>S</td>\n",
              "    </tr>\n",
              "    <tr>\n",
              "      <th>862</th>\n",
              "      <td>863</td>\n",
              "      <td>1</td>\n",
              "      <td>1</td>\n",
              "      <td>Swift, Mrs. Frederick Joel (Margaret Welles Ba...</td>\n",
              "      <td>female</td>\n",
              "      <td>48.0</td>\n",
              "      <td>0</td>\n",
              "      <td>0</td>\n",
              "      <td>17466</td>\n",
              "      <td>25.9292</td>\n",
              "      <td>D17</td>\n",
              "      <td>S</td>\n",
              "    </tr>\n",
              "    <tr>\n",
              "      <th>871</th>\n",
              "      <td>872</td>\n",
              "      <td>1</td>\n",
              "      <td>1</td>\n",
              "      <td>Beckwith, Mrs. Richard Leonard (Sallie Monypeny)</td>\n",
              "      <td>female</td>\n",
              "      <td>47.0</td>\n",
              "      <td>1</td>\n",
              "      <td>1</td>\n",
              "      <td>11751</td>\n",
              "      <td>52.5542</td>\n",
              "      <td>D35</td>\n",
              "      <td>S</td>\n",
              "    </tr>\n",
              "    <tr>\n",
              "      <th>879</th>\n",
              "      <td>880</td>\n",
              "      <td>1</td>\n",
              "      <td>1</td>\n",
              "      <td>Potter, Mrs. Thomas Jr (Lily Alexenia Wilson)</td>\n",
              "      <td>female</td>\n",
              "      <td>56.0</td>\n",
              "      <td>0</td>\n",
              "      <td>1</td>\n",
              "      <td>11767</td>\n",
              "      <td>83.1583</td>\n",
              "      <td>C50</td>\n",
              "      <td>C</td>\n",
              "    </tr>\n",
              "  </tbody>\n",
              "</table>\n",
              "<p>68 rows × 12 columns</p>\n",
              "</div>"
            ],
            "text/plain": [
              "     PassengerId  Survived  Pclass  ...     Fare Cabin  Embarked\n",
              "11            12         1       1  ...  26.5500  C103         S\n",
              "21            22         1       2  ...  13.0000   D56         S\n",
              "52            53         1       1  ...  76.7292   D33         C\n",
              "123          124         1       2  ...  13.0000  E101         S\n",
              "194          195         1       1  ...  27.7208    B4         C\n",
              "..           ...       ...     ...  ...      ...   ...       ...\n",
              "835          836         1       1  ...  83.1583   E49         C\n",
              "857          858         1       1  ...  26.5500   E17         S\n",
              "862          863         1       1  ...  25.9292   D17         S\n",
              "871          872         1       1  ...  52.5542   D35         S\n",
              "879          880         1       1  ...  83.1583   C50         C\n",
              "\n",
              "[68 rows x 12 columns]"
            ]
          },
          "metadata": {},
          "execution_count": 39
        }
      ]
    },
    {
      "cell_type": "code",
      "metadata": {
        "id": "ux-yGQjrt957"
      },
      "source": [
        ""
      ],
      "execution_count": null,
      "outputs": []
    }
  ]
}