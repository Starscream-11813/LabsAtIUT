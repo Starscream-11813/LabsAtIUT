{
  "nbformat": 4,
  "nbformat_minor": 0,
  "metadata": {
    "colab": {
      "name": "180041205_Copy of version2 Logistic_Regression_with_Breast_Cancer_Data.ipynb",
      "provenance": [],
      "collapsed_sections": []
    },
    "kernelspec": {
      "name": "python3",
      "display_name": "Python 3"
    },
    "language_info": {
      "name": "python"
    }
  },
  "cells": [
    {
      "cell_type": "code",
      "execution_count": null,
      "metadata": {
        "id": "v9WE55jG7Jc-"
      },
      "outputs": [],
      "source": [
        "!gdown --id -q 11Cxt5om7r7xuWEhMWlmljX-PHag9adZq"
      ]
    },
    {
      "cell_type": "code",
      "source": [
        "# Reading the Libraries\n",
        "import pandas as pd\n",
        "import numpy as np\n",
        "\n",
        "# Reading the Data\n",
        "data = pd.read_csv('/content/data.csv')\n",
        "data.head(20)"
      ],
      "metadata": {
        "colab": {
          "base_uri": "https://localhost:8080/",
          "height": 758
        },
        "id": "VGCSI3nK8rMV",
        "outputId": "0f64f4ad-229e-471e-aef0-3e0d914a1905"
      },
      "execution_count": null,
      "outputs": [
        {
          "output_type": "execute_result",
          "data": {
            "text/html": [
              "\n",
              "  <div id=\"df-1807b2c8-6d35-43ac-9ae2-518581a89e07\">\n",
              "    <div class=\"colab-df-container\">\n",
              "      <div>\n",
              "<style scoped>\n",
              "    .dataframe tbody tr th:only-of-type {\n",
              "        vertical-align: middle;\n",
              "    }\n",
              "\n",
              "    .dataframe tbody tr th {\n",
              "        vertical-align: top;\n",
              "    }\n",
              "\n",
              "    .dataframe thead th {\n",
              "        text-align: right;\n",
              "    }\n",
              "</style>\n",
              "<table border=\"1\" class=\"dataframe\">\n",
              "  <thead>\n",
              "    <tr style=\"text-align: right;\">\n",
              "      <th></th>\n",
              "      <th>id</th>\n",
              "      <th>diagnosis</th>\n",
              "      <th>radius_mean</th>\n",
              "      <th>texture_mean</th>\n",
              "      <th>perimeter_mean</th>\n",
              "      <th>area_mean</th>\n",
              "      <th>smoothness_mean</th>\n",
              "      <th>compactness_mean</th>\n",
              "      <th>concavity_mean</th>\n",
              "      <th>concave points_mean</th>\n",
              "      <th>symmetry_mean</th>\n",
              "      <th>fractal_dimension_mean</th>\n",
              "      <th>radius_se</th>\n",
              "      <th>texture_se</th>\n",
              "      <th>perimeter_se</th>\n",
              "      <th>area_se</th>\n",
              "      <th>smoothness_se</th>\n",
              "      <th>compactness_se</th>\n",
              "      <th>concavity_se</th>\n",
              "      <th>concave points_se</th>\n",
              "      <th>symmetry_se</th>\n",
              "      <th>fractal_dimension_se</th>\n",
              "      <th>radius_worst</th>\n",
              "      <th>texture_worst</th>\n",
              "      <th>perimeter_worst</th>\n",
              "      <th>area_worst</th>\n",
              "      <th>smoothness_worst</th>\n",
              "      <th>compactness_worst</th>\n",
              "      <th>concavity_worst</th>\n",
              "      <th>concave points_worst</th>\n",
              "      <th>symmetry_worst</th>\n",
              "      <th>fractal_dimension_worst</th>\n",
              "      <th>Unnamed: 32</th>\n",
              "    </tr>\n",
              "  </thead>\n",
              "  <tbody>\n",
              "    <tr>\n",
              "      <th>0</th>\n",
              "      <td>842302</td>\n",
              "      <td>M</td>\n",
              "      <td>17.99</td>\n",
              "      <td>10.38</td>\n",
              "      <td>122.80</td>\n",
              "      <td>1001.0</td>\n",
              "      <td>0.11840</td>\n",
              "      <td>0.27760</td>\n",
              "      <td>0.30010</td>\n",
              "      <td>0.14710</td>\n",
              "      <td>0.2419</td>\n",
              "      <td>0.07871</td>\n",
              "      <td>1.0950</td>\n",
              "      <td>0.9053</td>\n",
              "      <td>8.589</td>\n",
              "      <td>153.40</td>\n",
              "      <td>0.006399</td>\n",
              "      <td>0.049040</td>\n",
              "      <td>0.05373</td>\n",
              "      <td>0.015870</td>\n",
              "      <td>0.03003</td>\n",
              "      <td>0.006193</td>\n",
              "      <td>25.38</td>\n",
              "      <td>17.33</td>\n",
              "      <td>184.60</td>\n",
              "      <td>2019.0</td>\n",
              "      <td>0.1622</td>\n",
              "      <td>0.6656</td>\n",
              "      <td>0.7119</td>\n",
              "      <td>0.26540</td>\n",
              "      <td>0.4601</td>\n",
              "      <td>0.11890</td>\n",
              "      <td>NaN</td>\n",
              "    </tr>\n",
              "    <tr>\n",
              "      <th>1</th>\n",
              "      <td>842517</td>\n",
              "      <td>M</td>\n",
              "      <td>20.57</td>\n",
              "      <td>17.77</td>\n",
              "      <td>132.90</td>\n",
              "      <td>1326.0</td>\n",
              "      <td>0.08474</td>\n",
              "      <td>0.07864</td>\n",
              "      <td>0.08690</td>\n",
              "      <td>0.07017</td>\n",
              "      <td>0.1812</td>\n",
              "      <td>0.05667</td>\n",
              "      <td>0.5435</td>\n",
              "      <td>0.7339</td>\n",
              "      <td>3.398</td>\n",
              "      <td>74.08</td>\n",
              "      <td>0.005225</td>\n",
              "      <td>0.013080</td>\n",
              "      <td>0.01860</td>\n",
              "      <td>0.013400</td>\n",
              "      <td>0.01389</td>\n",
              "      <td>0.003532</td>\n",
              "      <td>24.99</td>\n",
              "      <td>23.41</td>\n",
              "      <td>158.80</td>\n",
              "      <td>1956.0</td>\n",
              "      <td>0.1238</td>\n",
              "      <td>0.1866</td>\n",
              "      <td>0.2416</td>\n",
              "      <td>0.18600</td>\n",
              "      <td>0.2750</td>\n",
              "      <td>0.08902</td>\n",
              "      <td>NaN</td>\n",
              "    </tr>\n",
              "    <tr>\n",
              "      <th>2</th>\n",
              "      <td>84300903</td>\n",
              "      <td>M</td>\n",
              "      <td>19.69</td>\n",
              "      <td>21.25</td>\n",
              "      <td>130.00</td>\n",
              "      <td>1203.0</td>\n",
              "      <td>0.10960</td>\n",
              "      <td>0.15990</td>\n",
              "      <td>0.19740</td>\n",
              "      <td>0.12790</td>\n",
              "      <td>0.2069</td>\n",
              "      <td>0.05999</td>\n",
              "      <td>0.7456</td>\n",
              "      <td>0.7869</td>\n",
              "      <td>4.585</td>\n",
              "      <td>94.03</td>\n",
              "      <td>0.006150</td>\n",
              "      <td>0.040060</td>\n",
              "      <td>0.03832</td>\n",
              "      <td>0.020580</td>\n",
              "      <td>0.02250</td>\n",
              "      <td>0.004571</td>\n",
              "      <td>23.57</td>\n",
              "      <td>25.53</td>\n",
              "      <td>152.50</td>\n",
              "      <td>1709.0</td>\n",
              "      <td>0.1444</td>\n",
              "      <td>0.4245</td>\n",
              "      <td>0.4504</td>\n",
              "      <td>0.24300</td>\n",
              "      <td>0.3613</td>\n",
              "      <td>0.08758</td>\n",
              "      <td>NaN</td>\n",
              "    </tr>\n",
              "    <tr>\n",
              "      <th>3</th>\n",
              "      <td>84348301</td>\n",
              "      <td>M</td>\n",
              "      <td>11.42</td>\n",
              "      <td>20.38</td>\n",
              "      <td>77.58</td>\n",
              "      <td>386.1</td>\n",
              "      <td>0.14250</td>\n",
              "      <td>0.28390</td>\n",
              "      <td>0.24140</td>\n",
              "      <td>0.10520</td>\n",
              "      <td>0.2597</td>\n",
              "      <td>0.09744</td>\n",
              "      <td>0.4956</td>\n",
              "      <td>1.1560</td>\n",
              "      <td>3.445</td>\n",
              "      <td>27.23</td>\n",
              "      <td>0.009110</td>\n",
              "      <td>0.074580</td>\n",
              "      <td>0.05661</td>\n",
              "      <td>0.018670</td>\n",
              "      <td>0.05963</td>\n",
              "      <td>0.009208</td>\n",
              "      <td>14.91</td>\n",
              "      <td>26.50</td>\n",
              "      <td>98.87</td>\n",
              "      <td>567.7</td>\n",
              "      <td>0.2098</td>\n",
              "      <td>0.8663</td>\n",
              "      <td>0.6869</td>\n",
              "      <td>0.25750</td>\n",
              "      <td>0.6638</td>\n",
              "      <td>0.17300</td>\n",
              "      <td>NaN</td>\n",
              "    </tr>\n",
              "    <tr>\n",
              "      <th>4</th>\n",
              "      <td>84358402</td>\n",
              "      <td>M</td>\n",
              "      <td>20.29</td>\n",
              "      <td>14.34</td>\n",
              "      <td>135.10</td>\n",
              "      <td>1297.0</td>\n",
              "      <td>0.10030</td>\n",
              "      <td>0.13280</td>\n",
              "      <td>0.19800</td>\n",
              "      <td>0.10430</td>\n",
              "      <td>0.1809</td>\n",
              "      <td>0.05883</td>\n",
              "      <td>0.7572</td>\n",
              "      <td>0.7813</td>\n",
              "      <td>5.438</td>\n",
              "      <td>94.44</td>\n",
              "      <td>0.011490</td>\n",
              "      <td>0.024610</td>\n",
              "      <td>0.05688</td>\n",
              "      <td>0.018850</td>\n",
              "      <td>0.01756</td>\n",
              "      <td>0.005115</td>\n",
              "      <td>22.54</td>\n",
              "      <td>16.67</td>\n",
              "      <td>152.20</td>\n",
              "      <td>1575.0</td>\n",
              "      <td>0.1374</td>\n",
              "      <td>0.2050</td>\n",
              "      <td>0.4000</td>\n",
              "      <td>0.16250</td>\n",
              "      <td>0.2364</td>\n",
              "      <td>0.07678</td>\n",
              "      <td>NaN</td>\n",
              "    </tr>\n",
              "    <tr>\n",
              "      <th>5</th>\n",
              "      <td>843786</td>\n",
              "      <td>M</td>\n",
              "      <td>12.45</td>\n",
              "      <td>15.70</td>\n",
              "      <td>82.57</td>\n",
              "      <td>477.1</td>\n",
              "      <td>0.12780</td>\n",
              "      <td>0.17000</td>\n",
              "      <td>0.15780</td>\n",
              "      <td>0.08089</td>\n",
              "      <td>0.2087</td>\n",
              "      <td>0.07613</td>\n",
              "      <td>0.3345</td>\n",
              "      <td>0.8902</td>\n",
              "      <td>2.217</td>\n",
              "      <td>27.19</td>\n",
              "      <td>0.007510</td>\n",
              "      <td>0.033450</td>\n",
              "      <td>0.03672</td>\n",
              "      <td>0.011370</td>\n",
              "      <td>0.02165</td>\n",
              "      <td>0.005082</td>\n",
              "      <td>15.47</td>\n",
              "      <td>23.75</td>\n",
              "      <td>103.40</td>\n",
              "      <td>741.6</td>\n",
              "      <td>0.1791</td>\n",
              "      <td>0.5249</td>\n",
              "      <td>0.5355</td>\n",
              "      <td>0.17410</td>\n",
              "      <td>0.3985</td>\n",
              "      <td>0.12440</td>\n",
              "      <td>NaN</td>\n",
              "    </tr>\n",
              "    <tr>\n",
              "      <th>6</th>\n",
              "      <td>844359</td>\n",
              "      <td>M</td>\n",
              "      <td>18.25</td>\n",
              "      <td>19.98</td>\n",
              "      <td>119.60</td>\n",
              "      <td>1040.0</td>\n",
              "      <td>0.09463</td>\n",
              "      <td>0.10900</td>\n",
              "      <td>0.11270</td>\n",
              "      <td>0.07400</td>\n",
              "      <td>0.1794</td>\n",
              "      <td>0.05742</td>\n",
              "      <td>0.4467</td>\n",
              "      <td>0.7732</td>\n",
              "      <td>3.180</td>\n",
              "      <td>53.91</td>\n",
              "      <td>0.004314</td>\n",
              "      <td>0.013820</td>\n",
              "      <td>0.02254</td>\n",
              "      <td>0.010390</td>\n",
              "      <td>0.01369</td>\n",
              "      <td>0.002179</td>\n",
              "      <td>22.88</td>\n",
              "      <td>27.66</td>\n",
              "      <td>153.20</td>\n",
              "      <td>1606.0</td>\n",
              "      <td>0.1442</td>\n",
              "      <td>0.2576</td>\n",
              "      <td>0.3784</td>\n",
              "      <td>0.19320</td>\n",
              "      <td>0.3063</td>\n",
              "      <td>0.08368</td>\n",
              "      <td>NaN</td>\n",
              "    </tr>\n",
              "    <tr>\n",
              "      <th>7</th>\n",
              "      <td>84458202</td>\n",
              "      <td>M</td>\n",
              "      <td>13.71</td>\n",
              "      <td>20.83</td>\n",
              "      <td>90.20</td>\n",
              "      <td>577.9</td>\n",
              "      <td>0.11890</td>\n",
              "      <td>0.16450</td>\n",
              "      <td>0.09366</td>\n",
              "      <td>0.05985</td>\n",
              "      <td>0.2196</td>\n",
              "      <td>0.07451</td>\n",
              "      <td>0.5835</td>\n",
              "      <td>1.3770</td>\n",
              "      <td>3.856</td>\n",
              "      <td>50.96</td>\n",
              "      <td>0.008805</td>\n",
              "      <td>0.030290</td>\n",
              "      <td>0.02488</td>\n",
              "      <td>0.014480</td>\n",
              "      <td>0.01486</td>\n",
              "      <td>0.005412</td>\n",
              "      <td>17.06</td>\n",
              "      <td>28.14</td>\n",
              "      <td>110.60</td>\n",
              "      <td>897.0</td>\n",
              "      <td>0.1654</td>\n",
              "      <td>0.3682</td>\n",
              "      <td>0.2678</td>\n",
              "      <td>0.15560</td>\n",
              "      <td>0.3196</td>\n",
              "      <td>0.11510</td>\n",
              "      <td>NaN</td>\n",
              "    </tr>\n",
              "    <tr>\n",
              "      <th>8</th>\n",
              "      <td>844981</td>\n",
              "      <td>M</td>\n",
              "      <td>13.00</td>\n",
              "      <td>21.82</td>\n",
              "      <td>87.50</td>\n",
              "      <td>519.8</td>\n",
              "      <td>0.12730</td>\n",
              "      <td>0.19320</td>\n",
              "      <td>0.18590</td>\n",
              "      <td>0.09353</td>\n",
              "      <td>0.2350</td>\n",
              "      <td>0.07389</td>\n",
              "      <td>0.3063</td>\n",
              "      <td>1.0020</td>\n",
              "      <td>2.406</td>\n",
              "      <td>24.32</td>\n",
              "      <td>0.005731</td>\n",
              "      <td>0.035020</td>\n",
              "      <td>0.03553</td>\n",
              "      <td>0.012260</td>\n",
              "      <td>0.02143</td>\n",
              "      <td>0.003749</td>\n",
              "      <td>15.49</td>\n",
              "      <td>30.73</td>\n",
              "      <td>106.20</td>\n",
              "      <td>739.3</td>\n",
              "      <td>0.1703</td>\n",
              "      <td>0.5401</td>\n",
              "      <td>0.5390</td>\n",
              "      <td>0.20600</td>\n",
              "      <td>0.4378</td>\n",
              "      <td>0.10720</td>\n",
              "      <td>NaN</td>\n",
              "    </tr>\n",
              "    <tr>\n",
              "      <th>9</th>\n",
              "      <td>84501001</td>\n",
              "      <td>M</td>\n",
              "      <td>12.46</td>\n",
              "      <td>24.04</td>\n",
              "      <td>83.97</td>\n",
              "      <td>475.9</td>\n",
              "      <td>0.11860</td>\n",
              "      <td>0.23960</td>\n",
              "      <td>0.22730</td>\n",
              "      <td>0.08543</td>\n",
              "      <td>0.2030</td>\n",
              "      <td>0.08243</td>\n",
              "      <td>0.2976</td>\n",
              "      <td>1.5990</td>\n",
              "      <td>2.039</td>\n",
              "      <td>23.94</td>\n",
              "      <td>0.007149</td>\n",
              "      <td>0.072170</td>\n",
              "      <td>0.07743</td>\n",
              "      <td>0.014320</td>\n",
              "      <td>0.01789</td>\n",
              "      <td>0.010080</td>\n",
              "      <td>15.09</td>\n",
              "      <td>40.68</td>\n",
              "      <td>97.65</td>\n",
              "      <td>711.4</td>\n",
              "      <td>0.1853</td>\n",
              "      <td>1.0580</td>\n",
              "      <td>1.1050</td>\n",
              "      <td>0.22100</td>\n",
              "      <td>0.4366</td>\n",
              "      <td>0.20750</td>\n",
              "      <td>NaN</td>\n",
              "    </tr>\n",
              "    <tr>\n",
              "      <th>10</th>\n",
              "      <td>845636</td>\n",
              "      <td>M</td>\n",
              "      <td>16.02</td>\n",
              "      <td>23.24</td>\n",
              "      <td>102.70</td>\n",
              "      <td>797.8</td>\n",
              "      <td>0.08206</td>\n",
              "      <td>0.06669</td>\n",
              "      <td>0.03299</td>\n",
              "      <td>0.03323</td>\n",
              "      <td>0.1528</td>\n",
              "      <td>0.05697</td>\n",
              "      <td>0.3795</td>\n",
              "      <td>1.1870</td>\n",
              "      <td>2.466</td>\n",
              "      <td>40.51</td>\n",
              "      <td>0.004029</td>\n",
              "      <td>0.009269</td>\n",
              "      <td>0.01101</td>\n",
              "      <td>0.007591</td>\n",
              "      <td>0.01460</td>\n",
              "      <td>0.003042</td>\n",
              "      <td>19.19</td>\n",
              "      <td>33.88</td>\n",
              "      <td>123.80</td>\n",
              "      <td>1150.0</td>\n",
              "      <td>0.1181</td>\n",
              "      <td>0.1551</td>\n",
              "      <td>0.1459</td>\n",
              "      <td>0.09975</td>\n",
              "      <td>0.2948</td>\n",
              "      <td>0.08452</td>\n",
              "      <td>NaN</td>\n",
              "    </tr>\n",
              "    <tr>\n",
              "      <th>11</th>\n",
              "      <td>84610002</td>\n",
              "      <td>M</td>\n",
              "      <td>15.78</td>\n",
              "      <td>17.89</td>\n",
              "      <td>103.60</td>\n",
              "      <td>781.0</td>\n",
              "      <td>0.09710</td>\n",
              "      <td>0.12920</td>\n",
              "      <td>0.09954</td>\n",
              "      <td>0.06606</td>\n",
              "      <td>0.1842</td>\n",
              "      <td>0.06082</td>\n",
              "      <td>0.5058</td>\n",
              "      <td>0.9849</td>\n",
              "      <td>3.564</td>\n",
              "      <td>54.16</td>\n",
              "      <td>0.005771</td>\n",
              "      <td>0.040610</td>\n",
              "      <td>0.02791</td>\n",
              "      <td>0.012820</td>\n",
              "      <td>0.02008</td>\n",
              "      <td>0.004144</td>\n",
              "      <td>20.42</td>\n",
              "      <td>27.28</td>\n",
              "      <td>136.50</td>\n",
              "      <td>1299.0</td>\n",
              "      <td>0.1396</td>\n",
              "      <td>0.5609</td>\n",
              "      <td>0.3965</td>\n",
              "      <td>0.18100</td>\n",
              "      <td>0.3792</td>\n",
              "      <td>0.10480</td>\n",
              "      <td>NaN</td>\n",
              "    </tr>\n",
              "    <tr>\n",
              "      <th>12</th>\n",
              "      <td>846226</td>\n",
              "      <td>M</td>\n",
              "      <td>19.17</td>\n",
              "      <td>24.80</td>\n",
              "      <td>132.40</td>\n",
              "      <td>1123.0</td>\n",
              "      <td>0.09740</td>\n",
              "      <td>0.24580</td>\n",
              "      <td>0.20650</td>\n",
              "      <td>0.11180</td>\n",
              "      <td>0.2397</td>\n",
              "      <td>0.07800</td>\n",
              "      <td>0.9555</td>\n",
              "      <td>3.5680</td>\n",
              "      <td>11.070</td>\n",
              "      <td>116.20</td>\n",
              "      <td>0.003139</td>\n",
              "      <td>0.082970</td>\n",
              "      <td>0.08890</td>\n",
              "      <td>0.040900</td>\n",
              "      <td>0.04484</td>\n",
              "      <td>0.012840</td>\n",
              "      <td>20.96</td>\n",
              "      <td>29.94</td>\n",
              "      <td>151.70</td>\n",
              "      <td>1332.0</td>\n",
              "      <td>0.1037</td>\n",
              "      <td>0.3903</td>\n",
              "      <td>0.3639</td>\n",
              "      <td>0.17670</td>\n",
              "      <td>0.3176</td>\n",
              "      <td>0.10230</td>\n",
              "      <td>NaN</td>\n",
              "    </tr>\n",
              "    <tr>\n",
              "      <th>13</th>\n",
              "      <td>846381</td>\n",
              "      <td>M</td>\n",
              "      <td>15.85</td>\n",
              "      <td>23.95</td>\n",
              "      <td>103.70</td>\n",
              "      <td>782.7</td>\n",
              "      <td>0.08401</td>\n",
              "      <td>0.10020</td>\n",
              "      <td>0.09938</td>\n",
              "      <td>0.05364</td>\n",
              "      <td>0.1847</td>\n",
              "      <td>0.05338</td>\n",
              "      <td>0.4033</td>\n",
              "      <td>1.0780</td>\n",
              "      <td>2.903</td>\n",
              "      <td>36.58</td>\n",
              "      <td>0.009769</td>\n",
              "      <td>0.031260</td>\n",
              "      <td>0.05051</td>\n",
              "      <td>0.019920</td>\n",
              "      <td>0.02981</td>\n",
              "      <td>0.003002</td>\n",
              "      <td>16.84</td>\n",
              "      <td>27.66</td>\n",
              "      <td>112.00</td>\n",
              "      <td>876.5</td>\n",
              "      <td>0.1131</td>\n",
              "      <td>0.1924</td>\n",
              "      <td>0.2322</td>\n",
              "      <td>0.11190</td>\n",
              "      <td>0.2809</td>\n",
              "      <td>0.06287</td>\n",
              "      <td>NaN</td>\n",
              "    </tr>\n",
              "    <tr>\n",
              "      <th>14</th>\n",
              "      <td>84667401</td>\n",
              "      <td>M</td>\n",
              "      <td>13.73</td>\n",
              "      <td>22.61</td>\n",
              "      <td>93.60</td>\n",
              "      <td>578.3</td>\n",
              "      <td>0.11310</td>\n",
              "      <td>0.22930</td>\n",
              "      <td>0.21280</td>\n",
              "      <td>0.08025</td>\n",
              "      <td>0.2069</td>\n",
              "      <td>0.07682</td>\n",
              "      <td>0.2121</td>\n",
              "      <td>1.1690</td>\n",
              "      <td>2.061</td>\n",
              "      <td>19.21</td>\n",
              "      <td>0.006429</td>\n",
              "      <td>0.059360</td>\n",
              "      <td>0.05501</td>\n",
              "      <td>0.016280</td>\n",
              "      <td>0.01961</td>\n",
              "      <td>0.008093</td>\n",
              "      <td>15.03</td>\n",
              "      <td>32.01</td>\n",
              "      <td>108.80</td>\n",
              "      <td>697.7</td>\n",
              "      <td>0.1651</td>\n",
              "      <td>0.7725</td>\n",
              "      <td>0.6943</td>\n",
              "      <td>0.22080</td>\n",
              "      <td>0.3596</td>\n",
              "      <td>0.14310</td>\n",
              "      <td>NaN</td>\n",
              "    </tr>\n",
              "    <tr>\n",
              "      <th>15</th>\n",
              "      <td>84799002</td>\n",
              "      <td>M</td>\n",
              "      <td>14.54</td>\n",
              "      <td>27.54</td>\n",
              "      <td>96.73</td>\n",
              "      <td>658.8</td>\n",
              "      <td>0.11390</td>\n",
              "      <td>0.15950</td>\n",
              "      <td>0.16390</td>\n",
              "      <td>0.07364</td>\n",
              "      <td>0.2303</td>\n",
              "      <td>0.07077</td>\n",
              "      <td>0.3700</td>\n",
              "      <td>1.0330</td>\n",
              "      <td>2.879</td>\n",
              "      <td>32.55</td>\n",
              "      <td>0.005607</td>\n",
              "      <td>0.042400</td>\n",
              "      <td>0.04741</td>\n",
              "      <td>0.010900</td>\n",
              "      <td>0.01857</td>\n",
              "      <td>0.005466</td>\n",
              "      <td>17.46</td>\n",
              "      <td>37.13</td>\n",
              "      <td>124.10</td>\n",
              "      <td>943.2</td>\n",
              "      <td>0.1678</td>\n",
              "      <td>0.6577</td>\n",
              "      <td>0.7026</td>\n",
              "      <td>0.17120</td>\n",
              "      <td>0.4218</td>\n",
              "      <td>0.13410</td>\n",
              "      <td>NaN</td>\n",
              "    </tr>\n",
              "    <tr>\n",
              "      <th>16</th>\n",
              "      <td>848406</td>\n",
              "      <td>M</td>\n",
              "      <td>14.68</td>\n",
              "      <td>20.13</td>\n",
              "      <td>94.74</td>\n",
              "      <td>684.5</td>\n",
              "      <td>0.09867</td>\n",
              "      <td>0.07200</td>\n",
              "      <td>0.07395</td>\n",
              "      <td>0.05259</td>\n",
              "      <td>0.1586</td>\n",
              "      <td>0.05922</td>\n",
              "      <td>0.4727</td>\n",
              "      <td>1.2400</td>\n",
              "      <td>3.195</td>\n",
              "      <td>45.40</td>\n",
              "      <td>0.005718</td>\n",
              "      <td>0.011620</td>\n",
              "      <td>0.01998</td>\n",
              "      <td>0.011090</td>\n",
              "      <td>0.01410</td>\n",
              "      <td>0.002085</td>\n",
              "      <td>19.07</td>\n",
              "      <td>30.88</td>\n",
              "      <td>123.40</td>\n",
              "      <td>1138.0</td>\n",
              "      <td>0.1464</td>\n",
              "      <td>0.1871</td>\n",
              "      <td>0.2914</td>\n",
              "      <td>0.16090</td>\n",
              "      <td>0.3029</td>\n",
              "      <td>0.08216</td>\n",
              "      <td>NaN</td>\n",
              "    </tr>\n",
              "    <tr>\n",
              "      <th>17</th>\n",
              "      <td>84862001</td>\n",
              "      <td>M</td>\n",
              "      <td>16.13</td>\n",
              "      <td>20.68</td>\n",
              "      <td>108.10</td>\n",
              "      <td>798.8</td>\n",
              "      <td>0.11700</td>\n",
              "      <td>0.20220</td>\n",
              "      <td>0.17220</td>\n",
              "      <td>0.10280</td>\n",
              "      <td>0.2164</td>\n",
              "      <td>0.07356</td>\n",
              "      <td>0.5692</td>\n",
              "      <td>1.0730</td>\n",
              "      <td>3.854</td>\n",
              "      <td>54.18</td>\n",
              "      <td>0.007026</td>\n",
              "      <td>0.025010</td>\n",
              "      <td>0.03188</td>\n",
              "      <td>0.012970</td>\n",
              "      <td>0.01689</td>\n",
              "      <td>0.004142</td>\n",
              "      <td>20.96</td>\n",
              "      <td>31.48</td>\n",
              "      <td>136.80</td>\n",
              "      <td>1315.0</td>\n",
              "      <td>0.1789</td>\n",
              "      <td>0.4233</td>\n",
              "      <td>0.4784</td>\n",
              "      <td>0.20730</td>\n",
              "      <td>0.3706</td>\n",
              "      <td>0.11420</td>\n",
              "      <td>NaN</td>\n",
              "    </tr>\n",
              "    <tr>\n",
              "      <th>18</th>\n",
              "      <td>849014</td>\n",
              "      <td>M</td>\n",
              "      <td>19.81</td>\n",
              "      <td>22.15</td>\n",
              "      <td>130.00</td>\n",
              "      <td>1260.0</td>\n",
              "      <td>0.09831</td>\n",
              "      <td>0.10270</td>\n",
              "      <td>0.14790</td>\n",
              "      <td>0.09498</td>\n",
              "      <td>0.1582</td>\n",
              "      <td>0.05395</td>\n",
              "      <td>0.7582</td>\n",
              "      <td>1.0170</td>\n",
              "      <td>5.865</td>\n",
              "      <td>112.40</td>\n",
              "      <td>0.006494</td>\n",
              "      <td>0.018930</td>\n",
              "      <td>0.03391</td>\n",
              "      <td>0.015210</td>\n",
              "      <td>0.01356</td>\n",
              "      <td>0.001997</td>\n",
              "      <td>27.32</td>\n",
              "      <td>30.88</td>\n",
              "      <td>186.80</td>\n",
              "      <td>2398.0</td>\n",
              "      <td>0.1512</td>\n",
              "      <td>0.3150</td>\n",
              "      <td>0.5372</td>\n",
              "      <td>0.23880</td>\n",
              "      <td>0.2768</td>\n",
              "      <td>0.07615</td>\n",
              "      <td>NaN</td>\n",
              "    </tr>\n",
              "    <tr>\n",
              "      <th>19</th>\n",
              "      <td>8510426</td>\n",
              "      <td>B</td>\n",
              "      <td>13.54</td>\n",
              "      <td>14.36</td>\n",
              "      <td>87.46</td>\n",
              "      <td>566.3</td>\n",
              "      <td>0.09779</td>\n",
              "      <td>0.08129</td>\n",
              "      <td>0.06664</td>\n",
              "      <td>0.04781</td>\n",
              "      <td>0.1885</td>\n",
              "      <td>0.05766</td>\n",
              "      <td>0.2699</td>\n",
              "      <td>0.7886</td>\n",
              "      <td>2.058</td>\n",
              "      <td>23.56</td>\n",
              "      <td>0.008462</td>\n",
              "      <td>0.014600</td>\n",
              "      <td>0.02387</td>\n",
              "      <td>0.013150</td>\n",
              "      <td>0.01980</td>\n",
              "      <td>0.002300</td>\n",
              "      <td>15.11</td>\n",
              "      <td>19.26</td>\n",
              "      <td>99.70</td>\n",
              "      <td>711.2</td>\n",
              "      <td>0.1440</td>\n",
              "      <td>0.1773</td>\n",
              "      <td>0.2390</td>\n",
              "      <td>0.12880</td>\n",
              "      <td>0.2977</td>\n",
              "      <td>0.07259</td>\n",
              "      <td>NaN</td>\n",
              "    </tr>\n",
              "  </tbody>\n",
              "</table>\n",
              "</div>\n",
              "      <button class=\"colab-df-convert\" onclick=\"convertToInteractive('df-1807b2c8-6d35-43ac-9ae2-518581a89e07')\"\n",
              "              title=\"Convert this dataframe to an interactive table.\"\n",
              "              style=\"display:none;\">\n",
              "        \n",
              "  <svg xmlns=\"http://www.w3.org/2000/svg\" height=\"24px\"viewBox=\"0 0 24 24\"\n",
              "       width=\"24px\">\n",
              "    <path d=\"M0 0h24v24H0V0z\" fill=\"none\"/>\n",
              "    <path d=\"M18.56 5.44l.94 2.06.94-2.06 2.06-.94-2.06-.94-.94-2.06-.94 2.06-2.06.94zm-11 1L8.5 8.5l.94-2.06 2.06-.94-2.06-.94L8.5 2.5l-.94 2.06-2.06.94zm10 10l.94 2.06.94-2.06 2.06-.94-2.06-.94-.94-2.06-.94 2.06-2.06.94z\"/><path d=\"M17.41 7.96l-1.37-1.37c-.4-.4-.92-.59-1.43-.59-.52 0-1.04.2-1.43.59L10.3 9.45l-7.72 7.72c-.78.78-.78 2.05 0 2.83L4 21.41c.39.39.9.59 1.41.59.51 0 1.02-.2 1.41-.59l7.78-7.78 2.81-2.81c.8-.78.8-2.07 0-2.86zM5.41 20L4 18.59l7.72-7.72 1.47 1.35L5.41 20z\"/>\n",
              "  </svg>\n",
              "      </button>\n",
              "      \n",
              "  <style>\n",
              "    .colab-df-container {\n",
              "      display:flex;\n",
              "      flex-wrap:wrap;\n",
              "      gap: 12px;\n",
              "    }\n",
              "\n",
              "    .colab-df-convert {\n",
              "      background-color: #E8F0FE;\n",
              "      border: none;\n",
              "      border-radius: 50%;\n",
              "      cursor: pointer;\n",
              "      display: none;\n",
              "      fill: #1967D2;\n",
              "      height: 32px;\n",
              "      padding: 0 0 0 0;\n",
              "      width: 32px;\n",
              "    }\n",
              "\n",
              "    .colab-df-convert:hover {\n",
              "      background-color: #E2EBFA;\n",
              "      box-shadow: 0px 1px 2px rgba(60, 64, 67, 0.3), 0px 1px 3px 1px rgba(60, 64, 67, 0.15);\n",
              "      fill: #174EA6;\n",
              "    }\n",
              "\n",
              "    [theme=dark] .colab-df-convert {\n",
              "      background-color: #3B4455;\n",
              "      fill: #D2E3FC;\n",
              "    }\n",
              "\n",
              "    [theme=dark] .colab-df-convert:hover {\n",
              "      background-color: #434B5C;\n",
              "      box-shadow: 0px 1px 3px 1px rgba(0, 0, 0, 0.15);\n",
              "      filter: drop-shadow(0px 1px 2px rgba(0, 0, 0, 0.3));\n",
              "      fill: #FFFFFF;\n",
              "    }\n",
              "  </style>\n",
              "\n",
              "      <script>\n",
              "        const buttonEl =\n",
              "          document.querySelector('#df-1807b2c8-6d35-43ac-9ae2-518581a89e07 button.colab-df-convert');\n",
              "        buttonEl.style.display =\n",
              "          google.colab.kernel.accessAllowed ? 'block' : 'none';\n",
              "\n",
              "        async function convertToInteractive(key) {\n",
              "          const element = document.querySelector('#df-1807b2c8-6d35-43ac-9ae2-518581a89e07');\n",
              "          const dataTable =\n",
              "            await google.colab.kernel.invokeFunction('convertToInteractive',\n",
              "                                                     [key], {});\n",
              "          if (!dataTable) return;\n",
              "\n",
              "          const docLinkHtml = 'Like what you see? Visit the ' +\n",
              "            '<a target=\"_blank\" href=https://colab.research.google.com/notebooks/data_table.ipynb>data table notebook</a>'\n",
              "            + ' to learn more about interactive tables.';\n",
              "          element.innerHTML = '';\n",
              "          dataTable['output_type'] = 'display_data';\n",
              "          await google.colab.output.renderOutput(dataTable, element);\n",
              "          const docLink = document.createElement('div');\n",
              "          docLink.innerHTML = docLinkHtml;\n",
              "          element.appendChild(docLink);\n",
              "        }\n",
              "      </script>\n",
              "    </div>\n",
              "  </div>\n",
              "  "
            ],
            "text/plain": [
              "          id diagnosis  ...  fractal_dimension_worst  Unnamed: 32\n",
              "0     842302         M  ...                  0.11890          NaN\n",
              "1     842517         M  ...                  0.08902          NaN\n",
              "2   84300903         M  ...                  0.08758          NaN\n",
              "3   84348301         M  ...                  0.17300          NaN\n",
              "4   84358402         M  ...                  0.07678          NaN\n",
              "5     843786         M  ...                  0.12440          NaN\n",
              "6     844359         M  ...                  0.08368          NaN\n",
              "7   84458202         M  ...                  0.11510          NaN\n",
              "8     844981         M  ...                  0.10720          NaN\n",
              "9   84501001         M  ...                  0.20750          NaN\n",
              "10    845636         M  ...                  0.08452          NaN\n",
              "11  84610002         M  ...                  0.10480          NaN\n",
              "12    846226         M  ...                  0.10230          NaN\n",
              "13    846381         M  ...                  0.06287          NaN\n",
              "14  84667401         M  ...                  0.14310          NaN\n",
              "15  84799002         M  ...                  0.13410          NaN\n",
              "16    848406         M  ...                  0.08216          NaN\n",
              "17  84862001         M  ...                  0.11420          NaN\n",
              "18    849014         M  ...                  0.07615          NaN\n",
              "19   8510426         B  ...                  0.07259          NaN\n",
              "\n",
              "[20 rows x 33 columns]"
            ]
          },
          "metadata": {},
          "execution_count": 3
        }
      ]
    },
    {
      "cell_type": "code",
      "source": [
        "data.shape"
      ],
      "metadata": {
        "colab": {
          "base_uri": "https://localhost:8080/"
        },
        "id": "Y_ibXW4C81ut",
        "outputId": "4f76e329-f061-4210-df2f-837046697847"
      },
      "execution_count": null,
      "outputs": [
        {
          "output_type": "execute_result",
          "data": {
            "text/plain": [
              "(569, 33)"
            ]
          },
          "metadata": {},
          "execution_count": 3
        }
      ]
    },
    {
      "cell_type": "markdown",
      "source": [
        "Let's have a look at the health of the data itself. This function `info()` in the pandas library is very helpful to understand the basic properties of the data itself. If there is any missing values in the dataset can be known right from here so that they can be taken care of before fitting into a model for training and testing."
      ],
      "metadata": {
        "id": "tdBW9oWI9THG"
      }
    },
    {
      "cell_type": "code",
      "source": [
        "data.info()"
      ],
      "metadata": {
        "colab": {
          "base_uri": "https://localhost:8080/"
        },
        "id": "_jfSJWnA9Ne4",
        "outputId": "acf75ee4-fb25-49fc-bc9c-c6087ebdfba7"
      },
      "execution_count": null,
      "outputs": [
        {
          "output_type": "stream",
          "name": "stdout",
          "text": [
            "<class 'pandas.core.frame.DataFrame'>\n",
            "RangeIndex: 569 entries, 0 to 568\n",
            "Data columns (total 33 columns):\n",
            " #   Column                   Non-Null Count  Dtype  \n",
            "---  ------                   --------------  -----  \n",
            " 0   id                       569 non-null    int64  \n",
            " 1   diagnosis                569 non-null    object \n",
            " 2   radius_mean              569 non-null    float64\n",
            " 3   texture_mean             569 non-null    float64\n",
            " 4   perimeter_mean           569 non-null    float64\n",
            " 5   area_mean                569 non-null    float64\n",
            " 6   smoothness_mean          569 non-null    float64\n",
            " 7   compactness_mean         569 non-null    float64\n",
            " 8   concavity_mean           569 non-null    float64\n",
            " 9   concave points_mean      569 non-null    float64\n",
            " 10  symmetry_mean            569 non-null    float64\n",
            " 11  fractal_dimension_mean   569 non-null    float64\n",
            " 12  radius_se                569 non-null    float64\n",
            " 13  texture_se               569 non-null    float64\n",
            " 14  perimeter_se             569 non-null    float64\n",
            " 15  area_se                  569 non-null    float64\n",
            " 16  smoothness_se            569 non-null    float64\n",
            " 17  compactness_se           569 non-null    float64\n",
            " 18  concavity_se             569 non-null    float64\n",
            " 19  concave points_se        569 non-null    float64\n",
            " 20  symmetry_se              569 non-null    float64\n",
            " 21  fractal_dimension_se     569 non-null    float64\n",
            " 22  radius_worst             569 non-null    float64\n",
            " 23  texture_worst            569 non-null    float64\n",
            " 24  perimeter_worst          569 non-null    float64\n",
            " 25  area_worst               569 non-null    float64\n",
            " 26  smoothness_worst         569 non-null    float64\n",
            " 27  compactness_worst        569 non-null    float64\n",
            " 28  concavity_worst          569 non-null    float64\n",
            " 29  concave points_worst     569 non-null    float64\n",
            " 30  symmetry_worst           569 non-null    float64\n",
            " 31  fractal_dimension_worst  569 non-null    float64\n",
            " 32  Unnamed: 32              0 non-null      float64\n",
            "dtypes: float64(31), int64(1), object(1)\n",
            "memory usage: 146.8+ KB\n"
          ]
        }
      ]
    },
    {
      "cell_type": "markdown",
      "source": [
        "**There are 3 things that take my attention.**\n",
        "\n",
        "\n",
        "1.   There is an `id` that cannot be used for classificaiton\n",
        "2.   `Diagnosis` column in the data is our class label\n",
        "3.   `Unnamed: 32` feature includes `NaN` so we do not need it.\n",
        "\n",
        "\n"
      ],
      "metadata": {
        "id": "HjOY15HG91SL"
      }
    },
    {
      "cell_type": "code",
      "source": [
        "col = data.columns       \n",
        "print(col)\n",
        "\n",
        "\n",
        "data.drop(['Unnamed: 32',\"id\"], axis=1, inplace=True)\n",
        "data.diagnosis = [1 if each == \"M\" else 0 for each in data.diagnosis]\n",
        "y_data = data.diagnosis.values\n",
        "x_data = data.drop(['diagnosis'], axis=1)\n",
        "x_data"
      ],
      "metadata": {
        "colab": {
          "base_uri": "https://localhost:8080/",
          "height": 679
        },
        "id": "GTIUc3w99O5M",
        "outputId": "c466a21b-e13b-47a7-cbf9-44c32f53dc09"
      },
      "execution_count": null,
      "outputs": [
        {
          "output_type": "stream",
          "name": "stdout",
          "text": [
            "Index(['id', 'diagnosis', 'radius_mean', 'texture_mean', 'perimeter_mean',\n",
            "       'area_mean', 'smoothness_mean', 'compactness_mean', 'concavity_mean',\n",
            "       'concave points_mean', 'symmetry_mean', 'fractal_dimension_mean',\n",
            "       'radius_se', 'texture_se', 'perimeter_se', 'area_se', 'smoothness_se',\n",
            "       'compactness_se', 'concavity_se', 'concave points_se', 'symmetry_se',\n",
            "       'fractal_dimension_se', 'radius_worst', 'texture_worst',\n",
            "       'perimeter_worst', 'area_worst', 'smoothness_worst',\n",
            "       'compactness_worst', 'concavity_worst', 'concave points_worst',\n",
            "       'symmetry_worst', 'fractal_dimension_worst', 'Unnamed: 32'],\n",
            "      dtype='object')\n"
          ]
        },
        {
          "output_type": "execute_result",
          "data": {
            "text/html": [
              "\n",
              "  <div id=\"df-ece7439f-a6ca-40d1-9dbb-d5c96597acca\">\n",
              "    <div class=\"colab-df-container\">\n",
              "      <div>\n",
              "<style scoped>\n",
              "    .dataframe tbody tr th:only-of-type {\n",
              "        vertical-align: middle;\n",
              "    }\n",
              "\n",
              "    .dataframe tbody tr th {\n",
              "        vertical-align: top;\n",
              "    }\n",
              "\n",
              "    .dataframe thead th {\n",
              "        text-align: right;\n",
              "    }\n",
              "</style>\n",
              "<table border=\"1\" class=\"dataframe\">\n",
              "  <thead>\n",
              "    <tr style=\"text-align: right;\">\n",
              "      <th></th>\n",
              "      <th>radius_mean</th>\n",
              "      <th>texture_mean</th>\n",
              "      <th>perimeter_mean</th>\n",
              "      <th>area_mean</th>\n",
              "      <th>smoothness_mean</th>\n",
              "      <th>compactness_mean</th>\n",
              "      <th>concavity_mean</th>\n",
              "      <th>concave points_mean</th>\n",
              "      <th>symmetry_mean</th>\n",
              "      <th>fractal_dimension_mean</th>\n",
              "      <th>radius_se</th>\n",
              "      <th>texture_se</th>\n",
              "      <th>perimeter_se</th>\n",
              "      <th>area_se</th>\n",
              "      <th>smoothness_se</th>\n",
              "      <th>compactness_se</th>\n",
              "      <th>concavity_se</th>\n",
              "      <th>concave points_se</th>\n",
              "      <th>symmetry_se</th>\n",
              "      <th>fractal_dimension_se</th>\n",
              "      <th>radius_worst</th>\n",
              "      <th>texture_worst</th>\n",
              "      <th>perimeter_worst</th>\n",
              "      <th>area_worst</th>\n",
              "      <th>smoothness_worst</th>\n",
              "      <th>compactness_worst</th>\n",
              "      <th>concavity_worst</th>\n",
              "      <th>concave points_worst</th>\n",
              "      <th>symmetry_worst</th>\n",
              "      <th>fractal_dimension_worst</th>\n",
              "    </tr>\n",
              "  </thead>\n",
              "  <tbody>\n",
              "    <tr>\n",
              "      <th>0</th>\n",
              "      <td>17.99</td>\n",
              "      <td>10.38</td>\n",
              "      <td>122.80</td>\n",
              "      <td>1001.0</td>\n",
              "      <td>0.11840</td>\n",
              "      <td>0.27760</td>\n",
              "      <td>0.30010</td>\n",
              "      <td>0.14710</td>\n",
              "      <td>0.2419</td>\n",
              "      <td>0.07871</td>\n",
              "      <td>1.0950</td>\n",
              "      <td>0.9053</td>\n",
              "      <td>8.589</td>\n",
              "      <td>153.40</td>\n",
              "      <td>0.006399</td>\n",
              "      <td>0.04904</td>\n",
              "      <td>0.05373</td>\n",
              "      <td>0.01587</td>\n",
              "      <td>0.03003</td>\n",
              "      <td>0.006193</td>\n",
              "      <td>25.380</td>\n",
              "      <td>17.33</td>\n",
              "      <td>184.60</td>\n",
              "      <td>2019.0</td>\n",
              "      <td>0.16220</td>\n",
              "      <td>0.66560</td>\n",
              "      <td>0.7119</td>\n",
              "      <td>0.2654</td>\n",
              "      <td>0.4601</td>\n",
              "      <td>0.11890</td>\n",
              "    </tr>\n",
              "    <tr>\n",
              "      <th>1</th>\n",
              "      <td>20.57</td>\n",
              "      <td>17.77</td>\n",
              "      <td>132.90</td>\n",
              "      <td>1326.0</td>\n",
              "      <td>0.08474</td>\n",
              "      <td>0.07864</td>\n",
              "      <td>0.08690</td>\n",
              "      <td>0.07017</td>\n",
              "      <td>0.1812</td>\n",
              "      <td>0.05667</td>\n",
              "      <td>0.5435</td>\n",
              "      <td>0.7339</td>\n",
              "      <td>3.398</td>\n",
              "      <td>74.08</td>\n",
              "      <td>0.005225</td>\n",
              "      <td>0.01308</td>\n",
              "      <td>0.01860</td>\n",
              "      <td>0.01340</td>\n",
              "      <td>0.01389</td>\n",
              "      <td>0.003532</td>\n",
              "      <td>24.990</td>\n",
              "      <td>23.41</td>\n",
              "      <td>158.80</td>\n",
              "      <td>1956.0</td>\n",
              "      <td>0.12380</td>\n",
              "      <td>0.18660</td>\n",
              "      <td>0.2416</td>\n",
              "      <td>0.1860</td>\n",
              "      <td>0.2750</td>\n",
              "      <td>0.08902</td>\n",
              "    </tr>\n",
              "    <tr>\n",
              "      <th>2</th>\n",
              "      <td>19.69</td>\n",
              "      <td>21.25</td>\n",
              "      <td>130.00</td>\n",
              "      <td>1203.0</td>\n",
              "      <td>0.10960</td>\n",
              "      <td>0.15990</td>\n",
              "      <td>0.19740</td>\n",
              "      <td>0.12790</td>\n",
              "      <td>0.2069</td>\n",
              "      <td>0.05999</td>\n",
              "      <td>0.7456</td>\n",
              "      <td>0.7869</td>\n",
              "      <td>4.585</td>\n",
              "      <td>94.03</td>\n",
              "      <td>0.006150</td>\n",
              "      <td>0.04006</td>\n",
              "      <td>0.03832</td>\n",
              "      <td>0.02058</td>\n",
              "      <td>0.02250</td>\n",
              "      <td>0.004571</td>\n",
              "      <td>23.570</td>\n",
              "      <td>25.53</td>\n",
              "      <td>152.50</td>\n",
              "      <td>1709.0</td>\n",
              "      <td>0.14440</td>\n",
              "      <td>0.42450</td>\n",
              "      <td>0.4504</td>\n",
              "      <td>0.2430</td>\n",
              "      <td>0.3613</td>\n",
              "      <td>0.08758</td>\n",
              "    </tr>\n",
              "    <tr>\n",
              "      <th>3</th>\n",
              "      <td>11.42</td>\n",
              "      <td>20.38</td>\n",
              "      <td>77.58</td>\n",
              "      <td>386.1</td>\n",
              "      <td>0.14250</td>\n",
              "      <td>0.28390</td>\n",
              "      <td>0.24140</td>\n",
              "      <td>0.10520</td>\n",
              "      <td>0.2597</td>\n",
              "      <td>0.09744</td>\n",
              "      <td>0.4956</td>\n",
              "      <td>1.1560</td>\n",
              "      <td>3.445</td>\n",
              "      <td>27.23</td>\n",
              "      <td>0.009110</td>\n",
              "      <td>0.07458</td>\n",
              "      <td>0.05661</td>\n",
              "      <td>0.01867</td>\n",
              "      <td>0.05963</td>\n",
              "      <td>0.009208</td>\n",
              "      <td>14.910</td>\n",
              "      <td>26.50</td>\n",
              "      <td>98.87</td>\n",
              "      <td>567.7</td>\n",
              "      <td>0.20980</td>\n",
              "      <td>0.86630</td>\n",
              "      <td>0.6869</td>\n",
              "      <td>0.2575</td>\n",
              "      <td>0.6638</td>\n",
              "      <td>0.17300</td>\n",
              "    </tr>\n",
              "    <tr>\n",
              "      <th>4</th>\n",
              "      <td>20.29</td>\n",
              "      <td>14.34</td>\n",
              "      <td>135.10</td>\n",
              "      <td>1297.0</td>\n",
              "      <td>0.10030</td>\n",
              "      <td>0.13280</td>\n",
              "      <td>0.19800</td>\n",
              "      <td>0.10430</td>\n",
              "      <td>0.1809</td>\n",
              "      <td>0.05883</td>\n",
              "      <td>0.7572</td>\n",
              "      <td>0.7813</td>\n",
              "      <td>5.438</td>\n",
              "      <td>94.44</td>\n",
              "      <td>0.011490</td>\n",
              "      <td>0.02461</td>\n",
              "      <td>0.05688</td>\n",
              "      <td>0.01885</td>\n",
              "      <td>0.01756</td>\n",
              "      <td>0.005115</td>\n",
              "      <td>22.540</td>\n",
              "      <td>16.67</td>\n",
              "      <td>152.20</td>\n",
              "      <td>1575.0</td>\n",
              "      <td>0.13740</td>\n",
              "      <td>0.20500</td>\n",
              "      <td>0.4000</td>\n",
              "      <td>0.1625</td>\n",
              "      <td>0.2364</td>\n",
              "      <td>0.07678</td>\n",
              "    </tr>\n",
              "    <tr>\n",
              "      <th>...</th>\n",
              "      <td>...</td>\n",
              "      <td>...</td>\n",
              "      <td>...</td>\n",
              "      <td>...</td>\n",
              "      <td>...</td>\n",
              "      <td>...</td>\n",
              "      <td>...</td>\n",
              "      <td>...</td>\n",
              "      <td>...</td>\n",
              "      <td>...</td>\n",
              "      <td>...</td>\n",
              "      <td>...</td>\n",
              "      <td>...</td>\n",
              "      <td>...</td>\n",
              "      <td>...</td>\n",
              "      <td>...</td>\n",
              "      <td>...</td>\n",
              "      <td>...</td>\n",
              "      <td>...</td>\n",
              "      <td>...</td>\n",
              "      <td>...</td>\n",
              "      <td>...</td>\n",
              "      <td>...</td>\n",
              "      <td>...</td>\n",
              "      <td>...</td>\n",
              "      <td>...</td>\n",
              "      <td>...</td>\n",
              "      <td>...</td>\n",
              "      <td>...</td>\n",
              "      <td>...</td>\n",
              "    </tr>\n",
              "    <tr>\n",
              "      <th>564</th>\n",
              "      <td>21.56</td>\n",
              "      <td>22.39</td>\n",
              "      <td>142.00</td>\n",
              "      <td>1479.0</td>\n",
              "      <td>0.11100</td>\n",
              "      <td>0.11590</td>\n",
              "      <td>0.24390</td>\n",
              "      <td>0.13890</td>\n",
              "      <td>0.1726</td>\n",
              "      <td>0.05623</td>\n",
              "      <td>1.1760</td>\n",
              "      <td>1.2560</td>\n",
              "      <td>7.673</td>\n",
              "      <td>158.70</td>\n",
              "      <td>0.010300</td>\n",
              "      <td>0.02891</td>\n",
              "      <td>0.05198</td>\n",
              "      <td>0.02454</td>\n",
              "      <td>0.01114</td>\n",
              "      <td>0.004239</td>\n",
              "      <td>25.450</td>\n",
              "      <td>26.40</td>\n",
              "      <td>166.10</td>\n",
              "      <td>2027.0</td>\n",
              "      <td>0.14100</td>\n",
              "      <td>0.21130</td>\n",
              "      <td>0.4107</td>\n",
              "      <td>0.2216</td>\n",
              "      <td>0.2060</td>\n",
              "      <td>0.07115</td>\n",
              "    </tr>\n",
              "    <tr>\n",
              "      <th>565</th>\n",
              "      <td>20.13</td>\n",
              "      <td>28.25</td>\n",
              "      <td>131.20</td>\n",
              "      <td>1261.0</td>\n",
              "      <td>0.09780</td>\n",
              "      <td>0.10340</td>\n",
              "      <td>0.14400</td>\n",
              "      <td>0.09791</td>\n",
              "      <td>0.1752</td>\n",
              "      <td>0.05533</td>\n",
              "      <td>0.7655</td>\n",
              "      <td>2.4630</td>\n",
              "      <td>5.203</td>\n",
              "      <td>99.04</td>\n",
              "      <td>0.005769</td>\n",
              "      <td>0.02423</td>\n",
              "      <td>0.03950</td>\n",
              "      <td>0.01678</td>\n",
              "      <td>0.01898</td>\n",
              "      <td>0.002498</td>\n",
              "      <td>23.690</td>\n",
              "      <td>38.25</td>\n",
              "      <td>155.00</td>\n",
              "      <td>1731.0</td>\n",
              "      <td>0.11660</td>\n",
              "      <td>0.19220</td>\n",
              "      <td>0.3215</td>\n",
              "      <td>0.1628</td>\n",
              "      <td>0.2572</td>\n",
              "      <td>0.06637</td>\n",
              "    </tr>\n",
              "    <tr>\n",
              "      <th>566</th>\n",
              "      <td>16.60</td>\n",
              "      <td>28.08</td>\n",
              "      <td>108.30</td>\n",
              "      <td>858.1</td>\n",
              "      <td>0.08455</td>\n",
              "      <td>0.10230</td>\n",
              "      <td>0.09251</td>\n",
              "      <td>0.05302</td>\n",
              "      <td>0.1590</td>\n",
              "      <td>0.05648</td>\n",
              "      <td>0.4564</td>\n",
              "      <td>1.0750</td>\n",
              "      <td>3.425</td>\n",
              "      <td>48.55</td>\n",
              "      <td>0.005903</td>\n",
              "      <td>0.03731</td>\n",
              "      <td>0.04730</td>\n",
              "      <td>0.01557</td>\n",
              "      <td>0.01318</td>\n",
              "      <td>0.003892</td>\n",
              "      <td>18.980</td>\n",
              "      <td>34.12</td>\n",
              "      <td>126.70</td>\n",
              "      <td>1124.0</td>\n",
              "      <td>0.11390</td>\n",
              "      <td>0.30940</td>\n",
              "      <td>0.3403</td>\n",
              "      <td>0.1418</td>\n",
              "      <td>0.2218</td>\n",
              "      <td>0.07820</td>\n",
              "    </tr>\n",
              "    <tr>\n",
              "      <th>567</th>\n",
              "      <td>20.60</td>\n",
              "      <td>29.33</td>\n",
              "      <td>140.10</td>\n",
              "      <td>1265.0</td>\n",
              "      <td>0.11780</td>\n",
              "      <td>0.27700</td>\n",
              "      <td>0.35140</td>\n",
              "      <td>0.15200</td>\n",
              "      <td>0.2397</td>\n",
              "      <td>0.07016</td>\n",
              "      <td>0.7260</td>\n",
              "      <td>1.5950</td>\n",
              "      <td>5.772</td>\n",
              "      <td>86.22</td>\n",
              "      <td>0.006522</td>\n",
              "      <td>0.06158</td>\n",
              "      <td>0.07117</td>\n",
              "      <td>0.01664</td>\n",
              "      <td>0.02324</td>\n",
              "      <td>0.006185</td>\n",
              "      <td>25.740</td>\n",
              "      <td>39.42</td>\n",
              "      <td>184.60</td>\n",
              "      <td>1821.0</td>\n",
              "      <td>0.16500</td>\n",
              "      <td>0.86810</td>\n",
              "      <td>0.9387</td>\n",
              "      <td>0.2650</td>\n",
              "      <td>0.4087</td>\n",
              "      <td>0.12400</td>\n",
              "    </tr>\n",
              "    <tr>\n",
              "      <th>568</th>\n",
              "      <td>7.76</td>\n",
              "      <td>24.54</td>\n",
              "      <td>47.92</td>\n",
              "      <td>181.0</td>\n",
              "      <td>0.05263</td>\n",
              "      <td>0.04362</td>\n",
              "      <td>0.00000</td>\n",
              "      <td>0.00000</td>\n",
              "      <td>0.1587</td>\n",
              "      <td>0.05884</td>\n",
              "      <td>0.3857</td>\n",
              "      <td>1.4280</td>\n",
              "      <td>2.548</td>\n",
              "      <td>19.15</td>\n",
              "      <td>0.007189</td>\n",
              "      <td>0.00466</td>\n",
              "      <td>0.00000</td>\n",
              "      <td>0.00000</td>\n",
              "      <td>0.02676</td>\n",
              "      <td>0.002783</td>\n",
              "      <td>9.456</td>\n",
              "      <td>30.37</td>\n",
              "      <td>59.16</td>\n",
              "      <td>268.6</td>\n",
              "      <td>0.08996</td>\n",
              "      <td>0.06444</td>\n",
              "      <td>0.0000</td>\n",
              "      <td>0.0000</td>\n",
              "      <td>0.2871</td>\n",
              "      <td>0.07039</td>\n",
              "    </tr>\n",
              "  </tbody>\n",
              "</table>\n",
              "<p>569 rows × 30 columns</p>\n",
              "</div>\n",
              "      <button class=\"colab-df-convert\" onclick=\"convertToInteractive('df-ece7439f-a6ca-40d1-9dbb-d5c96597acca')\"\n",
              "              title=\"Convert this dataframe to an interactive table.\"\n",
              "              style=\"display:none;\">\n",
              "        \n",
              "  <svg xmlns=\"http://www.w3.org/2000/svg\" height=\"24px\"viewBox=\"0 0 24 24\"\n",
              "       width=\"24px\">\n",
              "    <path d=\"M0 0h24v24H0V0z\" fill=\"none\"/>\n",
              "    <path d=\"M18.56 5.44l.94 2.06.94-2.06 2.06-.94-2.06-.94-.94-2.06-.94 2.06-2.06.94zm-11 1L8.5 8.5l.94-2.06 2.06-.94-2.06-.94L8.5 2.5l-.94 2.06-2.06.94zm10 10l.94 2.06.94-2.06 2.06-.94-2.06-.94-.94-2.06-.94 2.06-2.06.94z\"/><path d=\"M17.41 7.96l-1.37-1.37c-.4-.4-.92-.59-1.43-.59-.52 0-1.04.2-1.43.59L10.3 9.45l-7.72 7.72c-.78.78-.78 2.05 0 2.83L4 21.41c.39.39.9.59 1.41.59.51 0 1.02-.2 1.41-.59l7.78-7.78 2.81-2.81c.8-.78.8-2.07 0-2.86zM5.41 20L4 18.59l7.72-7.72 1.47 1.35L5.41 20z\"/>\n",
              "  </svg>\n",
              "      </button>\n",
              "      \n",
              "  <style>\n",
              "    .colab-df-container {\n",
              "      display:flex;\n",
              "      flex-wrap:wrap;\n",
              "      gap: 12px;\n",
              "    }\n",
              "\n",
              "    .colab-df-convert {\n",
              "      background-color: #E8F0FE;\n",
              "      border: none;\n",
              "      border-radius: 50%;\n",
              "      cursor: pointer;\n",
              "      display: none;\n",
              "      fill: #1967D2;\n",
              "      height: 32px;\n",
              "      padding: 0 0 0 0;\n",
              "      width: 32px;\n",
              "    }\n",
              "\n",
              "    .colab-df-convert:hover {\n",
              "      background-color: #E2EBFA;\n",
              "      box-shadow: 0px 1px 2px rgba(60, 64, 67, 0.3), 0px 1px 3px 1px rgba(60, 64, 67, 0.15);\n",
              "      fill: #174EA6;\n",
              "    }\n",
              "\n",
              "    [theme=dark] .colab-df-convert {\n",
              "      background-color: #3B4455;\n",
              "      fill: #D2E3FC;\n",
              "    }\n",
              "\n",
              "    [theme=dark] .colab-df-convert:hover {\n",
              "      background-color: #434B5C;\n",
              "      box-shadow: 0px 1px 3px 1px rgba(0, 0, 0, 0.15);\n",
              "      filter: drop-shadow(0px 1px 2px rgba(0, 0, 0, 0.3));\n",
              "      fill: #FFFFFF;\n",
              "    }\n",
              "  </style>\n",
              "\n",
              "      <script>\n",
              "        const buttonEl =\n",
              "          document.querySelector('#df-ece7439f-a6ca-40d1-9dbb-d5c96597acca button.colab-df-convert');\n",
              "        buttonEl.style.display =\n",
              "          google.colab.kernel.accessAllowed ? 'block' : 'none';\n",
              "\n",
              "        async function convertToInteractive(key) {\n",
              "          const element = document.querySelector('#df-ece7439f-a6ca-40d1-9dbb-d5c96597acca');\n",
              "          const dataTable =\n",
              "            await google.colab.kernel.invokeFunction('convertToInteractive',\n",
              "                                                     [key], {});\n",
              "          if (!dataTable) return;\n",
              "\n",
              "          const docLinkHtml = 'Like what you see? Visit the ' +\n",
              "            '<a target=\"_blank\" href=https://colab.research.google.com/notebooks/data_table.ipynb>data table notebook</a>'\n",
              "            + ' to learn more about interactive tables.';\n",
              "          element.innerHTML = '';\n",
              "          dataTable['output_type'] = 'display_data';\n",
              "          await google.colab.output.renderOutput(dataTable, element);\n",
              "          const docLink = document.createElement('div');\n",
              "          docLink.innerHTML = docLinkHtml;\n",
              "          element.appendChild(docLink);\n",
              "        }\n",
              "      </script>\n",
              "    </div>\n",
              "  </div>\n",
              "  "
            ],
            "text/plain": [
              "     radius_mean  texture_mean  ...  symmetry_worst  fractal_dimension_worst\n",
              "0          17.99         10.38  ...          0.4601                  0.11890\n",
              "1          20.57         17.77  ...          0.2750                  0.08902\n",
              "2          19.69         21.25  ...          0.3613                  0.08758\n",
              "3          11.42         20.38  ...          0.6638                  0.17300\n",
              "4          20.29         14.34  ...          0.2364                  0.07678\n",
              "..           ...           ...  ...             ...                      ...\n",
              "564        21.56         22.39  ...          0.2060                  0.07115\n",
              "565        20.13         28.25  ...          0.2572                  0.06637\n",
              "566        16.60         28.08  ...          0.2218                  0.07820\n",
              "567        20.60         29.33  ...          0.4087                  0.12400\n",
              "568         7.76         24.54  ...          0.2871                  0.07039\n",
              "\n",
              "[569 rows x 30 columns]"
            ]
          },
          "metadata": {},
          "execution_count": 5
        }
      ]
    },
    {
      "cell_type": "code",
      "source": [
        "y_data"
      ],
      "metadata": {
        "colab": {
          "base_uri": "https://localhost:8080/"
        },
        "id": "vru4S1lE-hiL",
        "outputId": "6311d1b3-3517-4241-b8b3-5723f75f921b"
      },
      "execution_count": null,
      "outputs": [
        {
          "output_type": "execute_result",
          "data": {
            "text/plain": [
              "array([1, 1, 1, 1, 1, 1, 1, 1, 1, 1, 1, 1, 1, 1, 1, 1, 1, 1, 1, 0, 0, 0,\n",
              "       1, 1, 1, 1, 1, 1, 1, 1, 1, 1, 1, 1, 1, 1, 1, 0, 1, 1, 1, 1, 1, 1,\n",
              "       1, 1, 0, 1, 0, 0, 0, 0, 0, 1, 1, 0, 1, 1, 0, 0, 0, 0, 1, 0, 1, 1,\n",
              "       0, 0, 0, 0, 1, 0, 1, 1, 0, 1, 0, 1, 1, 0, 0, 0, 1, 1, 0, 1, 1, 1,\n",
              "       0, 0, 0, 1, 0, 0, 1, 1, 0, 0, 0, 1, 1, 0, 0, 0, 0, 1, 0, 0, 1, 0,\n",
              "       0, 0, 0, 0, 0, 0, 0, 1, 1, 1, 0, 1, 1, 0, 0, 0, 1, 1, 0, 1, 0, 1,\n",
              "       1, 0, 1, 1, 0, 0, 1, 0, 0, 1, 0, 0, 0, 0, 1, 0, 0, 0, 0, 0, 0, 0,\n",
              "       0, 0, 1, 0, 0, 0, 0, 1, 1, 0, 1, 0, 0, 1, 1, 0, 0, 1, 1, 0, 0, 0,\n",
              "       0, 1, 0, 0, 1, 1, 1, 0, 1, 0, 1, 0, 0, 0, 1, 0, 0, 1, 1, 0, 1, 1,\n",
              "       1, 1, 0, 1, 1, 1, 0, 1, 0, 1, 0, 0, 1, 0, 1, 1, 1, 1, 0, 0, 1, 1,\n",
              "       0, 0, 0, 1, 0, 0, 0, 0, 0, 1, 1, 0, 0, 1, 0, 0, 1, 1, 0, 1, 0, 0,\n",
              "       0, 0, 1, 0, 0, 0, 0, 0, 1, 0, 1, 1, 1, 1, 1, 1, 1, 1, 1, 1, 1, 1,\n",
              "       1, 1, 0, 0, 0, 0, 0, 0, 1, 0, 1, 0, 0, 1, 0, 0, 1, 0, 1, 1, 0, 0,\n",
              "       0, 0, 0, 0, 0, 0, 0, 0, 0, 0, 0, 1, 0, 0, 1, 0, 1, 0, 0, 0, 0, 0,\n",
              "       0, 0, 0, 0, 0, 0, 0, 0, 0, 1, 0, 0, 0, 1, 0, 1, 0, 0, 0, 0, 1, 1,\n",
              "       1, 0, 0, 0, 0, 1, 0, 1, 0, 1, 0, 0, 0, 1, 0, 0, 0, 0, 0, 0, 0, 1,\n",
              "       1, 1, 0, 0, 0, 0, 0, 0, 0, 0, 0, 0, 0, 1, 1, 0, 1, 1, 1, 0, 1, 1,\n",
              "       0, 0, 0, 0, 0, 1, 0, 0, 0, 0, 0, 1, 0, 0, 0, 1, 0, 0, 1, 1, 0, 0,\n",
              "       0, 0, 0, 0, 1, 0, 0, 0, 0, 0, 0, 0, 1, 0, 0, 0, 0, 0, 1, 0, 0, 1,\n",
              "       0, 0, 0, 0, 0, 0, 0, 0, 0, 0, 0, 0, 1, 0, 1, 1, 0, 1, 0, 0, 0, 0,\n",
              "       0, 1, 0, 0, 1, 0, 1, 0, 0, 1, 0, 1, 0, 0, 0, 0, 0, 0, 0, 0, 1, 1,\n",
              "       0, 0, 0, 0, 0, 0, 1, 0, 0, 0, 0, 0, 0, 0, 0, 0, 0, 1, 0, 0, 0, 0,\n",
              "       0, 0, 0, 1, 0, 1, 0, 0, 1, 0, 0, 0, 0, 0, 1, 1, 0, 1, 0, 1, 0, 0,\n",
              "       0, 0, 0, 1, 0, 0, 1, 0, 1, 0, 1, 1, 0, 0, 0, 1, 0, 0, 0, 0, 0, 0,\n",
              "       0, 0, 0, 0, 0, 1, 0, 1, 1, 0, 0, 0, 0, 0, 0, 0, 0, 0, 0, 0, 0, 0,\n",
              "       0, 0, 0, 0, 0, 0, 0, 0, 0, 0, 0, 0, 1, 1, 1, 1, 1, 1, 0])"
            ]
          },
          "metadata": {},
          "execution_count": 6
        }
      ]
    },
    {
      "cell_type": "markdown",
      "source": [
        "Okay, now we have the features but **what do they mean**, or actually **how much do we need to know about these features**. The answer is that we do not need to know the meaning of these features. However, to imagine in our mind, we should know something like variance, standard deviation, number of the sample (count), or max-min values. This type of information helps to understand what is going on in data. For example, this question appears in my mind that the `area_mean` feature's max value is `2500` and `smoothness_mean` features' max `0.16340`. Therefore **do we need standardization or normalization before visualization, feature selection, feature extraction, or classification**? The answer is yes and no not surprising ha :) Anyway, let us go step by step and start with visualization."
      ],
      "metadata": {
        "id": "nYbDRo8_-vxx"
      }
    },
    {
      "cell_type": "markdown",
      "source": [
        "**Normalization**<br>\n",
        "Normalization refers to rescaling real-valued numeric attributes into a `0 to 1` range. Data normalization is used in machine learning to make model training less sensitive to the scale of features.\n",
        "\n",
        "You can either implement the conversion process with basic python or use `MinMaxScaler()` function from the `sklearn` library."
      ],
      "metadata": {
        "id": "0tTS_GMEAFx8"
      }
    },
    {
      "cell_type": "code",
      "source": [
        "# Using transformer from sklearn library\n",
        "from sklearn.preprocessing import MinMaxScaler\n",
        "scalar = MinMaxScaler()\n",
        "output = scalar.fit_transform(x_data)\n",
        "\n",
        "# Manual Implementation of the normalization process\n",
        "X_data = (x_data -np.min(x_data))/ (np.max(x_data)-np.min(x_data)).values"
      ],
      "metadata": {
        "id": "FFyNfjuG-iGp"
      },
      "execution_count": null,
      "outputs": []
    },
    {
      "cell_type": "code",
      "source": [
        "X_data"
      ],
      "metadata": {
        "colab": {
          "base_uri": "https://localhost:8080/",
          "height": 505
        },
        "id": "KD0pJrjdAjQK",
        "outputId": "da2f01e2-3b07-419f-833d-ea33b65fff64"
      },
      "execution_count": null,
      "outputs": [
        {
          "output_type": "execute_result",
          "data": {
            "text/html": [
              "\n",
              "  <div id=\"df-27aa90d5-482a-4b82-bd01-d0a02561a5b1\">\n",
              "    <div class=\"colab-df-container\">\n",
              "      <div>\n",
              "<style scoped>\n",
              "    .dataframe tbody tr th:only-of-type {\n",
              "        vertical-align: middle;\n",
              "    }\n",
              "\n",
              "    .dataframe tbody tr th {\n",
              "        vertical-align: top;\n",
              "    }\n",
              "\n",
              "    .dataframe thead th {\n",
              "        text-align: right;\n",
              "    }\n",
              "</style>\n",
              "<table border=\"1\" class=\"dataframe\">\n",
              "  <thead>\n",
              "    <tr style=\"text-align: right;\">\n",
              "      <th></th>\n",
              "      <th>radius_mean</th>\n",
              "      <th>texture_mean</th>\n",
              "      <th>perimeter_mean</th>\n",
              "      <th>area_mean</th>\n",
              "      <th>smoothness_mean</th>\n",
              "      <th>compactness_mean</th>\n",
              "      <th>concavity_mean</th>\n",
              "      <th>concave points_mean</th>\n",
              "      <th>symmetry_mean</th>\n",
              "      <th>fractal_dimension_mean</th>\n",
              "      <th>radius_se</th>\n",
              "      <th>texture_se</th>\n",
              "      <th>perimeter_se</th>\n",
              "      <th>area_se</th>\n",
              "      <th>smoothness_se</th>\n",
              "      <th>compactness_se</th>\n",
              "      <th>concavity_se</th>\n",
              "      <th>concave points_se</th>\n",
              "      <th>symmetry_se</th>\n",
              "      <th>fractal_dimension_se</th>\n",
              "      <th>radius_worst</th>\n",
              "      <th>texture_worst</th>\n",
              "      <th>perimeter_worst</th>\n",
              "      <th>area_worst</th>\n",
              "      <th>smoothness_worst</th>\n",
              "      <th>compactness_worst</th>\n",
              "      <th>concavity_worst</th>\n",
              "      <th>concave points_worst</th>\n",
              "      <th>symmetry_worst</th>\n",
              "      <th>fractal_dimension_worst</th>\n",
              "    </tr>\n",
              "  </thead>\n",
              "  <tbody>\n",
              "    <tr>\n",
              "      <th>0</th>\n",
              "      <td>0.521037</td>\n",
              "      <td>0.022658</td>\n",
              "      <td>0.545989</td>\n",
              "      <td>0.363733</td>\n",
              "      <td>0.593753</td>\n",
              "      <td>0.792037</td>\n",
              "      <td>0.703140</td>\n",
              "      <td>0.731113</td>\n",
              "      <td>0.686364</td>\n",
              "      <td>0.605518</td>\n",
              "      <td>0.356147</td>\n",
              "      <td>0.120469</td>\n",
              "      <td>0.369034</td>\n",
              "      <td>0.273811</td>\n",
              "      <td>0.159296</td>\n",
              "      <td>0.351398</td>\n",
              "      <td>0.135682</td>\n",
              "      <td>0.300625</td>\n",
              "      <td>0.311645</td>\n",
              "      <td>0.183042</td>\n",
              "      <td>0.620776</td>\n",
              "      <td>0.141525</td>\n",
              "      <td>0.668310</td>\n",
              "      <td>0.450698</td>\n",
              "      <td>0.601136</td>\n",
              "      <td>0.619292</td>\n",
              "      <td>0.568610</td>\n",
              "      <td>0.912027</td>\n",
              "      <td>0.598462</td>\n",
              "      <td>0.418864</td>\n",
              "    </tr>\n",
              "    <tr>\n",
              "      <th>1</th>\n",
              "      <td>0.643144</td>\n",
              "      <td>0.272574</td>\n",
              "      <td>0.615783</td>\n",
              "      <td>0.501591</td>\n",
              "      <td>0.289880</td>\n",
              "      <td>0.181768</td>\n",
              "      <td>0.203608</td>\n",
              "      <td>0.348757</td>\n",
              "      <td>0.379798</td>\n",
              "      <td>0.141323</td>\n",
              "      <td>0.156437</td>\n",
              "      <td>0.082589</td>\n",
              "      <td>0.124440</td>\n",
              "      <td>0.125660</td>\n",
              "      <td>0.119387</td>\n",
              "      <td>0.081323</td>\n",
              "      <td>0.046970</td>\n",
              "      <td>0.253836</td>\n",
              "      <td>0.084539</td>\n",
              "      <td>0.091110</td>\n",
              "      <td>0.606901</td>\n",
              "      <td>0.303571</td>\n",
              "      <td>0.539818</td>\n",
              "      <td>0.435214</td>\n",
              "      <td>0.347553</td>\n",
              "      <td>0.154563</td>\n",
              "      <td>0.192971</td>\n",
              "      <td>0.639175</td>\n",
              "      <td>0.233590</td>\n",
              "      <td>0.222878</td>\n",
              "    </tr>\n",
              "    <tr>\n",
              "      <th>2</th>\n",
              "      <td>0.601496</td>\n",
              "      <td>0.390260</td>\n",
              "      <td>0.595743</td>\n",
              "      <td>0.449417</td>\n",
              "      <td>0.514309</td>\n",
              "      <td>0.431017</td>\n",
              "      <td>0.462512</td>\n",
              "      <td>0.635686</td>\n",
              "      <td>0.509596</td>\n",
              "      <td>0.211247</td>\n",
              "      <td>0.229622</td>\n",
              "      <td>0.094303</td>\n",
              "      <td>0.180370</td>\n",
              "      <td>0.162922</td>\n",
              "      <td>0.150831</td>\n",
              "      <td>0.283955</td>\n",
              "      <td>0.096768</td>\n",
              "      <td>0.389847</td>\n",
              "      <td>0.205690</td>\n",
              "      <td>0.127006</td>\n",
              "      <td>0.556386</td>\n",
              "      <td>0.360075</td>\n",
              "      <td>0.508442</td>\n",
              "      <td>0.374508</td>\n",
              "      <td>0.483590</td>\n",
              "      <td>0.385375</td>\n",
              "      <td>0.359744</td>\n",
              "      <td>0.835052</td>\n",
              "      <td>0.403706</td>\n",
              "      <td>0.213433</td>\n",
              "    </tr>\n",
              "    <tr>\n",
              "      <th>3</th>\n",
              "      <td>0.210090</td>\n",
              "      <td>0.360839</td>\n",
              "      <td>0.233501</td>\n",
              "      <td>0.102906</td>\n",
              "      <td>0.811321</td>\n",
              "      <td>0.811361</td>\n",
              "      <td>0.565604</td>\n",
              "      <td>0.522863</td>\n",
              "      <td>0.776263</td>\n",
              "      <td>1.000000</td>\n",
              "      <td>0.139091</td>\n",
              "      <td>0.175875</td>\n",
              "      <td>0.126655</td>\n",
              "      <td>0.038155</td>\n",
              "      <td>0.251453</td>\n",
              "      <td>0.543215</td>\n",
              "      <td>0.142955</td>\n",
              "      <td>0.353665</td>\n",
              "      <td>0.728148</td>\n",
              "      <td>0.287205</td>\n",
              "      <td>0.248310</td>\n",
              "      <td>0.385928</td>\n",
              "      <td>0.241347</td>\n",
              "      <td>0.094008</td>\n",
              "      <td>0.915472</td>\n",
              "      <td>0.814012</td>\n",
              "      <td>0.548642</td>\n",
              "      <td>0.884880</td>\n",
              "      <td>1.000000</td>\n",
              "      <td>0.773711</td>\n",
              "    </tr>\n",
              "    <tr>\n",
              "      <th>4</th>\n",
              "      <td>0.629893</td>\n",
              "      <td>0.156578</td>\n",
              "      <td>0.630986</td>\n",
              "      <td>0.489290</td>\n",
              "      <td>0.430351</td>\n",
              "      <td>0.347893</td>\n",
              "      <td>0.463918</td>\n",
              "      <td>0.518390</td>\n",
              "      <td>0.378283</td>\n",
              "      <td>0.186816</td>\n",
              "      <td>0.233822</td>\n",
              "      <td>0.093065</td>\n",
              "      <td>0.220563</td>\n",
              "      <td>0.163688</td>\n",
              "      <td>0.332359</td>\n",
              "      <td>0.167918</td>\n",
              "      <td>0.143636</td>\n",
              "      <td>0.357075</td>\n",
              "      <td>0.136179</td>\n",
              "      <td>0.145800</td>\n",
              "      <td>0.519744</td>\n",
              "      <td>0.123934</td>\n",
              "      <td>0.506948</td>\n",
              "      <td>0.341575</td>\n",
              "      <td>0.437364</td>\n",
              "      <td>0.172415</td>\n",
              "      <td>0.319489</td>\n",
              "      <td>0.558419</td>\n",
              "      <td>0.157500</td>\n",
              "      <td>0.142595</td>\n",
              "    </tr>\n",
              "    <tr>\n",
              "      <th>...</th>\n",
              "      <td>...</td>\n",
              "      <td>...</td>\n",
              "      <td>...</td>\n",
              "      <td>...</td>\n",
              "      <td>...</td>\n",
              "      <td>...</td>\n",
              "      <td>...</td>\n",
              "      <td>...</td>\n",
              "      <td>...</td>\n",
              "      <td>...</td>\n",
              "      <td>...</td>\n",
              "      <td>...</td>\n",
              "      <td>...</td>\n",
              "      <td>...</td>\n",
              "      <td>...</td>\n",
              "      <td>...</td>\n",
              "      <td>...</td>\n",
              "      <td>...</td>\n",
              "      <td>...</td>\n",
              "      <td>...</td>\n",
              "      <td>...</td>\n",
              "      <td>...</td>\n",
              "      <td>...</td>\n",
              "      <td>...</td>\n",
              "      <td>...</td>\n",
              "      <td>...</td>\n",
              "      <td>...</td>\n",
              "      <td>...</td>\n",
              "      <td>...</td>\n",
              "      <td>...</td>\n",
              "    </tr>\n",
              "    <tr>\n",
              "      <th>564</th>\n",
              "      <td>0.690000</td>\n",
              "      <td>0.428813</td>\n",
              "      <td>0.678668</td>\n",
              "      <td>0.566490</td>\n",
              "      <td>0.526948</td>\n",
              "      <td>0.296055</td>\n",
              "      <td>0.571462</td>\n",
              "      <td>0.690358</td>\n",
              "      <td>0.336364</td>\n",
              "      <td>0.132056</td>\n",
              "      <td>0.385479</td>\n",
              "      <td>0.197976</td>\n",
              "      <td>0.325873</td>\n",
              "      <td>0.283710</td>\n",
              "      <td>0.291906</td>\n",
              "      <td>0.200213</td>\n",
              "      <td>0.131263</td>\n",
              "      <td>0.464861</td>\n",
              "      <td>0.045843</td>\n",
              "      <td>0.115536</td>\n",
              "      <td>0.623266</td>\n",
              "      <td>0.383262</td>\n",
              "      <td>0.576174</td>\n",
              "      <td>0.452664</td>\n",
              "      <td>0.461137</td>\n",
              "      <td>0.178527</td>\n",
              "      <td>0.328035</td>\n",
              "      <td>0.761512</td>\n",
              "      <td>0.097575</td>\n",
              "      <td>0.105667</td>\n",
              "    </tr>\n",
              "    <tr>\n",
              "      <th>565</th>\n",
              "      <td>0.622320</td>\n",
              "      <td>0.626987</td>\n",
              "      <td>0.604036</td>\n",
              "      <td>0.474019</td>\n",
              "      <td>0.407782</td>\n",
              "      <td>0.257714</td>\n",
              "      <td>0.337395</td>\n",
              "      <td>0.486630</td>\n",
              "      <td>0.349495</td>\n",
              "      <td>0.113100</td>\n",
              "      <td>0.236828</td>\n",
              "      <td>0.464728</td>\n",
              "      <td>0.209490</td>\n",
              "      <td>0.172279</td>\n",
              "      <td>0.137879</td>\n",
              "      <td>0.165064</td>\n",
              "      <td>0.099747</td>\n",
              "      <td>0.317863</td>\n",
              "      <td>0.156160</td>\n",
              "      <td>0.055387</td>\n",
              "      <td>0.560655</td>\n",
              "      <td>0.699094</td>\n",
              "      <td>0.520892</td>\n",
              "      <td>0.379915</td>\n",
              "      <td>0.300007</td>\n",
              "      <td>0.159997</td>\n",
              "      <td>0.256789</td>\n",
              "      <td>0.559450</td>\n",
              "      <td>0.198502</td>\n",
              "      <td>0.074315</td>\n",
              "    </tr>\n",
              "    <tr>\n",
              "      <th>566</th>\n",
              "      <td>0.455251</td>\n",
              "      <td>0.621238</td>\n",
              "      <td>0.445788</td>\n",
              "      <td>0.303118</td>\n",
              "      <td>0.288165</td>\n",
              "      <td>0.254340</td>\n",
              "      <td>0.216753</td>\n",
              "      <td>0.263519</td>\n",
              "      <td>0.267677</td>\n",
              "      <td>0.137321</td>\n",
              "      <td>0.124896</td>\n",
              "      <td>0.157974</td>\n",
              "      <td>0.125713</td>\n",
              "      <td>0.077976</td>\n",
              "      <td>0.142435</td>\n",
              "      <td>0.263301</td>\n",
              "      <td>0.119444</td>\n",
              "      <td>0.294942</td>\n",
              "      <td>0.074548</td>\n",
              "      <td>0.103547</td>\n",
              "      <td>0.393099</td>\n",
              "      <td>0.589019</td>\n",
              "      <td>0.379949</td>\n",
              "      <td>0.230731</td>\n",
              "      <td>0.282177</td>\n",
              "      <td>0.273705</td>\n",
              "      <td>0.271805</td>\n",
              "      <td>0.487285</td>\n",
              "      <td>0.128721</td>\n",
              "      <td>0.151909</td>\n",
              "    </tr>\n",
              "    <tr>\n",
              "      <th>567</th>\n",
              "      <td>0.644564</td>\n",
              "      <td>0.663510</td>\n",
              "      <td>0.665538</td>\n",
              "      <td>0.475716</td>\n",
              "      <td>0.588336</td>\n",
              "      <td>0.790197</td>\n",
              "      <td>0.823336</td>\n",
              "      <td>0.755467</td>\n",
              "      <td>0.675253</td>\n",
              "      <td>0.425442</td>\n",
              "      <td>0.222524</td>\n",
              "      <td>0.272896</td>\n",
              "      <td>0.236300</td>\n",
              "      <td>0.148335</td>\n",
              "      <td>0.163477</td>\n",
              "      <td>0.445579</td>\n",
              "      <td>0.179722</td>\n",
              "      <td>0.315211</td>\n",
              "      <td>0.216103</td>\n",
              "      <td>0.182766</td>\n",
              "      <td>0.633582</td>\n",
              "      <td>0.730277</td>\n",
              "      <td>0.668310</td>\n",
              "      <td>0.402035</td>\n",
              "      <td>0.619626</td>\n",
              "      <td>0.815758</td>\n",
              "      <td>0.749760</td>\n",
              "      <td>0.910653</td>\n",
              "      <td>0.497142</td>\n",
              "      <td>0.452315</td>\n",
              "    </tr>\n",
              "    <tr>\n",
              "      <th>568</th>\n",
              "      <td>0.036869</td>\n",
              "      <td>0.501522</td>\n",
              "      <td>0.028540</td>\n",
              "      <td>0.015907</td>\n",
              "      <td>0.000000</td>\n",
              "      <td>0.074351</td>\n",
              "      <td>0.000000</td>\n",
              "      <td>0.000000</td>\n",
              "      <td>0.266162</td>\n",
              "      <td>0.187026</td>\n",
              "      <td>0.099294</td>\n",
              "      <td>0.235988</td>\n",
              "      <td>0.084390</td>\n",
              "      <td>0.023063</td>\n",
              "      <td>0.186151</td>\n",
              "      <td>0.018085</td>\n",
              "      <td>0.000000</td>\n",
              "      <td>0.000000</td>\n",
              "      <td>0.265633</td>\n",
              "      <td>0.065234</td>\n",
              "      <td>0.054287</td>\n",
              "      <td>0.489072</td>\n",
              "      <td>0.043578</td>\n",
              "      <td>0.020497</td>\n",
              "      <td>0.124084</td>\n",
              "      <td>0.036043</td>\n",
              "      <td>0.000000</td>\n",
              "      <td>0.000000</td>\n",
              "      <td>0.257441</td>\n",
              "      <td>0.100682</td>\n",
              "    </tr>\n",
              "  </tbody>\n",
              "</table>\n",
              "<p>569 rows × 30 columns</p>\n",
              "</div>\n",
              "      <button class=\"colab-df-convert\" onclick=\"convertToInteractive('df-27aa90d5-482a-4b82-bd01-d0a02561a5b1')\"\n",
              "              title=\"Convert this dataframe to an interactive table.\"\n",
              "              style=\"display:none;\">\n",
              "        \n",
              "  <svg xmlns=\"http://www.w3.org/2000/svg\" height=\"24px\"viewBox=\"0 0 24 24\"\n",
              "       width=\"24px\">\n",
              "    <path d=\"M0 0h24v24H0V0z\" fill=\"none\"/>\n",
              "    <path d=\"M18.56 5.44l.94 2.06.94-2.06 2.06-.94-2.06-.94-.94-2.06-.94 2.06-2.06.94zm-11 1L8.5 8.5l.94-2.06 2.06-.94-2.06-.94L8.5 2.5l-.94 2.06-2.06.94zm10 10l.94 2.06.94-2.06 2.06-.94-2.06-.94-.94-2.06-.94 2.06-2.06.94z\"/><path d=\"M17.41 7.96l-1.37-1.37c-.4-.4-.92-.59-1.43-.59-.52 0-1.04.2-1.43.59L10.3 9.45l-7.72 7.72c-.78.78-.78 2.05 0 2.83L4 21.41c.39.39.9.59 1.41.59.51 0 1.02-.2 1.41-.59l7.78-7.78 2.81-2.81c.8-.78.8-2.07 0-2.86zM5.41 20L4 18.59l7.72-7.72 1.47 1.35L5.41 20z\"/>\n",
              "  </svg>\n",
              "      </button>\n",
              "      \n",
              "  <style>\n",
              "    .colab-df-container {\n",
              "      display:flex;\n",
              "      flex-wrap:wrap;\n",
              "      gap: 12px;\n",
              "    }\n",
              "\n",
              "    .colab-df-convert {\n",
              "      background-color: #E8F0FE;\n",
              "      border: none;\n",
              "      border-radius: 50%;\n",
              "      cursor: pointer;\n",
              "      display: none;\n",
              "      fill: #1967D2;\n",
              "      height: 32px;\n",
              "      padding: 0 0 0 0;\n",
              "      width: 32px;\n",
              "    }\n",
              "\n",
              "    .colab-df-convert:hover {\n",
              "      background-color: #E2EBFA;\n",
              "      box-shadow: 0px 1px 2px rgba(60, 64, 67, 0.3), 0px 1px 3px 1px rgba(60, 64, 67, 0.15);\n",
              "      fill: #174EA6;\n",
              "    }\n",
              "\n",
              "    [theme=dark] .colab-df-convert {\n",
              "      background-color: #3B4455;\n",
              "      fill: #D2E3FC;\n",
              "    }\n",
              "\n",
              "    [theme=dark] .colab-df-convert:hover {\n",
              "      background-color: #434B5C;\n",
              "      box-shadow: 0px 1px 3px 1px rgba(0, 0, 0, 0.15);\n",
              "      filter: drop-shadow(0px 1px 2px rgba(0, 0, 0, 0.3));\n",
              "      fill: #FFFFFF;\n",
              "    }\n",
              "  </style>\n",
              "\n",
              "      <script>\n",
              "        const buttonEl =\n",
              "          document.querySelector('#df-27aa90d5-482a-4b82-bd01-d0a02561a5b1 button.colab-df-convert');\n",
              "        buttonEl.style.display =\n",
              "          google.colab.kernel.accessAllowed ? 'block' : 'none';\n",
              "\n",
              "        async function convertToInteractive(key) {\n",
              "          const element = document.querySelector('#df-27aa90d5-482a-4b82-bd01-d0a02561a5b1');\n",
              "          const dataTable =\n",
              "            await google.colab.kernel.invokeFunction('convertToInteractive',\n",
              "                                                     [key], {});\n",
              "          if (!dataTable) return;\n",
              "\n",
              "          const docLinkHtml = 'Like what you see? Visit the ' +\n",
              "            '<a target=\"_blank\" href=https://colab.research.google.com/notebooks/data_table.ipynb>data table notebook</a>'\n",
              "            + ' to learn more about interactive tables.';\n",
              "          element.innerHTML = '';\n",
              "          dataTable['output_type'] = 'display_data';\n",
              "          await google.colab.output.renderOutput(dataTable, element);\n",
              "          const docLink = document.createElement('div');\n",
              "          docLink.innerHTML = docLinkHtml;\n",
              "          element.appendChild(docLink);\n",
              "        }\n",
              "      </script>\n",
              "    </div>\n",
              "  </div>\n",
              "  "
            ],
            "text/plain": [
              "     radius_mean  texture_mean  ...  symmetry_worst  fractal_dimension_worst\n",
              "0       0.521037      0.022658  ...        0.598462                 0.418864\n",
              "1       0.643144      0.272574  ...        0.233590                 0.222878\n",
              "2       0.601496      0.390260  ...        0.403706                 0.213433\n",
              "3       0.210090      0.360839  ...        1.000000                 0.773711\n",
              "4       0.629893      0.156578  ...        0.157500                 0.142595\n",
              "..           ...           ...  ...             ...                      ...\n",
              "564     0.690000      0.428813  ...        0.097575                 0.105667\n",
              "565     0.622320      0.626987  ...        0.198502                 0.074315\n",
              "566     0.455251      0.621238  ...        0.128721                 0.151909\n",
              "567     0.644564      0.663510  ...        0.497142                 0.452315\n",
              "568     0.036869      0.501522  ...        0.257441                 0.100682\n",
              "\n",
              "[569 rows x 30 columns]"
            ]
          },
          "metadata": {},
          "execution_count": 10
        }
      ]
    },
    {
      "cell_type": "markdown",
      "source": [
        "**The Basics: Logistic Regression and Regularization**\n",
        "\n",
        "Logistic Regression is one of the most common machine learning algorithms used for classification. It is a statistical model that uses a logistic function to model a binary dependent variable. In essence, it predicts the probability of an observation belonging to a certain class or label. For instance, is this a cat photo or a dog photo?\n",
        "\n",
        "Ordinary Least Squares linear regression is powerful and versatile right out of the box, but there are certain circumstances where it fails.\n",
        "\n",
        "1. It is, expressly, a ‘regression’ framework, which makes it hard to apply as a classifier.\n",
        "2. Unlike, say, a decision tree, linear regression models don’t perform their implicit feature selection, meaning they are prone to overfit if too many features are included.\n",
        "\n",
        "Luckily, there are some extensions to the linear model that allow us to overcome these issues. Logistic regression turns the linear regression framework into a classifier and various types of `regularization` of which the `Ridge` and `Lasso` methods are most common, help avoid overfit in feature-rich instances."
      ],
      "metadata": {
        "id": "6eZMK0ZsBA1W"
      }
    },
    {
      "cell_type": "markdown",
      "source": [
        "### **Hypothesis** \n",
        "We want our model to predict the probability of an observation belonging to a certain class or label. As such, we want a hypothesis $h$ that satisfies the following condition $0 <= h(x) <= 1$ , where $x$ is an observation.\n",
        "\n",
        "We define $h(x) = g(w^T * x)$ , where $g$ is a sigmoid function and $w$ are the trainable parameters or `weights`. As such, we have:\n",
        "$$h(x) = \\frac{1}{1+e^{-w^Tx}}$$\n",
        "\n",
        "### The cost for an observation \n",
        "Now that we can predict the probability for an observation, we want the result to have the minimum error. If the class label is $y$, the cost (error) associated with an observation $x$ is given by:\n",
        "\n",
        "![](https://miro.medium.com/max/525/1*vSGnYVz6I7sAObKuxuFAoQ.gif)\n",
        "\n",
        "### Cost Function\n",
        "Thus, the total cost for all the $m$ observations in a dataset is:\n",
        "![](https://miro.medium.com/max/368/0*vZnp94vCoN0vMDAj)\n",
        "\n",
        "We can rewrite the cost function J as:\n",
        "![](https://miro.medium.com/max/691/0*o57ug0iMGDJVI1qo)\n",
        "\n",
        "The objective of logistic regression is to find params `w` so that `J` is minimum. How can we do that?? We will use the gradient descent algorithm to update each of the weights gradually to minimize the cost `J`. \n",
        "\n",
        "We will update each of the params wᵢ using the following template:\n",
        "![](https://miro.medium.com/max/875/0*Q6ssvXABrvHUZrfy)\n",
        "![](https://miro.medium.com/max/496/0*7uVvuW-ZGauNWH_V)\n",
        "\n",
        "The above step will help us find a set of params wᵢ, which will then help us to come up with $h(x)$ to solve our binary classification task.\n",
        "But there is also an undesirable outcome associated with the above gradient descent steps. In an attempt to find the best $h(x)$, the following things happen:\n",
        "\n",
        "**CASE I: For class label = 0**: $h(x)$ will try to produce results as close 0 as possible. As such, $w^T.x$ will be as small as possible\n",
        "=> Wi will tend to -infinity\n",
        "\n",
        "**CASE II: For class label = 1**: $h(x)$ will try to produce results as close 1 as possible. As such, $w^T.x$ will be as large as possible\n",
        "=> Wi will tend to +infinity\n",
        "\n",
        "\n",
        "## Regularization\n",
        "Regularization is a technique to solve the problem of overfitting in a machine learning algorithm by penalizing the cost function. It does so by using an additional penalty term in the cost function.\n",
        "There are two types of regularization techniques:\n",
        "1. Lasso or L1 Regularization\n",
        "2. Ridge or L2 Regularization (We will implement here)\n",
        "So, how can L2 Regularization help to prevent overfitting? Let’s first look at our new cost function:\n",
        "\n",
        "![](https://miro.medium.com/max/628/0*Nc_ocecF0dHpUutK)\n",
        "\n",
        "\n",
        "The regularization term will heavily penalize large $w_i$. The effect will be less on smaller $w_i$’s. As such, the growth of $w$ is controlled. The $h(x)$ we obtain with these controlled params $w$ will be more generalizable.\n",
        "\n",
        "**NOTE:** $λ$ is a hyper-parameter value. We have to find it using cross-validation. \n",
        "* Larger value $λ$ of will make $w_i$ shrink closer to $0$, which might lead to underfitting. \n",
        "* $λ = 0$, will have no regulariztion effect. \n",
        "\n",
        "When choosing $λ$, we have to take proper care of bias vs variance trade-off.\n"
      ],
      "metadata": {
        "id": "nagHb5TbB0my"
      }
    },
    {
      "cell_type": "code",
      "source": [
        "class LogisticRegression(object):\n",
        "    \"\"\"\n",
        "    Logistic Regression Classifier\n",
        "    Parameters\n",
        "    ----------\n",
        "    learning_rate : int or float, default=0.1\n",
        "        The tuning parameter for the optimization algorithm (here, Gradient Descent) \n",
        "        that determines the step size at each iteration while moving toward a minimum \n",
        "        of the cost function.\n",
        "    max_iter : int, default=100\n",
        "        Maximum number of iterations taken for the optimization algorithm to converge\n",
        "    \n",
        "    penalty : None or 'l2', default='l2'.\n",
        "        Option to perform L2 regularization.\n",
        "    C : float, default=0.1\n",
        "        Inverse of regularization strength; must be a positive float. \n",
        "        Smaller values specify stronger regularization. \n",
        "    tolerance : float, optional, default=1e-4\n",
        "        Value indicating the weight change between epochs in which\n",
        "        gradient descent should terminated. \n",
        "    \"\"\"\n",
        "\n",
        "    def __init__(self, learning_rate=0.1, max_iter=100, regularization='l2', lambda_ = 10 , tolerance = 1e-4):\n",
        "        self.learning_rate  = learning_rate\n",
        "        self.max_iter       = max_iter\n",
        "        self.regularization = regularization\n",
        "        self.lambda_        = lambda_\n",
        "        self.tolerance      = tolerance\n",
        "        self.loss_log       = []\n",
        "    \n",
        "    def fit(self, X, y, verbose = False):\n",
        "        \"\"\"\n",
        "        Fit the model according to the given training data.\n",
        "        Parameters\n",
        "        ----------\n",
        "        X : {array-like, sparse matrix} of shape (n_samples, n_features)\n",
        "            Training vector, where n_samples is the number of samples and\n",
        "            n_features is the number of features.\n",
        "        y : array-like of shape (n_samples,)\n",
        "            Target vector relative to X.\n",
        "        Returns\n",
        "        -------\n",
        "        self : object\n",
        "        \"\"\"\n",
        "        self.theta = np.random.rand(X.shape[1] + 1)\n",
        "        X = np.concatenate((np.ones((X.shape[0], 1)), X), axis=1)\n",
        "        self.loss_log = []\n",
        "\n",
        "        for iteration in range(self.max_iter):\n",
        "            Z = np.matmul(X,  self.theta)\n",
        "            y_hat = self.__sigmoid(Z)\n",
        "            \n",
        "            errors = y_hat - y\n",
        "\n",
        "            N = X.shape[1] \n",
        "            \n",
        "            cost = (-1.0/N) * np.sum( y*np.log(y_hat) + (1.0 - y)*np.log(1.0-y_hat))\n",
        "            self.loss_log.append(cost)\n",
        "            \n",
        "            if verbose:\n",
        "                print(f'Iteration {iteration} Loss: {cost}')\n",
        "\n",
        "            if self.regularization is not None:\n",
        "                delta_grad = (1./N) *(np.matmul(errors.T, X)+ self.lambda_ * self.theta)\n",
        "            else:\n",
        "                delta_grad = (1./N) *(np.matmul(errors.T, X))\n",
        "                \n",
        "            self.theta -= self.learning_rate * delta_grad\n",
        "\n",
        "#             if np.all(abs(delta_grad) >= self.tolerance):\n",
        "#                 self.theta -= self.learning_rate * delta_grad\n",
        "#             else:\n",
        "#                 break\n",
        "                \n",
        "        return self\n",
        "\n",
        "    def predict_proba(self, X):\n",
        "        \"\"\"\n",
        "        Probability estimates for samples in X.\n",
        "        Parameters\n",
        "        ----------\n",
        "        X : array-like of shape (n_samples, n_features)\n",
        "            Vector to be scored, where `n_samples` is the number of samples and\n",
        "            `n_features` is the number of features.\n",
        "        Returns\n",
        "        -------\n",
        "        probs : array-like of shape (n_samples,)\n",
        "            Returns the probability of each sample.\n",
        "        \"\"\"\n",
        "        return self.__sigmoid((X @ self.theta[1:]) + self.theta[0])\n",
        "    \n",
        "    def predict(self, X):\n",
        "        \"\"\"\n",
        "        Predict class labels for samples in X.\n",
        "        Parameters\n",
        "        ----------\n",
        "        X : array_like or sparse matrix, shape (n_samples, n_features)\n",
        "            Samples.\n",
        "        Returns\n",
        "        -------\n",
        "        labels : array, shape [n_samples]\n",
        "            Predicted class label per sample.\n",
        "        \"\"\"\n",
        "        return np.round(self.predict_proba(X))\n",
        "        \n",
        "    def __sigmoid(self, z):\n",
        "        \"\"\"\n",
        "        The sigmoid function.\n",
        "        Parameters\n",
        "        ------------\n",
        "        z : float\n",
        "            linear combinations of weights and sample features\n",
        "            z = w_0 + w_1*x_1 + ... + w_n*x_n\n",
        "        Returns\n",
        "        ---------\n",
        "        Value of logistic function at z\n",
        "        \"\"\"\n",
        "        return (1.0 / (1.0 + np.exp(-z)))\n",
        "\n",
        "    def get_params(self):\n",
        "        \"\"\"\n",
        "        Get method for models coeffients and intercept.\n",
        "        Returns\n",
        "        -------\n",
        "        params : dict\n",
        "        \"\"\"\n",
        "        try:\n",
        "            params = dict()\n",
        "            params['intercept'] = self.theta[0]\n",
        "            params['coef'] = self.theta[1:]\n",
        "            return params\n",
        "        except:\n",
        "            raise Exception('Fit the model first!')"
      ],
      "metadata": {
        "id": "NkuVzToYA9wm"
      },
      "execution_count": null,
      "outputs": []
    },
    {
      "cell_type": "markdown",
      "source": [
        "**Train and Test Data Validation**\n",
        "\n",
        "Let us split the whole data into two portion. We take 80% data in the train set and then put rest of the data into the test set to check the performance of the trained model. "
      ],
      "metadata": {
        "id": "3hqNbBtyC2Ot"
      }
    },
    {
      "cell_type": "code",
      "source": [
        "from sklearn.model_selection import train_test_split\n",
        "X_train, X_test, y_train, y_test = train_test_split(X_data, y_data, test_size=0.20, random_state=42)\n",
        "\n",
        "# Train and Test Data Summary\n",
        "import plotly.graph_objects as go\n",
        "split = ['Train','Test']\n",
        "\n",
        "fig = go.Figure()\n",
        "fig.add_trace(go.Bar(x=split, y=[np.sum(y_train), np.sum(y_test)],#                base=[-500,-600],\n",
        "                    marker_color='crimson',\n",
        "                    name='Malignant'))\n",
        "fig.add_trace(go.Bar(x=split, \n",
        "                     y=[len(y_train)- np.sum(y_train), len(y_test) - np.sum(y_test)],\n",
        "                    base=0,\n",
        "                    marker_color='lightgreen',\n",
        "                    name='Benign'                ))\n",
        "fig.update_layout(width = 800, height = 400)\n",
        "fig.update_layout(title = 'Count of Samples in Train and Test Split', title_x = 0.5, xaxis_title = \"Category\", yaxis_title = 'Sample Count')\n",
        "fig.show()"
      ],
      "metadata": {
        "colab": {
          "base_uri": "https://localhost:8080/",
          "height": 417
        },
        "id": "cGBONkO0Cy89",
        "outputId": "360219af-7a37-4e84-de4a-60b26deb3ccb"
      },
      "execution_count": null,
      "outputs": [
        {
          "output_type": "display_data",
          "data": {
            "text/html": [
              "<html>\n",
              "<head><meta charset=\"utf-8\" /></head>\n",
              "<body>\n",
              "    <div>\n",
              "            <script src=\"https://cdnjs.cloudflare.com/ajax/libs/mathjax/2.7.5/MathJax.js?config=TeX-AMS-MML_SVG\"></script><script type=\"text/javascript\">if (window.MathJax) {MathJax.Hub.Config({SVG: {font: \"STIX-Web\"}});}</script>\n",
              "                <script type=\"text/javascript\">window.PlotlyConfig = {MathJaxConfig: 'local'};</script>\n",
              "        <script src=\"https://cdn.plot.ly/plotly-latest.min.js\"></script>    \n",
              "            <div id=\"d01b447c-4f44-4041-895e-4ed36efdca4a\" class=\"plotly-graph-div\" style=\"height:400px; width:800px;\"></div>\n",
              "            <script type=\"text/javascript\">\n",
              "                \n",
              "                    window.PLOTLYENV=window.PLOTLYENV || {};\n",
              "                    \n",
              "                if (document.getElementById(\"d01b447c-4f44-4041-895e-4ed36efdca4a\")) {\n",
              "                    Plotly.newPlot(\n",
              "                        'd01b447c-4f44-4041-895e-4ed36efdca4a',\n",
              "                        [{\"marker\": {\"color\": \"crimson\"}, \"name\": \"Malignant\", \"type\": \"bar\", \"x\": [\"Train\", \"Test\"], \"y\": [169, 43]}, {\"base\": 0, \"marker\": {\"color\": \"lightgreen\"}, \"name\": \"Benign\", \"type\": \"bar\", \"x\": [\"Train\", \"Test\"], \"y\": [286, 71]}],\n",
              "                        {\"height\": 400, \"template\": {\"data\": {\"bar\": [{\"error_x\": {\"color\": \"#2a3f5f\"}, \"error_y\": {\"color\": \"#2a3f5f\"}, \"marker\": {\"line\": {\"color\": \"#E5ECF6\", \"width\": 0.5}}, \"type\": \"bar\"}], \"barpolar\": [{\"marker\": {\"line\": {\"color\": \"#E5ECF6\", \"width\": 0.5}}, \"type\": \"barpolar\"}], \"carpet\": [{\"aaxis\": {\"endlinecolor\": \"#2a3f5f\", \"gridcolor\": \"white\", \"linecolor\": \"white\", \"minorgridcolor\": \"white\", \"startlinecolor\": \"#2a3f5f\"}, \"baxis\": {\"endlinecolor\": \"#2a3f5f\", \"gridcolor\": \"white\", \"linecolor\": \"white\", \"minorgridcolor\": \"white\", \"startlinecolor\": \"#2a3f5f\"}, \"type\": \"carpet\"}], \"choropleth\": [{\"colorbar\": {\"outlinewidth\": 0, \"ticks\": \"\"}, \"type\": \"choropleth\"}], \"contour\": [{\"colorbar\": {\"outlinewidth\": 0, \"ticks\": \"\"}, \"colorscale\": [[0.0, \"#0d0887\"], [0.1111111111111111, \"#46039f\"], [0.2222222222222222, \"#7201a8\"], [0.3333333333333333, \"#9c179e\"], [0.4444444444444444, \"#bd3786\"], [0.5555555555555556, \"#d8576b\"], [0.6666666666666666, \"#ed7953\"], [0.7777777777777778, \"#fb9f3a\"], [0.8888888888888888, \"#fdca26\"], [1.0, \"#f0f921\"]], \"type\": \"contour\"}], \"contourcarpet\": [{\"colorbar\": {\"outlinewidth\": 0, \"ticks\": \"\"}, \"type\": \"contourcarpet\"}], \"heatmap\": [{\"colorbar\": {\"outlinewidth\": 0, \"ticks\": \"\"}, \"colorscale\": [[0.0, \"#0d0887\"], [0.1111111111111111, \"#46039f\"], [0.2222222222222222, \"#7201a8\"], [0.3333333333333333, \"#9c179e\"], [0.4444444444444444, \"#bd3786\"], [0.5555555555555556, \"#d8576b\"], [0.6666666666666666, \"#ed7953\"], [0.7777777777777778, \"#fb9f3a\"], [0.8888888888888888, \"#fdca26\"], [1.0, \"#f0f921\"]], \"type\": \"heatmap\"}], \"heatmapgl\": [{\"colorbar\": {\"outlinewidth\": 0, \"ticks\": \"\"}, \"colorscale\": [[0.0, \"#0d0887\"], [0.1111111111111111, \"#46039f\"], [0.2222222222222222, \"#7201a8\"], [0.3333333333333333, \"#9c179e\"], [0.4444444444444444, \"#bd3786\"], [0.5555555555555556, \"#d8576b\"], [0.6666666666666666, \"#ed7953\"], [0.7777777777777778, \"#fb9f3a\"], [0.8888888888888888, \"#fdca26\"], [1.0, \"#f0f921\"]], \"type\": \"heatmapgl\"}], \"histogram\": [{\"marker\": {\"colorbar\": {\"outlinewidth\": 0, \"ticks\": \"\"}}, \"type\": \"histogram\"}], \"histogram2d\": [{\"colorbar\": {\"outlinewidth\": 0, \"ticks\": \"\"}, \"colorscale\": [[0.0, \"#0d0887\"], [0.1111111111111111, \"#46039f\"], [0.2222222222222222, \"#7201a8\"], [0.3333333333333333, \"#9c179e\"], [0.4444444444444444, \"#bd3786\"], [0.5555555555555556, \"#d8576b\"], [0.6666666666666666, \"#ed7953\"], [0.7777777777777778, \"#fb9f3a\"], [0.8888888888888888, \"#fdca26\"], [1.0, \"#f0f921\"]], \"type\": \"histogram2d\"}], \"histogram2dcontour\": [{\"colorbar\": {\"outlinewidth\": 0, \"ticks\": \"\"}, \"colorscale\": [[0.0, \"#0d0887\"], [0.1111111111111111, \"#46039f\"], [0.2222222222222222, \"#7201a8\"], [0.3333333333333333, \"#9c179e\"], [0.4444444444444444, \"#bd3786\"], [0.5555555555555556, \"#d8576b\"], [0.6666666666666666, \"#ed7953\"], [0.7777777777777778, \"#fb9f3a\"], [0.8888888888888888, \"#fdca26\"], [1.0, \"#f0f921\"]], \"type\": \"histogram2dcontour\"}], \"mesh3d\": [{\"colorbar\": {\"outlinewidth\": 0, \"ticks\": \"\"}, \"type\": \"mesh3d\"}], \"parcoords\": [{\"line\": {\"colorbar\": {\"outlinewidth\": 0, \"ticks\": \"\"}}, \"type\": \"parcoords\"}], \"pie\": [{\"automargin\": true, \"type\": \"pie\"}], \"scatter\": [{\"marker\": {\"colorbar\": {\"outlinewidth\": 0, \"ticks\": \"\"}}, \"type\": \"scatter\"}], \"scatter3d\": [{\"line\": {\"colorbar\": {\"outlinewidth\": 0, \"ticks\": \"\"}}, \"marker\": {\"colorbar\": {\"outlinewidth\": 0, \"ticks\": \"\"}}, \"type\": \"scatter3d\"}], \"scattercarpet\": [{\"marker\": {\"colorbar\": {\"outlinewidth\": 0, \"ticks\": \"\"}}, \"type\": \"scattercarpet\"}], \"scattergeo\": [{\"marker\": {\"colorbar\": {\"outlinewidth\": 0, \"ticks\": \"\"}}, \"type\": \"scattergeo\"}], \"scattergl\": [{\"marker\": {\"colorbar\": {\"outlinewidth\": 0, \"ticks\": \"\"}}, \"type\": \"scattergl\"}], \"scattermapbox\": [{\"marker\": {\"colorbar\": {\"outlinewidth\": 0, \"ticks\": \"\"}}, \"type\": \"scattermapbox\"}], \"scatterpolar\": [{\"marker\": {\"colorbar\": {\"outlinewidth\": 0, \"ticks\": \"\"}}, \"type\": \"scatterpolar\"}], \"scatterpolargl\": [{\"marker\": {\"colorbar\": {\"outlinewidth\": 0, \"ticks\": \"\"}}, \"type\": \"scatterpolargl\"}], \"scatterternary\": [{\"marker\": {\"colorbar\": {\"outlinewidth\": 0, \"ticks\": \"\"}}, \"type\": \"scatterternary\"}], \"surface\": [{\"colorbar\": {\"outlinewidth\": 0, \"ticks\": \"\"}, \"colorscale\": [[0.0, \"#0d0887\"], [0.1111111111111111, \"#46039f\"], [0.2222222222222222, \"#7201a8\"], [0.3333333333333333, \"#9c179e\"], [0.4444444444444444, \"#bd3786\"], [0.5555555555555556, \"#d8576b\"], [0.6666666666666666, \"#ed7953\"], [0.7777777777777778, \"#fb9f3a\"], [0.8888888888888888, \"#fdca26\"], [1.0, \"#f0f921\"]], \"type\": \"surface\"}], \"table\": [{\"cells\": {\"fill\": {\"color\": \"#EBF0F8\"}, \"line\": {\"color\": \"white\"}}, \"header\": {\"fill\": {\"color\": \"#C8D4E3\"}, \"line\": {\"color\": \"white\"}}, \"type\": \"table\"}]}, \"layout\": {\"annotationdefaults\": {\"arrowcolor\": \"#2a3f5f\", \"arrowhead\": 0, \"arrowwidth\": 1}, \"coloraxis\": {\"colorbar\": {\"outlinewidth\": 0, \"ticks\": \"\"}}, \"colorscale\": {\"diverging\": [[0, \"#8e0152\"], [0.1, \"#c51b7d\"], [0.2, \"#de77ae\"], [0.3, \"#f1b6da\"], [0.4, \"#fde0ef\"], [0.5, \"#f7f7f7\"], [0.6, \"#e6f5d0\"], [0.7, \"#b8e186\"], [0.8, \"#7fbc41\"], [0.9, \"#4d9221\"], [1, \"#276419\"]], \"sequential\": [[0.0, \"#0d0887\"], [0.1111111111111111, \"#46039f\"], [0.2222222222222222, \"#7201a8\"], [0.3333333333333333, \"#9c179e\"], [0.4444444444444444, \"#bd3786\"], [0.5555555555555556, \"#d8576b\"], [0.6666666666666666, \"#ed7953\"], [0.7777777777777778, \"#fb9f3a\"], [0.8888888888888888, \"#fdca26\"], [1.0, \"#f0f921\"]], \"sequentialminus\": [[0.0, \"#0d0887\"], [0.1111111111111111, \"#46039f\"], [0.2222222222222222, \"#7201a8\"], [0.3333333333333333, \"#9c179e\"], [0.4444444444444444, \"#bd3786\"], [0.5555555555555556, \"#d8576b\"], [0.6666666666666666, \"#ed7953\"], [0.7777777777777778, \"#fb9f3a\"], [0.8888888888888888, \"#fdca26\"], [1.0, \"#f0f921\"]]}, \"colorway\": [\"#636efa\", \"#EF553B\", \"#00cc96\", \"#ab63fa\", \"#FFA15A\", \"#19d3f3\", \"#FF6692\", \"#B6E880\", \"#FF97FF\", \"#FECB52\"], \"font\": {\"color\": \"#2a3f5f\"}, \"geo\": {\"bgcolor\": \"white\", \"lakecolor\": \"white\", \"landcolor\": \"#E5ECF6\", \"showlakes\": true, \"showland\": true, \"subunitcolor\": \"white\"}, \"hoverlabel\": {\"align\": \"left\"}, \"hovermode\": \"closest\", \"mapbox\": {\"style\": \"light\"}, \"paper_bgcolor\": \"white\", \"plot_bgcolor\": \"#E5ECF6\", \"polar\": {\"angularaxis\": {\"gridcolor\": \"white\", \"linecolor\": \"white\", \"ticks\": \"\"}, \"bgcolor\": \"#E5ECF6\", \"radialaxis\": {\"gridcolor\": \"white\", \"linecolor\": \"white\", \"ticks\": \"\"}}, \"scene\": {\"xaxis\": {\"backgroundcolor\": \"#E5ECF6\", \"gridcolor\": \"white\", \"gridwidth\": 2, \"linecolor\": \"white\", \"showbackground\": true, \"ticks\": \"\", \"zerolinecolor\": \"white\"}, \"yaxis\": {\"backgroundcolor\": \"#E5ECF6\", \"gridcolor\": \"white\", \"gridwidth\": 2, \"linecolor\": \"white\", \"showbackground\": true, \"ticks\": \"\", \"zerolinecolor\": \"white\"}, \"zaxis\": {\"backgroundcolor\": \"#E5ECF6\", \"gridcolor\": \"white\", \"gridwidth\": 2, \"linecolor\": \"white\", \"showbackground\": true, \"ticks\": \"\", \"zerolinecolor\": \"white\"}}, \"shapedefaults\": {\"line\": {\"color\": \"#2a3f5f\"}}, \"ternary\": {\"aaxis\": {\"gridcolor\": \"white\", \"linecolor\": \"white\", \"ticks\": \"\"}, \"baxis\": {\"gridcolor\": \"white\", \"linecolor\": \"white\", \"ticks\": \"\"}, \"bgcolor\": \"#E5ECF6\", \"caxis\": {\"gridcolor\": \"white\", \"linecolor\": \"white\", \"ticks\": \"\"}}, \"title\": {\"x\": 0.05}, \"xaxis\": {\"automargin\": true, \"gridcolor\": \"white\", \"linecolor\": \"white\", \"ticks\": \"\", \"title\": {\"standoff\": 15}, \"zerolinecolor\": \"white\", \"zerolinewidth\": 2}, \"yaxis\": {\"automargin\": true, \"gridcolor\": \"white\", \"linecolor\": \"white\", \"ticks\": \"\", \"title\": {\"standoff\": 15}, \"zerolinecolor\": \"white\", \"zerolinewidth\": 2}}}, \"title\": {\"text\": \"Count of Samples in Train and Test Split\", \"x\": 0.5}, \"width\": 800, \"xaxis\": {\"title\": {\"text\": \"Category\"}}, \"yaxis\": {\"title\": {\"text\": \"Sample Count\"}}},\n",
              "                        {\"responsive\": true}\n",
              "                    ).then(function(){\n",
              "                            \n",
              "var gd = document.getElementById('d01b447c-4f44-4041-895e-4ed36efdca4a');\n",
              "var x = new MutationObserver(function (mutations, observer) {{\n",
              "        var display = window.getComputedStyle(gd).display;\n",
              "        if (!display || display === 'none') {{\n",
              "            console.log([gd, 'removed!']);\n",
              "            Plotly.purge(gd);\n",
              "            observer.disconnect();\n",
              "        }}\n",
              "}});\n",
              "\n",
              "// Listen for the removal of the full notebook cells\n",
              "var notebookContainer = gd.closest('#notebook-container');\n",
              "if (notebookContainer) {{\n",
              "    x.observe(notebookContainer, {childList: true});\n",
              "}}\n",
              "\n",
              "// Listen for the clearing of the current output cell\n",
              "var outputEl = gd.closest('.output');\n",
              "if (outputEl) {{\n",
              "    x.observe(outputEl, {childList: true});\n",
              "}}\n",
              "\n",
              "                        })\n",
              "                };\n",
              "                \n",
              "            </script>\n",
              "        </div>\n",
              "</body>\n",
              "</html>"
            ]
          },
          "metadata": {}
        }
      ]
    },
    {
      "cell_type": "markdown",
      "source": [
        "**Training Logistic Regression**\n",
        "\n",
        "Now we train the logistic regression with the training data for a maximum interation of 200. Other parameters are kept default. Feel free to fiddle around the other parameters to understand more of them. "
      ],
      "metadata": {
        "id": "ot2b9mciDAJz"
      }
    },
    {
      "cell_type": "code",
      "source": [
        "MAX_ITER = 400\n",
        "LR_RATE = 1e-2\n",
        "\n",
        "clf_no_reg = LogisticRegression(max_iter = MAX_ITER, learning_rate= LR_RATE,  lambda_ = 200, regularization= None)\n",
        "clf_no_reg.fit(X_train, y_train, verbose = False)\n",
        "\n",
        "clf_reg_10 = LogisticRegression(max_iter = MAX_ITER, learning_rate= LR_RATE, lambda_ = 10, regularization= 'l2')\n",
        "clf_reg_10.fit(X_train, y_train, verbose = False)\n",
        "\n",
        "\n",
        "clf_reg_20 = LogisticRegression(max_iter = MAX_ITER, learning_rate= LR_RATE, lambda_ = 20, regularization= 'l2')\n",
        "clf_reg_20.fit(X_train, y_train, verbose = False)\n",
        "\n",
        "clf_reg_40 = LogisticRegression(max_iter = MAX_ITER, learning_rate= LR_RATE, lambda_ = 40, regularization= 'l2')\n",
        "clf_reg_40.fit(X_train, y_train, verbose = False)"
      ],
      "metadata": {
        "colab": {
          "base_uri": "https://localhost:8080/"
        },
        "id": "_EEAdHzbDFUo",
        "outputId": "ad262dea-10cd-4f98-c7f0-d68f8e40c518"
      },
      "execution_count": null,
      "outputs": [
        {
          "output_type": "execute_result",
          "data": {
            "text/plain": [
              "<__main__.LogisticRegression at 0x7f97e9f22f90>"
            ]
          },
          "metadata": {},
          "execution_count": 13
        }
      ]
    },
    {
      "cell_type": "markdown",
      "source": [
        "**Plot Training Loss over Time**"
      ],
      "metadata": {
        "id": "4s9F2_5hDKsa"
      }
    },
    {
      "cell_type": "code",
      "source": [
        "import plotly.graph_objects as go\n",
        "import numpy as np\n",
        "\n",
        "y = clf_no_reg.loss_log \n",
        "\n",
        "# fig = go.Figure(data=go.Scatter(x= np.arange(start =1, stop = len(y)), \n",
        "#                                 y=y,\n",
        "#                                 mode = 'lines+markers'))\n",
        "\n",
        "\n",
        "# Create traces\n",
        "fig = go.Figure()\n",
        "fig.add_trace(go.Scatter(x=np.arange(start =1, stop = len(y)), y=clf_no_reg.loss_log ,\n",
        "                    mode='lines+markers',\n",
        "                    name='No Regularization'))\n",
        "\n",
        "fig.add_trace(go.Scatter(x=np.arange(start =1, stop = len(y)), y=clf_reg_10.loss_log ,\n",
        "                    mode='lines+markers',\n",
        "                    name='Regulrization W=10'))\n",
        "\n",
        "fig.add_trace(go.Scatter(x=np.arange(start =1, stop = len(y)), y=clf_reg_20.loss_log ,\n",
        "                    mode='lines+markers',\n",
        "                    name='Regulrization W=20'))\n",
        "\n",
        "fig.add_trace(go.Scatter(x=np.arange(start =1, stop = len(y)), y=clf_reg_40.loss_log ,\n",
        "                    mode='lines+markers',\n",
        "                    name='Regulrization W=40'))\n",
        "\n",
        "\n",
        "fig.update_layout(title = \"Error Plot over Iterations\", title_x = 0.5,\n",
        "                  xaxis_title = 'Iteration',\n",
        "                  yaxis_title = 'Log Loss',\n",
        "                  width = 800,\n",
        "                  height = 500)\n",
        "fig.show()"
      ],
      "metadata": {
        "colab": {
          "base_uri": "https://localhost:8080/",
          "height": 517
        },
        "id": "2vgX40VjDOzi",
        "outputId": "a42c2182-6377-4b0e-d99c-6f1e927b8ae0"
      },
      "execution_count": null,
      "outputs": [
        {
          "output_type": "display_data",
          "data": {
            "text/html": [
              "<html>\n",
              "<head><meta charset=\"utf-8\" /></head>\n",
              "<body>\n",
              "    <div>\n",
              "            <script src=\"https://cdnjs.cloudflare.com/ajax/libs/mathjax/2.7.5/MathJax.js?config=TeX-AMS-MML_SVG\"></script><script type=\"text/javascript\">if (window.MathJax) {MathJax.Hub.Config({SVG: {font: \"STIX-Web\"}});}</script>\n",
              "                <script type=\"text/javascript\">window.PlotlyConfig = {MathJaxConfig: 'local'};</script>\n",
              "        <script src=\"https://cdn.plot.ly/plotly-latest.min.js\"></script>    \n",
              "            <div id=\"027472a8-9646-49e9-a515-cb3f7962cb08\" class=\"plotly-graph-div\" style=\"height:500px; width:800px;\"></div>\n",
              "            <script type=\"text/javascript\">\n",
              "                \n",
              "                    window.PLOTLYENV=window.PLOTLYENV || {};\n",
              "                    \n",
              "                if (document.getElementById(\"027472a8-9646-49e9-a515-cb3f7962cb08\")) {\n",
              "                    Plotly.newPlot(\n",
              "                        '027472a8-9646-49e9-a515-cb3f7962cb08',\n",
              "                        [{\"mode\": \"lines+markers\", \"name\": \"No Regularization\", \"type\": \"scatter\", \"x\": [1, 2, 3, 4, 5, 6, 7, 8, 9, 10, 11, 12, 13, 14, 15, 16, 17, 18, 19, 20, 21, 22, 23, 24, 25, 26, 27, 28, 29, 30, 31, 32, 33, 34, 35, 36, 37, 38, 39, 40, 41, 42, 43, 44, 45, 46, 47, 48, 49, 50, 51, 52, 53, 54, 55, 56, 57, 58, 59, 60, 61, 62, 63, 64, 65, 66, 67, 68, 69, 70, 71, 72, 73, 74, 75, 76, 77, 78, 79, 80, 81, 82, 83, 84, 85, 86, 87, 88, 89, 90, 91, 92, 93, 94, 95, 96, 97, 98, 99, 100, 101, 102, 103, 104, 105, 106, 107, 108, 109, 110, 111, 112, 113, 114, 115, 116, 117, 118, 119, 120, 121, 122, 123, 124, 125, 126, 127, 128, 129, 130, 131, 132, 133, 134, 135, 136, 137, 138, 139, 140, 141, 142, 143, 144, 145, 146, 147, 148, 149, 150, 151, 152, 153, 154, 155, 156, 157, 158, 159, 160, 161, 162, 163, 164, 165, 166, 167, 168, 169, 170, 171, 172, 173, 174, 175, 176, 177, 178, 179, 180, 181, 182, 183, 184, 185, 186, 187, 188, 189, 190, 191, 192, 193, 194, 195, 196, 197, 198, 199, 200, 201, 202, 203, 204, 205, 206, 207, 208, 209, 210, 211, 212, 213, 214, 215, 216, 217, 218, 219, 220, 221, 222, 223, 224, 225, 226, 227, 228, 229, 230, 231, 232, 233, 234, 235, 236, 237, 238, 239, 240, 241, 242, 243, 244, 245, 246, 247, 248, 249, 250, 251, 252, 253, 254, 255, 256, 257, 258, 259, 260, 261, 262, 263, 264, 265, 266, 267, 268, 269, 270, 271, 272, 273, 274, 275, 276, 277, 278, 279, 280, 281, 282, 283, 284, 285, 286, 287, 288, 289, 290, 291, 292, 293, 294, 295, 296, 297, 298, 299, 300, 301, 302, 303, 304, 305, 306, 307, 308, 309, 310, 311, 312, 313, 314, 315, 316, 317, 318, 319, 320, 321, 322, 323, 324, 325, 326, 327, 328, 329, 330, 331, 332, 333, 334, 335, 336, 337, 338, 339, 340, 341, 342, 343, 344, 345, 346, 347, 348, 349, 350, 351, 352, 353, 354, 355, 356, 357, 358, 359, 360, 361, 362, 363, 364, 365, 366, 367, 368, 369, 370, 371, 372, 373, 374, 375, 376, 377, 378, 379, 380, 381, 382, 383, 384, 385, 386, 387, 388, 389, 390, 391, 392, 393, 394, 395, 396, 397, 398, 399], \"y\": [29.90739176762806, 28.199400139653623, 26.531531015621454, 24.910562706137654, 23.343902675761832, 21.839434304279003, 20.405274674273823, 19.04943806267533, 17.77941410508865, 16.601688779054765, 15.52125696830017, 14.541191472426116, 13.662337914062771, 12.883192938625985, 12.19999438711684, 11.607013376034136, 11.097000878471626, 10.661716912979207, 10.292465124092894, 9.980568201262919, 9.717743174071728, 9.496361275697772, 9.309597915916427, 9.151491212138662, 9.016932690356848, 8.901613256686483, 8.801943851512403, 8.71496537871853, 8.638257855863744, 8.569854891209228, 8.508166734439316, 8.45191319202721, 8.40006646530294, 8.351803264072728, 8.306465201659794, 8.263526357793747, 8.222566910673748, 8.183251826239736, 8.145313711485224, 8.10853906571238, 8.072757285680328, 8.037831891020014, 8.003653532509936, 7.970134427559977, 7.937203935487047, 7.904805041392117, 7.872891563337877, 7.8414259347137545, 7.810377443647777, 7.779720835383177, 7.749435202788067, 7.719503105532621, 7.689909870711104, 7.660643037426887, 7.631691915600358, 7.603047235407748, 7.574700868638415, 7.546645607129333, 7.518874986505739, 7.491383145891524, 7.464164716183203, 7.437214731011823, 7.410528555730617, 7.384101830728341, 7.35793042613128, 7.332010405562038, 7.306337997103235, 7.280909569995103, 7.255721615898158, 7.230770733791987, 7.206053617771657, 7.181567047154421, 7.157307878429551, 7.133273038679491, 7.109459520176475, 7.085864375918891, 7.0624847159197515, 7.039317704097663, 7.016360555651096, 6.993610534820847, 6.971064952964842, 6.948721166884765, 6.926576577356116, 6.9046286278231195, 6.882874803227589, 6.86131262894705, 6.839939669822384, 6.818753529259151, 6.797751848389896, 6.776932305287316, 6.756292614220048, 6.735830524944592, 6.715543822028008, 6.695430324197196, 6.675487883711274, 6.6557143857543, 6.636107747846066, 6.616665919269139, 6.597386880510662, 6.578268642717653, 6.559309247164854, 6.540506764734229, 6.5218592954054815, 6.503364967756954, 6.485021938476466, 6.466828391881642, 6.44878253944939, 6.430882619354197, 6.413126896015009, 6.395513659650401, 6.378041225841861, 6.360707935104973, 6.34351215246832, 6.326452267059946, 6.309526691701223, 6.292733862507949, 6.276072238498586, 6.259540301209462, 6.243136554316834, 6.226859523265663, 6.2107077549050285, 6.194679817130005, 6.178774298529935, 6.162989808042966, 6.147324974616748, 6.13177844687518, 6.116348892791105, 6.101034999364851, 6.085835472308514, 6.070749035735891, 6.0557744318579365, 6.040910420683686, 6.026155779726535, 6.011509303715743, 5.996969804313154, 5.982536109834934, 5.968207064978332, 5.953981530553322, 5.939858383219048, 5.925836515224986, 5.91191483415676, 5.898092262686486, 5.8843677383276, 5.8707402131940745, 5.857208653763933, 5.8437720406469955, 5.830429368356792, 5.817179645086535, 5.804021892489092, 5.790955145460903, 5.7779784519297355, 5.765090872646231, 5.752291480979161, 5.739579362714338, 5.726953615857089, 5.714413350438252, 5.701957688323612, 5.689585763026713, 5.677296719525005, 5.665089714079226, 5.652963914055997, 5.640918497753538, 5.62895265423047, 5.617065583137631, 5.605256494552865, 5.593524608818694, 5.581869156382872, 5.570289377641713, 5.5587845227861825, 5.547353851650671, 5.535996633564425, 5.524712147205549, 5.513499680457587, 5.502358530268565, 5.49128800251252, 5.480287411853401, 5.469356081611352, 5.458493343631302, 5.447698538153825, 5.4369710136882405, 5.426310126887881, 5.415715242427522, 5.4051857328829245, 5.394720978612418, 5.384320367640535, 5.37398329554363, 5.363709165337447, 5.353497387366603, 5.343347379195963, 5.333258565503841, 5.32323037797704, 5.3132622552076345, 5.303353642591534, 5.293503992228728, 5.283712762825231, 5.273979419596665, 5.264303434173471, 5.254684284507699, 5.245121454781355, 5.235614435316297, 5.226162722485612, 5.216765818626476, 5.207423231954462, 5.19813447647927, 5.188899071921845, 5.179716543632867, 5.170586422512589, 5.161508244931988, 5.152481552655218, 5.143505892763323, 5.134580817579208, 5.1257058845938355, 5.116880656393622, 5.108104700589011, 5.0993775897442175, 5.0906989013081, 5.082068217546159, 5.073485125473632, 5.064949216789656, 5.0564600878125106, 5.04801733941588, 5.039620576966146, 5.031269410260684, 5.02296345346714, 5.01470232506368, 5.00648564778018, 4.998313048540363, 4.990184158404845, 4.982098612515068, 4.974056050038148, 4.966056114112563, 4.958098451794709, 4.950182714006286, 4.942308555482514, 4.934475634721159, 4.926683613932341, 4.918932158989138, 4.91122093937895, 4.903549628155616, 4.895917901892271, 4.888325440634934, 4.88077192785681, 4.873257050413289, 4.865780498497644, 4.858341965597403, 4.8509411484513825, 4.843577747007389, 4.83625146438055, 4.828962006812283, 4.821709083629895, 4.814492407206786, 4.807311692923239, 4.800166659127831, 4.793057027099401, 4.785982521009595, 4.7789428678859736, 4.771937797575669, 4.764967042709586, 4.758030338667138, 4.751127423541494, 4.74425803810536, 4.737421925777254, 4.730618832588276, 4.723848507149382, 4.717110700619131, 4.710405166671893, 4.703731661466549, 4.697089943615629, 4.690479774154901, 4.683900916513413, 4.677353136483963, 4.670836202193998, 4.664349884076932, 4.657893954843885, 4.651468189455825, 4.645072365096105, 4.63870626114341, 4.63236965914507, 4.626062342790773, 4.6197840978866465, 4.613534712329704, 4.607313976082661, 4.601121681149103, 4.594957621549011, 4.588821593294624, 4.58271339436665, 4.576632824690812, 4.570579686114707, 4.564553782385017, 4.558554919125019, 4.5525829038124055, 4.546637545757432, 4.5407186560813555, 4.534826047695173, 4.528959535278656, 4.523118935259675, 4.517304065793812, 4.511514746744251, 4.5057507996619375, 4.500012047766023, 4.4942983159245715, 4.48860943063552, 4.482945220007921, 4.477305513743414, 4.4716901431179705, 4.466098940963866, 4.460531741651914, 4.454988381073932, 4.449468696625441, 4.4439725271886, 4.438499713115369, 4.433050096210904, 4.427623519717157, 4.422219828296717, 4.416838868016844, 4.411480486333735, 4.406144532076982, 4.400830855434246, 4.395539307936129, 4.390269742441249, 4.385022013121503, 4.37979597544754, 4.374591486174397, 4.369408403327357, 4.364246586187962, 4.359105895280225, 4.353986192357015, 4.3488873403866215, 4.3438092035394895, 4.33875164717513, 4.333714537829196, 4.328697743200723, 4.32370113213955, 4.318724574633867, 4.313767941797961, 4.308831105860097, 4.303913940150553, 4.299016319089813, 4.294138118176913, 4.289279213977929, 4.284439484114607, 4.279618807253151, 4.27481706309313, 4.2700341323565585, 4.265269896777069, 4.260524239089262, 4.255797043018166, 4.251088193268836, 4.246397575516076, 4.2417250763943, 4.237070583487514, 4.232433985319414, 4.227815171343617, 4.223214031934011, 4.218630458375219, 4.214064342853186, 4.209515578445878, 4.204984059114091, 4.2004696796923895, 4.195972335880128, 4.191491924232609, 4.187028342152333, 4.182581487880355, 4.178151260487757, 4.173737559867207, 4.169340286724639, 4.164959342571014, 4.160594629714192, 4.1562460512509025, 4.1519135110588055, 4.147596913788644, 4.143296164856505, 4.1390111704361585, 4.134741837451489, 4.130488073569029, 4.126249787190566, 4.122026887445843, 4.117819284185353, 4.1136268879732025, 4.109449610080071, 4.105287362476248, 4.101140057824757, 4.097007609474557, 4.092889931453812, 4.088786938463264, 4.084698545869661, 4.080624669699267, 4.076565226631457, 4.072520133992372, 4.068489309748656, 4.064472672501265, 4.06047014147934, 4.056481636534163, 4.0525070781331705, 4.048546387354041, 4.044599485878849, 4.040666295988285, 4.036746740555946, 4.0328407430426845, 4.028948227491024]}, {\"mode\": \"lines+markers\", \"name\": \"Regulrization W=10\", \"type\": \"scatter\", \"x\": [1, 2, 3, 4, 5, 6, 7, 8, 9, 10, 11, 12, 13, 14, 15, 16, 17, 18, 19, 20, 21, 22, 23, 24, 25, 26, 27, 28, 29, 30, 31, 32, 33, 34, 35, 36, 37, 38, 39, 40, 41, 42, 43, 44, 45, 46, 47, 48, 49, 50, 51, 52, 53, 54, 55, 56, 57, 58, 59, 60, 61, 62, 63, 64, 65, 66, 67, 68, 69, 70, 71, 72, 73, 74, 75, 76, 77, 78, 79, 80, 81, 82, 83, 84, 85, 86, 87, 88, 89, 90, 91, 92, 93, 94, 95, 96, 97, 98, 99, 100, 101, 102, 103, 104, 105, 106, 107, 108, 109, 110, 111, 112, 113, 114, 115, 116, 117, 118, 119, 120, 121, 122, 123, 124, 125, 126, 127, 128, 129, 130, 131, 132, 133, 134, 135, 136, 137, 138, 139, 140, 141, 142, 143, 144, 145, 146, 147, 148, 149, 150, 151, 152, 153, 154, 155, 156, 157, 158, 159, 160, 161, 162, 163, 164, 165, 166, 167, 168, 169, 170, 171, 172, 173, 174, 175, 176, 177, 178, 179, 180, 181, 182, 183, 184, 185, 186, 187, 188, 189, 190, 191, 192, 193, 194, 195, 196, 197, 198, 199, 200, 201, 202, 203, 204, 205, 206, 207, 208, 209, 210, 211, 212, 213, 214, 215, 216, 217, 218, 219, 220, 221, 222, 223, 224, 225, 226, 227, 228, 229, 230, 231, 232, 233, 234, 235, 236, 237, 238, 239, 240, 241, 242, 243, 244, 245, 246, 247, 248, 249, 250, 251, 252, 253, 254, 255, 256, 257, 258, 259, 260, 261, 262, 263, 264, 265, 266, 267, 268, 269, 270, 271, 272, 273, 274, 275, 276, 277, 278, 279, 280, 281, 282, 283, 284, 285, 286, 287, 288, 289, 290, 291, 292, 293, 294, 295, 296, 297, 298, 299, 300, 301, 302, 303, 304, 305, 306, 307, 308, 309, 310, 311, 312, 313, 314, 315, 316, 317, 318, 319, 320, 321, 322, 323, 324, 325, 326, 327, 328, 329, 330, 331, 332, 333, 334, 335, 336, 337, 338, 339, 340, 341, 342, 343, 344, 345, 346, 347, 348, 349, 350, 351, 352, 353, 354, 355, 356, 357, 358, 359, 360, 361, 362, 363, 364, 365, 366, 367, 368, 369, 370, 371, 372, 373, 374, 375, 376, 377, 378, 379, 380, 381, 382, 383, 384, 385, 386, 387, 388, 389, 390, 391, 392, 393, 394, 395, 396, 397, 398, 399], \"y\": [33.51864016357786, 31.642047142703763, 29.801476796190265, 28.002403794768053, 26.25101071701463, 24.55414695130893, 22.919225443227948, 21.354042606604047, 19.866511904697422, 18.464311604439064, 17.15446193542969, 15.94286452540343, 14.833853671110036, 13.829819416325975, 12.930961438986078, 12.135217827609909, 11.43838579727341, 10.834418689276236, 10.315854183857676, 9.874310538534806, 9.500984737067444, 9.18709732256294, 8.924248043473726, 8.704667662533629, 8.521369075973267, 8.3682125740996, 8.239905447525695, 8.131956577097423, 8.040604040869203, 7.962729835016758, 7.895771731623608, 7.8376387472615034, 7.786633928395272, 7.741386178602143, 7.700791541502505, 7.663963556620718, 7.63019187459277, 7.598908130957565, 7.569658042369664, 7.542078740903214, 7.515880458270782, 7.490831785226676, 7.466747846140685, 7.443480835975379, 7.420912462547375, 7.398947919649323, 7.377511086581638, 7.356540707933442, 7.335987355453884, 7.315811013041642, 7.295979157658609, 7.276465234612678, 7.257247446257602, 7.2383077896634616, 7.219631292001611, 7.201205402909447, 7.183019511480152, 7.165064562189237, 7.147332749368465, 7.129817274046605, 7.112512150317786, 7.0954120510498155, 7.07851218484861, 7.061808197863616, 7.04529609534274, 7.028972178895117, 7.012832996252738, 6.996875300982426, 6.981096020123673, 6.965492228143565, 6.950061125929961, 6.93480002380597, 6.9197063277566935, 6.9047775282243, 6.890011190958668, 6.875404949515099, 6.860956499073405, 6.8466635913186025, 6.832524030175866, 6.818535668234049, 6.804696403725425, 6.791004177955602, 6.777456973098822, 6.764052810290544, 6.750789747962743, 6.737665880377985, 6.7246793363269965, 6.711828277961229, 6.699110899737439, 6.686525427455694, 6.674070117375739, 6.66174325539948, 6.649543156309618, 6.637468163056321, 6.625516646085239, 6.613687002701436, 6.6019776564646975, 6.590387056612492, 6.578913677507522, 6.5675560181072274, 6.556312601453137, 6.545181974178182, 6.534162706030494, 6.523253389412314, 6.512452638932942, 6.501759090974699, 6.4911714032711165, 6.480688254496594, 6.470308343866876, 6.460030390749794, 6.449853134285761, 6.439775333017579, 6.429795764529121, 6.419913225092568, 6.410126529323812, 6.400434509845769, 6.390836016959275, 6.38132991832133, 6.371915098630453, 6.36259045931889, 6.353354918251489, 6.344207409431047, 6.335146882709921, 6.326172303507724, 6.317282652534969, 6.308476925522458, 6.299754132956307, 6.291113299818402, 6.282553465332222, 6.274073682713821, 6.265673018927894, 6.257350554448764, 6.249105383026204, 6.240936611455946, 6.2328433593547965, 6.2248247589402235, 6.216879954814329, 6.2090081037521, 6.201208374493828, 6.19347994754163, 6.1858220149599505, 6.17823378017997, 6.170714457807825, 6.163263273436563, 6.155879463461742, 6.148562274900606, 6.141310965214735, 6.134124802136116, 6.127003063496566, 6.1199450370604, 6.112950020360308, 6.106017320536361, 6.099146254178072, 6.092336147169456, 6.085586334537023, 6.078896160300634, 6.072264977327178, 6.065692147186987, 6.059177040012943, 6.052719034362231, 6.046317517080666, 6.0399718831695335, 6.033681535654932, 6.027445885459503, 6.021264351276567, 6.0151363594465534, 6.00906134383572, 6.003038745717099, 5.997068013653624, 5.991148603383391, 5.985279977707013, 5.979461606377037, 5.973692965989346, 5.96797353987655, 5.9623028180033035, 5.956680296863494, 5.951105479379301, 5.945577874802058, 5.940096998614893, 5.934662372437109, 5.9292735239302745, 5.923929986705981, 5.918631300235238, 5.913377009759481, 5.908166666203143, 5.902999826087781, 5.897876051447695, 5.892794909747054, 5.887755973798451, 5.882758821682893, 5.877803036671193, 5.872888207146715, 5.868013926529469, 5.863179793201524, 5.858385410433705, 5.8536303863135615, 5.848914333674557, 5.844236870026509, 5.83959761748718, 5.834996202715071, 5.8304322568433395, 5.825905415414861, 5.821415318318373, 5.816961609725713, 5.81254393803012, 5.8081619557855655, 5.803815319647113, 5.799503690312279, 5.7952267324633695, 5.790984114710792, 5.7867755095373, 5.782600593243172, 5.778459045892303, 5.77435055125918, 5.770274796776739, 5.766231473485088, 5.762220275981064, 5.758240902368613, 5.754293054210006, 5.750376436477824, 5.746490757507742, 5.742635728952086, 5.738811065734119, 5.735016486003096, 5.731251711090031, 5.727516465464174, 5.7238104766902, 5.7201334753860635, 5.716485195181561, 5.712865372677524, 5.709273747405675, 5.705710061789127, 5.7021740611035, 5.698665493438662, 5.6951841096610645, 5.69172966337668, 5.688301910894526, 5.684900611190737, 5.681525525873238, 5.678176419146934, 5.674853057779458, 5.671555211067463, 5.668282650803402, 5.665035151242867, 5.661812489072394, 5.65861444337779, 5.65544079561293, 5.652291329569046, 5.649165831344475, 5.646064089314881, 5.642985894103913, 5.6399310385543355, 5.636899317699568, 5.633890528735676, 5.63090447099378, 5.627940945912874, 5.624999757013061, 5.622080709869186, 5.6191836120848615, 5.61630827326689, 5.613454505000059, 5.6106221208223115, 5.607810936200291, 5.605020768505244, 5.602251436989277, 5.59950276276197, 5.596774568767327, 5.594066679761072, 5.59137892228827, 5.5887111246612795, 5.586063116938023, 5.583434730900587, 5.580825800034106, 5.578236159505984, 5.575665646145389, 5.573114098423062, 5.570581356431409, 5.568067261864877, 5.565571658000617, 5.563094389679417, 5.560635303286915, 5.558194246735074, 5.555771069443913, 5.553365622323519, 5.550977757756292, 5.548607329579445, 5.54625419306776, 5.543918204916578, 5.541599223225033, 5.539297107479505, 5.537011718537332, 5.534742918610725, 5.532490571250915, 5.530254541332521, 5.528034695038134, 5.525830899843115, 5.523643024500593, 5.52147093902669, 5.51931451468592, 5.517173623976821, 5.515048140617752, 5.512937939532912, 5.510842896838516, 5.5087628898292, 5.5066977969645725, 5.504647497855975, 5.502611873253398, 5.500590805032599, 5.498584176182362, 5.496591870791969, 5.494613774038792, 5.492649772176092, 5.490699752520954, 5.488763603442396, 5.486841214349625, 5.4849324756804645, 5.483037278889916, 5.481155516438887, 5.479287081783057, 5.4774318693618955, 5.475589774587824, 5.473760693835514, 5.471944524431327, 5.4701411646429, 5.46835051366886, 5.466572471628659, 5.464806939552571, 5.463053819371785, 5.4613130139086525, 5.459584426867047, 5.4578679628228395, 5.456163527214521, 5.45447102633392, 5.452790367317048, 5.451121458135066, 5.449464207585362, 5.447818525282736, 5.446184321650706, 5.444561507912914, 5.442949996084656, 5.4413496989644985, 5.439760530126016, 5.438182403909617, 5.436615235414495, 5.435058940490655, 5.4335134357310535, 5.431978638463834, 5.430454466744659, 5.42894083934913, 5.42743767576531, 5.425944896186341, 5.424462421503134, 5.422990173297169, 5.421528073833374, 5.420076046053091, 5.4186340135671305, 5.417201900648903, 5.41577963222765, 5.41436713388174, 5.412964331832053, 5.411571152935448, 5.410187524678301, 5.4088133751701335, 5.4074486331373, 5.406093227916769, 5.4047470894499625, 5.403410148276686, 5.402082335529113, 5.400763582925853, 5.399453822766086, 5.398152987923769, 5.3968610118419065, 5.395577828526892, 5.394303372542912, 5.393037579006425, 5.3917803835806914, 5.390531722470385, 5.389291532416249, 5.388059750689823, 5.386836315088237, 5.385621163929057, 5.384414236045195, 5.383215470779872, 5.382024807981648, 5.3808421879995, 5.379667551677974, 5.378500840352356, 5.377341995843954, 5.3761909604553715, 5.375047676965886, 5.373912088626855, 5.372784139157175, 5.3716637727388, 5.370550934012306, 5.369445568072508, 5.3683476204641245, 5.367257037177491, 5.3661737646443175, 5.3650977497335095, 5.364028939747015]}, {\"mode\": \"lines+markers\", \"name\": \"Regulrization W=20\", \"type\": \"scatter\", \"x\": [1, 2, 3, 4, 5, 6, 7, 8, 9, 10, 11, 12, 13, 14, 15, 16, 17, 18, 19, 20, 21, 22, 23, 24, 25, 26, 27, 28, 29, 30, 31, 32, 33, 34, 35, 36, 37, 38, 39, 40, 41, 42, 43, 44, 45, 46, 47, 48, 49, 50, 51, 52, 53, 54, 55, 56, 57, 58, 59, 60, 61, 62, 63, 64, 65, 66, 67, 68, 69, 70, 71, 72, 73, 74, 75, 76, 77, 78, 79, 80, 81, 82, 83, 84, 85, 86, 87, 88, 89, 90, 91, 92, 93, 94, 95, 96, 97, 98, 99, 100, 101, 102, 103, 104, 105, 106, 107, 108, 109, 110, 111, 112, 113, 114, 115, 116, 117, 118, 119, 120, 121, 122, 123, 124, 125, 126, 127, 128, 129, 130, 131, 132, 133, 134, 135, 136, 137, 138, 139, 140, 141, 142, 143, 144, 145, 146, 147, 148, 149, 150, 151, 152, 153, 154, 155, 156, 157, 158, 159, 160, 161, 162, 163, 164, 165, 166, 167, 168, 169, 170, 171, 172, 173, 174, 175, 176, 177, 178, 179, 180, 181, 182, 183, 184, 185, 186, 187, 188, 189, 190, 191, 192, 193, 194, 195, 196, 197, 198, 199, 200, 201, 202, 203, 204, 205, 206, 207, 208, 209, 210, 211, 212, 213, 214, 215, 216, 217, 218, 219, 220, 221, 222, 223, 224, 225, 226, 227, 228, 229, 230, 231, 232, 233, 234, 235, 236, 237, 238, 239, 240, 241, 242, 243, 244, 245, 246, 247, 248, 249, 250, 251, 252, 253, 254, 255, 256, 257, 258, 259, 260, 261, 262, 263, 264, 265, 266, 267, 268, 269, 270, 271, 272, 273, 274, 275, 276, 277, 278, 279, 280, 281, 282, 283, 284, 285, 286, 287, 288, 289, 290, 291, 292, 293, 294, 295, 296, 297, 298, 299, 300, 301, 302, 303, 304, 305, 306, 307, 308, 309, 310, 311, 312, 313, 314, 315, 316, 317, 318, 319, 320, 321, 322, 323, 324, 325, 326, 327, 328, 329, 330, 331, 332, 333, 334, 335, 336, 337, 338, 339, 340, 341, 342, 343, 344, 345, 346, 347, 348, 349, 350, 351, 352, 353, 354, 355, 356, 357, 358, 359, 360, 361, 362, 363, 364, 365, 366, 367, 368, 369, 370, 371, 372, 373, 374, 375, 376, 377, 378, 379, 380, 381, 382, 383, 384, 385, 386, 387, 388, 389, 390, 391, 392, 393, 394, 395, 396, 397, 398, 399], \"y\": [26.369288235678983, 24.586872700666273, 22.87501361960302, 21.241919112310335, 19.695895536081377, 18.24494181940737, 16.89626401157169, 15.655750922219237, 14.527471685781514, 13.513267583088767, 12.612507154872588, 11.822052838595647, 11.136452277186196, 10.548327096915267, 10.048897986688916, 9.628566844543686, 9.27747810245584, 8.985998783278633, 8.745082608283884, 8.546509162077083, 8.38300881245951, 8.248295475314087, 8.137033099995074, 8.044760183810236, 7.967792209296442, 7.903116619536958, 7.848290035729927, 7.80134344975503, 7.760698220271221, 7.72509375262329, 7.693526546905036, 7.665199643811197, 7.639481204860867, 7.615870895542626, 7.593972800627477, 7.573473726572098, 7.5541258967902785, 7.535733198327336, 7.5181402806759765, 7.501223933420358, 7.484886277384414, 7.469049394499051, 7.453651096299742, 7.4386415918675235, 7.423980865241113, 7.409636611830796, 7.395582614908273, 7.381797468333957, 7.368263571573654, 7.354966338788376, 7.341893576200585, 7.329034991729892, 7.316381808599808, 7.303926460681151, 7.291662352105203, 7.279583667425813, 7.2676852215522265, 7.25596234098525, 7.244410769703789, 7.233026594473333, 7.221806185466552, 7.210746148964234, 7.199843289594567, 7.189094580110329, 7.17849713712906, 7.168048201595653, 7.15774512298955, 7.147585346505368, 7.137566402598276, 7.127685898413376, 7.117941510718924, 7.108330980042627, 7.0988521057726865, 7.089502742034566, 7.080280794193362, 7.071184215862362, 7.062211006322667, 7.053359208277971, 7.044626905883778, 7.036012223002443, 7.027513321644951, 7.019128400568012, 7.010855694001026, 7.002693470482429, 6.994640031788637, 6.986693711942036, 6.978852876286816, 6.971115920623538, 6.963481270394849, 6.95594737991611, 6.948512731645689, 6.941175835490581, 6.933935228143696, 6.92678947244966, 6.919737156796552, 6.912776894531276, 6.905907323396632, 6.899127104988439, 6.89243492423121, 6.8858294888711225, 6.879309528985159, 6.872873796505422, 6.866521064757745, 6.8602501280137975, 6.854059801055991, 6.847948918754533, 6.84191633565605, 6.835960925583267, 6.830081581245226, 6.824277213857634, 6.818546752772913, 6.812889145119562, 6.807303355450516, 6.801788365400123, 6.796343173349472, 6.790966794099771, 6.785658258553503, 6.780416613403096, 6.7752409208268976, 6.770130258192179, 6.765083717765004, 6.760100406426714, 6.755179445396867, 6.750319969962402, 6.745521129212916, 6.740782085781808, 6.736102015593177, 6.731480107614313, 6.7269155636135896, 6.722407597923679, 6.717955437209882, 6.713558320243497, 6.709215497680048, 6.704926231842285, 6.7006897965078185, 6.6965054767012635, 6.692372568490806, 6.6882903787890475, 6.684258225158053, 6.680275435618479, 6.676341348462694, 6.672455312071789, 6.668616684736378, 6.66482483448111, 6.661079138892807, 6.657378984952106, 6.653723768868584, 6.650112895919222, 6.646545780290168, 6.643021844921711, 6.639540521356381, 6.6361012495901335, 6.632703477926493, 6.629346662833661, 6.6260302688044375, 6.622753768218967, 6.619516641210203, 6.616318375532022, 6.613158466429961, 6.6100364165144985, 6.606951735636819, 6.603903940767008, 6.600892555874643, 6.5979171118116815, 6.594977146197653, 6.592072203307057, 6.589201833958931, 6.586365595408566, 6.583563051241277, 6.580793771268227, 6.578057331424229, 6.575353313667494, 6.572681305881298, 6.57004090177748, 6.567431700801801, 6.564853308041056, 6.562305334131943, 6.559787395171639, 6.557299112630036, 6.554840113263633, 6.552410029031001, 6.550008497009838, 6.547635159315541, 6.545289663021278, 6.5429716600795516, 6.540680807245159, 6.5384167659996, 6.536179202476845, 6.533967787390445, 6.5317821959619735, 6.529622107850771, 6.5274872070849295, 6.525377181993546, 6.523291725140172, 6.5212305332574685, 6.519193307183002, 6.51717975179622, 6.51518957595651, 6.513222492442374, 6.511278217891666, 6.509356472742898, 6.507456981177549, 6.5055794710634185, 6.503723673898933, 6.501889324758459, 6.500076162238529, 6.498283928405037, 6.4965123687413096, 6.494761232097104, 6.493030270638461, 6.491319239798431, 6.489627898228634, 6.487956007751648, 6.486303333314215, 6.484669642941229, 6.483054707690514, 6.481458301608355, 6.479880201685788, 6.478320187815612, 6.4767780427501425, 6.475253552059642, 6.473746504091467, 6.472256689929885, 6.470783903356556, 6.469327940811673, 6.46788860135574, 6.466465686631981, 6.465059000829366, 6.46366835064624, 6.462293545254552, 6.460934396264659, 6.45959071769071, 6.458262325916586, 6.456949039662393, 6.455650679951499, 6.454367070078089, 6.453098035575258, 6.4518434041836095, 6.4506030058203425, 6.449376672548853, 6.448164238548804, 6.446965540086672, 6.445780415486767, 6.444608705102702, 6.443450251289316, 6.442304898375038, 6.441172492634687, 6.4400528822626795, 6.438945917346689, 6.437851449841686, 6.4367693335443885, 6.435699424068119, 6.434641578818033, 6.433595656966745, 6.432561519430327, 6.431539028844658, 6.4305280495421675, 6.429528447528894, 6.42854009046194, 6.427562847627229, 6.42659658991762, 6.425641189811352, 6.424696521350813, 6.423762460121626, 6.422838883232053, 6.421925669292705, 6.421022698396562, 6.420129852099284, 6.419247013399818, 6.4183740667213005, 6.417510897892232, 6.416657394127935, 6.415813444012293, 6.414978937479747, 6.4141537657975665, 6.413337821548377, 6.412530998612942, 6.411733192153195, 6.410944298595533, 6.410164215614336, 6.409392842115732, 6.408630078221605, 6.40787582525382, 6.407129985718689, 6.406392463291656, 6.4056631628022025, 6.404941990218962, 6.4042288526350655, 6.403523658253682, 6.402826316373767, 6.4021367373760185, 6.401454832709032, 6.40078051487565, 6.400113697419501, 6.399454294911738, 6.398802222937961, 6.398157398085313, 6.39751973792977, 6.396889161023611, 6.39626558688305, 6.3956489359760536, 6.395039129710311, 6.3944360904214035, 6.393839741361099, 6.393250006685843, 6.392666811445382, 6.392090081571567, 6.391519743867291, 6.390955725995593, 6.390397956468907, 6.3898463646384585, 6.389300880683803, 6.38876143560251, 6.388227961200001, 6.38770039007949, 6.387178655632106, 6.386662692027114, 6.386152434202288, 6.385647817854403, 6.385148779429869, 6.384655256115472, 6.384167185829256, 6.383684507211521, 6.38320715961595, 6.382735083100829, 6.38226821842042, 6.381806507016423, 6.381349891009563, 6.380898313191287, 6.3804517170155695, 6.380010046590824, 6.379573246671936, 6.379141262652378, 6.378714040556449, 6.378291527031608, 6.377873669340905, 6.377460415355519, 6.377051713547387, 6.376647512981934, 6.376247763310901, 6.375852414765249, 6.375461418148186, 6.375074724828255, 6.374692286732529, 6.37431405633989, 6.373939986674394, 6.373570031298718, 6.373204144307708, 6.3728422803219855, 6.37248439448166, 6.3721304424401, 6.371780380357809, 6.371434164896359, 6.37109175321241, 6.3707531029518085, 6.370418172243757, 6.3700869196950585, 6.36975930438444, 6.369435285856931, 6.369114824118348, 6.368797879629803, 6.368484413302323, 6.3681743864915115, 6.367867760992289, 6.367564499033699, 6.367264563273773, 6.366967916794467, 6.366674523096664, 6.366384346095227, 6.366097350114129, 6.36581349988163, 6.365532760525529, 6.36525509756846, 6.3649804769232645, 6.3647088648883985, 6.364440228143422, 6.364174533744521, 6.3639117491201125, 6.363651842066471, 6.3633947807434375, 6.363140533670167, 6.362889069720931, 6.362640358120978, 6.362394368442434, 6.362151070600262, 6.361910434848276, 6.36167243177518, 6.361437032300694, 6.361204207671689, 6.360973929458395, 6.36074616955065, 6.360520900154179, 6.360298093786949, 6.360077723275538, 6.359859761751562, 6.35964418264816, 6.359430959696483, 6.3592200669222665, 6.359011478642425, 6.358805169461686]}, {\"mode\": \"lines+markers\", \"name\": \"Regulrization W=40\", \"type\": \"scatter\", \"x\": [1, 2, 3, 4, 5, 6, 7, 8, 9, 10, 11, 12, 13, 14, 15, 16, 17, 18, 19, 20, 21, 22, 23, 24, 25, 26, 27, 28, 29, 30, 31, 32, 33, 34, 35, 36, 37, 38, 39, 40, 41, 42, 43, 44, 45, 46, 47, 48, 49, 50, 51, 52, 53, 54, 55, 56, 57, 58, 59, 60, 61, 62, 63, 64, 65, 66, 67, 68, 69, 70, 71, 72, 73, 74, 75, 76, 77, 78, 79, 80, 81, 82, 83, 84, 85, 86, 87, 88, 89, 90, 91, 92, 93, 94, 95, 96, 97, 98, 99, 100, 101, 102, 103, 104, 105, 106, 107, 108, 109, 110, 111, 112, 113, 114, 115, 116, 117, 118, 119, 120, 121, 122, 123, 124, 125, 126, 127, 128, 129, 130, 131, 132, 133, 134, 135, 136, 137, 138, 139, 140, 141, 142, 143, 144, 145, 146, 147, 148, 149, 150, 151, 152, 153, 154, 155, 156, 157, 158, 159, 160, 161, 162, 163, 164, 165, 166, 167, 168, 169, 170, 171, 172, 173, 174, 175, 176, 177, 178, 179, 180, 181, 182, 183, 184, 185, 186, 187, 188, 189, 190, 191, 192, 193, 194, 195, 196, 197, 198, 199, 200, 201, 202, 203, 204, 205, 206, 207, 208, 209, 210, 211, 212, 213, 214, 215, 216, 217, 218, 219, 220, 221, 222, 223, 224, 225, 226, 227, 228, 229, 230, 231, 232, 233, 234, 235, 236, 237, 238, 239, 240, 241, 242, 243, 244, 245, 246, 247, 248, 249, 250, 251, 252, 253, 254, 255, 256, 257, 258, 259, 260, 261, 262, 263, 264, 265, 266, 267, 268, 269, 270, 271, 272, 273, 274, 275, 276, 277, 278, 279, 280, 281, 282, 283, 284, 285, 286, 287, 288, 289, 290, 291, 292, 293, 294, 295, 296, 297, 298, 299, 300, 301, 302, 303, 304, 305, 306, 307, 308, 309, 310, 311, 312, 313, 314, 315, 316, 317, 318, 319, 320, 321, 322, 323, 324, 325, 326, 327, 328, 329, 330, 331, 332, 333, 334, 335, 336, 337, 338, 339, 340, 341, 342, 343, 344, 345, 346, 347, 348, 349, 350, 351, 352, 353, 354, 355, 356, 357, 358, 359, 360, 361, 362, 363, 364, 365, 366, 367, 368, 369, 370, 371, 372, 373, 374, 375, 376, 377, 378, 379, 380, 381, 382, 383, 384, 385, 386, 387, 388, 389, 390, 391, 392, 393, 394, 395, 396, 397, 398, 399], \"y\": [31.067454267758194, 28.96022605099717, 26.927386218279892, 24.976717815194213, 23.116662199696343, 21.356033714721278, 19.703605480615092, 18.167574424271297, 16.75494046522269, 15.470864485368363, 14.318093799883052, 13.296552088493469, 12.40317541747985, 11.63203657880825, 10.974745515713456, 10.421060277968833, 9.959607436201898, 9.578602873330842, 9.266482202228831, 9.012384608200282, 8.806471468028594, 8.64009123791156, 8.505820097555699, 8.397414146892606, 8.30970693113881, 8.238479658859214, 8.180323808271648, 8.132508788818155, 8.092861771337217, 8.059662858253466, 8.031556219519308, 8.00747633632335, 7.986587747055453, 7.968236413977165, 7.951910831214604, 7.937211144449257, 7.923824767381399, 7.911507210764888, 7.900067059911857, 7.889354233312847, 7.879250823918884, 7.869663965750718, 7.86052028418313, 7.851761581783614, 7.843341486436438, 7.835222847925516, 7.827375716078182, 7.819775770453625, 7.812403100443995, 7.805241257215187, 7.798276516495669, 7.791497304900729, 7.784893753108353, 7.778457347453465, 7.77218065790631, 7.766057125361178, 7.760080895004783, 7.7542466855105605, 7.748549686110339, 7.742985475379905, 7.7375499569571256, 7.73223930848165, 7.727049940874109, 7.7219784657149315, 7.717021668980458, 7.71217648977979, 7.707440003035025, 7.702809405279552, 7.698282002929551, 7.693855202523692, 7.6895265025351724, 7.685293486444933, 7.681153816831051, 7.67710523028089, 7.673145532972886, 7.669272596806407, 7.665484355982892, 7.661778803960851, 7.658153990722665, 7.654608020303172, 7.651139048539562, 7.647745281009715, 7.644424971132112, 7.641176418405302, 7.637997966768706, 7.6348880030696975, 7.631844955624375, 7.628867292861472, 7.625953522040488, 7.623102188036518, 7.620311872185317, 7.617581191183082, 7.614908796036193, 7.61229337105675, 7.609733632900349, 7.607228329642893, 7.604776239893681, 7.602376171942312, 7.600026962937196, 7.597727478093746, 7.5954766099304605, 7.593273277531351, 7.59111642583325, 7.589005024936729, 7.586938069439415, 7.584914577790642, 7.582933591666431, 7.580994175363875, 7.579095415214107, 7.577236419013015, 7.575416315469025, 7.573634253667239, 7.571889402549288, 7.570180950408316, 7.568508104398523, 7.566870090058739, 7.565266150849518, 7.563695547703304, 7.562157558587187, 7.560651478077846, 7.55917661694826, 7.5577323017658165, 7.5563178745014214, 7.554932692149286, 7.553576126357033, 7.552247563065814, 7.550946402160116, 7.54967205712696, 7.5484239547242264, 7.547201534657791, 7.546004249267257, 7.544831563219985, 7.5436829532131995, 7.542557907683937, 7.541455926526581, 7.5403765208178, 7.539319212548637, 7.538283534363591, 7.5372690293064295, 7.536275250572605, 7.53530176126804, 7.534348134174125, 7.533413951518743, 7.532498804753169, 7.5316022943346495, 7.530724029514535, 7.529863628131801, 7.529020716411792, 7.52819492877007, 7.527385907621217, 7.526593303192441, 7.525816773341884, 7.5250559833814705, 7.524310605904203, 7.523580320615761, 7.522864814170303, 7.522163780010336, 7.5214769182105865, 7.520803935325707, 7.5201445442417585, 7.519498464031356, 7.5188654198123785, 7.518245142610135, 7.517637369222927, 7.5170418420908796, 7.516458309167988, 7.515886523797266, 7.515326244588945, 7.514777235301601, 7.514239264726195, 7.513712106572872, 7.513195539360534, 7.512689346309022, 7.51219331523393, 7.5117072384439085, 7.511230912640439, 7.5107641388199955, 7.510306722178546, 7.509858472018301, 7.509419201656709, 7.508988728337574, 7.508566873144297, 7.508153460915146, 7.50774832016055, 7.507351282982298, 7.506962184994664, 7.506580865247367, 7.506207166150329, 7.505840933400202, 7.505482015908578, 7.505130265731911, 7.504785538003013, 7.50444769086418, 7.504116585401841, 7.503792085582717, 7.503474058191457, 7.503162372769709, 7.502856901556574, 7.5025575194304475, 7.502264103852166, 7.501976534809476, 7.501694694762746, 7.5014184685919325, 7.501147743544738, 7.500882409185954, 7.500622357347934, 7.5003674820822095, 7.50011767961218, 7.499872848286872, 7.499632888535741, 7.499397702824489, 7.499167195611863, 7.498941273307436, 7.49871984423031, 7.498502818568764, 7.4982901083407825, 7.498081627355465, 7.497877291175304, 7.497677017079277, 7.497480724026779, 7.497288332622337, 7.497099765081101, 7.496914945195117, 7.4967337983003075, 7.496556251244208, 7.4963822323543905, 7.496211671407597, 7.496044499599525, 7.495880649515298, 7.4957200551005565, 7.495562651633197, 7.49540837569571, 7.495257165148136, 7.495108959101586, 7.494963697892358, 7.494821323056596, 7.494681777305507, 7.494545004501102, 7.494410949632472, 7.49427955879256, 7.494150779155451, 7.494024558954125, 7.493900847458706, 7.493779594955169, 7.493660752724499, 7.493544273022306, 7.493430109058856, 7.493318214979548, 7.493208545845788, 7.493101057616283, 7.4929957071287205, 7.492892452081847, 7.4927912510179135, 7.492692063305507, 7.492594849122727, 7.4924995694407315, 7.492406186007625, 7.492314661332678, 7.49222495867089, 7.492137042007869, 7.49205087604503, 7.491966426185104, 7.49188365851795, 7.491802539806662, 7.491723037473968, 7.491645119588911, 7.491568754853812, 7.491493912591497, 7.491420562732793, 7.491348675804289, 7.49127822291634, 7.491209175751331, 7.491141506552175, 7.491075188111054, 7.491010193758394, 7.49094649735206, 7.490884073266785, 7.490822896383806, 7.490762942080719, 7.490704186221549, 7.490646605147006, 7.490590175664963, 7.490534875041109, 7.490480680989812, 7.490427571665155, 7.490375525652166, 7.490324521958213, 7.490274540004595, 7.490225559618293, 7.490177561023874, 7.4901305248356, 7.490084432049654, 7.490039264036558, 7.489995002533726, 7.489951629638164, 7.489909127799343, 7.489867479812197, 7.489826668810257, 7.489786678258948, 7.489747491949, 7.489709093990003, 7.489671468804089, 7.48963460111974, 7.489598475965726, 7.489563078665163, 7.489528394829687, 7.4894944103537515, 7.489461111409032, 7.489428484438957, 7.48939651615333, 7.4893651935230725, 7.489334503775075, 7.489304434387138, 7.4892749730830275, 7.48924610782762, 7.489217826822152, 7.489190118499562, 7.489162971519924, 7.489136374765974, 7.489110317338725, 7.4890847885531695, 7.489059777934074, 7.489035275211838, 7.4890112703184695, 7.4889877533836025, 7.488964714730622, 7.488942144872851, 7.488920034509823, 7.488898374523618, 7.488877155975281, 7.488856370101313, 7.488836008310216, 7.488816062179124, 7.48879652345049, 7.488777384028851, 7.488758635977642, 7.488740271516075, 7.488722283016101, 7.4887046629994, 7.488687404134449, 7.488670499233658, 7.488653941250537, 7.488637723276933, 7.488621838540331, 7.488606280401183, 7.488591042350318, 7.488576118006383, 7.488561501113342, 7.488547185538021, 7.4885331652677145, 7.488519434407813, 7.488505987179504, 7.488492817917506, 7.488479921067841, 7.488467291185666, 7.488454922933138, 7.488442811077313, 7.488430950488108, 7.4884193361362845, 7.488407963091473, 7.488396826520249, 7.488385921684237, 7.488375243938244, 7.488364788728455, 7.4883545515906285, 7.488344528148366, 7.48833471411138, 7.488325105273823, 7.488315697512633, 7.488306486785914, 7.488297469131357, 7.488288640664685, 7.488279997578124, 7.488271536138912, 7.488263252687836, 7.48825514363779, 7.488247205472378, 7.48823943474452, 7.488231828075107, 7.488224382151673, 7.488217093727091, 7.488209959618299, 7.488202976705045, 7.488196141928672, 7.488189452290904, 7.488182904852666, 7.4881764967329385, 7.488170225107616, 7.488164087208399, 7.488158080321698, 7.488152201787576, 7.488146448998693, 7.488140819399276, 7.488135310484121, 7.488129919797599, 7.488124644932691, 7.488119483530033, 7.4881144332769916, 7.488109491906745, 7.4881046571973995]}],\n",
              "                        {\"height\": 500, \"template\": {\"data\": {\"bar\": [{\"error_x\": {\"color\": \"#2a3f5f\"}, \"error_y\": {\"color\": \"#2a3f5f\"}, \"marker\": {\"line\": {\"color\": \"#E5ECF6\", \"width\": 0.5}}, \"type\": \"bar\"}], \"barpolar\": [{\"marker\": {\"line\": {\"color\": \"#E5ECF6\", \"width\": 0.5}}, \"type\": \"barpolar\"}], \"carpet\": [{\"aaxis\": {\"endlinecolor\": \"#2a3f5f\", \"gridcolor\": \"white\", \"linecolor\": \"white\", \"minorgridcolor\": \"white\", \"startlinecolor\": \"#2a3f5f\"}, \"baxis\": {\"endlinecolor\": \"#2a3f5f\", \"gridcolor\": \"white\", \"linecolor\": \"white\", \"minorgridcolor\": \"white\", \"startlinecolor\": \"#2a3f5f\"}, \"type\": \"carpet\"}], \"choropleth\": [{\"colorbar\": {\"outlinewidth\": 0, \"ticks\": \"\"}, \"type\": \"choropleth\"}], \"contour\": [{\"colorbar\": {\"outlinewidth\": 0, \"ticks\": \"\"}, \"colorscale\": [[0.0, \"#0d0887\"], [0.1111111111111111, \"#46039f\"], [0.2222222222222222, \"#7201a8\"], [0.3333333333333333, \"#9c179e\"], [0.4444444444444444, \"#bd3786\"], [0.5555555555555556, \"#d8576b\"], [0.6666666666666666, \"#ed7953\"], [0.7777777777777778, \"#fb9f3a\"], [0.8888888888888888, \"#fdca26\"], [1.0, \"#f0f921\"]], \"type\": \"contour\"}], \"contourcarpet\": [{\"colorbar\": {\"outlinewidth\": 0, \"ticks\": \"\"}, \"type\": \"contourcarpet\"}], \"heatmap\": [{\"colorbar\": {\"outlinewidth\": 0, \"ticks\": \"\"}, \"colorscale\": [[0.0, \"#0d0887\"], [0.1111111111111111, \"#46039f\"], [0.2222222222222222, \"#7201a8\"], [0.3333333333333333, \"#9c179e\"], [0.4444444444444444, \"#bd3786\"], [0.5555555555555556, \"#d8576b\"], [0.6666666666666666, \"#ed7953\"], [0.7777777777777778, \"#fb9f3a\"], [0.8888888888888888, \"#fdca26\"], [1.0, \"#f0f921\"]], \"type\": \"heatmap\"}], \"heatmapgl\": [{\"colorbar\": {\"outlinewidth\": 0, \"ticks\": \"\"}, \"colorscale\": [[0.0, \"#0d0887\"], [0.1111111111111111, \"#46039f\"], [0.2222222222222222, \"#7201a8\"], [0.3333333333333333, \"#9c179e\"], [0.4444444444444444, \"#bd3786\"], [0.5555555555555556, \"#d8576b\"], [0.6666666666666666, \"#ed7953\"], [0.7777777777777778, \"#fb9f3a\"], [0.8888888888888888, \"#fdca26\"], [1.0, \"#f0f921\"]], \"type\": \"heatmapgl\"}], \"histogram\": [{\"marker\": {\"colorbar\": {\"outlinewidth\": 0, \"ticks\": \"\"}}, \"type\": \"histogram\"}], \"histogram2d\": [{\"colorbar\": {\"outlinewidth\": 0, \"ticks\": \"\"}, \"colorscale\": [[0.0, \"#0d0887\"], [0.1111111111111111, \"#46039f\"], [0.2222222222222222, \"#7201a8\"], [0.3333333333333333, \"#9c179e\"], [0.4444444444444444, \"#bd3786\"], [0.5555555555555556, \"#d8576b\"], [0.6666666666666666, \"#ed7953\"], [0.7777777777777778, \"#fb9f3a\"], [0.8888888888888888, \"#fdca26\"], [1.0, \"#f0f921\"]], \"type\": \"histogram2d\"}], \"histogram2dcontour\": [{\"colorbar\": {\"outlinewidth\": 0, \"ticks\": \"\"}, \"colorscale\": [[0.0, \"#0d0887\"], [0.1111111111111111, \"#46039f\"], [0.2222222222222222, \"#7201a8\"], [0.3333333333333333, \"#9c179e\"], [0.4444444444444444, \"#bd3786\"], [0.5555555555555556, \"#d8576b\"], [0.6666666666666666, \"#ed7953\"], [0.7777777777777778, \"#fb9f3a\"], [0.8888888888888888, \"#fdca26\"], [1.0, \"#f0f921\"]], \"type\": \"histogram2dcontour\"}], \"mesh3d\": [{\"colorbar\": {\"outlinewidth\": 0, \"ticks\": \"\"}, \"type\": \"mesh3d\"}], \"parcoords\": [{\"line\": {\"colorbar\": {\"outlinewidth\": 0, \"ticks\": \"\"}}, \"type\": \"parcoords\"}], \"pie\": [{\"automargin\": true, \"type\": \"pie\"}], \"scatter\": [{\"marker\": {\"colorbar\": {\"outlinewidth\": 0, \"ticks\": \"\"}}, \"type\": \"scatter\"}], \"scatter3d\": [{\"line\": {\"colorbar\": {\"outlinewidth\": 0, \"ticks\": \"\"}}, \"marker\": {\"colorbar\": {\"outlinewidth\": 0, \"ticks\": \"\"}}, \"type\": \"scatter3d\"}], \"scattercarpet\": [{\"marker\": {\"colorbar\": {\"outlinewidth\": 0, \"ticks\": \"\"}}, \"type\": \"scattercarpet\"}], \"scattergeo\": [{\"marker\": {\"colorbar\": {\"outlinewidth\": 0, \"ticks\": \"\"}}, \"type\": \"scattergeo\"}], \"scattergl\": [{\"marker\": {\"colorbar\": {\"outlinewidth\": 0, \"ticks\": \"\"}}, \"type\": \"scattergl\"}], \"scattermapbox\": [{\"marker\": {\"colorbar\": {\"outlinewidth\": 0, \"ticks\": \"\"}}, \"type\": \"scattermapbox\"}], \"scatterpolar\": [{\"marker\": {\"colorbar\": {\"outlinewidth\": 0, \"ticks\": \"\"}}, \"type\": \"scatterpolar\"}], \"scatterpolargl\": [{\"marker\": {\"colorbar\": {\"outlinewidth\": 0, \"ticks\": \"\"}}, \"type\": \"scatterpolargl\"}], \"scatterternary\": [{\"marker\": {\"colorbar\": {\"outlinewidth\": 0, \"ticks\": \"\"}}, \"type\": \"scatterternary\"}], \"surface\": [{\"colorbar\": {\"outlinewidth\": 0, \"ticks\": \"\"}, \"colorscale\": [[0.0, \"#0d0887\"], [0.1111111111111111, \"#46039f\"], [0.2222222222222222, \"#7201a8\"], [0.3333333333333333, \"#9c179e\"], [0.4444444444444444, \"#bd3786\"], [0.5555555555555556, \"#d8576b\"], [0.6666666666666666, \"#ed7953\"], [0.7777777777777778, \"#fb9f3a\"], [0.8888888888888888, \"#fdca26\"], [1.0, \"#f0f921\"]], \"type\": \"surface\"}], \"table\": [{\"cells\": {\"fill\": {\"color\": \"#EBF0F8\"}, \"line\": {\"color\": \"white\"}}, \"header\": {\"fill\": {\"color\": \"#C8D4E3\"}, \"line\": {\"color\": \"white\"}}, \"type\": \"table\"}]}, \"layout\": {\"annotationdefaults\": {\"arrowcolor\": \"#2a3f5f\", \"arrowhead\": 0, \"arrowwidth\": 1}, \"coloraxis\": {\"colorbar\": {\"outlinewidth\": 0, \"ticks\": \"\"}}, \"colorscale\": {\"diverging\": [[0, \"#8e0152\"], [0.1, \"#c51b7d\"], [0.2, \"#de77ae\"], [0.3, \"#f1b6da\"], [0.4, \"#fde0ef\"], [0.5, \"#f7f7f7\"], [0.6, \"#e6f5d0\"], [0.7, \"#b8e186\"], [0.8, \"#7fbc41\"], [0.9, \"#4d9221\"], [1, \"#276419\"]], \"sequential\": [[0.0, \"#0d0887\"], [0.1111111111111111, \"#46039f\"], [0.2222222222222222, \"#7201a8\"], [0.3333333333333333, \"#9c179e\"], [0.4444444444444444, \"#bd3786\"], [0.5555555555555556, \"#d8576b\"], [0.6666666666666666, \"#ed7953\"], [0.7777777777777778, \"#fb9f3a\"], [0.8888888888888888, \"#fdca26\"], [1.0, \"#f0f921\"]], \"sequentialminus\": [[0.0, \"#0d0887\"], [0.1111111111111111, \"#46039f\"], [0.2222222222222222, \"#7201a8\"], [0.3333333333333333, \"#9c179e\"], [0.4444444444444444, \"#bd3786\"], [0.5555555555555556, \"#d8576b\"], [0.6666666666666666, \"#ed7953\"], [0.7777777777777778, \"#fb9f3a\"], [0.8888888888888888, \"#fdca26\"], [1.0, \"#f0f921\"]]}, \"colorway\": [\"#636efa\", \"#EF553B\", \"#00cc96\", \"#ab63fa\", \"#FFA15A\", \"#19d3f3\", \"#FF6692\", \"#B6E880\", \"#FF97FF\", \"#FECB52\"], \"font\": {\"color\": \"#2a3f5f\"}, \"geo\": {\"bgcolor\": \"white\", \"lakecolor\": \"white\", \"landcolor\": \"#E5ECF6\", \"showlakes\": true, \"showland\": true, \"subunitcolor\": \"white\"}, \"hoverlabel\": {\"align\": \"left\"}, \"hovermode\": \"closest\", \"mapbox\": {\"style\": \"light\"}, \"paper_bgcolor\": \"white\", \"plot_bgcolor\": \"#E5ECF6\", \"polar\": {\"angularaxis\": {\"gridcolor\": \"white\", \"linecolor\": \"white\", \"ticks\": \"\"}, \"bgcolor\": \"#E5ECF6\", \"radialaxis\": {\"gridcolor\": \"white\", \"linecolor\": \"white\", \"ticks\": \"\"}}, \"scene\": {\"xaxis\": {\"backgroundcolor\": \"#E5ECF6\", \"gridcolor\": \"white\", \"gridwidth\": 2, \"linecolor\": \"white\", \"showbackground\": true, \"ticks\": \"\", \"zerolinecolor\": \"white\"}, \"yaxis\": {\"backgroundcolor\": \"#E5ECF6\", \"gridcolor\": \"white\", \"gridwidth\": 2, \"linecolor\": \"white\", \"showbackground\": true, \"ticks\": \"\", \"zerolinecolor\": \"white\"}, \"zaxis\": {\"backgroundcolor\": \"#E5ECF6\", \"gridcolor\": \"white\", \"gridwidth\": 2, \"linecolor\": \"white\", \"showbackground\": true, \"ticks\": \"\", \"zerolinecolor\": \"white\"}}, \"shapedefaults\": {\"line\": {\"color\": \"#2a3f5f\"}}, \"ternary\": {\"aaxis\": {\"gridcolor\": \"white\", \"linecolor\": \"white\", \"ticks\": \"\"}, \"baxis\": {\"gridcolor\": \"white\", \"linecolor\": \"white\", \"ticks\": \"\"}, \"bgcolor\": \"#E5ECF6\", \"caxis\": {\"gridcolor\": \"white\", \"linecolor\": \"white\", \"ticks\": \"\"}}, \"title\": {\"x\": 0.05}, \"xaxis\": {\"automargin\": true, \"gridcolor\": \"white\", \"linecolor\": \"white\", \"ticks\": \"\", \"title\": {\"standoff\": 15}, \"zerolinecolor\": \"white\", \"zerolinewidth\": 2}, \"yaxis\": {\"automargin\": true, \"gridcolor\": \"white\", \"linecolor\": \"white\", \"ticks\": \"\", \"title\": {\"standoff\": 15}, \"zerolinecolor\": \"white\", \"zerolinewidth\": 2}}}, \"title\": {\"text\": \"Error Plot over Iterations\", \"x\": 0.5}, \"width\": 800, \"xaxis\": {\"title\": {\"text\": \"Iteration\"}}, \"yaxis\": {\"title\": {\"text\": \"Log Loss\"}}},\n",
              "                        {\"responsive\": true}\n",
              "                    ).then(function(){\n",
              "                            \n",
              "var gd = document.getElementById('027472a8-9646-49e9-a515-cb3f7962cb08');\n",
              "var x = new MutationObserver(function (mutations, observer) {{\n",
              "        var display = window.getComputedStyle(gd).display;\n",
              "        if (!display || display === 'none') {{\n",
              "            console.log([gd, 'removed!']);\n",
              "            Plotly.purge(gd);\n",
              "            observer.disconnect();\n",
              "        }}\n",
              "}});\n",
              "\n",
              "// Listen for the removal of the full notebook cells\n",
              "var notebookContainer = gd.closest('#notebook-container');\n",
              "if (notebookContainer) {{\n",
              "    x.observe(notebookContainer, {childList: true});\n",
              "}}\n",
              "\n",
              "// Listen for the clearing of the current output cell\n",
              "var outputEl = gd.closest('.output');\n",
              "if (outputEl) {{\n",
              "    x.observe(outputEl, {childList: true});\n",
              "}}\n",
              "\n",
              "                        })\n",
              "                };\n",
              "                \n",
              "            </script>\n",
              "        </div>\n",
              "</body>\n",
              "</html>"
            ]
          },
          "metadata": {}
        }
      ]
    },
    {
      "cell_type": "markdown",
      "source": [
        "**Accuracy Calculation**"
      ],
      "metadata": {
        "id": "sj7r2frVDiM3"
      }
    },
    {
      "cell_type": "code",
      "source": [
        "from sklearn import metrics\n",
        "print(f'Accuracy {metrics.accuracy_score(y_test, clf_no_reg.predict(X_test))*100}%')\n",
        "print(f'Accuracy {metrics.accuracy_score(y_test, clf_reg_10.predict(X_test))*100}%')\n",
        "print(f'Accuracy {metrics.accuracy_score(y_test, clf_reg_20.predict(X_test))*100}%')\n",
        "print(f'Accuracy {metrics.accuracy_score(y_test, clf_reg_40.predict(X_test))*100}%')"
      ],
      "metadata": {
        "colab": {
          "base_uri": "https://localhost:8080/"
        },
        "id": "z0DOZ2VQD3iK",
        "outputId": "61c0d056-e5ef-4d05-df9a-3fbd3247a3a2"
      },
      "execution_count": null,
      "outputs": [
        {
          "output_type": "stream",
          "name": "stdout",
          "text": [
            "Accuracy 96.49122807017544%\n",
            "Accuracy 94.73684210526315%\n",
            "Accuracy 94.73684210526315%\n",
            "Accuracy 92.10526315789474%\n"
          ]
        }
      ]
    },
    {
      "cell_type": "markdown",
      "source": [
        "**Plot Confusion Matrix**"
      ],
      "metadata": {
        "id": "N8MK4yf1D8BS"
      }
    },
    {
      "cell_type": "code",
      "source": [
        "import seaborn as sns\n",
        "from sklearn.metrics import confusion_matrix\n",
        "print(confusion_matrix(y_test, clf_no_reg.predict(X_test)))\n",
        "sns.heatmap(confusion_matrix(y_test, clf_no_reg.predict(X_test)), annot=True)"
      ],
      "metadata": {
        "colab": {
          "base_uri": "https://localhost:8080/",
          "height": 318
        },
        "id": "COJpVSpjD5iy",
        "outputId": "527c85b3-0b56-4a45-c4c7-5bb6fbf211bd"
      },
      "execution_count": null,
      "outputs": [
        {
          "output_type": "stream",
          "name": "stdout",
          "text": [
            "[[71  0]\n",
            " [ 4 39]]\n"
          ]
        },
        {
          "output_type": "execute_result",
          "data": {
            "text/plain": [
              "<matplotlib.axes._subplots.AxesSubplot at 0x7f97e139df10>"
            ]
          },
          "metadata": {},
          "execution_count": 16
        },
        {
          "output_type": "display_data",
          "data": {
            "image/png": "[encoded data removed]",
            "text/plain": [
              "<Figure size 432x288 with 2 Axes>"
            ]
          },
          "metadata": {
            "needs_background": "light"
          }
        }
      ]
    },
    {
      "cell_type": "code",
      "source": [
        ""
      ],
      "metadata": {
        "id": "ocuGJc4dECiX"
      },
      "execution_count": null,
      "outputs": []
    },
    {
      "cell_type": "markdown",
      "source": [
        "**Task**<br>\n",
        "Apply logistic regression on MNIST dataset. \n",
        "The MNIST database of handwritten digits, available from this [page](http://yann.lecun.com/exdb/mnist/), has a training set of 60,000 examples, and a test set of 10,000 examples. It is a subset of a larger set available from NIST. The digits have been size-normalized and centered in a fixed-size image.\n",
        "\n",
        "You can use [scikit-learn's `LogisticRegression` class](https://scikit-learn.org/stable/modules/generated/sklearn.linear_model.LogisticRegression.html), or, you can use the class we just have created. The images in MNIST dataset are of shape (28 x 28) pixels. So, there are 784 pixels in total. You can consider each pixel as a feature. In summary, a sample from your training or test set will be of shape (1 x 784). "
      ],
      "metadata": {
        "id": "ZOVXDsGugEa6"
      }
    },
    {
      "cell_type": "markdown",
      "source": [
        "Loading data"
      ],
      "metadata": {
        "id": "6S81TGIugvMB"
      }
    },
    {
      "cell_type": "code",
      "source": [
        "from sklearn.datasets import fetch_openml\n",
        "from sklearn.linear_model import LogisticRegression\n",
        "from sklearn.model_selection import train_test_split\n",
        "from sklearn.preprocessing import StandardScaler\n",
        "from sklearn.utils import check_random_state\n",
        "\n",
        "X, y = fetch_openml(\"mnist_784\", version=1, return_X_y=True, as_frame=False)"
      ],
      "metadata": {
        "id": "6uGuohg3gzhl"
      },
      "execution_count": null,
      "outputs": []
    },
    {
      "cell_type": "markdown",
      "source": [
        "1. Plot one image from each class e.g., (0, 1, 2, 3, ...)\n",
        "\n",
        "Hint: Create a function `view_image(img)` that will take a numpy array of shape (1, 784) as input and reshape it to (28,28) numpy array. Then it will plot this numpy array in grayscale using `matplotlib.pyplot`."
      ],
      "metadata": {
        "id": "JTZ0cN7ri_mW"
      }
    },
    {
      "cell_type": "code",
      "source": [
        "import matplotlib.pyplot as plt\n",
        "import sys\n",
        "np.set_printoptions(threshold=sys.maxsize)\n",
        "def view_image(img):\n",
        "    img=np.reshape(img, (28,28))\n",
        "    plt.imshow(img, cmap=plt.cm.gray)\n",
        "    plt.show()"
      ],
      "metadata": {
        "id": "KvlZivdKi0rR"
      },
      "execution_count": null,
      "outputs": []
    },
    {
      "cell_type": "code",
      "source": [
        "labels = ['0','1','2','3','4','5','6','7','8','9']\n",
        "#plt.subplot(1, 5, 10)\n",
        "for label in labels:\n",
        "    for i in range(70000):\n",
        "        if y[i] == label:\n",
        "            view_image(X[i])\n",
        "            break"
      ],
      "metadata": {
        "colab": {
          "base_uri": "https://localhost:8080/",
          "height": 1000
        },
        "id": "UyMR3yuqoGUz",
        "outputId": "84bc7185-7bcc-4017-8d36-87c6d846b00c"
      },
      "execution_count": null,
      "outputs": [
        {
          "output_type": "display_data",
          "data": {
            "image/png": "[encoded data removed]",
            "text/plain": [
              "<Figure size 432x288 with 1 Axes>"
            ]
          },
          "metadata": {
            "needs_background": "light"
          }
        },
        {
          "output_type": "display_data",
          "data": {
            "image/png": "[encoded data removed]",
            "text/plain": [
              "<Figure size 432x288 with 1 Axes>"
            ]
          },
          "metadata": {
            "needs_background": "light"
          }
        },
        {
          "output_type": "display_data",
          "data": {
            "image/png": "[encoded data removed]",
            "text/plain": [
              "<Figure size 432x288 with 1 Axes>"
            ]
          },
          "metadata": {
            "needs_background": "light"
          }
        },
        {
          "output_type": "display_data",
          "data": {
            "image/png": "[encoded data removed]",
            "text/plain": [
              "<Figure size 432x288 with 1 Axes>"
            ]
          },
          "metadata": {
            "needs_background": "light"
          }
        },
        {
          "output_type": "display_data",
          "data": {
            "image/png": "[encoded data removed]",
            "text/plain": [
              "<Figure size 432x288 with 1 Axes>"
            ]
          },
          "metadata": {
            "needs_background": "light"
          }
        },
        {
          "output_type": "display_data",
          "data": {
            "image/png": "[encoded data removed]",
            "text/plain": [
              "<Figure size 432x288 with 1 Axes>"
            ]
          },
          "metadata": {
            "needs_background": "light"
          }
        },
        {
          "output_type": "display_data",
          "data": {
            "image/png": "[encoded data removed]",
            "text/plain": [
              "<Figure size 432x288 with 1 Axes>"
            ]
          },
          "metadata": {
            "needs_background": "light"
          }
        },
        {
          "output_type": "display_data",
          "data": {
            "image/png": "[encoded data removed]",
            "text/plain": [
              "<Figure size 432x288 with 1 Axes>"
            ]
          },
          "metadata": {
            "needs_background": "light"
          }
        },
        {
          "output_type": "display_data",
          "data": {
            "image/png": "[encoded data removed]",
            "text/plain": [
              "<Figure size 432x288 with 1 Axes>"
            ]
          },
          "metadata": {
            "needs_background": "light"
          }
        },
        {
          "output_type": "display_data",
          "data": {
            "image/png": "[encoded data removed]",
            "text/plain": [
              "<Figure size 432x288 with 1 Axes>"
            ]
          },
          "metadata": {
            "needs_background": "light"
          }
        }
      ]
    },
    {
      "cell_type": "markdown",
      "source": [
        "2. Print one sample and decide whether you need to normalize the images. If yes, then do so."
      ],
      "metadata": {
        "id": "8uNKn4kIjiH4"
      }
    },
    {
      "cell_type": "code",
      "source": [
        "view_image(X[69])\n",
        "print(X[69])\n",
        "print(y[69])\n",
        "# All features have values from 0 to 255, so none of the features will dominate.\n",
        "# So, normalization isn't needed."
      ],
      "metadata": {
        "id": "mpE4_lNZis5U",
        "colab": {
          "base_uri": "https://localhost:8080/",
          "height": 1000
        },
        "outputId": "ae7d92e7-fbb5-4560-c25e-2c8ebda88267"
      },
      "execution_count": null,
      "outputs": [
        {
          "output_type": "display_data",
          "data": {
            "image/png": "[encoded data removed]",
            "text/plain": [
              "<Figure size 432x288 with 1 Axes>"
            ]
          },
          "metadata": {
            "needs_background": "light"
          }
        },
        {
          "output_type": "stream",
          "name": "stdout",
          "text": [
            "[  0.   0.   0.   0.   0.   0.   0.   0.   0.   0.   0.   0.   0.   0.\n",
            "   0.   0.   0.   0.   0.   0.   0.   0.   0.   0.   0.   0.   0.   0.\n",
            "   0.   0.   0.   0.   0.   0.   0.   0.   0.   0.   0.   0.   0.   0.\n",
            "   0.   0.   0.   0.   0.   0.   0.   0.   0.   0.   0.   0.   0.   0.\n",
            "   0.   0.   0.   0.   0.   0.   0.   0.   0.   0.   0.   0.   0.   0.\n",
            "   0.   0.   0.   0.   0.   0.   0.   0.   0.   0.   0.   0.   0.   0.\n",
            "   0.   0.   0.   0.   0.   0.   0.   0.   0.   0.   0.   0.   0.   0.\n",
            "   0.   0.   0.   0.   0.   0.   0.   0.   0.   0.   0.   0.   0.   0.\n",
            "   0.   0.   0.   0.   0.   0.   0.   0.   0.   0.   0.   0.   0.   0.\n",
            "   0.   0.   0.   0.   0.   0.   0.   0.   0.   0.   0.   0.   0.   0.\n",
            "   0.   0.   0.   0.   0.   0.   0.   0.   0.   0.   0.   0. 203. 254.\n",
            " 252. 252. 252. 214.  51.  20.   0.   0.   0.   0.   0.   0.   0.   0.\n",
            "   0.   0.   0.   0.   0.   0.   0.   0.   0.   0.   0.  62. 221. 252.\n",
            " 250. 250. 250. 252. 250. 160.  20.   0.   0.   0.   0.   0.   0.   0.\n",
            "   0.   0.   0.   0.   0.   0.   0.   0.   0.   0.  62. 211. 250. 252.\n",
            " 250. 250. 250. 252. 250. 250.  49.   0.   0.   0.   0.   0.   0.   0.\n",
            "   0.   0.   0.   0.   0.   0.   0.   0.   0.  41. 221. 250. 250. 252.\n",
            " 250. 250. 250. 252. 250. 128.  10.   0.   0.   0.   0.   0.   0.   0.\n",
            "   0.   0.   0.   0.   0.   0.   0.   0.   0. 254. 252. 252. 252. 254.\n",
            " 252. 252. 252. 254. 252. 252.  90.   0.   0.   0.   0.   0.   0.   0.\n",
            "   0.   0.   0.   0.   0.   0.   0.   0.   0. 150. 190. 250. 250. 252.\n",
            " 250. 250. 169. 171. 250. 250. 250.  82.   0.   0.   0.   0.   0.   0.\n",
            "   0.   0.   0.   0.   0.   0.   0.   0.   0.  31. 191. 250. 250. 252.\n",
            " 189. 100.  20. 172. 250. 250. 250.  80.   0.   0.   0.   0.   0.   0.\n",
            "   0.   0.   0.   0.   0.   0.   0.   0.   0. 213. 250. 250. 250. 212.\n",
            "  29.   0.   0. 252. 250. 250. 250.   0.   0.   0.   0.   0.   0.   0.\n",
            "   0.   0.   0.   0.   0.   0.   0.   0.   0.  92. 252. 252. 252.   0.\n",
            "   0.   0.   0.  51. 252. 252. 252. 203.   0.   0.   0.   0.   0.   0.\n",
            "   0.   0.   0.   0.   0.   0.   0.   0.  82. 252. 250. 250. 169.   0.\n",
            "   0.   0.   0. 132. 250. 250. 250. 121.   0.   0.   0.   0.   0.   0.\n",
            "   0.   0.   0.   0.   0.   0.   0.  92. 231. 252. 250. 159.  20.   0.\n",
            "   0.   0.   0. 252. 250. 250. 250.   0.   0.   0.   0.   0.   0.   0.\n",
            "   0.   0.   0.   0.   0.   0.   0.  30. 211. 252. 250. 221.  40.   0.\n",
            "   0.   0.   0.  90. 250. 250. 250. 163.   0.   0.   0.   0.   0.   0.\n",
            "   0.   0.   0.   0.   0.   0.   0.  31. 213. 254. 232.  80.   0.   0.\n",
            "   0.   0.   0.  92. 252. 252. 212. 163.   0.   0.   0.   0.   0.   0.\n",
            "   0.   0.   0.   0.   0.   0.   0. 151. 250. 252. 149.   0.   0.   0.\n",
            "   0.   0.   0. 252. 250. 250.  49.   0.   0.   0.   0.   0.   0.   0.\n",
            "   0.   0.   0.   0.   0.   0.   0.  60. 221. 252. 210.  60.   0.   0.\n",
            "   0.   0.   0. 252. 250. 250.  49.   0.   0.   0.   0.   0.   0.   0.\n",
            "   0.   0.   0.   0.   0.   0.   0.   0. 202. 252. 250. 221.  40.   0.\n",
            "   0. 123. 202. 252. 250. 250.  49.   0.   0.   0.   0.   0.   0.   0.\n",
            "   0.   0.   0.   0.   0.   0.   0. 123. 243. 255. 252. 252. 252. 254.\n",
            " 252. 252. 252. 254. 252. 100.   0.   0.   0.   0.   0.   0.   0.   0.\n",
            "   0.   0.   0.   0.   0.   0.   0.   0. 121. 171. 250. 250. 250. 252.\n",
            " 250. 250. 250. 252. 250. 100.   0.   0.   0.   0.   0.   0.   0.   0.\n",
            "   0.   0.   0.   0.   0.   0.   0.   0.   0.  20. 160. 250. 250. 252.\n",
            " 250. 250. 250. 252. 189.  40.   0.   0.   0.   0.   0.   0.   0.   0.\n",
            "   0.   0.   0.   0.   0.   0.   0.   0.   0.   0.  20. 170. 250. 252.\n",
            " 250. 128.  49.  49.  29.   0.   0.   0.   0.   0.   0.   0.   0.   0.\n",
            "   0.   0.   0.   0.   0.   0.   0.   0.   0.   0.   0.   0.   0.   0.\n",
            "   0.   0.   0.   0.   0.   0.   0.   0.   0.   0.   0.   0.   0.   0.\n",
            "   0.   0.   0.   0.   0.   0.   0.   0.   0.   0.   0.   0.   0.   0.\n",
            "   0.   0.   0.   0.   0.   0.   0.   0.   0.   0.   0.   0.   0.   0.\n",
            "   0.   0.   0.   0.   0.   0.   0.   0.   0.   0.   0.   0.   0.   0.\n",
            "   0.   0.   0.   0.   0.   0.   0.   0.   0.   0.   0.   0.   0.   0.]\n",
            "0\n"
          ]
        }
      ]
    },
    {
      "cell_type": "markdown",
      "source": [
        "3. Split your dataset into training and test set. Use `random_state = 7`. 80% of your whole data should be in training set."
      ],
      "metadata": {
        "id": "9nsWXqTijxN0"
      }
    },
    {
      "cell_type": "code",
      "source": [
        "from sklearn.model_selection import train_test_split\n",
        "X_train, X_test, y_train, y_test = train_test_split(X, y, test_size=0.2, random_state=7)\n",
        "scaler = StandardScaler()\n",
        "X_trainNorm=scaler.fit_transform(X_train)\n",
        "X_testNorm=scaler.transform(X_test)\n"
      ],
      "metadata": {
        "id": "qpZqWkcwi_EG"
      },
      "execution_count": null,
      "outputs": []
    },
    {
      "cell_type": "code",
      "source": [
        "plt.figure(figsize=(20,4))\n",
        "for index, (image, label) in enumerate(zip(X_trainNorm[0:5], y_train[0:5])):\n",
        "    plt.subplot(1, 5, index + 1)\n",
        "    view_image(image)\n",
        "    plt.title('Training: %s\\n' % label, fontsize = 20)"
      ],
      "metadata": {
        "colab": {
          "base_uri": "https://localhost:8080/",
          "height": 900
        },
        "id": "53yOs55ynMcy",
        "outputId": "facadaac-0464-4839-9354-684006c10213"
      },
      "execution_count": null,
      "outputs": [
        {
          "output_type": "display_data",
          "data": {
            "image/png": "[encoded data removed]",
            "text/plain": [
              "<Figure size 1440x288 with 1 Axes>"
            ]
          },
          "metadata": {
            "needs_background": "light"
          }
        },
        {
          "output_type": "display_data",
          "data": {
            "image/png": "[encoded data removed]",
            "text/plain": [
              "<Figure size 432x288 with 1 Axes>"
            ]
          },
          "metadata": {
            "needs_background": "light"
          }
        },
        {
          "output_type": "display_data",
          "data": {
            "image/png": "[encoded data removed]",
            "text/plain": [
              "<Figure size 432x288 with 1 Axes>"
            ]
          },
          "metadata": {
            "needs_background": "light"
          }
        },
        {
          "output_type": "display_data",
          "data": {
            "image/png": "[encoded data removed]",
            "text/plain": [
              "<Figure size 432x288 with 1 Axes>"
            ]
          },
          "metadata": {
            "needs_background": "light"
          }
        },
        {
          "output_type": "display_data",
          "data": {
            "image/png": "[encoded data removed]",
            "text/plain": [
              "<Figure size 432x288 with 1 Axes>"
            ]
          },
          "metadata": {
            "needs_background": "light"
          }
        },
        {
          "output_type": "display_data",
          "data": {
            "image/png": "[encoded data removed]",
            "text/plain": [
              "<Figure size 432x288 with 1 Axes>"
            ]
          },
          "metadata": {
            "needs_background": "light"
          }
        }
      ]
    },
    {
      "cell_type": "markdown",
      "source": [
        "4. Train the model for maximum 100 iterations without any regularization. Evaluate your trained model on test set. \n",
        "\n"
      ],
      "metadata": {
        "id": "V9El0QKfn7gR"
      }
    },
    {
      "cell_type": "code",
      "source": [
        "from sklearn.linear_model import LogisticRegression\n",
        "\n",
        "# logisticRegr = LogisticRegression(solver = 'lbfgs', penalty = 'none')\n",
        "logisticRegr = LogisticRegression(C=50.0 / X_train.shape[0], penalty=\"none\", solver=\"saga\", tol=0.1)\n",
        "logisticRegr.fit(X_train, y_train)"
      ],
      "metadata": {
        "id": "3InmC1jXivpP",
        "colab": {
          "base_uri": "https://localhost:8080/"
        },
        "outputId": "959a36cc-a1c7-488d-8e89-27a6a84285e0"
      },
      "execution_count": null,
      "outputs": [
        {
          "output_type": "stream",
          "name": "stderr",
          "text": [
            "/usr/local/lib/python3.7/dist-packages/sklearn/linear_model/_logistic.py:1484: UserWarning: Setting penalty='none' will ignore the C and l1_ratio parameters\n",
            "  \"Setting penalty='none' will ignore the C and l1_ratio parameters\"\n"
          ]
        },
        {
          "output_type": "execute_result",
          "data": {
            "text/plain": [
              "LogisticRegression(C=0.0008928571428571428, penalty='none', solver='saga',\n",
              "                   tol=0.1)"
            ]
          },
          "metadata": {},
          "execution_count": 9
        }
      ]
    },
    {
      "cell_type": "code",
      "source": [
        "view_image(X_test[0])\n",
        "print(X_testNorm[0])"
      ],
      "metadata": {
        "colab": {
          "base_uri": "https://localhost:8080/",
          "height": 1000
        },
        "id": "K3ZUvZiJx0vD",
        "outputId": "ad8a59ba-c095-4d9f-c4b8-1e7718b734da"
      },
      "execution_count": null,
      "outputs": [
        {
          "output_type": "display_data",
          "data": {
            "image/png": "[encoded data removed]",
            "text/plain": [
              "<Figure size 432x288 with 1 Axes>"
            ]
          },
          "metadata": {
            "needs_background": "light"
          }
        },
        {
          "output_type": "stream",
          "name": "stdout",
          "text": [
            "[ 0.00000000e+00  0.00000000e+00  0.00000000e+00  0.00000000e+00\n",
            "  0.00000000e+00  0.00000000e+00  0.00000000e+00  0.00000000e+00\n",
            "  0.00000000e+00  0.00000000e+00  0.00000000e+00  0.00000000e+00\n",
            " -4.57314838e-03 -5.95681126e-03 -4.22580900e-03 -4.22580900e-03\n",
            "  0.00000000e+00  0.00000000e+00  0.00000000e+00  0.00000000e+00\n",
            "  0.00000000e+00  0.00000000e+00  0.00000000e+00  0.00000000e+00\n",
            "  0.00000000e+00  0.00000000e+00  0.00000000e+00  0.00000000e+00\n",
            "  0.00000000e+00  0.00000000e+00  0.00000000e+00  0.00000000e+00\n",
            "  0.00000000e+00 -5.00574346e-03 -9.57549372e-03 -1.25878530e-02\n",
            " -1.48830667e-02 -1.92593412e-02 -2.48512620e-02 -3.10564032e-02\n",
            " -3.29951953e-02 -3.16916539e-02 -3.30042495e-02 -3.14665309e-02\n",
            " -3.05419860e-02 -2.63967683e-02 -2.28371592e-02 -1.87423631e-02\n",
            " -1.59350314e-02 -8.69768684e-03 -7.51051815e-03 -4.53445173e-03\n",
            "  0.00000000e+00  0.00000000e+00  0.00000000e+00  0.00000000e+00\n",
            "  0.00000000e+00  0.00000000e+00 -4.22580900e-03 -5.58471947e-03\n",
            " -7.80487728e-03 -9.78544719e-03 -1.83182033e-02 -2.80256813e-02\n",
            " -3.72570892e-02 -5.35648804e-02 -6.97778401e-02 -8.78430360e-02\n",
            " -1.03852941e-01 -1.19049205e-01 -1.31682681e-01 -1.39039207e-01\n",
            " -1.37816714e-01 -1.29212637e-01 -1.18109232e-01 -1.00342129e-01\n",
            " -7.76904071e-02 -5.68944560e-02 -4.04535856e-02 -2.47682045e-02\n",
            " -1.45355563e-02 -8.10570794e-03  0.00000000e+00  0.00000000e+00\n",
            "  0.00000000e+00  0.00000000e+00 -5.55680439e-03 -8.17226184e-03\n",
            " -1.47396816e-02 -2.15180075e-02 -3.62074140e-02 -5.64712845e-02\n",
            " -8.03032699e-02 -1.10137457e-01 -1.40971759e-01 -1.71628664e-01\n",
            " -2.00438597e-01 -2.28317805e-01 -2.51203761e-01 -2.63693869e-01\n",
            " -2.60635982e-01 -2.43329205e-01 -2.17053164e-01 -1.83320388e-01\n",
            " -1.44794052e-01 -1.07343101e-01 -7.79621161e-02 -4.86435861e-02\n",
            " -3.12319584e-02 -1.53438566e-02 -5.23119512e-03  0.00000000e+00\n",
            "  0.00000000e+00 -4.22580900e-03 -7.07466729e-03 -1.49016477e-02\n",
            " -2.40823376e-02 -4.75609078e-02 -7.78228994e-02 -1.15677455e-01\n",
            " -1.61173853e-01 -2.14244733e-01 -2.70391175e-01 -3.30432597e-01\n",
            " -3.95120197e-01 -4.56317366e-01 -5.03525630e-01 -5.25920153e-01\n",
            " -5.18416615e-01 -4.80551275e-01 -4.20286197e-01 -3.53915362e-01\n",
            " -2.82373034e-01 -2.16280748e-01 -1.58069971e-01 -1.07809287e-01\n",
            " -6.82421257e-02 -3.63847267e-02 -1.41453513e-02 -4.22580900e-03\n",
            "  0.00000000e+00 -4.22580900e-03 -9.92770573e-03 -2.19194007e-02\n",
            " -5.14440420e-02 -9.00658465e-02 -1.38003857e-01 -1.95857408e-01\n",
            " -2.63524307e-01 -3.42274094e-01 -4.26240516e-01 -5.19643904e-01\n",
            " -6.19332695e-01 -7.17871286e-01 -7.95935458e-01 -8.36394875e-01\n",
            " -5.94526142e-01 -1.38458645e-01  9.20957247e-01  1.19998584e+00\n",
            "  1.59904556e+00  1.69180646e-01 -2.60569824e-01 -1.89660168e-01\n",
            " -1.28145088e-01 -7.34641376e-02 -3.13008165e-02 -8.02099585e-03\n",
            "  0.00000000e+00 -5.76566243e-03 -1.47192306e-02 -3.70668928e-02\n",
            " -8.01798414e-02 -1.32319487e-01 -1.96984576e-01 -2.73771921e-01\n",
            " -3.63429486e-01 -4.65570109e-01 -5.78840729e-01 -7.02651690e-01\n",
            " -8.32725688e-01 -9.60514298e-01 -9.08595407e-01  3.95291328e-01\n",
            "  9.25214898e-01  1.25415341e+00  1.42927288e+00  1.71993193e+00\n",
            "  2.14218889e+00  1.66179724e+00 -2.90680306e-01 -2.48552468e-01\n",
            " -1.71502531e-01 -1.03151106e-01 -4.85769756e-02 -1.60206975e-02\n",
            "  0.00000000e+00 -1.26203511e-02 -2.53324576e-02 -5.93289532e-02\n",
            " -1.13745182e-01 -1.77708177e-01 -2.56051340e-01 -3.50140908e-01\n",
            " -4.61019863e-01 -5.86660497e-01 -7.28511680e-01 -8.80828988e-01\n",
            " -1.01922234e+00 -1.05273224e+00  4.97354194e-01  1.06648112e+00\n",
            "  9.83436304e-01  5.95117534e-01 -3.77362024e-01  1.15281576e+00\n",
            "  1.81878567e+00  2.35586742e+00 -2.39707301e-01 -2.87180058e-01\n",
            " -1.96314356e-01 -1.21632589e-01 -5.71800168e-02 -1.65729817e-02\n",
            " -4.22580900e-03 -1.77033772e-02 -4.22054771e-02 -8.40840507e-02\n",
            " -1.38964992e-01 -2.09552139e-01 -2.98225156e-01 -4.05920452e-01\n",
            " -5.34968667e-01 -6.85271074e-01 -8.49881404e-01 -9.89103263e-01\n",
            " -1.07847892e+00 -9.90317129e-01  1.16844579e+00  1.17887259e+00\n",
            "  1.07207772e+00  8.93027106e-01  1.91665214e-01  1.21157541e-01\n",
            "  1.68741240e+00  2.17620816e+00  5.15108644e-01 -2.96440246e-01\n",
            " -1.96667106e-01 -1.21196730e-01 -5.53859261e-02 -1.37366571e-02\n",
            " -6.19812465e-03 -2.16993443e-02 -5.20424784e-02 -9.33182040e-02\n",
            " -1.49463014e-01 -2.24869859e-01 -3.21739236e-01 -4.41196775e-01\n",
            " -5.88368760e-01 -7.56748536e-01 -9.11032767e-01 -9.98639499e-01\n",
            " -9.95372985e-01 -8.26534053e-01  1.41287017e+00  1.41146267e+00\n",
            "  1.20866681e+00  5.11923124e-01 -2.19386196e-01  3.81100521e-01\n",
            "  1.69087225e+00  1.34154432e+00 -3.09590534e-01 -2.88046846e-01\n",
            " -1.80233437e-01 -1.04976429e-01 -4.83790106e-02 -1.51724025e-02\n",
            " -6.66026833e-03 -2.28363779e-02 -5.23500459e-02 -9.23427537e-02\n",
            " -1.46409842e-01 -2.24851350e-01 -3.31179719e-01 -4.62648419e-01\n",
            " -6.23568296e-01 -7.94419248e-01 -9.17255385e-01 -9.35786241e-01\n",
            " -8.66440730e-01 -7.74041848e-01 -4.21211664e-01 -4.61646404e-01\n",
            " -6.04185744e-01 -7.35507896e-01  8.45443976e-01  1.45842294e+00\n",
            "  9.64848819e-01 -4.88966299e-01 -3.93943002e-01 -2.69217623e-01\n",
            " -1.58843360e-01 -8.05909370e-02 -3.77221388e-02 -1.18784725e-02\n",
            " -7.52978593e-03 -2.05111395e-02 -4.71771996e-02 -8.14386007e-02\n",
            " -1.35601009e-01 -2.23125791e-01 -3.37478144e-01 -4.83726930e-01\n",
            " -6.53093834e-01 -8.18310168e-01 -9.03036463e-01 -8.72905050e-01\n",
            " -7.81384104e-01 -7.29903628e-01 -7.39868499e-01 -8.01881005e-01\n",
            " -7.08144397e-01  8.45942292e-01  1.33344502e+00  1.52292720e+00\n",
            "  4.09315605e-01 -4.96745673e-01 -3.67565784e-01 -2.57266410e-01\n",
            " -1.49664212e-01 -6.11024680e-02 -2.95109658e-02 -8.92416439e-03\n",
            " -5.49053073e-03 -1.61126340e-02 -3.65464912e-02 -6.71417443e-02\n",
            " -1.26669659e-01 -2.25566522e-01 -3.52335009e-01 -5.08969217e-01\n",
            " -6.84097380e-01 -8.34088526e-01 -8.92373105e-01 -8.41217019e-01\n",
            " -7.63717036e-01 -7.66626772e-01 -8.21058104e-01 -7.58828867e-01\n",
            "  8.22506857e-01  1.21511436e+00  1.30765894e+00  2.89007193e-01\n",
            " -5.94057821e-01 -4.68645008e-01 -3.53771281e-01 -2.54531245e-01\n",
            " -1.53817584e-01 -5.38206478e-02 -2.11443517e-02 -8.74952683e-03\n",
            " -4.22580900e-03 -1.11687172e-02 -2.57039550e-02 -5.56684638e-02\n",
            " -1.23933682e-01 -2.37837463e-01 -3.72786922e-01 -4.33126545e-01\n",
            " -5.78497041e-01 -7.22031489e-01 -7.64076616e-01 -7.18142735e-01\n",
            " -8.03644632e-01 -8.25577381e-01 -1.56796936e-01  1.15693755e+00\n",
            "  1.12247369e+00  8.55933012e-01 -1.95764788e-01 -7.73978453e-01\n",
            " -5.94480281e-01 -4.61378216e-01 -3.55230973e-01 -2.63338133e-01\n",
            " -1.63819429e-01 -5.82324152e-02 -2.18811170e-02 -6.69455498e-03\n",
            " -4.22580900e-03 -8.26874193e-03 -1.85556205e-02 -4.94055923e-02\n",
            " -1.15655493e-03  6.21867521e-01  1.62067274e+00  1.88439314e+00\n",
            "  1.71701953e+00  1.48338236e+00  1.44203047e+00  1.47828730e+00\n",
            "  4.86933587e-01  7.83949599e-01  1.07616869e+00  1.03127171e+00\n",
            "  9.04907008e-01 -1.00447696e-01 -9.63686629e-01 -7.63514050e-01\n",
            " -5.97242444e-01 -4.72336303e-01 -3.67623067e-01 -2.72892447e-01\n",
            " -1.72622955e-01 -6.77239952e-02 -2.41413494e-02 -7.23007298e-03\n",
            " -4.93771298e-03 -4.33647271e-03 -1.77426066e-02  1.71553968e-01\n",
            "  4.47316149e+00  4.61938680e+00  2.97223999e+00  2.18947770e+00\n",
            "  1.48755656e+00  1.21311388e+00  1.44245554e+00  1.46689715e+00\n",
            "  1.35088423e+00  1.15876514e+00  1.03820758e+00  8.34497104e-01\n",
            " -5.42142070e-01 -1.08142791e+00 -9.25029299e-01 -7.53838141e-01\n",
            " -6.10880901e-01 -4.87156976e-01 -3.79438400e-01 -2.77607722e-01\n",
            " -1.73840521e-01 -7.58085836e-02 -2.84692444e-02 -6.56873717e-03\n",
            " -4.22580900e-03 -7.90801050e-03 -2.14998497e-02  9.52581274e+00\n",
            "  8.87649943e+00  4.29576165e+00  2.46776067e+00  7.58832047e-01\n",
            "  9.40711392e-01  8.65085811e-01  1.48780156e+00  1.52607600e+00\n",
            "  1.37973513e+00  1.21771943e+00  1.11842872e+00 -7.25945758e-02\n",
            " -1.08514720e+00 -1.00640092e+00 -8.84088313e-01 -7.46804191e-01\n",
            " -6.18728872e-01 -4.93040435e-01 -3.67235241e-02 -2.72258528e-01\n",
            " -1.70721004e-01 -8.12360813e-02 -3.20043778e-02 -8.16074736e-03\n",
            "  0.00000000e+00 -8.28444084e-03 -2.64004911e-02  1.75523620e+01\n",
            "  7.48674095e+00  4.01312588e+00  2.67141572e+00  2.06069573e+00\n",
            "  1.97602109e+00  1.80455524e+00  1.72213587e+00  1.38546842e+00\n",
            "  1.21651203e+00  1.36567102e+00  1.25240274e+00  1.13645678e+00\n",
            " -1.09937958e-01 -4.07856318e-01 -3.01055196e-01 -1.63991013e-01\n",
            "  1.08345253e+00  1.68027205e+00  1.97057253e+00 -2.58613516e-01\n",
            " -1.64462203e-01 -8.54678865e-02 -3.38904563e-02 -1.00970674e-02\n",
            " -4.46666956e-03 -7.51941253e-03 -3.48006318e-02  1.32438030e+01\n",
            "  6.46964099e+00  3.76722527e+00  2.75646687e+00  2.27478968e+00\n",
            "  2.02262674e+00  1.27748325e+00  6.04159971e-01 -4.08988352e-01\n",
            " -5.10270221e-01  1.14129624e+00  1.31628442e+00  1.26076544e+00\n",
            "  1.27427383e+00  1.32946490e+00  1.44224142e+00  1.66497403e+00\n",
            "  2.05108838e+00  2.65366076e+00  3.59278206e+00 -2.43500994e-01\n",
            " -1.54448194e-01 -8.28743634e-02 -2.90896059e-02 -8.96165536e-03\n",
            " -4.22580900e-03 -1.01794322e-02 -3.98054201e-02  1.16543939e+00\n",
            "  1.22973706e+00  2.28655463e+00  6.28180266e-01 -3.18620567e-02\n",
            " -1.43666612e-01 -6.05419176e-01 -7.39235380e-01 -7.74697622e-01\n",
            " -8.31352316e-01 -6.92940724e-01 -4.81363112e-01  4.44222046e-01\n",
            "  4.57947987e-01  1.07915120e+00  1.45370612e+00  1.74999823e+00\n",
            "  1.85931602e+00  1.77943273e+00  5.86904686e-01 -2.18493140e-01\n",
            " -1.38573215e-01 -7.71336418e-02 -2.69695028e-02 -6.29873940e-03\n",
            "  0.00000000e+00 -8.58426702e-03 -4.29677817e-02 -1.09099493e-01\n",
            " -2.08125564e-01 -3.29374058e-01 -4.53926880e-01 -5.67991608e-01\n",
            " -6.70107986e-01 -7.60111397e-01 -8.30836270e-01 -8.89919073e-01\n",
            " -9.62441200e-01 -1.05283362e+00 -1.12694984e+00 -1.13889600e+00\n",
            " -1.07448823e+00 -7.13566779e-01 -4.55977376e-01 -2.60729622e-01\n",
            " -2.25504888e-01 -3.67614016e-01 -2.67894360e-01 -1.85200690e-01\n",
            " -1.20275705e-01 -6.54661521e-02 -2.54036641e-02 -4.22580900e-03\n",
            "  0.00000000e+00 -7.46285849e-03 -4.19158508e-02 -1.00543177e-01\n",
            " -1.88962035e-01 -2.99227870e-01 -4.26038796e-01 -5.54272733e-01\n",
            " -6.79685167e-01 -8.00915122e-01 -9.09269142e-01 -1.01223592e+00\n",
            " -1.10605138e+00 -1.18410111e+00 -1.20148546e+00 -1.13742752e+00\n",
            " -1.00426125e+00 -8.37748962e-01 -6.69289809e-01 -5.20911123e-01\n",
            " -3.96110351e-01 -2.94473191e-01 -2.10176551e-01 -1.46917211e-01\n",
            " -9.59806971e-02 -4.96552957e-02 -2.00864774e-02 -4.22580900e-03\n",
            "  0.00000000e+00 -4.22580900e-03 -3.35464992e-02 -8.01661632e-02\n",
            " -1.48492519e-01 -2.43315942e-01 -3.58351364e-01 -4.84909762e-01\n",
            " -6.20159044e-01 -7.56403954e-01 -8.89178905e-01 -1.00332583e+00\n",
            " -1.09037352e+00 -1.12108763e+00 -1.08356015e+00 -9.70999499e-01\n",
            " -8.23649821e-01 -6.66381043e-01 -5.23360312e-01 -3.99300679e-01\n",
            " -3.00052770e-01 -2.18518551e-01 -1.57269993e-01 -1.08273141e-01\n",
            " -6.97463409e-02 -3.67380048e-02 -1.29496305e-02 -4.22580900e-03\n",
            "  0.00000000e+00 -4.22580900e-03 -2.20855201e-02 -5.25281666e-02\n",
            " -1.00233816e-01 -1.67945077e-01 -2.59019006e-01 -3.67918105e-01\n",
            " -4.87426831e-01 -6.12541495e-01 -7.37940880e-01 -8.43917131e-01\n",
            " -9.04371214e-01 -9.04005739e-01 -8.46270580e-01 -7.40244938e-01\n",
            " -6.15651965e-01 -4.93420895e-01 -3.80475747e-01 -2.86672583e-01\n",
            " -2.10882504e-01 -1.51298739e-01 -1.07217737e-01 -7.23327169e-02\n",
            " -4.42397565e-02 -2.13596850e-02 -1.07861919e-02  0.00000000e+00\n",
            "  0.00000000e+00  0.00000000e+00 -1.07161045e-02 -2.73505798e-02\n",
            " -5.68406600e-02 -9.29924453e-02 -1.51717087e-01 -2.21406832e-01\n",
            " -3.01576304e-01 -3.85470221e-01 -4.67680593e-01 -5.30653362e-01\n",
            " -5.65040022e-01 -5.63116186e-01 -5.30246279e-01 -4.72020302e-01\n",
            " -3.99478075e-01 -3.26146313e-01 -2.55673967e-01 -1.92850533e-01\n",
            " -1.42479948e-01 -9.94215220e-02 -6.88415805e-02 -4.50816066e-02\n",
            " -2.54676764e-02 -1.11254740e-02 -4.22580900e-03  0.00000000e+00\n",
            "  0.00000000e+00  0.00000000e+00 -6.89821795e-03 -1.09952634e-02\n",
            " -2.82535382e-02 -5.08622195e-02 -8.50356609e-02 -1.26816703e-01\n",
            " -1.74932194e-01 -2.21852229e-01 -2.64730093e-01 -2.93700725e-01\n",
            " -3.07470809e-01 -3.05872902e-01 -2.90205157e-01 -2.65952683e-01\n",
            " -2.35531861e-01 -2.01310771e-01 -1.63469533e-01 -1.26348157e-01\n",
            " -9.21906928e-02 -6.41044878e-02 -4.52546985e-02 -2.76242162e-02\n",
            " -1.56509498e-02 -7.08115374e-03 -4.22580900e-03  0.00000000e+00\n",
            "  0.00000000e+00  0.00000000e+00  0.00000000e+00 -4.22580900e-03\n",
            " -1.53060427e-02 -3.23774048e-02 -5.38662062e-02 -7.87912257e-02\n",
            " -1.07091739e-01 -1.32334487e-01 -1.55937298e-01 -1.74648021e-01\n",
            " -1.82825795e-01 -1.80665315e-01 -1.70705682e-01 -1.53508707e-01\n",
            " -1.36037606e-01 -1.17289423e-01 -9.31497521e-02 -7.19870049e-02\n",
            " -5.17387719e-02 -3.63317734e-02 -2.27883498e-02 -1.30241728e-02\n",
            " -6.79263857e-03 -4.22580900e-03  0.00000000e+00  0.00000000e+00\n",
            "  0.00000000e+00  0.00000000e+00  0.00000000e+00  0.00000000e+00\n",
            " -5.99339593e-03 -9.37164831e-03 -1.61083016e-02 -2.18184365e-02\n",
            " -2.66185834e-02 -3.11917507e-02 -4.37874247e-02 -4.66374192e-02\n",
            " -5.06776517e-02 -5.46456259e-02 -5.99608756e-02 -5.61738654e-02\n",
            " -5.05718034e-02 -4.15797122e-02 -3.22646694e-02 -2.28620061e-02\n",
            " -1.70816195e-02 -1.06583306e-02 -8.77248886e-03 -5.97293227e-03\n",
            "  0.00000000e+00  0.00000000e+00  0.00000000e+00  0.00000000e+00]\n"
          ]
        }
      ]
    },
    {
      "cell_type": "code",
      "source": [
        "logisticRegr.predict(X_testNorm[0].reshape(1,-1))\n"
      ],
      "metadata": {
        "colab": {
          "base_uri": "https://localhost:8080/"
        },
        "id": "cKlDOF-HrF8x",
        "outputId": "b0007e80-e0a4-49d6-f750-106ff3dea8cd"
      },
      "execution_count": null,
      "outputs": [
        {
          "output_type": "execute_result",
          "data": {
            "text/plain": [
              "array(['2'], dtype=object)"
            ]
          },
          "metadata": {},
          "execution_count": 11
        }
      ]
    },
    {
      "cell_type": "markdown",
      "source": [
        "5.   Show the effect of different `penalty/regularization` ('l1', 'l2') method."
      ],
      "metadata": {
        "id": "3TtvYOg4o87s"
      }
    },
    {
      "cell_type": "code",
      "source": [
        "logisticRegrL1 = LogisticRegression(solver = 'liblinear', C=50.0 / X_train.shape[0], penalty = 'l1', max_iter = 1000, tol=0.01)\n",
        "logisticRegrL1.fit(X_train, y_train)\n"
      ],
      "metadata": {
        "id": "bi7vO_NcpDjE",
        "colab": {
          "base_uri": "https://localhost:8080/"
        },
        "outputId": "536e4bcf-3bce-4af9-fdac-cca43b47ceac"
      },
      "execution_count": null,
      "outputs": [
        {
          "output_type": "execute_result",
          "data": {
            "text/plain": [
              "LogisticRegression(C=0.0008928571428571428, max_iter=1000, penalty='l1',\n",
              "                   solver='liblinear', tol=0.01)"
            ]
          },
          "metadata": {},
          "execution_count": 24
        }
      ]
    },
    {
      "cell_type": "code",
      "source": [
        "logisticRegrL1.score(X_test, y_test)"
      ],
      "metadata": {
        "colab": {
          "base_uri": "https://localhost:8080/"
        },
        "id": "FpxUPY2lzk0V",
        "outputId": "f79de68f-d266-477c-bb0d-efab5cec337f"
      },
      "execution_count": null,
      "outputs": [
        {
          "output_type": "execute_result",
          "data": {
            "text/plain": [
              "0.9134285714285715"
            ]
          },
          "metadata": {},
          "execution_count": 25
        }
      ]
    },
    {
      "cell_type": "code",
      "source": [
        "logisticRegrL2 = LogisticRegression(solver = 'liblinear', C=50.0 / X_train.shape[0], penalty = 'l2', max_iter = 1000)\n",
        "logisticRegrL2.fit(X_train, y_train)"
      ],
      "metadata": {
        "colab": {
          "base_uri": "https://localhost:8080/"
        },
        "id": "uL3sP6RAzsqd",
        "outputId": "a5725d6a-0fda-419a-993f-66abd21f0773"
      },
      "execution_count": null,
      "outputs": [
        {
          "output_type": "execute_result",
          "data": {
            "text/plain": [
              "LogisticRegression(C=0.0008928571428571428, max_iter=1000, solver='liblinear')"
            ]
          },
          "metadata": {},
          "execution_count": 75
        }
      ]
    },
    {
      "cell_type": "code",
      "source": [
        "logisticRegrL2.score(X_test, y_test)"
      ],
      "metadata": {
        "colab": {
          "base_uri": "https://localhost:8080/"
        },
        "id": "GfmA71-A0T4O",
        "outputId": "dc9794ff-bbd1-4c07-e7a9-9f7b625508c4"
      },
      "execution_count": null,
      "outputs": [
        {
          "output_type": "execute_result",
          "data": {
            "text/plain": [
              "0.9154285714285715"
            ]
          },
          "metadata": {},
          "execution_count": 76
        }
      ]
    },
    {
      "cell_type": "markdown",
      "source": [
        "6. Show the effect of different `regularization strength` (1/C while using scikit-learn)."
      ],
      "metadata": {
        "id": "cu-YCTvcpHWR"
      }
    },
    {
      "cell_type": "code",
      "source": [
        "logisticRegrL1 = LogisticRegression(solver = 'liblinear', C=500.0 / X_train.shape[0], penalty = 'l1', max_iter = 1000)\n",
        "logisticRegrL1.fit(X_train, y_train)"
      ],
      "metadata": {
        "id": "xk9mlNAWpMpR",
        "colab": {
          "base_uri": "https://localhost:8080/"
        },
        "outputId": "be15bd8a-55e4-40e2-e52e-eeea754a1052"
      },
      "execution_count": null,
      "outputs": [
        {
          "output_type": "execute_result",
          "data": {
            "text/plain": [
              "LogisticRegression(C=0.008928571428571428, max_iter=1000, penalty='l1',\n",
              "                   solver='liblinear')"
            ]
          },
          "metadata": {},
          "execution_count": 77
        }
      ]
    },
    {
      "cell_type": "code",
      "source": [
        "logisticRegrL1.score(X_test, y_test)"
      ],
      "metadata": {
        "colab": {
          "base_uri": "https://localhost:8080/"
        },
        "id": "P_xbeAHS03QR",
        "outputId": "3717eee4-7036-452e-e594-a5995cf564e5"
      },
      "execution_count": null,
      "outputs": [
        {
          "output_type": "execute_result",
          "data": {
            "text/plain": [
              "0.9192857142857143"
            ]
          },
          "metadata": {},
          "execution_count": 78
        }
      ]
    },
    {
      "cell_type": "code",
      "source": [
        "logisticRegrL2 = LogisticRegression(solver = 'liblinear', C=500.0 / X_train.shape[0], penalty = 'l2', max_iter = 1000, tol=0.01)\n",
        "logisticRegrL2.fit(X_train, y_train)"
      ],
      "metadata": {
        "colab": {
          "base_uri": "https://localhost:8080/"
        },
        "id": "EZ7U__WW077H",
        "outputId": "81f75108-46f5-43da-9bdb-62512a019c3c"
      },
      "execution_count": null,
      "outputs": [
        {
          "output_type": "execute_result",
          "data": {
            "text/plain": [
              "LogisticRegression(C=0.008928571428571428, max_iter=1000, solver='liblinear',\n",
              "                   tol=0.01)"
            ]
          },
          "metadata": {},
          "execution_count": 14
        }
      ]
    },
    {
      "cell_type": "code",
      "source": [
        "logisticRegrL2.score(X_test, y_test)"
      ],
      "metadata": {
        "colab": {
          "base_uri": "https://localhost:8080/"
        },
        "id": "vhX7ylGX089o",
        "outputId": "e8f34a45-5ef5-40da-fb81-d3658d0bc95e"
      },
      "execution_count": null,
      "outputs": [
        {
          "output_type": "execute_result",
          "data": {
            "text/plain": [
              "0.9160714285714285"
            ]
          },
          "metadata": {},
          "execution_count": 15
        }
      ]
    },
    {
      "cell_type": "code",
      "source": [
        "logisticRegrL2 = LogisticRegression(solver = 'liblinear', C=5.0 / X_train.shape[0], penalty = 'l2', max_iter = 1000, tol=0.01)\n",
        "logisticRegrL2.fit(X_train, y_train)"
      ],
      "metadata": {
        "colab": {
          "base_uri": "https://localhost:8080/"
        },
        "id": "w9XMzRDR5aU9",
        "outputId": "056e7c96-ea9a-4cf9-85fe-664bb33ffb22"
      },
      "execution_count": null,
      "outputs": [
        {
          "output_type": "execute_result",
          "data": {
            "text/plain": [
              "LogisticRegression(C=8.928571428571429e-05, max_iter=1000, solver='liblinear',\n",
              "                   tol=0.01)"
            ]
          },
          "metadata": {},
          "execution_count": 18
        }
      ]
    },
    {
      "cell_type": "code",
      "source": [
        "logisticRegrL2.score(X_test, y_test)"
      ],
      "metadata": {
        "colab": {
          "base_uri": "https://localhost:8080/"
        },
        "id": "25-RSPxR5bO0",
        "outputId": "4af1c10e-d952-4ef7-d40a-155fae968f4b"
      },
      "execution_count": null,
      "outputs": [
        {
          "output_type": "execute_result",
          "data": {
            "text/plain": [
              "0.9149285714285714"
            ]
          },
          "metadata": {},
          "execution_count": 19
        }
      ]
    },
    {
      "cell_type": "markdown",
      "source": [
        "7. Plot `5` misclassified samples, their `actual label`, and `predicted label` using the output from your best performing model."
      ],
      "metadata": {
        "id": "uo0lNE6QqArD"
      }
    },
    {
      "cell_type": "code",
      "source": [
        "predictions = logisticRegr.predict(X_testNorm)\n",
        "index = 0\n",
        "misIndices = []\n",
        "for label, predict in zip(y_test, predictions):\n",
        "    if label != predict: \n",
        "        misIndices.append(index)\n",
        "    index +=1\n",
        "\n",
        "plt.figure(figsize=(20,4))\n",
        "for plotIndex, badIndex in enumerate(misIndices[0:5]):\n",
        "    plt.subplot(1, 5, plotIndex + 1)\n",
        "    plt.imshow(np.reshape(X_test[badIndex], (28,28)), cmap=plt.cm.gray)\n",
        "    #view_image(X_test[badIndex])\n",
        "    plt.title('Predicted: {}, Actual: {}'.format(predictions[badIndex], y_test[badIndex]), fontsize = 15)"
      ],
      "metadata": {
        "id": "Sen_rfJ7qIyW",
        "colab": {
          "base_uri": "https://localhost:8080/",
          "height": 258
        },
        "outputId": "a7c2b726-5752-4e5e-848d-c729ce3afd95"
      },
      "execution_count": null,
      "outputs": [
        {
          "output_type": "display_data",
          "data": {
            "image/png": "[encoded data removed]",
            "text/plain": [
              "<Figure size 1440x288 with 5 Axes>"
            ]
          },
          "metadata": {
            "needs_background": "light"
          }
        }
      ]
    },
    {
      "cell_type": "markdown",
      "source": [
        "8. Plot the confusion matrix of the test set of best performing setup. "
      ],
      "metadata": {
        "id": "y6dcWt5dFeXB"
      }
    },
    {
      "cell_type": "code",
      "source": [
        "import seaborn as sns\n",
        "from sklearn.metrics import confusion_matrix\n",
        "print(confusion_matrix(y_test, logisticRegr.predict(X_test)))\n",
        "sns.heatmap(confusion_matrix(y_test, logisticRegr.predict(X_test)), annot=True)"
      ],
      "metadata": {
        "id": "ivybcHSnFuOd",
        "colab": {
          "base_uri": "https://localhost:8080/",
          "height": 456
        },
        "outputId": "8ba3b67c-53aa-4790-a48f-eda53e111ed2"
      },
      "execution_count": null,
      "outputs": [
        {
          "output_type": "stream",
          "name": "stdout",
          "text": [
            "[[1340    0    7    4    1    8   12    2    9    2]\n",
            " [   0 1522    9    5    0    3    1    5   15    3]\n",
            " [  10   18 1250   19   20    4   21   20   26    5]\n",
            " [   5    4   32 1331    2   41    1    8   18   16]\n",
            " [   6    6    6    1 1247    1   10    3   12   47]\n",
            " [  16    7    4   37   23 1042   33    5   61   11]\n",
            " [  11    5    1    0   10   18 1302    0    5    0]\n",
            " [   3    3   18    2   14    2    1 1396    4   48]\n",
            " [   6   27    9   28    3   36    7    5 1238   21]\n",
            " [  10    7    1   11   25    4    0   49   11 1282]]\n"
          ]
        },
        {
          "output_type": "execute_result",
          "data": {
            "text/plain": [
              "<matplotlib.axes._subplots.AxesSubplot at 0x7fd5dc68bc50>"
            ]
          },
          "metadata": {},
          "execution_count": 20
        },
        {
          "output_type": "display_data",
          "data": {
            "image/png": "[encoded data removed]",
            "text/plain": [
              "<Figure size 432x288 with 2 Axes>"
            ]
          },
          "metadata": {
            "needs_background": "light"
          }
        }
      ]
    },
    {
      "cell_type": "code",
      "source": [
        "print(confusion_matrix(y_test, logisticRegrL2.predict(X_test)))\n",
        "sns.heatmap(confusion_matrix(y_test, logisticRegrL2.predict(X_test)), annot=True)"
      ],
      "metadata": {
        "colab": {
          "base_uri": "https://localhost:8080/",
          "height": 456
        },
        "id": "B_Skwwul55PI",
        "outputId": "13969257-ec1e-4f86-fca6-6052d280d7bd"
      },
      "execution_count": null,
      "outputs": [
        {
          "output_type": "stream",
          "name": "stdout",
          "text": [
            "[[1346    0    5    3    1    5    8    1   14    2]\n",
            " [   0 1521    9    3    0    3    2    5   17    3]\n",
            " [   9   19 1239   21   20    7   19   17   37    5]\n",
            " [   4    5   45 1324    3   28    4    9   21   15]\n",
            " [   6    5    5    1 1247    3    7    2   18   45]\n",
            " [  12    7    7   52   25 1008   38    5   66   19]\n",
            " [  12    6    6    1    6   19 1294    0    7    1]\n",
            " [   2    2   19    1   15    3    3 1390    5   51]\n",
            " [  12   34   20   33    5   40    6    7 1197   26]\n",
            " [  16    7    2   20   34    6    0   54   18 1243]]\n"
          ]
        },
        {
          "output_type": "execute_result",
          "data": {
            "text/plain": [
              "<matplotlib.axes._subplots.AxesSubplot at 0x7fd5e53caa90>"
            ]
          },
          "metadata": {},
          "execution_count": 22
        },
        {
          "output_type": "display_data",
          "data": {
            "image/png": "[encoded data removed]",
            "text/plain": [
              "<Figure size 432x288 with 2 Axes>"
            ]
          },
          "metadata": {
            "needs_background": "light"
          }
        }
      ]
    },
    {
      "cell_type": "code",
      "source": [
        "print(confusion_matrix(y_test, logisticRegrL1.predict(X_test)))\n",
        "sns.heatmap(confusion_matrix(y_test, logisticRegrL1.predict(X_test)), annot=True)"
      ],
      "metadata": {
        "colab": {
          "base_uri": "https://localhost:8080/",
          "height": 456
        },
        "id": "aeIYWfxe6B1O",
        "outputId": "b259364f-328b-4e9b-9589-0760f9dc98c3"
      },
      "execution_count": null,
      "outputs": [
        {
          "output_type": "stream",
          "name": "stdout",
          "text": [
            "[[1347    0    4    3    2    6    6    1   13    3]\n",
            " [   0 1519   10    2    0    5    1    4   18    4]\n",
            " [  10   14 1246   18   21    5   18   20   38    3]\n",
            " [   4    7   43 1319    3   26    4   11   25   16]\n",
            " [   7    7    7    2 1235    2    5    2   18   54]\n",
            " [  11    8    5   49   24 1019   37    4   64   18]\n",
            " [  10    9    4    2    9   20 1288    0   10    0]\n",
            " [   2    7   18    4   16    4    4 1378    4   54]\n",
            " [  10   40   15   34    6   42    5    9 1196   23]\n",
            " [  12    9    3   18   39    6    0   57   15 1241]]\n"
          ]
        },
        {
          "output_type": "execute_result",
          "data": {
            "text/plain": [
              "<matplotlib.axes._subplots.AxesSubplot at 0x7fd5e4ff3b90>"
            ]
          },
          "metadata": {},
          "execution_count": 26
        },
        {
          "output_type": "display_data",
          "data": {
            "image/png": "[encoded data removed]",
            "text/plain": [
              "<Figure size 432x288 with 2 Axes>"
            ]
          },
          "metadata": {
            "needs_background": "light"
          }
        }
      ]
    },
    {
      "cell_type": "code",
      "source": [
        ""
      ],
      "metadata": {
        "id": "WHkTVsJm81BS"
      },
      "execution_count": null,
      "outputs": []
    }
  ]
}