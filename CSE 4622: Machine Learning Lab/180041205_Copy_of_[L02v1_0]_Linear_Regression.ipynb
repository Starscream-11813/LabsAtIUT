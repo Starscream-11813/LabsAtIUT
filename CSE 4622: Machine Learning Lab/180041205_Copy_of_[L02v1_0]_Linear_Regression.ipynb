{
  "nbformat": 4,
  "nbformat_minor": 0,
  "metadata": {
    "colab": {
      "name": "180041205_Copy of [L02v1_0]_Linear_Regression.ipynb",
      "provenance": [],
      "collapsed_sections": [
        "-3-VKYKCtHxt",
        "k83tAOYnv59r"
      ]
    },
    "kernelspec": {
      "name": "python3",
      "display_name": "Python 3"
    },
    "language_info": {
      "name": "python"
    }
  },
  "cells": [
    {
      "cell_type": "markdown",
      "metadata": {
        "id": "zzRLPdpGj636"
      },
      "source": [
        "This is a very simple tutorial intended for the beginners to understand and implement Simple Linear Regression from the scratch. \n",
        "\n",
        "\n",
        "\n",
        "<font color='skyblue'> Simple Linear Regression </font> is a great first machine learning algorithm to implement as it requires you to estimate properties from your training dataset, but is simple enough for beginners to understand. Linear regression is a prediction method that is more than 200 years old. In this tutorial, you will discover how to implement the simple linear regression algorithm from scratch in Python.\n",
        "\n",
        "After completing this tutorial you will know:<br>\n",
        "&#9632; How to estimate statistical quantities from training data.<br>\n",
        "&#9632; How to estimate linear regression coefficients from data.<br>\n",
        "&#9632; How to make predictions using linear regression for new data.<br>\n",
        "\n",
        "\n",
        "Linear regression assumes a **linear or straight line relationship between the input variables (X) and the single output variable (y).** More specifically, that output (y) can be calculated from a linear combination of the input variables (X). When there is a single input variable, the method is referred to as a simple linear regression.\n",
        "\n",
        "In simple linear regression we can use statistics on the training data to estimate the coefficients required by the model to make predictions on new data.\n",
        "\n",
        "The line for a simple linear regression model can be written as:\n",
        "\n",
        "$$ y = b_0 + b_1 \\times x $$\n",
        "where $b_0$ and $b_1$ are the coefficients we must estimate from the training data. Once the coefficients are known, we can use this equation to estimate \n",
        "output values for $y$ given new input examples of $x$. It requires that you calculate statistical properties from the data such as **mean, variance** and **covariance.**"
      ]
    },
    {
      "cell_type": "markdown",
      "metadata": {
        "id": "yMWmRb56kaiI"
      },
      "source": [
        "We will use a dataset to understand the relationship between the numbers of hours a student studies and the percentage of marks that student scores in an exam which demonstrate simple linear regression. The dataset involves **<font color='skyblue'> predicting the obtained percentage score of a student (y) given the total number of hourse s/he has studied (x). </font>**\n",
        "\n",
        "**[Dataset can be found here.](https://drive.google.com/file/d/1HChTis2Kwhk-1EZC6yvJHx6vHBO_94Aq/view?usp=sharing)**"
      ]
    },
    {
      "cell_type": "markdown",
      "metadata": {
        "id": "V-OZq8cvkcku"
      },
      "source": [
        "Let's load some basic python libraries that we will need over the course of this tutorial. "
      ]
    },
    {
      "cell_type": "code",
      "metadata": {
        "id": "jfpjHvdoiaQq"
      },
      "source": [
        "# library for manipulating the csv data\n",
        "import pandas as pd\n",
        "\n",
        "# library for scientific calculations on numbers + linear algebra\n",
        "import numpy as np\n",
        "import math\n",
        "\n",
        "# library for regular plot visualizations\n",
        "import matplotlib.pyplot as plt\n",
        "\n",
        "#library for responsive visualizations\n",
        "import plotly.express as px\n",
        "import plotly.graph_objects as go"
      ],
      "execution_count": null,
      "outputs": []
    },
    {
      "cell_type": "markdown",
      "metadata": {
        "id": "nC9OGX2TnZjJ"
      },
      "source": [
        "**Downloading the Dataset**<br>\n",
        "Full Dataset Link: [https://drive.google.com/file/d/1HChTis2Kwhk-1EZC6yvJHx6vHBO_94Aq/view?usp=sharing](https://drive.google.com/file/d/1HChTis2Kwhk-1EZC6yvJHx6vHBO_94Aq/view?usp=sharing)"
      ]
    },
    {
      "cell_type": "code",
      "metadata": {
        "colab": {
          "base_uri": "https://localhost:8080/"
        },
        "id": "Z4xuPIY4ncuP",
        "outputId": "37c5cc35-e030-4e66-a562-cd5b0d719c39"
      },
      "source": [
        "!gdown --id 1HChTis2Kwhk-1EZC6yvJHx6vHBO_94Aq"
      ],
      "execution_count": null,
      "outputs": [
        {
          "output_type": "stream",
          "name": "stdout",
          "text": [
            "Downloading...\n",
            "From: https://drive.google.com/uc?id=1HChTis2Kwhk-1EZC6yvJHx6vHBO_94Aq\n",
            "To: /content/student_scores.csv\n",
            "\r  0% 0.00/214 [00:00<?, ?B/s]\r100% 214/214 [00:00<00:00, 187kB/s]\n"
          ]
        }
      ]
    },
    {
      "cell_type": "markdown",
      "metadata": {
        "id": "W92-IYiJn63t"
      },
      "source": [
        "Reading the data"
      ]
    },
    {
      "cell_type": "code",
      "metadata": {
        "colab": {
          "base_uri": "https://localhost:8080/",
          "height": 397
        },
        "id": "nKnVTBTnn-H1",
        "outputId": "9e6459e0-2ebb-4b2d-bde5-657304960c30"
      },
      "source": [
        "data = pd.read_csv('/content/student_scores.csv')\n",
        "\n",
        "print(\"---Data Info---\")\n",
        "data.info()\n",
        "print(\"---Data Head---\")\n",
        "data.head()"
      ],
      "execution_count": null,
      "outputs": [
        {
          "output_type": "stream",
          "name": "stdout",
          "text": [
            "---Data Info---\n",
            "<class 'pandas.core.frame.DataFrame'>\n",
            "RangeIndex: 25 entries, 0 to 24\n",
            "Data columns (total 2 columns):\n",
            " #   Column  Non-Null Count  Dtype  \n",
            "---  ------  --------------  -----  \n",
            " 0   Hours   25 non-null     float64\n",
            " 1   Scores  25 non-null     int64  \n",
            "dtypes: float64(1), int64(1)\n",
            "memory usage: 528.0 bytes\n",
            "---Data Head---\n"
          ]
        },
        {
          "output_type": "execute_result",
          "data": {
            "text/html": [
              "<div>\n",
              "<style scoped>\n",
              "    .dataframe tbody tr th:only-of-type {\n",
              "        vertical-align: middle;\n",
              "    }\n",
              "\n",
              "    .dataframe tbody tr th {\n",
              "        vertical-align: top;\n",
              "    }\n",
              "\n",
              "    .dataframe thead th {\n",
              "        text-align: right;\n",
              "    }\n",
              "</style>\n",
              "<table border=\"1\" class=\"dataframe\">\n",
              "  <thead>\n",
              "    <tr style=\"text-align: right;\">\n",
              "      <th></th>\n",
              "      <th>Hours</th>\n",
              "      <th>Scores</th>\n",
              "    </tr>\n",
              "  </thead>\n",
              "  <tbody>\n",
              "    <tr>\n",
              "      <th>0</th>\n",
              "      <td>2.5</td>\n",
              "      <td>21</td>\n",
              "    </tr>\n",
              "    <tr>\n",
              "      <th>1</th>\n",
              "      <td>5.1</td>\n",
              "      <td>47</td>\n",
              "    </tr>\n",
              "    <tr>\n",
              "      <th>2</th>\n",
              "      <td>3.2</td>\n",
              "      <td>27</td>\n",
              "    </tr>\n",
              "    <tr>\n",
              "      <th>3</th>\n",
              "      <td>8.5</td>\n",
              "      <td>75</td>\n",
              "    </tr>\n",
              "    <tr>\n",
              "      <th>4</th>\n",
              "      <td>3.5</td>\n",
              "      <td>30</td>\n",
              "    </tr>\n",
              "  </tbody>\n",
              "</table>\n",
              "</div>"
            ],
            "text/plain": [
              "   Hours  Scores\n",
              "0    2.5      21\n",
              "1    5.1      47\n",
              "2    3.2      27\n",
              "3    8.5      75\n",
              "4    3.5      30"
            ]
          },
          "metadata": {},
          "execution_count": 45
        }
      ]
    },
    {
      "cell_type": "markdown",
      "metadata": {
        "id": "5fjGxqRxdBlU"
      },
      "source": [
        "Dataset Description"
      ]
    },
    {
      "cell_type": "code",
      "metadata": {
        "colab": {
          "base_uri": "https://localhost:8080/",
          "height": 300
        },
        "id": "f321_NZ5dDPq",
        "outputId": "9b6f6139-1aee-45c4-f5e5-8e97f27370f7"
      },
      "source": [
        "data.describe()"
      ],
      "execution_count": null,
      "outputs": [
        {
          "output_type": "execute_result",
          "data": {
            "text/html": [
              "<div>\n",
              "<style scoped>\n",
              "    .dataframe tbody tr th:only-of-type {\n",
              "        vertical-align: middle;\n",
              "    }\n",
              "\n",
              "    .dataframe tbody tr th {\n",
              "        vertical-align: top;\n",
              "    }\n",
              "\n",
              "    .dataframe thead th {\n",
              "        text-align: right;\n",
              "    }\n",
              "</style>\n",
              "<table border=\"1\" class=\"dataframe\">\n",
              "  <thead>\n",
              "    <tr style=\"text-align: right;\">\n",
              "      <th></th>\n",
              "      <th>Hours</th>\n",
              "      <th>Scores</th>\n",
              "    </tr>\n",
              "  </thead>\n",
              "  <tbody>\n",
              "    <tr>\n",
              "      <th>count</th>\n",
              "      <td>25.000000</td>\n",
              "      <td>25.000000</td>\n",
              "    </tr>\n",
              "    <tr>\n",
              "      <th>mean</th>\n",
              "      <td>5.012000</td>\n",
              "      <td>51.480000</td>\n",
              "    </tr>\n",
              "    <tr>\n",
              "      <th>std</th>\n",
              "      <td>2.525094</td>\n",
              "      <td>25.286887</td>\n",
              "    </tr>\n",
              "    <tr>\n",
              "      <th>min</th>\n",
              "      <td>1.100000</td>\n",
              "      <td>17.000000</td>\n",
              "    </tr>\n",
              "    <tr>\n",
              "      <th>25%</th>\n",
              "      <td>2.700000</td>\n",
              "      <td>30.000000</td>\n",
              "    </tr>\n",
              "    <tr>\n",
              "      <th>50%</th>\n",
              "      <td>4.800000</td>\n",
              "      <td>47.000000</td>\n",
              "    </tr>\n",
              "    <tr>\n",
              "      <th>75%</th>\n",
              "      <td>7.400000</td>\n",
              "      <td>75.000000</td>\n",
              "    </tr>\n",
              "    <tr>\n",
              "      <th>max</th>\n",
              "      <td>9.200000</td>\n",
              "      <td>95.000000</td>\n",
              "    </tr>\n",
              "  </tbody>\n",
              "</table>\n",
              "</div>"
            ],
            "text/plain": [
              "           Hours     Scores\n",
              "count  25.000000  25.000000\n",
              "mean    5.012000  51.480000\n",
              "std     2.525094  25.286887\n",
              "min     1.100000  17.000000\n",
              "25%     2.700000  30.000000\n",
              "50%     4.800000  47.000000\n",
              "75%     7.400000  75.000000\n",
              "max     9.200000  95.000000"
            ]
          },
          "metadata": {},
          "execution_count": 46
        }
      ]
    },
    {
      "cell_type": "markdown",
      "metadata": {
        "id": "bqGL_TYRpZji"
      },
      "source": [
        "Let's have a look at the data itself. You can either use `matplotlib.pyplot` or `plotly` for visualization. The latter one produces responsive visualizations. Try hovering over the points on the graph to see the actual values."
      ]
    },
    {
      "cell_type": "code",
      "metadata": {
        "colab": {
          "base_uri": "https://localhost:8080/",
          "height": 517
        },
        "id": "HM6jHJyMqkfF",
        "outputId": "cd7238e8-ed96-450c-bdcd-5bdfe23e5f61"
      },
      "source": [
        "fig = px.scatter(x = data['Hours'], y=data['Scores'])\n",
        "fig.update_layout(title = 'Obtained Score Percentage vs Hours-Studied', title_x=0.5, \n",
        "                  xaxis_title= \"Number of Hours Studied\", yaxis_title=\"Obtained Percentage Score\", \n",
        "                  height = 500, width = 700)\n",
        "fig.update_xaxes(showline=True, linewidth=2, linecolor='black', mirror=True)\n",
        "fig.update_yaxes(showline=True, linewidth=2, linecolor='black', mirror=True)\n",
        "fig.show()"
      ],
      "execution_count": null,
      "outputs": [
        {
          "output_type": "display_data",
          "data": {
            "text/html": [
              "<html>\n",
              "<head><meta charset=\"utf-8\" /></head>\n",
              "<body>\n",
              "    <div>\n",
              "            <script src=\"https://cdnjs.cloudflare.com/ajax/libs/mathjax/2.7.5/MathJax.js?config=TeX-AMS-MML_SVG\"></script><script type=\"text/javascript\">if (window.MathJax) {MathJax.Hub.Config({SVG: {font: \"STIX-Web\"}});}</script>\n",
              "                <script type=\"text/javascript\">window.PlotlyConfig = {MathJaxConfig: 'local'};</script>\n",
              "        <script src=\"https://cdn.plot.ly/plotly-latest.min.js\"></script>    \n",
              "            <div id=\"712106f3-79ed-41c6-93e3-8dbfdeec9a3b\" class=\"plotly-graph-div\" style=\"height:500px; width:700px;\"></div>\n",
              "            <script type=\"text/javascript\">\n",
              "                \n",
              "                    window.PLOTLYENV=window.PLOTLYENV || {};\n",
              "                    \n",
              "                if (document.getElementById(\"712106f3-79ed-41c6-93e3-8dbfdeec9a3b\")) {\n",
              "                    Plotly.newPlot(\n",
              "                        '712106f3-79ed-41c6-93e3-8dbfdeec9a3b',\n",
              "                        [{\"hoverlabel\": {\"namelength\": 0}, \"hovertemplate\": \"x=%{x}<br>y=%{y}\", \"legendgroup\": \"\", \"marker\": {\"color\": \"#636efa\", \"symbol\": \"circle\"}, \"mode\": \"markers\", \"name\": \"\", \"showlegend\": false, \"type\": \"scatter\", \"x\": [2.5, 5.1, 3.2, 8.5, 3.5, 1.5, 9.2, 5.5, 8.3, 2.7, 7.7, 5.9, 4.5, 3.3, 1.1, 8.9, 2.5, 1.9, 6.1, 7.4, 2.7, 4.8, 3.8, 6.9, 7.8], \"xaxis\": \"x\", \"y\": [21, 47, 27, 75, 30, 20, 88, 60, 81, 25, 85, 62, 41, 42, 17, 95, 30, 24, 67, 69, 30, 54, 35, 76, 86], \"yaxis\": \"y\"}],\n",
              "                        {\"height\": 500, \"legend\": {\"tracegroupgap\": 0}, \"margin\": {\"t\": 60}, \"template\": {\"data\": {\"bar\": [{\"error_x\": {\"color\": \"#2a3f5f\"}, \"error_y\": {\"color\": \"#2a3f5f\"}, \"marker\": {\"line\": {\"color\": \"#E5ECF6\", \"width\": 0.5}}, \"type\": \"bar\"}], \"barpolar\": [{\"marker\": {\"line\": {\"color\": \"#E5ECF6\", \"width\": 0.5}}, \"type\": \"barpolar\"}], \"carpet\": [{\"aaxis\": {\"endlinecolor\": \"#2a3f5f\", \"gridcolor\": \"white\", \"linecolor\": \"white\", \"minorgridcolor\": \"white\", \"startlinecolor\": \"#2a3f5f\"}, \"baxis\": {\"endlinecolor\": \"#2a3f5f\", \"gridcolor\": \"white\", \"linecolor\": \"white\", \"minorgridcolor\": \"white\", \"startlinecolor\": \"#2a3f5f\"}, \"type\": \"carpet\"}], \"choropleth\": [{\"colorbar\": {\"outlinewidth\": 0, \"ticks\": \"\"}, \"type\": \"choropleth\"}], \"contour\": [{\"colorbar\": {\"outlinewidth\": 0, \"ticks\": \"\"}, \"colorscale\": [[0.0, \"#0d0887\"], [0.1111111111111111, \"#46039f\"], [0.2222222222222222, \"#7201a8\"], [0.3333333333333333, \"#9c179e\"], [0.4444444444444444, \"#bd3786\"], [0.5555555555555556, \"#d8576b\"], [0.6666666666666666, \"#ed7953\"], [0.7777777777777778, \"#fb9f3a\"], [0.8888888888888888, \"#fdca26\"], [1.0, \"#f0f921\"]], \"type\": \"contour\"}], \"contourcarpet\": [{\"colorbar\": {\"outlinewidth\": 0, \"ticks\": \"\"}, \"type\": \"contourcarpet\"}], \"heatmap\": [{\"colorbar\": {\"outlinewidth\": 0, \"ticks\": \"\"}, \"colorscale\": [[0.0, \"#0d0887\"], [0.1111111111111111, \"#46039f\"], [0.2222222222222222, \"#7201a8\"], [0.3333333333333333, \"#9c179e\"], [0.4444444444444444, \"#bd3786\"], [0.5555555555555556, \"#d8576b\"], [0.6666666666666666, \"#ed7953\"], [0.7777777777777778, \"#fb9f3a\"], [0.8888888888888888, \"#fdca26\"], [1.0, \"#f0f921\"]], \"type\": \"heatmap\"}], \"heatmapgl\": [{\"colorbar\": {\"outlinewidth\": 0, \"ticks\": \"\"}, \"colorscale\": [[0.0, \"#0d0887\"], [0.1111111111111111, \"#46039f\"], [0.2222222222222222, \"#7201a8\"], [0.3333333333333333, \"#9c179e\"], [0.4444444444444444, \"#bd3786\"], [0.5555555555555556, \"#d8576b\"], [0.6666666666666666, \"#ed7953\"], [0.7777777777777778, \"#fb9f3a\"], [0.8888888888888888, \"#fdca26\"], [1.0, \"#f0f921\"]], \"type\": \"heatmapgl\"}], \"histogram\": [{\"marker\": {\"colorbar\": {\"outlinewidth\": 0, \"ticks\": \"\"}}, \"type\": \"histogram\"}], \"histogram2d\": [{\"colorbar\": {\"outlinewidth\": 0, \"ticks\": \"\"}, \"colorscale\": [[0.0, \"#0d0887\"], [0.1111111111111111, \"#46039f\"], [0.2222222222222222, \"#7201a8\"], [0.3333333333333333, \"#9c179e\"], [0.4444444444444444, \"#bd3786\"], [0.5555555555555556, \"#d8576b\"], [0.6666666666666666, \"#ed7953\"], [0.7777777777777778, \"#fb9f3a\"], [0.8888888888888888, \"#fdca26\"], [1.0, \"#f0f921\"]], \"type\": \"histogram2d\"}], \"histogram2dcontour\": [{\"colorbar\": {\"outlinewidth\": 0, \"ticks\": \"\"}, \"colorscale\": [[0.0, \"#0d0887\"], [0.1111111111111111, \"#46039f\"], [0.2222222222222222, \"#7201a8\"], [0.3333333333333333, \"#9c179e\"], [0.4444444444444444, \"#bd3786\"], [0.5555555555555556, \"#d8576b\"], [0.6666666666666666, \"#ed7953\"], [0.7777777777777778, \"#fb9f3a\"], [0.8888888888888888, \"#fdca26\"], [1.0, \"#f0f921\"]], \"type\": \"histogram2dcontour\"}], \"mesh3d\": [{\"colorbar\": {\"outlinewidth\": 0, \"ticks\": \"\"}, \"type\": \"mesh3d\"}], \"parcoords\": [{\"line\": {\"colorbar\": {\"outlinewidth\": 0, \"ticks\": \"\"}}, \"type\": \"parcoords\"}], \"pie\": [{\"automargin\": true, \"type\": \"pie\"}], \"scatter\": [{\"marker\": {\"colorbar\": {\"outlinewidth\": 0, \"ticks\": \"\"}}, \"type\": \"scatter\"}], \"scatter3d\": [{\"line\": {\"colorbar\": {\"outlinewidth\": 0, \"ticks\": \"\"}}, \"marker\": {\"colorbar\": {\"outlinewidth\": 0, \"ticks\": \"\"}}, \"type\": \"scatter3d\"}], \"scattercarpet\": [{\"marker\": {\"colorbar\": {\"outlinewidth\": 0, \"ticks\": \"\"}}, \"type\": \"scattercarpet\"}], \"scattergeo\": [{\"marker\": {\"colorbar\": {\"outlinewidth\": 0, \"ticks\": \"\"}}, \"type\": \"scattergeo\"}], \"scattergl\": [{\"marker\": {\"colorbar\": {\"outlinewidth\": 0, \"ticks\": \"\"}}, \"type\": \"scattergl\"}], \"scattermapbox\": [{\"marker\": {\"colorbar\": {\"outlinewidth\": 0, \"ticks\": \"\"}}, \"type\": \"scattermapbox\"}], \"scatterpolar\": [{\"marker\": {\"colorbar\": {\"outlinewidth\": 0, \"ticks\": \"\"}}, \"type\": \"scatterpolar\"}], \"scatterpolargl\": [{\"marker\": {\"colorbar\": {\"outlinewidth\": 0, \"ticks\": \"\"}}, \"type\": \"scatterpolargl\"}], \"scatterternary\": [{\"marker\": {\"colorbar\": {\"outlinewidth\": 0, \"ticks\": \"\"}}, \"type\": \"scatterternary\"}], \"surface\": [{\"colorbar\": {\"outlinewidth\": 0, \"ticks\": \"\"}, \"colorscale\": [[0.0, \"#0d0887\"], [0.1111111111111111, \"#46039f\"], [0.2222222222222222, \"#7201a8\"], [0.3333333333333333, \"#9c179e\"], [0.4444444444444444, \"#bd3786\"], [0.5555555555555556, \"#d8576b\"], [0.6666666666666666, \"#ed7953\"], [0.7777777777777778, \"#fb9f3a\"], [0.8888888888888888, \"#fdca26\"], [1.0, \"#f0f921\"]], \"type\": \"surface\"}], \"table\": [{\"cells\": {\"fill\": {\"color\": \"#EBF0F8\"}, \"line\": {\"color\": \"white\"}}, \"header\": {\"fill\": {\"color\": \"#C8D4E3\"}, \"line\": {\"color\": \"white\"}}, \"type\": \"table\"}]}, \"layout\": {\"annotationdefaults\": {\"arrowcolor\": \"#2a3f5f\", \"arrowhead\": 0, \"arrowwidth\": 1}, \"coloraxis\": {\"colorbar\": {\"outlinewidth\": 0, \"ticks\": \"\"}}, \"colorscale\": {\"diverging\": [[0, \"#8e0152\"], [0.1, \"#c51b7d\"], [0.2, \"#de77ae\"], [0.3, \"#f1b6da\"], [0.4, \"#fde0ef\"], [0.5, \"#f7f7f7\"], [0.6, \"#e6f5d0\"], [0.7, \"#b8e186\"], [0.8, \"#7fbc41\"], [0.9, \"#4d9221\"], [1, \"#276419\"]], \"sequential\": [[0.0, \"#0d0887\"], [0.1111111111111111, \"#46039f\"], [0.2222222222222222, \"#7201a8\"], [0.3333333333333333, \"#9c179e\"], [0.4444444444444444, \"#bd3786\"], [0.5555555555555556, \"#d8576b\"], [0.6666666666666666, \"#ed7953\"], [0.7777777777777778, \"#fb9f3a\"], [0.8888888888888888, \"#fdca26\"], [1.0, \"#f0f921\"]], \"sequentialminus\": [[0.0, \"#0d0887\"], [0.1111111111111111, \"#46039f\"], [0.2222222222222222, \"#7201a8\"], [0.3333333333333333, \"#9c179e\"], [0.4444444444444444, \"#bd3786\"], [0.5555555555555556, \"#d8576b\"], [0.6666666666666666, \"#ed7953\"], [0.7777777777777778, \"#fb9f3a\"], [0.8888888888888888, \"#fdca26\"], [1.0, \"#f0f921\"]]}, \"colorway\": [\"#636efa\", \"#EF553B\", \"#00cc96\", \"#ab63fa\", \"#FFA15A\", \"#19d3f3\", \"#FF6692\", \"#B6E880\", \"#FF97FF\", \"#FECB52\"], \"font\": {\"color\": \"#2a3f5f\"}, \"geo\": {\"bgcolor\": \"white\", \"lakecolor\": \"white\", \"landcolor\": \"#E5ECF6\", \"showlakes\": true, \"showland\": true, \"subunitcolor\": \"white\"}, \"hoverlabel\": {\"align\": \"left\"}, \"hovermode\": \"closest\", \"mapbox\": {\"style\": \"light\"}, \"paper_bgcolor\": \"white\", \"plot_bgcolor\": \"#E5ECF6\", \"polar\": {\"angularaxis\": {\"gridcolor\": \"white\", \"linecolor\": \"white\", \"ticks\": \"\"}, \"bgcolor\": \"#E5ECF6\", \"radialaxis\": {\"gridcolor\": \"white\", \"linecolor\": \"white\", \"ticks\": \"\"}}, \"scene\": {\"xaxis\": {\"backgroundcolor\": \"#E5ECF6\", \"gridcolor\": \"white\", \"gridwidth\": 2, \"linecolor\": \"white\", \"showbackground\": true, \"ticks\": \"\", \"zerolinecolor\": \"white\"}, \"yaxis\": {\"backgroundcolor\": \"#E5ECF6\", \"gridcolor\": \"white\", \"gridwidth\": 2, \"linecolor\": \"white\", \"showbackground\": true, \"ticks\": \"\", \"zerolinecolor\": \"white\"}, \"zaxis\": {\"backgroundcolor\": \"#E5ECF6\", \"gridcolor\": \"white\", \"gridwidth\": 2, \"linecolor\": \"white\", \"showbackground\": true, \"ticks\": \"\", \"zerolinecolor\": \"white\"}}, \"shapedefaults\": {\"line\": {\"color\": \"#2a3f5f\"}}, \"ternary\": {\"aaxis\": {\"gridcolor\": \"white\", \"linecolor\": \"white\", \"ticks\": \"\"}, \"baxis\": {\"gridcolor\": \"white\", \"linecolor\": \"white\", \"ticks\": \"\"}, \"bgcolor\": \"#E5ECF6\", \"caxis\": {\"gridcolor\": \"white\", \"linecolor\": \"white\", \"ticks\": \"\"}}, \"title\": {\"x\": 0.05}, \"xaxis\": {\"automargin\": true, \"gridcolor\": \"white\", \"linecolor\": \"white\", \"ticks\": \"\", \"title\": {\"standoff\": 15}, \"zerolinecolor\": \"white\", \"zerolinewidth\": 2}, \"yaxis\": {\"automargin\": true, \"gridcolor\": \"white\", \"linecolor\": \"white\", \"ticks\": \"\", \"title\": {\"standoff\": 15}, \"zerolinecolor\": \"white\", \"zerolinewidth\": 2}}}, \"title\": {\"text\": \"Obtained Score Percentage vs Hours-Studied\", \"x\": 0.5}, \"width\": 700, \"xaxis\": {\"anchor\": \"y\", \"domain\": [0.0, 1.0], \"linecolor\": \"black\", \"linewidth\": 2, \"mirror\": true, \"showline\": true, \"title\": {\"text\": \"Number of Hours Studied\"}}, \"yaxis\": {\"anchor\": \"x\", \"domain\": [0.0, 1.0], \"linecolor\": \"black\", \"linewidth\": 2, \"mirror\": true, \"showline\": true, \"title\": {\"text\": \"Obtained Percentage Score\"}}},\n",
              "                        {\"responsive\": true}\n",
              "                    ).then(function(){\n",
              "                            \n",
              "var gd = document.getElementById('712106f3-79ed-41c6-93e3-8dbfdeec9a3b');\n",
              "var x = new MutationObserver(function (mutations, observer) {{\n",
              "        var display = window.getComputedStyle(gd).display;\n",
              "        if (!display || display === 'none') {{\n",
              "            console.log([gd, 'removed!']);\n",
              "            Plotly.purge(gd);\n",
              "            observer.disconnect();\n",
              "        }}\n",
              "}});\n",
              "\n",
              "// Listen for the removal of the full notebook cells\n",
              "var notebookContainer = gd.closest('#notebook-container');\n",
              "if (notebookContainer) {{\n",
              "    x.observe(notebookContainer, {childList: true});\n",
              "}}\n",
              "\n",
              "// Listen for the clearing of the current output cell\n",
              "var outputEl = gd.closest('.output');\n",
              "if (outputEl) {{\n",
              "    x.observe(outputEl, {childList: true});\n",
              "}}\n",
              "\n",
              "                        })\n",
              "                };\n",
              "                \n",
              "            </script>\n",
              "        </div>\n",
              "</body>\n",
              "</html>"
            ]
          },
          "metadata": {}
        }
      ]
    },
    {
      "cell_type": "markdown",
      "metadata": {
        "id": "uTzrjAOTsTp8"
      },
      "source": [
        "**This tutorial is broken down into five parts:<br>**\n",
        "&#9832; Calculate Mean and Variance.<br>\n",
        "&#9832; Calculate Covariance (X,Y).<br>\n",
        "&#9832; Estimate Coefficients.<br>\n",
        "&#9832; Make Predictions.<br>\n",
        "&#9832; Visual Comparison for Correctness.<br>\n",
        "These steps will give you the foundation you need to implement and train simple linear regression models for your own prediction problems."
      ]
    },
    {
      "cell_type": "markdown",
      "metadata": {
        "id": "c8qZiFevsiYP"
      },
      "source": [
        "### 1. Calculate Mean and Variance.\n",
        "As said earlier, simple linear regression uses mean and variance of the given data. We will use `numpy` builtin functions to calculate them. "
      ]
    },
    {
      "cell_type": "code",
      "metadata": {
        "colab": {
          "base_uri": "https://localhost:8080/"
        },
        "id": "AtFJzgnqsaSg",
        "outputId": "dc2d0c46-3e9a-4a35-ffa2-2b264ae4e202"
      },
      "source": [
        "print(data[\"Hours\"])\n",
        "print(data[\"Scores\"])"
      ],
      "execution_count": null,
      "outputs": [
        {
          "output_type": "stream",
          "name": "stdout",
          "text": [
            "0     2.5\n",
            "1     5.1\n",
            "2     3.2\n",
            "3     8.5\n",
            "4     3.5\n",
            "5     1.5\n",
            "6     9.2\n",
            "7     5.5\n",
            "8     8.3\n",
            "9     2.7\n",
            "10    7.7\n",
            "11    5.9\n",
            "12    4.5\n",
            "13    3.3\n",
            "14    1.1\n",
            "15    8.9\n",
            "16    2.5\n",
            "17    1.9\n",
            "18    6.1\n",
            "19    7.4\n",
            "20    2.7\n",
            "21    4.8\n",
            "22    3.8\n",
            "23    6.9\n",
            "24    7.8\n",
            "Name: Hours, dtype: float64\n",
            "0     21\n",
            "1     47\n",
            "2     27\n",
            "3     75\n",
            "4     30\n",
            "5     20\n",
            "6     88\n",
            "7     60\n",
            "8     81\n",
            "9     25\n",
            "10    85\n",
            "11    62\n",
            "12    41\n",
            "13    42\n",
            "14    17\n",
            "15    95\n",
            "16    30\n",
            "17    24\n",
            "18    67\n",
            "19    69\n",
            "20    30\n",
            "21    54\n",
            "22    35\n",
            "23    76\n",
            "24    86\n",
            "Name: Scores, dtype: int64\n"
          ]
        }
      ]
    },
    {
      "cell_type": "code",
      "metadata": {
        "colab": {
          "base_uri": "https://localhost:8080/"
        },
        "id": "PpMqVZKUsuM4",
        "outputId": "9b7c4d48-beb0-4efd-c6b6-2e115ecce9d3"
      },
      "source": [
        "mean_x = np.mean(data[\"Hours\"])\n",
        "mean_y = np.mean(data[\"Scores\"])\n",
        "\n",
        "var_x = np.var(data[\"Hours\"])\n",
        "var_y = np.var(data[\"Scores\"])\n",
        "\n",
        "print('x stats: mean= %.3f   variance= %.3f' % (mean_x, var_x))\n",
        "print('y stats: mean= %.3f   variance= %.3f' % (mean_y, var_y))"
      ],
      "execution_count": null,
      "outputs": [
        {
          "output_type": "stream",
          "name": "stdout",
          "text": [
            "x stats: mean= 5.012   variance= 6.121\n",
            "y stats: mean= 51.480   variance= 613.850\n"
          ]
        }
      ]
    },
    {
      "cell_type": "markdown",
      "metadata": {
        "id": "-3-VKYKCtHxt"
      },
      "source": [
        "### 2. Calculate Covariance.\n",
        "The covariance of two groups of numbers describes how those numbers change together. Covariance is a generalization of correlation. Correlation describes the relationship between two groups of numbers, whereas covariance can describe the relationship between two or more groups of numbers. It is calculated by the following formula. \n",
        "$$ Cov(X,Y) = \\frac{\\sum{(X_i - \\overline{X})}{(Y_j - \\overline{Y})}}{n-1} $$\n",
        "\n",
        "You can simply implement it by yourself or use builtin function `numpy.cov()`"
      ]
    },
    {
      "cell_type": "code",
      "metadata": {
        "colab": {
          "base_uri": "https://localhost:8080/"
        },
        "id": "Y0rEab14tPic",
        "outputId": "f21fcdfe-983f-420b-e5e3-eed16679aed0"
      },
      "source": [
        "# Calculate covariance between x and y\n",
        "def covariance(x, y):\n",
        "    mean_x = np.mean(x)\n",
        "    mean_y = np.mean(y)\n",
        "    covar = 0.0\n",
        "    for i in range(len(x)):\n",
        "        covar += (x[i] - mean_x) * (y[i] - mean_y)\n",
        "    return covar/(len(x)-1)\n",
        "\n",
        "cov_xy = covariance(data['Hours'], data['Scores'])\n",
        "\n",
        "print(f'Cov(X,Y): {cov_xy}')\n",
        "print(f'Covariance Using Built-In Function: {np.cov(data[\"Hours\"], data[\"Scores\"])}')"
      ],
      "execution_count": null,
      "outputs": [
        {
          "output_type": "stream",
          "name": "stdout",
          "text": [
            "Cov(X,Y): 62.33150000000001\n",
            "Covariance Using Built-In Function: [[  6.3761      62.3315    ]\n",
            " [ 62.3315     639.42666667]]\n"
          ]
        }
      ]
    },
    {
      "cell_type": "markdown",
      "metadata": {
        "id": "k83tAOYnv59r"
      },
      "source": [
        "### 3. Estimate Coefficients\n",
        "We must estimate the values for two coefficients (<font color='skyblue'>b0 & b1</font>) in simple linear regression."
      ]
    },
    {
      "cell_type": "code",
      "metadata": {
        "colab": {
          "base_uri": "https://localhost:8080/"
        },
        "id": "mRNY-EOgv7Lq",
        "outputId": "78ac8d3d-9317-41fe-f3f6-e9fecc211f55"
      },
      "source": [
        "b1 = cov_xy / var_x\n",
        "b0 = mean_y - b1 * mean_x\n",
        "\n",
        "print(f'Coefficents:\\n b0: {b0}  b1: {b1} ')"
      ],
      "execution_count": null,
      "outputs": [
        {
          "output_type": "stream",
          "name": "stdout",
          "text": [
            "Coefficents:\n",
            " b0: 0.44215979726372723  b1: 10.183128532070286 \n"
          ]
        }
      ]
    },
    {
      "cell_type": "markdown",
      "metadata": {
        "id": "hqhYPJ21wtgd"
      },
      "source": [
        "### 4. Make Predictions\n",
        "The simple linear regression model is a line defined by coefficients estimated from training data. Once the coefficients are estimated, we can use them to make predictions. The equation to make predictions with a simple linear regression model is as follows:\n",
        "$$ \\hat{y} = b_0 + b_1 * x $$"
      ]
    },
    {
      "cell_type": "code",
      "metadata": {
        "colab": {
          "base_uri": "https://localhost:8080/"
        },
        "id": "3jGUL1ROwxYq",
        "outputId": "49119d16-401e-4d81-d2ce-aa1a20b14a7c"
      },
      "source": [
        "# Taking the values from the dataframe\n",
        "x = data['Hours'].values.copy()\n",
        "\n",
        "print(f'x: {x}')\n",
        "\n",
        "# Predicting the new data based on calculated coeffiecents. \n",
        "y_pred = b0 + b1 * x\n",
        "print(f'\\n\\ny_pred: {y_pred}')\n",
        "\n",
        "y = data['Scores'].values.copy()\n",
        "print(f'\\n\\ny: {y}')"
      ],
      "execution_count": null,
      "outputs": [
        {
          "output_type": "stream",
          "name": "stdout",
          "text": [
            "x: [2.5 5.1 3.2 8.5 3.5 1.5 9.2 5.5 8.3 2.7 7.7 5.9 4.5 3.3 1.1 8.9 2.5 1.9\n",
            " 6.1 7.4 2.7 4.8 3.8 6.9 7.8]\n",
            "\n",
            "\n",
            "y_pred: [25.89998113 52.37611531 33.0281711  86.99875232 36.08310966 15.7168526\n",
            " 94.12694229 56.44936672 84.96212661 27.93660683 78.85224949 60.52261814\n",
            " 46.26623819 34.04648395 11.64360118 91.07200373 25.89998113 19.79010401\n",
            " 62.55924384 75.79731093 27.93660683 49.32117675 39.13804822 70.70574667\n",
            " 79.87056235]\n",
            "\n",
            "\n",
            "y: [21 47 27 75 30 20 88 60 81 25 85 62 41 42 17 95 30 24 67 69 30 54 35 76\n",
            " 86]\n"
          ]
        }
      ]
    },
    {
      "cell_type": "markdown",
      "metadata": {
        "id": "i3jpOlnnxmFn"
      },
      "source": [
        "### 5. Visual Comparison for Correctness \n"
      ]
    },
    {
      "cell_type": "code",
      "metadata": {
        "colab": {
          "base_uri": "https://localhost:8080/",
          "height": 542
        },
        "id": "2dh67Dwaxnil",
        "outputId": "64bebc73-ee85-4670-adfb-18a49a5046ff"
      },
      "source": [
        "fig = go.Figure()\n",
        "\n",
        "fig.add_trace(go.Scatter(x=data[\"Hours\"], y=data[\"Scores\"], name='train', mode='markers', marker_color='rgba(152, 0, 0, .8)'))\n",
        "fig.add_trace(go.Scatter(x=data[\"Hours\"], y=y_pred, name='prediction', mode='lines+markers', marker_color='rgba(0, 152, 0, .8)'))\n",
        "\n",
        "fig.update_layout(title = f'Obtained Score Percentage vs Hours-Studied\\n (visual comparison for correctness)',title_x=0.5, xaxis_title= \"Number of Hours Studied\", yaxis_title=\"Obtained Percentage Score\")\n",
        "fig.update_xaxes(showline=True, linewidth=2, linecolor='black', mirror=True)\n",
        "fig.update_yaxes(showline=True, linewidth=2, linecolor='black', mirror=True)\n",
        "fig.show()"
      ],
      "execution_count": null,
      "outputs": [
        {
          "output_type": "display_data",
          "data": {
            "text/html": [
              "<html>\n",
              "<head><meta charset=\"utf-8\" /></head>\n",
              "<body>\n",
              "    <div>\n",
              "            <script src=\"https://cdnjs.cloudflare.com/ajax/libs/mathjax/2.7.5/MathJax.js?config=TeX-AMS-MML_SVG\"></script><script type=\"text/javascript\">if (window.MathJax) {MathJax.Hub.Config({SVG: {font: \"STIX-Web\"}});}</script>\n",
              "                <script type=\"text/javascript\">window.PlotlyConfig = {MathJaxConfig: 'local'};</script>\n",
              "        <script src=\"https://cdn.plot.ly/plotly-latest.min.js\"></script>    \n",
              "            <div id=\"947b0c47-3cdf-430a-b138-a31ebb88d8b5\" class=\"plotly-graph-div\" style=\"height:525px; width:100%;\"></div>\n",
              "            <script type=\"text/javascript\">\n",
              "                \n",
              "                    window.PLOTLYENV=window.PLOTLYENV || {};\n",
              "                    \n",
              "                if (document.getElementById(\"947b0c47-3cdf-430a-b138-a31ebb88d8b5\")) {\n",
              "                    Plotly.newPlot(\n",
              "                        '947b0c47-3cdf-430a-b138-a31ebb88d8b5',\n",
              "                        [{\"marker\": {\"color\": \"rgba(152, 0, 0, .8)\"}, \"mode\": \"markers\", \"name\": \"train\", \"type\": \"scatter\", \"x\": [2.5, 5.1, 3.2, 8.5, 3.5, 1.5, 9.2, 5.5, 8.3, 2.7, 7.7, 5.9, 4.5, 3.3, 1.1, 8.9, 2.5, 1.9, 6.1, 7.4, 2.7, 4.8, 3.8, 6.9, 7.8], \"y\": [21, 47, 27, 75, 30, 20, 88, 60, 81, 25, 85, 62, 41, 42, 17, 95, 30, 24, 67, 69, 30, 54, 35, 76, 86]}, {\"marker\": {\"color\": \"rgba(0, 152, 0, .8)\"}, \"mode\": \"lines+markers\", \"name\": \"prediction\", \"type\": \"scatter\", \"x\": [2.5, 5.1, 3.2, 8.5, 3.5, 1.5, 9.2, 5.5, 8.3, 2.7, 7.7, 5.9, 4.5, 3.3, 1.1, 8.9, 2.5, 1.9, 6.1, 7.4, 2.7, 4.8, 3.8, 6.9, 7.8], \"y\": [25.899981127439442, 52.376115310822186, 33.028171099888645, 86.99875231986117, 36.08310965950973, 15.716852595369158, 94.12694229231036, 56.4493667236503, 84.96212661344711, 27.936606833853503, 78.85224949420494, 60.52261813647842, 46.266238191580015, 34.046483953095674, 11.643601182541044, 91.07200373268928, 25.899981127439442, 19.79010400819727, 62.55924384289247, 75.79731093458385, 27.936606833853503, 49.3211767512011, 39.138048219130816, 70.70574666854871, 79.87056234741196]}],\n",
              "                        {\"template\": {\"data\": {\"bar\": [{\"error_x\": {\"color\": \"#2a3f5f\"}, \"error_y\": {\"color\": \"#2a3f5f\"}, \"marker\": {\"line\": {\"color\": \"#E5ECF6\", \"width\": 0.5}}, \"type\": \"bar\"}], \"barpolar\": [{\"marker\": {\"line\": {\"color\": \"#E5ECF6\", \"width\": 0.5}}, \"type\": \"barpolar\"}], \"carpet\": [{\"aaxis\": {\"endlinecolor\": \"#2a3f5f\", \"gridcolor\": \"white\", \"linecolor\": \"white\", \"minorgridcolor\": \"white\", \"startlinecolor\": \"#2a3f5f\"}, \"baxis\": {\"endlinecolor\": \"#2a3f5f\", \"gridcolor\": \"white\", \"linecolor\": \"white\", \"minorgridcolor\": \"white\", \"startlinecolor\": \"#2a3f5f\"}, \"type\": \"carpet\"}], \"choropleth\": [{\"colorbar\": {\"outlinewidth\": 0, \"ticks\": \"\"}, \"type\": \"choropleth\"}], \"contour\": [{\"colorbar\": {\"outlinewidth\": 0, \"ticks\": \"\"}, \"colorscale\": [[0.0, \"#0d0887\"], [0.1111111111111111, \"#46039f\"], [0.2222222222222222, \"#7201a8\"], [0.3333333333333333, \"#9c179e\"], [0.4444444444444444, \"#bd3786\"], [0.5555555555555556, \"#d8576b\"], [0.6666666666666666, \"#ed7953\"], [0.7777777777777778, \"#fb9f3a\"], [0.8888888888888888, \"#fdca26\"], [1.0, \"#f0f921\"]], \"type\": \"contour\"}], \"contourcarpet\": [{\"colorbar\": {\"outlinewidth\": 0, \"ticks\": \"\"}, \"type\": \"contourcarpet\"}], \"heatmap\": [{\"colorbar\": {\"outlinewidth\": 0, \"ticks\": \"\"}, \"colorscale\": [[0.0, \"#0d0887\"], [0.1111111111111111, \"#46039f\"], [0.2222222222222222, \"#7201a8\"], [0.3333333333333333, \"#9c179e\"], [0.4444444444444444, \"#bd3786\"], [0.5555555555555556, \"#d8576b\"], [0.6666666666666666, \"#ed7953\"], [0.7777777777777778, \"#fb9f3a\"], [0.8888888888888888, \"#fdca26\"], [1.0, \"#f0f921\"]], \"type\": \"heatmap\"}], \"heatmapgl\": [{\"colorbar\": {\"outlinewidth\": 0, \"ticks\": \"\"}, \"colorscale\": [[0.0, \"#0d0887\"], [0.1111111111111111, \"#46039f\"], [0.2222222222222222, \"#7201a8\"], [0.3333333333333333, \"#9c179e\"], [0.4444444444444444, \"#bd3786\"], [0.5555555555555556, \"#d8576b\"], [0.6666666666666666, \"#ed7953\"], [0.7777777777777778, \"#fb9f3a\"], [0.8888888888888888, \"#fdca26\"], [1.0, \"#f0f921\"]], \"type\": \"heatmapgl\"}], \"histogram\": [{\"marker\": {\"colorbar\": {\"outlinewidth\": 0, \"ticks\": \"\"}}, \"type\": \"histogram\"}], \"histogram2d\": [{\"colorbar\": {\"outlinewidth\": 0, \"ticks\": \"\"}, \"colorscale\": [[0.0, \"#0d0887\"], [0.1111111111111111, \"#46039f\"], [0.2222222222222222, \"#7201a8\"], [0.3333333333333333, \"#9c179e\"], [0.4444444444444444, \"#bd3786\"], [0.5555555555555556, \"#d8576b\"], [0.6666666666666666, \"#ed7953\"], [0.7777777777777778, \"#fb9f3a\"], [0.8888888888888888, \"#fdca26\"], [1.0, \"#f0f921\"]], \"type\": \"histogram2d\"}], \"histogram2dcontour\": [{\"colorbar\": {\"outlinewidth\": 0, \"ticks\": \"\"}, \"colorscale\": [[0.0, \"#0d0887\"], [0.1111111111111111, \"#46039f\"], [0.2222222222222222, \"#7201a8\"], [0.3333333333333333, \"#9c179e\"], [0.4444444444444444, \"#bd3786\"], [0.5555555555555556, \"#d8576b\"], [0.6666666666666666, \"#ed7953\"], [0.7777777777777778, \"#fb9f3a\"], [0.8888888888888888, \"#fdca26\"], [1.0, \"#f0f921\"]], \"type\": \"histogram2dcontour\"}], \"mesh3d\": [{\"colorbar\": {\"outlinewidth\": 0, \"ticks\": \"\"}, \"type\": \"mesh3d\"}], \"parcoords\": [{\"line\": {\"colorbar\": {\"outlinewidth\": 0, \"ticks\": \"\"}}, \"type\": \"parcoords\"}], \"pie\": [{\"automargin\": true, \"type\": \"pie\"}], \"scatter\": [{\"marker\": {\"colorbar\": {\"outlinewidth\": 0, \"ticks\": \"\"}}, \"type\": \"scatter\"}], \"scatter3d\": [{\"line\": {\"colorbar\": {\"outlinewidth\": 0, \"ticks\": \"\"}}, \"marker\": {\"colorbar\": {\"outlinewidth\": 0, \"ticks\": \"\"}}, \"type\": \"scatter3d\"}], \"scattercarpet\": [{\"marker\": {\"colorbar\": {\"outlinewidth\": 0, \"ticks\": \"\"}}, \"type\": \"scattercarpet\"}], \"scattergeo\": [{\"marker\": {\"colorbar\": {\"outlinewidth\": 0, \"ticks\": \"\"}}, \"type\": \"scattergeo\"}], \"scattergl\": [{\"marker\": {\"colorbar\": {\"outlinewidth\": 0, \"ticks\": \"\"}}, \"type\": \"scattergl\"}], \"scattermapbox\": [{\"marker\": {\"colorbar\": {\"outlinewidth\": 0, \"ticks\": \"\"}}, \"type\": \"scattermapbox\"}], \"scatterpolar\": [{\"marker\": {\"colorbar\": {\"outlinewidth\": 0, \"ticks\": \"\"}}, \"type\": \"scatterpolar\"}], \"scatterpolargl\": [{\"marker\": {\"colorbar\": {\"outlinewidth\": 0, \"ticks\": \"\"}}, \"type\": \"scatterpolargl\"}], \"scatterternary\": [{\"marker\": {\"colorbar\": {\"outlinewidth\": 0, \"ticks\": \"\"}}, \"type\": \"scatterternary\"}], \"surface\": [{\"colorbar\": {\"outlinewidth\": 0, \"ticks\": \"\"}, \"colorscale\": [[0.0, \"#0d0887\"], [0.1111111111111111, \"#46039f\"], [0.2222222222222222, \"#7201a8\"], [0.3333333333333333, \"#9c179e\"], [0.4444444444444444, \"#bd3786\"], [0.5555555555555556, \"#d8576b\"], [0.6666666666666666, \"#ed7953\"], [0.7777777777777778, \"#fb9f3a\"], [0.8888888888888888, \"#fdca26\"], [1.0, \"#f0f921\"]], \"type\": \"surface\"}], \"table\": [{\"cells\": {\"fill\": {\"color\": \"#EBF0F8\"}, \"line\": {\"color\": \"white\"}}, \"header\": {\"fill\": {\"color\": \"#C8D4E3\"}, \"line\": {\"color\": \"white\"}}, \"type\": \"table\"}]}, \"layout\": {\"annotationdefaults\": {\"arrowcolor\": \"#2a3f5f\", \"arrowhead\": 0, \"arrowwidth\": 1}, \"coloraxis\": {\"colorbar\": {\"outlinewidth\": 0, \"ticks\": \"\"}}, \"colorscale\": {\"diverging\": [[0, \"#8e0152\"], [0.1, \"#c51b7d\"], [0.2, \"#de77ae\"], [0.3, \"#f1b6da\"], [0.4, \"#fde0ef\"], [0.5, \"#f7f7f7\"], [0.6, \"#e6f5d0\"], [0.7, \"#b8e186\"], [0.8, \"#7fbc41\"], [0.9, \"#4d9221\"], [1, \"#276419\"]], \"sequential\": [[0.0, \"#0d0887\"], [0.1111111111111111, \"#46039f\"], [0.2222222222222222, \"#7201a8\"], [0.3333333333333333, \"#9c179e\"], [0.4444444444444444, \"#bd3786\"], [0.5555555555555556, \"#d8576b\"], [0.6666666666666666, \"#ed7953\"], [0.7777777777777778, \"#fb9f3a\"], [0.8888888888888888, \"#fdca26\"], [1.0, \"#f0f921\"]], \"sequentialminus\": [[0.0, \"#0d0887\"], [0.1111111111111111, \"#46039f\"], [0.2222222222222222, \"#7201a8\"], [0.3333333333333333, \"#9c179e\"], [0.4444444444444444, \"#bd3786\"], [0.5555555555555556, \"#d8576b\"], [0.6666666666666666, \"#ed7953\"], [0.7777777777777778, \"#fb9f3a\"], [0.8888888888888888, \"#fdca26\"], [1.0, \"#f0f921\"]]}, \"colorway\": [\"#636efa\", \"#EF553B\", \"#00cc96\", \"#ab63fa\", \"#FFA15A\", \"#19d3f3\", \"#FF6692\", \"#B6E880\", \"#FF97FF\", \"#FECB52\"], \"font\": {\"color\": \"#2a3f5f\"}, \"geo\": {\"bgcolor\": \"white\", \"lakecolor\": \"white\", \"landcolor\": \"#E5ECF6\", \"showlakes\": true, \"showland\": true, \"subunitcolor\": \"white\"}, \"hoverlabel\": {\"align\": \"left\"}, \"hovermode\": \"closest\", \"mapbox\": {\"style\": \"light\"}, \"paper_bgcolor\": \"white\", \"plot_bgcolor\": \"#E5ECF6\", \"polar\": {\"angularaxis\": {\"gridcolor\": \"white\", \"linecolor\": \"white\", \"ticks\": \"\"}, \"bgcolor\": \"#E5ECF6\", \"radialaxis\": {\"gridcolor\": \"white\", \"linecolor\": \"white\", \"ticks\": \"\"}}, \"scene\": {\"xaxis\": {\"backgroundcolor\": \"#E5ECF6\", \"gridcolor\": \"white\", \"gridwidth\": 2, \"linecolor\": \"white\", \"showbackground\": true, \"ticks\": \"\", \"zerolinecolor\": \"white\"}, \"yaxis\": {\"backgroundcolor\": \"#E5ECF6\", \"gridcolor\": \"white\", \"gridwidth\": 2, \"linecolor\": \"white\", \"showbackground\": true, \"ticks\": \"\", \"zerolinecolor\": \"white\"}, \"zaxis\": {\"backgroundcolor\": \"#E5ECF6\", \"gridcolor\": \"white\", \"gridwidth\": 2, \"linecolor\": \"white\", \"showbackground\": true, \"ticks\": \"\", \"zerolinecolor\": \"white\"}}, \"shapedefaults\": {\"line\": {\"color\": \"#2a3f5f\"}}, \"ternary\": {\"aaxis\": {\"gridcolor\": \"white\", \"linecolor\": \"white\", \"ticks\": \"\"}, \"baxis\": {\"gridcolor\": \"white\", \"linecolor\": \"white\", \"ticks\": \"\"}, \"bgcolor\": \"#E5ECF6\", \"caxis\": {\"gridcolor\": \"white\", \"linecolor\": \"white\", \"ticks\": \"\"}}, \"title\": {\"x\": 0.05}, \"xaxis\": {\"automargin\": true, \"gridcolor\": \"white\", \"linecolor\": \"white\", \"ticks\": \"\", \"title\": {\"standoff\": 15}, \"zerolinecolor\": \"white\", \"zerolinewidth\": 2}, \"yaxis\": {\"automargin\": true, \"gridcolor\": \"white\", \"linecolor\": \"white\", \"ticks\": \"\", \"title\": {\"standoff\": 15}, \"zerolinecolor\": \"white\", \"zerolinewidth\": 2}}}, \"title\": {\"text\": \"Obtained Score Percentage vs Hours-Studied\\n (visual comparison for correctness)\", \"x\": 0.5}, \"xaxis\": {\"linecolor\": \"black\", \"linewidth\": 2, \"mirror\": true, \"showline\": true, \"title\": {\"text\": \"Number of Hours Studied\"}}, \"yaxis\": {\"linecolor\": \"black\", \"linewidth\": 2, \"mirror\": true, \"showline\": true, \"title\": {\"text\": \"Obtained Percentage Score\"}}},\n",
              "                        {\"responsive\": true}\n",
              "                    ).then(function(){\n",
              "                            \n",
              "var gd = document.getElementById('947b0c47-3cdf-430a-b138-a31ebb88d8b5');\n",
              "var x = new MutationObserver(function (mutations, observer) {{\n",
              "        var display = window.getComputedStyle(gd).display;\n",
              "        if (!display || display === 'none') {{\n",
              "            console.log([gd, 'removed!']);\n",
              "            Plotly.purge(gd);\n",
              "            observer.disconnect();\n",
              "        }}\n",
              "}});\n",
              "\n",
              "// Listen for the removal of the full notebook cells\n",
              "var notebookContainer = gd.closest('#notebook-container');\n",
              "if (notebookContainer) {{\n",
              "    x.observe(notebookContainer, {childList: true});\n",
              "}}\n",
              "\n",
              "// Listen for the clearing of the current output cell\n",
              "var outputEl = gd.closest('.output');\n",
              "if (outputEl) {{\n",
              "    x.observe(outputEl, {childList: true});\n",
              "}}\n",
              "\n",
              "                        })\n",
              "                };\n",
              "                \n",
              "            </script>\n",
              "        </div>\n",
              "</body>\n",
              "</html>"
            ]
          },
          "metadata": {}
        }
      ]
    },
    {
      "cell_type": "markdown",
      "metadata": {
        "id": "A5OdT8NrPbH4"
      },
      "source": [
        "**<font color='red'>Wait, this is not the right way to do it!</font>**<br>\n"
      ]
    },
    {
      "cell_type": "markdown",
      "metadata": {
        "id": "pzsqUE7XPuzf"
      },
      "source": [
        "Preparing the data"
      ]
    },
    {
      "cell_type": "code",
      "metadata": {
        "id": "Il-WZeeKPxpE"
      },
      "source": [
        "X = data.iloc[:,0].values\n",
        "Y = data.iloc[:,1].values"
      ],
      "execution_count": null,
      "outputs": []
    },
    {
      "cell_type": "markdown",
      "metadata": {
        "id": "0PRGXgPyQhs4"
      },
      "source": [
        "Splitting Training and Test Set"
      ]
    },
    {
      "cell_type": "code",
      "metadata": {
        "id": "el3IfW-SQk7S"
      },
      "source": [
        "from sklearn.model_selection import train_test_split\n",
        "X_train, X_test, Y_train, Y_test = train_test_split(X, Y, test_size=0.2, shuffle=True)"
      ],
      "execution_count": null,
      "outputs": []
    },
    {
      "cell_type": "markdown",
      "metadata": {
        "id": "HqYEkyWfSIPb"
      },
      "source": [
        "Calculating co-efficients again! But this time only using the training data."
      ]
    },
    {
      "cell_type": "code",
      "metadata": {
        "colab": {
          "base_uri": "https://localhost:8080/",
          "height": 872
        },
        "id": "SJJ_9VuoSQG5",
        "outputId": "37328cdc-d297-4d18-f645-e74113d1e3e4"
      },
      "source": [
        "mean_x = np.mean(X_train)\n",
        "mean_y = np.mean(Y_train)\n",
        "\n",
        "var_x = np.var(X_train)\n",
        "var_y = np.var(Y_train)\n",
        "\n",
        "print('x stats: mean= %.3f   variance= %.3f' % (mean_x, var_x))\n",
        "print('y stats: mean= %.3f   variance= %.3f' % (mean_y, var_y))\n",
        "\n",
        "cov_xy = covariance(X_train, Y_train)\n",
        "b1 = cov_xy / var_x\n",
        "b0 = mean_y - b1 * mean_x\n",
        "\n",
        "print(f'Coefficents:\\n b0: {b0}  b1: {b1} ')\n",
        "\n",
        "print(f'\\n\\ny: {X}')\n",
        "\n",
        "# Predicting the new data based on calculated coeffiecents. \n",
        "y_pred = b0 + b1 * X\n",
        "print(f'\\n\\ny_pred: {y_pred}')\n",
        "\n",
        "print(f'\\n\\ny: {Y}')\n",
        "\n",
        "fig = go.Figure()\n",
        "\n",
        "fig.add_trace(go.Scatter(x=X, y=Y, name='train', mode='markers', marker_color='rgba(152, 0, 0, .8)'))\n",
        "fig.add_trace(go.Scatter(x=X, y=y_pred, name='prediction', mode='lines+markers', marker_color='rgba(0, 152, 0, .8)'))\n",
        "\n",
        "fig.update_layout(title = f'Obtained Score Percentage vs Hours-Studied\\n (visual comparison for correctness after Train-Test Split)',title_x=0.5, xaxis_title= \"Number of Hours Studied\", yaxis_title=\"Obtained Percentage Score\")\n",
        "fig.update_xaxes(showline=True, linewidth=2, linecolor='black', mirror=True)\n",
        "fig.update_yaxes(showline=True, linewidth=2, linecolor='black', mirror=True)\n",
        "fig.show()"
      ],
      "execution_count": null,
      "outputs": [
        {
          "output_type": "stream",
          "name": "stdout",
          "text": [
            "x stats: mean= 5.290   variance= 6.749\n",
            "y stats: mean= 54.250   variance= 688.688\n",
            "Coefficents:\n",
            " b0: -0.6986466020583535  b1: 10.387267788668874 \n",
            "\n",
            "\n",
            "y: [2.5 5.1 3.2 8.5 3.5 1.5 9.2 5.5 8.3 2.7 7.7 5.9 4.5 3.3 1.1 8.9 2.5 1.9\n",
            " 6.1 7.4 2.7 4.8 3.8 6.9 7.8]\n",
            "\n",
            "\n",
            "y_pred: [25.26952287 52.27641912 32.54061032 87.5931296  35.65679066 14.88225508\n",
            " 94.86421705 56.43132624 85.51567604 27.34697643 79.28331537 60.58623335\n",
            " 46.04405845 33.5793371  10.72734797 91.74803672 25.26952287 19.0371622\n",
            " 62.66368691 76.16713503 27.34697643 49.16023878 38.77297099 70.97350114\n",
            " 80.32204215]\n",
            "\n",
            "\n",
            "y: [21 47 27 75 30 20 88 60 81 25 85 62 41 42 17 95 30 24 67 69 30 54 35 76\n",
            " 86]\n"
          ]
        },
        {
          "output_type": "display_data",
          "data": {
            "text/html": [
              "<html>\n",
              "<head><meta charset=\"utf-8\" /></head>\n",
              "<body>\n",
              "    <div>\n",
              "            <script src=\"https://cdnjs.cloudflare.com/ajax/libs/mathjax/2.7.5/MathJax.js?config=TeX-AMS-MML_SVG\"></script><script type=\"text/javascript\">if (window.MathJax) {MathJax.Hub.Config({SVG: {font: \"STIX-Web\"}});}</script>\n",
              "                <script type=\"text/javascript\">window.PlotlyConfig = {MathJaxConfig: 'local'};</script>\n",
              "        <script src=\"https://cdn.plot.ly/plotly-latest.min.js\"></script>    \n",
              "            <div id=\"b653ee60-c8a1-4739-9652-242f9e126cd0\" class=\"plotly-graph-div\" style=\"height:525px; width:100%;\"></div>\n",
              "            <script type=\"text/javascript\">\n",
              "                \n",
              "                    window.PLOTLYENV=window.PLOTLYENV || {};\n",
              "                    \n",
              "                if (document.getElementById(\"b653ee60-c8a1-4739-9652-242f9e126cd0\")) {\n",
              "                    Plotly.newPlot(\n",
              "                        'b653ee60-c8a1-4739-9652-242f9e126cd0',\n",
              "                        [{\"marker\": {\"color\": \"rgba(152, 0, 0, .8)\"}, \"mode\": \"markers\", \"name\": \"train\", \"type\": \"scatter\", \"x\": [2.5, 5.1, 3.2, 8.5, 3.5, 1.5, 9.2, 5.5, 8.3, 2.7, 7.7, 5.9, 4.5, 3.3, 1.1, 8.9, 2.5, 1.9, 6.1, 7.4, 2.7, 4.8, 3.8, 6.9, 7.8], \"y\": [21, 47, 27, 75, 30, 20, 88, 60, 81, 25, 85, 62, 41, 42, 17, 95, 30, 24, 67, 69, 30, 54, 35, 76, 86]}, {\"marker\": {\"color\": \"rgba(0, 152, 0, .8)\"}, \"mode\": \"lines+markers\", \"name\": \"prediction\", \"type\": \"scatter\", \"x\": [2.5, 5.1, 3.2, 8.5, 3.5, 1.5, 9.2, 5.5, 8.3, 2.7, 7.7, 5.9, 4.5, 3.3, 1.1, 8.9, 2.5, 1.9, 6.1, 7.4, 2.7, 4.8, 3.8, 6.9, 7.8], \"y\": [25.26952286961383, 52.2764191201529, 32.540610321682045, 87.59312960162708, 35.6567906582827, 14.882255080944958, 94.86421705369528, 56.43132623562045, 85.51567604389331, 27.346976427347606, 79.28331537069198, 60.586233351088005, 46.04405844695158, 33.579337100548926, 10.727347965477408, 91.74803671709464, 25.26952286961383, 19.037162196412506, 62.663686908821774, 76.1671350340913, 27.346976427347606, 49.16023878355224, 38.772970994883366, 70.97350113975688, 80.32204214955885]}],\n",
              "                        {\"template\": {\"data\": {\"bar\": [{\"error_x\": {\"color\": \"#2a3f5f\"}, \"error_y\": {\"color\": \"#2a3f5f\"}, \"marker\": {\"line\": {\"color\": \"#E5ECF6\", \"width\": 0.5}}, \"type\": \"bar\"}], \"barpolar\": [{\"marker\": {\"line\": {\"color\": \"#E5ECF6\", \"width\": 0.5}}, \"type\": \"barpolar\"}], \"carpet\": [{\"aaxis\": {\"endlinecolor\": \"#2a3f5f\", \"gridcolor\": \"white\", \"linecolor\": \"white\", \"minorgridcolor\": \"white\", \"startlinecolor\": \"#2a3f5f\"}, \"baxis\": {\"endlinecolor\": \"#2a3f5f\", \"gridcolor\": \"white\", \"linecolor\": \"white\", \"minorgridcolor\": \"white\", \"startlinecolor\": \"#2a3f5f\"}, \"type\": \"carpet\"}], \"choropleth\": [{\"colorbar\": {\"outlinewidth\": 0, \"ticks\": \"\"}, \"type\": \"choropleth\"}], \"contour\": [{\"colorbar\": {\"outlinewidth\": 0, \"ticks\": \"\"}, \"colorscale\": [[0.0, \"#0d0887\"], [0.1111111111111111, \"#46039f\"], [0.2222222222222222, \"#7201a8\"], [0.3333333333333333, \"#9c179e\"], [0.4444444444444444, \"#bd3786\"], [0.5555555555555556, \"#d8576b\"], [0.6666666666666666, \"#ed7953\"], [0.7777777777777778, \"#fb9f3a\"], [0.8888888888888888, \"#fdca26\"], [1.0, \"#f0f921\"]], \"type\": \"contour\"}], \"contourcarpet\": [{\"colorbar\": {\"outlinewidth\": 0, \"ticks\": \"\"}, \"type\": \"contourcarpet\"}], \"heatmap\": [{\"colorbar\": {\"outlinewidth\": 0, \"ticks\": \"\"}, \"colorscale\": [[0.0, \"#0d0887\"], [0.1111111111111111, \"#46039f\"], [0.2222222222222222, \"#7201a8\"], [0.3333333333333333, \"#9c179e\"], [0.4444444444444444, \"#bd3786\"], [0.5555555555555556, \"#d8576b\"], [0.6666666666666666, \"#ed7953\"], [0.7777777777777778, \"#fb9f3a\"], [0.8888888888888888, \"#fdca26\"], [1.0, \"#f0f921\"]], \"type\": \"heatmap\"}], \"heatmapgl\": [{\"colorbar\": {\"outlinewidth\": 0, \"ticks\": \"\"}, \"colorscale\": [[0.0, \"#0d0887\"], [0.1111111111111111, \"#46039f\"], [0.2222222222222222, \"#7201a8\"], [0.3333333333333333, \"#9c179e\"], [0.4444444444444444, \"#bd3786\"], [0.5555555555555556, \"#d8576b\"], [0.6666666666666666, \"#ed7953\"], [0.7777777777777778, \"#fb9f3a\"], [0.8888888888888888, \"#fdca26\"], [1.0, \"#f0f921\"]], \"type\": \"heatmapgl\"}], \"histogram\": [{\"marker\": {\"colorbar\": {\"outlinewidth\": 0, \"ticks\": \"\"}}, \"type\": \"histogram\"}], \"histogram2d\": [{\"colorbar\": {\"outlinewidth\": 0, \"ticks\": \"\"}, \"colorscale\": [[0.0, \"#0d0887\"], [0.1111111111111111, \"#46039f\"], [0.2222222222222222, \"#7201a8\"], [0.3333333333333333, \"#9c179e\"], [0.4444444444444444, \"#bd3786\"], [0.5555555555555556, \"#d8576b\"], [0.6666666666666666, \"#ed7953\"], [0.7777777777777778, \"#fb9f3a\"], [0.8888888888888888, \"#fdca26\"], [1.0, \"#f0f921\"]], \"type\": \"histogram2d\"}], \"histogram2dcontour\": [{\"colorbar\": {\"outlinewidth\": 0, \"ticks\": \"\"}, \"colorscale\": [[0.0, \"#0d0887\"], [0.1111111111111111, \"#46039f\"], [0.2222222222222222, \"#7201a8\"], [0.3333333333333333, \"#9c179e\"], [0.4444444444444444, \"#bd3786\"], [0.5555555555555556, \"#d8576b\"], [0.6666666666666666, \"#ed7953\"], [0.7777777777777778, \"#fb9f3a\"], [0.8888888888888888, \"#fdca26\"], [1.0, \"#f0f921\"]], \"type\": \"histogram2dcontour\"}], \"mesh3d\": [{\"colorbar\": {\"outlinewidth\": 0, \"ticks\": \"\"}, \"type\": \"mesh3d\"}], \"parcoords\": [{\"line\": {\"colorbar\": {\"outlinewidth\": 0, \"ticks\": \"\"}}, \"type\": \"parcoords\"}], \"pie\": [{\"automargin\": true, \"type\": \"pie\"}], \"scatter\": [{\"marker\": {\"colorbar\": {\"outlinewidth\": 0, \"ticks\": \"\"}}, \"type\": \"scatter\"}], \"scatter3d\": [{\"line\": {\"colorbar\": {\"outlinewidth\": 0, \"ticks\": \"\"}}, \"marker\": {\"colorbar\": {\"outlinewidth\": 0, \"ticks\": \"\"}}, \"type\": \"scatter3d\"}], \"scattercarpet\": [{\"marker\": {\"colorbar\": {\"outlinewidth\": 0, \"ticks\": \"\"}}, \"type\": \"scattercarpet\"}], \"scattergeo\": [{\"marker\": {\"colorbar\": {\"outlinewidth\": 0, \"ticks\": \"\"}}, \"type\": \"scattergeo\"}], \"scattergl\": [{\"marker\": {\"colorbar\": {\"outlinewidth\": 0, \"ticks\": \"\"}}, \"type\": \"scattergl\"}], \"scattermapbox\": [{\"marker\": {\"colorbar\": {\"outlinewidth\": 0, \"ticks\": \"\"}}, \"type\": \"scattermapbox\"}], \"scatterpolar\": [{\"marker\": {\"colorbar\": {\"outlinewidth\": 0, \"ticks\": \"\"}}, \"type\": \"scatterpolar\"}], \"scatterpolargl\": [{\"marker\": {\"colorbar\": {\"outlinewidth\": 0, \"ticks\": \"\"}}, \"type\": \"scatterpolargl\"}], \"scatterternary\": [{\"marker\": {\"colorbar\": {\"outlinewidth\": 0, \"ticks\": \"\"}}, \"type\": \"scatterternary\"}], \"surface\": [{\"colorbar\": {\"outlinewidth\": 0, \"ticks\": \"\"}, \"colorscale\": [[0.0, \"#0d0887\"], [0.1111111111111111, \"#46039f\"], [0.2222222222222222, \"#7201a8\"], [0.3333333333333333, \"#9c179e\"], [0.4444444444444444, \"#bd3786\"], [0.5555555555555556, \"#d8576b\"], [0.6666666666666666, \"#ed7953\"], [0.7777777777777778, \"#fb9f3a\"], [0.8888888888888888, \"#fdca26\"], [1.0, \"#f0f921\"]], \"type\": \"surface\"}], \"table\": [{\"cells\": {\"fill\": {\"color\": \"#EBF0F8\"}, \"line\": {\"color\": \"white\"}}, \"header\": {\"fill\": {\"color\": \"#C8D4E3\"}, \"line\": {\"color\": \"white\"}}, \"type\": \"table\"}]}, \"layout\": {\"annotationdefaults\": {\"arrowcolor\": \"#2a3f5f\", \"arrowhead\": 0, \"arrowwidth\": 1}, \"coloraxis\": {\"colorbar\": {\"outlinewidth\": 0, \"ticks\": \"\"}}, \"colorscale\": {\"diverging\": [[0, \"#8e0152\"], [0.1, \"#c51b7d\"], [0.2, \"#de77ae\"], [0.3, \"#f1b6da\"], [0.4, \"#fde0ef\"], [0.5, \"#f7f7f7\"], [0.6, \"#e6f5d0\"], [0.7, \"#b8e186\"], [0.8, \"#7fbc41\"], [0.9, \"#4d9221\"], [1, \"#276419\"]], \"sequential\": [[0.0, \"#0d0887\"], [0.1111111111111111, \"#46039f\"], [0.2222222222222222, \"#7201a8\"], [0.3333333333333333, \"#9c179e\"], [0.4444444444444444, \"#bd3786\"], [0.5555555555555556, \"#d8576b\"], [0.6666666666666666, \"#ed7953\"], [0.7777777777777778, \"#fb9f3a\"], [0.8888888888888888, \"#fdca26\"], [1.0, \"#f0f921\"]], \"sequentialminus\": [[0.0, \"#0d0887\"], [0.1111111111111111, \"#46039f\"], [0.2222222222222222, \"#7201a8\"], [0.3333333333333333, \"#9c179e\"], [0.4444444444444444, \"#bd3786\"], [0.5555555555555556, \"#d8576b\"], [0.6666666666666666, \"#ed7953\"], [0.7777777777777778, \"#fb9f3a\"], [0.8888888888888888, \"#fdca26\"], [1.0, \"#f0f921\"]]}, \"colorway\": [\"#636efa\", \"#EF553B\", \"#00cc96\", \"#ab63fa\", \"#FFA15A\", \"#19d3f3\", \"#FF6692\", \"#B6E880\", \"#FF97FF\", \"#FECB52\"], \"font\": {\"color\": \"#2a3f5f\"}, \"geo\": {\"bgcolor\": \"white\", \"lakecolor\": \"white\", \"landcolor\": \"#E5ECF6\", \"showlakes\": true, \"showland\": true, \"subunitcolor\": \"white\"}, \"hoverlabel\": {\"align\": \"left\"}, \"hovermode\": \"closest\", \"mapbox\": {\"style\": \"light\"}, \"paper_bgcolor\": \"white\", \"plot_bgcolor\": \"#E5ECF6\", \"polar\": {\"angularaxis\": {\"gridcolor\": \"white\", \"linecolor\": \"white\", \"ticks\": \"\"}, \"bgcolor\": \"#E5ECF6\", \"radialaxis\": {\"gridcolor\": \"white\", \"linecolor\": \"white\", \"ticks\": \"\"}}, \"scene\": {\"xaxis\": {\"backgroundcolor\": \"#E5ECF6\", \"gridcolor\": \"white\", \"gridwidth\": 2, \"linecolor\": \"white\", \"showbackground\": true, \"ticks\": \"\", \"zerolinecolor\": \"white\"}, \"yaxis\": {\"backgroundcolor\": \"#E5ECF6\", \"gridcolor\": \"white\", \"gridwidth\": 2, \"linecolor\": \"white\", \"showbackground\": true, \"ticks\": \"\", \"zerolinecolor\": \"white\"}, \"zaxis\": {\"backgroundcolor\": \"#E5ECF6\", \"gridcolor\": \"white\", \"gridwidth\": 2, \"linecolor\": \"white\", \"showbackground\": true, \"ticks\": \"\", \"zerolinecolor\": \"white\"}}, \"shapedefaults\": {\"line\": {\"color\": \"#2a3f5f\"}}, \"ternary\": {\"aaxis\": {\"gridcolor\": \"white\", \"linecolor\": \"white\", \"ticks\": \"\"}, \"baxis\": {\"gridcolor\": \"white\", \"linecolor\": \"white\", \"ticks\": \"\"}, \"bgcolor\": \"#E5ECF6\", \"caxis\": {\"gridcolor\": \"white\", \"linecolor\": \"white\", \"ticks\": \"\"}}, \"title\": {\"x\": 0.05}, \"xaxis\": {\"automargin\": true, \"gridcolor\": \"white\", \"linecolor\": \"white\", \"ticks\": \"\", \"title\": {\"standoff\": 15}, \"zerolinecolor\": \"white\", \"zerolinewidth\": 2}, \"yaxis\": {\"automargin\": true, \"gridcolor\": \"white\", \"linecolor\": \"white\", \"ticks\": \"\", \"title\": {\"standoff\": 15}, \"zerolinecolor\": \"white\", \"zerolinewidth\": 2}}}, \"title\": {\"text\": \"Obtained Score Percentage vs Hours-Studied\\n (visual comparison for correctness after Train-Test Split)\", \"x\": 0.5}, \"xaxis\": {\"linecolor\": \"black\", \"linewidth\": 2, \"mirror\": true, \"showline\": true, \"title\": {\"text\": \"Number of Hours Studied\"}}, \"yaxis\": {\"linecolor\": \"black\", \"linewidth\": 2, \"mirror\": true, \"showline\": true, \"title\": {\"text\": \"Obtained Percentage Score\"}}},\n",
              "                        {\"responsive\": true}\n",
              "                    ).then(function(){\n",
              "                            \n",
              "var gd = document.getElementById('b653ee60-c8a1-4739-9652-242f9e126cd0');\n",
              "var x = new MutationObserver(function (mutations, observer) {{\n",
              "        var display = window.getComputedStyle(gd).display;\n",
              "        if (!display || display === 'none') {{\n",
              "            console.log([gd, 'removed!']);\n",
              "            Plotly.purge(gd);\n",
              "            observer.disconnect();\n",
              "        }}\n",
              "}});\n",
              "\n",
              "// Listen for the removal of the full notebook cells\n",
              "var notebookContainer = gd.closest('#notebook-container');\n",
              "if (notebookContainer) {{\n",
              "    x.observe(notebookContainer, {childList: true});\n",
              "}}\n",
              "\n",
              "// Listen for the clearing of the current output cell\n",
              "var outputEl = gd.closest('.output');\n",
              "if (outputEl) {{\n",
              "    x.observe(outputEl, {childList: true});\n",
              "}}\n",
              "\n",
              "                        })\n",
              "                };\n",
              "                \n",
              "            </script>\n",
              "        </div>\n",
              "</body>\n",
              "</html>"
            ]
          },
          "metadata": {}
        }
      ]
    },
    {
      "cell_type": "markdown",
      "metadata": {
        "id": "kOAKZjH3UnO3"
      },
      "source": [
        "Predicting only the test samples"
      ]
    },
    {
      "cell_type": "code",
      "metadata": {
        "colab": {
          "base_uri": "https://localhost:8080/"
        },
        "id": "I9Ls_Tx6UqPX",
        "outputId": "85d12954-ae00-4f33-b474-6f80357ab9c0"
      },
      "source": [
        "y_pred = b0 + b1 * X_test\n",
        "print(f'\\n\\nY_Test: {Y_test}')\n",
        "print(f'\\n\\nY_Pred: {y_pred}')\n",
        "\n",
        "def MSE(X, y, y_hat):\n",
        "  n=len(X)\n",
        "  return (1/n)*np.sum((y-y_hat)**2)\n",
        "\n",
        "print(MSE(X_test,Y_test,y_pred))\n",
        "print(MSE(X_train,Y_train,(b0 + b1 * X_train)))"
      ],
      "execution_count": null,
      "outputs": [
        {
          "output_type": "stream",
          "name": "stdout",
          "text": [
            "\n",
            "\n",
            "Y_Test: [24 30 60 47 41]\n",
            "\n",
            "\n",
            "Y_Pred: [19.0371622  25.26952287 56.43132624 52.27641912 46.04405845]\n",
            "22.605145946034664\n",
            "33.33017378917069\n"
          ]
        }
      ]
    },
    {
      "cell_type": "markdown",
      "metadata": {
        "id": "T0gZrW62VD18"
      },
      "source": [
        "**<font color='skyblue'>Gradient Descent Algorithm</font>**"
      ]
    },
    {
      "cell_type": "markdown",
      "metadata": {
        "id": "0nX0Ky92WlpM"
      },
      "source": [
        " Now you are going to implement Gradient Descent Algorithm from the scratch. To understand how it works you will need some basic math and logical thinking. Gradient Descent can be used in different machine learning algorithms, including neural networks. For this lab, you are going to build it for a linear regression problem, because it’s easy to understand and visualize.\n",
        "\n",
        "### Linear Regression\n",
        "\n",
        "In order to fit the regression line, we tune two parameters: $slope (b_1)$ and $intercept (b_0).$ Once optimal parameters are found, we usually evaluate results with a  mean squared error $(MSE).$ We remember that smaller MSE — better. In other words, we are trying to minimize it.\n",
        "\n",
        "\n",
        "### Gradient Descent\n",
        "Minimization of the function is the exact task of the Gradient Descent algorithm. It takes parameters and tunes them till the local minimum is reached.\n",
        "\n",
        "Let’s break down the process in steps and explain what is actually going on under the hood:\n",
        "1. First, we take a function we would like to minimize, and very frequently it will be Mean Squared Errors function. \n",
        "2. We identify parameters, such as m and b in the regression function and we take partial derivatives of MSE with respect to these parameters. This is the most crucial and hardest part. Each derived function can tell which way we should tune parameters and by how much.\n",
        "2. We update parameters by iterating through our derived functions and gradually minimizing MSE. In this process, we use an additional parameter **learning rate** which helps us define the step we take towards updating parameters with each iteration. By setting a smaller learning rate we make sure our model wouldn’t jump over a minimum point of MSE and converge nicely.\n",
        "\n",
        "\n",
        "The formula of the Mean Squared Error MSE is as follows: \n",
        "$$ MSE = \\frac{1}{n}\\sum\\limits_{i=1}^n(y_{i} - \\hat{y})^2$$  where$$ \\hat{y} = b_0 + b_1x_i$$"
      ]
    },
    {
      "cell_type": "code",
      "metadata": {
        "id": "Krs0TvAXjvr7"
      },
      "source": [
        "def invokePlotly(X1,Y1,Y2):\n",
        "  fig = go.Figure()\n",
        "\n",
        "  fig.add_trace(go.Scatter(x=X1, y=Y1, name='train', mode='markers', marker_color='rgba(152, 0, 0, .8)'))\n",
        "  fig.add_trace(go.Scatter(x=X1, y=Y2, name='prediction', mode='lines+markers', marker_color='rgba(0, 152, 0, .8)'))\n",
        "\n",
        "  fig.update_layout(title = f'Obtained Score Percentage vs Hours-Studied\\n (visual comparison for correctness after Train-Test Split)',title_x=0.5, xaxis_title= \"Number of Hours Studied\", yaxis_title=\"Obtained Percentage Score\",font=dict(\n",
        "          family=\"TeX Gyre Pagella\",\n",
        "          size=14,\n",
        "          color=\"RebeccaPurple\"\n",
        "      ))\n",
        "  fig.update_xaxes(showline=True, linewidth=2, linecolor='black', mirror=True)\n",
        "  fig.update_yaxes(showline=True, linewidth=2, linecolor='black', mirror=True)\n",
        "  fig.show() "
      ],
      "execution_count": null,
      "outputs": []
    },
    {
      "cell_type": "code",
      "metadata": {
        "id": "1xmEICB4XN6N"
      },
      "source": [
        "from sklearn.metrics import mean_squared_error\n",
        "# def MSE(X, y, y_hat):\n",
        "#   n=len(X)\n",
        "#   return (1/n)*np.sum((y-y_hat)**2)\n",
        "epochList = []\n",
        "def gradient_descent(X, y, lr=0.0001, epoch=2000):\n",
        "  b1, b0 = 0.0, 0.0 # parameters\n",
        "  log, mse = [], [] # lists to store learning process\n",
        "  mse2 = []\n",
        "  \n",
        "  # GRADIENT DESCENT ALGORITHM\n",
        "  for i in range(epoch):\n",
        "    epochList.append(i)\n",
        "    sumyhat = 0\n",
        "    sumxyhat = 0\n",
        "    # CALCULATE SUM PORTIONS; COULD HAVE VECTORISED HERE\n",
        "    for j in range(len(X)):\n",
        "      sumyhat += b0 + b1*X[j] - y[j]\n",
        "      sumxyhat += (b0 + b1*X[j] - y[j])*(X[j])\n",
        "    # CALCULATE AND UPDATE b1 AND b0\n",
        "    b1 -= lr*(1/len(X))*sumxyhat\n",
        "    b0 -= lr*(1/len(X))*sumyhat\n",
        "\n",
        "    # COULD HAVE ADDED THE CONDITION HERE\n",
        "    # BUT MATHEMATICALLY IT SEEMED THAT THE THRESHOLD VALUE WOULD BE DIFFICULT TO ACCURATELY PUT IN\n",
        "    # AND THE NUMBER OF EPOCHS CHOSEN HERE (20) OR EVEN 10 TIMES HIGHER IS MORE \n",
        "\n",
        "    # UPDATE LOGS AND MSES\n",
        "    log.append((b1, b0))\n",
        "    mse.append(mean_squared_error(y, (b1*X + b0)))\n",
        "    mse2.append(MSE(X,y,(b1*X + b0)))\n",
        "    if len(mse)>=2 and abs(mse[len(mse)-1]-mse[len(mse)-2])<=0.0005:\n",
        "      break;\n",
        "    if i%200==0:\n",
        "      y_pred = b0 + b1 * X\n",
        "      invokePlotly(X,Y,y_pred)      \n",
        "  print(mse)\n",
        "  print(mse2)\n",
        "  return b1, b0, log, mse"
      ],
      "execution_count": null,
      "outputs": []
    },
    {
      "cell_type": "code",
      "metadata": {
        "id": "NLV8efKQYCK4",
        "colab": {
          "base_uri": "https://localhost:8080/",
          "height": 1000
        },
        "outputId": "f0c19b86-ffa6-4d23-9df8-fc0af2a83d3e"
      },
      "source": [
        "b1, b0, log, mse = gradient_descent(X_train, Y_train , epoch = 2000)"
      ],
      "execution_count": null,
      "outputs": [
        {
          "output_type": "display_data",
          "data": {
            "text/html": [
              "<html>\n",
              "<head><meta charset=\"utf-8\" /></head>\n",
              "<body>\n",
              "    <div>\n",
              "            <script src=\"https://cdnjs.cloudflare.com/ajax/libs/mathjax/2.7.5/MathJax.js?config=TeX-AMS-MML_SVG\"></script><script type=\"text/javascript\">if (window.MathJax) {MathJax.Hub.Config({SVG: {font: \"STIX-Web\"}});}</script>\n",
              "                <script type=\"text/javascript\">window.PlotlyConfig = {MathJaxConfig: 'local'};</script>\n",
              "        <script src=\"https://cdn.plot.ly/plotly-latest.min.js\"></script>    \n",
              "            <div id=\"756aac8c-b639-4ac9-ac60-7b73a0711541\" class=\"plotly-graph-div\" style=\"height:525px; width:100%;\"></div>\n",
              "            <script type=\"text/javascript\">\n",
              "                \n",
              "                    window.PLOTLYENV=window.PLOTLYENV || {};\n",
              "                    \n",
              "                if (document.getElementById(\"756aac8c-b639-4ac9-ac60-7b73a0711541\")) {\n",
              "                    Plotly.newPlot(\n",
              "                        '756aac8c-b639-4ac9-ac60-7b73a0711541',\n",
              "                        [{\"marker\": {\"color\": \"rgba(152, 0, 0, .8)\"}, \"mode\": \"markers\", \"name\": \"train\", \"type\": \"scatter\", \"x\": [7.7, 7.8, 1.5, 3.5, 9.2, 8.3, 1.1, 3.3, 8.5, 5.9, 2.7, 7.4, 3.8, 6.1, 2.5, 3.2, 6.9, 8.9, 4.8, 2.7], \"y\": [21, 47, 27, 75, 30, 20, 88, 60, 81, 25, 85, 62, 41, 42, 17, 95, 30, 24, 67, 69, 30, 54, 35, 76, 86]}, {\"marker\": {\"color\": \"rgba(0, 152, 0, .8)\"}, \"mode\": \"lines+markers\", \"name\": \"prediction\", \"type\": \"scatter\", \"x\": [7.7, 7.8, 1.5, 3.5, 9.2, 8.3, 1.1, 3.3, 8.5, 5.9, 2.7, 7.4, 3.8, 6.1, 2.5, 3.2, 6.9, 8.9, 4.8, 2.7], \"y\": [0.2776816, 0.28121739999999995, 0.058461999999999986, 0.129178, 0.3307185999999999, 0.2988964, 0.0443188, 0.12210639999999998, 0.30596799999999996, 0.21403719999999998, 0.10089159999999998, 0.2670742, 0.13978539999999998, 0.22110879999999997, 0.09381999999999999, 0.11857059999999998, 0.24939519999999998, 0.3201112, 0.17514339999999998, 0.10089159999999998]}],\n",
              "                        {\"font\": {\"color\": \"RebeccaPurple\", \"family\": \"TeX Gyre Pagella\", \"size\": 14}, \"template\": {\"data\": {\"bar\": [{\"error_x\": {\"color\": \"#2a3f5f\"}, \"error_y\": {\"color\": \"#2a3f5f\"}, \"marker\": {\"line\": {\"color\": \"#E5ECF6\", \"width\": 0.5}}, \"type\": \"bar\"}], \"barpolar\": [{\"marker\": {\"line\": {\"color\": \"#E5ECF6\", \"width\": 0.5}}, \"type\": \"barpolar\"}], \"carpet\": [{\"aaxis\": {\"endlinecolor\": \"#2a3f5f\", \"gridcolor\": \"white\", \"linecolor\": \"white\", \"minorgridcolor\": \"white\", \"startlinecolor\": \"#2a3f5f\"}, \"baxis\": {\"endlinecolor\": \"#2a3f5f\", \"gridcolor\": \"white\", \"linecolor\": \"white\", \"minorgridcolor\": \"white\", \"startlinecolor\": \"#2a3f5f\"}, \"type\": \"carpet\"}], \"choropleth\": [{\"colorbar\": {\"outlinewidth\": 0, \"ticks\": \"\"}, \"type\": \"choropleth\"}], \"contour\": [{\"colorbar\": {\"outlinewidth\": 0, \"ticks\": \"\"}, \"colorscale\": [[0.0, \"#0d0887\"], [0.1111111111111111, \"#46039f\"], [0.2222222222222222, \"#7201a8\"], [0.3333333333333333, \"#9c179e\"], [0.4444444444444444, \"#bd3786\"], [0.5555555555555556, \"#d8576b\"], [0.6666666666666666, \"#ed7953\"], [0.7777777777777778, \"#fb9f3a\"], [0.8888888888888888, \"#fdca26\"], [1.0, \"#f0f921\"]], \"type\": \"contour\"}], \"contourcarpet\": [{\"colorbar\": {\"outlinewidth\": 0, \"ticks\": \"\"}, \"type\": \"contourcarpet\"}], \"heatmap\": [{\"colorbar\": {\"outlinewidth\": 0, \"ticks\": \"\"}, \"colorscale\": [[0.0, \"#0d0887\"], [0.1111111111111111, \"#46039f\"], [0.2222222222222222, \"#7201a8\"], [0.3333333333333333, \"#9c179e\"], [0.4444444444444444, \"#bd3786\"], [0.5555555555555556, \"#d8576b\"], [0.6666666666666666, \"#ed7953\"], [0.7777777777777778, \"#fb9f3a\"], [0.8888888888888888, \"#fdca26\"], [1.0, \"#f0f921\"]], \"type\": \"heatmap\"}], \"heatmapgl\": [{\"colorbar\": {\"outlinewidth\": 0, \"ticks\": \"\"}, \"colorscale\": [[0.0, \"#0d0887\"], [0.1111111111111111, \"#46039f\"], [0.2222222222222222, \"#7201a8\"], [0.3333333333333333, \"#9c179e\"], [0.4444444444444444, \"#bd3786\"], [0.5555555555555556, \"#d8576b\"], [0.6666666666666666, \"#ed7953\"], [0.7777777777777778, \"#fb9f3a\"], [0.8888888888888888, \"#fdca26\"], [1.0, \"#f0f921\"]], \"type\": \"heatmapgl\"}], \"histogram\": [{\"marker\": {\"colorbar\": {\"outlinewidth\": 0, \"ticks\": \"\"}}, \"type\": \"histogram\"}], \"histogram2d\": [{\"colorbar\": {\"outlinewidth\": 0, \"ticks\": \"\"}, \"colorscale\": [[0.0, \"#0d0887\"], [0.1111111111111111, \"#46039f\"], [0.2222222222222222, \"#7201a8\"], [0.3333333333333333, \"#9c179e\"], [0.4444444444444444, \"#bd3786\"], [0.5555555555555556, \"#d8576b\"], [0.6666666666666666, \"#ed7953\"], [0.7777777777777778, \"#fb9f3a\"], [0.8888888888888888, \"#fdca26\"], [1.0, \"#f0f921\"]], \"type\": \"histogram2d\"}], \"histogram2dcontour\": [{\"colorbar\": {\"outlinewidth\": 0, \"ticks\": \"\"}, \"colorscale\": [[0.0, \"#0d0887\"], [0.1111111111111111, \"#46039f\"], [0.2222222222222222, \"#7201a8\"], [0.3333333333333333, \"#9c179e\"], [0.4444444444444444, \"#bd3786\"], [0.5555555555555556, \"#d8576b\"], [0.6666666666666666, \"#ed7953\"], [0.7777777777777778, \"#fb9f3a\"], [0.8888888888888888, \"#fdca26\"], [1.0, \"#f0f921\"]], \"type\": \"histogram2dcontour\"}], \"mesh3d\": [{\"colorbar\": {\"outlinewidth\": 0, \"ticks\": \"\"}, \"type\": \"mesh3d\"}], \"parcoords\": [{\"line\": {\"colorbar\": {\"outlinewidth\": 0, \"ticks\": \"\"}}, \"type\": \"parcoords\"}], \"pie\": [{\"automargin\": true, \"type\": \"pie\"}], \"scatter\": [{\"marker\": {\"colorbar\": {\"outlinewidth\": 0, \"ticks\": \"\"}}, \"type\": \"scatter\"}], \"scatter3d\": [{\"line\": {\"colorbar\": {\"outlinewidth\": 0, \"ticks\": \"\"}}, \"marker\": {\"colorbar\": {\"outlinewidth\": 0, \"ticks\": \"\"}}, \"type\": \"scatter3d\"}], \"scattercarpet\": [{\"marker\": {\"colorbar\": {\"outlinewidth\": 0, \"ticks\": \"\"}}, \"type\": \"scattercarpet\"}], \"scattergeo\": [{\"marker\": {\"colorbar\": {\"outlinewidth\": 0, \"ticks\": \"\"}}, \"type\": \"scattergeo\"}], \"scattergl\": [{\"marker\": {\"colorbar\": {\"outlinewidth\": 0, \"ticks\": \"\"}}, \"type\": \"scattergl\"}], \"scattermapbox\": [{\"marker\": {\"colorbar\": {\"outlinewidth\": 0, \"ticks\": \"\"}}, \"type\": \"scattermapbox\"}], \"scatterpolar\": [{\"marker\": {\"colorbar\": {\"outlinewidth\": 0, \"ticks\": \"\"}}, \"type\": \"scatterpolar\"}], \"scatterpolargl\": [{\"marker\": {\"colorbar\": {\"outlinewidth\": 0, \"ticks\": \"\"}}, \"type\": \"scatterpolargl\"}], \"scatterternary\": [{\"marker\": {\"colorbar\": {\"outlinewidth\": 0, \"ticks\": \"\"}}, \"type\": \"scatterternary\"}], \"surface\": [{\"colorbar\": {\"outlinewidth\": 0, \"ticks\": \"\"}, \"colorscale\": [[0.0, \"#0d0887\"], [0.1111111111111111, \"#46039f\"], [0.2222222222222222, \"#7201a8\"], [0.3333333333333333, \"#9c179e\"], [0.4444444444444444, \"#bd3786\"], [0.5555555555555556, \"#d8576b\"], [0.6666666666666666, \"#ed7953\"], [0.7777777777777778, \"#fb9f3a\"], [0.8888888888888888, \"#fdca26\"], [1.0, \"#f0f921\"]], \"type\": \"surface\"}], \"table\": [{\"cells\": {\"fill\": {\"color\": \"#EBF0F8\"}, \"line\": {\"color\": \"white\"}}, \"header\": {\"fill\": {\"color\": \"#C8D4E3\"}, \"line\": {\"color\": \"white\"}}, \"type\": \"table\"}]}, \"layout\": {\"annotationdefaults\": {\"arrowcolor\": \"#2a3f5f\", \"arrowhead\": 0, \"arrowwidth\": 1}, \"coloraxis\": {\"colorbar\": {\"outlinewidth\": 0, \"ticks\": \"\"}}, \"colorscale\": {\"diverging\": [[0, \"#8e0152\"], [0.1, \"#c51b7d\"], [0.2, \"#de77ae\"], [0.3, \"#f1b6da\"], [0.4, \"#fde0ef\"], [0.5, \"#f7f7f7\"], [0.6, \"#e6f5d0\"], [0.7, \"#b8e186\"], [0.8, \"#7fbc41\"], [0.9, \"#4d9221\"], [1, \"#276419\"]], \"sequential\": [[0.0, \"#0d0887\"], [0.1111111111111111, \"#46039f\"], [0.2222222222222222, \"#7201a8\"], [0.3333333333333333, \"#9c179e\"], [0.4444444444444444, \"#bd3786\"], [0.5555555555555556, \"#d8576b\"], [0.6666666666666666, \"#ed7953\"], [0.7777777777777778, \"#fb9f3a\"], [0.8888888888888888, \"#fdca26\"], [1.0, \"#f0f921\"]], \"sequentialminus\": [[0.0, \"#0d0887\"], [0.1111111111111111, \"#46039f\"], [0.2222222222222222, \"#7201a8\"], [0.3333333333333333, \"#9c179e\"], [0.4444444444444444, \"#bd3786\"], [0.5555555555555556, \"#d8576b\"], [0.6666666666666666, \"#ed7953\"], [0.7777777777777778, \"#fb9f3a\"], [0.8888888888888888, \"#fdca26\"], [1.0, \"#f0f921\"]]}, \"colorway\": [\"#636efa\", \"#EF553B\", \"#00cc96\", \"#ab63fa\", \"#FFA15A\", \"#19d3f3\", \"#FF6692\", \"#B6E880\", \"#FF97FF\", \"#FECB52\"], \"font\": {\"color\": \"#2a3f5f\"}, \"geo\": {\"bgcolor\": \"white\", \"lakecolor\": \"white\", \"landcolor\": \"#E5ECF6\", \"showlakes\": true, \"showland\": true, \"subunitcolor\": \"white\"}, \"hoverlabel\": {\"align\": \"left\"}, \"hovermode\": \"closest\", \"mapbox\": {\"style\": \"light\"}, \"paper_bgcolor\": \"white\", \"plot_bgcolor\": \"#E5ECF6\", \"polar\": {\"angularaxis\": {\"gridcolor\": \"white\", \"linecolor\": \"white\", \"ticks\": \"\"}, \"bgcolor\": \"#E5ECF6\", \"radialaxis\": {\"gridcolor\": \"white\", \"linecolor\": \"white\", \"ticks\": \"\"}}, \"scene\": {\"xaxis\": {\"backgroundcolor\": \"#E5ECF6\", \"gridcolor\": \"white\", \"gridwidth\": 2, \"linecolor\": \"white\", \"showbackground\": true, \"ticks\": \"\", \"zerolinecolor\": \"white\"}, \"yaxis\": {\"backgroundcolor\": \"#E5ECF6\", \"gridcolor\": \"white\", \"gridwidth\": 2, \"linecolor\": \"white\", \"showbackground\": true, \"ticks\": \"\", \"zerolinecolor\": \"white\"}, \"zaxis\": {\"backgroundcolor\": \"#E5ECF6\", \"gridcolor\": \"white\", \"gridwidth\": 2, \"linecolor\": \"white\", \"showbackground\": true, \"ticks\": \"\", \"zerolinecolor\": \"white\"}}, \"shapedefaults\": {\"line\": {\"color\": \"#2a3f5f\"}}, \"ternary\": {\"aaxis\": {\"gridcolor\": \"white\", \"linecolor\": \"white\", \"ticks\": \"\"}, \"baxis\": {\"gridcolor\": \"white\", \"linecolor\": \"white\", \"ticks\": \"\"}, \"bgcolor\": \"#E5ECF6\", \"caxis\": {\"gridcolor\": \"white\", \"linecolor\": \"white\", \"ticks\": \"\"}}, \"title\": {\"x\": 0.05}, \"xaxis\": {\"automargin\": true, \"gridcolor\": \"white\", \"linecolor\": \"white\", \"ticks\": \"\", \"title\": {\"standoff\": 15}, \"zerolinecolor\": \"white\", \"zerolinewidth\": 2}, \"yaxis\": {\"automargin\": true, \"gridcolor\": \"white\", \"linecolor\": \"white\", \"ticks\": \"\", \"title\": {\"standoff\": 15}, \"zerolinecolor\": \"white\", \"zerolinewidth\": 2}}}, \"title\": {\"text\": \"Obtained Score Percentage vs Hours-Studied\\n (visual comparison for correctness after Train-Test Split)\", \"x\": 0.5}, \"xaxis\": {\"linecolor\": \"black\", \"linewidth\": 2, \"mirror\": true, \"showline\": true, \"title\": {\"text\": \"Number of Hours Studied\"}}, \"yaxis\": {\"linecolor\": \"black\", \"linewidth\": 2, \"mirror\": true, \"showline\": true, \"title\": {\"text\": \"Obtained Percentage Score\"}}},\n",
              "                        {\"responsive\": true}\n",
              "                    ).then(function(){\n",
              "                            \n",
              "var gd = document.getElementById('756aac8c-b639-4ac9-ac60-7b73a0711541');\n",
              "var x = new MutationObserver(function (mutations, observer) {{\n",
              "        var display = window.getComputedStyle(gd).display;\n",
              "        if (!display || display === 'none') {{\n",
              "            console.log([gd, 'removed!']);\n",
              "            Plotly.purge(gd);\n",
              "            observer.disconnect();\n",
              "        }}\n",
              "}});\n",
              "\n",
              "// Listen for the removal of the full notebook cells\n",
              "var notebookContainer = gd.closest('#notebook-container');\n",
              "if (notebookContainer) {{\n",
              "    x.observe(notebookContainer, {childList: true});\n",
              "}}\n",
              "\n",
              "// Listen for the clearing of the current output cell\n",
              "var outputEl = gd.closest('.output');\n",
              "if (outputEl) {{\n",
              "    x.observe(outputEl, {childList: true});\n",
              "}}\n",
              "\n",
              "                        })\n",
              "                };\n",
              "                \n",
              "            </script>\n",
              "        </div>\n",
              "</body>\n",
              "</html>"
            ]
          },
          "metadata": {}
        },
        {
          "output_type": "display_data",
          "data": {
            "text/html": [
              "<html>\n",
              "<head><meta charset=\"utf-8\" /></head>\n",
              "<body>\n",
              "    <div>\n",
              "            <script src=\"https://cdnjs.cloudflare.com/ajax/libs/mathjax/2.7.5/MathJax.js?config=TeX-AMS-MML_SVG\"></script><script type=\"text/javascript\">if (window.MathJax) {MathJax.Hub.Config({SVG: {font: \"STIX-Web\"}});}</script>\n",
              "                <script type=\"text/javascript\">window.PlotlyConfig = {MathJaxConfig: 'local'};</script>\n",
              "        <script src=\"https://cdn.plot.ly/plotly-latest.min.js\"></script>    \n",
              "            <div id=\"6cf84579-98a7-4e71-b85f-79394e425d7d\" class=\"plotly-graph-div\" style=\"height:525px; width:100%;\"></div>\n",
              "            <script type=\"text/javascript\">\n",
              "                \n",
              "                    window.PLOTLYENV=window.PLOTLYENV || {};\n",
              "                    \n",
              "                if (document.getElementById(\"6cf84579-98a7-4e71-b85f-79394e425d7d\")) {\n",
              "                    Plotly.newPlot(\n",
              "                        '6cf84579-98a7-4e71-b85f-79394e425d7d',\n",
              "                        [{\"marker\": {\"color\": \"rgba(152, 0, 0, .8)\"}, \"mode\": \"markers\", \"name\": \"train\", \"type\": \"scatter\", \"x\": [7.7, 7.8, 1.5, 3.5, 9.2, 8.3, 1.1, 3.3, 8.5, 5.9, 2.7, 7.4, 3.8, 6.1, 2.5, 3.2, 6.9, 8.9, 4.8, 2.7], \"y\": [21, 47, 27, 75, 30, 20, 88, 60, 81, 25, 85, 62, 41, 42, 17, 95, 30, 24, 67, 69, 30, 54, 35, 76, 86]}, {\"marker\": {\"color\": \"rgba(0, 152, 0, .8)\"}, \"mode\": \"lines+markers\", \"name\": \"prediction\", \"type\": \"scatter\", \"x\": [7.7, 7.8, 1.5, 3.5, 9.2, 8.3, 1.1, 3.3, 8.5, 5.9, 2.7, 7.4, 3.8, 6.1, 2.5, 3.2, 6.9, 8.9, 4.8, 2.7], \"y\": [39.93324158627193, 40.44171569876002, 8.407846612010138, 18.577328861772006, 47.56035327359333, 42.984086261200495, 6.373950162057765, 17.56038063679582, 44.00103448617668, 30.78070756148625, 14.509535961867261, 38.407819248807655, 20.102751199236288, 31.797655786462435, 13.492587736891073, 17.05190652430773, 35.86544868636719, 46.03493093612905, 25.18749232411722, 14.509535961867261]}],\n",
              "                        {\"font\": {\"color\": \"RebeccaPurple\", \"family\": \"TeX Gyre Pagella\", \"size\": 14}, \"template\": {\"data\": {\"bar\": [{\"error_x\": {\"color\": \"#2a3f5f\"}, \"error_y\": {\"color\": \"#2a3f5f\"}, \"marker\": {\"line\": {\"color\": \"#E5ECF6\", \"width\": 0.5}}, \"type\": \"bar\"}], \"barpolar\": [{\"marker\": {\"line\": {\"color\": \"#E5ECF6\", \"width\": 0.5}}, \"type\": \"barpolar\"}], \"carpet\": [{\"aaxis\": {\"endlinecolor\": \"#2a3f5f\", \"gridcolor\": \"white\", \"linecolor\": \"white\", \"minorgridcolor\": \"white\", \"startlinecolor\": \"#2a3f5f\"}, \"baxis\": {\"endlinecolor\": \"#2a3f5f\", \"gridcolor\": \"white\", \"linecolor\": \"white\", \"minorgridcolor\": \"white\", \"startlinecolor\": \"#2a3f5f\"}, \"type\": \"carpet\"}], \"choropleth\": [{\"colorbar\": {\"outlinewidth\": 0, \"ticks\": \"\"}, \"type\": \"choropleth\"}], \"contour\": [{\"colorbar\": {\"outlinewidth\": 0, \"ticks\": \"\"}, \"colorscale\": [[0.0, \"#0d0887\"], [0.1111111111111111, \"#46039f\"], [0.2222222222222222, \"#7201a8\"], [0.3333333333333333, \"#9c179e\"], [0.4444444444444444, \"#bd3786\"], [0.5555555555555556, \"#d8576b\"], [0.6666666666666666, \"#ed7953\"], [0.7777777777777778, \"#fb9f3a\"], [0.8888888888888888, \"#fdca26\"], [1.0, \"#f0f921\"]], \"type\": \"contour\"}], \"contourcarpet\": [{\"colorbar\": {\"outlinewidth\": 0, \"ticks\": \"\"}, \"type\": \"contourcarpet\"}], \"heatmap\": [{\"colorbar\": {\"outlinewidth\": 0, \"ticks\": \"\"}, \"colorscale\": [[0.0, \"#0d0887\"], [0.1111111111111111, \"#46039f\"], [0.2222222222222222, \"#7201a8\"], [0.3333333333333333, \"#9c179e\"], [0.4444444444444444, \"#bd3786\"], [0.5555555555555556, \"#d8576b\"], [0.6666666666666666, \"#ed7953\"], [0.7777777777777778, \"#fb9f3a\"], [0.8888888888888888, \"#fdca26\"], [1.0, \"#f0f921\"]], \"type\": \"heatmap\"}], \"heatmapgl\": [{\"colorbar\": {\"outlinewidth\": 0, \"ticks\": \"\"}, \"colorscale\": [[0.0, \"#0d0887\"], [0.1111111111111111, \"#46039f\"], [0.2222222222222222, \"#7201a8\"], [0.3333333333333333, \"#9c179e\"], [0.4444444444444444, \"#bd3786\"], [0.5555555555555556, \"#d8576b\"], [0.6666666666666666, \"#ed7953\"], [0.7777777777777778, \"#fb9f3a\"], [0.8888888888888888, \"#fdca26\"], [1.0, \"#f0f921\"]], \"type\": \"heatmapgl\"}], \"histogram\": [{\"marker\": {\"colorbar\": {\"outlinewidth\": 0, \"ticks\": \"\"}}, \"type\": \"histogram\"}], \"histogram2d\": [{\"colorbar\": {\"outlinewidth\": 0, \"ticks\": \"\"}, \"colorscale\": [[0.0, \"#0d0887\"], [0.1111111111111111, \"#46039f\"], [0.2222222222222222, \"#7201a8\"], [0.3333333333333333, \"#9c179e\"], [0.4444444444444444, \"#bd3786\"], [0.5555555555555556, \"#d8576b\"], [0.6666666666666666, \"#ed7953\"], [0.7777777777777778, \"#fb9f3a\"], [0.8888888888888888, \"#fdca26\"], [1.0, \"#f0f921\"]], \"type\": \"histogram2d\"}], \"histogram2dcontour\": [{\"colorbar\": {\"outlinewidth\": 0, \"ticks\": \"\"}, \"colorscale\": [[0.0, \"#0d0887\"], [0.1111111111111111, \"#46039f\"], [0.2222222222222222, \"#7201a8\"], [0.3333333333333333, \"#9c179e\"], [0.4444444444444444, \"#bd3786\"], [0.5555555555555556, \"#d8576b\"], [0.6666666666666666, \"#ed7953\"], [0.7777777777777778, \"#fb9f3a\"], [0.8888888888888888, \"#fdca26\"], [1.0, \"#f0f921\"]], \"type\": \"histogram2dcontour\"}], \"mesh3d\": [{\"colorbar\": {\"outlinewidth\": 0, \"ticks\": \"\"}, \"type\": \"mesh3d\"}], \"parcoords\": [{\"line\": {\"colorbar\": {\"outlinewidth\": 0, \"ticks\": \"\"}}, \"type\": \"parcoords\"}], \"pie\": [{\"automargin\": true, \"type\": \"pie\"}], \"scatter\": [{\"marker\": {\"colorbar\": {\"outlinewidth\": 0, \"ticks\": \"\"}}, \"type\": \"scatter\"}], \"scatter3d\": [{\"line\": {\"colorbar\": {\"outlinewidth\": 0, \"ticks\": \"\"}}, \"marker\": {\"colorbar\": {\"outlinewidth\": 0, \"ticks\": \"\"}}, \"type\": \"scatter3d\"}], \"scattercarpet\": [{\"marker\": {\"colorbar\": {\"outlinewidth\": 0, \"ticks\": \"\"}}, \"type\": \"scattercarpet\"}], \"scattergeo\": [{\"marker\": {\"colorbar\": {\"outlinewidth\": 0, \"ticks\": \"\"}}, \"type\": \"scattergeo\"}], \"scattergl\": [{\"marker\": {\"colorbar\": {\"outlinewidth\": 0, \"ticks\": \"\"}}, \"type\": \"scattergl\"}], \"scattermapbox\": [{\"marker\": {\"colorbar\": {\"outlinewidth\": 0, \"ticks\": \"\"}}, \"type\": \"scattermapbox\"}], \"scatterpolar\": [{\"marker\": {\"colorbar\": {\"outlinewidth\": 0, \"ticks\": \"\"}}, \"type\": \"scatterpolar\"}], \"scatterpolargl\": [{\"marker\": {\"colorbar\": {\"outlinewidth\": 0, \"ticks\": \"\"}}, \"type\": \"scatterpolargl\"}], \"scatterternary\": [{\"marker\": {\"colorbar\": {\"outlinewidth\": 0, \"ticks\": \"\"}}, \"type\": \"scatterternary\"}], \"surface\": [{\"colorbar\": {\"outlinewidth\": 0, \"ticks\": \"\"}, \"colorscale\": [[0.0, \"#0d0887\"], [0.1111111111111111, \"#46039f\"], [0.2222222222222222, \"#7201a8\"], [0.3333333333333333, \"#9c179e\"], [0.4444444444444444, \"#bd3786\"], [0.5555555555555556, \"#d8576b\"], [0.6666666666666666, \"#ed7953\"], [0.7777777777777778, \"#fb9f3a\"], [0.8888888888888888, \"#fdca26\"], [1.0, \"#f0f921\"]], \"type\": \"surface\"}], \"table\": [{\"cells\": {\"fill\": {\"color\": \"#EBF0F8\"}, \"line\": {\"color\": \"white\"}}, \"header\": {\"fill\": {\"color\": \"#C8D4E3\"}, \"line\": {\"color\": \"white\"}}, \"type\": \"table\"}]}, \"layout\": {\"annotationdefaults\": {\"arrowcolor\": \"#2a3f5f\", \"arrowhead\": 0, \"arrowwidth\": 1}, \"coloraxis\": {\"colorbar\": {\"outlinewidth\": 0, \"ticks\": \"\"}}, \"colorscale\": {\"diverging\": [[0, \"#8e0152\"], [0.1, \"#c51b7d\"], [0.2, \"#de77ae\"], [0.3, \"#f1b6da\"], [0.4, \"#fde0ef\"], [0.5, \"#f7f7f7\"], [0.6, \"#e6f5d0\"], [0.7, \"#b8e186\"], [0.8, \"#7fbc41\"], [0.9, \"#4d9221\"], [1, \"#276419\"]], \"sequential\": [[0.0, \"#0d0887\"], [0.1111111111111111, \"#46039f\"], [0.2222222222222222, \"#7201a8\"], [0.3333333333333333, \"#9c179e\"], [0.4444444444444444, \"#bd3786\"], [0.5555555555555556, \"#d8576b\"], [0.6666666666666666, \"#ed7953\"], [0.7777777777777778, \"#fb9f3a\"], [0.8888888888888888, \"#fdca26\"], [1.0, \"#f0f921\"]], \"sequentialminus\": [[0.0, \"#0d0887\"], [0.1111111111111111, \"#46039f\"], [0.2222222222222222, \"#7201a8\"], [0.3333333333333333, \"#9c179e\"], [0.4444444444444444, \"#bd3786\"], [0.5555555555555556, \"#d8576b\"], [0.6666666666666666, \"#ed7953\"], [0.7777777777777778, \"#fb9f3a\"], [0.8888888888888888, \"#fdca26\"], [1.0, \"#f0f921\"]]}, \"colorway\": [\"#636efa\", \"#EF553B\", \"#00cc96\", \"#ab63fa\", \"#FFA15A\", \"#19d3f3\", \"#FF6692\", \"#B6E880\", \"#FF97FF\", \"#FECB52\"], \"font\": {\"color\": \"#2a3f5f\"}, \"geo\": {\"bgcolor\": \"white\", \"lakecolor\": \"white\", \"landcolor\": \"#E5ECF6\", \"showlakes\": true, \"showland\": true, \"subunitcolor\": \"white\"}, \"hoverlabel\": {\"align\": \"left\"}, \"hovermode\": \"closest\", \"mapbox\": {\"style\": \"light\"}, \"paper_bgcolor\": \"white\", \"plot_bgcolor\": \"#E5ECF6\", \"polar\": {\"angularaxis\": {\"gridcolor\": \"white\", \"linecolor\": \"white\", \"ticks\": \"\"}, \"bgcolor\": \"#E5ECF6\", \"radialaxis\": {\"gridcolor\": \"white\", \"linecolor\": \"white\", \"ticks\": \"\"}}, \"scene\": {\"xaxis\": {\"backgroundcolor\": \"#E5ECF6\", \"gridcolor\": \"white\", \"gridwidth\": 2, \"linecolor\": \"white\", \"showbackground\": true, \"ticks\": \"\", \"zerolinecolor\": \"white\"}, \"yaxis\": {\"backgroundcolor\": \"#E5ECF6\", \"gridcolor\": \"white\", \"gridwidth\": 2, \"linecolor\": \"white\", \"showbackground\": true, \"ticks\": \"\", \"zerolinecolor\": \"white\"}, \"zaxis\": {\"backgroundcolor\": \"#E5ECF6\", \"gridcolor\": \"white\", \"gridwidth\": 2, \"linecolor\": \"white\", \"showbackground\": true, \"ticks\": \"\", \"zerolinecolor\": \"white\"}}, \"shapedefaults\": {\"line\": {\"color\": \"#2a3f5f\"}}, \"ternary\": {\"aaxis\": {\"gridcolor\": \"white\", \"linecolor\": \"white\", \"ticks\": \"\"}, \"baxis\": {\"gridcolor\": \"white\", \"linecolor\": \"white\", \"ticks\": \"\"}, \"bgcolor\": \"#E5ECF6\", \"caxis\": {\"gridcolor\": \"white\", \"linecolor\": \"white\", \"ticks\": \"\"}}, \"title\": {\"x\": 0.05}, \"xaxis\": {\"automargin\": true, \"gridcolor\": \"white\", \"linecolor\": \"white\", \"ticks\": \"\", \"title\": {\"standoff\": 15}, \"zerolinecolor\": \"white\", \"zerolinewidth\": 2}, \"yaxis\": {\"automargin\": true, \"gridcolor\": \"white\", \"linecolor\": \"white\", \"ticks\": \"\", \"title\": {\"standoff\": 15}, \"zerolinecolor\": \"white\", \"zerolinewidth\": 2}}}, \"title\": {\"text\": \"Obtained Score Percentage vs Hours-Studied\\n (visual comparison for correctness after Train-Test Split)\", \"x\": 0.5}, \"xaxis\": {\"linecolor\": \"black\", \"linewidth\": 2, \"mirror\": true, \"showline\": true, \"title\": {\"text\": \"Number of Hours Studied\"}}, \"yaxis\": {\"linecolor\": \"black\", \"linewidth\": 2, \"mirror\": true, \"showline\": true, \"title\": {\"text\": \"Obtained Percentage Score\"}}},\n",
              "                        {\"responsive\": true}\n",
              "                    ).then(function(){\n",
              "                            \n",
              "var gd = document.getElementById('6cf84579-98a7-4e71-b85f-79394e425d7d');\n",
              "var x = new MutationObserver(function (mutations, observer) {{\n",
              "        var display = window.getComputedStyle(gd).display;\n",
              "        if (!display || display === 'none') {{\n",
              "            console.log([gd, 'removed!']);\n",
              "            Plotly.purge(gd);\n",
              "            observer.disconnect();\n",
              "        }}\n",
              "}});\n",
              "\n",
              "// Listen for the removal of the full notebook cells\n",
              "var notebookContainer = gd.closest('#notebook-container');\n",
              "if (notebookContainer) {{\n",
              "    x.observe(notebookContainer, {childList: true});\n",
              "}}\n",
              "\n",
              "// Listen for the clearing of the current output cell\n",
              "var outputEl = gd.closest('.output');\n",
              "if (outputEl) {{\n",
              "    x.observe(outputEl, {childList: true});\n",
              "}}\n",
              "\n",
              "                        })\n",
              "                };\n",
              "                \n",
              "            </script>\n",
              "        </div>\n",
              "</body>\n",
              "</html>"
            ]
          },
          "metadata": {}
        },
        {
          "output_type": "display_data",
          "data": {
            "text/html": [
              "<html>\n",
              "<head><meta charset=\"utf-8\" /></head>\n",
              "<body>\n",
              "    <div>\n",
              "            <script src=\"https://cdnjs.cloudflare.com/ajax/libs/mathjax/2.7.5/MathJax.js?config=TeX-AMS-MML_SVG\"></script><script type=\"text/javascript\">if (window.MathJax) {MathJax.Hub.Config({SVG: {font: \"STIX-Web\"}});}</script>\n",
              "                <script type=\"text/javascript\">window.PlotlyConfig = {MathJaxConfig: 'local'};</script>\n",
              "        <script src=\"https://cdn.plot.ly/plotly-latest.min.js\"></script>    \n",
              "            <div id=\"643d3506-fe4c-4363-b958-42d4be584d5d\" class=\"plotly-graph-div\" style=\"height:525px; width:100%;\"></div>\n",
              "            <script type=\"text/javascript\">\n",
              "                \n",
              "                    window.PLOTLYENV=window.PLOTLYENV || {};\n",
              "                    \n",
              "                if (document.getElementById(\"643d3506-fe4c-4363-b958-42d4be584d5d\")) {\n",
              "                    Plotly.newPlot(\n",
              "                        '643d3506-fe4c-4363-b958-42d4be584d5d',\n",
              "                        [{\"marker\": {\"color\": \"rgba(152, 0, 0, .8)\"}, \"mode\": \"markers\", \"name\": \"train\", \"type\": \"scatter\", \"x\": [7.7, 7.8, 1.5, 3.5, 9.2, 8.3, 1.1, 3.3, 8.5, 5.9, 2.7, 7.4, 3.8, 6.1, 2.5, 3.2, 6.9, 8.9, 4.8, 2.7], \"y\": [21, 47, 27, 75, 30, 20, 88, 60, 81, 25, 85, 62, 41, 42, 17, 95, 30, 24, 67, 69, 30, 54, 35, 76, 86]}, {\"marker\": {\"color\": \"rgba(0, 152, 0, .8)\"}, \"mode\": \"lines+markers\", \"name\": \"prediction\", \"type\": \"scatter\", \"x\": [7.7, 7.8, 1.5, 3.5, 9.2, 8.3, 1.1, 3.3, 8.5, 5.9, 2.7, 7.4, 3.8, 6.1, 2.5, 3.2, 6.9, 8.9, 4.8, 2.7], \"y\": [59.38802866931739, 60.14420946173935, 12.504819539156166, 27.628435387595275, 70.73074055564672, 63.92511342384914, 9.480096369468345, 26.116073802751362, 65.43747500869304, 45.77677440572221, 21.578989048219633, 57.11948629205153, 29.896977764861138, 47.28913599056611, 20.06662746337572, 25.359893010329408, 53.33858232994176, 68.46219817838086, 37.458785689080685, 21.578989048219633]}],\n",
              "                        {\"font\": {\"color\": \"RebeccaPurple\", \"family\": \"TeX Gyre Pagella\", \"size\": 14}, \"template\": {\"data\": {\"bar\": [{\"error_x\": {\"color\": \"#2a3f5f\"}, \"error_y\": {\"color\": \"#2a3f5f\"}, \"marker\": {\"line\": {\"color\": \"#E5ECF6\", \"width\": 0.5}}, \"type\": \"bar\"}], \"barpolar\": [{\"marker\": {\"line\": {\"color\": \"#E5ECF6\", \"width\": 0.5}}, \"type\": \"barpolar\"}], \"carpet\": [{\"aaxis\": {\"endlinecolor\": \"#2a3f5f\", \"gridcolor\": \"white\", \"linecolor\": \"white\", \"minorgridcolor\": \"white\", \"startlinecolor\": \"#2a3f5f\"}, \"baxis\": {\"endlinecolor\": \"#2a3f5f\", \"gridcolor\": \"white\", \"linecolor\": \"white\", \"minorgridcolor\": \"white\", \"startlinecolor\": \"#2a3f5f\"}, \"type\": \"carpet\"}], \"choropleth\": [{\"colorbar\": {\"outlinewidth\": 0, \"ticks\": \"\"}, \"type\": \"choropleth\"}], \"contour\": [{\"colorbar\": {\"outlinewidth\": 0, \"ticks\": \"\"}, \"colorscale\": [[0.0, \"#0d0887\"], [0.1111111111111111, \"#46039f\"], [0.2222222222222222, \"#7201a8\"], [0.3333333333333333, \"#9c179e\"], [0.4444444444444444, \"#bd3786\"], [0.5555555555555556, \"#d8576b\"], [0.6666666666666666, \"#ed7953\"], [0.7777777777777778, \"#fb9f3a\"], [0.8888888888888888, \"#fdca26\"], [1.0, \"#f0f921\"]], \"type\": \"contour\"}], \"contourcarpet\": [{\"colorbar\": {\"outlinewidth\": 0, \"ticks\": \"\"}, \"type\": \"contourcarpet\"}], \"heatmap\": [{\"colorbar\": {\"outlinewidth\": 0, \"ticks\": \"\"}, \"colorscale\": [[0.0, \"#0d0887\"], [0.1111111111111111, \"#46039f\"], [0.2222222222222222, \"#7201a8\"], [0.3333333333333333, \"#9c179e\"], [0.4444444444444444, \"#bd3786\"], [0.5555555555555556, \"#d8576b\"], [0.6666666666666666, \"#ed7953\"], [0.7777777777777778, \"#fb9f3a\"], [0.8888888888888888, \"#fdca26\"], [1.0, \"#f0f921\"]], \"type\": \"heatmap\"}], \"heatmapgl\": [{\"colorbar\": {\"outlinewidth\": 0, \"ticks\": \"\"}, \"colorscale\": [[0.0, \"#0d0887\"], [0.1111111111111111, \"#46039f\"], [0.2222222222222222, \"#7201a8\"], [0.3333333333333333, \"#9c179e\"], [0.4444444444444444, \"#bd3786\"], [0.5555555555555556, \"#d8576b\"], [0.6666666666666666, \"#ed7953\"], [0.7777777777777778, \"#fb9f3a\"], [0.8888888888888888, \"#fdca26\"], [1.0, \"#f0f921\"]], \"type\": \"heatmapgl\"}], \"histogram\": [{\"marker\": {\"colorbar\": {\"outlinewidth\": 0, \"ticks\": \"\"}}, \"type\": \"histogram\"}], \"histogram2d\": [{\"colorbar\": {\"outlinewidth\": 0, \"ticks\": \"\"}, \"colorscale\": [[0.0, \"#0d0887\"], [0.1111111111111111, \"#46039f\"], [0.2222222222222222, \"#7201a8\"], [0.3333333333333333, \"#9c179e\"], [0.4444444444444444, \"#bd3786\"], [0.5555555555555556, \"#d8576b\"], [0.6666666666666666, \"#ed7953\"], [0.7777777777777778, \"#fb9f3a\"], [0.8888888888888888, \"#fdca26\"], [1.0, \"#f0f921\"]], \"type\": \"histogram2d\"}], \"histogram2dcontour\": [{\"colorbar\": {\"outlinewidth\": 0, \"ticks\": \"\"}, \"colorscale\": [[0.0, \"#0d0887\"], [0.1111111111111111, \"#46039f\"], [0.2222222222222222, \"#7201a8\"], [0.3333333333333333, \"#9c179e\"], [0.4444444444444444, \"#bd3786\"], [0.5555555555555556, \"#d8576b\"], [0.6666666666666666, \"#ed7953\"], [0.7777777777777778, \"#fb9f3a\"], [0.8888888888888888, \"#fdca26\"], [1.0, \"#f0f921\"]], \"type\": \"histogram2dcontour\"}], \"mesh3d\": [{\"colorbar\": {\"outlinewidth\": 0, \"ticks\": \"\"}, \"type\": \"mesh3d\"}], \"parcoords\": [{\"line\": {\"colorbar\": {\"outlinewidth\": 0, \"ticks\": \"\"}}, \"type\": \"parcoords\"}], \"pie\": [{\"automargin\": true, \"type\": \"pie\"}], \"scatter\": [{\"marker\": {\"colorbar\": {\"outlinewidth\": 0, \"ticks\": \"\"}}, \"type\": \"scatter\"}], \"scatter3d\": [{\"line\": {\"colorbar\": {\"outlinewidth\": 0, \"ticks\": \"\"}}, \"marker\": {\"colorbar\": {\"outlinewidth\": 0, \"ticks\": \"\"}}, \"type\": \"scatter3d\"}], \"scattercarpet\": [{\"marker\": {\"colorbar\": {\"outlinewidth\": 0, \"ticks\": \"\"}}, \"type\": \"scattercarpet\"}], \"scattergeo\": [{\"marker\": {\"colorbar\": {\"outlinewidth\": 0, \"ticks\": \"\"}}, \"type\": \"scattergeo\"}], \"scattergl\": [{\"marker\": {\"colorbar\": {\"outlinewidth\": 0, \"ticks\": \"\"}}, \"type\": \"scattergl\"}], \"scattermapbox\": [{\"marker\": {\"colorbar\": {\"outlinewidth\": 0, \"ticks\": \"\"}}, \"type\": \"scattermapbox\"}], \"scatterpolar\": [{\"marker\": {\"colorbar\": {\"outlinewidth\": 0, \"ticks\": \"\"}}, \"type\": \"scatterpolar\"}], \"scatterpolargl\": [{\"marker\": {\"colorbar\": {\"outlinewidth\": 0, \"ticks\": \"\"}}, \"type\": \"scatterpolargl\"}], \"scatterternary\": [{\"marker\": {\"colorbar\": {\"outlinewidth\": 0, \"ticks\": \"\"}}, \"type\": \"scatterternary\"}], \"surface\": [{\"colorbar\": {\"outlinewidth\": 0, \"ticks\": \"\"}, \"colorscale\": [[0.0, \"#0d0887\"], [0.1111111111111111, \"#46039f\"], [0.2222222222222222, \"#7201a8\"], [0.3333333333333333, \"#9c179e\"], [0.4444444444444444, \"#bd3786\"], [0.5555555555555556, \"#d8576b\"], [0.6666666666666666, \"#ed7953\"], [0.7777777777777778, \"#fb9f3a\"], [0.8888888888888888, \"#fdca26\"], [1.0, \"#f0f921\"]], \"type\": \"surface\"}], \"table\": [{\"cells\": {\"fill\": {\"color\": \"#EBF0F8\"}, \"line\": {\"color\": \"white\"}}, \"header\": {\"fill\": {\"color\": \"#C8D4E3\"}, \"line\": {\"color\": \"white\"}}, \"type\": \"table\"}]}, \"layout\": {\"annotationdefaults\": {\"arrowcolor\": \"#2a3f5f\", \"arrowhead\": 0, \"arrowwidth\": 1}, \"coloraxis\": {\"colorbar\": {\"outlinewidth\": 0, \"ticks\": \"\"}}, \"colorscale\": {\"diverging\": [[0, \"#8e0152\"], [0.1, \"#c51b7d\"], [0.2, \"#de77ae\"], [0.3, \"#f1b6da\"], [0.4, \"#fde0ef\"], [0.5, \"#f7f7f7\"], [0.6, \"#e6f5d0\"], [0.7, \"#b8e186\"], [0.8, \"#7fbc41\"], [0.9, \"#4d9221\"], [1, \"#276419\"]], \"sequential\": [[0.0, \"#0d0887\"], [0.1111111111111111, \"#46039f\"], [0.2222222222222222, \"#7201a8\"], [0.3333333333333333, \"#9c179e\"], [0.4444444444444444, \"#bd3786\"], [0.5555555555555556, \"#d8576b\"], [0.6666666666666666, \"#ed7953\"], [0.7777777777777778, \"#fb9f3a\"], [0.8888888888888888, \"#fdca26\"], [1.0, \"#f0f921\"]], \"sequentialminus\": [[0.0, \"#0d0887\"], [0.1111111111111111, \"#46039f\"], [0.2222222222222222, \"#7201a8\"], [0.3333333333333333, \"#9c179e\"], [0.4444444444444444, \"#bd3786\"], [0.5555555555555556, \"#d8576b\"], [0.6666666666666666, \"#ed7953\"], [0.7777777777777778, \"#fb9f3a\"], [0.8888888888888888, \"#fdca26\"], [1.0, \"#f0f921\"]]}, \"colorway\": [\"#636efa\", \"#EF553B\", \"#00cc96\", \"#ab63fa\", \"#FFA15A\", \"#19d3f3\", \"#FF6692\", \"#B6E880\", \"#FF97FF\", \"#FECB52\"], \"font\": {\"color\": \"#2a3f5f\"}, \"geo\": {\"bgcolor\": \"white\", \"lakecolor\": \"white\", \"landcolor\": \"#E5ECF6\", \"showlakes\": true, \"showland\": true, \"subunitcolor\": \"white\"}, \"hoverlabel\": {\"align\": \"left\"}, \"hovermode\": \"closest\", \"mapbox\": {\"style\": \"light\"}, \"paper_bgcolor\": \"white\", \"plot_bgcolor\": \"#E5ECF6\", \"polar\": {\"angularaxis\": {\"gridcolor\": \"white\", \"linecolor\": \"white\", \"ticks\": \"\"}, \"bgcolor\": \"#E5ECF6\", \"radialaxis\": {\"gridcolor\": \"white\", \"linecolor\": \"white\", \"ticks\": \"\"}}, \"scene\": {\"xaxis\": {\"backgroundcolor\": \"#E5ECF6\", \"gridcolor\": \"white\", \"gridwidth\": 2, \"linecolor\": \"white\", \"showbackground\": true, \"ticks\": \"\", \"zerolinecolor\": \"white\"}, \"yaxis\": {\"backgroundcolor\": \"#E5ECF6\", \"gridcolor\": \"white\", \"gridwidth\": 2, \"linecolor\": \"white\", \"showbackground\": true, \"ticks\": \"\", \"zerolinecolor\": \"white\"}, \"zaxis\": {\"backgroundcolor\": \"#E5ECF6\", \"gridcolor\": \"white\", \"gridwidth\": 2, \"linecolor\": \"white\", \"showbackground\": true, \"ticks\": \"\", \"zerolinecolor\": \"white\"}}, \"shapedefaults\": {\"line\": {\"color\": \"#2a3f5f\"}}, \"ternary\": {\"aaxis\": {\"gridcolor\": \"white\", \"linecolor\": \"white\", \"ticks\": \"\"}, \"baxis\": {\"gridcolor\": \"white\", \"linecolor\": \"white\", \"ticks\": \"\"}, \"bgcolor\": \"#E5ECF6\", \"caxis\": {\"gridcolor\": \"white\", \"linecolor\": \"white\", \"ticks\": \"\"}}, \"title\": {\"x\": 0.05}, \"xaxis\": {\"automargin\": true, \"gridcolor\": \"white\", \"linecolor\": \"white\", \"ticks\": \"\", \"title\": {\"standoff\": 15}, \"zerolinecolor\": \"white\", \"zerolinewidth\": 2}, \"yaxis\": {\"automargin\": true, \"gridcolor\": \"white\", \"linecolor\": \"white\", \"ticks\": \"\", \"title\": {\"standoff\": 15}, \"zerolinecolor\": \"white\", \"zerolinewidth\": 2}}}, \"title\": {\"text\": \"Obtained Score Percentage vs Hours-Studied\\n (visual comparison for correctness after Train-Test Split)\", \"x\": 0.5}, \"xaxis\": {\"linecolor\": \"black\", \"linewidth\": 2, \"mirror\": true, \"showline\": true, \"title\": {\"text\": \"Number of Hours Studied\"}}, \"yaxis\": {\"linecolor\": \"black\", \"linewidth\": 2, \"mirror\": true, \"showline\": true, \"title\": {\"text\": \"Obtained Percentage Score\"}}},\n",
              "                        {\"responsive\": true}\n",
              "                    ).then(function(){\n",
              "                            \n",
              "var gd = document.getElementById('643d3506-fe4c-4363-b958-42d4be584d5d');\n",
              "var x = new MutationObserver(function (mutations, observer) {{\n",
              "        var display = window.getComputedStyle(gd).display;\n",
              "        if (!display || display === 'none') {{\n",
              "            console.log([gd, 'removed!']);\n",
              "            Plotly.purge(gd);\n",
              "            observer.disconnect();\n",
              "        }}\n",
              "}});\n",
              "\n",
              "// Listen for the removal of the full notebook cells\n",
              "var notebookContainer = gd.closest('#notebook-container');\n",
              "if (notebookContainer) {{\n",
              "    x.observe(notebookContainer, {childList: true});\n",
              "}}\n",
              "\n",
              "// Listen for the clearing of the current output cell\n",
              "var outputEl = gd.closest('.output');\n",
              "if (outputEl) {{\n",
              "    x.observe(outputEl, {childList: true});\n",
              "}}\n",
              "\n",
              "                        })\n",
              "                };\n",
              "                \n",
              "            </script>\n",
              "        </div>\n",
              "</body>\n",
              "</html>"
            ]
          },
          "metadata": {}
        },
        {
          "output_type": "display_data",
          "data": {
            "text/html": [
              "<html>\n",
              "<head><meta charset=\"utf-8\" /></head>\n",
              "<body>\n",
              "    <div>\n",
              "            <script src=\"https://cdnjs.cloudflare.com/ajax/libs/mathjax/2.7.5/MathJax.js?config=TeX-AMS-MML_SVG\"></script><script type=\"text/javascript\">if (window.MathJax) {MathJax.Hub.Config({SVG: {font: \"STIX-Web\"}});}</script>\n",
              "                <script type=\"text/javascript\">window.PlotlyConfig = {MathJaxConfig: 'local'};</script>\n",
              "        <script src=\"https://cdn.plot.ly/plotly-latest.min.js\"></script>    \n",
              "            <div id=\"0e60484c-40ca-48d7-a8bb-ac2fd19491a9\" class=\"plotly-graph-div\" style=\"height:525px; width:100%;\"></div>\n",
              "            <script type=\"text/javascript\">\n",
              "                \n",
              "                    window.PLOTLYENV=window.PLOTLYENV || {};\n",
              "                    \n",
              "                if (document.getElementById(\"0e60484c-40ca-48d7-a8bb-ac2fd19491a9\")) {\n",
              "                    Plotly.newPlot(\n",
              "                        '0e60484c-40ca-48d7-a8bb-ac2fd19491a9',\n",
              "                        [{\"marker\": {\"color\": \"rgba(152, 0, 0, .8)\"}, \"mode\": \"markers\", \"name\": \"train\", \"type\": \"scatter\", \"x\": [7.7, 7.8, 1.5, 3.5, 9.2, 8.3, 1.1, 3.3, 8.5, 5.9, 2.7, 7.4, 3.8, 6.1, 2.5, 3.2, 6.9, 8.9, 4.8, 2.7], \"y\": [21, 47, 27, 75, 30, 20, 88, 60, 81, 25, 85, 62, 41, 42, 17, 95, 30, 24, 67, 69, 30, 54, 35, 76, 86]}, {\"marker\": {\"color\": \"rgba(0, 152, 0, .8)\"}, \"mode\": \"lines+markers\", \"name\": \"prediction\", \"type\": \"scatter\", \"x\": [7.7, 7.8, 1.5, 3.5, 9.2, 8.3, 1.1, 3.3, 8.5, 5.9, 2.7, 7.4, 3.8, 6.1, 2.5, 3.2, 6.9, 8.9, 4.8, 2.7], \"y\": [68.93234285234746, 69.8100328702228, 14.515561744076159, 32.069362101583025, 82.0976931204776, 74.19848295959953, 11.004801672574787, 30.31398206583234, 75.9538629953502, 53.13392253059127, 25.047841958580282, 66.29927279872143, 34.70243215520905, 54.889302566341954, 23.292461922829595, 29.436292047957, 61.91082270934471, 79.46462306685159, 43.47933233396249, 25.047841958580282]}],\n",
              "                        {\"font\": {\"color\": \"RebeccaPurple\", \"family\": \"TeX Gyre Pagella\", \"size\": 14}, \"template\": {\"data\": {\"bar\": [{\"error_x\": {\"color\": \"#2a3f5f\"}, \"error_y\": {\"color\": \"#2a3f5f\"}, \"marker\": {\"line\": {\"color\": \"#E5ECF6\", \"width\": 0.5}}, \"type\": \"bar\"}], \"barpolar\": [{\"marker\": {\"line\": {\"color\": \"#E5ECF6\", \"width\": 0.5}}, \"type\": \"barpolar\"}], \"carpet\": [{\"aaxis\": {\"endlinecolor\": \"#2a3f5f\", \"gridcolor\": \"white\", \"linecolor\": \"white\", \"minorgridcolor\": \"white\", \"startlinecolor\": \"#2a3f5f\"}, \"baxis\": {\"endlinecolor\": \"#2a3f5f\", \"gridcolor\": \"white\", \"linecolor\": \"white\", \"minorgridcolor\": \"white\", \"startlinecolor\": \"#2a3f5f\"}, \"type\": \"carpet\"}], \"choropleth\": [{\"colorbar\": {\"outlinewidth\": 0, \"ticks\": \"\"}, \"type\": \"choropleth\"}], \"contour\": [{\"colorbar\": {\"outlinewidth\": 0, \"ticks\": \"\"}, \"colorscale\": [[0.0, \"#0d0887\"], [0.1111111111111111, \"#46039f\"], [0.2222222222222222, \"#7201a8\"], [0.3333333333333333, \"#9c179e\"], [0.4444444444444444, \"#bd3786\"], [0.5555555555555556, \"#d8576b\"], [0.6666666666666666, \"#ed7953\"], [0.7777777777777778, \"#fb9f3a\"], [0.8888888888888888, \"#fdca26\"], [1.0, \"#f0f921\"]], \"type\": \"contour\"}], \"contourcarpet\": [{\"colorbar\": {\"outlinewidth\": 0, \"ticks\": \"\"}, \"type\": \"contourcarpet\"}], \"heatmap\": [{\"colorbar\": {\"outlinewidth\": 0, \"ticks\": \"\"}, \"colorscale\": [[0.0, \"#0d0887\"], [0.1111111111111111, \"#46039f\"], [0.2222222222222222, \"#7201a8\"], [0.3333333333333333, \"#9c179e\"], [0.4444444444444444, \"#bd3786\"], [0.5555555555555556, \"#d8576b\"], [0.6666666666666666, \"#ed7953\"], [0.7777777777777778, \"#fb9f3a\"], [0.8888888888888888, \"#fdca26\"], [1.0, \"#f0f921\"]], \"type\": \"heatmap\"}], \"heatmapgl\": [{\"colorbar\": {\"outlinewidth\": 0, \"ticks\": \"\"}, \"colorscale\": [[0.0, \"#0d0887\"], [0.1111111111111111, \"#46039f\"], [0.2222222222222222, \"#7201a8\"], [0.3333333333333333, \"#9c179e\"], [0.4444444444444444, \"#bd3786\"], [0.5555555555555556, \"#d8576b\"], [0.6666666666666666, \"#ed7953\"], [0.7777777777777778, \"#fb9f3a\"], [0.8888888888888888, \"#fdca26\"], [1.0, \"#f0f921\"]], \"type\": \"heatmapgl\"}], \"histogram\": [{\"marker\": {\"colorbar\": {\"outlinewidth\": 0, \"ticks\": \"\"}}, \"type\": \"histogram\"}], \"histogram2d\": [{\"colorbar\": {\"outlinewidth\": 0, \"ticks\": \"\"}, \"colorscale\": [[0.0, \"#0d0887\"], [0.1111111111111111, \"#46039f\"], [0.2222222222222222, \"#7201a8\"], [0.3333333333333333, \"#9c179e\"], [0.4444444444444444, \"#bd3786\"], [0.5555555555555556, \"#d8576b\"], [0.6666666666666666, \"#ed7953\"], [0.7777777777777778, \"#fb9f3a\"], [0.8888888888888888, \"#fdca26\"], [1.0, \"#f0f921\"]], \"type\": \"histogram2d\"}], \"histogram2dcontour\": [{\"colorbar\": {\"outlinewidth\": 0, \"ticks\": \"\"}, \"colorscale\": [[0.0, \"#0d0887\"], [0.1111111111111111, \"#46039f\"], [0.2222222222222222, \"#7201a8\"], [0.3333333333333333, \"#9c179e\"], [0.4444444444444444, \"#bd3786\"], [0.5555555555555556, \"#d8576b\"], [0.6666666666666666, \"#ed7953\"], [0.7777777777777778, \"#fb9f3a\"], [0.8888888888888888, \"#fdca26\"], [1.0, \"#f0f921\"]], \"type\": \"histogram2dcontour\"}], \"mesh3d\": [{\"colorbar\": {\"outlinewidth\": 0, \"ticks\": \"\"}, \"type\": \"mesh3d\"}], \"parcoords\": [{\"line\": {\"colorbar\": {\"outlinewidth\": 0, \"ticks\": \"\"}}, \"type\": \"parcoords\"}], \"pie\": [{\"automargin\": true, \"type\": \"pie\"}], \"scatter\": [{\"marker\": {\"colorbar\": {\"outlinewidth\": 0, \"ticks\": \"\"}}, \"type\": \"scatter\"}], \"scatter3d\": [{\"line\": {\"colorbar\": {\"outlinewidth\": 0, \"ticks\": \"\"}}, \"marker\": {\"colorbar\": {\"outlinewidth\": 0, \"ticks\": \"\"}}, \"type\": \"scatter3d\"}], \"scattercarpet\": [{\"marker\": {\"colorbar\": {\"outlinewidth\": 0, \"ticks\": \"\"}}, \"type\": \"scattercarpet\"}], \"scattergeo\": [{\"marker\": {\"colorbar\": {\"outlinewidth\": 0, \"ticks\": \"\"}}, \"type\": \"scattergeo\"}], \"scattergl\": [{\"marker\": {\"colorbar\": {\"outlinewidth\": 0, \"ticks\": \"\"}}, \"type\": \"scattergl\"}], \"scattermapbox\": [{\"marker\": {\"colorbar\": {\"outlinewidth\": 0, \"ticks\": \"\"}}, \"type\": \"scattermapbox\"}], \"scatterpolar\": [{\"marker\": {\"colorbar\": {\"outlinewidth\": 0, \"ticks\": \"\"}}, \"type\": \"scatterpolar\"}], \"scatterpolargl\": [{\"marker\": {\"colorbar\": {\"outlinewidth\": 0, \"ticks\": \"\"}}, \"type\": \"scatterpolargl\"}], \"scatterternary\": [{\"marker\": {\"colorbar\": {\"outlinewidth\": 0, \"ticks\": \"\"}}, \"type\": \"scatterternary\"}], \"surface\": [{\"colorbar\": {\"outlinewidth\": 0, \"ticks\": \"\"}, \"colorscale\": [[0.0, \"#0d0887\"], [0.1111111111111111, \"#46039f\"], [0.2222222222222222, \"#7201a8\"], [0.3333333333333333, \"#9c179e\"], [0.4444444444444444, \"#bd3786\"], [0.5555555555555556, \"#d8576b\"], [0.6666666666666666, \"#ed7953\"], [0.7777777777777778, \"#fb9f3a\"], [0.8888888888888888, \"#fdca26\"], [1.0, \"#f0f921\"]], \"type\": \"surface\"}], \"table\": [{\"cells\": {\"fill\": {\"color\": \"#EBF0F8\"}, \"line\": {\"color\": \"white\"}}, \"header\": {\"fill\": {\"color\": \"#C8D4E3\"}, \"line\": {\"color\": \"white\"}}, \"type\": \"table\"}]}, \"layout\": {\"annotationdefaults\": {\"arrowcolor\": \"#2a3f5f\", \"arrowhead\": 0, \"arrowwidth\": 1}, \"coloraxis\": {\"colorbar\": {\"outlinewidth\": 0, \"ticks\": \"\"}}, \"colorscale\": {\"diverging\": [[0, \"#8e0152\"], [0.1, \"#c51b7d\"], [0.2, \"#de77ae\"], [0.3, \"#f1b6da\"], [0.4, \"#fde0ef\"], [0.5, \"#f7f7f7\"], [0.6, \"#e6f5d0\"], [0.7, \"#b8e186\"], [0.8, \"#7fbc41\"], [0.9, \"#4d9221\"], [1, \"#276419\"]], \"sequential\": [[0.0, \"#0d0887\"], [0.1111111111111111, \"#46039f\"], [0.2222222222222222, \"#7201a8\"], [0.3333333333333333, \"#9c179e\"], [0.4444444444444444, \"#bd3786\"], [0.5555555555555556, \"#d8576b\"], [0.6666666666666666, \"#ed7953\"], [0.7777777777777778, \"#fb9f3a\"], [0.8888888888888888, \"#fdca26\"], [1.0, \"#f0f921\"]], \"sequentialminus\": [[0.0, \"#0d0887\"], [0.1111111111111111, \"#46039f\"], [0.2222222222222222, \"#7201a8\"], [0.3333333333333333, \"#9c179e\"], [0.4444444444444444, \"#bd3786\"], [0.5555555555555556, \"#d8576b\"], [0.6666666666666666, \"#ed7953\"], [0.7777777777777778, \"#fb9f3a\"], [0.8888888888888888, \"#fdca26\"], [1.0, \"#f0f921\"]]}, \"colorway\": [\"#636efa\", \"#EF553B\", \"#00cc96\", \"#ab63fa\", \"#FFA15A\", \"#19d3f3\", \"#FF6692\", \"#B6E880\", \"#FF97FF\", \"#FECB52\"], \"font\": {\"color\": \"#2a3f5f\"}, \"geo\": {\"bgcolor\": \"white\", \"lakecolor\": \"white\", \"landcolor\": \"#E5ECF6\", \"showlakes\": true, \"showland\": true, \"subunitcolor\": \"white\"}, \"hoverlabel\": {\"align\": \"left\"}, \"hovermode\": \"closest\", \"mapbox\": {\"style\": \"light\"}, \"paper_bgcolor\": \"white\", \"plot_bgcolor\": \"#E5ECF6\", \"polar\": {\"angularaxis\": {\"gridcolor\": \"white\", \"linecolor\": \"white\", \"ticks\": \"\"}, \"bgcolor\": \"#E5ECF6\", \"radialaxis\": {\"gridcolor\": \"white\", \"linecolor\": \"white\", \"ticks\": \"\"}}, \"scene\": {\"xaxis\": {\"backgroundcolor\": \"#E5ECF6\", \"gridcolor\": \"white\", \"gridwidth\": 2, \"linecolor\": \"white\", \"showbackground\": true, \"ticks\": \"\", \"zerolinecolor\": \"white\"}, \"yaxis\": {\"backgroundcolor\": \"#E5ECF6\", \"gridcolor\": \"white\", \"gridwidth\": 2, \"linecolor\": \"white\", \"showbackground\": true, \"ticks\": \"\", \"zerolinecolor\": \"white\"}, \"zaxis\": {\"backgroundcolor\": \"#E5ECF6\", \"gridcolor\": \"white\", \"gridwidth\": 2, \"linecolor\": \"white\", \"showbackground\": true, \"ticks\": \"\", \"zerolinecolor\": \"white\"}}, \"shapedefaults\": {\"line\": {\"color\": \"#2a3f5f\"}}, \"ternary\": {\"aaxis\": {\"gridcolor\": \"white\", \"linecolor\": \"white\", \"ticks\": \"\"}, \"baxis\": {\"gridcolor\": \"white\", \"linecolor\": \"white\", \"ticks\": \"\"}, \"bgcolor\": \"#E5ECF6\", \"caxis\": {\"gridcolor\": \"white\", \"linecolor\": \"white\", \"ticks\": \"\"}}, \"title\": {\"x\": 0.05}, \"xaxis\": {\"automargin\": true, \"gridcolor\": \"white\", \"linecolor\": \"white\", \"ticks\": \"\", \"title\": {\"standoff\": 15}, \"zerolinecolor\": \"white\", \"zerolinewidth\": 2}, \"yaxis\": {\"automargin\": true, \"gridcolor\": \"white\", \"linecolor\": \"white\", \"ticks\": \"\", \"title\": {\"standoff\": 15}, \"zerolinecolor\": \"white\", \"zerolinewidth\": 2}}}, \"title\": {\"text\": \"Obtained Score Percentage vs Hours-Studied\\n (visual comparison for correctness after Train-Test Split)\", \"x\": 0.5}, \"xaxis\": {\"linecolor\": \"black\", \"linewidth\": 2, \"mirror\": true, \"showline\": true, \"title\": {\"text\": \"Number of Hours Studied\"}}, \"yaxis\": {\"linecolor\": \"black\", \"linewidth\": 2, \"mirror\": true, \"showline\": true, \"title\": {\"text\": \"Obtained Percentage Score\"}}},\n",
              "                        {\"responsive\": true}\n",
              "                    ).then(function(){\n",
              "                            \n",
              "var gd = document.getElementById('0e60484c-40ca-48d7-a8bb-ac2fd19491a9');\n",
              "var x = new MutationObserver(function (mutations, observer) {{\n",
              "        var display = window.getComputedStyle(gd).display;\n",
              "        if (!display || display === 'none') {{\n",
              "            console.log([gd, 'removed!']);\n",
              "            Plotly.purge(gd);\n",
              "            observer.disconnect();\n",
              "        }}\n",
              "}});\n",
              "\n",
              "// Listen for the removal of the full notebook cells\n",
              "var notebookContainer = gd.closest('#notebook-container');\n",
              "if (notebookContainer) {{\n",
              "    x.observe(notebookContainer, {childList: true});\n",
              "}}\n",
              "\n",
              "// Listen for the clearing of the current output cell\n",
              "var outputEl = gd.closest('.output');\n",
              "if (outputEl) {{\n",
              "    x.observe(outputEl, {childList: true});\n",
              "}}\n",
              "\n",
              "                        })\n",
              "                };\n",
              "                \n",
              "            </script>\n",
              "        </div>\n",
              "</body>\n",
              "</html>"
            ]
          },
          "metadata": {}
        },
        {
          "output_type": "display_data",
          "data": {
            "text/html": [
              "<html>\n",
              "<head><meta charset=\"utf-8\" /></head>\n",
              "<body>\n",
              "    <div>\n",
              "            <script src=\"https://cdnjs.cloudflare.com/ajax/libs/mathjax/2.7.5/MathJax.js?config=TeX-AMS-MML_SVG\"></script><script type=\"text/javascript\">if (window.MathJax) {MathJax.Hub.Config({SVG: {font: \"STIX-Web\"}});}</script>\n",
              "                <script type=\"text/javascript\">window.PlotlyConfig = {MathJaxConfig: 'local'};</script>\n",
              "        <script src=\"https://cdn.plot.ly/plotly-latest.min.js\"></script>    \n",
              "            <div id=\"22548010-fab9-47ab-97c4-6cceb45b9e24\" class=\"plotly-graph-div\" style=\"height:525px; width:100%;\"></div>\n",
              "            <script type=\"text/javascript\">\n",
              "                \n",
              "                    window.PLOTLYENV=window.PLOTLYENV || {};\n",
              "                    \n",
              "                if (document.getElementById(\"22548010-fab9-47ab-97c4-6cceb45b9e24\")) {\n",
              "                    Plotly.newPlot(\n",
              "                        '22548010-fab9-47ab-97c4-6cceb45b9e24',\n",
              "                        [{\"marker\": {\"color\": \"rgba(152, 0, 0, .8)\"}, \"mode\": \"markers\", \"name\": \"train\", \"type\": \"scatter\", \"x\": [7.7, 7.8, 1.5, 3.5, 9.2, 8.3, 1.1, 3.3, 8.5, 5.9, 2.7, 7.4, 3.8, 6.1, 2.5, 3.2, 6.9, 8.9, 4.8, 2.7], \"y\": [21, 47, 27, 75, 30, 20, 88, 60, 81, 25, 85, 62, 41, 42, 17, 95, 30, 24, 67, 69, 30, 54, 35, 76, 86]}, {\"marker\": {\"color\": \"rgba(0, 152, 0, .8)\"}, \"mode\": \"lines+markers\", \"name\": \"prediction\", \"type\": \"scatter\", \"x\": [7.7, 7.8, 1.5, 3.5, 9.2, 8.3, 1.1, 3.3, 8.5, 5.9, 2.7, 7.4, 3.8, 6.1, 2.5, 3.2, 6.9, 8.9, 4.8, 2.7], \"y\": [73.61459227236507, 74.55187926268141, 15.50279887275178, 34.24853867907865, 87.67389712711021, 79.23831421426314, 11.753650911486409, 32.37396469844596, 81.11288819489582, 56.743426446670895, 26.7502427565479, 70.80273130141605, 37.060399650027676, 58.61800042730357, 24.875668775915212, 31.43667770812962, 66.11629634983433, 84.8620361561612, 46.43326955319111, 26.7502427565479]}],\n",
              "                        {\"font\": {\"color\": \"RebeccaPurple\", \"family\": \"TeX Gyre Pagella\", \"size\": 14}, \"template\": {\"data\": {\"bar\": [{\"error_x\": {\"color\": \"#2a3f5f\"}, \"error_y\": {\"color\": \"#2a3f5f\"}, \"marker\": {\"line\": {\"color\": \"#E5ECF6\", \"width\": 0.5}}, \"type\": \"bar\"}], \"barpolar\": [{\"marker\": {\"line\": {\"color\": \"#E5ECF6\", \"width\": 0.5}}, \"type\": \"barpolar\"}], \"carpet\": [{\"aaxis\": {\"endlinecolor\": \"#2a3f5f\", \"gridcolor\": \"white\", \"linecolor\": \"white\", \"minorgridcolor\": \"white\", \"startlinecolor\": \"#2a3f5f\"}, \"baxis\": {\"endlinecolor\": \"#2a3f5f\", \"gridcolor\": \"white\", \"linecolor\": \"white\", \"minorgridcolor\": \"white\", \"startlinecolor\": \"#2a3f5f\"}, \"type\": \"carpet\"}], \"choropleth\": [{\"colorbar\": {\"outlinewidth\": 0, \"ticks\": \"\"}, \"type\": \"choropleth\"}], \"contour\": [{\"colorbar\": {\"outlinewidth\": 0, \"ticks\": \"\"}, \"colorscale\": [[0.0, \"#0d0887\"], [0.1111111111111111, \"#46039f\"], [0.2222222222222222, \"#7201a8\"], [0.3333333333333333, \"#9c179e\"], [0.4444444444444444, \"#bd3786\"], [0.5555555555555556, \"#d8576b\"], [0.6666666666666666, \"#ed7953\"], [0.7777777777777778, \"#fb9f3a\"], [0.8888888888888888, \"#fdca26\"], [1.0, \"#f0f921\"]], \"type\": \"contour\"}], \"contourcarpet\": [{\"colorbar\": {\"outlinewidth\": 0, \"ticks\": \"\"}, \"type\": \"contourcarpet\"}], \"heatmap\": [{\"colorbar\": {\"outlinewidth\": 0, \"ticks\": \"\"}, \"colorscale\": [[0.0, \"#0d0887\"], [0.1111111111111111, \"#46039f\"], [0.2222222222222222, \"#7201a8\"], [0.3333333333333333, \"#9c179e\"], [0.4444444444444444, \"#bd3786\"], [0.5555555555555556, \"#d8576b\"], [0.6666666666666666, \"#ed7953\"], [0.7777777777777778, \"#fb9f3a\"], [0.8888888888888888, \"#fdca26\"], [1.0, \"#f0f921\"]], \"type\": \"heatmap\"}], \"heatmapgl\": [{\"colorbar\": {\"outlinewidth\": 0, \"ticks\": \"\"}, \"colorscale\": [[0.0, \"#0d0887\"], [0.1111111111111111, \"#46039f\"], [0.2222222222222222, \"#7201a8\"], [0.3333333333333333, \"#9c179e\"], [0.4444444444444444, \"#bd3786\"], [0.5555555555555556, \"#d8576b\"], [0.6666666666666666, \"#ed7953\"], [0.7777777777777778, \"#fb9f3a\"], [0.8888888888888888, \"#fdca26\"], [1.0, \"#f0f921\"]], \"type\": \"heatmapgl\"}], \"histogram\": [{\"marker\": {\"colorbar\": {\"outlinewidth\": 0, \"ticks\": \"\"}}, \"type\": \"histogram\"}], \"histogram2d\": [{\"colorbar\": {\"outlinewidth\": 0, \"ticks\": \"\"}, \"colorscale\": [[0.0, \"#0d0887\"], [0.1111111111111111, \"#46039f\"], [0.2222222222222222, \"#7201a8\"], [0.3333333333333333, \"#9c179e\"], [0.4444444444444444, \"#bd3786\"], [0.5555555555555556, \"#d8576b\"], [0.6666666666666666, \"#ed7953\"], [0.7777777777777778, \"#fb9f3a\"], [0.8888888888888888, \"#fdca26\"], [1.0, \"#f0f921\"]], \"type\": \"histogram2d\"}], \"histogram2dcontour\": [{\"colorbar\": {\"outlinewidth\": 0, \"ticks\": \"\"}, \"colorscale\": [[0.0, \"#0d0887\"], [0.1111111111111111, \"#46039f\"], [0.2222222222222222, \"#7201a8\"], [0.3333333333333333, \"#9c179e\"], [0.4444444444444444, \"#bd3786\"], [0.5555555555555556, \"#d8576b\"], [0.6666666666666666, \"#ed7953\"], [0.7777777777777778, \"#fb9f3a\"], [0.8888888888888888, \"#fdca26\"], [1.0, \"#f0f921\"]], \"type\": \"histogram2dcontour\"}], \"mesh3d\": [{\"colorbar\": {\"outlinewidth\": 0, \"ticks\": \"\"}, \"type\": \"mesh3d\"}], \"parcoords\": [{\"line\": {\"colorbar\": {\"outlinewidth\": 0, \"ticks\": \"\"}}, \"type\": \"parcoords\"}], \"pie\": [{\"automargin\": true, \"type\": \"pie\"}], \"scatter\": [{\"marker\": {\"colorbar\": {\"outlinewidth\": 0, \"ticks\": \"\"}}, \"type\": \"scatter\"}], \"scatter3d\": [{\"line\": {\"colorbar\": {\"outlinewidth\": 0, \"ticks\": \"\"}}, \"marker\": {\"colorbar\": {\"outlinewidth\": 0, \"ticks\": \"\"}}, \"type\": \"scatter3d\"}], \"scattercarpet\": [{\"marker\": {\"colorbar\": {\"outlinewidth\": 0, \"ticks\": \"\"}}, \"type\": \"scattercarpet\"}], \"scattergeo\": [{\"marker\": {\"colorbar\": {\"outlinewidth\": 0, \"ticks\": \"\"}}, \"type\": \"scattergeo\"}], \"scattergl\": [{\"marker\": {\"colorbar\": {\"outlinewidth\": 0, \"ticks\": \"\"}}, \"type\": \"scattergl\"}], \"scattermapbox\": [{\"marker\": {\"colorbar\": {\"outlinewidth\": 0, \"ticks\": \"\"}}, \"type\": \"scattermapbox\"}], \"scatterpolar\": [{\"marker\": {\"colorbar\": {\"outlinewidth\": 0, \"ticks\": \"\"}}, \"type\": \"scatterpolar\"}], \"scatterpolargl\": [{\"marker\": {\"colorbar\": {\"outlinewidth\": 0, \"ticks\": \"\"}}, \"type\": \"scatterpolargl\"}], \"scatterternary\": [{\"marker\": {\"colorbar\": {\"outlinewidth\": 0, \"ticks\": \"\"}}, \"type\": \"scatterternary\"}], \"surface\": [{\"colorbar\": {\"outlinewidth\": 0, \"ticks\": \"\"}, \"colorscale\": [[0.0, \"#0d0887\"], [0.1111111111111111, \"#46039f\"], [0.2222222222222222, \"#7201a8\"], [0.3333333333333333, \"#9c179e\"], [0.4444444444444444, \"#bd3786\"], [0.5555555555555556, \"#d8576b\"], [0.6666666666666666, \"#ed7953\"], [0.7777777777777778, \"#fb9f3a\"], [0.8888888888888888, \"#fdca26\"], [1.0, \"#f0f921\"]], \"type\": \"surface\"}], \"table\": [{\"cells\": {\"fill\": {\"color\": \"#EBF0F8\"}, \"line\": {\"color\": \"white\"}}, \"header\": {\"fill\": {\"color\": \"#C8D4E3\"}, \"line\": {\"color\": \"white\"}}, \"type\": \"table\"}]}, \"layout\": {\"annotationdefaults\": {\"arrowcolor\": \"#2a3f5f\", \"arrowhead\": 0, \"arrowwidth\": 1}, \"coloraxis\": {\"colorbar\": {\"outlinewidth\": 0, \"ticks\": \"\"}}, \"colorscale\": {\"diverging\": [[0, \"#8e0152\"], [0.1, \"#c51b7d\"], [0.2, \"#de77ae\"], [0.3, \"#f1b6da\"], [0.4, \"#fde0ef\"], [0.5, \"#f7f7f7\"], [0.6, \"#e6f5d0\"], [0.7, \"#b8e186\"], [0.8, \"#7fbc41\"], [0.9, \"#4d9221\"], [1, \"#276419\"]], \"sequential\": [[0.0, \"#0d0887\"], [0.1111111111111111, \"#46039f\"], [0.2222222222222222, \"#7201a8\"], [0.3333333333333333, \"#9c179e\"], [0.4444444444444444, \"#bd3786\"], [0.5555555555555556, \"#d8576b\"], [0.6666666666666666, \"#ed7953\"], [0.7777777777777778, \"#fb9f3a\"], [0.8888888888888888, \"#fdca26\"], [1.0, \"#f0f921\"]], \"sequentialminus\": [[0.0, \"#0d0887\"], [0.1111111111111111, \"#46039f\"], [0.2222222222222222, \"#7201a8\"], [0.3333333333333333, \"#9c179e\"], [0.4444444444444444, \"#bd3786\"], [0.5555555555555556, \"#d8576b\"], [0.6666666666666666, \"#ed7953\"], [0.7777777777777778, \"#fb9f3a\"], [0.8888888888888888, \"#fdca26\"], [1.0, \"#f0f921\"]]}, \"colorway\": [\"#636efa\", \"#EF553B\", \"#00cc96\", \"#ab63fa\", \"#FFA15A\", \"#19d3f3\", \"#FF6692\", \"#B6E880\", \"#FF97FF\", \"#FECB52\"], \"font\": {\"color\": \"#2a3f5f\"}, \"geo\": {\"bgcolor\": \"white\", \"lakecolor\": \"white\", \"landcolor\": \"#E5ECF6\", \"showlakes\": true, \"showland\": true, \"subunitcolor\": \"white\"}, \"hoverlabel\": {\"align\": \"left\"}, \"hovermode\": \"closest\", \"mapbox\": {\"style\": \"light\"}, \"paper_bgcolor\": \"white\", \"plot_bgcolor\": \"#E5ECF6\", \"polar\": {\"angularaxis\": {\"gridcolor\": \"white\", \"linecolor\": \"white\", \"ticks\": \"\"}, \"bgcolor\": \"#E5ECF6\", \"radialaxis\": {\"gridcolor\": \"white\", \"linecolor\": \"white\", \"ticks\": \"\"}}, \"scene\": {\"xaxis\": {\"backgroundcolor\": \"#E5ECF6\", \"gridcolor\": \"white\", \"gridwidth\": 2, \"linecolor\": \"white\", \"showbackground\": true, \"ticks\": \"\", \"zerolinecolor\": \"white\"}, \"yaxis\": {\"backgroundcolor\": \"#E5ECF6\", \"gridcolor\": \"white\", \"gridwidth\": 2, \"linecolor\": \"white\", \"showbackground\": true, \"ticks\": \"\", \"zerolinecolor\": \"white\"}, \"zaxis\": {\"backgroundcolor\": \"#E5ECF6\", \"gridcolor\": \"white\", \"gridwidth\": 2, \"linecolor\": \"white\", \"showbackground\": true, \"ticks\": \"\", \"zerolinecolor\": \"white\"}}, \"shapedefaults\": {\"line\": {\"color\": \"#2a3f5f\"}}, \"ternary\": {\"aaxis\": {\"gridcolor\": \"white\", \"linecolor\": \"white\", \"ticks\": \"\"}, \"baxis\": {\"gridcolor\": \"white\", \"linecolor\": \"white\", \"ticks\": \"\"}, \"bgcolor\": \"#E5ECF6\", \"caxis\": {\"gridcolor\": \"white\", \"linecolor\": \"white\", \"ticks\": \"\"}}, \"title\": {\"x\": 0.05}, \"xaxis\": {\"automargin\": true, \"gridcolor\": \"white\", \"linecolor\": \"white\", \"ticks\": \"\", \"title\": {\"standoff\": 15}, \"zerolinecolor\": \"white\", \"zerolinewidth\": 2}, \"yaxis\": {\"automargin\": true, \"gridcolor\": \"white\", \"linecolor\": \"white\", \"ticks\": \"\", \"title\": {\"standoff\": 15}, \"zerolinecolor\": \"white\", \"zerolinewidth\": 2}}}, \"title\": {\"text\": \"Obtained Score Percentage vs Hours-Studied\\n (visual comparison for correctness after Train-Test Split)\", \"x\": 0.5}, \"xaxis\": {\"linecolor\": \"black\", \"linewidth\": 2, \"mirror\": true, \"showline\": true, \"title\": {\"text\": \"Number of Hours Studied\"}}, \"yaxis\": {\"linecolor\": \"black\", \"linewidth\": 2, \"mirror\": true, \"showline\": true, \"title\": {\"text\": \"Obtained Percentage Score\"}}},\n",
              "                        {\"responsive\": true}\n",
              "                    ).then(function(){\n",
              "                            \n",
              "var gd = document.getElementById('22548010-fab9-47ab-97c4-6cceb45b9e24');\n",
              "var x = new MutationObserver(function (mutations, observer) {{\n",
              "        var display = window.getComputedStyle(gd).display;\n",
              "        if (!display || display === 'none') {{\n",
              "            console.log([gd, 'removed!']);\n",
              "            Plotly.purge(gd);\n",
              "            observer.disconnect();\n",
              "        }}\n",
              "}});\n",
              "\n",
              "// Listen for the removal of the full notebook cells\n",
              "var notebookContainer = gd.closest('#notebook-container');\n",
              "if (notebookContainer) {{\n",
              "    x.observe(notebookContainer, {childList: true});\n",
              "}}\n",
              "\n",
              "// Listen for the clearing of the current output cell\n",
              "var outputEl = gd.closest('.output');\n",
              "if (outputEl) {{\n",
              "    x.observe(outputEl, {childList: true});\n",
              "}}\n",
              "\n",
              "                        })\n",
              "                };\n",
              "                \n",
              "            </script>\n",
              "        </div>\n",
              "</body>\n",
              "</html>"
            ]
          },
          "metadata": {}
        },
        {
          "output_type": "display_data",
          "data": {
            "text/html": [
              "<html>\n",
              "<head><meta charset=\"utf-8\" /></head>\n",
              "<body>\n",
              "    <div>\n",
              "            <script src=\"https://cdnjs.cloudflare.com/ajax/libs/mathjax/2.7.5/MathJax.js?config=TeX-AMS-MML_SVG\"></script><script type=\"text/javascript\">if (window.MathJax) {MathJax.Hub.Config({SVG: {font: \"STIX-Web\"}});}</script>\n",
              "                <script type=\"text/javascript\">window.PlotlyConfig = {MathJaxConfig: 'local'};</script>\n",
              "        <script src=\"https://cdn.plot.ly/plotly-latest.min.js\"></script>    \n",
              "            <div id=\"4d64dafc-55e6-4746-950f-90af94ff3f07\" class=\"plotly-graph-div\" style=\"height:525px; width:100%;\"></div>\n",
              "            <script type=\"text/javascript\">\n",
              "                \n",
              "                    window.PLOTLYENV=window.PLOTLYENV || {};\n",
              "                    \n",
              "                if (document.getElementById(\"4d64dafc-55e6-4746-950f-90af94ff3f07\")) {\n",
              "                    Plotly.newPlot(\n",
              "                        '4d64dafc-55e6-4746-950f-90af94ff3f07',\n",
              "                        [{\"marker\": {\"color\": \"rgba(152, 0, 0, .8)\"}, \"mode\": \"markers\", \"name\": \"train\", \"type\": \"scatter\", \"x\": [7.7, 7.8, 1.5, 3.5, 9.2, 8.3, 1.1, 3.3, 8.5, 5.9, 2.7, 7.4, 3.8, 6.1, 2.5, 3.2, 6.9, 8.9, 4.8, 2.7], \"y\": [21, 47, 27, 75, 30, 20, 88, 60, 81, 25, 85, 62, 41, 42, 17, 95, 30, 24, 67, 69, 30, 54, 35, 76, 86]}, {\"marker\": {\"color\": \"rgba(0, 152, 0, .8)\"}, \"mode\": \"lines+markers\", \"name\": \"prediction\", \"type\": \"scatter\", \"x\": [7.7, 7.8, 1.5, 3.5, 9.2, 8.3, 1.1, 3.3, 8.5, 5.9, 2.7, 7.4, 3.8, 6.1, 2.5, 3.2, 6.9, 8.9, 4.8, 2.7], \"y\": [75.91151956042248, 76.87802950831161, 15.98790279129587, 35.31810174907864, 90.40916877875954, 81.71057924775731, 12.121862999739317, 33.38508185330036, 83.64359914353558, 58.51434049841798, 27.586022165965534, 73.01198971675505, 38.21763159274606, 60.447360394196245, 25.653002270187255, 32.41857190541123, 68.17943997730936, 87.50963893509214, 47.882731071637444, 27.586022165965534]}],\n",
              "                        {\"font\": {\"color\": \"RebeccaPurple\", \"family\": \"TeX Gyre Pagella\", \"size\": 14}, \"template\": {\"data\": {\"bar\": [{\"error_x\": {\"color\": \"#2a3f5f\"}, \"error_y\": {\"color\": \"#2a3f5f\"}, \"marker\": {\"line\": {\"color\": \"#E5ECF6\", \"width\": 0.5}}, \"type\": \"bar\"}], \"barpolar\": [{\"marker\": {\"line\": {\"color\": \"#E5ECF6\", \"width\": 0.5}}, \"type\": \"barpolar\"}], \"carpet\": [{\"aaxis\": {\"endlinecolor\": \"#2a3f5f\", \"gridcolor\": \"white\", \"linecolor\": \"white\", \"minorgridcolor\": \"white\", \"startlinecolor\": \"#2a3f5f\"}, \"baxis\": {\"endlinecolor\": \"#2a3f5f\", \"gridcolor\": \"white\", \"linecolor\": \"white\", \"minorgridcolor\": \"white\", \"startlinecolor\": \"#2a3f5f\"}, \"type\": \"carpet\"}], \"choropleth\": [{\"colorbar\": {\"outlinewidth\": 0, \"ticks\": \"\"}, \"type\": \"choropleth\"}], \"contour\": [{\"colorbar\": {\"outlinewidth\": 0, \"ticks\": \"\"}, \"colorscale\": [[0.0, \"#0d0887\"], [0.1111111111111111, \"#46039f\"], [0.2222222222222222, \"#7201a8\"], [0.3333333333333333, \"#9c179e\"], [0.4444444444444444, \"#bd3786\"], [0.5555555555555556, \"#d8576b\"], [0.6666666666666666, \"#ed7953\"], [0.7777777777777778, \"#fb9f3a\"], [0.8888888888888888, \"#fdca26\"], [1.0, \"#f0f921\"]], \"type\": \"contour\"}], \"contourcarpet\": [{\"colorbar\": {\"outlinewidth\": 0, \"ticks\": \"\"}, \"type\": \"contourcarpet\"}], \"heatmap\": [{\"colorbar\": {\"outlinewidth\": 0, \"ticks\": \"\"}, \"colorscale\": [[0.0, \"#0d0887\"], [0.1111111111111111, \"#46039f\"], [0.2222222222222222, \"#7201a8\"], [0.3333333333333333, \"#9c179e\"], [0.4444444444444444, \"#bd3786\"], [0.5555555555555556, \"#d8576b\"], [0.6666666666666666, \"#ed7953\"], [0.7777777777777778, \"#fb9f3a\"], [0.8888888888888888, \"#fdca26\"], [1.0, \"#f0f921\"]], \"type\": \"heatmap\"}], \"heatmapgl\": [{\"colorbar\": {\"outlinewidth\": 0, \"ticks\": \"\"}, \"colorscale\": [[0.0, \"#0d0887\"], [0.1111111111111111, \"#46039f\"], [0.2222222222222222, \"#7201a8\"], [0.3333333333333333, \"#9c179e\"], [0.4444444444444444, \"#bd3786\"], [0.5555555555555556, \"#d8576b\"], [0.6666666666666666, \"#ed7953\"], [0.7777777777777778, \"#fb9f3a\"], [0.8888888888888888, \"#fdca26\"], [1.0, \"#f0f921\"]], \"type\": \"heatmapgl\"}], \"histogram\": [{\"marker\": {\"colorbar\": {\"outlinewidth\": 0, \"ticks\": \"\"}}, \"type\": \"histogram\"}], \"histogram2d\": [{\"colorbar\": {\"outlinewidth\": 0, \"ticks\": \"\"}, \"colorscale\": [[0.0, \"#0d0887\"], [0.1111111111111111, \"#46039f\"], [0.2222222222222222, \"#7201a8\"], [0.3333333333333333, \"#9c179e\"], [0.4444444444444444, \"#bd3786\"], [0.5555555555555556, \"#d8576b\"], [0.6666666666666666, \"#ed7953\"], [0.7777777777777778, \"#fb9f3a\"], [0.8888888888888888, \"#fdca26\"], [1.0, \"#f0f921\"]], \"type\": \"histogram2d\"}], \"histogram2dcontour\": [{\"colorbar\": {\"outlinewidth\": 0, \"ticks\": \"\"}, \"colorscale\": [[0.0, \"#0d0887\"], [0.1111111111111111, \"#46039f\"], [0.2222222222222222, \"#7201a8\"], [0.3333333333333333, \"#9c179e\"], [0.4444444444444444, \"#bd3786\"], [0.5555555555555556, \"#d8576b\"], [0.6666666666666666, \"#ed7953\"], [0.7777777777777778, \"#fb9f3a\"], [0.8888888888888888, \"#fdca26\"], [1.0, \"#f0f921\"]], \"type\": \"histogram2dcontour\"}], \"mesh3d\": [{\"colorbar\": {\"outlinewidth\": 0, \"ticks\": \"\"}, \"type\": \"mesh3d\"}], \"parcoords\": [{\"line\": {\"colorbar\": {\"outlinewidth\": 0, \"ticks\": \"\"}}, \"type\": \"parcoords\"}], \"pie\": [{\"automargin\": true, \"type\": \"pie\"}], \"scatter\": [{\"marker\": {\"colorbar\": {\"outlinewidth\": 0, \"ticks\": \"\"}}, \"type\": \"scatter\"}], \"scatter3d\": [{\"line\": {\"colorbar\": {\"outlinewidth\": 0, \"ticks\": \"\"}}, \"marker\": {\"colorbar\": {\"outlinewidth\": 0, \"ticks\": \"\"}}, \"type\": \"scatter3d\"}], \"scattercarpet\": [{\"marker\": {\"colorbar\": {\"outlinewidth\": 0, \"ticks\": \"\"}}, \"type\": \"scattercarpet\"}], \"scattergeo\": [{\"marker\": {\"colorbar\": {\"outlinewidth\": 0, \"ticks\": \"\"}}, \"type\": \"scattergeo\"}], \"scattergl\": [{\"marker\": {\"colorbar\": {\"outlinewidth\": 0, \"ticks\": \"\"}}, \"type\": \"scattergl\"}], \"scattermapbox\": [{\"marker\": {\"colorbar\": {\"outlinewidth\": 0, \"ticks\": \"\"}}, \"type\": \"scattermapbox\"}], \"scatterpolar\": [{\"marker\": {\"colorbar\": {\"outlinewidth\": 0, \"ticks\": \"\"}}, \"type\": \"scatterpolar\"}], \"scatterpolargl\": [{\"marker\": {\"colorbar\": {\"outlinewidth\": 0, \"ticks\": \"\"}}, \"type\": \"scatterpolargl\"}], \"scatterternary\": [{\"marker\": {\"colorbar\": {\"outlinewidth\": 0, \"ticks\": \"\"}}, \"type\": \"scatterternary\"}], \"surface\": [{\"colorbar\": {\"outlinewidth\": 0, \"ticks\": \"\"}, \"colorscale\": [[0.0, \"#0d0887\"], [0.1111111111111111, \"#46039f\"], [0.2222222222222222, \"#7201a8\"], [0.3333333333333333, \"#9c179e\"], [0.4444444444444444, \"#bd3786\"], [0.5555555555555556, \"#d8576b\"], [0.6666666666666666, \"#ed7953\"], [0.7777777777777778, \"#fb9f3a\"], [0.8888888888888888, \"#fdca26\"], [1.0, \"#f0f921\"]], \"type\": \"surface\"}], \"table\": [{\"cells\": {\"fill\": {\"color\": \"#EBF0F8\"}, \"line\": {\"color\": \"white\"}}, \"header\": {\"fill\": {\"color\": \"#C8D4E3\"}, \"line\": {\"color\": \"white\"}}, \"type\": \"table\"}]}, \"layout\": {\"annotationdefaults\": {\"arrowcolor\": \"#2a3f5f\", \"arrowhead\": 0, \"arrowwidth\": 1}, \"coloraxis\": {\"colorbar\": {\"outlinewidth\": 0, \"ticks\": \"\"}}, \"colorscale\": {\"diverging\": [[0, \"#8e0152\"], [0.1, \"#c51b7d\"], [0.2, \"#de77ae\"], [0.3, \"#f1b6da\"], [0.4, \"#fde0ef\"], [0.5, \"#f7f7f7\"], [0.6, \"#e6f5d0\"], [0.7, \"#b8e186\"], [0.8, \"#7fbc41\"], [0.9, \"#4d9221\"], [1, \"#276419\"]], \"sequential\": [[0.0, \"#0d0887\"], [0.1111111111111111, \"#46039f\"], [0.2222222222222222, \"#7201a8\"], [0.3333333333333333, \"#9c179e\"], [0.4444444444444444, \"#bd3786\"], [0.5555555555555556, \"#d8576b\"], [0.6666666666666666, \"#ed7953\"], [0.7777777777777778, \"#fb9f3a\"], [0.8888888888888888, \"#fdca26\"], [1.0, \"#f0f921\"]], \"sequentialminus\": [[0.0, \"#0d0887\"], [0.1111111111111111, \"#46039f\"], [0.2222222222222222, \"#7201a8\"], [0.3333333333333333, \"#9c179e\"], [0.4444444444444444, \"#bd3786\"], [0.5555555555555556, \"#d8576b\"], [0.6666666666666666, \"#ed7953\"], [0.7777777777777778, \"#fb9f3a\"], [0.8888888888888888, \"#fdca26\"], [1.0, \"#f0f921\"]]}, \"colorway\": [\"#636efa\", \"#EF553B\", \"#00cc96\", \"#ab63fa\", \"#FFA15A\", \"#19d3f3\", \"#FF6692\", \"#B6E880\", \"#FF97FF\", \"#FECB52\"], \"font\": {\"color\": \"#2a3f5f\"}, \"geo\": {\"bgcolor\": \"white\", \"lakecolor\": \"white\", \"landcolor\": \"#E5ECF6\", \"showlakes\": true, \"showland\": true, \"subunitcolor\": \"white\"}, \"hoverlabel\": {\"align\": \"left\"}, \"hovermode\": \"closest\", \"mapbox\": {\"style\": \"light\"}, \"paper_bgcolor\": \"white\", \"plot_bgcolor\": \"#E5ECF6\", \"polar\": {\"angularaxis\": {\"gridcolor\": \"white\", \"linecolor\": \"white\", \"ticks\": \"\"}, \"bgcolor\": \"#E5ECF6\", \"radialaxis\": {\"gridcolor\": \"white\", \"linecolor\": \"white\", \"ticks\": \"\"}}, \"scene\": {\"xaxis\": {\"backgroundcolor\": \"#E5ECF6\", \"gridcolor\": \"white\", \"gridwidth\": 2, \"linecolor\": \"white\", \"showbackground\": true, \"ticks\": \"\", \"zerolinecolor\": \"white\"}, \"yaxis\": {\"backgroundcolor\": \"#E5ECF6\", \"gridcolor\": \"white\", \"gridwidth\": 2, \"linecolor\": \"white\", \"showbackground\": true, \"ticks\": \"\", \"zerolinecolor\": \"white\"}, \"zaxis\": {\"backgroundcolor\": \"#E5ECF6\", \"gridcolor\": \"white\", \"gridwidth\": 2, \"linecolor\": \"white\", \"showbackground\": true, \"ticks\": \"\", \"zerolinecolor\": \"white\"}}, \"shapedefaults\": {\"line\": {\"color\": \"#2a3f5f\"}}, \"ternary\": {\"aaxis\": {\"gridcolor\": \"white\", \"linecolor\": \"white\", \"ticks\": \"\"}, \"baxis\": {\"gridcolor\": \"white\", \"linecolor\": \"white\", \"ticks\": \"\"}, \"bgcolor\": \"#E5ECF6\", \"caxis\": {\"gridcolor\": \"white\", \"linecolor\": \"white\", \"ticks\": \"\"}}, \"title\": {\"x\": 0.05}, \"xaxis\": {\"automargin\": true, \"gridcolor\": \"white\", \"linecolor\": \"white\", \"ticks\": \"\", \"title\": {\"standoff\": 15}, \"zerolinecolor\": \"white\", \"zerolinewidth\": 2}, \"yaxis\": {\"automargin\": true, \"gridcolor\": \"white\", \"linecolor\": \"white\", \"ticks\": \"\", \"title\": {\"standoff\": 15}, \"zerolinecolor\": \"white\", \"zerolinewidth\": 2}}}, \"title\": {\"text\": \"Obtained Score Percentage vs Hours-Studied\\n (visual comparison for correctness after Train-Test Split)\", \"x\": 0.5}, \"xaxis\": {\"linecolor\": \"black\", \"linewidth\": 2, \"mirror\": true, \"showline\": true, \"title\": {\"text\": \"Number of Hours Studied\"}}, \"yaxis\": {\"linecolor\": \"black\", \"linewidth\": 2, \"mirror\": true, \"showline\": true, \"title\": {\"text\": \"Obtained Percentage Score\"}}},\n",
              "                        {\"responsive\": true}\n",
              "                    ).then(function(){\n",
              "                            \n",
              "var gd = document.getElementById('4d64dafc-55e6-4746-950f-90af94ff3f07');\n",
              "var x = new MutationObserver(function (mutations, observer) {{\n",
              "        var display = window.getComputedStyle(gd).display;\n",
              "        if (!display || display === 'none') {{\n",
              "            console.log([gd, 'removed!']);\n",
              "            Plotly.purge(gd);\n",
              "            observer.disconnect();\n",
              "        }}\n",
              "}});\n",
              "\n",
              "// Listen for the removal of the full notebook cells\n",
              "var notebookContainer = gd.closest('#notebook-container');\n",
              "if (notebookContainer) {{\n",
              "    x.observe(notebookContainer, {childList: true});\n",
              "}}\n",
              "\n",
              "// Listen for the clearing of the current output cell\n",
              "var outputEl = gd.closest('.output');\n",
              "if (outputEl) {{\n",
              "    x.observe(outputEl, {childList: true});\n",
              "}}\n",
              "\n",
              "                        })\n",
              "                };\n",
              "                \n",
              "            </script>\n",
              "        </div>\n",
              "</body>\n",
              "</html>"
            ]
          },
          "metadata": {}
        },
        {
          "output_type": "display_data",
          "data": {
            "text/html": [
              "<html>\n",
              "<head><meta charset=\"utf-8\" /></head>\n",
              "<body>\n",
              "    <div>\n",
              "            <script src=\"https://cdnjs.cloudflare.com/ajax/libs/mathjax/2.7.5/MathJax.js?config=TeX-AMS-MML_SVG\"></script><script type=\"text/javascript\">if (window.MathJax) {MathJax.Hub.Config({SVG: {font: \"STIX-Web\"}});}</script>\n",
              "                <script type=\"text/javascript\">window.PlotlyConfig = {MathJaxConfig: 'local'};</script>\n",
              "        <script src=\"https://cdn.plot.ly/plotly-latest.min.js\"></script>    \n",
              "            <div id=\"a1ddb076-9328-4fc6-b218-11f5329e37fa\" class=\"plotly-graph-div\" style=\"height:525px; width:100%;\"></div>\n",
              "            <script type=\"text/javascript\">\n",
              "                \n",
              "                    window.PLOTLYENV=window.PLOTLYENV || {};\n",
              "                    \n",
              "                if (document.getElementById(\"a1ddb076-9328-4fc6-b218-11f5329e37fa\")) {\n",
              "                    Plotly.newPlot(\n",
              "                        'a1ddb076-9328-4fc6-b218-11f5329e37fa',\n",
              "                        [{\"marker\": {\"color\": \"rgba(152, 0, 0, .8)\"}, \"mode\": \"markers\", \"name\": \"train\", \"type\": \"scatter\", \"x\": [7.7, 7.8, 1.5, 3.5, 9.2, 8.3, 1.1, 3.3, 8.5, 5.9, 2.7, 7.4, 3.8, 6.1, 2.5, 3.2, 6.9, 8.9, 4.8, 2.7], \"y\": [21, 47, 27, 75, 30, 20, 88, 60, 81, 25, 85, 62, 41, 42, 17, 95, 30, 24, 67, 69, 30, 54, 35, 76, 86]}, {\"marker\": {\"color\": \"rgba(0, 152, 0, .8)\"}, \"mode\": \"lines+markers\", \"name\": \"prediction\", \"type\": \"scatter\", \"x\": [7.7, 7.8, 1.5, 3.5, 9.2, 8.3, 1.1, 3.3, 8.5, 5.9, 2.7, 7.4, 3.8, 6.1, 2.5, 3.2, 6.9, 8.9, 4.8, 2.7], \"y\": [77.03821150970525, 78.01904301974096, 16.2266578874903, 35.8432880882048, 91.75068416024111, 82.9232005699196, 12.303331847347405, 33.88162506813335, 84.88486358999104, 59.3832443290622, 27.996636007919, 74.09571697959807, 38.78578261831198, 61.34490734913364, 26.03497298784755, 32.900793558097625, 69.19155942941944, 88.80818963013394, 48.594097718669225, 27.996636007919]}],\n",
              "                        {\"font\": {\"color\": \"RebeccaPurple\", \"family\": \"TeX Gyre Pagella\", \"size\": 14}, \"template\": {\"data\": {\"bar\": [{\"error_x\": {\"color\": \"#2a3f5f\"}, \"error_y\": {\"color\": \"#2a3f5f\"}, \"marker\": {\"line\": {\"color\": \"#E5ECF6\", \"width\": 0.5}}, \"type\": \"bar\"}], \"barpolar\": [{\"marker\": {\"line\": {\"color\": \"#E5ECF6\", \"width\": 0.5}}, \"type\": \"barpolar\"}], \"carpet\": [{\"aaxis\": {\"endlinecolor\": \"#2a3f5f\", \"gridcolor\": \"white\", \"linecolor\": \"white\", \"minorgridcolor\": \"white\", \"startlinecolor\": \"#2a3f5f\"}, \"baxis\": {\"endlinecolor\": \"#2a3f5f\", \"gridcolor\": \"white\", \"linecolor\": \"white\", \"minorgridcolor\": \"white\", \"startlinecolor\": \"#2a3f5f\"}, \"type\": \"carpet\"}], \"choropleth\": [{\"colorbar\": {\"outlinewidth\": 0, \"ticks\": \"\"}, \"type\": \"choropleth\"}], \"contour\": [{\"colorbar\": {\"outlinewidth\": 0, \"ticks\": \"\"}, \"colorscale\": [[0.0, \"#0d0887\"], [0.1111111111111111, \"#46039f\"], [0.2222222222222222, \"#7201a8\"], [0.3333333333333333, \"#9c179e\"], [0.4444444444444444, \"#bd3786\"], [0.5555555555555556, \"#d8576b\"], [0.6666666666666666, \"#ed7953\"], [0.7777777777777778, \"#fb9f3a\"], [0.8888888888888888, \"#fdca26\"], [1.0, \"#f0f921\"]], \"type\": \"contour\"}], \"contourcarpet\": [{\"colorbar\": {\"outlinewidth\": 0, \"ticks\": \"\"}, \"type\": \"contourcarpet\"}], \"heatmap\": [{\"colorbar\": {\"outlinewidth\": 0, \"ticks\": \"\"}, \"colorscale\": [[0.0, \"#0d0887\"], [0.1111111111111111, \"#46039f\"], [0.2222222222222222, \"#7201a8\"], [0.3333333333333333, \"#9c179e\"], [0.4444444444444444, \"#bd3786\"], [0.5555555555555556, \"#d8576b\"], [0.6666666666666666, \"#ed7953\"], [0.7777777777777778, \"#fb9f3a\"], [0.8888888888888888, \"#fdca26\"], [1.0, \"#f0f921\"]], \"type\": \"heatmap\"}], \"heatmapgl\": [{\"colorbar\": {\"outlinewidth\": 0, \"ticks\": \"\"}, \"colorscale\": [[0.0, \"#0d0887\"], [0.1111111111111111, \"#46039f\"], [0.2222222222222222, \"#7201a8\"], [0.3333333333333333, \"#9c179e\"], [0.4444444444444444, \"#bd3786\"], [0.5555555555555556, \"#d8576b\"], [0.6666666666666666, \"#ed7953\"], [0.7777777777777778, \"#fb9f3a\"], [0.8888888888888888, \"#fdca26\"], [1.0, \"#f0f921\"]], \"type\": \"heatmapgl\"}], \"histogram\": [{\"marker\": {\"colorbar\": {\"outlinewidth\": 0, \"ticks\": \"\"}}, \"type\": \"histogram\"}], \"histogram2d\": [{\"colorbar\": {\"outlinewidth\": 0, \"ticks\": \"\"}, \"colorscale\": [[0.0, \"#0d0887\"], [0.1111111111111111, \"#46039f\"], [0.2222222222222222, \"#7201a8\"], [0.3333333333333333, \"#9c179e\"], [0.4444444444444444, \"#bd3786\"], [0.5555555555555556, \"#d8576b\"], [0.6666666666666666, \"#ed7953\"], [0.7777777777777778, \"#fb9f3a\"], [0.8888888888888888, \"#fdca26\"], [1.0, \"#f0f921\"]], \"type\": \"histogram2d\"}], \"histogram2dcontour\": [{\"colorbar\": {\"outlinewidth\": 0, \"ticks\": \"\"}, \"colorscale\": [[0.0, \"#0d0887\"], [0.1111111111111111, \"#46039f\"], [0.2222222222222222, \"#7201a8\"], [0.3333333333333333, \"#9c179e\"], [0.4444444444444444, \"#bd3786\"], [0.5555555555555556, \"#d8576b\"], [0.6666666666666666, \"#ed7953\"], [0.7777777777777778, \"#fb9f3a\"], [0.8888888888888888, \"#fdca26\"], [1.0, \"#f0f921\"]], \"type\": \"histogram2dcontour\"}], \"mesh3d\": [{\"colorbar\": {\"outlinewidth\": 0, \"ticks\": \"\"}, \"type\": \"mesh3d\"}], \"parcoords\": [{\"line\": {\"colorbar\": {\"outlinewidth\": 0, \"ticks\": \"\"}}, \"type\": \"parcoords\"}], \"pie\": [{\"automargin\": true, \"type\": \"pie\"}], \"scatter\": [{\"marker\": {\"colorbar\": {\"outlinewidth\": 0, \"ticks\": \"\"}}, \"type\": \"scatter\"}], \"scatter3d\": [{\"line\": {\"colorbar\": {\"outlinewidth\": 0, \"ticks\": \"\"}}, \"marker\": {\"colorbar\": {\"outlinewidth\": 0, \"ticks\": \"\"}}, \"type\": \"scatter3d\"}], \"scattercarpet\": [{\"marker\": {\"colorbar\": {\"outlinewidth\": 0, \"ticks\": \"\"}}, \"type\": \"scattercarpet\"}], \"scattergeo\": [{\"marker\": {\"colorbar\": {\"outlinewidth\": 0, \"ticks\": \"\"}}, \"type\": \"scattergeo\"}], \"scattergl\": [{\"marker\": {\"colorbar\": {\"outlinewidth\": 0, \"ticks\": \"\"}}, \"type\": \"scattergl\"}], \"scattermapbox\": [{\"marker\": {\"colorbar\": {\"outlinewidth\": 0, \"ticks\": \"\"}}, \"type\": \"scattermapbox\"}], \"scatterpolar\": [{\"marker\": {\"colorbar\": {\"outlinewidth\": 0, \"ticks\": \"\"}}, \"type\": \"scatterpolar\"}], \"scatterpolargl\": [{\"marker\": {\"colorbar\": {\"outlinewidth\": 0, \"ticks\": \"\"}}, \"type\": \"scatterpolargl\"}], \"scatterternary\": [{\"marker\": {\"colorbar\": {\"outlinewidth\": 0, \"ticks\": \"\"}}, \"type\": \"scatterternary\"}], \"surface\": [{\"colorbar\": {\"outlinewidth\": 0, \"ticks\": \"\"}, \"colorscale\": [[0.0, \"#0d0887\"], [0.1111111111111111, \"#46039f\"], [0.2222222222222222, \"#7201a8\"], [0.3333333333333333, \"#9c179e\"], [0.4444444444444444, \"#bd3786\"], [0.5555555555555556, \"#d8576b\"], [0.6666666666666666, \"#ed7953\"], [0.7777777777777778, \"#fb9f3a\"], [0.8888888888888888, \"#fdca26\"], [1.0, \"#f0f921\"]], \"type\": \"surface\"}], \"table\": [{\"cells\": {\"fill\": {\"color\": \"#EBF0F8\"}, \"line\": {\"color\": \"white\"}}, \"header\": {\"fill\": {\"color\": \"#C8D4E3\"}, \"line\": {\"color\": \"white\"}}, \"type\": \"table\"}]}, \"layout\": {\"annotationdefaults\": {\"arrowcolor\": \"#2a3f5f\", \"arrowhead\": 0, \"arrowwidth\": 1}, \"coloraxis\": {\"colorbar\": {\"outlinewidth\": 0, \"ticks\": \"\"}}, \"colorscale\": {\"diverging\": [[0, \"#8e0152\"], [0.1, \"#c51b7d\"], [0.2, \"#de77ae\"], [0.3, \"#f1b6da\"], [0.4, \"#fde0ef\"], [0.5, \"#f7f7f7\"], [0.6, \"#e6f5d0\"], [0.7, \"#b8e186\"], [0.8, \"#7fbc41\"], [0.9, \"#4d9221\"], [1, \"#276419\"]], \"sequential\": [[0.0, \"#0d0887\"], [0.1111111111111111, \"#46039f\"], [0.2222222222222222, \"#7201a8\"], [0.3333333333333333, \"#9c179e\"], [0.4444444444444444, \"#bd3786\"], [0.5555555555555556, \"#d8576b\"], [0.6666666666666666, \"#ed7953\"], [0.7777777777777778, \"#fb9f3a\"], [0.8888888888888888, \"#fdca26\"], [1.0, \"#f0f921\"]], \"sequentialminus\": [[0.0, \"#0d0887\"], [0.1111111111111111, \"#46039f\"], [0.2222222222222222, \"#7201a8\"], [0.3333333333333333, \"#9c179e\"], [0.4444444444444444, \"#bd3786\"], [0.5555555555555556, \"#d8576b\"], [0.6666666666666666, \"#ed7953\"], [0.7777777777777778, \"#fb9f3a\"], [0.8888888888888888, \"#fdca26\"], [1.0, \"#f0f921\"]]}, \"colorway\": [\"#636efa\", \"#EF553B\", \"#00cc96\", \"#ab63fa\", \"#FFA15A\", \"#19d3f3\", \"#FF6692\", \"#B6E880\", \"#FF97FF\", \"#FECB52\"], \"font\": {\"color\": \"#2a3f5f\"}, \"geo\": {\"bgcolor\": \"white\", \"lakecolor\": \"white\", \"landcolor\": \"#E5ECF6\", \"showlakes\": true, \"showland\": true, \"subunitcolor\": \"white\"}, \"hoverlabel\": {\"align\": \"left\"}, \"hovermode\": \"closest\", \"mapbox\": {\"style\": \"light\"}, \"paper_bgcolor\": \"white\", \"plot_bgcolor\": \"#E5ECF6\", \"polar\": {\"angularaxis\": {\"gridcolor\": \"white\", \"linecolor\": \"white\", \"ticks\": \"\"}, \"bgcolor\": \"#E5ECF6\", \"radialaxis\": {\"gridcolor\": \"white\", \"linecolor\": \"white\", \"ticks\": \"\"}}, \"scene\": {\"xaxis\": {\"backgroundcolor\": \"#E5ECF6\", \"gridcolor\": \"white\", \"gridwidth\": 2, \"linecolor\": \"white\", \"showbackground\": true, \"ticks\": \"\", \"zerolinecolor\": \"white\"}, \"yaxis\": {\"backgroundcolor\": \"#E5ECF6\", \"gridcolor\": \"white\", \"gridwidth\": 2, \"linecolor\": \"white\", \"showbackground\": true, \"ticks\": \"\", \"zerolinecolor\": \"white\"}, \"zaxis\": {\"backgroundcolor\": \"#E5ECF6\", \"gridcolor\": \"white\", \"gridwidth\": 2, \"linecolor\": \"white\", \"showbackground\": true, \"ticks\": \"\", \"zerolinecolor\": \"white\"}}, \"shapedefaults\": {\"line\": {\"color\": \"#2a3f5f\"}}, \"ternary\": {\"aaxis\": {\"gridcolor\": \"white\", \"linecolor\": \"white\", \"ticks\": \"\"}, \"baxis\": {\"gridcolor\": \"white\", \"linecolor\": \"white\", \"ticks\": \"\"}, \"bgcolor\": \"#E5ECF6\", \"caxis\": {\"gridcolor\": \"white\", \"linecolor\": \"white\", \"ticks\": \"\"}}, \"title\": {\"x\": 0.05}, \"xaxis\": {\"automargin\": true, \"gridcolor\": \"white\", \"linecolor\": \"white\", \"ticks\": \"\", \"title\": {\"standoff\": 15}, \"zerolinecolor\": \"white\", \"zerolinewidth\": 2}, \"yaxis\": {\"automargin\": true, \"gridcolor\": \"white\", \"linecolor\": \"white\", \"ticks\": \"\", \"title\": {\"standoff\": 15}, \"zerolinecolor\": \"white\", \"zerolinewidth\": 2}}}, \"title\": {\"text\": \"Obtained Score Percentage vs Hours-Studied\\n (visual comparison for correctness after Train-Test Split)\", \"x\": 0.5}, \"xaxis\": {\"linecolor\": \"black\", \"linewidth\": 2, \"mirror\": true, \"showline\": true, \"title\": {\"text\": \"Number of Hours Studied\"}}, \"yaxis\": {\"linecolor\": \"black\", \"linewidth\": 2, \"mirror\": true, \"showline\": true, \"title\": {\"text\": \"Obtained Percentage Score\"}}},\n",
              "                        {\"responsive\": true}\n",
              "                    ).then(function(){\n",
              "                            \n",
              "var gd = document.getElementById('a1ddb076-9328-4fc6-b218-11f5329e37fa');\n",
              "var x = new MutationObserver(function (mutations, observer) {{\n",
              "        var display = window.getComputedStyle(gd).display;\n",
              "        if (!display || display === 'none') {{\n",
              "            console.log([gd, 'removed!']);\n",
              "            Plotly.purge(gd);\n",
              "            observer.disconnect();\n",
              "        }}\n",
              "}});\n",
              "\n",
              "// Listen for the removal of the full notebook cells\n",
              "var notebookContainer = gd.closest('#notebook-container');\n",
              "if (notebookContainer) {{\n",
              "    x.observe(notebookContainer, {childList: true});\n",
              "}}\n",
              "\n",
              "// Listen for the clearing of the current output cell\n",
              "var outputEl = gd.closest('.output');\n",
              "if (outputEl) {{\n",
              "    x.observe(outputEl, {childList: true});\n",
              "}}\n",
              "\n",
              "                        })\n",
              "                };\n",
              "                \n",
              "            </script>\n",
              "        </div>\n",
              "</body>\n",
              "</html>"
            ]
          },
          "metadata": {}
        },
        {
          "output_type": "display_data",
          "data": {
            "text/html": [
              "<html>\n",
              "<head><meta charset=\"utf-8\" /></head>\n",
              "<body>\n",
              "    <div>\n",
              "            <script src=\"https://cdnjs.cloudflare.com/ajax/libs/mathjax/2.7.5/MathJax.js?config=TeX-AMS-MML_SVG\"></script><script type=\"text/javascript\">if (window.MathJax) {MathJax.Hub.Config({SVG: {font: \"STIX-Web\"}});}</script>\n",
              "                <script type=\"text/javascript\">window.PlotlyConfig = {MathJaxConfig: 'local'};</script>\n",
              "        <script src=\"https://cdn.plot.ly/plotly-latest.min.js\"></script>    \n",
              "            <div id=\"2652d7bc-87fc-43aa-96bc-2645bb1fb091\" class=\"plotly-graph-div\" style=\"height:525px; width:100%;\"></div>\n",
              "            <script type=\"text/javascript\">\n",
              "                \n",
              "                    window.PLOTLYENV=window.PLOTLYENV || {};\n",
              "                    \n",
              "                if (document.getElementById(\"2652d7bc-87fc-43aa-96bc-2645bb1fb091\")) {\n",
              "                    Plotly.newPlot(\n",
              "                        '2652d7bc-87fc-43aa-96bc-2645bb1fb091',\n",
              "                        [{\"marker\": {\"color\": \"rgba(152, 0, 0, .8)\"}, \"mode\": \"markers\", \"name\": \"train\", \"type\": \"scatter\", \"x\": [7.7, 7.8, 1.5, 3.5, 9.2, 8.3, 1.1, 3.3, 8.5, 5.9, 2.7, 7.4, 3.8, 6.1, 2.5, 3.2, 6.9, 8.9, 4.8, 2.7], \"y\": [21, 47, 27, 75, 30, 20, 88, 60, 81, 25, 85, 62, 41, 42, 17, 95, 30, 24, 67, 69, 30, 54, 35, 76, 86]}, {\"marker\": {\"color\": \"rgba(0, 152, 0, .8)\"}, \"mode\": \"lines+markers\", \"name\": \"prediction\", \"type\": \"scatter\", \"x\": [7.7, 7.8, 1.5, 3.5, 9.2, 8.3, 1.1, 3.3, 8.5, 5.9, 2.7, 7.4, 3.8, 6.1, 2.5, 3.2, 6.9, 8.9, 4.8, 2.7], \"y\": [77.5907881583802, 78.57863068240549, 16.34455166881277, 36.101402149318396, 92.40842601875943, 83.5178433025319, 12.393181572711647, 34.12571710126783, 85.49352835058247, 59.80962272592515, 28.198661957116148, 74.62726058630437, 39.064929721394236, 61.7853077739757, 26.222976909065583, 33.137874577242556, 69.68804796617796, 89.4448984466836, 48.94335496164705, 28.198661957116148]}],\n",
              "                        {\"font\": {\"color\": \"RebeccaPurple\", \"family\": \"TeX Gyre Pagella\", \"size\": 14}, \"template\": {\"data\": {\"bar\": [{\"error_x\": {\"color\": \"#2a3f5f\"}, \"error_y\": {\"color\": \"#2a3f5f\"}, \"marker\": {\"line\": {\"color\": \"#E5ECF6\", \"width\": 0.5}}, \"type\": \"bar\"}], \"barpolar\": [{\"marker\": {\"line\": {\"color\": \"#E5ECF6\", \"width\": 0.5}}, \"type\": \"barpolar\"}], \"carpet\": [{\"aaxis\": {\"endlinecolor\": \"#2a3f5f\", \"gridcolor\": \"white\", \"linecolor\": \"white\", \"minorgridcolor\": \"white\", \"startlinecolor\": \"#2a3f5f\"}, \"baxis\": {\"endlinecolor\": \"#2a3f5f\", \"gridcolor\": \"white\", \"linecolor\": \"white\", \"minorgridcolor\": \"white\", \"startlinecolor\": \"#2a3f5f\"}, \"type\": \"carpet\"}], \"choropleth\": [{\"colorbar\": {\"outlinewidth\": 0, \"ticks\": \"\"}, \"type\": \"choropleth\"}], \"contour\": [{\"colorbar\": {\"outlinewidth\": 0, \"ticks\": \"\"}, \"colorscale\": [[0.0, \"#0d0887\"], [0.1111111111111111, \"#46039f\"], [0.2222222222222222, \"#7201a8\"], [0.3333333333333333, \"#9c179e\"], [0.4444444444444444, \"#bd3786\"], [0.5555555555555556, \"#d8576b\"], [0.6666666666666666, \"#ed7953\"], [0.7777777777777778, \"#fb9f3a\"], [0.8888888888888888, \"#fdca26\"], [1.0, \"#f0f921\"]], \"type\": \"contour\"}], \"contourcarpet\": [{\"colorbar\": {\"outlinewidth\": 0, \"ticks\": \"\"}, \"type\": \"contourcarpet\"}], \"heatmap\": [{\"colorbar\": {\"outlinewidth\": 0, \"ticks\": \"\"}, \"colorscale\": [[0.0, \"#0d0887\"], [0.1111111111111111, \"#46039f\"], [0.2222222222222222, \"#7201a8\"], [0.3333333333333333, \"#9c179e\"], [0.4444444444444444, \"#bd3786\"], [0.5555555555555556, \"#d8576b\"], [0.6666666666666666, \"#ed7953\"], [0.7777777777777778, \"#fb9f3a\"], [0.8888888888888888, \"#fdca26\"], [1.0, \"#f0f921\"]], \"type\": \"heatmap\"}], \"heatmapgl\": [{\"colorbar\": {\"outlinewidth\": 0, \"ticks\": \"\"}, \"colorscale\": [[0.0, \"#0d0887\"], [0.1111111111111111, \"#46039f\"], [0.2222222222222222, \"#7201a8\"], [0.3333333333333333, \"#9c179e\"], [0.4444444444444444, \"#bd3786\"], [0.5555555555555556, \"#d8576b\"], [0.6666666666666666, \"#ed7953\"], [0.7777777777777778, \"#fb9f3a\"], [0.8888888888888888, \"#fdca26\"], [1.0, \"#f0f921\"]], \"type\": \"heatmapgl\"}], \"histogram\": [{\"marker\": {\"colorbar\": {\"outlinewidth\": 0, \"ticks\": \"\"}}, \"type\": \"histogram\"}], \"histogram2d\": [{\"colorbar\": {\"outlinewidth\": 0, \"ticks\": \"\"}, \"colorscale\": [[0.0, \"#0d0887\"], [0.1111111111111111, \"#46039f\"], [0.2222222222222222, \"#7201a8\"], [0.3333333333333333, \"#9c179e\"], [0.4444444444444444, \"#bd3786\"], [0.5555555555555556, \"#d8576b\"], [0.6666666666666666, \"#ed7953\"], [0.7777777777777778, \"#fb9f3a\"], [0.8888888888888888, \"#fdca26\"], [1.0, \"#f0f921\"]], \"type\": \"histogram2d\"}], \"histogram2dcontour\": [{\"colorbar\": {\"outlinewidth\": 0, \"ticks\": \"\"}, \"colorscale\": [[0.0, \"#0d0887\"], [0.1111111111111111, \"#46039f\"], [0.2222222222222222, \"#7201a8\"], [0.3333333333333333, \"#9c179e\"], [0.4444444444444444, \"#bd3786\"], [0.5555555555555556, \"#d8576b\"], [0.6666666666666666, \"#ed7953\"], [0.7777777777777778, \"#fb9f3a\"], [0.8888888888888888, \"#fdca26\"], [1.0, \"#f0f921\"]], \"type\": \"histogram2dcontour\"}], \"mesh3d\": [{\"colorbar\": {\"outlinewidth\": 0, \"ticks\": \"\"}, \"type\": \"mesh3d\"}], \"parcoords\": [{\"line\": {\"colorbar\": {\"outlinewidth\": 0, \"ticks\": \"\"}}, \"type\": \"parcoords\"}], \"pie\": [{\"automargin\": true, \"type\": \"pie\"}], \"scatter\": [{\"marker\": {\"colorbar\": {\"outlinewidth\": 0, \"ticks\": \"\"}}, \"type\": \"scatter\"}], \"scatter3d\": [{\"line\": {\"colorbar\": {\"outlinewidth\": 0, \"ticks\": \"\"}}, \"marker\": {\"colorbar\": {\"outlinewidth\": 0, \"ticks\": \"\"}}, \"type\": \"scatter3d\"}], \"scattercarpet\": [{\"marker\": {\"colorbar\": {\"outlinewidth\": 0, \"ticks\": \"\"}}, \"type\": \"scattercarpet\"}], \"scattergeo\": [{\"marker\": {\"colorbar\": {\"outlinewidth\": 0, \"ticks\": \"\"}}, \"type\": \"scattergeo\"}], \"scattergl\": [{\"marker\": {\"colorbar\": {\"outlinewidth\": 0, \"ticks\": \"\"}}, \"type\": \"scattergl\"}], \"scattermapbox\": [{\"marker\": {\"colorbar\": {\"outlinewidth\": 0, \"ticks\": \"\"}}, \"type\": \"scattermapbox\"}], \"scatterpolar\": [{\"marker\": {\"colorbar\": {\"outlinewidth\": 0, \"ticks\": \"\"}}, \"type\": \"scatterpolar\"}], \"scatterpolargl\": [{\"marker\": {\"colorbar\": {\"outlinewidth\": 0, \"ticks\": \"\"}}, \"type\": \"scatterpolargl\"}], \"scatterternary\": [{\"marker\": {\"colorbar\": {\"outlinewidth\": 0, \"ticks\": \"\"}}, \"type\": \"scatterternary\"}], \"surface\": [{\"colorbar\": {\"outlinewidth\": 0, \"ticks\": \"\"}, \"colorscale\": [[0.0, \"#0d0887\"], [0.1111111111111111, \"#46039f\"], [0.2222222222222222, \"#7201a8\"], [0.3333333333333333, \"#9c179e\"], [0.4444444444444444, \"#bd3786\"], [0.5555555555555556, \"#d8576b\"], [0.6666666666666666, \"#ed7953\"], [0.7777777777777778, \"#fb9f3a\"], [0.8888888888888888, \"#fdca26\"], [1.0, \"#f0f921\"]], \"type\": \"surface\"}], \"table\": [{\"cells\": {\"fill\": {\"color\": \"#EBF0F8\"}, \"line\": {\"color\": \"white\"}}, \"header\": {\"fill\": {\"color\": \"#C8D4E3\"}, \"line\": {\"color\": \"white\"}}, \"type\": \"table\"}]}, \"layout\": {\"annotationdefaults\": {\"arrowcolor\": \"#2a3f5f\", \"arrowhead\": 0, \"arrowwidth\": 1}, \"coloraxis\": {\"colorbar\": {\"outlinewidth\": 0, \"ticks\": \"\"}}, \"colorscale\": {\"diverging\": [[0, \"#8e0152\"], [0.1, \"#c51b7d\"], [0.2, \"#de77ae\"], [0.3, \"#f1b6da\"], [0.4, \"#fde0ef\"], [0.5, \"#f7f7f7\"], [0.6, \"#e6f5d0\"], [0.7, \"#b8e186\"], [0.8, \"#7fbc41\"], [0.9, \"#4d9221\"], [1, \"#276419\"]], \"sequential\": [[0.0, \"#0d0887\"], [0.1111111111111111, \"#46039f\"], [0.2222222222222222, \"#7201a8\"], [0.3333333333333333, \"#9c179e\"], [0.4444444444444444, \"#bd3786\"], [0.5555555555555556, \"#d8576b\"], [0.6666666666666666, \"#ed7953\"], [0.7777777777777778, \"#fb9f3a\"], [0.8888888888888888, \"#fdca26\"], [1.0, \"#f0f921\"]], \"sequentialminus\": [[0.0, \"#0d0887\"], [0.1111111111111111, \"#46039f\"], [0.2222222222222222, \"#7201a8\"], [0.3333333333333333, \"#9c179e\"], [0.4444444444444444, \"#bd3786\"], [0.5555555555555556, \"#d8576b\"], [0.6666666666666666, \"#ed7953\"], [0.7777777777777778, \"#fb9f3a\"], [0.8888888888888888, \"#fdca26\"], [1.0, \"#f0f921\"]]}, \"colorway\": [\"#636efa\", \"#EF553B\", \"#00cc96\", \"#ab63fa\", \"#FFA15A\", \"#19d3f3\", \"#FF6692\", \"#B6E880\", \"#FF97FF\", \"#FECB52\"], \"font\": {\"color\": \"#2a3f5f\"}, \"geo\": {\"bgcolor\": \"white\", \"lakecolor\": \"white\", \"landcolor\": \"#E5ECF6\", \"showlakes\": true, \"showland\": true, \"subunitcolor\": \"white\"}, \"hoverlabel\": {\"align\": \"left\"}, \"hovermode\": \"closest\", \"mapbox\": {\"style\": \"light\"}, \"paper_bgcolor\": \"white\", \"plot_bgcolor\": \"#E5ECF6\", \"polar\": {\"angularaxis\": {\"gridcolor\": \"white\", \"linecolor\": \"white\", \"ticks\": \"\"}, \"bgcolor\": \"#E5ECF6\", \"radialaxis\": {\"gridcolor\": \"white\", \"linecolor\": \"white\", \"ticks\": \"\"}}, \"scene\": {\"xaxis\": {\"backgroundcolor\": \"#E5ECF6\", \"gridcolor\": \"white\", \"gridwidth\": 2, \"linecolor\": \"white\", \"showbackground\": true, \"ticks\": \"\", \"zerolinecolor\": \"white\"}, \"yaxis\": {\"backgroundcolor\": \"#E5ECF6\", \"gridcolor\": \"white\", \"gridwidth\": 2, \"linecolor\": \"white\", \"showbackground\": true, \"ticks\": \"\", \"zerolinecolor\": \"white\"}, \"zaxis\": {\"backgroundcolor\": \"#E5ECF6\", \"gridcolor\": \"white\", \"gridwidth\": 2, \"linecolor\": \"white\", \"showbackground\": true, \"ticks\": \"\", \"zerolinecolor\": \"white\"}}, \"shapedefaults\": {\"line\": {\"color\": \"#2a3f5f\"}}, \"ternary\": {\"aaxis\": {\"gridcolor\": \"white\", \"linecolor\": \"white\", \"ticks\": \"\"}, \"baxis\": {\"gridcolor\": \"white\", \"linecolor\": \"white\", \"ticks\": \"\"}, \"bgcolor\": \"#E5ECF6\", \"caxis\": {\"gridcolor\": \"white\", \"linecolor\": \"white\", \"ticks\": \"\"}}, \"title\": {\"x\": 0.05}, \"xaxis\": {\"automargin\": true, \"gridcolor\": \"white\", \"linecolor\": \"white\", \"ticks\": \"\", \"title\": {\"standoff\": 15}, \"zerolinecolor\": \"white\", \"zerolinewidth\": 2}, \"yaxis\": {\"automargin\": true, \"gridcolor\": \"white\", \"linecolor\": \"white\", \"ticks\": \"\", \"title\": {\"standoff\": 15}, \"zerolinecolor\": \"white\", \"zerolinewidth\": 2}}}, \"title\": {\"text\": \"Obtained Score Percentage vs Hours-Studied\\n (visual comparison for correctness after Train-Test Split)\", \"x\": 0.5}, \"xaxis\": {\"linecolor\": \"black\", \"linewidth\": 2, \"mirror\": true, \"showline\": true, \"title\": {\"text\": \"Number of Hours Studied\"}}, \"yaxis\": {\"linecolor\": \"black\", \"linewidth\": 2, \"mirror\": true, \"showline\": true, \"title\": {\"text\": \"Obtained Percentage Score\"}}},\n",
              "                        {\"responsive\": true}\n",
              "                    ).then(function(){\n",
              "                            \n",
              "var gd = document.getElementById('2652d7bc-87fc-43aa-96bc-2645bb1fb091');\n",
              "var x = new MutationObserver(function (mutations, observer) {{\n",
              "        var display = window.getComputedStyle(gd).display;\n",
              "        if (!display || display === 'none') {{\n",
              "            console.log([gd, 'removed!']);\n",
              "            Plotly.purge(gd);\n",
              "            observer.disconnect();\n",
              "        }}\n",
              "}});\n",
              "\n",
              "// Listen for the removal of the full notebook cells\n",
              "var notebookContainer = gd.closest('#notebook-container');\n",
              "if (notebookContainer) {{\n",
              "    x.observe(notebookContainer, {childList: true});\n",
              "}}\n",
              "\n",
              "// Listen for the clearing of the current output cell\n",
              "var outputEl = gd.closest('.output');\n",
              "if (outputEl) {{\n",
              "    x.observe(outputEl, {childList: true});\n",
              "}}\n",
              "\n",
              "                        })\n",
              "                };\n",
              "                \n",
              "            </script>\n",
              "        </div>\n",
              "</body>\n",
              "</html>"
            ]
          },
          "metadata": {}
        },
        {
          "output_type": "stream",
          "name": "stdout",
          "text": [
            "[3606.203105861573, 3580.8374922402168, 3555.651872771015, 3530.6449702170758, 3505.815516404776, 3481.162252159441, 3456.68392724148, 3432.3793002830016, 3408.2471387248443, 3384.2862187540763, 3360.4953252419314, 3336.8732516821865, 3313.4188001299744, 3290.130781141037, 3267.0080137113987, 3244.0493252174792, 3221.253551356625, 3198.6195360880624, 3176.146131574273, 3153.8321981227846, 3131.67660412837, 3109.6782260156647, 3087.835948182184, 3066.148662941749, 3044.615270468311, 3023.234678740178, 3002.0058034846325, 2980.927568122949, 2959.998903715794, 2939.218748909017, 2918.5860498798265, 2898.099760283351, 2877.758841199569, 2857.5622610806295, 2837.508995698534, 2817.598028093198, 2797.828348520874, 2778.1989544029507, 2758.7088502751017, 2739.3570477368094, 2720.142565401237, 2701.06442884546, 2682.1216705610477, 2663.3133299050032, 2644.6384530510436, 2626.096092941228, 2607.6853092379297, 2589.405168276151, 2571.25474301617, 2553.2331129965323, 2535.3393642873702, 2517.5725894440525, 2499.931887461168, 2482.416363726831, 2465.0251299773145, 2447.757304252003, 2430.612010848665, 2413.588380279044, 2396.685549224766, 2379.902660493554, 2363.23886297576, 2346.6933116012065, 2330.2651672963207, 2313.953596941591, 2297.7577733293147, 2281.676875121648, 2265.710086808951, 2249.8565986684334, 2234.115606723094, 2218.4863127009385, 2202.9679239945103, 2187.559653620684, 2172.2607201807614, 2157.0703478208407, 2141.987766192474, 2127.0122104136, 2112.142921029748, 2097.3791439755378, 2082.7201305364233, 2068.165137310735, 2053.713426171971, 2039.364264231372, 2025.1169238007474, 2010.970682355579, 1996.9248224983724, 1982.9786319222821, 1969.1314033749845, 1955.3824346228125, 1941.731028415143, 1928.1764924490355, 1914.7181393341266, 1901.3552865577687, 1888.0872564504182, 1874.9133761512653, 1861.8329775741186, 1848.8453973735182, 1835.9499769110978, 1823.1460622221844, 1810.433003982629, 1797.8101574758853, 1785.276882560307, 1772.832543636688, 1760.4765096160274, 1748.2081538875289, 1736.026854286818, 1723.9319930643935, 1711.922956854301, 1699.9991366430233, 1688.1599277385988, 1676.4047297399538, 1664.7329465064563, 1653.1439861276813, 1641.6372608933968, 1630.212187263756, 1618.8681858397053, 1607.6046813336038, 1596.4211025400434, 1585.3168823068872, 1574.291457506503, 1563.344269007208, 1552.474761644912, 1541.6823841949658, 1530.9665893442038, 1520.3268336631907, 1509.7625775786605, 1499.2732853461562, 1488.8584250228555, 1478.517468440601, 1468.24989117911, 1458.0551725393814, 1447.9327955172905, 1437.8822467773675, 1427.9030166267685, 1417.9945989894243, 1408.1564913803766, 1398.3881948802964, 1388.6892141101825, 1379.0590572062379, 1369.4972357949264, 1360.0032649682062, 1350.5766632589387, 1341.2169526164728, 1331.9236583823981, 1322.696309266478, 1313.5344373227476, 1304.4375779257798, 1295.405269747129, 1286.4370547319286, 1277.5324780756669, 1268.6910882011214, 1259.9124367354564, 1251.1960784874861, 1242.5415714250983, 1233.9484766528353, 1225.4163583896386, 1216.944783946748, 1208.5333237057584, 1200.181551096833, 1191.8890425770717, 1183.6553776090304, 1175.4801386393945, 1167.3629110778043, 1159.3032832758308, 1151.3008465060961, 1143.3551949415507, 1135.4659256348882, 1127.6326384981132, 1119.8549362822519, 1112.1324245572046, 1104.4647116917445, 1096.8514088336574, 1089.2921298900185, 1081.7864915076177, 1074.334113053514, 1066.9346165957356, 1059.5876268841114, 1052.2927713312424, 1045.0496799936068, 1037.857985552799, 1030.7173232969005, 1023.6273311019864, 1016.5876494137594, 1009.5979212293157, 1002.657792079042, 995.7669100086381, 988.9249255612667, 982.1314917598356, 975.3862640893965, 968.688900479678, 962.0390612877352, 955.4364092807267, 948.8806096188127, 942.3713298381733, 935.9082398341492, 929.4910118445016, 923.1193204327872, 916.7928424718596, 910.511257127478, 904.2742458420396, 898.0814923184219, 891.9326825039456, 885.8275045744449, 879.7656489184576, 873.7468081215193, 867.7706769505769, 861.836952338509, 855.9453333687546, 850.0955212600544, 844.2872193512985, 838.5201330864815, 832.7939699997638, 827.1084397006425, 821.4632538592211, 815.8581261915917, 810.2927724453126, 804.7669103849955, 799.2802597779923, 793.8325423801823, 788.4234819218636, 783.0528040937411, 777.7202365330161, 772.4255088095734, 767.1683524122685, 761.9485007353089, 756.7656890647343, 751.6196545649923, 746.5101362656098, 741.4368750479573, 736.3996136321089, 731.3980965637944, 726.4320702014459, 721.5012827033325, 716.6054840147906, 711.7444258555422, 706.9178617071036, 702.1255468002848, 697.3672381027751, 692.642694306819, 687.9516758169786, 683.2939447379838, 678.6692648626663, 674.0774016599821, 669.5181222631172, 664.9911954576789, 660.4963916699692, 656.0334829553433, 651.6022429866493, 647.2024470427516, 642.8338719971323, 638.4962963065784, 634.1894999999455, 629.9132646670015, 625.6673734473528, 621.4516110194439, 617.2657635896396, 613.1096188813831, 608.9829661244287, 604.8855960441556, 600.8173008509539, 596.7778742296861, 592.7671113292256, 588.784808752067, 584.8307645440129, 580.9047781839303, 577.0066505735819, 573.1361840275306, 569.2931822631133, 565.4774503904862, 561.6887949027423, 557.9270236660989, 554.1919459101513, 550.4833722182015, 546.8011145176494, 543.1449860704568, 539.5148014636767, 535.9103766000516, 532.3315286886759, 528.7780762357263, 525.2498390352581, 521.7466381600673, 518.2682959526143, 514.814636016017, 511.38548320510364, 507.9806636175308, 504.6000045849646, 501.2433346643241, 497.91048362908714, 494.6012824606572, 491.3155633397925, 488.0531596380944, 484.81390590955914, 481.5976378821846, 478.40419244964306, 475.23340766300663, 472.08512272253586, 468.959177969525, 465.8554148782052, 462.7736760477043, 459.7138051940666, 456.6756471423241, 453.6590478186307, 450.6638542424463, 447.689914518779, 444.73707783048286, 441.80519443060865, 438.8941156348109, 436.0036938138061, 433.133782385887, 430.28423580948913, 427.45490957580904, 424.64566020147777, 421.85634522128146, 419.0868231809389, 416.3369536299273, 413.6065971143594, 410.89561516991114, 408.20387031480084, 405.5312260428152, 402.8775468163889, 400.2426980597291, 397.62654615199204, 395.02895842050646, 392.44980313404454, 389.88894949614235, 387.34626763846705, 384.82162861422916, 382.31490439164577, 379.82596784744544, 377.3546927604226, 374.900953805036, 372.4646265450541, 370.04558742724254, 367.64371377510065, 365.2588837826385, 362.8909765082008, 360.53987186833274, 358.20545063169067, 355.8875944129957, 353.58618566703, 351.30110768267497, 349.03224457699343, 346.7794812893526, 344.54270357558863, 342.3217980022133, 340.1166519406616, 337.9271535615794, 335.75319182915325, 333.59465649547843, 331.45143809496824, 329.323427938803, 327.2105181094182, 325.11260145503087, 323.02957158420656, 320.96132286046316, 318.90775039691425, 316.86875005094976, 314.84421841895465, 312.8340528310654, 310.83815134596205, 308.85641274570025, 306.8887365305764, 304.9350229140329, 302.9951728175955, 301.069087865851, 299.1566703814567, 297.2578233801873, 295.37245056601733, 293.5004563262362, 291.641745726601, 289.79622450652107, 287.9637990742778, 286.14437650227893, 284.33786452234546, 282.5441715210326, 280.76320653498345, 278.994879246317, 277.23909997804594, 275.49577968953133, 273.7648299719649, 272.04616304388685, 270.33969174673405, 268.645329540419, 266.96299049894276, 265.29258930603606, 263.634041250833, 261.98726222357556, 260.35216871134753, 258.7286777938398, 257.11670713914475, 255.51617499958166, 253.92700020755032, 252.34910217141515, 250.78240087141813, 249.2268168556206, 247.68227123587403, 246.14868568382002, 244.62598242691712, 243.11408424449695, 241.61291446384877, 240.12239695633042, 238.64245613350786, 237.17301694332195, 235.71400486628258, 234.2653459116887, 232.82696661387718, 231.39879402849618, 229.9807557288065, 228.57277980200843, 227.17479484559462, 225.78672996372975, 224.40851476365415, 223.04007935211493, 221.681354331821, 220.33227079792377, 218.99276033452293, 217.6627550111967, 216.3421873795569, 215.0309904698287, 213.72909778745407, 212.4364433097197, 211.15296148240918, 209.87858721647754, 208.61325588475202, 207.35690331865288, 206.10946580494047, 204.87088008248367, 203.64108333905182, 202.42001320812898, 201.2076077657519, 200.00380552736897, 198.80854544472226, 197.6217669027521, 196.4434097165223, 195.2734141281688, 194.11172080386882, 192.95827083083145, 191.8130057143107, 190.67586737463893, 189.54679814428104, 188.42574076491033, 187.31263838450454, 186.20743455446313, 185.1100732267441, 184.02049875102188, 182.93865587186514, 181.8644897259349, 180.79794583920122, 179.73897012418203, 178.68750887719926, 177.6435087756558, 176.60691687533102, 175.57768060769635, 174.55574777724854, 173.54106655886363, 172.53358549516793, 171.5332534939288, 170.54001982546407, 169.55383412006842, 168.57464636545973, 167.6024069042428, 166.63706643139042, 165.6785759917437, 164.72688697752906, 163.78195112589336, 162.84372051645582, 161.912147568879, 160.987185040454, 160.0687860237069, 159.1569039440181, 158.25149255726132, 157.35250594745818, 156.45989852444964, 155.57362502158378, 154.69364049342101, 153.81990031345373, 152.95236017184365, 152.09097607317486, 151.23570433422245, 150.3865015817372, 149.54332475024626, 148.7061310798688, 147.87487811414806, 147.04952369789743, 146.23002597506337, 145.4163433866025, 144.60843466837417, 143.80625884904762, 143.0097752480241, 142.2189434733743, 141.43372341978952, 140.65407526654798, 139.87995947549516, 139.11133678903974, 138.3481682281609, 137.59041509043303, 136.83803894806283, 136.0910016459399, 135.3492652997025, 134.61279229381566, 133.8815452796641, 133.15548717365778, 132.4345811553517, 131.7187906655783, 131.00807940459364, 130.3024113302364, 129.60175065610017, 128.90606184971816, 128.21530963076228, 127.52945896925296, 126.84847508378286, 126.17232343975361, 125.500969747624, 124.83437996117077, 124.17252027576244, 123.51535712664523, 122.86285718724025, 122.2149873674537, 121.57171481199914, 120.93300689873024, 120.29883123698782, 119.6691556659564, 119.04394825303321, 118.42317729220865, 117.80681130245917, 117.19481902615016, 116.58716942745086, 115.9838316907604, 115.38477521914517, 114.78996963278738, 114.19938476744377, 113.61299067291637, 113.03075761153389, 112.45265605664295, 111.87865669111086, 111.30873040583955, 110.74284829828855, 110.18098167100962, 109.62310203019115, 109.0691810842138, 108.51919074221507, 107.97310311266449, 107.43089050195064, 106.89252541297489, 106.35798054375812, 105.82722878605588, 105.3002432239834, 104.77699713265072, 104.25746397680754, 103.74161740949778, 103.2294312707226, 102.72087958611458, 102.21593656561996, 101.71457660219139, 101.2167742704886, 100.72250432558923, 100.23174170170877, 99.74446151092914, 99.26063904193731, 98.78024975877075, 98.30326929957432, 97.829673475364, 97.35943826880117, 96.8925398329735, 96.42895449018651, 95.96865873076204, 95.51162921184678, 95.05784275622788, 94.60727635115788, 94.15990714718752, 93.71571245700707, 93.27466975429563, 92.83675667257889, 92.40195100409498, 91.97023069866825, 91.54157386259044, 91.11595875751107, 90.69336379933502, 90.27376755712733, 89.85714875202702, 89.44348625616746, 89.03275909160575, 88.62494642925743, 88.22002758784183, 87.81798203283192, 87.41878937541397, 87.02242937145256, 86.62888192046479, 86.23812706460059, 85.85014498763043, 85.46491601394078, 85.08242060753602, 84.70263937104775, 84.32555304475133, 83.95114250558862, 83.57938876619872, 83.21027297395464, 82.84377641000788, 82.47988048833834, 82.1185667548124, 81.75981688624675, 81.4036126894791, 81.04993610044579, 80.69876918326545, 80.35009412932983, 80.00389325640009, 79.66014900771083, 79.31884395107878, 78.97996077801966, 78.64348230286984, 78.30939146191506, 77.97767131252519, 77.64830503229456, 77.32127591818933, 76.99656738570025, 76.67416296800143, 76.35404631511564, 76.03620119308484, 75.72061148314681, 75.40726118091831, 75.09613439558275, 74.78721534908497, 74.48048837533038, 74.175937919391, 73.87354853671648, 73.57330489235085, 73.27519176015493, 72.97919402203404, 72.68529666717129, 72.3934847912666, 72.10374359578039, 71.8160583871835, 71.53041457621227, 71.24679767712763, 70.96519330698173, 70.68558718488777, 70.40796513129621, 70.13231306727504, 69.85861701379669, 69.58686309102838, 69.31703751762844, 69.04912661004782, 68.78311678183539, 68.51899454294974, 68.25674649907435, 67.99635935093887, 67.73781989364426, 67.4811150159936, 67.22623169982657, 66.97315701935987, 66.72187814053129, 66.47238232034904, 66.2246569062456, 65.97868933543573, 65.7344671342799, 65.4919779176511, 65.2512093883074, 65.01214933626764, 64.77478563819274, 64.5391062567708, 64.3050992401064, 64.07275272111502, 63.842054916920276, 63.612994128257625, 63.385558738879844, 63.15973721496882, 62.93551810455021, 62.71289003691273, 62.49184172203188, 62.27236194999646, 62.05443959044128, 61.83806359198178, 61.623222981654166, 61.40990686435841, 61.19810442230639, 60.987804914472484, 60.77899767604966, 60.571672117908065, 60.36581772605806, 60.16142406111768, 59.95848075778228, 59.75697752429943, 59.55690414194703, 59.35825046451468, 59.16100641778976, 58.9651619990457, 58.77070727653565, 58.577632388988015, 58.38592754510692, 58.19558302307526, 58.00658917006193, 57.81893640173233, 57.63261520176197, 57.44761612135445, 57.2639297787616, 57.081546858808295, 56.90045811241968, 56.720654356152224, 56.54212647172822, 56.364865405572935, 56.18886216835589, 56.01410783453495, 55.84059354190299, 55.66831049113963, 55.49724994536409, 55.32740322969265, 55.15876173079803, 54.99131689647354, 54.82506023519862, 54.65998331570846, 54.4960777665666, 54.333335275739955, 54.171747590177844, 54.01130651539279, 53.85200391504567, 53.69383171053266, 53.536781880575504, 53.38084646081518, 53.2260175434072, 53.07228727662145, 52.91964786444358, 52.76809156617948, 52.61761069606314, 52.46819762286661, 52.319844769513125, 52.17254461269264, 52.02628968248049, 51.88107256195881, 51.736885886839595, 51.59372234509226, 51.45157467657204, 51.31043567265215, 51.17029817585814, 51.031155079505126, 50.89299932733686, 50.75582391316847, 50.61962188053083, 50.48438632231791, 50.3501103804363, 50.21678724545783, 50.08441015627362, 49.95297239975191, 49.82246731039694, 49.692888270011494, 49.564228707360805, 49.43648209783984, 49.30964196314178, 49.18370187092998, 49.058655434511586, 48.93449631251359, 48.811218208561414, 48.68881487095939, 48.56728009237408, 48.44660770951886, 48.32679160284178, 48.207825696215544, 48.08970395662855, 47.97242039387981, 47.85596906027437, 47.74034405032238, 47.625539500438904, 47.5115495886474, 47.3983685342838, 47.28599059770348, 47.174410079990466, 47.06362132266813, 46.953618707412375, 46.844396655766744, 46.735949628859295, 46.628272127121974, 46.52135869001178, 46.41520389573334, 46.309802360964525, 46.205148740583084, 46.10123772739594, 45.99806405186955, 45.89562248186296, 45.79390782236255, 45.69291491521837, 45.5926386388828, 45.49307390815056, 45.39421567390092, 45.29605892284177, 45.19859867725523, 45.10182999474519, 45.00574796798689, 44.91034772447765, 44.81562442629026, 44.72157326982742, 44.62818948557791, 44.53546833787509, 44.44340512465642, 44.3519951772253, 44.261233860014116, 44.17111657034912, 44.081638738217194, 43.992795826033884, 43.90458332841357, 43.81699677194065, 43.7300317149428, 43.64368374726602, 43.557948490050464, 43.472821595508826, 43.38829874670547, 43.304375657337786, 43.22104807151879, 43.13831176356111, 43.05616253776296, 42.97459622819504, 42.893608698489615, 42.813195841630446, 42.73335357974478, 42.654077863896276, 42.575364673879925, 42.497210018017924, 42.419609932957506, 42.34256048346981, 42.26605776225025, 42.19009788972044, 42.114677013831496, 42.03979130986861, 41.96543698025719, 41.89161025437011, 41.81830738833659, 41.745524664852404, 41.673258392991116, 41.60150490801723, 41.53026057120012, 41.4595217696296, 41.389284916032594, 41.319546448591254, 41.25030283076255, 41.18155055109851, 41.113286123068505, 41.0455060848822, 40.9782069993142, 40.91138545352952, 40.84503805891075, 40.77916145088587, 40.71375228875811, 40.648807255535964, 40.58432305776559, 40.52029642536317, 40.456724111449496, 40.39360289218522, 40.33092956660726, 40.26870095646654, 40.2069139060669, 40.1455652821049, 40.08465197351097, 40.02417089129167, 39.964118968373135, 39.90449315944528, 39.84529044080765, 39.78650781021582, 39.72814228672925, 39.67019091056034, 39.612650742923876, 39.555518865888374, 39.49879238222794, 39.4424684152753, 39.38654410877604, 39.33101662674375, 39.27588315331603, 39.221140892611935, 39.16678706859004, 39.1128189249076, 39.059233724780995, 39.00602875084666, 38.95320130502352, 38.90074870837596, 38.84866830097815, 38.79695744177908, 38.745613508468516, 38.694633897344225, 38.64401602317971, 38.59375731909337, 38.54385523641801, 38.494307244571786, 38.445110830930055, 38.39626350069736, 38.347762776781664, 38.29960619966806, 38.2517913272945, 38.20431573492775, 38.15717701504043, 38.11037277718904, 38.06390064789258, 38.017758270512175, 37.971943305131774, 37.92645342843923, 37.88128633360879, 37.836439730183635, 37.79191134396025, 37.74769891687274, 37.703800206878405, 37.660212987844126, 37.61693504943334, 37.573964196994126, 37.53129825144769, 37.488935049177954, 37.446872441921855, 37.40510829666042, 37.36364049551054, 37.322466935617655, 37.28158552904891, 37.240994202687446, 37.20069089812731, 37.16067357156886, 37.12094019371531, 37.08148874966971, 37.04231723883281, 37.00342367480168, 36.964806085268705, 36.926462511921926, 36.888391010345394, 36.85058964992089, 36.813056513729705, 36.77578969845566, 36.738787314288345, 36.7020474848276, 36.66556834698812, 36.62934805090501, 36.59338475984004, 36.55767665008833, 36.52222191088618, 36.48701874431901, 36.452065365230126, 36.41736000113039, 36.38290089210817, 36.34868629074018, 36.31471446200281, 36.28098368318427, 36.2474922437969, 36.21423844549081, 36.18122060196762, 36.14843703889474, 36.11588609382079, 36.083566116091006, 36.051475466763776, 36.019612518527346, 35.9879756556173, 35.95656327373471, 35.925373779964765, 35.89440559269595, 35.863657141539875, 35.833126867251515, 35.80281322165038, 35.77271466754173, 35.742829678638806, 35.71315673948531, 35.683694345378704, 35.65444100229375, 35.6253952268068, 35.59655554602053, 35.56792049748935, 35.53948862914517, 35.511258499223665, 35.483228676191416, 35.45539773867293, 35.427764275379026, 35.40032688503484, 35.373084176309085, 35.3460347677432, 35.319177287681505, 35.292510374201626, 35.266032675045345, 35.23974284755005, 35.21363955858059, 35.187721484461846, 35.161987310911364, 35.136435732972934, 35.111065454950264, 35.08587519034125, 35.06086366177294, 35.03602960093643, 35.01137174852288, 34.98688885415937, 34.962579676345754, 34.93844298239143, 34.91447754835296, 34.89068215897215, 34.86705560761406, 34.843596696206205, 34.82030423517746, 34.79717704339801, 34.77421394811922, 34.75141378491439, 34.72877539761945, 34.70629763827456, 34.68397936706574, 34.661819452267096, 34.63981677018357, 34.61797020509364, 34.59627864919317, 34.57474100253883, 34.55335617299247, 34.53212307616578, 34.51104063536534, 34.490107781537844, 34.46932345321599, 34.44868659646464, 34.428196164827426, 34.407851119273474, 34.38765042814506, 34.367593067105005, 34.34767801908477, 34.327904274232985, 34.30827082986413, 34.288776690407786, 34.269420867358114, 34.25020237922359, 34.23112025147745, 34.21217351650814, 34.19336121357024, 34.17468238873581, 34.15613609484592, 34.13772139146268, 34.11943734482159, 34.10128302778416, 34.08325751979074, 34.065359906814, 34.04758928131274, 34.02994474218532, 34.01242539472459, 33.995030350572065, 33.97775872767315, 33.960609650232286, 33.94358224866848, 33.92667565957135, 33.90988902565728, 33.89322149572582, 33.87667222461671, 33.860240373166974, 33.843925108168314, 33.82772560232474, 33.81164103421094, 33.79567058823033, 33.77981345457376, 33.76406882917859, 33.74843591368766, 33.73291391540906, 33.71750204727571, 33.7021995278057, 33.687005581062394, 33.671919436615205, 33.65694032950051, 33.64206750018293, 33.62730019451666, 33.61263766370738, 33.59807916427413, 33.583623958011785, 33.569271311953415, 33.555020498333214, 33.54087079454971, 33.5268214831289, 33.51287185168798, 33.4990211928993, 33.48526880445429, 33.47161398902801, 33.458056054243684, 33.444594312637705, 33.431228081624674, 33.41795668346279, 33.404779445219525, 33.391695698737465, 33.37870478060039, 33.365806032099805, 33.352998799201266, 33.340282432511415, 33.32765628724498, 33.31511972319208, 33.30267210468577, 33.29031280056972, 33.27804118416638, 33.265856633245036, 33.25375852999032, 33.24174626097092, 33.229819217108385, 33.21797679364629, 33.20621839011955, 33.19454341032395, 33.18295126228602, 33.171441358232876, 33.160013114562446, 33.14866595181389, 33.137399294638286, 33.126212571769294, 33.11510521599432, 33.10407666412573, 33.093126356972185, 33.08225373931045, 33.071458259857124, 33.06073937124067, 33.050096529973715, 33.03952919642551, 33.02903683479444, 33.018618913081035, 33.00827490306075, 32.998004280257454, 32.98780652391666, 32.97768111697907, 32.96762754605449, 32.957645301395814, 32.94773387687293, 32.93789276994742, 32.9281214816467, 32.91841951653895, 32.908786382707945, 32.89922159172811, 32.88972465863968, 32.88029510192419, 32.870932443480086, 32.86163620859829, 32.85240592593835, 32.843241127504406, 32.83414134862149, 32.82510612791202, 32.81613500727225, 32.80722753184923, 32.79838325001757, 32.78960171335665, 32.78088247662778, 32.77222509775178, 32.763629137786346, 32.755094160904065, 32.74661973436992, 32.73820542851981, 32.729850816738356, 32.72155547543757, 32.713318984035126, 32.705140924933225, 32.69702088349728, 32.68895844803499, 32.68095320977544, 32.67300476284824, 32.66511270426321, 32.65727663388964, 32.64949615443628, 32.64177087143089, 32.63410039320056, 32.626484330851596, 32.61892229824991, 32.61141391200145, 32.603958791432646, 32.5965565585713, 32.58920683812721, 32.58190925747322, 32.574663446626445, 32.56746903822925, 32.56032566753087, 32.55323297236879, 32.54619059315037, 32.53919817283463, 32.53225535691419, 32.52536179339718, 32.51851713278958, 32.511721028077275, 32.50497313470857, 32.49827311057676, 32.49162061600266, 32.485015313717504, 32.47845686884573, 32.471944948888115, 32.465479223704776, 32.45905936549854, 32.452685048798244, 32.44635595044237, 32.44007174956241, 32.43383212756681, 32.427636768124714, 32.421485357150004, 32.41537758278521, 32.40931313538597, 32.40329170750494, 32.39731299387657, 32.39137669140142, 32.38548249913087, 32.37963011825178, 32.37381925207143, 32.36804960600242, 32.36232088754772, 32.35663280628587, 32.350985073856215, 32.345377403944354, 32.33980951226753, 32.33428111656027, 32.32879193656006, 32.323341693993086, 32.31793011256025, 32.31255691792294, 32.30722183768938, 32.30192460140059, 32.296664940516784, 32.29144258840385, 32.28625728031949, 32.281108753400154, 32.27599674664759, 32.270921000915514, 32.265881258896606, 32.260877265109315, 32.25590876588503, 32.2509755093552, 32.246077245438514, 32.24121372582819, 32.23638470397949, 32.23158993509713, 32.226829176122855, 32.222102185723216, 32.21740872427723, 32.212748553864266, 32.20812143825194, 32.20352714288424, 32.19896543486953, 32.19443608296877, 32.189938857583726, 32.185473530745504, 32.181039876102815, 32.1766376689106, 32.17226668601849, 32.1679267058597, 32.16361750843958, 32.15933887532468, 32.155090589631456, 32.150872436015405, 32.14668420066007, 32.14252567126629, 32.13839663704135, 32.134296888688326, 32.13022621839543, 32.126184419825506, 32.12217128810564, 32.118186619816626, 32.11423021298271, 32.11030186706143, 32.106401382933306, 32.10252856289182, 32.098683210633354, 32.09486513124731, 32.09107413120615, 32.087310018355616, 32.083572601904976, 32.0798616924173, 32.076177101799956, 32.07251864329497, 32.06888613146968, 32.065279382207166, 32.06169821269706, 32.05814244142617, 32.054611888169326, 32.05110637398026, 32.04762572118251, 32.044169753360386, 32.040738295349996, 32.03733117323051, 32.03394821431516, 32.0305892471426, 32.027254101468145, 32.023942608255176, 32.020654599666585, 32.017389909056156, 32.01414837096029, 32.010929821089476, 32.007734096319986, 32.0045610346856, 32.00141047536948, 31.998282258695873, 31.995176226122112, 31.99209222023054, 31.989030084720547, 31.98598966440057, 31.98297080518043, 31.9799733540632, 31.97699715913774, 31.974042069570782, 31.97110793559947, 31.968194608523554, 31.96530194069802, 31.962429785525522, 31.959577997449024, 31.956746431944254, 31.95393494551264, 31.951143395673682, 31.948371640958037, 31.945619540900243, 31.942886956031526, 31.940173747872784, 31.937479778927603, 31.934804912675226, 31.93214901356358, 31.92951194700255, 31.926893579357074, 31.924293777940296, 31.921712411007007, 31.919149347746703, 31.916604458277266, 31.91407761363816, 31.911568685783926, 31.909077547577745, 31.906604072784983, 31.90414813606669, 31.901709612973384, 31.899288379938696, 31.896884314272977, 31.894497294157294, 31.892127198637105, 31.88977390761611, 31.88743730185027, 31.88511726294172, 31.88281367333267, 31.880526416299556, 31.878255375947116, 31.8760004372024, 31.873761485809133, 31.871538408321648, 31.86933109209943, 31.86713942530119, 31.864963296879278, 31.862802596574028, 31.860657214908183, 31.85852704318133, 31.856411973464382, 31.854311898594176, 31.852226712167898, 31.850156308537784, 31.848100582805824, 31.846059430818265, 31.84403274916047, 31.842020435151618, 31.840022386839546, 31.838038502995534, 31.8360686831091, 31.83411282738309, 31.832170836728444, 31.83024261275927, 31.828328057787836, 31.82642707481951, 31.824539567548065, 31.82266544035055, 31.82080459828265, 31.818956947073662, 31.817122393121924, 31.815300843489958, 31.81349220589969, 31.81169638872791, 31.809913301001625, 31.808142852393246, 31.80638495321629, 31.804639514420597, 31.80290644758791, 31.801185664927452, 31.799477079271327, 31.797780604070255, 31.796096153389026, 31.794423641902323, 31.792762984890214, 31.79111409823401, 31.789476898411827, 31.787851302494566, 31.786237228141523, 31.784634593596316, 31.783043317682665, 31.781463319800377, 31.77989451992114, 31.7783368385845, 31.776790196893977, 31.775254516512774, 31.77372971966015, 31.77221572910713, 31.77071246817286, 31.769219860720547, 31.76773783115373, 31.76626630441236, 31.76480520596897, 31.763354461824957, 31.761913998506866, 31.760483743062515, 31.759063623057507, 31.75765356657131, 31.756253502193847, 31.754863359021687, 31.75348306665458, 31.752112555191836, 31.75075175522874, 31.74940059785311, 31.748059014641733, 31.746726937656984, 31.745404299443237, 31.74409103302358, 31.742787071896384, 31.741492350031894, 31.740206801868897, 31.738930362311397, 31.737662966725345, 31.736404550935283, 31.735155051221227, 31.73391440431529, 31.732682547398497, 31.731459418097735, 31.73024495448242, 31.729039095061417, 31.727841778780014, 31.726652945016628, 31.72547253357992, 31.72430048470569, 31.723136739053757, 31.721981237705016, 31.720833922158544, 31.71969473432845, 31.718563616541054, 31.717440511531947, 31.71632536244299, 31.715218112819564, 31.714118706607696, 31.713027088151108, 31.711943202188486, 31.710866993850594, 31.709798408657655, 31.708737392516376, 31.707683891717362, 31.706637852932317, 31.705599223211408, 31.70456794998048, 31.70354398103843, 31.702527264554668, 31.70151774906629, 31.700515383475626, 31.699520117047605, 31.69853189940713, 31.69755068053654, 31.69657641077323, 31.69560904080685, 31.694648521677056, 31.69369480477088, 31.692747841820278, 31.691807584899845, 31.6908739864241, 31.68994699914533, 31.689026576151043, 31.68811267086162, 31.68720523702807, 31.686304228729465, 31.68540960037081, 31.684521306680615, 31.683639302708677, 31.682763543823665, 31.681893985711042, 31.681030584370717, 31.68017329611481, 31.679322077565423, 31.678476885652486, 31.677637677611568, 31.676804410981692, 31.675977043603165, 31.67515553361547, 31.674339839455143, 31.673529919853603, 31.6727257338352, 31.67192724071498, 31.671134400096662, 31.670347171870738, 31.669565516212153, 31.668789393578617, 31.668018764708307, 31.667253590618014, 31.666493832601255, 31.6657394522261, 31.66499041133335, 31.664246672034626, 31.663508196710374, 31.662774948008007, 31.662046888839985, 31.66132398238188, 31.660606192070684, 31.65989348160277, 31.65918581493213, 31.658483156268527, 31.657785470075687, 31.657092721069567, 31.656404874216413, 31.655721894731112, 31.65504374807541, 31.654370399956086, 31.65370181632324, 31.65303796336871, 31.652378807524137, 31.651724315459397, 31.651074454080835, 31.650429190529657, 31.649788492180267, 31.649152326638518, 31.648520661740207, 31.64789346554928, 31.647270706356373, 31.646652352677098, 31.646038373250484, 31.64542873703737, 31.64482341321891, 31.644222371194864, 31.64362558058222, 31.64303301121347, 31.642444633135227, 31.641860416606647, 31.64128033209795, 31.64070435028889, 31.64013244206719, 31.639564578527303, 31.639000730968668, 31.63844087089447, 31.637884970010038, 31.63733300022154, 31.63678493363446, 31.63624074255221, 31.635700399474786, 31.635163877097284, 31.634631148308546, 31.634102186189885, 31.633576964013486, 31.633055455241298, 31.63253763352356, 31.632023472697448, 31.631512946785875, 31.631006029995994, 31.630502696718032, 31.630002921523953]\n",
            "[3606.203105861573, 3580.8374922402168, 3555.6518727710154, 3530.6449702170758, 3505.8155164047766, 3481.162252159441, 3456.68392724148, 3432.379300283002, 3408.2471387248443, 3384.2862187540763, 3360.4953252419314, 3336.873251682187, 3313.4188001299744, 3290.130781141037, 3267.0080137113987, 3244.0493252174792, 3221.2535513566254, 3198.619536088063, 3176.146131574273, 3153.8321981227846, 3131.67660412837, 3109.678226015665, 3087.8359481821844, 3066.148662941749, 3044.6152704683113, 3023.2346787401784, 3002.005803484633, 2980.9275681229497, 2959.998903715794, 2939.2187489090174, 2918.5860498798265, 2898.099760283351, 2877.7588411995694, 2857.5622610806295, 2837.508995698534, 2817.598028093198, 2797.828348520874, 2778.198954402951, 2758.7088502751017, 2739.35704773681, 2720.142565401237, 2701.0644288454605, 2682.1216705610477, 2663.3133299050037, 2644.638453051044, 2626.0960929412286, 2607.6853092379297, 2589.405168276151, 2571.2547430161703, 2553.233112996533, 2535.3393642873707, 2517.572589444053, 2499.931887461168, 2482.4163637268316, 2465.025129977315, 2447.757304252003, 2430.612010848665, 2413.5883802790445, 2396.685549224766, 2379.902660493554, 2363.23886297576, 2346.6933116012065, 2330.2651672963207, 2313.953596941591, 2297.7577733293147, 2281.676875121648, 2265.710086808951, 2249.8565986684334, 2234.115606723094, 2218.486312700939, 2202.9679239945103, 2187.5596536206845, 2172.260720180762, 2157.070347820841, 2141.9877661924743, 2127.0122104136, 2112.142921029748, 2097.3791439755378, 2082.7201305364233, 2068.165137310735, 2053.713426171971, 2039.364264231372, 2025.1169238007476, 2010.970682355579, 1996.9248224983724, 1982.9786319222821, 1969.1314033749845, 1955.3824346228125, 1941.731028415143, 1928.1764924490355, 1914.7181393341268, 1901.3552865577687, 1888.0872564504182, 1874.9133761512655, 1861.8329775741186, 1848.8453973735182, 1835.949976911098, 1823.1460622221844, 1810.433003982629, 1797.8101574758855, 1785.276882560307, 1772.832543636688, 1760.4765096160274, 1748.208153887529, 1736.026854286818, 1723.9319930643935, 1711.9229568543012, 1699.9991366430233, 1688.1599277385988, 1676.4047297399538, 1664.7329465064563, 1653.1439861276813, 1641.637260893397, 1630.2121872637563, 1618.8681858397056, 1607.6046813336038, 1596.4211025400436, 1585.3168823068872, 1574.2914575065033, 1563.344269007208, 1552.4747616449122, 1541.682384194966, 1530.966589344204, 1520.3268336631909, 1509.7625775786607, 1499.2732853461562, 1488.8584250228557, 1478.517468440601, 1468.24989117911, 1458.0551725393816, 1447.9327955172905, 1437.8822467773675, 1427.9030166267685, 1417.9945989894243, 1408.1564913803768, 1398.3881948802964, 1388.6892141101825, 1379.0590572062379, 1369.4972357949264, 1360.0032649682062, 1350.5766632589387, 1341.2169526164728, 1331.9236583823983, 1322.6963092664782, 1313.5344373227476, 1304.4375779257798, 1295.405269747129, 1286.4370547319286, 1277.532478075667, 1268.6910882011216, 1259.9124367354564, 1251.1960784874864, 1242.5415714250985, 1233.9484766528353, 1225.4163583896386, 1216.9447839467482, 1208.5333237057584, 1200.181551096833, 1191.8890425770717, 1183.6553776090304, 1175.4801386393945, 1167.3629110778043, 1159.3032832758308, 1151.3008465060961, 1143.3551949415507, 1135.4659256348884, 1127.6326384981132, 1119.854936282252, 1112.1324245572046, 1104.4647116917447, 1096.8514088336574, 1089.2921298900185, 1081.7864915076177, 1074.3341130535143, 1066.9346165957356, 1059.5876268841114, 1052.2927713312424, 1045.049679993607, 1037.857985552799, 1030.7173232969005, 1023.6273311019864, 1016.5876494137594, 1009.5979212293158, 1002.657792079042, 995.7669100086382, 988.9249255612667, 982.1314917598356, 975.3862640893966, 968.6889004796781, 962.0390612877353, 955.4364092807268, 948.8806096188127, 942.3713298381734, 935.9082398341493, 929.4910118445016, 923.1193204327873, 916.7928424718596, 910.5112571274781, 904.2742458420397, 898.0814923184219, 891.9326825039457, 885.8275045744449, 879.7656489184576, 873.7468081215193, 867.7706769505769, 861.836952338509, 855.9453333687547, 850.0955212600544, 844.2872193512985, 838.5201330864816, 832.7939699997638, 827.1084397006425, 821.4632538592213, 815.8581261915917, 810.2927724453126, 804.7669103849956, 799.2802597779923, 793.8325423801824, 788.4234819218636, 783.0528040937411, 777.7202365330162, 772.4255088095734, 767.1683524122686, 761.948500735309, 756.7656890647344, 751.6196545649923, 746.5101362656098, 741.4368750479574, 736.3996136321089, 731.3980965637944, 726.432070201446, 721.5012827033325, 716.6054840147906, 711.7444258555423, 706.9178617071037, 702.1255468002848, 697.3672381027751, 692.6426943068191, 687.9516758169788, 683.2939447379839, 678.6692648626663, 674.0774016599821, 669.5181222631172, 664.9911954576789, 660.4963916699692, 656.0334829553433, 651.6022429866493, 647.2024470427516, 642.8338719971324, 638.4962963065784, 634.1894999999455, 629.9132646670015, 625.6673734473529, 621.451611019444, 617.2657635896396, 613.1096188813831, 608.9829661244287, 604.8855960441556, 600.8173008509539, 596.7778742296861, 592.7671113292256, 588.784808752067, 584.8307645440129, 580.9047781839303, 577.0066505735819, 573.1361840275306, 569.2931822631133, 565.4774503904862, 561.6887949027423, 557.9270236660989, 554.1919459101513, 550.4833722182015, 546.8011145176494, 543.1449860704568, 539.5148014636767, 535.9103766000516, 532.3315286886759, 528.7780762357263, 525.2498390352581, 521.7466381600673, 518.2682959526143, 514.8146360160171, 511.38548320510364, 507.9806636175308, 504.6000045849646, 501.2433346643241, 497.91048362908714, 494.6012824606573, 491.31556333979256, 488.0531596380945, 484.8139059095592, 481.59763788218464, 478.40419244964306, 475.23340766300663, 472.08512272253586, 468.959177969525, 465.85541487820524, 462.7736760477044, 459.7138051940666, 456.6756471423241, 453.65904781863077, 450.6638542424463, 447.689914518779, 444.73707783048286, 441.8051944306087, 438.89411563481093, 436.0036938138061, 433.13378238588706, 430.28423580948913, 427.4549095758091, 424.64566020147777, 421.8563452212815, 419.0868231809389, 416.33695362992734, 413.6065971143594, 410.8956151699112, 408.2038703148009, 405.5312260428152, 402.87754681638893, 400.2426980597291, 397.62654615199204, 395.02895842050646, 392.44980313404454, 389.8889494961424, 387.34626763846705, 384.8216286142292, 382.31490439164577, 379.82596784744544, 377.35469276042267, 374.90095380503607, 372.4646265450541, 370.04558742724254, 367.64371377510065, 365.2588837826386, 362.8909765082008, 360.53987186833274, 358.20545063169067, 355.8875944129957, 353.58618566703, 351.30110768267497, 349.03224457699343, 346.7794812893526, 344.54270357558863, 342.3217980022133, 340.1166519406616, 337.9271535615794, 335.7531918291533, 333.59465649547843, 331.45143809496824, 329.323427938803, 327.2105181094182, 325.1126014550309, 323.02957158420656, 320.9613228604632, 318.90775039691425, 316.86875005094976, 314.84421841895465, 312.83405283106543, 310.8381513459621, 308.85641274570025, 306.8887365305764, 304.9350229140329, 302.9951728175956, 301.06908786585103, 299.1566703814567, 297.2578233801873, 295.37245056601733, 293.5004563262362, 291.6417457266011, 289.79622450652107, 287.9637990742778, 286.14437650227893, 284.33786452234546, 282.5441715210326, 280.76320653498345, 278.994879246317, 277.23909997804594, 275.49577968953133, 273.7648299719649, 272.0461630438869, 270.33969174673405, 268.645329540419, 266.9629904989428, 265.29258930603606, 263.634041250833, 261.98726222357556, 260.35216871134753, 258.7286777938398, 257.11670713914475, 255.51617499958166, 253.92700020755035, 252.34910217141515, 250.78240087141813, 249.22681685562063, 247.68227123587405, 246.14868568382005, 244.62598242691712, 243.11408424449698, 241.61291446384877, 240.12239695633045, 238.64245613350786, 237.17301694332195, 235.7140048662826, 234.2653459116887, 232.82696661387718, 231.3987940284962, 229.98075572880654, 228.57277980200843, 227.17479484559465, 225.78672996372975, 224.40851476365415, 223.04007935211496, 221.681354331821, 220.3322707979238, 218.99276033452293, 217.66275501119674, 216.3421873795569, 215.0309904698287, 213.72909778745407, 212.43644330971972, 211.15296148240918, 209.87858721647754, 208.61325588475202, 207.3569033186529, 206.10946580494047, 204.87088008248367, 203.64108333905182, 202.420013208129, 201.2076077657519, 200.00380552736897, 198.80854544472228, 197.62176690275214, 196.4434097165223, 195.27341412816884, 194.11172080386882, 192.95827083083145, 191.8130057143107, 190.67586737463895, 189.54679814428107, 188.42574076491033, 187.31263838450457, 186.20743455446313, 185.11007322674413, 184.0204987510219, 182.93865587186517, 181.8644897259349, 180.79794583920125, 179.73897012418206, 178.6875088771993, 177.64350877565582, 176.60691687533102, 175.57768060769638, 174.55574777724857, 173.54106655886363, 172.53358549516793, 171.5332534939288, 170.5400198254641, 169.55383412006842, 168.57464636545976, 167.6024069042428, 166.63706643139042, 165.67857599174374, 164.72688697752906, 163.78195112589336, 162.84372051645585, 161.91214756887902, 160.987185040454, 160.06878602370693, 159.15690394401813, 158.25149255726134, 157.3525059474582, 156.45989852444964, 155.57362502158378, 154.69364049342101, 153.81990031345376, 152.95236017184365, 152.09097607317486, 151.23570433422245, 150.3865015817372, 149.54332475024626, 148.7061310798688, 147.87487811414806, 147.04952369789743, 146.23002597506337, 145.4163433866025, 144.6084346683742, 143.80625884904762, 143.0097752480241, 142.2189434733743, 141.43372341978952, 140.65407526654798, 139.87995947549516, 139.11133678903974, 138.3481682281609, 137.59041509043303, 136.83803894806283, 136.09100164593994, 135.34926529970252, 134.61279229381566, 133.8815452796641, 133.15548717365778, 132.4345811553517, 131.7187906655783, 131.00807940459364, 130.3024113302364, 129.60175065610017, 128.90606184971816, 128.21530963076228, 127.52945896925297, 126.84847508378287, 126.17232343975361, 125.50096974762401, 124.83437996117078, 124.17252027576245, 123.51535712664523, 122.86285718724025, 122.21498736745372, 121.57171481199914, 120.93300689873024, 120.29883123698784, 119.6691556659564, 119.04394825303321, 118.42317729220866, 117.80681130245917, 117.19481902615017, 116.58716942745087, 115.9838316907604, 115.38477521914518, 114.78996963278738, 114.19938476744379, 113.61299067291637, 113.03075761153389, 112.45265605664295, 111.87865669111086, 111.30873040583957, 110.74284829828855, 110.18098167100962, 109.62310203019115, 109.06918108421381, 108.51919074221507, 107.97310311266449, 107.43089050195066, 106.8925254129749, 106.35798054375812, 105.8272287860559, 105.3002432239834, 104.77699713265072, 104.25746397680756, 103.74161740949779, 103.22943127072261, 102.72087958611458, 102.21593656561996, 101.7145766021914, 101.2167742704886, 100.72250432558923, 100.23174170170877, 99.74446151092916, 99.26063904193731, 98.78024975877076, 98.30326929957432, 97.82967347536402, 97.35943826880117, 96.89253983297351, 96.42895449018653, 95.96865873076206, 95.5116292118468, 95.0578427562279, 94.60727635115788, 94.15990714718754, 93.71571245700707, 93.27466975429564, 92.83675667257889, 92.401951004095, 91.97023069866826, 91.54157386259044, 91.11595875751107, 90.69336379933503, 90.27376755712733, 89.85714875202702, 89.44348625616746, 89.03275909160577, 88.62494642925743, 88.22002758784183, 87.81798203283194, 87.41878937541397, 87.02242937145257, 86.62888192046479, 86.23812706460059, 85.85014498763043, 85.46491601394078, 85.08242060753604, 84.70263937104777, 84.32555304475135, 83.95114250558862, 83.57938876619873, 83.21027297395466, 82.84377641000788, 82.47988048833834, 82.11856675481242, 81.75981688624677, 81.40361268947912, 81.04993610044579, 80.69876918326547, 80.35009412932983, 80.00389325640009, 79.66014900771083, 79.31884395107878, 78.97996077801967, 78.64348230286986, 78.30939146191507, 77.9776713125252, 77.64830503229456, 77.32127591818933, 76.99656738570025, 76.67416296800143, 76.35404631511564, 76.03620119308484, 75.72061148314681, 75.40726118091833, 75.09613439558275, 74.78721534908497, 74.48048837533038, 74.175937919391, 73.87354853671648, 73.57330489235085, 73.27519176015493, 72.97919402203404, 72.6852966671713, 72.3934847912666, 72.10374359578039, 71.8160583871835, 71.53041457621227, 71.24679767712763, 70.96519330698173, 70.68558718488777, 70.40796513129621, 70.13231306727504, 69.85861701379669, 69.58686309102838, 69.31703751762844, 69.04912661004782, 68.7831167818354, 68.51899454294974, 68.25674649907437, 67.99635935093887, 67.73781989364426, 67.4811150159936, 67.22623169982658, 66.97315701935987, 66.7218781405313, 66.47238232034904, 66.2246569062456, 65.97868933543573, 65.7344671342799, 65.49197791765111, 65.2512093883074, 65.01214933626764, 64.77478563819274, 64.5391062567708, 64.3050992401064, 64.07275272111502, 63.84205491692028, 63.61299412825763, 63.385558738879844, 63.15973721496883, 62.93551810455022, 62.71289003691274, 62.491841722031886, 62.27236194999646, 62.054439590441284, 61.83806359198178, 61.62322298165417, 61.40990686435842, 61.19810442230639, 60.98780491447249, 60.77899767604967, 60.571672117908065, 60.36581772605806, 60.161424061117685, 59.95848075778229, 59.75697752429943, 59.55690414194703, 59.35825046451469, 59.161006417789764, 58.965161999045705, 58.77070727653566, 58.577632388988015, 58.38592754510692, 58.19558302307526, 58.006589170061936, 57.81893640173234, 57.63261520176198, 57.44761612135446, 57.2639297787616, 57.081546858808295, 56.90045811241968, 56.72065435615223, 56.54212647172822, 56.36486540557294, 56.18886216835589, 56.01410783453495, 55.84059354190299, 55.668310491139636, 55.497249945364096, 55.327403229692656, 55.158761730798034, 54.99131689647354, 54.82506023519863, 54.659983315708466, 54.4960777665666, 54.333335275739955, 54.17174759017785, 54.01130651539279, 53.85200391504567, 53.69383171053266, 53.53678188057551, 53.38084646081518, 53.22601754340721, 53.07228727662146, 52.91964786444359, 52.76809156617948, 52.61761069606314, 52.46819762286662, 52.319844769513125, 52.17254461269264, 52.026289682480495, 51.88107256195881, 51.736885886839595, 51.59372234509226, 51.45157467657204, 51.31043567265215, 51.17029817585814, 51.031155079505126, 50.89299932733687, 50.75582391316847, 50.61962188053083, 50.48438632231791, 50.3501103804363, 50.21678724545783, 50.08441015627363, 49.95297239975191, 49.822467310396945, 49.692888270011494, 49.564228707360805, 49.43648209783984, 49.309641963141786, 49.18370187092998, 49.05865543451159, 48.93449631251359, 48.81121820856142, 48.68881487095939, 48.567280092374084, 48.44660770951886, 48.32679160284178, 48.207825696215544, 48.08970395662855, 47.972420393879815, 47.85596906027437, 47.74034405032238, 47.62553950043891, 47.5115495886474, 47.398368534283804, 47.28599059770349, 47.174410079990466, 47.06362132266813, 46.953618707412375, 46.84439665576675, 46.735949628859295, 46.62827212712198, 46.52135869001178, 46.41520389573334, 46.30980236096453, 46.20514874058309, 46.10123772739595, 45.99806405186955, 45.895622481862965, 45.79390782236255, 45.692914915218374, 45.5926386388828, 45.49307390815056, 45.39421567390093, 45.29605892284178, 45.198598677255234, 45.101829994745195, 45.00574796798689, 44.91034772447765, 44.81562442629027, 44.72157326982742, 44.62818948557791, 44.53546833787509, 44.44340512465642, 44.3519951772253, 44.261233860014116, 44.17111657034912, 44.0816387382172, 43.992795826033884, 43.90458332841357, 43.81699677194066, 43.730031714942804, 43.64368374726602, 43.55794849005047, 43.47282159550883, 43.38829874670547, 43.30437565733779, 43.221048071518794, 43.13831176356112, 43.05616253776296, 42.97459622819505, 42.89360869848962, 42.813195841630446, 42.73335357974478, 42.654077863896276, 42.57536467387993, 42.49721001801793, 42.41960993295751, 42.34256048346981, 42.266057762250256, 42.19009788972045, 42.1146770138315, 42.03979130986861, 41.96543698025719, 41.89161025437011, 41.81830738833659, 41.74552466485241, 41.67325839299112, 41.60150490801723, 41.53026057120012, 41.45952176962961, 41.3892849160326, 41.31954644859126, 41.25030283076255, 41.18155055109852, 41.11328612306851, 41.0455060848822, 40.97820699931421, 40.911385453529526, 40.84503805891075, 40.77916145088588, 40.713752288758116, 40.648807255535964, 40.58432305776559, 40.52029642536317, 40.456724111449496, 40.39360289218522, 40.33092956660727, 40.268700956466546, 40.2069139060669, 40.1455652821049, 40.08465197351097, 40.024170891291675, 39.964118968373135, 39.90449315944528, 39.84529044080765, 39.786507810215824, 39.72814228672925, 39.67019091056034, 39.612650742923876, 39.555518865888374, 39.49879238222795, 39.4424684152753, 39.38654410877604, 39.33101662674375, 39.27588315331604, 39.22114089261194, 39.16678706859005, 39.1128189249076, 39.059233724780995, 39.00602875084667, 38.953201305023526, 38.900748708375964, 38.84866830097815, 38.796957441779085, 38.74561350846852, 38.69463389734423, 38.64401602317972, 38.59375731909338, 38.54385523641801, 38.494307244571786, 38.445110830930055, 38.39626350069736, 38.347762776781664, 38.29960619966806, 38.251791327294505, 38.20431573492775, 38.15717701504043, 38.11037277718904, 38.06390064789258, 38.017758270512175, 37.971943305131774, 37.92645342843923, 37.88128633360879, 37.836439730183635, 37.79191134396025, 37.74769891687274, 37.703800206878405, 37.660212987844126, 37.616935049433344, 37.573964196994126, 37.53129825144769, 37.488935049177954, 37.446872441921855, 37.40510829666042, 37.36364049551054, 37.322466935617655, 37.28158552904891, 37.240994202687446, 37.20069089812731, 37.16067357156886, 37.12094019371531, 37.08148874966971, 37.042317238832815, 37.00342367480168, 36.96480608526871, 36.926462511921926, 36.888391010345394, 36.85058964992089, 36.813056513729705, 36.77578969845566, 36.738787314288345, 36.7020474848276, 36.66556834698812, 36.62934805090501, 36.59338475984004, 36.55767665008833, 36.52222191088618, 36.48701874431901, 36.45206536523013, 36.41736000113039, 36.382900892108175, 36.34868629074018, 36.31471446200282, 36.28098368318427, 36.2474922437969, 36.214238445490814, 36.18122060196762, 36.14843703889474, 36.11588609382079, 36.08356611609101, 36.051475466763776, 36.019612518527346, 35.9879756556173, 35.95656327373471, 35.925373779964765, 35.89440559269595, 35.863657141539875, 35.833126867251515, 35.80281322165038, 35.77271466754173, 35.742829678638806, 35.71315673948532, 35.683694345378704, 35.65444100229376, 35.6253952268068, 35.59655554602053, 35.56792049748935, 35.539488629145175, 35.511258499223665, 35.48322867619142, 35.45539773867293, 35.427764275379026, 35.40032688503484, 35.373084176309085, 35.3460347677432, 35.319177287681505, 35.292510374201626, 35.266032675045345, 35.23974284755005, 35.21363955858059, 35.187721484461846, 35.161987310911364, 35.136435732972934, 35.11106545495027, 35.08587519034125, 35.06086366177294, 35.03602960093644, 35.01137174852288, 34.98688885415937, 34.96257967634576, 34.93844298239143, 34.91447754835297, 34.89068215897215, 34.86705560761407, 34.84359669620621, 34.82030423517746, 34.79717704339801, 34.77421394811922, 34.7514137849144, 34.72877539761945, 34.70629763827457, 34.68397936706574, 34.661819452267096, 34.63981677018357, 34.61797020509365, 34.596278649193174, 34.574741002538836, 34.55335617299247, 34.53212307616578, 34.51104063536534, 34.490107781537844, 34.46932345321599, 34.44868659646464, 34.428196164827426, 34.40785111927348, 34.38765042814506, 34.367593067105005, 34.347678019084775, 34.327904274232985, 34.30827082986413, 34.288776690407786, 34.269420867358114, 34.25020237922359, 34.23112025147745, 34.21217351650814, 34.19336121357024, 34.17468238873581, 34.15613609484592, 34.13772139146268, 34.11943734482159, 34.10128302778417, 34.08325751979074, 34.065359906814, 34.04758928131274, 34.02994474218533, 34.01242539472459, 33.99503035057207, 33.97775872767315, 33.960609650232286, 33.94358224866848, 33.92667565957135, 33.90988902565728, 33.89322149572582, 33.87667222461672, 33.86024037316698, 33.843925108168314, 33.82772560232474, 33.81164103421094, 33.79567058823033, 33.77981345457376, 33.76406882917859, 33.748435913687665, 33.73291391540906, 33.71750204727571, 33.7021995278057, 33.687005581062394, 33.671919436615205, 33.65694032950051, 33.64206750018294, 33.62730019451666, 33.61263766370738, 33.59807916427413, 33.58362395801179, 33.569271311953415, 33.555020498333214, 33.54087079454971, 33.526821483128906, 33.51287185168798, 33.4990211928993, 33.48526880445429, 33.47161398902801, 33.458056054243684, 33.444594312637705, 33.431228081624674, 33.41795668346279, 33.404779445219525, 33.391695698737465, 33.37870478060039, 33.365806032099805, 33.352998799201266, 33.340282432511415, 33.32765628724498, 33.31511972319208, 33.30267210468577, 33.29031280056972, 33.27804118416639, 33.265856633245036, 33.25375852999032, 33.24174626097092, 33.229819217108385, 33.217976793646294, 33.20621839011955, 33.19454341032395, 33.18295126228602, 33.171441358232876, 33.160013114562446, 33.14866595181389, 33.137399294638286, 33.126212571769294, 33.115105215994326, 33.10407666412573, 33.093126356972185, 33.08225373931045, 33.071458259857124, 33.06073937124068, 33.05009652997372, 33.03952919642551, 33.02903683479445, 33.018618913081035, 33.00827490306076, 32.998004280257454, 32.98780652391666, 32.97768111697907, 32.967627546054494, 32.957645301395814, 32.94773387687294, 32.93789276994742, 32.9281214816467, 32.91841951653895, 32.908786382707945, 32.899221591728114, 32.889724658639686, 32.88029510192419, 32.870932443480086, 32.86163620859829, 32.85240592593835, 32.843241127504406, 32.83414134862149, 32.82510612791202, 32.81613500727226, 32.80722753184923, 32.79838325001757, 32.78960171335665, 32.78088247662779, 32.77222509775178, 32.763629137786346, 32.755094160904065, 32.74661973436992, 32.73820542851981, 32.729850816738356, 32.721555475437576, 32.71331898403513, 32.705140924933225, 32.69702088349728, 32.68895844803499, 32.68095320977544, 32.673004762848244, 32.66511270426321, 32.65727663388964, 32.649496154436285, 32.64177087143089, 32.63410039320056, 32.6264843308516, 32.61892229824991, 32.61141391200145, 32.60395879143265, 32.5965565585713, 32.58920683812721, 32.58190925747322, 32.574663446626445, 32.56746903822925, 32.56032566753087, 32.55323297236879, 32.54619059315038, 32.53919817283463, 32.53225535691419, 32.52536179339718, 32.51851713278958, 32.511721028077275, 32.50497313470857, 32.49827311057677, 32.49162061600266, 32.485015313717504, 32.47845686884573, 32.471944948888115, 32.46547922370478, 32.45905936549854, 32.45268504879825, 32.44635595044237, 32.44007174956241, 32.43383212756681, 32.427636768124714, 32.421485357150004, 32.41537758278522, 32.40931313538597, 32.40329170750494, 32.39731299387657, 32.391376691401426, 32.38548249913088, 32.37963011825178, 32.37381925207143, 32.36804960600242, 32.36232088754772, 32.35663280628588, 32.350985073856215, 32.345377403944354, 32.33980951226753, 32.33428111656027, 32.32879193656006, 32.323341693993086, 32.31793011256025, 32.31255691792294, 32.30722183768938, 32.30192460140059, 32.296664940516784, 32.29144258840385, 32.28625728031949, 32.281108753400154, 32.27599674664759, 32.270921000915514, 32.265881258896606, 32.260877265109315, 32.25590876588503, 32.2509755093552, 32.24607724543852, 32.24121372582819, 32.23638470397949, 32.23158993509713, 32.226829176122855, 32.222102185723216, 32.21740872427723, 32.212748553864266, 32.20812143825194, 32.20352714288424, 32.19896543486953, 32.19443608296877, 32.18993885758373, 32.185473530745504, 32.18103987610282, 32.1766376689106, 32.17226668601849, 32.1679267058597, 32.16361750843958, 32.15933887532468, 32.155090589631456, 32.15087243601541, 32.14668420066007, 32.14252567126629, 32.13839663704135, 32.13429688868833, 32.13022621839543, 32.126184419825506, 32.12217128810564, 32.11818661981663, 32.11423021298271, 32.11030186706143, 32.106401382933306, 32.10252856289182, 32.09868321063336, 32.09486513124731, 32.09107413120615, 32.087310018355616, 32.08357260190498, 32.0798616924173, 32.076177101799956, 32.07251864329497, 32.06888613146969, 32.065279382207166, 32.06169821269706, 32.05814244142618, 32.054611888169326, 32.05110637398027, 32.04762572118251, 32.044169753360386, 32.040738295349996, 32.03733117323051, 32.03394821431516, 32.0305892471426, 32.027254101468145, 32.023942608255176, 32.020654599666585, 32.017389909056156, 32.01414837096029, 32.01092982108948, 32.007734096319986, 32.0045610346856, 32.00141047536948, 31.998282258695873, 31.995176226122112, 31.992092220230543, 31.98903008472055, 31.98598966440057, 31.98297080518043, 31.979973354063205, 31.97699715913774, 31.974042069570785, 31.97110793559947, 31.968194608523557, 31.965301940698023, 31.962429785525526, 31.959577997449028, 31.956746431944254, 31.953934945512643, 31.951143395673682, 31.94837164095804, 31.945619540900243, 31.94288695603153, 31.940173747872787, 31.937479778927607, 31.934804912675226, 31.932149013563585, 31.929511947002553, 31.926893579357074, 31.924293777940296, 31.921712411007007, 31.919149347746703, 31.916604458277266, 31.91407761363816, 31.911568685783926, 31.909077547577745, 31.906604072784987, 31.904148136066695, 31.901709612973384, 31.899288379938696, 31.89688431427298, 31.894497294157294, 31.892127198637105, 31.88977390761611, 31.88743730185027, 31.88511726294172, 31.88281367333267, 31.88052641629956, 31.87825537594712, 31.876000437202404, 31.873761485809133, 31.871538408321648, 31.86933109209943, 31.86713942530119, 31.86496329687928, 31.862802596574028, 31.860657214908187, 31.85852704318133, 31.856411973464386, 31.854311898594176, 31.852226712167898, 31.850156308537784, 31.848100582805827, 31.846059430818265, 31.844032749160473, 31.84202043515162, 31.84002238683955, 31.838038502995534, 31.836068683109104, 31.834112827383095, 31.832170836728444, 31.83024261275927, 31.82832805778784, 31.82642707481951, 31.82453956754807, 31.82266544035055, 31.82080459828265, 31.818956947073662, 31.817122393121924, 31.815300843489958, 31.813492205899692, 31.81169638872791, 31.80991330100163, 31.808142852393246, 31.806384953216295, 31.8046395144206, 31.802906447587915, 31.801185664927456, 31.799477079271327, 31.797780604070255, 31.79609615338903, 31.794423641902327, 31.792762984890217, 31.79111409823401, 31.78947689841183, 31.78785130249457, 31.786237228141523, 31.784634593596316, 31.78304331768267, 31.78146331980038, 31.779894519921143, 31.7783368385845, 31.77679019689398, 31.775254516512774, 31.773729719660153, 31.77221572910713, 31.77071246817286, 31.769219860720547, 31.767737831153735, 31.76626630441236, 31.76480520596897, 31.76335446182496, 31.76191399850687, 31.760483743062515, 31.759063623057507, 31.75765356657131, 31.756253502193847, 31.754863359021687, 31.75348306665458, 31.75211255519184, 31.750751755228745, 31.74940059785311, 31.748059014641736, 31.746726937656987, 31.745404299443237, 31.74409103302358, 31.742787071896387, 31.741492350031894, 31.740206801868897, 31.738930362311397, 31.737662966725345, 31.736404550935283, 31.735155051221227, 31.73391440431529, 31.732682547398497, 31.731459418097735, 31.73024495448242, 31.729039095061417, 31.727841778780018, 31.726652945016628, 31.72547253357992, 31.724300484705694, 31.723136739053757, 31.72198123770502, 31.720833922158548, 31.71969473432845, 31.718563616541054, 31.717440511531947, 31.71632536244299, 31.715218112819567, 31.714118706607696, 31.713027088151108, 31.711943202188486, 31.710866993850598, 31.709798408657658, 31.70873739251638, 31.707683891717366, 31.706637852932317, 31.705599223211408, 31.704567949980483, 31.70354398103843, 31.70252726455467, 31.70151774906629, 31.700515383475626, 31.699520117047605, 31.69853189940713, 31.69755068053654, 31.696576410773233, 31.695609040806854, 31.694648521677056, 31.693694804770885, 31.692747841820278, 31.69180758489985, 31.6908739864241, 31.689946999145334, 31.689026576151043, 31.68811267086162, 31.68720523702807, 31.68630422872947, 31.68540960037081, 31.684521306680615, 31.68363930270868, 31.68276354382367, 31.681893985711042, 31.681030584370717, 31.680173296114813, 31.679322077565423, 31.678476885652486, 31.67763767761157, 31.676804410981692, 31.67597704360317, 31.67515553361547, 31.674339839455143, 31.673529919853607, 31.6727257338352, 31.67192724071498, 31.671134400096662, 31.670347171870738, 31.669565516212153, 31.66878939357862, 31.668018764708307, 31.667253590618017, 31.666493832601255, 31.6657394522261, 31.66499041133335, 31.664246672034626, 31.663508196710378, 31.662774948008007, 31.662046888839985, 31.66132398238188, 31.660606192070688, 31.65989348160277, 31.65918581493213, 31.65848315626853, 31.657785470075687, 31.65709272106957, 31.656404874216413, 31.655721894731116, 31.655043748075414, 31.65437039995609, 31.65370181632324, 31.653037963368714, 31.65237880752414, 31.6517243154594, 31.651074454080835, 31.650429190529657, 31.649788492180267, 31.649152326638518, 31.648520661740207, 31.647893465549284, 31.647270706356377, 31.646652352677098, 31.646038373250487, 31.645428737037374, 31.644823413218912, 31.644222371194868, 31.643625580582224, 31.643033011213472, 31.642444633135227, 31.641860416606647, 31.64128033209795, 31.64070435028889, 31.640132442067195, 31.639564578527303, 31.639000730968668, 31.63844087089447, 31.637884970010038, 31.63733300022154, 31.63678493363446, 31.636240742552214, 31.635700399474786, 31.635163877097284, 31.634631148308546, 31.63410218618989, 31.633576964013486, 31.6330554552413, 31.63253763352356, 31.63202347269745, 31.631512946785875, 31.631006029995998, 31.630502696718032, 31.630002921523953]\n"
          ]
        }
      ]
    },
    {
      "cell_type": "code",
      "metadata": {
        "id": "VMEBVhbUYP9F",
        "colab": {
          "base_uri": "https://localhost:8080/"
        },
        "outputId": "be12e865-9a01-467c-b8b8-fb56c5bbb2ae"
      },
      "source": [
        "log[:10]"
      ],
      "execution_count": null,
      "outputs": [
        {
          "output_type": "execute_result",
          "data": {
            "text/plain": [
              "[(0.035357999999999994, 0.005425),\n",
              " (0.0705903212336, 0.010830753118),\n",
              " (0.10569741040245992, 0.016217327762755626),\n",
              " (0.14067971262052256, 0.02158479209987645),\n",
              " (0.17553767141965687, 0.026933214052690203),\n",
              " (0.2102717287552811, 0.032262661303103936),\n",
              " (0.24488232501196605, 0.03757320129246208),\n",
              " (0.27936989900901826, 0.04286490122240151),\n",
              " (0.3137348880060436, 0.0481378280557035),\n",
              " (0.3479777277084907, 0.05339204851714273)]"
            ]
          },
          "metadata": {},
          "execution_count": 91
        }
      ]
    },
    {
      "cell_type": "code",
      "metadata": {
        "colab": {
          "base_uri": "https://localhost:8080/",
          "height": 542
        },
        "id": "1OLR_uWofFSZ",
        "outputId": "9489645c-fd49-4b2e-ec10-ed38528c4444"
      },
      "source": [
        "\n",
        "fig = go.Figure()\n",
        "\n",
        "# fig.add_trace(go.Scatter(x=epochList, y=mse, name='train', mode='markers', marker_color='rgba(152, 0, 0, .8)'))\n",
        "fig.add_trace(go.Scatter(x=epochList, y=mse, name='prediction', mode='lines', marker_color='rgba(0, 152, 0, .8)'))\n",
        "\n",
        "fig.update_layout(title = f'Cost Function vs Epochs\\n',title_x=0.5, xaxis_title= \"Epochs\", yaxis_title=\"Cost Function\",font=dict(\n",
        "          family=\"TeX Gyre Pagella\",\n",
        "          size=14,\n",
        "          color=\"Blue\"\n",
        "      ))\n",
        "fig.update_xaxes(showline=True, linewidth=2, linecolor='black', mirror=True)\n",
        "fig.update_yaxes(showline=True, linewidth=2, linecolor='black', mirror=True)\n",
        "fig.show()"
      ],
      "execution_count": null,
      "outputs": [
        {
          "output_type": "display_data",
          "data": {
            "text/html": [
              "<html>\n",
              "<head><meta charset=\"utf-8\" /></head>\n",
              "<body>\n",
              "    <div>\n",
              "            <script src=\"https://cdnjs.cloudflare.com/ajax/libs/mathjax/2.7.5/MathJax.js?config=TeX-AMS-MML_SVG\"></script><script type=\"text/javascript\">if (window.MathJax) {MathJax.Hub.Config({SVG: {font: \"STIX-Web\"}});}</script>\n",
              "                <script type=\"text/javascript\">window.PlotlyConfig = {MathJaxConfig: 'local'};</script>\n",
              "        <script src=\"https://cdn.plot.ly/plotly-latest.min.js\"></script>    \n",
              "            <div id=\"17f8d1fa-040e-4f34-84b3-94f81a94f721\" class=\"plotly-graph-div\" style=\"height:525px; width:100%;\"></div>\n",
              "            <script type=\"text/javascript\">\n",
              "                \n",
              "                    window.PLOTLYENV=window.PLOTLYENV || {};\n",
              "                    \n",
              "                if (document.getElementById(\"17f8d1fa-040e-4f34-84b3-94f81a94f721\")) {\n",
              "                    Plotly.newPlot(\n",
              "                        '17f8d1fa-040e-4f34-84b3-94f81a94f721',\n",
              "                        [{\"marker\": {\"color\": \"rgba(0, 152, 0, .8)\"}, \"mode\": \"lines\", \"name\": \"prediction\", \"type\": \"scatter\", \"x\": [0, 1, 2, 3, 4, 5, 6, 7, 8, 9, 10, 11, 12, 13, 14, 15, 16, 17, 18, 19, 20, 21, 22, 23, 24, 25, 26, 27, 28, 29, 30, 31, 32, 33, 34, 35, 36, 37, 38, 39, 40, 41, 42, 43, 44, 45, 46, 47, 48, 49, 50, 51, 52, 53, 54, 55, 56, 57, 58, 59, 60, 61, 62, 63, 64, 65, 66, 67, 68, 69, 70, 71, 72, 73, 74, 75, 76, 77, 78, 79, 80, 81, 82, 83, 84, 85, 86, 87, 88, 89, 90, 91, 92, 93, 94, 95, 96, 97, 98, 99, 100, 101, 102, 103, 104, 105, 106, 107, 108, 109, 110, 111, 112, 113, 114, 115, 116, 117, 118, 119, 120, 121, 122, 123, 124, 125, 126, 127, 128, 129, 130, 131, 132, 133, 134, 135, 136, 137, 138, 139, 140, 141, 142, 143, 144, 145, 146, 147, 148, 149, 150, 151, 152, 153, 154, 155, 156, 157, 158, 159, 160, 161, 162, 163, 164, 165, 166, 167, 168, 169, 170, 171, 172, 173, 174, 175, 176, 177, 178, 179, 180, 181, 182, 183, 184, 185, 186, 187, 188, 189, 190, 191, 192, 193, 194, 195, 196, 197, 198, 199, 200, 201, 202, 203, 204, 205, 206, 207, 208, 209, 210, 211, 212, 213, 214, 215, 216, 217, 218, 219, 220, 221, 222, 223, 224, 225, 226, 227, 228, 229, 230, 231, 232, 233, 234, 235, 236, 237, 238, 239, 240, 241, 242, 243, 244, 245, 246, 247, 248, 249, 250, 251, 252, 253, 254, 255, 256, 257, 258, 259, 260, 261, 262, 263, 264, 265, 266, 267, 268, 269, 270, 271, 272, 273, 274, 275, 276, 277, 278, 279, 280, 281, 282, 283, 284, 285, 286, 287, 288, 289, 290, 291, 292, 293, 294, 295, 296, 297, 298, 299, 300, 301, 302, 303, 304, 305, 306, 307, 308, 309, 310, 311, 312, 313, 314, 315, 316, 317, 318, 319, 320, 321, 322, 323, 324, 325, 326, 327, 328, 329, 330, 331, 332, 333, 334, 335, 336, 337, 338, 339, 340, 341, 342, 343, 344, 345, 346, 347, 348, 349, 350, 351, 352, 353, 354, 355, 356, 357, 358, 359, 360, 361, 362, 363, 364, 365, 366, 367, 368, 369, 370, 371, 372, 373, 374, 375, 376, 377, 378, 379, 380, 381, 382, 383, 384, 385, 386, 387, 388, 389, 390, 391, 392, 393, 394, 395, 396, 397, 398, 399, 400, 401, 402, 403, 404, 405, 406, 407, 408, 409, 410, 411, 412, 413, 414, 415, 416, 417, 418, 419, 420, 421, 422, 423, 424, 425, 426, 427, 428, 429, 430, 431, 432, 433, 434, 435, 436, 437, 438, 439, 440, 441, 442, 443, 444, 445, 446, 447, 448, 449, 450, 451, 452, 453, 454, 455, 456, 457, 458, 459, 460, 461, 462, 463, 464, 465, 466, 467, 468, 469, 470, 471, 472, 473, 474, 475, 476, 477, 478, 479, 480, 481, 482, 483, 484, 485, 486, 487, 488, 489, 490, 491, 492, 493, 494, 495, 496, 497, 498, 499, 500, 501, 502, 503, 504, 505, 506, 507, 508, 509, 510, 511, 512, 513, 514, 515, 516, 517, 518, 519, 520, 521, 522, 523, 524, 525, 526, 527, 528, 529, 530, 531, 532, 533, 534, 535, 536, 537, 538, 539, 540, 541, 542, 543, 544, 545, 546, 547, 548, 549, 550, 551, 552, 553, 554, 555, 556, 557, 558, 559, 560, 561, 562, 563, 564, 565, 566, 567, 568, 569, 570, 571, 572, 573, 574, 575, 576, 577, 578, 579, 580, 581, 582, 583, 584, 585, 586, 587, 588, 589, 590, 591, 592, 593, 594, 595, 596, 597, 598, 599, 600, 601, 602, 603, 604, 605, 606, 607, 608, 609, 610, 611, 612, 613, 614, 615, 616, 617, 618, 619, 620, 621, 622, 623, 624, 625, 626, 627, 628, 629, 630, 631, 632, 633, 634, 635, 636, 637, 638, 639, 640, 641, 642, 643, 644, 645, 646, 647, 648, 649, 650, 651, 652, 653, 654, 655, 656, 657, 658, 659, 660, 661, 662, 663, 664, 665, 666, 667, 668, 669, 670, 671, 672, 673, 674, 675, 676, 677, 678, 679, 680, 681, 682, 683, 684, 685, 686, 687, 688, 689, 690, 691, 692, 693, 694, 695, 696, 697, 698, 699, 700, 701, 702, 703, 704, 705, 706, 707, 708, 709, 710, 711, 712, 713, 714, 715, 716, 717, 718, 719, 720, 721, 722, 723, 724, 725, 726, 727, 728, 729, 730, 731, 732, 733, 734, 735, 736, 737, 738, 739, 740, 741, 742, 743, 744, 745, 746, 747, 748, 749, 750, 751, 752, 753, 754, 755, 756, 757, 758, 759, 760, 761, 762, 763, 764, 765, 766, 767, 768, 769, 770, 771, 772, 773, 774, 775, 776, 777, 778, 779, 780, 781, 782, 783, 784, 785, 786, 787, 788, 789, 790, 791, 792, 793, 794, 795, 796, 797, 798, 799, 800, 801, 802, 803, 804, 805, 806, 807, 808, 809, 810, 811, 812, 813, 814, 815, 816, 817, 818, 819, 820, 821, 822, 823, 824, 825, 826, 827, 828, 829, 830, 831, 832, 833, 834, 835, 836, 837, 838, 839, 840, 841, 842, 843, 844, 845, 846, 847, 848, 849, 850, 851, 852, 853, 854, 855, 856, 857, 858, 859, 860, 861, 862, 863, 864, 865, 866, 867, 868, 869, 870, 871, 872, 873, 874, 875, 876, 877, 878, 879, 880, 881, 882, 883, 884, 885, 886, 887, 888, 889, 890, 891, 892, 893, 894, 895, 896, 897, 898, 899, 900, 901, 902, 903, 904, 905, 906, 907, 908, 909, 910, 911, 912, 913, 914, 915, 916, 917, 918, 919, 920, 921, 922, 923, 924, 925, 926, 927, 928, 929, 930, 931, 932, 933, 934, 935, 936, 937, 938, 939, 940, 941, 942, 943, 944, 945, 946, 947, 948, 949, 950, 951, 952, 953, 954, 955, 956, 957, 958, 959, 960, 961, 962, 963, 964, 965, 966, 967, 968, 969, 970, 971, 972, 973, 974, 975, 976, 977, 978, 979, 980, 981, 982, 983, 984, 985, 986, 987, 988, 989, 990, 991, 992, 993, 994, 995, 996, 997, 998, 999, 1000, 1001, 1002, 1003, 1004, 1005, 1006, 1007, 1008, 1009, 1010, 1011, 1012, 1013, 1014, 1015, 1016, 1017, 1018, 1019, 1020, 1021, 1022, 1023, 1024, 1025, 1026, 1027, 1028, 1029, 1030, 1031, 1032, 1033, 1034, 1035, 1036, 1037, 1038, 1039, 1040, 1041, 1042, 1043, 1044, 1045, 1046, 1047, 1048, 1049, 1050, 1051, 1052, 1053, 1054, 1055, 1056, 1057, 1058, 1059, 1060, 1061, 1062, 1063, 1064, 1065, 1066, 1067, 1068, 1069, 1070, 1071, 1072, 1073, 1074, 1075, 1076, 1077, 1078, 1079, 1080, 1081, 1082, 1083, 1084, 1085, 1086, 1087, 1088, 1089, 1090, 1091, 1092, 1093, 1094, 1095, 1096, 1097, 1098, 1099, 1100, 1101, 1102, 1103, 1104, 1105, 1106, 1107, 1108, 1109, 1110, 1111, 1112, 1113, 1114, 1115, 1116, 1117, 1118, 1119, 1120, 1121, 1122, 1123, 1124, 1125, 1126, 1127, 1128, 1129, 1130, 1131, 1132, 1133, 1134, 1135, 1136, 1137, 1138, 1139, 1140, 1141, 1142, 1143, 1144, 1145, 1146, 1147, 1148, 1149, 1150, 1151, 1152, 1153, 1154, 1155, 1156, 1157, 1158, 1159, 1160, 1161, 1162, 1163, 1164, 1165, 1166, 1167, 1168, 1169, 1170, 1171, 1172, 1173, 1174, 1175, 1176, 1177, 1178, 1179, 1180, 1181, 1182, 1183, 1184, 1185, 1186, 1187, 1188, 1189, 1190, 1191, 1192, 1193, 1194, 1195, 1196, 1197, 1198, 1199, 1200, 1201, 1202, 1203, 1204, 1205, 1206, 1207, 1208, 1209, 1210, 1211, 1212, 1213, 1214, 1215, 1216, 1217, 1218, 1219, 1220, 1221, 1222, 1223, 1224, 1225, 1226, 1227, 1228, 1229, 1230, 1231, 1232, 1233, 1234, 1235, 1236, 1237, 1238, 1239, 1240, 1241, 1242, 1243, 1244, 1245, 1246, 1247, 1248, 1249, 1250, 1251, 1252, 1253, 1254, 1255, 1256, 1257, 1258, 1259, 1260, 1261, 1262, 1263, 1264, 1265, 1266, 1267, 1268, 1269, 1270, 1271, 1272, 1273, 1274, 1275, 1276, 1277, 1278, 1279, 1280, 1281, 1282, 1283, 1284, 1285, 1286, 1287, 1288, 1289, 1290, 1291, 1292, 1293, 1294, 1295, 1296, 1297, 1298, 1299, 1300, 1301, 1302, 1303, 1304, 1305, 1306, 1307, 1308, 1309, 1310, 1311, 1312, 1313, 1314, 1315, 1316, 1317, 1318, 1319, 1320, 1321, 1322, 1323, 1324, 1325, 1326, 1327, 1328, 1329, 1330, 1331, 1332, 1333, 1334, 1335, 1336, 1337, 1338, 1339, 1340, 1341, 1342, 1343, 1344, 1345, 1346, 1347, 1348, 1349, 1350, 1351, 1352, 1353, 1354, 1355, 1356, 1357, 1358, 1359, 1360, 1361, 1362, 1363, 1364, 1365, 1366, 1367, 1368, 1369, 1370, 1371, 1372, 1373, 1374, 1375, 1376, 1377, 1378, 1379, 1380, 1381, 1382, 1383, 1384, 1385, 1386, 1387, 1388, 1389, 1390, 1391, 1392, 1393, 1394, 1395, 1396, 1397, 1398, 1399, 1400, 1401, 1402, 1403, 1404, 1405, 1406, 1407, 1408, 1409, 1410, 1411, 1412, 1413, 1414, 1415, 1416, 1417, 1418, 1419, 1420, 1421, 1422, 1423, 1424, 1425, 1426, 1427, 1428, 1429, 1430, 1431, 1432, 1433, 1434, 1435, 1436, 1437, 1438, 1439, 1440, 1441, 1442, 1443, 1444, 1445, 1446, 1447, 1448, 1449, 1450, 1451, 1452, 1453, 1454, 1455, 1456, 1457, 1458, 1459, 1460, 1461, 1462, 1463, 1464, 1465, 1466, 1467, 1468, 1469, 1470, 1471, 1472, 1473, 1474, 1475, 1476, 1477, 1478, 1479, 1480, 1481, 1482, 1483, 1484, 1485, 1486, 1487, 1488, 1489, 1490, 1491, 1492, 1493, 1494, 1495, 1496, 1497, 1498, 1499, 1500, 1501, 1502, 1503, 1504, 1505, 1506, 1507, 1508, 1509, 1510, 1511, 1512, 1513, 1514, 1515, 1516, 1517, 1518, 1519, 1520, 1521, 1522, 1523], \"y\": [3606.203105861573, 3580.8374922402168, 3555.651872771015, 3530.6449702170758, 3505.815516404776, 3481.162252159441, 3456.68392724148, 3432.3793002830016, 3408.2471387248443, 3384.2862187540763, 3360.4953252419314, 3336.8732516821865, 3313.4188001299744, 3290.130781141037, 3267.0080137113987, 3244.0493252174792, 3221.253551356625, 3198.6195360880624, 3176.146131574273, 3153.8321981227846, 3131.67660412837, 3109.6782260156647, 3087.835948182184, 3066.148662941749, 3044.615270468311, 3023.234678740178, 3002.0058034846325, 2980.927568122949, 2959.998903715794, 2939.218748909017, 2918.5860498798265, 2898.099760283351, 2877.758841199569, 2857.5622610806295, 2837.508995698534, 2817.598028093198, 2797.828348520874, 2778.1989544029507, 2758.7088502751017, 2739.3570477368094, 2720.142565401237, 2701.06442884546, 2682.1216705610477, 2663.3133299050032, 2644.6384530510436, 2626.096092941228, 2607.6853092379297, 2589.405168276151, 2571.25474301617, 2553.2331129965323, 2535.3393642873702, 2517.5725894440525, 2499.931887461168, 2482.416363726831, 2465.0251299773145, 2447.757304252003, 2430.612010848665, 2413.588380279044, 2396.685549224766, 2379.902660493554, 2363.23886297576, 2346.6933116012065, 2330.2651672963207, 2313.953596941591, 2297.7577733293147, 2281.676875121648, 2265.710086808951, 2249.8565986684334, 2234.115606723094, 2218.4863127009385, 2202.9679239945103, 2187.559653620684, 2172.2607201807614, 2157.0703478208407, 2141.987766192474, 2127.0122104136, 2112.142921029748, 2097.3791439755378, 2082.7201305364233, 2068.165137310735, 2053.713426171971, 2039.364264231372, 2025.1169238007474, 2010.970682355579, 1996.9248224983724, 1982.9786319222821, 1969.1314033749845, 1955.3824346228125, 1941.731028415143, 1928.1764924490355, 1914.7181393341266, 1901.3552865577687, 1888.0872564504182, 1874.9133761512653, 1861.8329775741186, 1848.8453973735182, 1835.9499769110978, 1823.1460622221844, 1810.433003982629, 1797.8101574758853, 1785.276882560307, 1772.832543636688, 1760.4765096160274, 1748.2081538875289, 1736.026854286818, 1723.9319930643935, 1711.922956854301, 1699.9991366430233, 1688.1599277385988, 1676.4047297399538, 1664.7329465064563, 1653.1439861276813, 1641.6372608933968, 1630.212187263756, 1618.8681858397053, 1607.6046813336038, 1596.4211025400434, 1585.3168823068872, 1574.291457506503, 1563.344269007208, 1552.474761644912, 1541.6823841949658, 1530.9665893442038, 1520.3268336631907, 1509.7625775786605, 1499.2732853461562, 1488.8584250228555, 1478.517468440601, 1468.24989117911, 1458.0551725393814, 1447.9327955172905, 1437.8822467773675, 1427.9030166267685, 1417.9945989894243, 1408.1564913803766, 1398.3881948802964, 1388.6892141101825, 1379.0590572062379, 1369.4972357949264, 1360.0032649682062, 1350.5766632589387, 1341.2169526164728, 1331.9236583823981, 1322.696309266478, 1313.5344373227476, 1304.4375779257798, 1295.405269747129, 1286.4370547319286, 1277.5324780756669, 1268.6910882011214, 1259.9124367354564, 1251.1960784874861, 1242.5415714250983, 1233.9484766528353, 1225.4163583896386, 1216.944783946748, 1208.5333237057584, 1200.181551096833, 1191.8890425770717, 1183.6553776090304, 1175.4801386393945, 1167.3629110778043, 1159.3032832758308, 1151.3008465060961, 1143.3551949415507, 1135.4659256348882, 1127.6326384981132, 1119.8549362822519, 1112.1324245572046, 1104.4647116917445, 1096.8514088336574, 1089.2921298900185, 1081.7864915076177, 1074.334113053514, 1066.9346165957356, 1059.5876268841114, 1052.2927713312424, 1045.0496799936068, 1037.857985552799, 1030.7173232969005, 1023.6273311019864, 1016.5876494137594, 1009.5979212293157, 1002.657792079042, 995.7669100086381, 988.9249255612667, 982.1314917598356, 975.3862640893965, 968.688900479678, 962.0390612877352, 955.4364092807267, 948.8806096188127, 942.3713298381733, 935.9082398341492, 929.4910118445016, 923.1193204327872, 916.7928424718596, 910.511257127478, 904.2742458420396, 898.0814923184219, 891.9326825039456, 885.8275045744449, 879.7656489184576, 873.7468081215193, 867.7706769505769, 861.836952338509, 855.9453333687546, 850.0955212600544, 844.2872193512985, 838.5201330864815, 832.7939699997638, 827.1084397006425, 821.4632538592211, 815.8581261915917, 810.2927724453126, 804.7669103849955, 799.2802597779923, 793.8325423801823, 788.4234819218636, 783.0528040937411, 777.7202365330161, 772.4255088095734, 767.1683524122685, 761.9485007353089, 756.7656890647343, 751.6196545649923, 746.5101362656098, 741.4368750479573, 736.3996136321089, 731.3980965637944, 726.4320702014459, 721.5012827033325, 716.6054840147906, 711.7444258555422, 706.9178617071036, 702.1255468002848, 697.3672381027751, 692.642694306819, 687.9516758169786, 683.2939447379838, 678.6692648626663, 674.0774016599821, 669.5181222631172, 664.9911954576789, 660.4963916699692, 656.0334829553433, 651.6022429866493, 647.2024470427516, 642.8338719971323, 638.4962963065784, 634.1894999999455, 629.9132646670015, 625.6673734473528, 621.4516110194439, 617.2657635896396, 613.1096188813831, 608.9829661244287, 604.8855960441556, 600.8173008509539, 596.7778742296861, 592.7671113292256, 588.784808752067, 584.8307645440129, 580.9047781839303, 577.0066505735819, 573.1361840275306, 569.2931822631133, 565.4774503904862, 561.6887949027423, 557.9270236660989, 554.1919459101513, 550.4833722182015, 546.8011145176494, 543.1449860704568, 539.5148014636767, 535.9103766000516, 532.3315286886759, 528.7780762357263, 525.2498390352581, 521.7466381600673, 518.2682959526143, 514.814636016017, 511.38548320510364, 507.9806636175308, 504.6000045849646, 501.2433346643241, 497.91048362908714, 494.6012824606572, 491.3155633397925, 488.0531596380944, 484.81390590955914, 481.5976378821846, 478.40419244964306, 475.23340766300663, 472.08512272253586, 468.959177969525, 465.8554148782052, 462.7736760477043, 459.7138051940666, 456.6756471423241, 453.6590478186307, 450.6638542424463, 447.689914518779, 444.73707783048286, 441.80519443060865, 438.8941156348109, 436.0036938138061, 433.133782385887, 430.28423580948913, 427.45490957580904, 424.64566020147777, 421.85634522128146, 419.0868231809389, 416.3369536299273, 413.6065971143594, 410.89561516991114, 408.20387031480084, 405.5312260428152, 402.8775468163889, 400.2426980597291, 397.62654615199204, 395.02895842050646, 392.44980313404454, 389.88894949614235, 387.34626763846705, 384.82162861422916, 382.31490439164577, 379.82596784744544, 377.3546927604226, 374.900953805036, 372.4646265450541, 370.04558742724254, 367.64371377510065, 365.2588837826385, 362.8909765082008, 360.53987186833274, 358.20545063169067, 355.8875944129957, 353.58618566703, 351.30110768267497, 349.03224457699343, 346.7794812893526, 344.54270357558863, 342.3217980022133, 340.1166519406616, 337.9271535615794, 335.75319182915325, 333.59465649547843, 331.45143809496824, 329.323427938803, 327.2105181094182, 325.11260145503087, 323.02957158420656, 320.96132286046316, 318.90775039691425, 316.86875005094976, 314.84421841895465, 312.8340528310654, 310.83815134596205, 308.85641274570025, 306.8887365305764, 304.9350229140329, 302.9951728175955, 301.069087865851, 299.1566703814567, 297.2578233801873, 295.37245056601733, 293.5004563262362, 291.641745726601, 289.79622450652107, 287.9637990742778, 286.14437650227893, 284.33786452234546, 282.5441715210326, 280.76320653498345, 278.994879246317, 277.23909997804594, 275.49577968953133, 273.7648299719649, 272.04616304388685, 270.33969174673405, 268.645329540419, 266.96299049894276, 265.29258930603606, 263.634041250833, 261.98726222357556, 260.35216871134753, 258.7286777938398, 257.11670713914475, 255.51617499958166, 253.92700020755032, 252.34910217141515, 250.78240087141813, 249.2268168556206, 247.68227123587403, 246.14868568382002, 244.62598242691712, 243.11408424449695, 241.61291446384877, 240.12239695633042, 238.64245613350786, 237.17301694332195, 235.71400486628258, 234.2653459116887, 232.82696661387718, 231.39879402849618, 229.9807557288065, 228.57277980200843, 227.17479484559462, 225.78672996372975, 224.40851476365415, 223.04007935211493, 221.681354331821, 220.33227079792377, 218.99276033452293, 217.6627550111967, 216.3421873795569, 215.0309904698287, 213.72909778745407, 212.4364433097197, 211.15296148240918, 209.87858721647754, 208.61325588475202, 207.35690331865288, 206.10946580494047, 204.87088008248367, 203.64108333905182, 202.42001320812898, 201.2076077657519, 200.00380552736897, 198.80854544472226, 197.6217669027521, 196.4434097165223, 195.2734141281688, 194.11172080386882, 192.95827083083145, 191.8130057143107, 190.67586737463893, 189.54679814428104, 188.42574076491033, 187.31263838450454, 186.20743455446313, 185.1100732267441, 184.02049875102188, 182.93865587186514, 181.8644897259349, 180.79794583920122, 179.73897012418203, 178.68750887719926, 177.6435087756558, 176.60691687533102, 175.57768060769635, 174.55574777724854, 173.54106655886363, 172.53358549516793, 171.5332534939288, 170.54001982546407, 169.55383412006842, 168.57464636545973, 167.6024069042428, 166.63706643139042, 165.6785759917437, 164.72688697752906, 163.78195112589336, 162.84372051645582, 161.912147568879, 160.987185040454, 160.0687860237069, 159.1569039440181, 158.25149255726132, 157.35250594745818, 156.45989852444964, 155.57362502158378, 154.69364049342101, 153.81990031345373, 152.95236017184365, 152.09097607317486, 151.23570433422245, 150.3865015817372, 149.54332475024626, 148.7061310798688, 147.87487811414806, 147.04952369789743, 146.23002597506337, 145.4163433866025, 144.60843466837417, 143.80625884904762, 143.0097752480241, 142.2189434733743, 141.43372341978952, 140.65407526654798, 139.87995947549516, 139.11133678903974, 138.3481682281609, 137.59041509043303, 136.83803894806283, 136.0910016459399, 135.3492652997025, 134.61279229381566, 133.8815452796641, 133.15548717365778, 132.4345811553517, 131.7187906655783, 131.00807940459364, 130.3024113302364, 129.60175065610017, 128.90606184971816, 128.21530963076228, 127.52945896925296, 126.84847508378286, 126.17232343975361, 125.500969747624, 124.83437996117077, 124.17252027576244, 123.51535712664523, 122.86285718724025, 122.2149873674537, 121.57171481199914, 120.93300689873024, 120.29883123698782, 119.6691556659564, 119.04394825303321, 118.42317729220865, 117.80681130245917, 117.19481902615016, 116.58716942745086, 115.9838316907604, 115.38477521914517, 114.78996963278738, 114.19938476744377, 113.61299067291637, 113.03075761153389, 112.45265605664295, 111.87865669111086, 111.30873040583955, 110.74284829828855, 110.18098167100962, 109.62310203019115, 109.0691810842138, 108.51919074221507, 107.97310311266449, 107.43089050195064, 106.89252541297489, 106.35798054375812, 105.82722878605588, 105.3002432239834, 104.77699713265072, 104.25746397680754, 103.74161740949778, 103.2294312707226, 102.72087958611458, 102.21593656561996, 101.71457660219139, 101.2167742704886, 100.72250432558923, 100.23174170170877, 99.74446151092914, 99.26063904193731, 98.78024975877075, 98.30326929957432, 97.829673475364, 97.35943826880117, 96.8925398329735, 96.42895449018651, 95.96865873076204, 95.51162921184678, 95.05784275622788, 94.60727635115788, 94.15990714718752, 93.71571245700707, 93.27466975429563, 92.83675667257889, 92.40195100409498, 91.97023069866825, 91.54157386259044, 91.11595875751107, 90.69336379933502, 90.27376755712733, 89.85714875202702, 89.44348625616746, 89.03275909160575, 88.62494642925743, 88.22002758784183, 87.81798203283192, 87.41878937541397, 87.02242937145256, 86.62888192046479, 86.23812706460059, 85.85014498763043, 85.46491601394078, 85.08242060753602, 84.70263937104775, 84.32555304475133, 83.95114250558862, 83.57938876619872, 83.21027297395464, 82.84377641000788, 82.47988048833834, 82.1185667548124, 81.75981688624675, 81.4036126894791, 81.04993610044579, 80.69876918326545, 80.35009412932983, 80.00389325640009, 79.66014900771083, 79.31884395107878, 78.97996077801966, 78.64348230286984, 78.30939146191506, 77.97767131252519, 77.64830503229456, 77.32127591818933, 76.99656738570025, 76.67416296800143, 76.35404631511564, 76.03620119308484, 75.72061148314681, 75.40726118091831, 75.09613439558275, 74.78721534908497, 74.48048837533038, 74.175937919391, 73.87354853671648, 73.57330489235085, 73.27519176015493, 72.97919402203404, 72.68529666717129, 72.3934847912666, 72.10374359578039, 71.8160583871835, 71.53041457621227, 71.24679767712763, 70.96519330698173, 70.68558718488777, 70.40796513129621, 70.13231306727504, 69.85861701379669, 69.58686309102838, 69.31703751762844, 69.04912661004782, 68.78311678183539, 68.51899454294974, 68.25674649907435, 67.99635935093887, 67.73781989364426, 67.4811150159936, 67.22623169982657, 66.97315701935987, 66.72187814053129, 66.47238232034904, 66.2246569062456, 65.97868933543573, 65.7344671342799, 65.4919779176511, 65.2512093883074, 65.01214933626764, 64.77478563819274, 64.5391062567708, 64.3050992401064, 64.07275272111502, 63.842054916920276, 63.612994128257625, 63.385558738879844, 63.15973721496882, 62.93551810455021, 62.71289003691273, 62.49184172203188, 62.27236194999646, 62.05443959044128, 61.83806359198178, 61.623222981654166, 61.40990686435841, 61.19810442230639, 60.987804914472484, 60.77899767604966, 60.571672117908065, 60.36581772605806, 60.16142406111768, 59.95848075778228, 59.75697752429943, 59.55690414194703, 59.35825046451468, 59.16100641778976, 58.9651619990457, 58.77070727653565, 58.577632388988015, 58.38592754510692, 58.19558302307526, 58.00658917006193, 57.81893640173233, 57.63261520176197, 57.44761612135445, 57.2639297787616, 57.081546858808295, 56.90045811241968, 56.720654356152224, 56.54212647172822, 56.364865405572935, 56.18886216835589, 56.01410783453495, 55.84059354190299, 55.66831049113963, 55.49724994536409, 55.32740322969265, 55.15876173079803, 54.99131689647354, 54.82506023519862, 54.65998331570846, 54.4960777665666, 54.333335275739955, 54.171747590177844, 54.01130651539279, 53.85200391504567, 53.69383171053266, 53.536781880575504, 53.38084646081518, 53.2260175434072, 53.07228727662145, 52.91964786444358, 52.76809156617948, 52.61761069606314, 52.46819762286661, 52.319844769513125, 52.17254461269264, 52.02628968248049, 51.88107256195881, 51.736885886839595, 51.59372234509226, 51.45157467657204, 51.31043567265215, 51.17029817585814, 51.031155079505126, 50.89299932733686, 50.75582391316847, 50.61962188053083, 50.48438632231791, 50.3501103804363, 50.21678724545783, 50.08441015627362, 49.95297239975191, 49.82246731039694, 49.692888270011494, 49.564228707360805, 49.43648209783984, 49.30964196314178, 49.18370187092998, 49.058655434511586, 48.93449631251359, 48.811218208561414, 48.68881487095939, 48.56728009237408, 48.44660770951886, 48.32679160284178, 48.207825696215544, 48.08970395662855, 47.97242039387981, 47.85596906027437, 47.74034405032238, 47.625539500438904, 47.5115495886474, 47.3983685342838, 47.28599059770348, 47.174410079990466, 47.06362132266813, 46.953618707412375, 46.844396655766744, 46.735949628859295, 46.628272127121974, 46.52135869001178, 46.41520389573334, 46.309802360964525, 46.205148740583084, 46.10123772739594, 45.99806405186955, 45.89562248186296, 45.79390782236255, 45.69291491521837, 45.5926386388828, 45.49307390815056, 45.39421567390092, 45.29605892284177, 45.19859867725523, 45.10182999474519, 45.00574796798689, 44.91034772447765, 44.81562442629026, 44.72157326982742, 44.62818948557791, 44.53546833787509, 44.44340512465642, 44.3519951772253, 44.261233860014116, 44.17111657034912, 44.081638738217194, 43.992795826033884, 43.90458332841357, 43.81699677194065, 43.7300317149428, 43.64368374726602, 43.557948490050464, 43.472821595508826, 43.38829874670547, 43.304375657337786, 43.22104807151879, 43.13831176356111, 43.05616253776296, 42.97459622819504, 42.893608698489615, 42.813195841630446, 42.73335357974478, 42.654077863896276, 42.575364673879925, 42.497210018017924, 42.419609932957506, 42.34256048346981, 42.26605776225025, 42.19009788972044, 42.114677013831496, 42.03979130986861, 41.96543698025719, 41.89161025437011, 41.81830738833659, 41.745524664852404, 41.673258392991116, 41.60150490801723, 41.53026057120012, 41.4595217696296, 41.389284916032594, 41.319546448591254, 41.25030283076255, 41.18155055109851, 41.113286123068505, 41.0455060848822, 40.9782069993142, 40.91138545352952, 40.84503805891075, 40.77916145088587, 40.71375228875811, 40.648807255535964, 40.58432305776559, 40.52029642536317, 40.456724111449496, 40.39360289218522, 40.33092956660726, 40.26870095646654, 40.2069139060669, 40.1455652821049, 40.08465197351097, 40.02417089129167, 39.964118968373135, 39.90449315944528, 39.84529044080765, 39.78650781021582, 39.72814228672925, 39.67019091056034, 39.612650742923876, 39.555518865888374, 39.49879238222794, 39.4424684152753, 39.38654410877604, 39.33101662674375, 39.27588315331603, 39.221140892611935, 39.16678706859004, 39.1128189249076, 39.059233724780995, 39.00602875084666, 38.95320130502352, 38.90074870837596, 38.84866830097815, 38.79695744177908, 38.745613508468516, 38.694633897344225, 38.64401602317971, 38.59375731909337, 38.54385523641801, 38.494307244571786, 38.445110830930055, 38.39626350069736, 38.347762776781664, 38.29960619966806, 38.2517913272945, 38.20431573492775, 38.15717701504043, 38.11037277718904, 38.06390064789258, 38.017758270512175, 37.971943305131774, 37.92645342843923, 37.88128633360879, 37.836439730183635, 37.79191134396025, 37.74769891687274, 37.703800206878405, 37.660212987844126, 37.61693504943334, 37.573964196994126, 37.53129825144769, 37.488935049177954, 37.446872441921855, 37.40510829666042, 37.36364049551054, 37.322466935617655, 37.28158552904891, 37.240994202687446, 37.20069089812731, 37.16067357156886, 37.12094019371531, 37.08148874966971, 37.04231723883281, 37.00342367480168, 36.964806085268705, 36.926462511921926, 36.888391010345394, 36.85058964992089, 36.813056513729705, 36.77578969845566, 36.738787314288345, 36.7020474848276, 36.66556834698812, 36.62934805090501, 36.59338475984004, 36.55767665008833, 36.52222191088618, 36.48701874431901, 36.452065365230126, 36.41736000113039, 36.38290089210817, 36.34868629074018, 36.31471446200281, 36.28098368318427, 36.2474922437969, 36.21423844549081, 36.18122060196762, 36.14843703889474, 36.11588609382079, 36.083566116091006, 36.051475466763776, 36.019612518527346, 35.9879756556173, 35.95656327373471, 35.925373779964765, 35.89440559269595, 35.863657141539875, 35.833126867251515, 35.80281322165038, 35.77271466754173, 35.742829678638806, 35.71315673948531, 35.683694345378704, 35.65444100229375, 35.6253952268068, 35.59655554602053, 35.56792049748935, 35.53948862914517, 35.511258499223665, 35.483228676191416, 35.45539773867293, 35.427764275379026, 35.40032688503484, 35.373084176309085, 35.3460347677432, 35.319177287681505, 35.292510374201626, 35.266032675045345, 35.23974284755005, 35.21363955858059, 35.187721484461846, 35.161987310911364, 35.136435732972934, 35.111065454950264, 35.08587519034125, 35.06086366177294, 35.03602960093643, 35.01137174852288, 34.98688885415937, 34.962579676345754, 34.93844298239143, 34.91447754835296, 34.89068215897215, 34.86705560761406, 34.843596696206205, 34.82030423517746, 34.79717704339801, 34.77421394811922, 34.75141378491439, 34.72877539761945, 34.70629763827456, 34.68397936706574, 34.661819452267096, 34.63981677018357, 34.61797020509364, 34.59627864919317, 34.57474100253883, 34.55335617299247, 34.53212307616578, 34.51104063536534, 34.490107781537844, 34.46932345321599, 34.44868659646464, 34.428196164827426, 34.407851119273474, 34.38765042814506, 34.367593067105005, 34.34767801908477, 34.327904274232985, 34.30827082986413, 34.288776690407786, 34.269420867358114, 34.25020237922359, 34.23112025147745, 34.21217351650814, 34.19336121357024, 34.17468238873581, 34.15613609484592, 34.13772139146268, 34.11943734482159, 34.10128302778416, 34.08325751979074, 34.065359906814, 34.04758928131274, 34.02994474218532, 34.01242539472459, 33.995030350572065, 33.97775872767315, 33.960609650232286, 33.94358224866848, 33.92667565957135, 33.90988902565728, 33.89322149572582, 33.87667222461671, 33.860240373166974, 33.843925108168314, 33.82772560232474, 33.81164103421094, 33.79567058823033, 33.77981345457376, 33.76406882917859, 33.74843591368766, 33.73291391540906, 33.71750204727571, 33.7021995278057, 33.687005581062394, 33.671919436615205, 33.65694032950051, 33.64206750018293, 33.62730019451666, 33.61263766370738, 33.59807916427413, 33.583623958011785, 33.569271311953415, 33.555020498333214, 33.54087079454971, 33.5268214831289, 33.51287185168798, 33.4990211928993, 33.48526880445429, 33.47161398902801, 33.458056054243684, 33.444594312637705, 33.431228081624674, 33.41795668346279, 33.404779445219525, 33.391695698737465, 33.37870478060039, 33.365806032099805, 33.352998799201266, 33.340282432511415, 33.32765628724498, 33.31511972319208, 33.30267210468577, 33.29031280056972, 33.27804118416638, 33.265856633245036, 33.25375852999032, 33.24174626097092, 33.229819217108385, 33.21797679364629, 33.20621839011955, 33.19454341032395, 33.18295126228602, 33.171441358232876, 33.160013114562446, 33.14866595181389, 33.137399294638286, 33.126212571769294, 33.11510521599432, 33.10407666412573, 33.093126356972185, 33.08225373931045, 33.071458259857124, 33.06073937124067, 33.050096529973715, 33.03952919642551, 33.02903683479444, 33.018618913081035, 33.00827490306075, 32.998004280257454, 32.98780652391666, 32.97768111697907, 32.96762754605449, 32.957645301395814, 32.94773387687293, 32.93789276994742, 32.9281214816467, 32.91841951653895, 32.908786382707945, 32.89922159172811, 32.88972465863968, 32.88029510192419, 32.870932443480086, 32.86163620859829, 32.85240592593835, 32.843241127504406, 32.83414134862149, 32.82510612791202, 32.81613500727225, 32.80722753184923, 32.79838325001757, 32.78960171335665, 32.78088247662778, 32.77222509775178, 32.763629137786346, 32.755094160904065, 32.74661973436992, 32.73820542851981, 32.729850816738356, 32.72155547543757, 32.713318984035126, 32.705140924933225, 32.69702088349728, 32.68895844803499, 32.68095320977544, 32.67300476284824, 32.66511270426321, 32.65727663388964, 32.64949615443628, 32.64177087143089, 32.63410039320056, 32.626484330851596, 32.61892229824991, 32.61141391200145, 32.603958791432646, 32.5965565585713, 32.58920683812721, 32.58190925747322, 32.574663446626445, 32.56746903822925, 32.56032566753087, 32.55323297236879, 32.54619059315037, 32.53919817283463, 32.53225535691419, 32.52536179339718, 32.51851713278958, 32.511721028077275, 32.50497313470857, 32.49827311057676, 32.49162061600266, 32.485015313717504, 32.47845686884573, 32.471944948888115, 32.465479223704776, 32.45905936549854, 32.452685048798244, 32.44635595044237, 32.44007174956241, 32.43383212756681, 32.427636768124714, 32.421485357150004, 32.41537758278521, 32.40931313538597, 32.40329170750494, 32.39731299387657, 32.39137669140142, 32.38548249913087, 32.37963011825178, 32.37381925207143, 32.36804960600242, 32.36232088754772, 32.35663280628587, 32.350985073856215, 32.345377403944354, 32.33980951226753, 32.33428111656027, 32.32879193656006, 32.323341693993086, 32.31793011256025, 32.31255691792294, 32.30722183768938, 32.30192460140059, 32.296664940516784, 32.29144258840385, 32.28625728031949, 32.281108753400154, 32.27599674664759, 32.270921000915514, 32.265881258896606, 32.260877265109315, 32.25590876588503, 32.2509755093552, 32.246077245438514, 32.24121372582819, 32.23638470397949, 32.23158993509713, 32.226829176122855, 32.222102185723216, 32.21740872427723, 32.212748553864266, 32.20812143825194, 32.20352714288424, 32.19896543486953, 32.19443608296877, 32.189938857583726, 32.185473530745504, 32.181039876102815, 32.1766376689106, 32.17226668601849, 32.1679267058597, 32.16361750843958, 32.15933887532468, 32.155090589631456, 32.150872436015405, 32.14668420066007, 32.14252567126629, 32.13839663704135, 32.134296888688326, 32.13022621839543, 32.126184419825506, 32.12217128810564, 32.118186619816626, 32.11423021298271, 32.11030186706143, 32.106401382933306, 32.10252856289182, 32.098683210633354, 32.09486513124731, 32.09107413120615, 32.087310018355616, 32.083572601904976, 32.0798616924173, 32.076177101799956, 32.07251864329497, 32.06888613146968, 32.065279382207166, 32.06169821269706, 32.05814244142617, 32.054611888169326, 32.05110637398026, 32.04762572118251, 32.044169753360386, 32.040738295349996, 32.03733117323051, 32.03394821431516, 32.0305892471426, 32.027254101468145, 32.023942608255176, 32.020654599666585, 32.017389909056156, 32.01414837096029, 32.010929821089476, 32.007734096319986, 32.0045610346856, 32.00141047536948, 31.998282258695873, 31.995176226122112, 31.99209222023054, 31.989030084720547, 31.98598966440057, 31.98297080518043, 31.9799733540632, 31.97699715913774, 31.974042069570782, 31.97110793559947, 31.968194608523554, 31.96530194069802, 31.962429785525522, 31.959577997449024, 31.956746431944254, 31.95393494551264, 31.951143395673682, 31.948371640958037, 31.945619540900243, 31.942886956031526, 31.940173747872784, 31.937479778927603, 31.934804912675226, 31.93214901356358, 31.92951194700255, 31.926893579357074, 31.924293777940296, 31.921712411007007, 31.919149347746703, 31.916604458277266, 31.91407761363816, 31.911568685783926, 31.909077547577745, 31.906604072784983, 31.90414813606669, 31.901709612973384, 31.899288379938696, 31.896884314272977, 31.894497294157294, 31.892127198637105, 31.88977390761611, 31.88743730185027, 31.88511726294172, 31.88281367333267, 31.880526416299556, 31.878255375947116, 31.8760004372024, 31.873761485809133, 31.871538408321648, 31.86933109209943, 31.86713942530119, 31.864963296879278, 31.862802596574028, 31.860657214908183, 31.85852704318133, 31.856411973464382, 31.854311898594176, 31.852226712167898, 31.850156308537784, 31.848100582805824, 31.846059430818265, 31.84403274916047, 31.842020435151618, 31.840022386839546, 31.838038502995534, 31.8360686831091, 31.83411282738309, 31.832170836728444, 31.83024261275927, 31.828328057787836, 31.82642707481951, 31.824539567548065, 31.82266544035055, 31.82080459828265, 31.818956947073662, 31.817122393121924, 31.815300843489958, 31.81349220589969, 31.81169638872791, 31.809913301001625, 31.808142852393246, 31.80638495321629, 31.804639514420597, 31.80290644758791, 31.801185664927452, 31.799477079271327, 31.797780604070255, 31.796096153389026, 31.794423641902323, 31.792762984890214, 31.79111409823401, 31.789476898411827, 31.787851302494566, 31.786237228141523, 31.784634593596316, 31.783043317682665, 31.781463319800377, 31.77989451992114, 31.7783368385845, 31.776790196893977, 31.775254516512774, 31.77372971966015, 31.77221572910713, 31.77071246817286, 31.769219860720547, 31.76773783115373, 31.76626630441236, 31.76480520596897, 31.763354461824957, 31.761913998506866, 31.760483743062515, 31.759063623057507, 31.75765356657131, 31.756253502193847, 31.754863359021687, 31.75348306665458, 31.752112555191836, 31.75075175522874, 31.74940059785311, 31.748059014641733, 31.746726937656984, 31.745404299443237, 31.74409103302358, 31.742787071896384, 31.741492350031894, 31.740206801868897, 31.738930362311397, 31.737662966725345, 31.736404550935283, 31.735155051221227, 31.73391440431529, 31.732682547398497, 31.731459418097735, 31.73024495448242, 31.729039095061417, 31.727841778780014, 31.726652945016628, 31.72547253357992, 31.72430048470569, 31.723136739053757, 31.721981237705016, 31.720833922158544, 31.71969473432845, 31.718563616541054, 31.717440511531947, 31.71632536244299, 31.715218112819564, 31.714118706607696, 31.713027088151108, 31.711943202188486, 31.710866993850594, 31.709798408657655, 31.708737392516376, 31.707683891717362, 31.706637852932317, 31.705599223211408, 31.70456794998048, 31.70354398103843, 31.702527264554668, 31.70151774906629, 31.700515383475626, 31.699520117047605, 31.69853189940713, 31.69755068053654, 31.69657641077323, 31.69560904080685, 31.694648521677056, 31.69369480477088, 31.692747841820278, 31.691807584899845, 31.6908739864241, 31.68994699914533, 31.689026576151043, 31.68811267086162, 31.68720523702807, 31.686304228729465, 31.68540960037081, 31.684521306680615, 31.683639302708677, 31.682763543823665, 31.681893985711042, 31.681030584370717, 31.68017329611481, 31.679322077565423, 31.678476885652486, 31.677637677611568, 31.676804410981692, 31.675977043603165, 31.67515553361547, 31.674339839455143, 31.673529919853603, 31.6727257338352, 31.67192724071498, 31.671134400096662, 31.670347171870738, 31.669565516212153, 31.668789393578617, 31.668018764708307, 31.667253590618014, 31.666493832601255, 31.6657394522261, 31.66499041133335, 31.664246672034626, 31.663508196710374, 31.662774948008007, 31.662046888839985, 31.66132398238188, 31.660606192070684, 31.65989348160277, 31.65918581493213, 31.658483156268527, 31.657785470075687, 31.657092721069567, 31.656404874216413, 31.655721894731112, 31.65504374807541, 31.654370399956086, 31.65370181632324, 31.65303796336871, 31.652378807524137, 31.651724315459397, 31.651074454080835, 31.650429190529657, 31.649788492180267, 31.649152326638518, 31.648520661740207, 31.64789346554928, 31.647270706356373, 31.646652352677098, 31.646038373250484, 31.64542873703737, 31.64482341321891, 31.644222371194864, 31.64362558058222, 31.64303301121347, 31.642444633135227, 31.641860416606647, 31.64128033209795, 31.64070435028889, 31.64013244206719, 31.639564578527303, 31.639000730968668, 31.63844087089447, 31.637884970010038, 31.63733300022154, 31.63678493363446, 31.63624074255221, 31.635700399474786, 31.635163877097284, 31.634631148308546, 31.634102186189885, 31.633576964013486, 31.633055455241298, 31.63253763352356, 31.632023472697448, 31.631512946785875, 31.631006029995994, 31.630502696718032, 31.630002921523953]}],\n",
              "                        {\"font\": {\"color\": \"Blue\", \"family\": \"TeX Gyre Pagella\", \"size\": 14}, \"template\": {\"data\": {\"bar\": [{\"error_x\": {\"color\": \"#2a3f5f\"}, \"error_y\": {\"color\": \"#2a3f5f\"}, \"marker\": {\"line\": {\"color\": \"#E5ECF6\", \"width\": 0.5}}, \"type\": \"bar\"}], \"barpolar\": [{\"marker\": {\"line\": {\"color\": \"#E5ECF6\", \"width\": 0.5}}, \"type\": \"barpolar\"}], \"carpet\": [{\"aaxis\": {\"endlinecolor\": \"#2a3f5f\", \"gridcolor\": \"white\", \"linecolor\": \"white\", \"minorgridcolor\": \"white\", \"startlinecolor\": \"#2a3f5f\"}, \"baxis\": {\"endlinecolor\": \"#2a3f5f\", \"gridcolor\": \"white\", \"linecolor\": \"white\", \"minorgridcolor\": \"white\", \"startlinecolor\": \"#2a3f5f\"}, \"type\": \"carpet\"}], \"choropleth\": [{\"colorbar\": {\"outlinewidth\": 0, \"ticks\": \"\"}, \"type\": \"choropleth\"}], \"contour\": [{\"colorbar\": {\"outlinewidth\": 0, \"ticks\": \"\"}, \"colorscale\": [[0.0, \"#0d0887\"], [0.1111111111111111, \"#46039f\"], [0.2222222222222222, \"#7201a8\"], [0.3333333333333333, \"#9c179e\"], [0.4444444444444444, \"#bd3786\"], [0.5555555555555556, \"#d8576b\"], [0.6666666666666666, \"#ed7953\"], [0.7777777777777778, \"#fb9f3a\"], [0.8888888888888888, \"#fdca26\"], [1.0, \"#f0f921\"]], \"type\": \"contour\"}], \"contourcarpet\": [{\"colorbar\": {\"outlinewidth\": 0, \"ticks\": \"\"}, \"type\": \"contourcarpet\"}], \"heatmap\": [{\"colorbar\": {\"outlinewidth\": 0, \"ticks\": \"\"}, \"colorscale\": [[0.0, \"#0d0887\"], [0.1111111111111111, \"#46039f\"], [0.2222222222222222, \"#7201a8\"], [0.3333333333333333, \"#9c179e\"], [0.4444444444444444, \"#bd3786\"], [0.5555555555555556, \"#d8576b\"], [0.6666666666666666, \"#ed7953\"], [0.7777777777777778, \"#fb9f3a\"], [0.8888888888888888, \"#fdca26\"], [1.0, \"#f0f921\"]], \"type\": \"heatmap\"}], \"heatmapgl\": [{\"colorbar\": {\"outlinewidth\": 0, \"ticks\": \"\"}, \"colorscale\": [[0.0, \"#0d0887\"], [0.1111111111111111, \"#46039f\"], [0.2222222222222222, \"#7201a8\"], [0.3333333333333333, \"#9c179e\"], [0.4444444444444444, \"#bd3786\"], [0.5555555555555556, \"#d8576b\"], [0.6666666666666666, \"#ed7953\"], [0.7777777777777778, \"#fb9f3a\"], [0.8888888888888888, \"#fdca26\"], [1.0, \"#f0f921\"]], \"type\": \"heatmapgl\"}], \"histogram\": [{\"marker\": {\"colorbar\": {\"outlinewidth\": 0, \"ticks\": \"\"}}, \"type\": \"histogram\"}], \"histogram2d\": [{\"colorbar\": {\"outlinewidth\": 0, \"ticks\": \"\"}, \"colorscale\": [[0.0, \"#0d0887\"], [0.1111111111111111, \"#46039f\"], [0.2222222222222222, \"#7201a8\"], [0.3333333333333333, \"#9c179e\"], [0.4444444444444444, \"#bd3786\"], [0.5555555555555556, \"#d8576b\"], [0.6666666666666666, \"#ed7953\"], [0.7777777777777778, \"#fb9f3a\"], [0.8888888888888888, \"#fdca26\"], [1.0, \"#f0f921\"]], \"type\": \"histogram2d\"}], \"histogram2dcontour\": [{\"colorbar\": {\"outlinewidth\": 0, \"ticks\": \"\"}, \"colorscale\": [[0.0, \"#0d0887\"], [0.1111111111111111, \"#46039f\"], [0.2222222222222222, \"#7201a8\"], [0.3333333333333333, \"#9c179e\"], [0.4444444444444444, \"#bd3786\"], [0.5555555555555556, \"#d8576b\"], [0.6666666666666666, \"#ed7953\"], [0.7777777777777778, \"#fb9f3a\"], [0.8888888888888888, \"#fdca26\"], [1.0, \"#f0f921\"]], \"type\": \"histogram2dcontour\"}], \"mesh3d\": [{\"colorbar\": {\"outlinewidth\": 0, \"ticks\": \"\"}, \"type\": \"mesh3d\"}], \"parcoords\": [{\"line\": {\"colorbar\": {\"outlinewidth\": 0, \"ticks\": \"\"}}, \"type\": \"parcoords\"}], \"pie\": [{\"automargin\": true, \"type\": \"pie\"}], \"scatter\": [{\"marker\": {\"colorbar\": {\"outlinewidth\": 0, \"ticks\": \"\"}}, \"type\": \"scatter\"}], \"scatter3d\": [{\"line\": {\"colorbar\": {\"outlinewidth\": 0, \"ticks\": \"\"}}, \"marker\": {\"colorbar\": {\"outlinewidth\": 0, \"ticks\": \"\"}}, \"type\": \"scatter3d\"}], \"scattercarpet\": [{\"marker\": {\"colorbar\": {\"outlinewidth\": 0, \"ticks\": \"\"}}, \"type\": \"scattercarpet\"}], \"scattergeo\": [{\"marker\": {\"colorbar\": {\"outlinewidth\": 0, \"ticks\": \"\"}}, \"type\": \"scattergeo\"}], \"scattergl\": [{\"marker\": {\"colorbar\": {\"outlinewidth\": 0, \"ticks\": \"\"}}, \"type\": \"scattergl\"}], \"scattermapbox\": [{\"marker\": {\"colorbar\": {\"outlinewidth\": 0, \"ticks\": \"\"}}, \"type\": \"scattermapbox\"}], \"scatterpolar\": [{\"marker\": {\"colorbar\": {\"outlinewidth\": 0, \"ticks\": \"\"}}, \"type\": \"scatterpolar\"}], \"scatterpolargl\": [{\"marker\": {\"colorbar\": {\"outlinewidth\": 0, \"ticks\": \"\"}}, \"type\": \"scatterpolargl\"}], \"scatterternary\": [{\"marker\": {\"colorbar\": {\"outlinewidth\": 0, \"ticks\": \"\"}}, \"type\": \"scatterternary\"}], \"surface\": [{\"colorbar\": {\"outlinewidth\": 0, \"ticks\": \"\"}, \"colorscale\": [[0.0, \"#0d0887\"], [0.1111111111111111, \"#46039f\"], [0.2222222222222222, \"#7201a8\"], [0.3333333333333333, \"#9c179e\"], [0.4444444444444444, \"#bd3786\"], [0.5555555555555556, \"#d8576b\"], [0.6666666666666666, \"#ed7953\"], [0.7777777777777778, \"#fb9f3a\"], [0.8888888888888888, \"#fdca26\"], [1.0, \"#f0f921\"]], \"type\": \"surface\"}], \"table\": [{\"cells\": {\"fill\": {\"color\": \"#EBF0F8\"}, \"line\": {\"color\": \"white\"}}, \"header\": {\"fill\": {\"color\": \"#C8D4E3\"}, \"line\": {\"color\": \"white\"}}, \"type\": \"table\"}]}, \"layout\": {\"annotationdefaults\": {\"arrowcolor\": \"#2a3f5f\", \"arrowhead\": 0, \"arrowwidth\": 1}, \"coloraxis\": {\"colorbar\": {\"outlinewidth\": 0, \"ticks\": \"\"}}, \"colorscale\": {\"diverging\": [[0, \"#8e0152\"], [0.1, \"#c51b7d\"], [0.2, \"#de77ae\"], [0.3, \"#f1b6da\"], [0.4, \"#fde0ef\"], [0.5, \"#f7f7f7\"], [0.6, \"#e6f5d0\"], [0.7, \"#b8e186\"], [0.8, \"#7fbc41\"], [0.9, \"#4d9221\"], [1, \"#276419\"]], \"sequential\": [[0.0, \"#0d0887\"], [0.1111111111111111, \"#46039f\"], [0.2222222222222222, \"#7201a8\"], [0.3333333333333333, \"#9c179e\"], [0.4444444444444444, \"#bd3786\"], [0.5555555555555556, \"#d8576b\"], [0.6666666666666666, \"#ed7953\"], [0.7777777777777778, \"#fb9f3a\"], [0.8888888888888888, \"#fdca26\"], [1.0, \"#f0f921\"]], \"sequentialminus\": [[0.0, \"#0d0887\"], [0.1111111111111111, \"#46039f\"], [0.2222222222222222, \"#7201a8\"], [0.3333333333333333, \"#9c179e\"], [0.4444444444444444, \"#bd3786\"], [0.5555555555555556, \"#d8576b\"], [0.6666666666666666, \"#ed7953\"], [0.7777777777777778, \"#fb9f3a\"], [0.8888888888888888, \"#fdca26\"], [1.0, \"#f0f921\"]]}, \"colorway\": [\"#636efa\", \"#EF553B\", \"#00cc96\", \"#ab63fa\", \"#FFA15A\", \"#19d3f3\", \"#FF6692\", \"#B6E880\", \"#FF97FF\", \"#FECB52\"], \"font\": {\"color\": \"#2a3f5f\"}, \"geo\": {\"bgcolor\": \"white\", \"lakecolor\": \"white\", \"landcolor\": \"#E5ECF6\", \"showlakes\": true, \"showland\": true, \"subunitcolor\": \"white\"}, \"hoverlabel\": {\"align\": \"left\"}, \"hovermode\": \"closest\", \"mapbox\": {\"style\": \"light\"}, \"paper_bgcolor\": \"white\", \"plot_bgcolor\": \"#E5ECF6\", \"polar\": {\"angularaxis\": {\"gridcolor\": \"white\", \"linecolor\": \"white\", \"ticks\": \"\"}, \"bgcolor\": \"#E5ECF6\", \"radialaxis\": {\"gridcolor\": \"white\", \"linecolor\": \"white\", \"ticks\": \"\"}}, \"scene\": {\"xaxis\": {\"backgroundcolor\": \"#E5ECF6\", \"gridcolor\": \"white\", \"gridwidth\": 2, \"linecolor\": \"white\", \"showbackground\": true, \"ticks\": \"\", \"zerolinecolor\": \"white\"}, \"yaxis\": {\"backgroundcolor\": \"#E5ECF6\", \"gridcolor\": \"white\", \"gridwidth\": 2, \"linecolor\": \"white\", \"showbackground\": true, \"ticks\": \"\", \"zerolinecolor\": \"white\"}, \"zaxis\": {\"backgroundcolor\": \"#E5ECF6\", \"gridcolor\": \"white\", \"gridwidth\": 2, \"linecolor\": \"white\", \"showbackground\": true, \"ticks\": \"\", \"zerolinecolor\": \"white\"}}, \"shapedefaults\": {\"line\": {\"color\": \"#2a3f5f\"}}, \"ternary\": {\"aaxis\": {\"gridcolor\": \"white\", \"linecolor\": \"white\", \"ticks\": \"\"}, \"baxis\": {\"gridcolor\": \"white\", \"linecolor\": \"white\", \"ticks\": \"\"}, \"bgcolor\": \"#E5ECF6\", \"caxis\": {\"gridcolor\": \"white\", \"linecolor\": \"white\", \"ticks\": \"\"}}, \"title\": {\"x\": 0.05}, \"xaxis\": {\"automargin\": true, \"gridcolor\": \"white\", \"linecolor\": \"white\", \"ticks\": \"\", \"title\": {\"standoff\": 15}, \"zerolinecolor\": \"white\", \"zerolinewidth\": 2}, \"yaxis\": {\"automargin\": true, \"gridcolor\": \"white\", \"linecolor\": \"white\", \"ticks\": \"\", \"title\": {\"standoff\": 15}, \"zerolinecolor\": \"white\", \"zerolinewidth\": 2}}}, \"title\": {\"text\": \"Cost Function vs Epochs\\n\", \"x\": 0.5}, \"xaxis\": {\"linecolor\": \"black\", \"linewidth\": 2, \"mirror\": true, \"showline\": true, \"title\": {\"text\": \"Epochs\"}}, \"yaxis\": {\"linecolor\": \"black\", \"linewidth\": 2, \"mirror\": true, \"showline\": true, \"title\": {\"text\": \"Cost Function\"}}},\n",
              "                        {\"responsive\": true}\n",
              "                    ).then(function(){\n",
              "                            \n",
              "var gd = document.getElementById('17f8d1fa-040e-4f34-84b3-94f81a94f721');\n",
              "var x = new MutationObserver(function (mutations, observer) {{\n",
              "        var display = window.getComputedStyle(gd).display;\n",
              "        if (!display || display === 'none') {{\n",
              "            console.log([gd, 'removed!']);\n",
              "            Plotly.purge(gd);\n",
              "            observer.disconnect();\n",
              "        }}\n",
              "}});\n",
              "\n",
              "// Listen for the removal of the full notebook cells\n",
              "var notebookContainer = gd.closest('#notebook-container');\n",
              "if (notebookContainer) {{\n",
              "    x.observe(notebookContainer, {childList: true});\n",
              "}}\n",
              "\n",
              "// Listen for the clearing of the current output cell\n",
              "var outputEl = gd.closest('.output');\n",
              "if (outputEl) {{\n",
              "    x.observe(outputEl, {childList: true});\n",
              "}}\n",
              "\n",
              "                        })\n",
              "                };\n",
              "                \n",
              "            </script>\n",
              "        </div>\n",
              "</body>\n",
              "</html>"
            ]
          },
          "metadata": {}
        }
      ]
    },
    {
      "cell_type": "code",
      "metadata": {
        "id": "CgTnAyt0YRHn",
        "colab": {
          "base_uri": "https://localhost:8080/",
          "height": 664
        },
        "outputId": "f735a78f-329f-4096-ccb1-ffc659d45567"
      },
      "source": [
        "y_pred = b0 + b1 * X\n",
        "fig = go.Figure()\n",
        "\n",
        "fig.add_trace(go.Scatter(x=X, y=Y, name='train', mode='markers', marker_color='rgba(152, 0, 0, .8)'))\n",
        "fig.add_trace(go.Scatter(x=X, y=y_pred, name='prediction', mode='lines+markers', marker_color='rgba(0, 152, 0, .8)'))\n",
        "\n",
        "fig.update_layout(title = f'Obtained Score Percentage vs Hours-Studied\\n (visual comparison for correctness after Train-Test Split)',title_x=0.5, xaxis_title= \"Number of Hours Studied\", yaxis_title=\"Obtained Percentage Score\")\n",
        "fig.update_xaxes(showline=True, linewidth=2, linecolor='black', mirror=True)\n",
        "fig.update_yaxes(showline=True, linewidth=2, linecolor='black', mirror=True)\n",
        "fig.show()\n",
        "\n",
        "y_pred = b0 + b1 * X_test\n",
        "print(f'\\n\\nY_Test: {Y_test}')\n",
        "print(f'\\n\\nY_Pred: {y_pred}')\n",
        "print(MSE(X_test, Y_test, y_pred))"
      ],
      "execution_count": null,
      "outputs": [
        {
          "output_type": "display_data",
          "data": {
            "text/html": [
              "<html>\n",
              "<head><meta charset=\"utf-8\" /></head>\n",
              "<body>\n",
              "    <div>\n",
              "            <script src=\"https://cdnjs.cloudflare.com/ajax/libs/mathjax/2.7.5/MathJax.js?config=TeX-AMS-MML_SVG\"></script><script type=\"text/javascript\">if (window.MathJax) {MathJax.Hub.Config({SVG: {font: \"STIX-Web\"}});}</script>\n",
              "                <script type=\"text/javascript\">window.PlotlyConfig = {MathJaxConfig: 'local'};</script>\n",
              "        <script src=\"https://cdn.plot.ly/plotly-latest.min.js\"></script>    \n",
              "            <div id=\"4f9ceed7-51e7-40d4-ba5d-8ce5f899e7d1\" class=\"plotly-graph-div\" style=\"height:525px; width:100%;\"></div>\n",
              "            <script type=\"text/javascript\">\n",
              "                \n",
              "                    window.PLOTLYENV=window.PLOTLYENV || {};\n",
              "                    \n",
              "                if (document.getElementById(\"4f9ceed7-51e7-40d4-ba5d-8ce5f899e7d1\")) {\n",
              "                    Plotly.newPlot(\n",
              "                        '4f9ceed7-51e7-40d4-ba5d-8ce5f899e7d1',\n",
              "                        [{\"marker\": {\"color\": \"rgba(152, 0, 0, .8)\"}, \"mode\": \"markers\", \"name\": \"train\", \"type\": \"scatter\", \"x\": [2.5, 5.1, 3.2, 8.5, 3.5, 1.5, 9.2, 5.5, 8.3, 2.7, 7.7, 5.9, 4.5, 3.3, 1.1, 8.9, 2.5, 1.9, 6.1, 7.4, 2.7, 4.8, 3.8, 6.9, 7.8], \"y\": [21, 47, 27, 75, 30, 20, 88, 60, 81, 25, 85, 62, 41, 42, 17, 95, 30, 24, 67, 69, 30, 54, 35, 76, 86]}, {\"marker\": {\"color\": \"rgba(0, 152, 0, .8)\"}, \"mode\": \"lines+markers\", \"name\": \"prediction\", \"type\": \"scatter\", \"x\": [2.5, 5.1, 3.2, 8.5, 3.5, 1.5, 9.2, 5.5, 8.3, 2.7, 7.7, 5.9, 4.5, 3.3, 1.1, 8.9, 2.5, 1.9, 6.1, 7.4, 2.7, 4.8, 3.8, 6.9, 7.8], \"y\": [24.757249121806336, 49.01087008196004, 31.28707014954003, 80.72714364523796, 34.08556487571161, 15.428933367901063, 87.25696467297165, 52.742196383522156, 78.86148049445691, 26.622912272587392, 73.26449104211375, 56.47352268508427, 43.413880629616884, 32.21990172493055, 11.697607066338957, 84.45846994680008, 24.757249121806336, 19.160259669463173, 58.339185835865315, 70.46599631594216, 26.622912272587392, 46.21237535578847, 36.884059601883195, 65.80183843898953, 74.19732261750427]}],\n",
              "                        {\"template\": {\"data\": {\"bar\": [{\"error_x\": {\"color\": \"#2a3f5f\"}, \"error_y\": {\"color\": \"#2a3f5f\"}, \"marker\": {\"line\": {\"color\": \"#E5ECF6\", \"width\": 0.5}}, \"type\": \"bar\"}], \"barpolar\": [{\"marker\": {\"line\": {\"color\": \"#E5ECF6\", \"width\": 0.5}}, \"type\": \"barpolar\"}], \"carpet\": [{\"aaxis\": {\"endlinecolor\": \"#2a3f5f\", \"gridcolor\": \"white\", \"linecolor\": \"white\", \"minorgridcolor\": \"white\", \"startlinecolor\": \"#2a3f5f\"}, \"baxis\": {\"endlinecolor\": \"#2a3f5f\", \"gridcolor\": \"white\", \"linecolor\": \"white\", \"minorgridcolor\": \"white\", \"startlinecolor\": \"#2a3f5f\"}, \"type\": \"carpet\"}], \"choropleth\": [{\"colorbar\": {\"outlinewidth\": 0, \"ticks\": \"\"}, \"type\": \"choropleth\"}], \"contour\": [{\"colorbar\": {\"outlinewidth\": 0, \"ticks\": \"\"}, \"colorscale\": [[0.0, \"#0d0887\"], [0.1111111111111111, \"#46039f\"], [0.2222222222222222, \"#7201a8\"], [0.3333333333333333, \"#9c179e\"], [0.4444444444444444, \"#bd3786\"], [0.5555555555555556, \"#d8576b\"], [0.6666666666666666, \"#ed7953\"], [0.7777777777777778, \"#fb9f3a\"], [0.8888888888888888, \"#fdca26\"], [1.0, \"#f0f921\"]], \"type\": \"contour\"}], \"contourcarpet\": [{\"colorbar\": {\"outlinewidth\": 0, \"ticks\": \"\"}, \"type\": \"contourcarpet\"}], \"heatmap\": [{\"colorbar\": {\"outlinewidth\": 0, \"ticks\": \"\"}, \"colorscale\": [[0.0, \"#0d0887\"], [0.1111111111111111, \"#46039f\"], [0.2222222222222222, \"#7201a8\"], [0.3333333333333333, \"#9c179e\"], [0.4444444444444444, \"#bd3786\"], [0.5555555555555556, \"#d8576b\"], [0.6666666666666666, \"#ed7953\"], [0.7777777777777778, \"#fb9f3a\"], [0.8888888888888888, \"#fdca26\"], [1.0, \"#f0f921\"]], \"type\": \"heatmap\"}], \"heatmapgl\": [{\"colorbar\": {\"outlinewidth\": 0, \"ticks\": \"\"}, \"colorscale\": [[0.0, \"#0d0887\"], [0.1111111111111111, \"#46039f\"], [0.2222222222222222, \"#7201a8\"], [0.3333333333333333, \"#9c179e\"], [0.4444444444444444, \"#bd3786\"], [0.5555555555555556, \"#d8576b\"], [0.6666666666666666, \"#ed7953\"], [0.7777777777777778, \"#fb9f3a\"], [0.8888888888888888, \"#fdca26\"], [1.0, \"#f0f921\"]], \"type\": \"heatmapgl\"}], \"histogram\": [{\"marker\": {\"colorbar\": {\"outlinewidth\": 0, \"ticks\": \"\"}}, \"type\": \"histogram\"}], \"histogram2d\": [{\"colorbar\": {\"outlinewidth\": 0, \"ticks\": \"\"}, \"colorscale\": [[0.0, \"#0d0887\"], [0.1111111111111111, \"#46039f\"], [0.2222222222222222, \"#7201a8\"], [0.3333333333333333, \"#9c179e\"], [0.4444444444444444, \"#bd3786\"], [0.5555555555555556, \"#d8576b\"], [0.6666666666666666, \"#ed7953\"], [0.7777777777777778, \"#fb9f3a\"], [0.8888888888888888, \"#fdca26\"], [1.0, \"#f0f921\"]], \"type\": \"histogram2d\"}], \"histogram2dcontour\": [{\"colorbar\": {\"outlinewidth\": 0, \"ticks\": \"\"}, \"colorscale\": [[0.0, \"#0d0887\"], [0.1111111111111111, \"#46039f\"], [0.2222222222222222, \"#7201a8\"], [0.3333333333333333, \"#9c179e\"], [0.4444444444444444, \"#bd3786\"], [0.5555555555555556, \"#d8576b\"], [0.6666666666666666, \"#ed7953\"], [0.7777777777777778, \"#fb9f3a\"], [0.8888888888888888, \"#fdca26\"], [1.0, \"#f0f921\"]], \"type\": \"histogram2dcontour\"}], \"mesh3d\": [{\"colorbar\": {\"outlinewidth\": 0, \"ticks\": \"\"}, \"type\": \"mesh3d\"}], \"parcoords\": [{\"line\": {\"colorbar\": {\"outlinewidth\": 0, \"ticks\": \"\"}}, \"type\": \"parcoords\"}], \"pie\": [{\"automargin\": true, \"type\": \"pie\"}], \"scatter\": [{\"marker\": {\"colorbar\": {\"outlinewidth\": 0, \"ticks\": \"\"}}, \"type\": \"scatter\"}], \"scatter3d\": [{\"line\": {\"colorbar\": {\"outlinewidth\": 0, \"ticks\": \"\"}}, \"marker\": {\"colorbar\": {\"outlinewidth\": 0, \"ticks\": \"\"}}, \"type\": \"scatter3d\"}], \"scattercarpet\": [{\"marker\": {\"colorbar\": {\"outlinewidth\": 0, \"ticks\": \"\"}}, \"type\": \"scattercarpet\"}], \"scattergeo\": [{\"marker\": {\"colorbar\": {\"outlinewidth\": 0, \"ticks\": \"\"}}, \"type\": \"scattergeo\"}], \"scattergl\": [{\"marker\": {\"colorbar\": {\"outlinewidth\": 0, \"ticks\": \"\"}}, \"type\": \"scattergl\"}], \"scattermapbox\": [{\"marker\": {\"colorbar\": {\"outlinewidth\": 0, \"ticks\": \"\"}}, \"type\": \"scattermapbox\"}], \"scatterpolar\": [{\"marker\": {\"colorbar\": {\"outlinewidth\": 0, \"ticks\": \"\"}}, \"type\": \"scatterpolar\"}], \"scatterpolargl\": [{\"marker\": {\"colorbar\": {\"outlinewidth\": 0, \"ticks\": \"\"}}, \"type\": \"scatterpolargl\"}], \"scatterternary\": [{\"marker\": {\"colorbar\": {\"outlinewidth\": 0, \"ticks\": \"\"}}, \"type\": \"scatterternary\"}], \"surface\": [{\"colorbar\": {\"outlinewidth\": 0, \"ticks\": \"\"}, \"colorscale\": [[0.0, \"#0d0887\"], [0.1111111111111111, \"#46039f\"], [0.2222222222222222, \"#7201a8\"], [0.3333333333333333, \"#9c179e\"], [0.4444444444444444, \"#bd3786\"], [0.5555555555555556, \"#d8576b\"], [0.6666666666666666, \"#ed7953\"], [0.7777777777777778, \"#fb9f3a\"], [0.8888888888888888, \"#fdca26\"], [1.0, \"#f0f921\"]], \"type\": \"surface\"}], \"table\": [{\"cells\": {\"fill\": {\"color\": \"#EBF0F8\"}, \"line\": {\"color\": \"white\"}}, \"header\": {\"fill\": {\"color\": \"#C8D4E3\"}, \"line\": {\"color\": \"white\"}}, \"type\": \"table\"}]}, \"layout\": {\"annotationdefaults\": {\"arrowcolor\": \"#2a3f5f\", \"arrowhead\": 0, \"arrowwidth\": 1}, \"coloraxis\": {\"colorbar\": {\"outlinewidth\": 0, \"ticks\": \"\"}}, \"colorscale\": {\"diverging\": [[0, \"#8e0152\"], [0.1, \"#c51b7d\"], [0.2, \"#de77ae\"], [0.3, \"#f1b6da\"], [0.4, \"#fde0ef\"], [0.5, \"#f7f7f7\"], [0.6, \"#e6f5d0\"], [0.7, \"#b8e186\"], [0.8, \"#7fbc41\"], [0.9, \"#4d9221\"], [1, \"#276419\"]], \"sequential\": [[0.0, \"#0d0887\"], [0.1111111111111111, \"#46039f\"], [0.2222222222222222, \"#7201a8\"], [0.3333333333333333, \"#9c179e\"], [0.4444444444444444, \"#bd3786\"], [0.5555555555555556, \"#d8576b\"], [0.6666666666666666, \"#ed7953\"], [0.7777777777777778, \"#fb9f3a\"], [0.8888888888888888, \"#fdca26\"], [1.0, \"#f0f921\"]], \"sequentialminus\": [[0.0, \"#0d0887\"], [0.1111111111111111, \"#46039f\"], [0.2222222222222222, \"#7201a8\"], [0.3333333333333333, \"#9c179e\"], [0.4444444444444444, \"#bd3786\"], [0.5555555555555556, \"#d8576b\"], [0.6666666666666666, \"#ed7953\"], [0.7777777777777778, \"#fb9f3a\"], [0.8888888888888888, \"#fdca26\"], [1.0, \"#f0f921\"]]}, \"colorway\": [\"#636efa\", \"#EF553B\", \"#00cc96\", \"#ab63fa\", \"#FFA15A\", \"#19d3f3\", \"#FF6692\", \"#B6E880\", \"#FF97FF\", \"#FECB52\"], \"font\": {\"color\": \"#2a3f5f\"}, \"geo\": {\"bgcolor\": \"white\", \"lakecolor\": \"white\", \"landcolor\": \"#E5ECF6\", \"showlakes\": true, \"showland\": true, \"subunitcolor\": \"white\"}, \"hoverlabel\": {\"align\": \"left\"}, \"hovermode\": \"closest\", \"mapbox\": {\"style\": \"light\"}, \"paper_bgcolor\": \"white\", \"plot_bgcolor\": \"#E5ECF6\", \"polar\": {\"angularaxis\": {\"gridcolor\": \"white\", \"linecolor\": \"white\", \"ticks\": \"\"}, \"bgcolor\": \"#E5ECF6\", \"radialaxis\": {\"gridcolor\": \"white\", \"linecolor\": \"white\", \"ticks\": \"\"}}, \"scene\": {\"xaxis\": {\"backgroundcolor\": \"#E5ECF6\", \"gridcolor\": \"white\", \"gridwidth\": 2, \"linecolor\": \"white\", \"showbackground\": true, \"ticks\": \"\", \"zerolinecolor\": \"white\"}, \"yaxis\": {\"backgroundcolor\": \"#E5ECF6\", \"gridcolor\": \"white\", \"gridwidth\": 2, \"linecolor\": \"white\", \"showbackground\": true, \"ticks\": \"\", \"zerolinecolor\": \"white\"}, \"zaxis\": {\"backgroundcolor\": \"#E5ECF6\", \"gridcolor\": \"white\", \"gridwidth\": 2, \"linecolor\": \"white\", \"showbackground\": true, \"ticks\": \"\", \"zerolinecolor\": \"white\"}}, \"shapedefaults\": {\"line\": {\"color\": \"#2a3f5f\"}}, \"ternary\": {\"aaxis\": {\"gridcolor\": \"white\", \"linecolor\": \"white\", \"ticks\": \"\"}, \"baxis\": {\"gridcolor\": \"white\", \"linecolor\": \"white\", \"ticks\": \"\"}, \"bgcolor\": \"#E5ECF6\", \"caxis\": {\"gridcolor\": \"white\", \"linecolor\": \"white\", \"ticks\": \"\"}}, \"title\": {\"x\": 0.05}, \"xaxis\": {\"automargin\": true, \"gridcolor\": \"white\", \"linecolor\": \"white\", \"ticks\": \"\", \"title\": {\"standoff\": 15}, \"zerolinecolor\": \"white\", \"zerolinewidth\": 2}, \"yaxis\": {\"automargin\": true, \"gridcolor\": \"white\", \"linecolor\": \"white\", \"ticks\": \"\", \"title\": {\"standoff\": 15}, \"zerolinecolor\": \"white\", \"zerolinewidth\": 2}}}, \"title\": {\"text\": \"Obtained Score Percentage vs Hours-Studied\\n (visual comparison for correctness after Train-Test Split)\", \"x\": 0.5}, \"xaxis\": {\"linecolor\": \"black\", \"linewidth\": 2, \"mirror\": true, \"showline\": true, \"title\": {\"text\": \"Number of Hours Studied\"}}, \"yaxis\": {\"linecolor\": \"black\", \"linewidth\": 2, \"mirror\": true, \"showline\": true, \"title\": {\"text\": \"Obtained Percentage Score\"}}},\n",
              "                        {\"responsive\": true}\n",
              "                    ).then(function(){\n",
              "                            \n",
              "var gd = document.getElementById('4f9ceed7-51e7-40d4-ba5d-8ce5f899e7d1');\n",
              "var x = new MutationObserver(function (mutations, observer) {{\n",
              "        var display = window.getComputedStyle(gd).display;\n",
              "        if (!display || display === 'none') {{\n",
              "            console.log([gd, 'removed!']);\n",
              "            Plotly.purge(gd);\n",
              "            observer.disconnect();\n",
              "        }}\n",
              "}});\n",
              "\n",
              "// Listen for the removal of the full notebook cells\n",
              "var notebookContainer = gd.closest('#notebook-container');\n",
              "if (notebookContainer) {{\n",
              "    x.observe(notebookContainer, {childList: true});\n",
              "}}\n",
              "\n",
              "// Listen for the clearing of the current output cell\n",
              "var outputEl = gd.closest('.output');\n",
              "if (outputEl) {{\n",
              "    x.observe(outputEl, {childList: true});\n",
              "}}\n",
              "\n",
              "                        })\n",
              "                };\n",
              "                \n",
              "            </script>\n",
              "        </div>\n",
              "</body>\n",
              "</html>"
            ]
          },
          "metadata": {}
        },
        {
          "output_type": "stream",
          "name": "stdout",
          "text": [
            "\n",
            "\n",
            "Y_Test: [24 30 60 47 41]\n",
            "\n",
            "\n",
            "Y_Pred: [19.16025967 24.75724912 52.74219638 49.01087008 43.41388063]\n",
            "22.691130950749127\n"
          ]
        }
      ]
    },
    {
      "cell_type": "markdown",
      "metadata": {
        "id": "6ZCGo0lJZzwA"
      },
      "source": [
        "**<font color='skyblue'>Linear Regression with Scikit Learn</font>**"
      ]
    },
    {
      "cell_type": "markdown",
      "metadata": {
        "id": "QIh0XUhRZ-4Q"
      },
      "source": [
        "Loading Libraries"
      ]
    },
    {
      "cell_type": "code",
      "metadata": {
        "id": "Ea-2oK4zaMj3"
      },
      "source": [
        "from sklearn.linear_model import LinearRegression"
      ],
      "execution_count": null,
      "outputs": []
    },
    {
      "cell_type": "markdown",
      "metadata": {
        "id": "rnm77jBSbZpa"
      },
      "source": [
        "Reshaping the training and test sets"
      ]
    },
    {
      "cell_type": "code",
      "metadata": {
        "id": "hVH_5fS3bTSO"
      },
      "source": [
        "X_train = X_train.reshape(-1,1)\n",
        "X_test = X_test.reshape(-1,1)\n",
        "Y_train = Y_train.reshape(-1,1)\n",
        "Y_test = Y_test.reshape(-1,1)"
      ],
      "execution_count": null,
      "outputs": []
    },
    {
      "cell_type": "markdown",
      "metadata": {
        "id": "m3oLHg_1aRiG"
      },
      "source": [
        "Training The Model"
      ]
    },
    {
      "cell_type": "code",
      "metadata": {
        "id": "5sVtC4DkaTVF",
        "colab": {
          "base_uri": "https://localhost:8080/"
        },
        "outputId": "6379d0c4-8d4d-47b1-e77a-ee446e0ab5dc"
      },
      "source": [
        "regressor = LinearRegression()\n",
        "regressor.fit(X_train, Y_train)"
      ],
      "execution_count": null,
      "outputs": [
        {
          "output_type": "execute_result",
          "data": {
            "text/plain": [
              "LinearRegression()"
            ]
          },
          "metadata": {},
          "execution_count": 27
        }
      ]
    },
    {
      "cell_type": "markdown",
      "metadata": {
        "id": "nD2xb9E_aXms"
      },
      "source": [
        "Printitng $Intercept$ and $Slope$"
      ]
    },
    {
      "cell_type": "code",
      "metadata": {
        "id": "Atp-y5KGac8j",
        "colab": {
          "base_uri": "https://localhost:8080/"
        },
        "outputId": "7fd5bf42-944d-4cda-9381-893635f02101"
      },
      "source": [
        "print(regressor.intercept_, regressor.coef_)"
      ],
      "execution_count": null,
      "outputs": [
        {
          "output_type": "stream",
          "name": "stdout",
          "text": [
            "[2.1376522] [[9.9358635]]\n"
          ]
        }
      ]
    },
    {
      "cell_type": "markdown",
      "metadata": {
        "id": "JLjB_G8Pbws3"
      },
      "source": [
        "Making Predictions and visual comparison for correctness"
      ]
    },
    {
      "cell_type": "code",
      "metadata": {
        "id": "9NHqcUD-b29I",
        "colab": {
          "base_uri": "https://localhost:8080/",
          "height": 664
        },
        "outputId": "f406fce1-3401-491e-8a76-d38312773515"
      },
      "source": [
        "y_pred = regressor.predict(X.reshape(-1,1))\n",
        "\n",
        "fig = go.Figure()\n",
        "\n",
        "fig.add_trace(go.Scatter(x=X, y=Y, name='train', mode='markers', marker_color='rgba(152, 0, 0, .8)'))\n",
        "fig.add_trace(go.Scatter(x=X, y=y_pred.flatten(), name='prediction', mode='lines+markers', marker_color='rgba(0, 152, 0, .8)'))\n",
        "\n",
        "fig.update_layout(title = f'Obtained Score Percentage vs Hours-Studied\\n (visual comparison for correctness after Train-Test Split)',title_x=0.5, xaxis_title= \"Number of Hours Studied\", yaxis_title=\"Obtained Percentage Score\")\n",
        "fig.update_xaxes(showline=True, linewidth=2, linecolor='black', mirror=True)\n",
        "fig.update_yaxes(showline=True, linewidth=2, linecolor='black', mirror=True)\n",
        "fig.show()\n",
        "\n",
        "y_pred = regressor.predict(X_test)\n",
        "print(f'\\n\\nY_Test: {Y_test.flatten()}')\n",
        "print(f'\\n\\nY_Pred: {y_pred.flatten()}')\n",
        "print(MSE(X_test, Y_test, y_pred))"
      ],
      "execution_count": null,
      "outputs": [
        {
          "output_type": "display_data",
          "data": {
            "text/html": [
              "<html>\n",
              "<head><meta charset=\"utf-8\" /></head>\n",
              "<body>\n",
              "    <div>\n",
              "            <script src=\"https://cdnjs.cloudflare.com/ajax/libs/mathjax/2.7.5/MathJax.js?config=TeX-AMS-MML_SVG\"></script><script type=\"text/javascript\">if (window.MathJax) {MathJax.Hub.Config({SVG: {font: \"STIX-Web\"}});}</script>\n",
              "                <script type=\"text/javascript\">window.PlotlyConfig = {MathJaxConfig: 'local'};</script>\n",
              "        <script src=\"https://cdn.plot.ly/plotly-latest.min.js\"></script>    \n",
              "            <div id=\"9600add5-6e36-4e55-8213-c00c81a4a3f3\" class=\"plotly-graph-div\" style=\"height:525px; width:100%;\"></div>\n",
              "            <script type=\"text/javascript\">\n",
              "                \n",
              "                    window.PLOTLYENV=window.PLOTLYENV || {};\n",
              "                    \n",
              "                if (document.getElementById(\"9600add5-6e36-4e55-8213-c00c81a4a3f3\")) {\n",
              "                    Plotly.newPlot(\n",
              "                        '9600add5-6e36-4e55-8213-c00c81a4a3f3',\n",
              "                        [{\"marker\": {\"color\": \"rgba(152, 0, 0, .8)\"}, \"mode\": \"markers\", \"name\": \"train\", \"type\": \"scatter\", \"x\": [2.5, 5.1, 3.2, 8.5, 3.5, 1.5, 9.2, 5.5, 8.3, 2.7, 7.7, 5.9, 4.5, 3.3, 1.1, 8.9, 2.5, 1.9, 6.1, 7.4, 2.7, 4.8, 3.8, 6.9, 7.8], \"y\": [21, 47, 27, 75, 30, 20, 88, 60, 81, 25, 85, 62, 41, 42, 17, 95, 30, 24, 67, 69, 30, 54, 35, 76, 86]}, {\"marker\": {\"color\": \"rgba(0, 152, 0, .8)\"}, \"mode\": \"lines+markers\", \"name\": \"prediction\", \"type\": \"scatter\", \"x\": [2.5, 5.1, 3.2, 8.5, 3.5, 1.5, 9.2, 5.5, 8.3, 2.7, 7.7, 5.9, 4.5, 3.3, 1.1, 8.9, 2.5, 1.9, 6.1, 7.4, 2.7, 4.8, 3.8, 6.9, 7.8], \"y\": [26.977310951928068, 52.81055605267719, 33.93241540212976, 86.59249195365682, 36.9131744522162, 17.041447451639947, 93.5475964038585, 56.78490145279245, 84.6053192535992, 28.964483651985695, 78.64380115342632, 60.7592468529077, 46.84903795250432, 34.92600175215857, 13.067102051524696, 90.56683735377207, 26.977310951928068, 21.015792851755194, 62.746419552965314, 75.66304210333989, 28.964483651985695, 49.82979700259076, 39.89393350230263, 70.69511035319583, 79.63738750345513]}],\n",
              "                        {\"template\": {\"data\": {\"bar\": [{\"error_x\": {\"color\": \"#2a3f5f\"}, \"error_y\": {\"color\": \"#2a3f5f\"}, \"marker\": {\"line\": {\"color\": \"#E5ECF6\", \"width\": 0.5}}, \"type\": \"bar\"}], \"barpolar\": [{\"marker\": {\"line\": {\"color\": \"#E5ECF6\", \"width\": 0.5}}, \"type\": \"barpolar\"}], \"carpet\": [{\"aaxis\": {\"endlinecolor\": \"#2a3f5f\", \"gridcolor\": \"white\", \"linecolor\": \"white\", \"minorgridcolor\": \"white\", \"startlinecolor\": \"#2a3f5f\"}, \"baxis\": {\"endlinecolor\": \"#2a3f5f\", \"gridcolor\": \"white\", \"linecolor\": \"white\", \"minorgridcolor\": \"white\", \"startlinecolor\": \"#2a3f5f\"}, \"type\": \"carpet\"}], \"choropleth\": [{\"colorbar\": {\"outlinewidth\": 0, \"ticks\": \"\"}, \"type\": \"choropleth\"}], \"contour\": [{\"colorbar\": {\"outlinewidth\": 0, \"ticks\": \"\"}, \"colorscale\": [[0.0, \"#0d0887\"], [0.1111111111111111, \"#46039f\"], [0.2222222222222222, \"#7201a8\"], [0.3333333333333333, \"#9c179e\"], [0.4444444444444444, \"#bd3786\"], [0.5555555555555556, \"#d8576b\"], [0.6666666666666666, \"#ed7953\"], [0.7777777777777778, \"#fb9f3a\"], [0.8888888888888888, \"#fdca26\"], [1.0, \"#f0f921\"]], \"type\": \"contour\"}], \"contourcarpet\": [{\"colorbar\": {\"outlinewidth\": 0, \"ticks\": \"\"}, \"type\": \"contourcarpet\"}], \"heatmap\": [{\"colorbar\": {\"outlinewidth\": 0, \"ticks\": \"\"}, \"colorscale\": [[0.0, \"#0d0887\"], [0.1111111111111111, \"#46039f\"], [0.2222222222222222, \"#7201a8\"], [0.3333333333333333, \"#9c179e\"], [0.4444444444444444, \"#bd3786\"], [0.5555555555555556, \"#d8576b\"], [0.6666666666666666, \"#ed7953\"], [0.7777777777777778, \"#fb9f3a\"], [0.8888888888888888, \"#fdca26\"], [1.0, \"#f0f921\"]], \"type\": \"heatmap\"}], \"heatmapgl\": [{\"colorbar\": {\"outlinewidth\": 0, \"ticks\": \"\"}, \"colorscale\": [[0.0, \"#0d0887\"], [0.1111111111111111, \"#46039f\"], [0.2222222222222222, \"#7201a8\"], [0.3333333333333333, \"#9c179e\"], [0.4444444444444444, \"#bd3786\"], [0.5555555555555556, \"#d8576b\"], [0.6666666666666666, \"#ed7953\"], [0.7777777777777778, \"#fb9f3a\"], [0.8888888888888888, \"#fdca26\"], [1.0, \"#f0f921\"]], \"type\": \"heatmapgl\"}], \"histogram\": [{\"marker\": {\"colorbar\": {\"outlinewidth\": 0, \"ticks\": \"\"}}, \"type\": \"histogram\"}], \"histogram2d\": [{\"colorbar\": {\"outlinewidth\": 0, \"ticks\": \"\"}, \"colorscale\": [[0.0, \"#0d0887\"], [0.1111111111111111, \"#46039f\"], [0.2222222222222222, \"#7201a8\"], [0.3333333333333333, \"#9c179e\"], [0.4444444444444444, \"#bd3786\"], [0.5555555555555556, \"#d8576b\"], [0.6666666666666666, \"#ed7953\"], [0.7777777777777778, \"#fb9f3a\"], [0.8888888888888888, \"#fdca26\"], [1.0, \"#f0f921\"]], \"type\": \"histogram2d\"}], \"histogram2dcontour\": [{\"colorbar\": {\"outlinewidth\": 0, \"ticks\": \"\"}, \"colorscale\": [[0.0, \"#0d0887\"], [0.1111111111111111, \"#46039f\"], [0.2222222222222222, \"#7201a8\"], [0.3333333333333333, \"#9c179e\"], [0.4444444444444444, \"#bd3786\"], [0.5555555555555556, \"#d8576b\"], [0.6666666666666666, \"#ed7953\"], [0.7777777777777778, \"#fb9f3a\"], [0.8888888888888888, \"#fdca26\"], [1.0, \"#f0f921\"]], \"type\": \"histogram2dcontour\"}], \"mesh3d\": [{\"colorbar\": {\"outlinewidth\": 0, \"ticks\": \"\"}, \"type\": \"mesh3d\"}], \"parcoords\": [{\"line\": {\"colorbar\": {\"outlinewidth\": 0, \"ticks\": \"\"}}, \"type\": \"parcoords\"}], \"pie\": [{\"automargin\": true, \"type\": \"pie\"}], \"scatter\": [{\"marker\": {\"colorbar\": {\"outlinewidth\": 0, \"ticks\": \"\"}}, \"type\": \"scatter\"}], \"scatter3d\": [{\"line\": {\"colorbar\": {\"outlinewidth\": 0, \"ticks\": \"\"}}, \"marker\": {\"colorbar\": {\"outlinewidth\": 0, \"ticks\": \"\"}}, \"type\": \"scatter3d\"}], \"scattercarpet\": [{\"marker\": {\"colorbar\": {\"outlinewidth\": 0, \"ticks\": \"\"}}, \"type\": \"scattercarpet\"}], \"scattergeo\": [{\"marker\": {\"colorbar\": {\"outlinewidth\": 0, \"ticks\": \"\"}}, \"type\": \"scattergeo\"}], \"scattergl\": [{\"marker\": {\"colorbar\": {\"outlinewidth\": 0, \"ticks\": \"\"}}, \"type\": \"scattergl\"}], \"scattermapbox\": [{\"marker\": {\"colorbar\": {\"outlinewidth\": 0, \"ticks\": \"\"}}, \"type\": \"scattermapbox\"}], \"scatterpolar\": [{\"marker\": {\"colorbar\": {\"outlinewidth\": 0, \"ticks\": \"\"}}, \"type\": \"scatterpolar\"}], \"scatterpolargl\": [{\"marker\": {\"colorbar\": {\"outlinewidth\": 0, \"ticks\": \"\"}}, \"type\": \"scatterpolargl\"}], \"scatterternary\": [{\"marker\": {\"colorbar\": {\"outlinewidth\": 0, \"ticks\": \"\"}}, \"type\": \"scatterternary\"}], \"surface\": [{\"colorbar\": {\"outlinewidth\": 0, \"ticks\": \"\"}, \"colorscale\": [[0.0, \"#0d0887\"], [0.1111111111111111, \"#46039f\"], [0.2222222222222222, \"#7201a8\"], [0.3333333333333333, \"#9c179e\"], [0.4444444444444444, \"#bd3786\"], [0.5555555555555556, \"#d8576b\"], [0.6666666666666666, \"#ed7953\"], [0.7777777777777778, \"#fb9f3a\"], [0.8888888888888888, \"#fdca26\"], [1.0, \"#f0f921\"]], \"type\": \"surface\"}], \"table\": [{\"cells\": {\"fill\": {\"color\": \"#EBF0F8\"}, \"line\": {\"color\": \"white\"}}, \"header\": {\"fill\": {\"color\": \"#C8D4E3\"}, \"line\": {\"color\": \"white\"}}, \"type\": \"table\"}]}, \"layout\": {\"annotationdefaults\": {\"arrowcolor\": \"#2a3f5f\", \"arrowhead\": 0, \"arrowwidth\": 1}, \"coloraxis\": {\"colorbar\": {\"outlinewidth\": 0, \"ticks\": \"\"}}, \"colorscale\": {\"diverging\": [[0, \"#8e0152\"], [0.1, \"#c51b7d\"], [0.2, \"#de77ae\"], [0.3, \"#f1b6da\"], [0.4, \"#fde0ef\"], [0.5, \"#f7f7f7\"], [0.6, \"#e6f5d0\"], [0.7, \"#b8e186\"], [0.8, \"#7fbc41\"], [0.9, \"#4d9221\"], [1, \"#276419\"]], \"sequential\": [[0.0, \"#0d0887\"], [0.1111111111111111, \"#46039f\"], [0.2222222222222222, \"#7201a8\"], [0.3333333333333333, \"#9c179e\"], [0.4444444444444444, \"#bd3786\"], [0.5555555555555556, \"#d8576b\"], [0.6666666666666666, \"#ed7953\"], [0.7777777777777778, \"#fb9f3a\"], [0.8888888888888888, \"#fdca26\"], [1.0, \"#f0f921\"]], \"sequentialminus\": [[0.0, \"#0d0887\"], [0.1111111111111111, \"#46039f\"], [0.2222222222222222, \"#7201a8\"], [0.3333333333333333, \"#9c179e\"], [0.4444444444444444, \"#bd3786\"], [0.5555555555555556, \"#d8576b\"], [0.6666666666666666, \"#ed7953\"], [0.7777777777777778, \"#fb9f3a\"], [0.8888888888888888, \"#fdca26\"], [1.0, \"#f0f921\"]]}, \"colorway\": [\"#636efa\", \"#EF553B\", \"#00cc96\", \"#ab63fa\", \"#FFA15A\", \"#19d3f3\", \"#FF6692\", \"#B6E880\", \"#FF97FF\", \"#FECB52\"], \"font\": {\"color\": \"#2a3f5f\"}, \"geo\": {\"bgcolor\": \"white\", \"lakecolor\": \"white\", \"landcolor\": \"#E5ECF6\", \"showlakes\": true, \"showland\": true, \"subunitcolor\": \"white\"}, \"hoverlabel\": {\"align\": \"left\"}, \"hovermode\": \"closest\", \"mapbox\": {\"style\": \"light\"}, \"paper_bgcolor\": \"white\", \"plot_bgcolor\": \"#E5ECF6\", \"polar\": {\"angularaxis\": {\"gridcolor\": \"white\", \"linecolor\": \"white\", \"ticks\": \"\"}, \"bgcolor\": \"#E5ECF6\", \"radialaxis\": {\"gridcolor\": \"white\", \"linecolor\": \"white\", \"ticks\": \"\"}}, \"scene\": {\"xaxis\": {\"backgroundcolor\": \"#E5ECF6\", \"gridcolor\": \"white\", \"gridwidth\": 2, \"linecolor\": \"white\", \"showbackground\": true, \"ticks\": \"\", \"zerolinecolor\": \"white\"}, \"yaxis\": {\"backgroundcolor\": \"#E5ECF6\", \"gridcolor\": \"white\", \"gridwidth\": 2, \"linecolor\": \"white\", \"showbackground\": true, \"ticks\": \"\", \"zerolinecolor\": \"white\"}, \"zaxis\": {\"backgroundcolor\": \"#E5ECF6\", \"gridcolor\": \"white\", \"gridwidth\": 2, \"linecolor\": \"white\", \"showbackground\": true, \"ticks\": \"\", \"zerolinecolor\": \"white\"}}, \"shapedefaults\": {\"line\": {\"color\": \"#2a3f5f\"}}, \"ternary\": {\"aaxis\": {\"gridcolor\": \"white\", \"linecolor\": \"white\", \"ticks\": \"\"}, \"baxis\": {\"gridcolor\": \"white\", \"linecolor\": \"white\", \"ticks\": \"\"}, \"bgcolor\": \"#E5ECF6\", \"caxis\": {\"gridcolor\": \"white\", \"linecolor\": \"white\", \"ticks\": \"\"}}, \"title\": {\"x\": 0.05}, \"xaxis\": {\"automargin\": true, \"gridcolor\": \"white\", \"linecolor\": \"white\", \"ticks\": \"\", \"title\": {\"standoff\": 15}, \"zerolinecolor\": \"white\", \"zerolinewidth\": 2}, \"yaxis\": {\"automargin\": true, \"gridcolor\": \"white\", \"linecolor\": \"white\", \"ticks\": \"\", \"title\": {\"standoff\": 15}, \"zerolinecolor\": \"white\", \"zerolinewidth\": 2}}}, \"title\": {\"text\": \"Obtained Score Percentage vs Hours-Studied\\n (visual comparison for correctness after Train-Test Split)\", \"x\": 0.5}, \"xaxis\": {\"linecolor\": \"black\", \"linewidth\": 2, \"mirror\": true, \"showline\": true, \"title\": {\"text\": \"Number of Hours Studied\"}}, \"yaxis\": {\"linecolor\": \"black\", \"linewidth\": 2, \"mirror\": true, \"showline\": true, \"title\": {\"text\": \"Obtained Percentage Score\"}}},\n",
              "                        {\"responsive\": true}\n",
              "                    ).then(function(){\n",
              "                            \n",
              "var gd = document.getElementById('9600add5-6e36-4e55-8213-c00c81a4a3f3');\n",
              "var x = new MutationObserver(function (mutations, observer) {{\n",
              "        var display = window.getComputedStyle(gd).display;\n",
              "        if (!display || display === 'none') {{\n",
              "            console.log([gd, 'removed!']);\n",
              "            Plotly.purge(gd);\n",
              "            observer.disconnect();\n",
              "        }}\n",
              "}});\n",
              "\n",
              "// Listen for the removal of the full notebook cells\n",
              "var notebookContainer = gd.closest('#notebook-container');\n",
              "if (notebookContainer) {{\n",
              "    x.observe(notebookContainer, {childList: true});\n",
              "}}\n",
              "\n",
              "// Listen for the clearing of the current output cell\n",
              "var outputEl = gd.closest('.output');\n",
              "if (outputEl) {{\n",
              "    x.observe(outputEl, {childList: true});\n",
              "}}\n",
              "\n",
              "                        })\n",
              "                };\n",
              "                \n",
              "            </script>\n",
              "        </div>\n",
              "</body>\n",
              "</html>"
            ]
          },
          "metadata": {}
        },
        {
          "output_type": "stream",
          "name": "stdout",
          "text": [
            "\n",
            "\n",
            "Y_Test: [75 67 35 81 95]\n",
            "\n",
            "\n",
            "Y_Pred: [86.59249195 62.74641955 39.8939335  84.60531925 90.56683735]\n",
            "41.81613188164754\n"
          ]
        }
      ]
    },
    {
      "cell_type": "markdown",
      "metadata": {
        "id": "dbpKt8BveR7-"
      },
      "source": [
        "**<font color='skyblue'>Multiple Linear Regression</font>**"
      ]
    },
    {
      "cell_type": "markdown",
      "metadata": {
        "id": "KVyztri6eW2T"
      },
      "source": [
        "In the previous section we performed linear regression involving two variables. Almost all real world problems that you are going to encounter will have more than two variables. Linear regression involving multiple variables is called \"multiple linear regression\". The steps to perform multiple linear regression are almost similar to that of simple linear regression."
      ]
    },
    {
      "cell_type": "markdown",
      "metadata": {
        "id": "2U4gO_inekQd"
      },
      "source": [
        "**<font color=lightgreen>Dataset</font>**<br>\n",
        "we will use multiple linear regression to predict the gas consumptions (in millions of gallons) in 48 US states based upon gas taxes (in cents), per capita income (dollars), paved highways (in miles) and the proportion of population that has a drivers license.\n",
        "\n",
        "[Dataset can be downloaded from here.](https://drive.google.com/file/d/1lHJC6sb3ZQoWrrFQJq5zUVxFbQbLlqHH/view?usp=sharing)"
      ]
    },
    {
      "cell_type": "markdown",
      "metadata": {
        "id": "bgqaFbQhf0so"
      },
      "source": [
        "Loading the data"
      ]
    },
    {
      "cell_type": "code",
      "metadata": {
        "id": "Y7nRkjuff2Uh",
        "colab": {
          "base_uri": "https://localhost:8080/"
        },
        "outputId": "0f295e5d-9157-4b81-ae0f-cf93439b0bb4"
      },
      "source": [
        "!gdown --id 1lHJC6sb3ZQoWrrFQJq5zUVxFbQbLlqHH\n",
        "data = pd.read_csv('/content/petrol_consumption.csv')"
      ],
      "execution_count": null,
      "outputs": [
        {
          "output_type": "stream",
          "name": "stdout",
          "text": [
            "Downloading...\n",
            "From: https://drive.google.com/uc?id=1lHJC6sb3ZQoWrrFQJq5zUVxFbQbLlqHH\n",
            "To: /content/petrol_consumption.csv\n",
            "\r  0% 0.00/1.39k [00:00<?, ?B/s]\r100% 1.39k/1.39k [00:00<00:00, 1.25MB/s]\n"
          ]
        }
      ]
    },
    {
      "cell_type": "code",
      "metadata": {
        "id": "DcNi-NuPgUd9",
        "colab": {
          "base_uri": "https://localhost:8080/",
          "height": 206
        },
        "outputId": "fa28054b-b6c5-45fb-ebe6-e46f078089ea"
      },
      "source": [
        "X = data[['Petrol_tax', 'Average_income', 'Paved_Highways',\n",
        "       'Population_Driver_licence(%)']]\n",
        "Y = data['Petrol_Consumption']\n",
        "\n",
        "data.head()"
      ],
      "execution_count": null,
      "outputs": [
        {
          "output_type": "execute_result",
          "data": {
            "text/html": [
              "<div>\n",
              "<style scoped>\n",
              "    .dataframe tbody tr th:only-of-type {\n",
              "        vertical-align: middle;\n",
              "    }\n",
              "\n",
              "    .dataframe tbody tr th {\n",
              "        vertical-align: top;\n",
              "    }\n",
              "\n",
              "    .dataframe thead th {\n",
              "        text-align: right;\n",
              "    }\n",
              "</style>\n",
              "<table border=\"1\" class=\"dataframe\">\n",
              "  <thead>\n",
              "    <tr style=\"text-align: right;\">\n",
              "      <th></th>\n",
              "      <th>Petrol_tax</th>\n",
              "      <th>Average_income</th>\n",
              "      <th>Paved_Highways</th>\n",
              "      <th>Population_Driver_licence(%)</th>\n",
              "      <th>Petrol_Consumption</th>\n",
              "    </tr>\n",
              "  </thead>\n",
              "  <tbody>\n",
              "    <tr>\n",
              "      <th>0</th>\n",
              "      <td>9.0</td>\n",
              "      <td>3571</td>\n",
              "      <td>1976</td>\n",
              "      <td>0.525</td>\n",
              "      <td>541</td>\n",
              "    </tr>\n",
              "    <tr>\n",
              "      <th>1</th>\n",
              "      <td>9.0</td>\n",
              "      <td>4092</td>\n",
              "      <td>1250</td>\n",
              "      <td>0.572</td>\n",
              "      <td>524</td>\n",
              "    </tr>\n",
              "    <tr>\n",
              "      <th>2</th>\n",
              "      <td>9.0</td>\n",
              "      <td>3865</td>\n",
              "      <td>1586</td>\n",
              "      <td>0.580</td>\n",
              "      <td>561</td>\n",
              "    </tr>\n",
              "    <tr>\n",
              "      <th>3</th>\n",
              "      <td>7.5</td>\n",
              "      <td>4870</td>\n",
              "      <td>2351</td>\n",
              "      <td>0.529</td>\n",
              "      <td>414</td>\n",
              "    </tr>\n",
              "    <tr>\n",
              "      <th>4</th>\n",
              "      <td>8.0</td>\n",
              "      <td>4399</td>\n",
              "      <td>431</td>\n",
              "      <td>0.544</td>\n",
              "      <td>410</td>\n",
              "    </tr>\n",
              "  </tbody>\n",
              "</table>\n",
              "</div>"
            ],
            "text/plain": [
              "   Petrol_tax  Average_income  ...  Population_Driver_licence(%)  Petrol_Consumption\n",
              "0         9.0            3571  ...                         0.525                 541\n",
              "1         9.0            4092  ...                         0.572                 524\n",
              "2         9.0            3865  ...                         0.580                 561\n",
              "3         7.5            4870  ...                         0.529                 414\n",
              "4         8.0            4399  ...                         0.544                 410\n",
              "\n",
              "[5 rows x 5 columns]"
            ]
          },
          "metadata": {},
          "execution_count": 31
        }
      ]
    },
    {
      "cell_type": "markdown",
      "metadata": {
        "id": "YfGInWemhBOf"
      },
      "source": [
        "Splitting the dataset"
      ]
    },
    {
      "cell_type": "code",
      "metadata": {
        "id": "jL3JRICOhDGg"
      },
      "source": [
        "X_train, X_test, Y_train, Y_test = train_test_split(X, Y, test_size=0.2, shuffle=True)"
      ],
      "execution_count": null,
      "outputs": []
    },
    {
      "cell_type": "markdown",
      "metadata": {
        "id": "LP16boephKnG"
      },
      "source": [
        "Training the multiple linear regression model"
      ]
    },
    {
      "cell_type": "code",
      "metadata": {
        "id": "1l8nKkHjhPIS",
        "colab": {
          "base_uri": "https://localhost:8080/"
        },
        "outputId": "8fe0d839-da62-4145-f29f-56e0da89e80d"
      },
      "source": [
        "regressor = LinearRegression()\n",
        "regressor.fit(X_train, Y_train)"
      ],
      "execution_count": null,
      "outputs": [
        {
          "output_type": "execute_result",
          "data": {
            "text/plain": [
              "LinearRegression()"
            ]
          },
          "metadata": {},
          "execution_count": 33
        }
      ]
    },
    {
      "cell_type": "markdown",
      "metadata": {
        "id": "oH9TuCqThbUt"
      },
      "source": [
        "Printing the coeficients"
      ]
    },
    {
      "cell_type": "code",
      "metadata": {
        "id": "SzLYDSOthe8L",
        "colab": {
          "base_uri": "https://localhost:8080/",
          "height": 175
        },
        "outputId": "6c7362a0-8219-47ef-efbd-c23bda2e4513"
      },
      "source": [
        "coeff_df = pd.DataFrame(regressor.coef_, X.columns, columns=['Coefficient'])\n",
        "coeff_df"
      ],
      "execution_count": null,
      "outputs": [
        {
          "output_type": "execute_result",
          "data": {
            "text/html": [
              "<div>\n",
              "<style scoped>\n",
              "    .dataframe tbody tr th:only-of-type {\n",
              "        vertical-align: middle;\n",
              "    }\n",
              "\n",
              "    .dataframe tbody tr th {\n",
              "        vertical-align: top;\n",
              "    }\n",
              "\n",
              "    .dataframe thead th {\n",
              "        text-align: right;\n",
              "    }\n",
              "</style>\n",
              "<table border=\"1\" class=\"dataframe\">\n",
              "  <thead>\n",
              "    <tr style=\"text-align: right;\">\n",
              "      <th></th>\n",
              "      <th>Coefficient</th>\n",
              "    </tr>\n",
              "  </thead>\n",
              "  <tbody>\n",
              "    <tr>\n",
              "      <th>Petrol_tax</th>\n",
              "      <td>-38.235421</td>\n",
              "    </tr>\n",
              "    <tr>\n",
              "      <th>Average_income</th>\n",
              "      <td>-0.062555</td>\n",
              "    </tr>\n",
              "    <tr>\n",
              "      <th>Paved_Highways</th>\n",
              "      <td>-0.001749</td>\n",
              "    </tr>\n",
              "    <tr>\n",
              "      <th>Population_Driver_licence(%)</th>\n",
              "      <td>1160.993607</td>\n",
              "    </tr>\n",
              "  </tbody>\n",
              "</table>\n",
              "</div>"
            ],
            "text/plain": [
              "                              Coefficient\n",
              "Petrol_tax                     -38.235421\n",
              "Average_income                  -0.062555\n",
              "Paved_Highways                  -0.001749\n",
              "Population_Driver_licence(%)  1160.993607"
            ]
          },
          "metadata": {},
          "execution_count": 34
        }
      ]
    },
    {
      "cell_type": "markdown",
      "metadata": {
        "id": "AcXlY53PitSe"
      },
      "source": [
        "This means that for a unit increase in \"petrol_tax\", there is a decrease of 24.19 million gallons in gas consumption. Similarly, a unit increase in proportion of population with a drivers license results in an increase of 1.324 billion gallons of gas consumption. We can see that \"Average_income\" and \"Paved_Highways\" have a very little effect on the gas consumption."
      ]
    },
    {
      "cell_type": "markdown",
      "metadata": {
        "id": "UlRG5lk9iz98"
      },
      "source": [
        "**Making the predictions**"
      ]
    },
    {
      "cell_type": "code",
      "metadata": {
        "id": "cGd2rozli3bn",
        "colab": {
          "base_uri": "https://localhost:8080/",
          "height": 363
        },
        "outputId": "d93069d4-a8bf-4d71-8241-3b2477be55f2"
      },
      "source": [
        "Y_pred = regressor.predict(X_test)\n",
        "df = pd.DataFrame({'Actual': Y_test, 'Predicted': Y_pred})\n",
        "df"
      ],
      "execution_count": null,
      "outputs": [
        {
          "output_type": "execute_result",
          "data": {
            "text/html": [
              "<div>\n",
              "<style scoped>\n",
              "    .dataframe tbody tr th:only-of-type {\n",
              "        vertical-align: middle;\n",
              "    }\n",
              "\n",
              "    .dataframe tbody tr th {\n",
              "        vertical-align: top;\n",
              "    }\n",
              "\n",
              "    .dataframe thead th {\n",
              "        text-align: right;\n",
              "    }\n",
              "</style>\n",
              "<table border=\"1\" class=\"dataframe\">\n",
              "  <thead>\n",
              "    <tr style=\"text-align: right;\">\n",
              "      <th></th>\n",
              "      <th>Actual</th>\n",
              "      <th>Predicted</th>\n",
              "    </tr>\n",
              "  </thead>\n",
              "  <tbody>\n",
              "    <tr>\n",
              "      <th>33</th>\n",
              "      <td>628</td>\n",
              "      <td>606.870001</td>\n",
              "    </tr>\n",
              "    <tr>\n",
              "      <th>0</th>\n",
              "      <td>541</td>\n",
              "      <td>514.340847</td>\n",
              "    </tr>\n",
              "    <tr>\n",
              "      <th>28</th>\n",
              "      <td>574</td>\n",
              "      <td>551.101532</td>\n",
              "    </tr>\n",
              "    <tr>\n",
              "      <th>29</th>\n",
              "      <td>534</td>\n",
              "      <td>470.634344</td>\n",
              "    </tr>\n",
              "    <tr>\n",
              "      <th>47</th>\n",
              "      <td>524</td>\n",
              "      <td>566.565848</td>\n",
              "    </tr>\n",
              "    <tr>\n",
              "      <th>5</th>\n",
              "      <td>457</td>\n",
              "      <td>419.851236</td>\n",
              "    </tr>\n",
              "    <tr>\n",
              "      <th>13</th>\n",
              "      <td>508</td>\n",
              "      <td>566.192100</td>\n",
              "    </tr>\n",
              "    <tr>\n",
              "      <th>39</th>\n",
              "      <td>968</td>\n",
              "      <td>709.685516</td>\n",
              "    </tr>\n",
              "    <tr>\n",
              "      <th>15</th>\n",
              "      <td>635</td>\n",
              "      <td>600.271266</td>\n",
              "    </tr>\n",
              "    <tr>\n",
              "      <th>34</th>\n",
              "      <td>487</td>\n",
              "      <td>508.490942</td>\n",
              "    </tr>\n",
              "  </tbody>\n",
              "</table>\n",
              "</div>"
            ],
            "text/plain": [
              "    Actual   Predicted\n",
              "33     628  606.870001\n",
              "0      541  514.340847\n",
              "28     574  551.101532\n",
              "29     534  470.634344\n",
              "47     524  566.565848\n",
              "5      457  419.851236\n",
              "13     508  566.192100\n",
              "39     968  709.685516\n",
              "15     635  600.271266\n",
              "34     487  508.490942"
            ]
          },
          "metadata": {},
          "execution_count": 35
        }
      ]
    },
    {
      "cell_type": "code",
      "metadata": {
        "id": "UWHkwC8WkmH0"
      },
      "source": [
        ""
      ],
      "execution_count": null,
      "outputs": []
    }
  ]
}