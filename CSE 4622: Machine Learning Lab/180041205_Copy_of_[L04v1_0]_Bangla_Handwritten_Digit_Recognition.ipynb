{
  "nbformat": 4,
  "nbformat_minor": 0,
  "metadata": {
    "colab": {
      "name": "180041205_Copy of [L04v1_0] Bangla Handwritten Digit Recognition.ipynb",
      "provenance": [],
      "collapsed_sections": []
    },
    "kernelspec": {
      "name": "python3",
      "display_name": "Python 3"
    },
    "language_info": {
      "name": "python"
    },
    "accelerator": "GPU"
  },
  "cells": [
    {
      "cell_type": "markdown",
      "source": [
        "#Data Loading"
      ],
      "metadata": {
        "id": "cwfPfGbaA0Ml"
      }
    },
    {
      "cell_type": "code",
      "source": [
        "!wget https://github.com/SaadatChowdhury/BHaND/raw/master/Dataset/bhand.pkl.gz"
      ],
      "metadata": {
        "colab": {
          "base_uri": "https://localhost:8080/"
        },
        "id": "ufEMUlhmBKcx",
        "outputId": "1e129eb0-82d3-4a3f-b768-7d9e74668794"
      },
      "execution_count": null,
      "outputs": [
        {
          "output_type": "stream",
          "name": "stdout",
          "text": [
            "--2022-03-03 09:38:36--  https://github.com/SaadatChowdhury/BHaND/raw/master/Dataset/bhand.pkl.gz\n",
            "Resolving github.com (github.com)... 140.82.113.4\n",
            "Connecting to github.com (github.com)|140.82.113.4|:443... connected.\n",
            "HTTP request sent, awaiting response... 302 Found\n",
            "Location: https://raw.githubusercontent.com/SaadatChowdhury/BHaND/master/Dataset/bhand.pkl.gz [following]\n",
            "--2022-03-03 09:38:37--  https://raw.githubusercontent.com/SaadatChowdhury/BHaND/master/Dataset/bhand.pkl.gz\n",
            "Resolving raw.githubusercontent.com (raw.githubusercontent.com)... 185.199.108.133, 185.199.109.133, 185.199.110.133, ...\n",
            "Connecting to raw.githubusercontent.com (raw.githubusercontent.com)|185.199.108.133|:443... connected.\n",
            "HTTP request sent, awaiting response... 200 OK\n",
            "Length: 56765749 (54M) [application/octet-stream]\n",
            "Saving to: ‘bhand.pkl.gz’\n",
            "\n",
            "bhand.pkl.gz        100%[===================>]  54.14M   206MB/s    in 0.3s    \n",
            "\n",
            "2022-03-03 09:38:37 (206 MB/s) - ‘bhand.pkl.gz’ saved [56765749/56765749]\n",
            "\n"
          ]
        }
      ]
    },
    {
      "cell_type": "code",
      "source": [
        "import gzip\n",
        "import pickle\n",
        "import numpy as np\n",
        "\n",
        "f = gzip.open('/content/bhand.pkl.gz','rb')\n",
        "trainSet,validSet,testSet = pickle.load(f, encoding = 'bytes')\n",
        "f.close()\n"
      ],
      "metadata": {
        "id": "-aC6Se8BBkLL"
      },
      "execution_count": null,
      "outputs": []
    },
    {
      "cell_type": "code",
      "source": [
        "X_train, y_train = trainSet\n",
        "X_val, y_val = validSet\n",
        "X_test, y_test = testSet\n",
        "\n",
        "X_train = np.asarray(X_train)\n",
        "y_train = np.asarray(y_train)\n",
        "\n",
        "X_val = np.asarray(X_val)\n",
        "y_val = np.asarray(y_val)\n",
        "\n",
        "X_test = np.asarray(X_test)\n",
        "y_test = np.asarray(y_test)"
      ],
      "metadata": {
        "id": "mlDRxpa_CMJr"
      },
      "execution_count": null,
      "outputs": []
    },
    {
      "cell_type": "code",
      "source": [
        "\n",
        "len(X_train[0])"
      ],
      "metadata": {
        "colab": {
          "base_uri": "https://localhost:8080/"
        },
        "id": "WMLZbjmqEleN",
        "outputId": "5f63044c-5238-4adc-aeac-0f3a6c2de55b"
      },
      "execution_count": null,
      "outputs": [
        {
          "output_type": "execute_result",
          "data": {
            "text/plain": [
              "1024"
            ]
          },
          "metadata": {},
          "execution_count": 5
        }
      ]
    },
    {
      "cell_type": "code",
      "source": [
        "import matplotlib.pyplot as plt\n",
        "img = np.resize(X_train[0], (32,32))\n",
        "plt.imshow(img, cmap='gray')\n",
        "plt.show()"
      ],
      "metadata": {
        "colab": {
          "base_uri": "https://localhost:8080/",
          "height": 266
        },
        "id": "1ybTy3o9EpGE",
        "outputId": "d6b9be98-acd3-47c3-8777-a55da8672e57"
      },
      "execution_count": null,
      "outputs": [
        {
          "output_type": "display_data",
          "data": {
            "image/png": "[encoded data removed]",
            "text/plain": [
              "<Figure size 432x288 with 1 Axes>"
            ]
          },
          "metadata": {
            "needs_background": "light"
          }
        }
      ]
    },
    {
      "cell_type": "code",
      "source": [
        "y_train[0]"
      ],
      "metadata": {
        "colab": {
          "base_uri": "https://localhost:8080/"
        },
        "id": "bEfASbTwFKzm",
        "outputId": "33acd6fe-1698-4b02-9c1e-6a1c8f1352e8"
      },
      "execution_count": null,
      "outputs": [
        {
          "output_type": "execute_result",
          "data": {
            "text/plain": [
              "6"
            ]
          },
          "metadata": {},
          "execution_count": 7
        }
      ]
    },
    {
      "cell_type": "code",
      "source": [
        "print(len(X_train)+len(X_val)+len(X_test))"
      ],
      "metadata": {
        "colab": {
          "base_uri": "https://localhost:8080/"
        },
        "id": "kK8ItGySFNsX",
        "outputId": "612e9c79-cbe6-4228-eacc-464ec1bf96c2"
      },
      "execution_count": null,
      "outputs": [
        {
          "output_type": "stream",
          "name": "stdout",
          "text": [
            "70000\n"
          ]
        }
      ]
    },
    {
      "cell_type": "code",
      "source": [
        "import seaborn as sns\n",
        "import numpy as np\n",
        "import matplotlib.pyplot as plt\n",
        "from sklearn.model_selection import train_test_split\n",
        "import tensorflow as tf\n",
        "from tensorflow.keras import datasets, layers, models, losses, optimizers\n",
        "from tensorflow.keras.utils import to_categorical"
      ],
      "metadata": {
        "id": "wLokUsD5F6zx"
      },
      "execution_count": null,
      "outputs": []
    },
    {
      "cell_type": "code",
      "source": [
        "sns.countplot(y_train)"
      ],
      "metadata": {
        "colab": {
          "base_uri": "https://localhost:8080/",
          "height": 337
        },
        "id": "5RM6SIXf0N5l",
        "outputId": "f171e016-d507-4e7b-c190-3ee5a87f0388"
      },
      "execution_count": null,
      "outputs": [
        {
          "output_type": "stream",
          "name": "stderr",
          "text": [
            "/usr/local/lib/python3.7/dist-packages/seaborn/_decorators.py:43: FutureWarning: Pass the following variable as a keyword arg: x. From version 0.12, the only valid positional argument will be `data`, and passing other arguments without an explicit keyword will result in an error or misinterpretation.\n",
            "  FutureWarning\n"
          ]
        },
        {
          "output_type": "execute_result",
          "data": {
            "text/plain": [
              "<matplotlib.axes._subplots.AxesSubplot at 0x7f2506f084d0>"
            ]
          },
          "metadata": {},
          "execution_count": 10
        },
        {
          "output_type": "display_data",
          "data": {
            "image/png": "[encoded data removed]",
            "text/plain": [
              "<Figure size 432x288 with 1 Axes>"
            ]
          },
          "metadata": {
            "needs_background": "light"
          }
        }
      ]
    },
    {
      "cell_type": "code",
      "source": [
        "X_train_norm = X_train.astype('float64')/255.\n",
        "X_val_norm = X_val.astype('float64')/255.\n",
        "X_test_norm = X_test.astype('float64')/255."
      ],
      "metadata": {
        "id": "Pj-3r3PK0Xpx"
      },
      "execution_count": null,
      "outputs": []
    },
    {
      "cell_type": "code",
      "source": [
        "X_train_norm = X_train_norm.reshape(50000,32,32,1)\n",
        "X_val_norm = X_val_norm.reshape(10000,32,32,1)\n",
        "X_test_norm = X_test_norm.reshape(10000,32,32,1)\n",
        "y_train_oh = to_categorical(y_train)\n",
        "y_val_oh = to_categorical(y_val)\n",
        "y_test_oh = to_categorical(y_test)"
      ],
      "metadata": {
        "id": "XIaV6FGx00KZ"
      },
      "execution_count": null,
      "outputs": []
    },
    {
      "cell_type": "code",
      "source": [
        "print(y_train[0], y_train_oh[0])"
      ],
      "metadata": {
        "colab": {
          "base_uri": "https://localhost:8080/"
        },
        "id": "vnbc3s_e1EjG",
        "outputId": "7f66ffb0-41ce-4bcb-ce1d-60cf827572be"
      },
      "execution_count": null,
      "outputs": [
        {
          "output_type": "stream",
          "name": "stdout",
          "text": [
            "6 [0. 0. 0. 0. 0. 0. 1. 0. 0. 0.]\n"
          ]
        }
      ]
    },
    {
      "cell_type": "code",
      "source": [
        "model = models.Sequential()\n",
        "model.add(layers.Conv2D(32, (3, 3), padding = 'Same', activation='relu', input_shape=(32, 32, 1)))\n",
        "model.add(layers.Conv2D(64, (3, 3), padding = 'Same', activation='relu'))\n",
        "model.add(layers.BatchNormalization())\n",
        "model.add(layers.MaxPooling2D((2, 2)))\n",
        "model.add(layers.Dropout(0.25))\n",
        "# model.add(layers.Conv2D(64, (3, 3), activation='relu'))\n",
        "# model.add(layers.MaxPooling2D((2, 2)))\n",
        "model.add(layers.Conv2D(64, (3, 3), padding = 'Same', activation='relu'))\n",
        "model.add(layers.Conv2D(64, (3, 3), padding = 'Same', activation='relu'))\n",
        "model.add(layers.MaxPooling2D((2, 2), (2,2)))"
      ],
      "metadata": {
        "id": "Y6_tUf2L1JBn"
      },
      "execution_count": null,
      "outputs": []
    },
    {
      "cell_type": "code",
      "source": [
        "model.add(layers.Flatten())\n",
        "model.add(layers.Dense(256, activation='relu'))\n",
        "model.add(layers.Dropout(0.5))\n",
        "model.add(layers.Dense(10, activation = 'softmax'))\n",
        "model.summary()"
      ],
      "metadata": {
        "id": "fMWlTSAP4B74",
        "colab": {
          "base_uri": "https://localhost:8080/"
        },
        "outputId": "a8ba2ca0-22b2-4b20-a318-d48061a7f228"
      },
      "execution_count": null,
      "outputs": [
        {
          "output_type": "stream",
          "name": "stdout",
          "text": [
            "Model: \"sequential\"\n",
            "_________________________________________________________________\n",
            " Layer (type)                Output Shape              Param #   \n",
            "=================================================================\n",
            " conv2d (Conv2D)             (None, 32, 32, 32)        320       \n",
            "                                                                 \n",
            " conv2d_1 (Conv2D)           (None, 32, 32, 64)        18496     \n",
            "                                                                 \n",
            " batch_normalization (BatchN  (None, 32, 32, 64)       256       \n",
            " ormalization)                                                   \n",
            "                                                                 \n",
            " max_pooling2d (MaxPooling2D  (None, 16, 16, 64)       0         \n",
            " )                                                               \n",
            "                                                                 \n",
            " dropout (Dropout)           (None, 16, 16, 64)        0         \n",
            "                                                                 \n",
            " conv2d_2 (Conv2D)           (None, 16, 16, 64)        36928     \n",
            "                                                                 \n",
            " conv2d_3 (Conv2D)           (None, 16, 16, 64)        36928     \n",
            "                                                                 \n",
            " max_pooling2d_1 (MaxPooling  (None, 8, 8, 64)         0         \n",
            " 2D)                                                             \n",
            "                                                                 \n",
            " flatten (Flatten)           (None, 4096)              0         \n",
            "                                                                 \n",
            " dense (Dense)               (None, 256)               1048832   \n",
            "                                                                 \n",
            " dropout_1 (Dropout)         (None, 256)               0         \n",
            "                                                                 \n",
            " dense_1 (Dense)             (None, 10)                2570      \n",
            "                                                                 \n",
            "=================================================================\n",
            "Total params: 1,144,330\n",
            "Trainable params: 1,144,202\n",
            "Non-trainable params: 128\n",
            "_________________________________________________________________\n"
          ]
        }
      ]
    },
    {
      "cell_type": "code",
      "source": [
        "batch_size = 64\n",
        "epochs = 20\n",
        "num_classes = 10"
      ],
      "metadata": {
        "id": "C67Flh7ODzZ4"
      },
      "execution_count": null,
      "outputs": []
    },
    {
      "cell_type": "code",
      "source": [
        "model.compile(loss=losses.categorical_crossentropy,\n",
        "              optimizer=optimizers.RMSprop(lr=0.001, rho=0.9, epsilon=1e-08, decay=0.0),\n",
        "              metrics=['accuracy'])"
      ],
      "metadata": {
        "colab": {
          "base_uri": "https://localhost:8080/"
        },
        "id": "_jbeC5G4Fht9",
        "outputId": "46cd789c-1d17-4852-d522-ac56eb453d0a"
      },
      "execution_count": null,
      "outputs": [
        {
          "output_type": "stream",
          "name": "stderr",
          "text": [
            "/usr/local/lib/python3.7/dist-packages/keras/optimizer_v2/rmsprop.py:130: UserWarning: The `lr` argument is deprecated, use `learning_rate` instead.\n",
            "  super(RMSprop, self).__init__(name, **kwargs)\n"
          ]
        }
      ]
    },
    {
      "cell_type": "code",
      "source": [
        "learning_rate_reduction = tf.keras.callbacks.ReduceLROnPlateau(monitor='val_accuracy', #quantity to be monitored.\n",
        "                                            patience=3, # number of epochs with no improvement after which learning rate will be reduced.\n",
        "                                            verbose=1, \n",
        "                                            factor=0.5, \n",
        "                                            min_lr=0.00001)"
      ],
      "metadata": {
        "id": "_-eDyaOeFoVp"
      },
      "execution_count": null,
      "outputs": []
    },
    {
      "cell_type": "code",
      "source": [
        "datagen = tf.keras.preprocessing.image.ImageDataGenerator(\n",
        "        featurewise_center=False,  # set input mean to 0 over the dataset\n",
        "        samplewise_center=False,  # set each sample mean to 0\n",
        "        featurewise_std_normalization=False,  # divide inputs by std of the dataset\n",
        "        samplewise_std_normalization=False,  # divide each input by its std\n",
        "        zca_whitening=False,  # apply ZCA whitening\n",
        "        rotation_range=10,  # randomly rotate images in the range (degrees, 0 to 180)\n",
        "        zoom_range = 0.1, # Randomly zoom image \n",
        "        width_shift_range=0.1,  # randomly shift images horizontally (fraction of total width)\n",
        "        height_shift_range=0.1,  # randomly shift images vertically (fraction of total height)\n",
        "        shear_range=10,  # shear angle in counter-clockwise direction in degrees\n",
        "        horizontal_flip=False,  # randomly flip images\n",
        "        vertical_flip=False)  # randomly flip images\n",
        "\n",
        "datagen.fit(X_train_norm)"
      ],
      "metadata": {
        "id": "RhhlNmsJGBBt"
      },
      "execution_count": null,
      "outputs": []
    },
    {
      "cell_type": "code",
      "source": [
        "augmented_training_set = datagen.flow(X_train_norm,y_train_oh, batch_size=86)"
      ],
      "metadata": {
        "id": "fthZeajdHZ4H"
      },
      "execution_count": null,
      "outputs": []
    },
    {
      "cell_type": "code",
      "source": [
        "training_history = model.fit_generator(augmented_training_set,\n",
        "                             epochs=epochs,\n",
        "                             verbose=1,\n",
        "                             validation_data=(X_val_norm, y_val_oh),\n",
        "                             callbacks=[learning_rate_reduction])"
      ],
      "metadata": {
        "colab": {
          "base_uri": "https://localhost:8080/"
        },
        "id": "oia4YyZgHgvr",
        "outputId": "3c92f62f-76f3-4401-ab22-f5ffb65e63a7"
      },
      "execution_count": null,
      "outputs": [
        {
          "output_type": "stream",
          "name": "stdout",
          "text": [
            "Epoch 1/20\n"
          ]
        },
        {
          "output_type": "stream",
          "name": "stderr",
          "text": [
            "/usr/local/lib/python3.7/dist-packages/ipykernel_launcher.py:5: UserWarning: `Model.fit_generator` is deprecated and will be removed in a future version. Please use `Model.fit`, which supports generators.\n",
            "  \"\"\"\n"
          ]
        },
        {
          "output_type": "stream",
          "name": "stdout",
          "text": [
            "582/582 [==============================] - 34s 57ms/step - loss: 0.0813 - accuracy: 0.9785 - val_loss: 13.9715 - val_accuracy: 0.0824 - lr: 0.0010\n",
            "Epoch 2/20\n",
            "582/582 [==============================] - 33s 56ms/step - loss: 0.0784 - accuracy: 0.9795 - val_loss: 1.7294 - val_accuracy: 0.4475 - lr: 0.0010\n",
            "Epoch 3/20\n",
            "582/582 [==============================] - 32s 56ms/step - loss: 0.0820 - accuracy: 0.9786 - val_loss: 1.4539 - val_accuracy: 0.5110 - lr: 0.0010\n",
            "Epoch 4/20\n",
            "582/582 [==============================] - 33s 56ms/step - loss: 0.0827 - accuracy: 0.9787 - val_loss: 0.7374 - val_accuracy: 0.8130 - lr: 0.0010\n",
            "Epoch 5/20\n",
            "582/582 [==============================] - 33s 57ms/step - loss: 0.0870 - accuracy: 0.9772 - val_loss: 51.1080 - val_accuracy: 0.2193 - lr: 0.0010\n",
            "Epoch 6/20\n",
            "582/582 [==============================] - 33s 56ms/step - loss: 0.0863 - accuracy: 0.9780 - val_loss: 164.6790 - val_accuracy: 0.1103 - lr: 0.0010\n",
            "Epoch 7/20\n",
            "582/582 [==============================] - ETA: 0s - loss: 0.0888 - accuracy: 0.9771\n",
            "Epoch 7: ReduceLROnPlateau reducing learning rate to 0.0005000000237487257.\n",
            "582/582 [==============================] - 34s 58ms/step - loss: 0.0888 - accuracy: 0.9771 - val_loss: 15.1490 - val_accuracy: 0.5701 - lr: 0.0010\n",
            "Epoch 8/20\n",
            "582/582 [==============================] - 34s 58ms/step - loss: 0.0658 - accuracy: 0.9835 - val_loss: 0.6719 - val_accuracy: 0.9041 - lr: 5.0000e-04\n",
            "Epoch 9/20\n",
            "582/582 [==============================] - 34s 58ms/step - loss: 0.0686 - accuracy: 0.9826 - val_loss: 1.1125 - val_accuracy: 0.6658 - lr: 5.0000e-04\n",
            "Epoch 10/20\n",
            "582/582 [==============================] - 34s 58ms/step - loss: 0.0685 - accuracy: 0.9827 - val_loss: 141.9169 - val_accuracy: 0.1333 - lr: 5.0000e-04\n",
            "Epoch 11/20\n",
            "582/582 [==============================] - ETA: 0s - loss: 0.0685 - accuracy: 0.9823\n",
            "Epoch 11: ReduceLROnPlateau reducing learning rate to 0.0002500000118743628.\n",
            "582/582 [==============================] - 34s 58ms/step - loss: 0.0685 - accuracy: 0.9823 - val_loss: 1237.7848 - val_accuracy: 0.1027 - lr: 5.0000e-04\n",
            "Epoch 12/20\n",
            "582/582 [==============================] - 33s 57ms/step - loss: 0.0581 - accuracy: 0.9850 - val_loss: 0.1274 - val_accuracy: 0.9605 - lr: 2.5000e-04\n",
            "Epoch 13/20\n",
            "582/582 [==============================] - 33s 57ms/step - loss: 0.0570 - accuracy: 0.9854 - val_loss: 10.8479 - val_accuracy: 0.5443 - lr: 2.5000e-04\n",
            "Epoch 14/20\n",
            "582/582 [==============================] - 34s 58ms/step - loss: 0.0597 - accuracy: 0.9844 - val_loss: 642.1021 - val_accuracy: 0.1036 - lr: 2.5000e-04\n",
            "Epoch 15/20\n",
            "582/582 [==============================] - 33s 57ms/step - loss: 0.0598 - accuracy: 0.9843 - val_loss: 0.1210 - val_accuracy: 0.9743 - lr: 2.5000e-04\n",
            "Epoch 16/20\n",
            "582/582 [==============================] - 33s 57ms/step - loss: 0.0604 - accuracy: 0.9842 - val_loss: 39.0987 - val_accuracy: 0.3053 - lr: 2.5000e-04\n",
            "Epoch 17/20\n",
            "582/582 [==============================] - 33s 56ms/step - loss: 0.0627 - accuracy: 0.9843 - val_loss: 9.4542 - val_accuracy: 0.6313 - lr: 2.5000e-04\n",
            "Epoch 18/20\n",
            "582/582 [==============================] - ETA: 0s - loss: 0.0586 - accuracy: 0.9849\n",
            "Epoch 18: ReduceLROnPlateau reducing learning rate to 0.0001250000059371814.\n",
            "582/582 [==============================] - 33s 57ms/step - loss: 0.0586 - accuracy: 0.9849 - val_loss: 33.3508 - val_accuracy: 0.4148 - lr: 2.5000e-04\n",
            "Epoch 19/20\n",
            "582/582 [==============================] - 33s 57ms/step - loss: 0.0554 - accuracy: 0.9857 - val_loss: 0.1901 - val_accuracy: 0.9490 - lr: 1.2500e-04\n",
            "Epoch 20/20\n",
            "582/582 [==============================] - 33s 56ms/step - loss: 0.0530 - accuracy: 0.9861 - val_loss: 0.0327 - val_accuracy: 0.9925 - lr: 1.2500e-04\n"
          ]
        }
      ]
    },
    {
      "cell_type": "code",
      "source": [
        "test_eval = model.evaluate(X_test_norm, y_test_oh, verbose=0)\n",
        "print('Test loss:', test_eval[0])\n",
        "print('Test accuracy:', test_eval[1])"
      ],
      "metadata": {
        "colab": {
          "base_uri": "https://localhost:8080/"
        },
        "id": "7CvoLsFuI9qa",
        "outputId": "d75da159-08ea-4a3b-f543-abfd0333833e"
      },
      "execution_count": null,
      "outputs": [
        {
          "output_type": "stream",
          "name": "stdout",
          "text": [
            "Test loss: 0.035626817494630814\n",
            "Test accuracy: 0.992900013923645\n"
          ]
        }
      ]
    },
    {
      "cell_type": "code",
      "source": [
        "accuracy = training_history.history['accuracy']\n",
        "val_accuracy = training_history.history['val_accuracy']\n",
        "loss = training_history.history['loss']\n",
        "val_loss = training_history.history['val_loss']\n",
        "epoch = range(len(accuracy))\n",
        "plt.plot(epoch, accuracy, label='Training accuracy')\n",
        "plt.plot(epoch, val_accuracy, label='Validation accuracy')\n",
        "plt.title('Training and validation accuracy')\n",
        "plt.legend()\n",
        "plt.figure()\n",
        "plt.plot(epoch, loss, label='Training loss')\n",
        "plt.plot(epoch, val_loss, label='Validation loss')\n",
        "plt.title('Training and validation loss')\n",
        "plt.legend()\n",
        "plt.show()"
      ],
      "metadata": {
        "colab": {
          "base_uri": "https://localhost:8080/",
          "height": 545
        },
        "id": "efzhfpJuRGjE",
        "outputId": "969509b4-63b3-4af2-8ef3-60675887062b"
      },
      "execution_count": null,
      "outputs": [
        {
          "output_type": "display_data",
          "data": {
            "image/png": "[encoded data removed]",
            "text/plain": [
              "<Figure size 432x288 with 1 Axes>"
            ]
          },
          "metadata": {
            "needs_background": "light"
          }
        },
        {
          "output_type": "display_data",
          "data": {
            "image/png": "[encoded data removed]",
            "text/plain": [
              "<Figure size 432x288 with 1 Axes>"
            ]
          },
          "metadata": {
            "needs_background": "light"
          }
        }
      ]
    },
    {
      "cell_type": "code",
      "source": [
        "predicted_classes = model.predict(X_test_norm)"
      ],
      "metadata": {
        "id": "rTclnI6JKtrA"
      },
      "execution_count": null,
      "outputs": []
    },
    {
      "cell_type": "code",
      "source": [
        "predicted_classes = np.argmax(np.round(predicted_classes),axis=1)"
      ],
      "metadata": {
        "id": "m1IGNbCUQ_oc"
      },
      "execution_count": null,
      "outputs": []
    },
    {
      "cell_type": "code",
      "source": [
        "correct = np.where(predicted_classes==y_test)[0]\n",
        "print(f'correct labels - {len(correct)}')\n",
        "for i, correct in enumerate(correct[:9]):\n",
        "    plt.subplot(3,3,i+1)\n",
        "    plt.imshow(X_test[correct].reshape(32,32), cmap='gray', interpolation='none')\n",
        "    plt.title(\"Predicted {}, Class {}\".format(predicted_classes[correct], y_test[correct]))\n",
        "    plt.tight_layout()"
      ],
      "metadata": {
        "colab": {
          "base_uri": "https://localhost:8080/",
          "height": 314
        },
        "id": "pQlCo1_EQ50a",
        "outputId": "da0472df-82dd-4d67-cd29-9eeeb766539f"
      },
      "execution_count": null,
      "outputs": [
        {
          "output_type": "stream",
          "name": "stdout",
          "text": [
            "correct labels - 9887\n"
          ]
        },
        {
          "output_type": "display_data",
          "data": {
            "image/png": "[encoded data removed]",
            "text/plain": [
              "<Figure size 432x288 with 9 Axes>"
            ]
          },
          "metadata": {
            "needs_background": "light"
          }
        }
      ]
    },
    {
      "cell_type": "code",
      "source": [
        "correct = np.where(predicted_classes==y_test)[0]\n",
        "print(f'Misclassified labels - {(y_test.shape[0]) - len(correct)}')\n",
        "cnt = 0\n",
        "for i in range (0,len(y_test)):\n",
        "  if(predicted_classes[i]!=y_test[i]):\n",
        "    \n",
        "    plt.subplot(3,3,cnt+1)\n",
        "    plt.imshow(X_test[i].reshape(32,32), cmap='gray', interpolation='none')\n",
        "    plt.title(\"Predicted {}, Class {}\".format(predicted_classes[i], y_test[i]))\n",
        "    plt.tight_layout()\n",
        "    cnt+=1\n",
        "    if(cnt==9):\n",
        "      break"
      ],
      "metadata": {
        "colab": {
          "base_uri": "https://localhost:8080/",
          "height": 314
        },
        "id": "YkL1SK_iQOOm",
        "outputId": "57d7b9b0-b608-41f9-a8f1-56da58cbf9df"
      },
      "execution_count": null,
      "outputs": [
        {
          "output_type": "stream",
          "name": "stdout",
          "text": [
            "Misclassified labels - 113\n"
          ]
        },
        {
          "output_type": "display_data",
          "data": {
            "image/png": "[encoded data removed]",
            "text/plain": [
              "<Figure size 432x288 with 9 Axes>"
            ]
          },
          "metadata": {
            "needs_background": "light"
          }
        }
      ]
    },
    {
      "cell_type": "code",
      "source": [
        ""
      ],
      "metadata": {
        "id": "ySfLjaTXQrgk"
      },
      "execution_count": null,
      "outputs": []
    }
  ]
}