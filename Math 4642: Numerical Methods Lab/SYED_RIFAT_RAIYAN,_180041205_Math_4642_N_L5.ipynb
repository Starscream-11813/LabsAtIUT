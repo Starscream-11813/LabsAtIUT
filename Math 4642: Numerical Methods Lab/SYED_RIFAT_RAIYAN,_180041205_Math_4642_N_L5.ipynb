{
  "nbformat": 4,
  "nbformat_minor": 0,
  "metadata": {
    "colab": {
      "name": "SYED RIFAT RAIYAN, 180041205 - Math_4642_N_L5.ipynb",
      "provenance": [],
      "collapsed_sections": []
    },
    "kernelspec": {
      "name": "python3",
      "display_name": "Python 3"
    },
    "language_info": {
      "name": "python"
    }
  },
  "cells": [
    {
      "cell_type": "markdown",
      "source": [
        "# **Lab 4 : Integration**<br>\n",
        "\n",
        "Integration is the process of measuring the area under a function. This area actually corresponds to the anti-derivative of the function. For instance, a velocity function $v(t)$ can be obtained as a derivative of a distance function $S(t)$. Inversely, the integration of the velocity function $v(t)$ over a certain time period can give us the distance traveled over that time period. Performing integration analytically is a complex procedure, involving a lot of rules. Computers and calculators perform integration using some sort of numerical method, one of which is the **Simpson's 1/3 rule**.\n",
        "\n",
        "In today's lab, we will be implementing the **Simpson's 1/3 rule** of integration in python. The **Simpson's 1/3 rule** uses a minimum of 2 segments to divide the entire range of the interval of integration, but we can also define a multiple-segment version of this rule that divides the interval into n equal segments, where n is an even number. Suppose we wish to use the 4-segment Simpson's 1/3 rule to find the distance covered by a rocket from time $t = 8$ to $t = 30$. The velocity function of the rocket is given as $v(t) = 2000ln[ \\frac{140000}{140000-2100t} ] - 9.8t)dt$\n"
      ],
      "metadata": {
        "id": "Dex_lDl5gUKB"
      }
    },
    {
      "cell_type": "code",
      "source": [
        "import numpy as np\n",
        "import matplotlib.pyplot as plt"
      ],
      "metadata": {
        "id": "6hbCWVraUktY"
      },
      "execution_count": null,
      "outputs": []
    },
    {
      "cell_type": "markdown",
      "source": [
        "##Task 1\n",
        "Implement a function that takes time as an argument and returns the velocity based on the given velocity function. Then, complete the following MultiSimpson13() function that takes number of segments n and the time interval (tmin, tmax) as arguments and returns the distance covered within this interval. Your function should also check for the validity of the number of segments."
      ],
      "metadata": {
        "id": "_XU-vXFFzj4T"
      }
    },
    {
      "cell_type": "code",
      "source": [
        "def velocity(t):\n",
        "    return 2000*np.log((140000/(140000 - 2100*t))) - 9.8*t\n",
        "\n",
        "\n",
        "def MultiSimpson13(n, tmin, tmax):\n",
        "    h = (tmax - tmin)/n\n",
        "    res = velocity(tmin) + velocity(tmax)\n",
        "    for i in range(1, n):\n",
        "        if(i & 1):\n",
        "            res += 4*velocity(tmin + i*h)\n",
        "        else:\n",
        "            res += 2*velocity(tmin + i*h)\n",
        "    return (h/3)*res"
      ],
      "metadata": {
        "id": "xv0ziIB60ET8"
      },
      "execution_count": null,
      "outputs": []
    },
    {
      "cell_type": "code",
      "source": [
        "print(MultiSimpson13(4, 8, 30))"
      ],
      "metadata": {
        "colab": {
          "base_uri": "https://localhost:8080/"
        },
        "id": "httYF2GOWF8o",
        "outputId": "daf6b536-d0aa-4e62-8249-41bdf9679917"
      },
      "execution_count": null,
      "outputs": [
        {
          "output_type": "stream",
          "name": "stdout",
          "text": [
            "11061.636137405923\n"
          ]
        }
      ]
    },
    {
      "cell_type": "markdown",
      "source": [
        "##Task 2\n",
        "Use your previously implemented MultiSimpson13() function and use increasing number of segments, starting from 2 to 10 and show the relative approximate error at each step. Plot a graph showing the relative approx error vs number of segments. "
      ],
      "metadata": {
        "id": "GzKLR0nkj32g"
      }
    },
    {
      "cell_type": "code",
      "source": [
        "def relative_approx_error(newVal, oldVal):\n",
        "    return (abs(newVal - oldVal)/newVal)*100\n",
        "\n",
        "errors = []\n",
        "distances = []\n",
        "segList = []\n",
        "for segments in range(2, 11, 2):\n",
        "    if segments > 2:\n",
        "        segList.append(segments)\n",
        "    temp = MultiSimpson13(segments, 8, 30)\n",
        "    distances.append(temp)\n",
        "    print(f'Using {segments} segment Simpson\\'s 1/3 rule, distance = {temp}')\n",
        "    if segments > 2:\n",
        "        errors.append(relative_approx_error(distances[-1], distances[-2]))"
      ],
      "metadata": {
        "id": "2m1trUT_k5pi",
        "colab": {
          "base_uri": "https://localhost:8080/"
        },
        "outputId": "1035eb38-4359-4c87-c7c8-63109ec60218"
      },
      "execution_count": null,
      "outputs": [
        {
          "output_type": "stream",
          "name": "stdout",
          "text": [
            "Using 2 segment Simpson's 1/3 rule, distance = 11065.716327732165\n",
            "Using 4 segment Simpson's 1/3 rule, distance = 11061.636137405923\n",
            "Using 6 segment Simpson's 1/3 rule, distance = 11061.39610401265\n",
            "Using 8 segment Simpson's 1/3 rule, distance = 11061.354838090307\n",
            "Using 10 segment Simpson's 1/3 rule, distance = 11061.3434684075\n"
          ]
        }
      ]
    },
    {
      "cell_type": "code",
      "source": [
        "plt.plot(segList, errors)\n",
        "print(segList, errors)\n",
        "plt.title(\"Relative Approximate Errors vs Segments plot\")\n",
        "plt.xlabel(\"Segments\")\n",
        "plt.ylabel(\"Relative Approximate Errors\")\n",
        "plt.show()"
      ],
      "metadata": {
        "colab": {
          "base_uri": "https://localhost:8080/",
          "height": 312
        },
        "id": "O_CsZi3TYmFA",
        "outputId": "62c6ae05-9336-4279-f4c7-85f9a24d365c"
      },
      "execution_count": null,
      "outputs": [
        {
          "output_type": "stream",
          "name": "stdout",
          "text": [
            "[4, 6, 8, 10] [0.036885956792994286, 0.0021700099247485547, 0.000373063905352544, 0.00010278753967897225]\n"
          ]
        },
        {
          "output_type": "display_data",
          "data": {
            "image/png": "[encoded data removed]",
            "text/plain": [
              "<Figure size 432x288 with 1 Axes>"
            ]
          },
          "metadata": {
            "needs_background": "light"
          }
        }
      ]
    },
    {
      "cell_type": "code",
      "source": [
        ""
      ],
      "metadata": {
        "id": "3Ly4wrH8ZWzQ"
      },
      "execution_count": null,
      "outputs": []
    }
  ]
}