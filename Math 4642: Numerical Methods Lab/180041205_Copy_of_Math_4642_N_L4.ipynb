{
  "nbformat": 4,
  "nbformat_minor": 0,
  "metadata": {
    "colab": {
      "name": "180041205_Copy of Math_4642_N_L4.ipynb",
      "provenance": [],
      "collapsed_sections": []
    },
    "kernelspec": {
      "name": "python3",
      "display_name": "Python 3"
    },
    "language_info": {
      "name": "python"
    }
  },
  "cells": [
    {
      "cell_type": "markdown",
      "source": [
        "# **Lab 4 : Linear Regression**<br>\n",
        "\n",
        "Regression is the process of estimating a model that produces the best fit for the given data. **Linear Regression** is the simplest and most popular among them. A linear regression model is given by y = a<sub>0</sub> + a<sub>1</sub>x, where a<sub>0</sub> and a<sub>1</sub> are the parameters of the regression model. The values of these two parameters should be such that the produced result of (a<sub>0</sub> + a<sub>1</sub>x) should have the least deviation from the actual result. In order to measure how well our model fits the data or whether it deviates from the actual result, we use the least square criterion.\n",
        "\n",
        "In today's lab, we will be implementing the Linear Regression in python. Note that there might be built-in functions for linear regression in python, but the purpose of this lab is to understand how linear regression actually works, and hence those built-in functions are not allowed. To test our implementation, we will be using the same data that is available in the first example of our class lecture pdf. That way, you can check whether your implementation is working correctly by comparing with the results obtained in that example. Run the following cell to load the known data points:\n"
      ],
      "metadata": {
        "id": "Dex_lDl5gUKB"
      }
    },
    {
      "cell_type": "code",
      "source": [
        "theta = [0.698132, 0.959931, 1.134464, 1.570796, 1.919862]\n",
        "torque = [0.18824, 0.209138, 0.230052, 0.250965, 0.313707]"
      ],
      "metadata": {
        "id": "_QpvT2CYjART"
      },
      "execution_count": null,
      "outputs": []
    },
    {
      "cell_type": "markdown",
      "source": [
        "##Task 1\n",
        "Assuming that the linear regression model for the given data is defined as Torque = a<sub>0</sub> + a<sub>1</sub>*Theta, write a function that takes the given data as input and returns the regression parameters a<sub>0</sub> and a<sub>1</sub>."
      ],
      "metadata": {
        "id": "_XU-vXFFzj4T"
      }
    },
    {
      "cell_type": "code",
      "source": [
        "import numpy as np\n",
        "import matplotlib.pyplot as plt\n",
        "import random"
      ],
      "metadata": {
        "id": "SHym16KqIoXg"
      },
      "execution_count": null,
      "outputs": []
    },
    {
      "cell_type": "code",
      "source": [
        "def LinearRegression(theta, torque):\n",
        "    n = len(theta)\n",
        "    theta = np.asarray(theta)\n",
        "    torque = np.asarray(torque)\n",
        "    Sxx = np.sum(theta**2) - n*(np.mean(theta)**2)\n",
        "    Sxy = np.sum(theta*torque) - n*np.mean(theta)*np.mean(torque)\n",
        "\n",
        "    a1 = Sxy/Sxx\n",
        "    a0 = np.mean(torque) - a1*np.mean(theta)\n",
        "\n",
        "    return a0, a1"
      ],
      "metadata": {
        "id": "xv0ziIB60ET8"
      },
      "execution_count": null,
      "outputs": []
    },
    {
      "cell_type": "code",
      "source": [
        "a0, a1 = LinearRegression(theta, torque)\n",
        "print(f'a0 = {a0} Nm, a1 = {a1} Nm/rad')"
      ],
      "metadata": {
        "colab": {
          "base_uri": "https://localhost:8080/"
        },
        "id": "cQxEwWbOI0oB",
        "outputId": "0a54dc14-c0de-4e0e-9793-2094c77e7fa3"
      },
      "execution_count": null,
      "outputs": [
        {
          "output_type": "stream",
          "name": "stdout",
          "text": [
            "a0 = 0.11768012662481919 Nm, a1 = 0.09608206138700422 Nm/rad\n"
          ]
        }
      ]
    },
    {
      "cell_type": "markdown",
      "source": [
        "##Task 2\n",
        "Write another function that takes any arbitrary value as input and applies the regression model to generate the output. "
      ],
      "metadata": {
        "id": "GzKLR0nkj32g"
      }
    },
    {
      "cell_type": "code",
      "source": [
        "def calculate(x):\n",
        "    a0, a1 = LinearRegression(theta, torque)\n",
        "    return a0 + x*a1"
      ],
      "metadata": {
        "id": "2m1trUT_k5pi"
      },
      "execution_count": null,
      "outputs": []
    },
    {
      "cell_type": "code",
      "source": [
        "x = random.uniform(np.min(theta), np.max(theta))\n",
        "print(f'theta = {x} radians, torque = {calculate(x)} Nm')"
      ],
      "metadata": {
        "colab": {
          "base_uri": "https://localhost:8080/"
        },
        "id": "U2kBsEseJ9zu",
        "outputId": "ee3f96bd-7797-4164-9eaa-cb2c77fa2e0b"
      },
      "execution_count": null,
      "outputs": [
        {
          "output_type": "stream",
          "name": "stdout",
          "text": [
            "theta = 1.4448496203981256 radians, torque = 0.2565042565469017 Nm\n"
          ]
        }
      ]
    },
    {
      "cell_type": "markdown",
      "source": [
        "##Task 3\n",
        "Use the calculate function in a loop to generate a plot of the regression curve. Show the original data points (theta, torque) on the same plot using stem function. Use different colors for the regression curve and the original data points and show a legend. For this task, you are allowed to use various libraries such as matplotlib."
      ],
      "metadata": {
        "id": "HhsqLMYYpD8S"
      }
    },
    {
      "cell_type": "code",
      "source": [
        "x_line = np.linspace(np.min(theta) - 0.01, np.max(theta) + 0.01, 100)\n",
        "y_line = calculate(x_line)\n",
        "\n",
        "plt.figure(figsize=(10, 6), dpi=80)\n",
        "plt.title('Graph of T = a0 + θ*a1')\n",
        "plt.xlabel('Angle θ', color='#1C2833')\n",
        "plt.ylabel('Torque T', color='#1C2833')\n",
        "plt.plot(theta, torque, 'X', color = 'orange', label = 'Data points')\n",
        "plt.plot(x_line, y_line, '-',  label = 'Best fit Regression line', color = 'royalblue')\n",
        "# plt.stem(theta, torque, use_line_collection = True)\n",
        "for i in range(len(theta)):\n",
        "    if i==0:\n",
        "        plt.plot((theta[i], theta[i]), (torque[i], calculate(theta[i])), '--', color = 'magenta', label = 'Errors')\n",
        "    else:\n",
        "        plt.plot((theta[i], theta[i]), (torque[i], calculate(theta[i])), '--', color = 'magenta')\n",
        "plt.legend(loc='best')\n",
        "plt.grid()\n",
        "plt.show()"
      ],
      "metadata": {
        "id": "ShRMjjHSm-dq",
        "colab": {
          "base_uri": "https://localhost:8080/",
          "height": 444
        },
        "outputId": "8c861034-bb38-4ee0-c24e-843a1e47afa8"
      },
      "execution_count": null,
      "outputs": [
        {
          "output_type": "display_data",
          "data": {
            "image/png": "[encoded data removed]",
            "text/plain": [
              "<Figure size 800x480 with 1 Axes>"
            ]
          },
          "metadata": {
            "needs_background": "light"
          }
        }
      ]
    },
    {
      "cell_type": "code",
      "source": [
        ""
      ],
      "metadata": {
        "id": "RrEee6AqNQ1B"
      },
      "execution_count": null,
      "outputs": []
    }
  ]
}