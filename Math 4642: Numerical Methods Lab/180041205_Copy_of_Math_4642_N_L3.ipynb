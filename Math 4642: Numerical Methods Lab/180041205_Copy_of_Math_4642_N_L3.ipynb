{
  "nbformat": 4,
  "nbformat_minor": 0,
  "metadata": {
    "colab": {
      "name": "180041205_Copy of Math_4642_N_L3.ipynb",
      "provenance": [],
      "collapsed_sections": []
    },
    "kernelspec": {
      "name": "python3",
      "display_name": "Python 3"
    },
    "language_info": {
      "name": "python"
    }
  },
  "cells": [
    {
      "cell_type": "markdown",
      "source": [
        "# **Lab 3 : Newton's Divided Difference Interpolation**<br>\n",
        "\n",
        "Interpolation is the process of estimating unknown data that lies within the range of some known data. The **Newton's Divided Difference Interpolation** is one of the methods of performing this task. In order to interpolate unknown data, one needs to define a model that would fit the known data and based on that model, one would obtain the unknown data. This model would basically be function that tries to satisfy the known data points. There can be various types of functions that may satisfy the same given data points, but for interpolation, we usually choose **polynomials** as interpolating functions due to the fact that polynomials are very to evaluate, differentiate and integrate.\n",
        "\n",
        "In today's lab, we will be implementing the Newton's Divided Difference Interpolation in python. To test our implementation, we will be using the same data that we used during our class lectures. Run the following cell to load the known data points:\n"
      ],
      "metadata": {
        "id": "Dex_lDl5gUKB"
      }
    },
    {
      "cell_type": "code",
      "source": [
        "t = [0, 10, 15, 20, 22.5, 30]\n",
        "v = [0, 227.04, 362.78, 517.35, 602.97, 901.67]"
      ],
      "metadata": {
        "id": "_QpvT2CYjART"
      },
      "execution_count": null,
      "outputs": []
    },
    {
      "cell_type": "markdown",
      "source": [
        "##Task 1\n",
        "Design a utility function that will be called in the Newton's Divided Difference function. The purpose of this function will be to find the n+1 closest points to the unknown value t_new where we want to interpolate the data, where n is the order of the iterpolating polynomial. The function to be implemented is as follows:"
      ],
      "metadata": {
        "id": "_XU-vXFFzj4T"
      }
    },
    {
      "cell_type": "code",
      "source": [
        "def NearestPoints(t, v, n, t_new):\n",
        "    absSet=[]\n",
        "    for i in range(len(t)):\n",
        "        absSet.append([abs(t_new-t[i]),t[i],v[i]])\n",
        "    absSet=sorted(absSet)\n",
        "    #print(absSet)\n",
        "    tN=[]\n",
        "    vN=[]\n",
        "    for i in range(n+1):\n",
        "        tN.append(absSet[i][1])\n",
        "        vN.append(absSet[i][2])\n",
        "    return tN, vN\n",
        "\n",
        "  "
      ],
      "metadata": {
        "id": "xv0ziIB60ET8"
      },
      "execution_count": null,
      "outputs": []
    },
    {
      "cell_type": "markdown",
      "source": [
        "The above function is supposed to return two vectors, say t_nearest and v_nearest consisting of n+1 elements each. For testing the working of the function, we can print the data and see what we are getting. Run the following cell to check this:"
      ],
      "metadata": {
        "id": "LHxyRNGa0RDb"
      }
    },
    {
      "cell_type": "code",
      "source": [
        "n = 2\n",
        "t_new = 16\n",
        "\n",
        "t_nearest, v_nearest = NearestPoints(t, v, n, t_new)\n",
        "print(t_nearest)\n",
        "print(v_nearest)"
      ],
      "metadata": {
        "id": "Ls-vZyV50zgq",
        "colab": {
          "base_uri": "https://localhost:8080/"
        },
        "outputId": "aee324e1-8103-42bd-be3b-2c3cf3212c98"
      },
      "execution_count": null,
      "outputs": [
        {
          "output_type": "stream",
          "name": "stdout",
          "text": [
            "[15, 20, 10]\n",
            "[362.78, 517.35, 227.04]\n"
          ]
        }
      ]
    },
    {
      "cell_type": "markdown",
      "source": [
        "##Task 2\n",
        "Now your task is to design a generalized function that takes the given data as parameters as well as the order (n) of the polynomial and uses the Newton's Divided Difference Polynomial to interpolate the uknown data at t_new. The following cell contains the function to be implemented:"
      ],
      "metadata": {
        "id": "GzKLR0nkj32g"
      }
    },
    {
      "cell_type": "code",
      "source": [
        "def product_portion(i, t_new, t):\n",
        "    prod=1\n",
        "    for j in range(i):\n",
        "        prod*=(t_new-t[j])\n",
        "    return prod\n",
        "\n",
        "def precalc_differences(t, V, n):\n",
        "    for i in range(1,n+1):\n",
        "        for j in range(n+1-i):\n",
        "            V[j,i]=(V[j,i-1]-V[j+1,i-1])/(t[j]-t[i+j])\n",
        "    return V\n",
        "\n",
        "def NDD(t, V, n, t_new):\n",
        "    res=V[0,0]\n",
        "    for i in range(n+1):\n",
        "        res+=(product_portion(i,t_new,t)*V[0,i])\n",
        "    return res"
      ],
      "metadata": {
        "id": "2m1trUT_k5pi"
      },
      "execution_count": null,
      "outputs": []
    },
    {
      "cell_type": "markdown",
      "source": [
        "Note that the above function will at first needs to find a number of closest points to the unknown data (t_new), and this number will vary depending on the order (n) of the polynomial that we want to use as the interpolating function. So you will have to call the function you implemented in Task 1 inside this function."
      ],
      "metadata": {
        "id": "vcJ2VMvplfpw"
      }
    },
    {
      "cell_type": "markdown",
      "source": [
        "##Task 3\n",
        "Now, test the function using different order of polynomials, setting n = 1, 2 and 3 and print the absolute relative approximate error at each step."
      ],
      "metadata": {
        "id": "HhsqLMYYpD8S"
      }
    },
    {
      "cell_type": "code",
      "source": [
        "#Write your code here for finding the relative approximate errors for different orders of the polynomial\n",
        "import numpy as np\n",
        "\n",
        "n=6-1\n",
        "t_new=16\n",
        "t_N, v_N = NearestPoints(t, v, n, t_new)\n",
        "t_N=sorted(t_N)\n",
        "v_N=sorted(v_N)\n",
        "print(t_N, v_N)\n",
        "\n",
        "V=np.zeros((10,10))\n",
        "for i in range(len(v)):\n",
        "    V[i,0]=v[i]\n",
        "\n",
        "V=precalc_differences(t,V,n)\n",
        "#print(V)\n",
        "print(NDD(t,V,n,t_new))\n"
      ],
      "metadata": {
        "id": "ShRMjjHSm-dq",
        "colab": {
          "base_uri": "https://localhost:8080/"
        },
        "outputId": "d8817a1a-85d5-4109-977f-4ecb6e8a7e78"
      },
      "execution_count": null,
      "outputs": [
        {
          "output_type": "stream",
          "name": "stdout",
          "text": [
            "[0, 10, 15, 20, 22.5, 30] [0, 227.04, 362.78, 517.35, 602.97, 901.67]\n",
            "392.0705789155556\n"
          ]
        }
      ]
    },
    {
      "cell_type": "code",
      "source": [
        "interpols=[]\n",
        "errors=[]\n",
        "for i in range(2,6):\n",
        "    interpols.append(NDD(t,V,i,t_new))\n",
        "print(interpols)\n",
        "for i in range(1,len(interpols)):\n",
        "    errors.append((abs(interpols[i]-interpols[i-1])/interpols[i])*100)\n",
        "\n",
        "print(errors)\n",
        "plt.plot(errors)"
      ],
      "metadata": {
        "colab": {
          "base_uri": "https://localhost:8080/",
          "height": 320
        },
        "id": "Ijp8XMm6IRYk",
        "outputId": "bd4e68c7-e3aa-4fd6-daf6-952edbc08ec0"
      },
      "execution_count": null,
      "outputs": [
        {
          "output_type": "stream",
          "name": "stdout",
          "text": [
            "[391.7056, 392.0912, 392.0669994666667, 392.0705789155556]\n",
            "[0.09834446679752333, 0.006172550448328586, 0.0009129603396409271]\n"
          ]
        },
        {
          "output_type": "execute_result",
          "data": {
            "text/plain": [
              "[<matplotlib.lines.Line2D at 0x7fec50866690>]"
            ]
          },
          "metadata": {},
          "execution_count": 80
        },
        {
          "output_type": "display_data",
          "data": {
            "image/png": "[encoded data removed]",
            "text/plain": [
              "<Figure size 432x288 with 1 Axes>"
            ]
          },
          "metadata": {
            "needs_background": "light"
          }
        }
      ]
    },
    {
      "cell_type": "code",
      "source": [
        "import matplotlib.pyplot as plt\n",
        "TN=np.linspace(0,50,20)\n",
        "VN=[NDD(t,V,n) for i in TN]\n",
        "\n",
        "plt.plot(t,v,'o',TN,VN)\n",
        "plt.show()"
      ],
      "metadata": {
        "colab": {
          "base_uri": "https://localhost:8080/",
          "height": 264
        },
        "id": "fa7p0LvA_vG8",
        "outputId": "7f4e83f2-3b01-421a-ad26-871776de1b73"
      },
      "execution_count": null,
      "outputs": [
        {
          "output_type": "display_data",
          "data": {
            "image/png": "[encoded data removed]",
            "text/plain": [
              "<Figure size 432x288 with 1 Axes>"
            ]
          },
          "metadata": {
            "needs_background": "light"
          }
        }
      ]
    },
    {
      "cell_type": "code",
      "source": [
        ""
      ],
      "metadata": {
        "id": "xDKyoNqvE2ZM"
      },
      "execution_count": null,
      "outputs": []
    }
  ]
}