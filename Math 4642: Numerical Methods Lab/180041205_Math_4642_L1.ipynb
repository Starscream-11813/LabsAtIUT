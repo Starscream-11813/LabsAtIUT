{
  "nbformat": 4,
  "nbformat_minor": 0,
  "metadata": {
    "colab": {
      "name": "180041205_Math_4642_L1.ipynb",
      "provenance": [],
      "collapsed_sections": []
    },
    "kernelspec": {
      "name": "python3",
      "display_name": "Python 3"
    },
    "language_info": {
      "name": "python"
    }
  },
  "cells": [
    {
      "cell_type": "markdown",
      "metadata": {
        "id": "pQkkr35QlSMM"
      },
      "source": [
        "# **Lab 1 : Bisection Method**<br>\n",
        "\n",
        "The bisection method (also known as the binary search method) is a method of finding roots of a non-linear function. The assumption here is that the function is real continuous, otherwise the bisection method will not work. It is based on the **Intermediate Value Theorem** which states that if f(x) is a real continuous function, and if f(x<sub>l</sub>)f(x<sub>u</sub>)\\< 0 then there must be a root between x<sub>l</sub> and x<sub>u</sub>.\n",
        "\n",
        "In today's lab, we will be implementing the bisection method in python. We will be considering the function f(x) as an array of coefficients, for instance if we want to have f(x) = x<sup>3</sup>-2x<sup>2</sup>+4, then in python we will create an array as follows:\n"
      ]
    },
    {
      "cell_type": "code",
      "metadata": {
        "id": "BkuHfuYolFj1"
      },
      "source": [
        "fu = [1,-2,0,4]\n",
        "#fu=\"(x**3) - (2*x**2) + 4\""
      ],
      "execution_count": null,
      "outputs": []
    },
    {
      "cell_type": "markdown",
      "metadata": {
        "id": "QlVEtB92p2iT"
      },
      "source": [
        "Next, you will need to create a user-defined function as follows\n",
        "\n",
        "```\n",
        "bisection_method(f, xl, xu, epsilon)\n",
        "```\n",
        "This function will return the root of the equation represented by the array f and in case it does not reach the root exactly then it will return the close enough value to the root that has an absolute relative approximate error of at most epsilon (%).\n",
        "\n",
        "In python, functions are defined as follows"
      ]
    },
    {
      "cell_type": "code",
      "metadata": {
        "colab": {
          "base_uri": "https://localhost:8080/"
        },
        "id": "2qWLJQbdsTEv",
        "outputId": "40cc280e-959e-4c04-f7fe-561567cbec46"
      },
      "source": [
        "#Execute this cell to test how the function works\n",
        "\n",
        "def func(a,b):\n",
        "  result = a + b\n",
        "  return result\n",
        "\n",
        "print(func(1,2))"
      ],
      "execution_count": null,
      "outputs": [
        {
          "output_type": "stream",
          "name": "stdout",
          "text": [
            "3\n"
          ]
        }
      ]
    },
    {
      "cell_type": "markdown",
      "metadata": {
        "id": "Q3VKrCkMsqQm"
      },
      "source": [
        "Note that in python, we do not need to specify the data type for parameters nor any return type for the function as these are implicitly determined. Also, note the colon (:) after the function signature. Indentation matters in python, since the consecutive codes having same indentation will be considered as a single block."
      ]
    },
    {
      "cell_type": "markdown",
      "metadata": {
        "id": "zji3yZuNw_Pu"
      },
      "source": [
        "##Task 1\n",
        "Implement the function for bisection method following the requirements set earlier. Write a script after the function to call it and test whether it is working correctly."
      ]
    },
    {
      "cell_type": "code",
      "metadata": {
        "id": "F8R7WQ6AtrQP",
        "colab": {
          "base_uri": "https://localhost:8080/"
        },
        "outputId": "ff569632-38f8-49ef-ceb1-71228d55059b"
      },
      "source": [
        "#Complete the following function\n",
        "iterList=[]\n",
        "xmidList=[]\n",
        "# def f(x):\n",
        "#     func=eval(fu)\n",
        "#     return func\n",
        "def f(x):\n",
        "  degree=len(fu)\n",
        "  val=0\n",
        "  for i in range(degree):\n",
        "    val += (fu[i]*(pow(x,(degree-(i+1)))))\n",
        "  return val\n",
        "\n",
        "def bisection_method(fu, xl, xu, epsilon):\n",
        "  #write your implementation here\n",
        "  iterN=0\n",
        "  error=abs(xu-xl)\n",
        "  while error>epsilon:\n",
        "    m=(xl+xu)/2\n",
        "    xmidList.append(m)\n",
        "    iterN+=1\n",
        "    iterList.append(iterN)\n",
        "    if f(xl)*f(xu)>0:\n",
        "      print(\"No/Multiple Roots\")\n",
        "      quit()\n",
        "    \n",
        "    elif f(m)*f(xl)>0:\n",
        "      xl=m\n",
        "      error=abs(xu-xl)\n",
        "\n",
        "    elif f(m)*f(xl)<0:\n",
        "      xu=m\n",
        "      error=abs(xu-xl)\n",
        "\n",
        "    elif f(m)*f(xl)==0:\n",
        "      print(f\"Error: {error}, Root: {m}\")\n",
        "  \n",
        "  print(f\"Error: {error}, Root: {m}\")\n",
        "\n",
        "\n",
        "\n",
        "#Write a driver code here for calling the function and testing it\n",
        "bisection_method(fu,-2,2,0.0025)\n",
        "\n"
      ],
      "execution_count": null,
      "outputs": [
        {
          "output_type": "stream",
          "name": "stdout",
          "text": [
            "Error: 0.001953125, Root: -1.130859375\n"
          ]
        }
      ]
    },
    {
      "cell_type": "markdown",
      "metadata": {
        "id": "aeHe7669wBy3"
      },
      "source": [
        "We can plot graphs in python using the matplotlib library. An example of plotting graphs is shown here"
      ]
    },
    {
      "cell_type": "code",
      "metadata": {
        "colab": {
          "base_uri": "https://localhost:8080/",
          "height": 295
        },
        "id": "ijv7dJTcyz3g",
        "outputId": "7028e270-899f-4773-8f4f-0839caccc97d"
      },
      "source": [
        "import numpy as np\n",
        "import matplotlib.pyplot as plt\n",
        "\n",
        "iters = np.arange(0, 5) #start=0, stop=5, and since no step is given, so default step=1\n",
        "vals = np.arange(100, 200, 20) #start=100, stop=200, step=20\n",
        "\n",
        "plt.plot(iters, vals)\n",
        "plt.title(\"Iterations vs values plot\")\n",
        "plt.xlabel(\"Iteration\")\n",
        "plt.ylabel(\"Value\")\n",
        "plt.show()"
      ],
      "execution_count": null,
      "outputs": [
        {
          "output_type": "display_data",
          "data": {
            "image/png": "[encoded data removed]",
            "text/plain": [
              "<Figure size 432x288 with 1 Axes>"
            ]
          },
          "metadata": {
            "needs_background": "light"
          }
        }
      ]
    },
    {
      "cell_type": "markdown",
      "metadata": {
        "id": "qfiOgreb1cY_"
      },
      "source": [
        "## Task 2\n",
        "Generate a plot of **iteration vs xmid** for the bisection method function you implemented earlier."
      ]
    },
    {
      "cell_type": "code",
      "metadata": {
        "colab": {
          "base_uri": "https://localhost:8080/",
          "height": 312
        },
        "id": "SjBECrvH2vMN",
        "outputId": "fddd0831-3c8a-4ea9-e6f9-34ba395f043d"
      },
      "source": [
        "plt.plot(iterList, xmidList)\n",
        "print(iterList,xmidList)\n",
        "plt.title(\"Iterations vs xmid plot\")\n",
        "plt.xlabel(\"Iteration\")\n",
        "plt.ylabel(\"xmid\")\n",
        "plt.show()"
      ],
      "execution_count": null,
      "outputs": [
        {
          "output_type": "stream",
          "name": "stdout",
          "text": [
            "[1, 2, 3, 4, 5, 6, 7, 8, 9, 10, 11] [0.0, -1.0, -1.5, -1.25, -1.125, -1.1875, -1.15625, -1.140625, -1.1328125, -1.12890625, -1.130859375]\n"
          ]
        },
        {
          "output_type": "display_data",
          "data": {
            "image/png": "[encoded data removed]",
            "text/plain": [
              "<Figure size 432x288 with 1 Axes>"
            ]
          },
          "metadata": {
            "needs_background": "light"
          }
        }
      ]
    },
    {
      "cell_type": "code",
      "metadata": {
        "id": "yGyfUAaC3G2S"
      },
      "source": [
        ""
      ],
      "execution_count": null,
      "outputs": []
    }
  ]
}