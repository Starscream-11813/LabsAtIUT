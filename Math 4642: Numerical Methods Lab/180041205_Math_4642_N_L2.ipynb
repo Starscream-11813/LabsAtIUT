{
  "nbformat": 4,
  "nbformat_minor": 0,
  "metadata": {
    "colab": {
      "name": "180041205_Math_4642_N_L2.ipynb",
      "provenance": [],
      "collapsed_sections": []
    },
    "kernelspec": {
      "name": "python3",
      "display_name": "Python 3"
    },
    "language_info": {
      "name": "python"
    }
  },
  "cells": [
    {
      "cell_type": "markdown",
      "metadata": {
        "id": "SChhcgB_Tkv9"
      },
      "source": [
        "# **Lab 2 : False Position and Newton-Raphson method**<br>\n",
        "\n",
        "The False Position method is one of the methods of finding roots of a non-linear function. Similar to the Bisection method, it falls under the category of **Bracketing methods** since the initial boundary guesses, x<sub>l</sub> and x<sub>u</sub>, must bracket the actual root. And the assumption here is that the function is real continuous, otherwise the False position method wouldn't work. The main difference between the Bisection method and False position method is that it takes advantage of the fact that one of the boundary values, either x<sub>l</sub> or x<sub>u</sub>, would be closer to the root of the function than the mid-point x<sub>m</sub>.\n",
        "\n",
        "In today's lab, we will be implementing the False position method in python. Just like in the previous lab for Bisection method, we will be considering the function f(x) as an array of coefficients, for instance if we want to have f(x) = x<sup>3</sup>+x-2, then in python we will create an array as follows:\n"
      ]
    },
    {
      "cell_type": "code",
      "metadata": {
        "id": "rZ4tGQSjTvYF"
      },
      "source": [
        "f = [1,0,1,-2]"
      ],
      "execution_count": null,
      "outputs": []
    },
    {
      "cell_type": "markdown",
      "metadata": {
        "id": "E4vSfOrrTwlc"
      },
      "source": [
        "Note that your implementation should be able to handle the array f of any size,which means it should be able to find the root of any given polynomial. But for testing purposes, you can use the array f given here.\n",
        "\n",
        "Next, you will need to create a user-defined function as follows\n",
        "```\n",
        "func(f, x)\n",
        "```\n",
        "This function will take the coefficent array f and a point x as input and evaluate the value of the function at that point x using a loop and return that value. This function will be called in the other function that you will implement, which is as follows:\n",
        "```\n",
        "falseposition(f, xl, xu, epsilon)\n",
        "```\n",
        "This function will return the root of the equation represented by the array f and in case it does not reach the root exactly then it will return the close enough value to the root that has an absolute relative approximate error of at most epsilon (%)."
      ]
    },
    {
      "cell_type": "markdown",
      "metadata": {
        "id": "3sOLCbqJT7q0"
      },
      "source": [
        "##Task 1\n",
        "Implement the function for False position method following the requirements set earlier. Write a script after the function to call it and test whether it is working correctly. For the function given above, there is only one real root and it is 1."
      ]
    },
    {
      "cell_type": "code",
      "metadata": {
        "id": "f6HGUB7nT9k9",
        "colab": {
          "base_uri": "https://localhost:8080/"
        },
        "outputId": "7dbd54e0-fe27-4254-f715-4ca0739b3330"
      },
      "source": [
        "# Write a function to return the value of the polynomial at the point x\n",
        "def func(f, x):\n",
        "    degree=len(f)\n",
        "    val=0\n",
        "    for i in range(degree):\n",
        "        val += (f[i]*(pow(x,(degree-(i+1)))))\n",
        "    return val\n",
        "\n",
        "  \n",
        "\n",
        "#Complete the following function\n",
        "MAX_ITERS=10000\n",
        "xrList = []\n",
        "itersList1 = []\n",
        "errorList1 = []\n",
        "def falseposition(f, xl, xu, epsilon):\n",
        "    #write your implementation here\n",
        "    iters=0\n",
        "    xr2=xl\n",
        "    while iters<=MAX_ITERS:\n",
        "        iters+=1\n",
        "        if iters>1: itersList1.append(iters)\n",
        "        fxl=func(f,xl)\n",
        "        fxu=func(f,xu)\n",
        "        xr=((fxl*xu)-(fxu*xl))/(fxl-fxu)\n",
        "        if iters>1: xrList.append(xr)\n",
        "        fxr=func(f,xr)\n",
        "        error=abs((xr-xr2)/xr)\n",
        "        if iters>1:\n",
        "            errorList1.append(error*100)\n",
        "        if fxl*fxr==0 or error<=epsilon:\n",
        "            return xr\n",
        "        elif fxl*fxr<0:\n",
        "            xu=xr\n",
        "        else:\n",
        "            xl=xr\n",
        "        xr2=xr\n",
        "\n",
        "\n",
        "#Write a driver code here for calling the function and testing it\n",
        "print(f'Root: {falseposition(f, -2, 2, 0.0002)}')\n"
      ],
      "execution_count": null,
      "outputs": [
        {
          "output_type": "stream",
          "name": "stdout",
          "text": [
            "Root: 0.9998009749940354\n"
          ]
        }
      ]
    },
    {
      "cell_type": "markdown",
      "metadata": {
        "id": "5Jb9dNIqT_f8"
      },
      "source": [
        "In case you do not remember how graphs can be plotted in Python, here is a sample code showing how to do it using the matplotlib library."
      ]
    },
    {
      "cell_type": "code",
      "metadata": {
        "colab": {
          "base_uri": "https://localhost:8080/",
          "height": 295
        },
        "id": "0XJwGIRjUCy7",
        "outputId": "72ae5ce4-b6d5-4128-9483-87f256aa6b01"
      },
      "source": [
        "import numpy as np\n",
        "import matplotlib.pyplot as plt\n",
        "import random\n",
        "\n",
        "iters = np.arange(0, 5) #start=0, stop=5, and since no step is given, so default step=1\n",
        "vals = np.arange(100, 200, 20) #start=100, stop=200, step=20\n",
        "\n",
        "plt.plot(iters, vals)\n",
        "plt.title(\"Iterations vs values plot\")\n",
        "plt.xlabel(\"Iteration\")\n",
        "plt.ylabel(\"Value\")\n",
        "plt.show()"
      ],
      "execution_count": null,
      "outputs": [
        {
          "output_type": "display_data",
          "data": {
            "image/png": "[encoded data removed]",
            "text/plain": [
              "<Figure size 432x288 with 1 Axes>"
            ]
          },
          "metadata": {
            "needs_background": "light"
          }
        }
      ]
    },
    {
      "cell_type": "code",
      "metadata": {
        "colab": {
          "base_uri": "https://localhost:8080/",
          "height": 332
        },
        "id": "6zom7McauyZI",
        "outputId": "6bc9fb54-3839-423a-b3b5-a1482b1befde"
      },
      "source": [
        "plt.plot(itersList1, xrList)\n",
        "print(itersList1,xrList)\n",
        "plt.title(\"Iterations vs xr plot\")\n",
        "plt.xlabel(\"Iterations\")\n",
        "plt.ylabel(\"xr\")\n",
        "plt.show()"
      ],
      "execution_count": null,
      "outputs": [
        {
          "output_type": "stream",
          "name": "stdout",
          "text": [
            "[2, 3, 4, 5, 6, 7, 8, 9, 10, 11, 12, 13] [0.6577181208053692, 0.81446870431805, 0.9029519296584194, 0.9503001287333893, 0.9748414024471593, 0.9873415881838427, 0.9936507650719328, 0.9968203434634182, 0.9984089079563476, 0.9992041375315376, 0.9996019895911415, 0.9998009749940354]\n"
          ]
        },
        {
          "output_type": "display_data",
          "data": {
            "image/png": "[encoded data removed]",
            "text/plain": [
              "<Figure size 432x288 with 1 Axes>"
            ]
          },
          "metadata": {
            "needs_background": "light"
          }
        }
      ]
    },
    {
      "cell_type": "markdown",
      "metadata": {
        "id": "Z6sc0ZNUUGNk"
      },
      "source": [
        "## Task 2\n",
        "Generate a plot of **iteration vs relative approx error (%)** for the False Position method function you implemented earlier."
      ]
    },
    {
      "cell_type": "code",
      "metadata": {
        "id": "zHadfasm8dUF",
        "colab": {
          "base_uri": "https://localhost:8080/",
          "height": 332
        },
        "outputId": "98c7a703-eeb6-4049-9296-a0363ea5a78d"
      },
      "source": [
        "# Write your code for generating the graph here\n",
        "plt.plot(itersList1, errorList1)\n",
        "print(itersList1,errorList1)\n",
        "plt.title(\"Iterations vs Error Percentage plot\")\n",
        "plt.xlabel(\"Iterations\")\n",
        "plt.ylabel(\"Error Percentage\")\n",
        "plt.show()\n",
        "\n",
        "\n"
      ],
      "execution_count": null,
      "outputs": [
        {
          "output_type": "stream",
          "name": "stdout",
          "text": [
            "[2, 3, 4, 5, 6, 7, 8, 9, 10, 11, 12, 13] [39.183673469387756, 19.24574666670921, 9.799328450833707, 4.982446875817864, 2.5174632152639065, 1.266044688715755, 0.6349491300027779, 0.3179688709474727, 0.15910960732322404, 0.07958629726599387, 0.039801047191462144, 0.01990250138484381]\n"
          ]
        },
        {
          "output_type": "display_data",
          "data": {
            "image/png": "[encoded data removed]",
            "text/plain": [
              "<Figure size 432x288 with 1 Axes>"
            ]
          },
          "metadata": {
            "needs_background": "light"
          }
        }
      ]
    },
    {
      "cell_type": "markdown",
      "metadata": {
        "id": "t1yWM5V18cA2"
      },
      "source": [
        "# **Newton-Raphson method**\n",
        "The Newton-Raphson method is another method of finding roots of a nonlinear function. Unlike the Bisection and False position method, it falls under the category of **Open methods** due to the fact that we only need one initial guess that does not have to bracket the actual root."
      ]
    },
    {
      "cell_type": "markdown",
      "metadata": {
        "id": "rcyU1bzM9u3g"
      },
      "source": [
        "## Task 3\n",
        "Implement the Newton-Raphson method for the above function and write a script for testing its implementation. The actual root is 1, and you can take the initial guess as 2."
      ]
    },
    {
      "cell_type": "code",
      "metadata": {
        "id": "HcPhTbIu_sn4",
        "colab": {
          "base_uri": "https://localhost:8080/"
        },
        "outputId": "d2ac4562-2d64-4702-dd03-4ab736e1ad0e"
      },
      "source": [
        "Xi = 2\n",
        "epsilon = 0.01\n",
        "\n",
        "# Write a function for evaluating the derivative of the polynomial given by array f\n",
        "def derivative(f, x):\n",
        "    degree=len(f)\n",
        "    val=0\n",
        "    for i in range(degree):\n",
        "        val += ((degree-(i+1))*f[i]*(pow(x,(degree-(i+1)-1))))\n",
        "    return val\n",
        "\n",
        "# Complete the following function\n",
        "def newtonraphson(f, Xi, epsilon):\n",
        "    # write your implementation here\n",
        "    iters = 0\n",
        "    dfx=derivative(f,Xi)\n",
        "    fx=func(f,Xi)\n",
        "    x_next=Xi-(fx/dfx)\n",
        "    error=abs((x_next-Xi)/x_next)\n",
        "    iters+=1\n",
        "    Xi=x_next\n",
        "    while error>epsilon and iters<=MAX_ITERS:\n",
        "        #iters+=1\n",
        "        dfx=derivative(f,Xi)\n",
        "        fx=func(f,Xi)\n",
        "        x_next=Xi-(fx/dfx)\n",
        "        iters+=1\n",
        "        # if x_next <= 0.00001:\n",
        "        #   break\n",
        "        error=abs((x_next-Xi)/x_next)\n",
        "        Xi=x_next\n",
        "    \n",
        "    return x_next\n",
        "\n",
        "# Write a script here for calling the above function\n",
        "a=-2\n",
        "b=2\n",
        "init_guess=random.uniform(a, b)\n",
        "print(newtonraphson(f, init_guess, 0.0002))"
      ],
      "execution_count": null,
      "outputs": [
        {
          "output_type": "stream",
          "name": "stdout",
          "text": [
            "1.0000000000686369\n"
          ]
        }
      ]
    }
  ]
}